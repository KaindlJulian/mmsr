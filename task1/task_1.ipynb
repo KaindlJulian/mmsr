{
 "cells": [
  {
   "cell_type": "markdown",
   "metadata": {},
   "source": [
    "# Read and Explore Data"
   ]
  },
  {
   "cell_type": "code",
   "execution_count": 52,
   "metadata": {
    "collapsed": false,
    "jupyter": {
     "outputs_hidden": false
    },
    "ExecuteTime": {
     "end_time": "2023-11-24T01:38:11.010259Z",
     "start_time": "2023-11-24T01:38:10.880575Z"
    }
   },
   "outputs": [],
   "source": [
    "import pandas as pd\n",
    "from utils import read, embed_and_merge"
   ]
  },
  {
   "cell_type": "code",
   "execution_count": 53,
   "metadata": {
    "collapsed": false,
    "jupyter": {
     "outputs_hidden": false
    },
    "ExecuteTime": {
     "end_time": "2023-11-24T01:38:11.095503500Z",
     "start_time": "2023-11-24T01:38:10.896093700Z"
    }
   },
   "outputs": [],
   "source": [
    "df = read(\"information\", 0)"
   ]
  },
  {
   "cell_type": "code",
   "execution_count": 54,
   "metadata": {
    "collapsed": false,
    "jupyter": {
     "outputs_hidden": false
    },
    "ExecuteTime": {
     "end_time": "2023-11-24T01:38:12.147693600Z",
     "start_time": "2023-11-24T01:38:10.925136600Z"
    }
   },
   "outputs": [],
   "source": [
    "# read bert embedding\n",
    "bert = read(\"lyrics_bert\", 0)\n",
    "df = embed_and_merge(df, bert, \"bert_embedding\")"
   ]
  },
  {
   "cell_type": "code",
   "execution_count": 55,
   "metadata": {
    "collapsed": false,
    "jupyter": {
     "outputs_hidden": false
    },
    "ExecuteTime": {
     "end_time": "2023-11-24T01:38:12.628948700Z",
     "start_time": "2023-11-24T01:38:12.148694700Z"
    }
   },
   "outputs": [],
   "source": [
    "# read word2vec embedding\n",
    "word2vec = read(\"lyrics_word2vec\", 0)\n",
    "df = embed_and_merge(df, word2vec, \"word2vec_embedding\")"
   ]
  },
  {
   "cell_type": "code",
   "execution_count": 56,
   "metadata": {
    "collapsed": false,
    "jupyter": {
     "outputs_hidden": false
    },
    "ExecuteTime": {
     "end_time": "2023-11-24T01:38:13.084316800Z",
     "start_time": "2023-11-24T01:38:12.631457Z"
    }
   },
   "outputs": [],
   "source": [
    "# read tf-idf term weighting\n",
    "tfidf_weighting = read(\"lyrics_tf-idf\", 0)\n",
    "df = embed_and_merge(df, tfidf_weighting, \"tf-idf\")"
   ]
  },
  {
   "cell_type": "code",
   "execution_count": 57,
   "metadata": {
    "ExecuteTime": {
     "end_time": "2023-11-24T01:38:13.128004800Z",
     "start_time": "2023-11-24T01:38:13.084316800Z"
    }
   },
   "outputs": [
    {
     "data": {
      "text/plain": "                     id                       artist  \\\n0      01Yfj2T3YTwJ1Yfy                  We As Human   \n1      01gyRHLquwXDlhkO         The Notorious B.I.G.   \n2      01rMxQv6vhyE1oQX          Against the Current   \n3      02RGE9FNH65RtMS7                     Barthezz   \n4      02ZnlCGZEbkfCDxo                Laura Pausini   \n...                 ...                          ...   \n10090  zyzILCQvVeUFIINi                Crowded House   \n10091  zzgS4ZqyswamEWNj               Britney Spears   \n10092  zzoFYDMlqU1X2zz1                   Thundercat   \n10093  zzpkRCGA5ud8q4mv                 Otis Redding   \n10094  zzx8CWdM7qkxKQpC  Ted Leo and the Pharmacists   \n\n                                            song  \\\n0      Take The Bullets Away (feat. Lacey Sturm)   \n1                           Somebody's Gotta Die   \n2                                 Chasing Ghosts   \n3                                       Infected   \n4                               Tra Te E Il Mare   \n...                                          ...   \n10090                              When You Come   \n10091                   My Only Wish (This Year)   \n10092                                        DUI   \n10093                               Rock Me Baby   \n10094                    Counting Down the Hours   \n\n                                        album_name  \\\n0                                      We As Human   \n1            Life After Death (Remastered Edition)   \n2                                     In Our Bones   \n3             Trance - The Early Years (1997-2002)   \n4      The Best of Laura Pausini - E Ritorno Da Te   \n...                                            ...   \n10090                            Temple Of Low Men   \n10091                           Platinum Christmas   \n10092                                        Drunk   \n10093                                    Otis Blue   \n10094                             Shake the Sheets   \n\n                                          bert_embedding  \\\n0      [0.0302475523203611, 0.0352500043809413, 0.010...   \n1      [0.0084422621876001, 0.0302564185112714, 0.009...   \n2      [0.0490818135440349, 0.0148476688191294, 0.001...   \n3      [0.0445394963026046, 0.0214906893670558, 0.013...   \n4      [0.0514551289379596, 0.0297695714980363, -0.01...   \n...                                                  ...   \n10090  [0.006713552866131, 0.0480893477797508, -0.001...   \n10091  [0.0098905526101589, 0.0401467233896255, -0.02...   \n10092  [0.0101165119558572, 0.0388841480016708, -0.01...   \n10093  [-0.0166116580367088, 0.0266939438879489, -0.0...   \n10094  [0.0070628975518047, 0.0539373308420181, 0.000...   \n\n                                      word2vec_embedding  \\\n0      [0.0193592727054678, 0.0232394714425702, 0.028...   \n1      [0.018537292381979, 0.0113115924403394, 0.0107...   \n2      [0.0227837218553759, 0.0231641749730655, 0.012...   \n3      [0.0381116103401342, 0.0278804157207017, 0.016...   \n4      [0.0182936789026777, -0.0064870788035669, 0.00...   \n...                                                  ...   \n10090  [0.0195101330379449, 0.0236336907562543, 0.011...   \n10091  [0.0268563718791583, 0.0082648759004199, 0.011...   \n10092  [0.0051499218912795, 0.0028818239457905, 0.017...   \n10093  [0.0370260450523346, 0.0159991827379498, -0.00...   \n10094  [0.0294775550027151, 0.0302836241438903, 0.012...   \n\n                                                  tf-idf  \n0      [0.0, 0.0, 0.0, 0.0, 0.0, 0.0818293914712727, ...  \n1      [0.0, 0.0, 0.0, 0.0, 0.0, 0.0, 0.0, 0.0, 0.0, ...  \n2      [0.0, 0.0, 0.0, 0.0, 0.0, 0.0, 0.0, 0.0, 0.0, ...  \n3      [0.0, 0.0, 0.0, 0.0, 0.0, 0.0, 0.0, 0.0, 0.0, ...  \n4      [0.0, 0.0, 0.0, 0.0, 0.0, 0.2413163920156013, ...  \n...                                                  ...  \n10090  [0.0, 0.0, 0.079623055470056, 0.0, 0.0, 0.0, 0...  \n10091  [0.0, 0.0, 0.0, 0.0, 0.0, 0.0, 0.0, 0.0, 0.0, ...  \n10092  [0.0, 0.0, 0.0, 0.0, 0.0, 0.0, 0.0, 0.0, 0.0, ...  \n10093  [0.0, 0.0, 0.0, 0.0, 0.0, 0.0, 0.0, 0.0, 0.0, ...  \n10094  [0.0, 0.0, 0.0, 0.0748577176019516, 0.0, 0.0, ...  \n\n[10095 rows x 7 columns]",
      "text/html": "<div>\n<style scoped>\n    .dataframe tbody tr th:only-of-type {\n        vertical-align: middle;\n    }\n\n    .dataframe tbody tr th {\n        vertical-align: top;\n    }\n\n    .dataframe thead th {\n        text-align: right;\n    }\n</style>\n<table border=\"1\" class=\"dataframe\">\n  <thead>\n    <tr style=\"text-align: right;\">\n      <th></th>\n      <th>id</th>\n      <th>artist</th>\n      <th>song</th>\n      <th>album_name</th>\n      <th>bert_embedding</th>\n      <th>word2vec_embedding</th>\n      <th>tf-idf</th>\n    </tr>\n  </thead>\n  <tbody>\n    <tr>\n      <th>0</th>\n      <td>01Yfj2T3YTwJ1Yfy</td>\n      <td>We As Human</td>\n      <td>Take The Bullets Away (feat. Lacey Sturm)</td>\n      <td>We As Human</td>\n      <td>[0.0302475523203611, 0.0352500043809413, 0.010...</td>\n      <td>[0.0193592727054678, 0.0232394714425702, 0.028...</td>\n      <td>[0.0, 0.0, 0.0, 0.0, 0.0, 0.0818293914712727, ...</td>\n    </tr>\n    <tr>\n      <th>1</th>\n      <td>01gyRHLquwXDlhkO</td>\n      <td>The Notorious B.I.G.</td>\n      <td>Somebody's Gotta Die</td>\n      <td>Life After Death (Remastered Edition)</td>\n      <td>[0.0084422621876001, 0.0302564185112714, 0.009...</td>\n      <td>[0.018537292381979, 0.0113115924403394, 0.0107...</td>\n      <td>[0.0, 0.0, 0.0, 0.0, 0.0, 0.0, 0.0, 0.0, 0.0, ...</td>\n    </tr>\n    <tr>\n      <th>2</th>\n      <td>01rMxQv6vhyE1oQX</td>\n      <td>Against the Current</td>\n      <td>Chasing Ghosts</td>\n      <td>In Our Bones</td>\n      <td>[0.0490818135440349, 0.0148476688191294, 0.001...</td>\n      <td>[0.0227837218553759, 0.0231641749730655, 0.012...</td>\n      <td>[0.0, 0.0, 0.0, 0.0, 0.0, 0.0, 0.0, 0.0, 0.0, ...</td>\n    </tr>\n    <tr>\n      <th>3</th>\n      <td>02RGE9FNH65RtMS7</td>\n      <td>Barthezz</td>\n      <td>Infected</td>\n      <td>Trance - The Early Years (1997-2002)</td>\n      <td>[0.0445394963026046, 0.0214906893670558, 0.013...</td>\n      <td>[0.0381116103401342, 0.0278804157207017, 0.016...</td>\n      <td>[0.0, 0.0, 0.0, 0.0, 0.0, 0.0, 0.0, 0.0, 0.0, ...</td>\n    </tr>\n    <tr>\n      <th>4</th>\n      <td>02ZnlCGZEbkfCDxo</td>\n      <td>Laura Pausini</td>\n      <td>Tra Te E Il Mare</td>\n      <td>The Best of Laura Pausini - E Ritorno Da Te</td>\n      <td>[0.0514551289379596, 0.0297695714980363, -0.01...</td>\n      <td>[0.0182936789026777, -0.0064870788035669, 0.00...</td>\n      <td>[0.0, 0.0, 0.0, 0.0, 0.0, 0.2413163920156013, ...</td>\n    </tr>\n    <tr>\n      <th>...</th>\n      <td>...</td>\n      <td>...</td>\n      <td>...</td>\n      <td>...</td>\n      <td>...</td>\n      <td>...</td>\n      <td>...</td>\n    </tr>\n    <tr>\n      <th>10090</th>\n      <td>zyzILCQvVeUFIINi</td>\n      <td>Crowded House</td>\n      <td>When You Come</td>\n      <td>Temple Of Low Men</td>\n      <td>[0.006713552866131, 0.0480893477797508, -0.001...</td>\n      <td>[0.0195101330379449, 0.0236336907562543, 0.011...</td>\n      <td>[0.0, 0.0, 0.079623055470056, 0.0, 0.0, 0.0, 0...</td>\n    </tr>\n    <tr>\n      <th>10091</th>\n      <td>zzgS4ZqyswamEWNj</td>\n      <td>Britney Spears</td>\n      <td>My Only Wish (This Year)</td>\n      <td>Platinum Christmas</td>\n      <td>[0.0098905526101589, 0.0401467233896255, -0.02...</td>\n      <td>[0.0268563718791583, 0.0082648759004199, 0.011...</td>\n      <td>[0.0, 0.0, 0.0, 0.0, 0.0, 0.0, 0.0, 0.0, 0.0, ...</td>\n    </tr>\n    <tr>\n      <th>10092</th>\n      <td>zzoFYDMlqU1X2zz1</td>\n      <td>Thundercat</td>\n      <td>DUI</td>\n      <td>Drunk</td>\n      <td>[0.0101165119558572, 0.0388841480016708, -0.01...</td>\n      <td>[0.0051499218912795, 0.0028818239457905, 0.017...</td>\n      <td>[0.0, 0.0, 0.0, 0.0, 0.0, 0.0, 0.0, 0.0, 0.0, ...</td>\n    </tr>\n    <tr>\n      <th>10093</th>\n      <td>zzpkRCGA5ud8q4mv</td>\n      <td>Otis Redding</td>\n      <td>Rock Me Baby</td>\n      <td>Otis Blue</td>\n      <td>[-0.0166116580367088, 0.0266939438879489, -0.0...</td>\n      <td>[0.0370260450523346, 0.0159991827379498, -0.00...</td>\n      <td>[0.0, 0.0, 0.0, 0.0, 0.0, 0.0, 0.0, 0.0, 0.0, ...</td>\n    </tr>\n    <tr>\n      <th>10094</th>\n      <td>zzx8CWdM7qkxKQpC</td>\n      <td>Ted Leo and the Pharmacists</td>\n      <td>Counting Down the Hours</td>\n      <td>Shake the Sheets</td>\n      <td>[0.0070628975518047, 0.0539373308420181, 0.000...</td>\n      <td>[0.0294775550027151, 0.0302836241438903, 0.012...</td>\n      <td>[0.0, 0.0, 0.0, 0.0748577176019516, 0.0, 0.0, ...</td>\n    </tr>\n  </tbody>\n</table>\n<p>10095 rows × 7 columns</p>\n</div>"
     },
     "execution_count": 57,
     "metadata": {},
     "output_type": "execute_result"
    }
   ],
   "source": [
    "df"
   ]
  },
  {
   "cell_type": "code",
   "execution_count": 58,
   "metadata": {
    "ExecuteTime": {
     "end_time": "2023-11-24T01:38:13.133516300Z",
     "start_time": "2023-11-24T01:38:13.116485900Z"
    }
   },
   "outputs": [
    {
     "name": "stdout",
     "output_type": "stream",
     "text": [
      "<class 'pandas.core.frame.DataFrame'>\n",
      "RangeIndex: 10095 entries, 0 to 10094\n",
      "Data columns (total 7 columns):\n",
      " #   Column              Non-Null Count  Dtype \n",
      "---  ------              --------------  ----- \n",
      " 0   id                  10095 non-null  object\n",
      " 1   artist              10095 non-null  object\n",
      " 2   song                10095 non-null  object\n",
      " 3   album_name          10095 non-null  object\n",
      " 4   bert_embedding      10095 non-null  object\n",
      " 5   word2vec_embedding  10095 non-null  object\n",
      " 6   tf-idf              10095 non-null  object\n",
      "dtypes: object(7)\n",
      "memory usage: 552.2+ KB\n"
     ]
    }
   ],
   "source": [
    "df.info()"
   ]
  },
  {
   "cell_type": "code",
   "execution_count": 59,
   "metadata": {
    "ExecuteTime": {
     "end_time": "2023-11-24T01:38:13.190690900Z",
     "start_time": "2023-11-24T01:38:13.146031400Z"
    }
   },
   "outputs": [
    {
     "data": {
      "text/plain": "                     id                       artist  \\\n0      01Yfj2T3YTwJ1Yfy                  We As Human   \n1      01gyRHLquwXDlhkO         The Notorious B.I.G.   \n2      01rMxQv6vhyE1oQX          Against the Current   \n3      02RGE9FNH65RtMS7                     Barthezz   \n4      02ZnlCGZEbkfCDxo                Laura Pausini   \n...                 ...                          ...   \n10090  zyzILCQvVeUFIINi                Crowded House   \n10091  zzgS4ZqyswamEWNj               Britney Spears   \n10092  zzoFYDMlqU1X2zz1                   Thundercat   \n10093  zzpkRCGA5ud8q4mv                 Otis Redding   \n10094  zzx8CWdM7qkxKQpC  Ted Leo and the Pharmacists   \n\n                                            song  \\\n0      Take The Bullets Away (feat. Lacey Sturm)   \n1                           Somebody's Gotta Die   \n2                                 Chasing Ghosts   \n3                                       Infected   \n4                               Tra Te E Il Mare   \n...                                          ...   \n10090                              When You Come   \n10091                   My Only Wish (This Year)   \n10092                                        DUI   \n10093                               Rock Me Baby   \n10094                    Counting Down the Hours   \n\n                                        album_name  \\\n0                                      We As Human   \n1            Life After Death (Remastered Edition)   \n2                                     In Our Bones   \n3             Trance - The Early Years (1997-2002)   \n4      The Best of Laura Pausini - E Ritorno Da Te   \n...                                            ...   \n10090                            Temple Of Low Men   \n10091                           Platinum Christmas   \n10092                                        Drunk   \n10093                                    Otis Blue   \n10094                             Shake the Sheets   \n\n                                          bert_embedding  \\\n0      [0.0302475523203611, 0.0352500043809413, 0.010...   \n1      [0.0084422621876001, 0.0302564185112714, 0.009...   \n2      [0.0490818135440349, 0.0148476688191294, 0.001...   \n3      [0.0445394963026046, 0.0214906893670558, 0.013...   \n4      [0.0514551289379596, 0.0297695714980363, -0.01...   \n...                                                  ...   \n10090  [0.006713552866131, 0.0480893477797508, -0.001...   \n10091  [0.0098905526101589, 0.0401467233896255, -0.02...   \n10092  [0.0101165119558572, 0.0388841480016708, -0.01...   \n10093  [-0.0166116580367088, 0.0266939438879489, -0.0...   \n10094  [0.0070628975518047, 0.0539373308420181, 0.000...   \n\n                                      word2vec_embedding  \\\n0      [0.0193592727054678, 0.0232394714425702, 0.028...   \n1      [0.018537292381979, 0.0113115924403394, 0.0107...   \n2      [0.0227837218553759, 0.0231641749730655, 0.012...   \n3      [0.0381116103401342, 0.0278804157207017, 0.016...   \n4      [0.0182936789026777, -0.0064870788035669, 0.00...   \n...                                                  ...   \n10090  [0.0195101330379449, 0.0236336907562543, 0.011...   \n10091  [0.0268563718791583, 0.0082648759004199, 0.011...   \n10092  [0.0051499218912795, 0.0028818239457905, 0.017...   \n10093  [0.0370260450523346, 0.0159991827379498, -0.00...   \n10094  [0.0294775550027151, 0.0302836241438903, 0.012...   \n\n                                                  tf-idf  \n0      [0.0, 0.0, 0.0, 0.0, 0.0, 0.0818293914712727, ...  \n1      [0.0, 0.0, 0.0, 0.0, 0.0, 0.0, 0.0, 0.0, 0.0, ...  \n2      [0.0, 0.0, 0.0, 0.0, 0.0, 0.0, 0.0, 0.0, 0.0, ...  \n3      [0.0, 0.0, 0.0, 0.0, 0.0, 0.0, 0.0, 0.0, 0.0, ...  \n4      [0.0, 0.0, 0.0, 0.0, 0.0, 0.2413163920156013, ...  \n...                                                  ...  \n10090  [0.0, 0.0, 0.079623055470056, 0.0, 0.0, 0.0, 0...  \n10091  [0.0, 0.0, 0.0, 0.0, 0.0, 0.0, 0.0, 0.0, 0.0, ...  \n10092  [0.0, 0.0, 0.0, 0.0, 0.0, 0.0, 0.0, 0.0, 0.0, ...  \n10093  [0.0, 0.0, 0.0, 0.0, 0.0, 0.0, 0.0, 0.0, 0.0, ...  \n10094  [0.0, 0.0, 0.0, 0.0748577176019516, 0.0, 0.0, ...  \n\n[10095 rows x 7 columns]",
      "text/html": "<div>\n<style scoped>\n    .dataframe tbody tr th:only-of-type {\n        vertical-align: middle;\n    }\n\n    .dataframe tbody tr th {\n        vertical-align: top;\n    }\n\n    .dataframe thead th {\n        text-align: right;\n    }\n</style>\n<table border=\"1\" class=\"dataframe\">\n  <thead>\n    <tr style=\"text-align: right;\">\n      <th></th>\n      <th>id</th>\n      <th>artist</th>\n      <th>song</th>\n      <th>album_name</th>\n      <th>bert_embedding</th>\n      <th>word2vec_embedding</th>\n      <th>tf-idf</th>\n    </tr>\n  </thead>\n  <tbody>\n    <tr>\n      <th>0</th>\n      <td>01Yfj2T3YTwJ1Yfy</td>\n      <td>We As Human</td>\n      <td>Take The Bullets Away (feat. Lacey Sturm)</td>\n      <td>We As Human</td>\n      <td>[0.0302475523203611, 0.0352500043809413, 0.010...</td>\n      <td>[0.0193592727054678, 0.0232394714425702, 0.028...</td>\n      <td>[0.0, 0.0, 0.0, 0.0, 0.0, 0.0818293914712727, ...</td>\n    </tr>\n    <tr>\n      <th>1</th>\n      <td>01gyRHLquwXDlhkO</td>\n      <td>The Notorious B.I.G.</td>\n      <td>Somebody's Gotta Die</td>\n      <td>Life After Death (Remastered Edition)</td>\n      <td>[0.0084422621876001, 0.0302564185112714, 0.009...</td>\n      <td>[0.018537292381979, 0.0113115924403394, 0.0107...</td>\n      <td>[0.0, 0.0, 0.0, 0.0, 0.0, 0.0, 0.0, 0.0, 0.0, ...</td>\n    </tr>\n    <tr>\n      <th>2</th>\n      <td>01rMxQv6vhyE1oQX</td>\n      <td>Against the Current</td>\n      <td>Chasing Ghosts</td>\n      <td>In Our Bones</td>\n      <td>[0.0490818135440349, 0.0148476688191294, 0.001...</td>\n      <td>[0.0227837218553759, 0.0231641749730655, 0.012...</td>\n      <td>[0.0, 0.0, 0.0, 0.0, 0.0, 0.0, 0.0, 0.0, 0.0, ...</td>\n    </tr>\n    <tr>\n      <th>3</th>\n      <td>02RGE9FNH65RtMS7</td>\n      <td>Barthezz</td>\n      <td>Infected</td>\n      <td>Trance - The Early Years (1997-2002)</td>\n      <td>[0.0445394963026046, 0.0214906893670558, 0.013...</td>\n      <td>[0.0381116103401342, 0.0278804157207017, 0.016...</td>\n      <td>[0.0, 0.0, 0.0, 0.0, 0.0, 0.0, 0.0, 0.0, 0.0, ...</td>\n    </tr>\n    <tr>\n      <th>4</th>\n      <td>02ZnlCGZEbkfCDxo</td>\n      <td>Laura Pausini</td>\n      <td>Tra Te E Il Mare</td>\n      <td>The Best of Laura Pausini - E Ritorno Da Te</td>\n      <td>[0.0514551289379596, 0.0297695714980363, -0.01...</td>\n      <td>[0.0182936789026777, -0.0064870788035669, 0.00...</td>\n      <td>[0.0, 0.0, 0.0, 0.0, 0.0, 0.2413163920156013, ...</td>\n    </tr>\n    <tr>\n      <th>...</th>\n      <td>...</td>\n      <td>...</td>\n      <td>...</td>\n      <td>...</td>\n      <td>...</td>\n      <td>...</td>\n      <td>...</td>\n    </tr>\n    <tr>\n      <th>10090</th>\n      <td>zyzILCQvVeUFIINi</td>\n      <td>Crowded House</td>\n      <td>When You Come</td>\n      <td>Temple Of Low Men</td>\n      <td>[0.006713552866131, 0.0480893477797508, -0.001...</td>\n      <td>[0.0195101330379449, 0.0236336907562543, 0.011...</td>\n      <td>[0.0, 0.0, 0.079623055470056, 0.0, 0.0, 0.0, 0...</td>\n    </tr>\n    <tr>\n      <th>10091</th>\n      <td>zzgS4ZqyswamEWNj</td>\n      <td>Britney Spears</td>\n      <td>My Only Wish (This Year)</td>\n      <td>Platinum Christmas</td>\n      <td>[0.0098905526101589, 0.0401467233896255, -0.02...</td>\n      <td>[0.0268563718791583, 0.0082648759004199, 0.011...</td>\n      <td>[0.0, 0.0, 0.0, 0.0, 0.0, 0.0, 0.0, 0.0, 0.0, ...</td>\n    </tr>\n    <tr>\n      <th>10092</th>\n      <td>zzoFYDMlqU1X2zz1</td>\n      <td>Thundercat</td>\n      <td>DUI</td>\n      <td>Drunk</td>\n      <td>[0.0101165119558572, 0.0388841480016708, -0.01...</td>\n      <td>[0.0051499218912795, 0.0028818239457905, 0.017...</td>\n      <td>[0.0, 0.0, 0.0, 0.0, 0.0, 0.0, 0.0, 0.0, 0.0, ...</td>\n    </tr>\n    <tr>\n      <th>10093</th>\n      <td>zzpkRCGA5ud8q4mv</td>\n      <td>Otis Redding</td>\n      <td>Rock Me Baby</td>\n      <td>Otis Blue</td>\n      <td>[-0.0166116580367088, 0.0266939438879489, -0.0...</td>\n      <td>[0.0370260450523346, 0.0159991827379498, -0.00...</td>\n      <td>[0.0, 0.0, 0.0, 0.0, 0.0, 0.0, 0.0, 0.0, 0.0, ...</td>\n    </tr>\n    <tr>\n      <th>10094</th>\n      <td>zzx8CWdM7qkxKQpC</td>\n      <td>Ted Leo and the Pharmacists</td>\n      <td>Counting Down the Hours</td>\n      <td>Shake the Sheets</td>\n      <td>[0.0070628975518047, 0.0539373308420181, 0.000...</td>\n      <td>[0.0294775550027151, 0.0302836241438903, 0.012...</td>\n      <td>[0.0, 0.0, 0.0, 0.0748577176019516, 0.0, 0.0, ...</td>\n    </tr>\n  </tbody>\n</table>\n<p>10095 rows × 7 columns</p>\n</div>"
     },
     "execution_count": 59,
     "metadata": {},
     "output_type": "execute_result"
    }
   ],
   "source": [
    "df"
   ]
  },
  {
   "cell_type": "markdown",
   "metadata": {},
   "source": [
    "# Define RS and functions"
   ]
  },
  {
   "cell_type": "code",
   "execution_count": 60,
   "metadata": {
    "ExecuteTime": {
     "end_time": "2023-11-24T01:38:13.214665200Z",
     "start_time": "2023-11-24T01:38:13.162544600Z"
    }
   },
   "outputs": [],
   "source": [
    "from retrieval_system import RetrievalSystem, SongInfo\n",
    "from similarity_measure import cosine_similarity, dot_product, manhattan_distance, euclidean_distance, random_similarity"
   ]
  },
  {
   "cell_type": "markdown",
   "metadata": {},
   "source": [
    "## Random Baseline"
   ]
  },
  {
   "cell_type": "code",
   "execution_count": 61,
   "metadata": {
    "ExecuteTime": {
     "end_time": "2023-11-24T01:38:13.235686700Z",
     "start_time": "2023-11-24T01:38:13.191658Z"
    }
   },
   "outputs": [],
   "source": [
    "rs = RetrievalSystem(df)"
   ]
  },
  {
   "cell_type": "code",
   "execution_count": 62,
   "metadata": {
    "ExecuteTime": {
     "end_time": "2023-11-24T01:38:13.265564100Z",
     "start_time": "2023-11-24T01:38:13.210352Z"
    }
   },
   "outputs": [
    {
     "data": {
      "text/plain": "                 id         artist                    song  \\\n0  V6cjvFvhBa5OrFss     Blackfield               Open Mind   \n1  L8bRrL53bYInlShC           Bent              Magic Love   \n2  Unhq5a0ezoDOMNoA     Miss May I  A Dance With Aera Cura   \n3  6AYff4IFMcQeMFHi         Hockey               Song Away   \n4  DggtWRgu03MbCOii  The Cardigans            Heartbreaker   \n\n                            album_name  \n0                           Blackfield  \n1                 Magic Love (Remixes)  \n2           Apologies Are For The Weak  \n3                           Mind Chaos  \n4  First Band On The Moon (Remastered)  ",
      "text/html": "<div>\n<style scoped>\n    .dataframe tbody tr th:only-of-type {\n        vertical-align: middle;\n    }\n\n    .dataframe tbody tr th {\n        vertical-align: top;\n    }\n\n    .dataframe thead th {\n        text-align: right;\n    }\n</style>\n<table border=\"1\" class=\"dataframe\">\n  <thead>\n    <tr style=\"text-align: right;\">\n      <th></th>\n      <th>id</th>\n      <th>artist</th>\n      <th>song</th>\n      <th>album_name</th>\n    </tr>\n  </thead>\n  <tbody>\n    <tr>\n      <th>0</th>\n      <td>V6cjvFvhBa5OrFss</td>\n      <td>Blackfield</td>\n      <td>Open Mind</td>\n      <td>Blackfield</td>\n    </tr>\n    <tr>\n      <th>1</th>\n      <td>L8bRrL53bYInlShC</td>\n      <td>Bent</td>\n      <td>Magic Love</td>\n      <td>Magic Love (Remixes)</td>\n    </tr>\n    <tr>\n      <th>2</th>\n      <td>Unhq5a0ezoDOMNoA</td>\n      <td>Miss May I</td>\n      <td>A Dance With Aera Cura</td>\n      <td>Apologies Are For The Weak</td>\n    </tr>\n    <tr>\n      <th>3</th>\n      <td>6AYff4IFMcQeMFHi</td>\n      <td>Hockey</td>\n      <td>Song Away</td>\n      <td>Mind Chaos</td>\n    </tr>\n    <tr>\n      <th>4</th>\n      <td>DggtWRgu03MbCOii</td>\n      <td>The Cardigans</td>\n      <td>Heartbreaker</td>\n      <td>First Band On The Moon (Remastered)</td>\n    </tr>\n  </tbody>\n</table>\n</div>"
     },
     "execution_count": 62,
     "metadata": {},
     "output_type": "execute_result"
    }
   ],
   "source": [
    "rs.random_baseline(1)"
   ]
  },
  {
   "cell_type": "code",
   "execution_count": 63,
   "metadata": {
    "ExecuteTime": {
     "end_time": "2023-11-24T01:38:13.280619Z",
     "start_time": "2023-11-24T01:38:13.225174Z"
    }
   },
   "outputs": [
    {
     "data": {
      "text/plain": "                 id            artist                         song  \\\n0  laq0LzXkFBeUXeg8     Legião Urbana                      Fábrica   \n1  Gp12UXU2gYdzes3O    Henri Salvador               Jardin d'hiver   \n2  1HNbB2jYOPVyrBwZ         Tori Amos                        Climb   \n3  dst4n8hPwe3bvdPI         Underoath  Coming Down Is Calming Down   \n4  oEbVDhAjqCWtWy7C  The Promise Ring                Pink Chimneys   \n\n                        album_name  \n0     As Quatro Estações - Ao Vivo  \n1                 chambre avec vue  \n2                   Native Invader  \n3  Lost In The Sound Of Separation  \n4               Nothing Feels Good  ",
      "text/html": "<div>\n<style scoped>\n    .dataframe tbody tr th:only-of-type {\n        vertical-align: middle;\n    }\n\n    .dataframe tbody tr th {\n        vertical-align: top;\n    }\n\n    .dataframe thead th {\n        text-align: right;\n    }\n</style>\n<table border=\"1\" class=\"dataframe\">\n  <thead>\n    <tr style=\"text-align: right;\">\n      <th></th>\n      <th>id</th>\n      <th>artist</th>\n      <th>song</th>\n      <th>album_name</th>\n    </tr>\n  </thead>\n  <tbody>\n    <tr>\n      <th>0</th>\n      <td>laq0LzXkFBeUXeg8</td>\n      <td>Legião Urbana</td>\n      <td>Fábrica</td>\n      <td>As Quatro Estações - Ao Vivo</td>\n    </tr>\n    <tr>\n      <th>1</th>\n      <td>Gp12UXU2gYdzes3O</td>\n      <td>Henri Salvador</td>\n      <td>Jardin d'hiver</td>\n      <td>chambre avec vue</td>\n    </tr>\n    <tr>\n      <th>2</th>\n      <td>1HNbB2jYOPVyrBwZ</td>\n      <td>Tori Amos</td>\n      <td>Climb</td>\n      <td>Native Invader</td>\n    </tr>\n    <tr>\n      <th>3</th>\n      <td>dst4n8hPwe3bvdPI</td>\n      <td>Underoath</td>\n      <td>Coming Down Is Calming Down</td>\n      <td>Lost In The Sound Of Separation</td>\n    </tr>\n    <tr>\n      <th>4</th>\n      <td>oEbVDhAjqCWtWy7C</td>\n      <td>The Promise Ring</td>\n      <td>Pink Chimneys</td>\n      <td>Nothing Feels Good</td>\n    </tr>\n  </tbody>\n</table>\n</div>"
     },
     "execution_count": 63,
     "metadata": {},
     "output_type": "execute_result"
    }
   ],
   "source": [
    "rs.random_baseline(1)"
   ]
  },
  {
   "cell_type": "markdown",
   "metadata": {},
   "source": [
    "Indeed, the system produces new results for each query/run."
   ]
  },
  {
   "cell_type": "code",
   "execution_count": 64,
   "metadata": {
    "ExecuteTime": {
     "end_time": "2023-11-24T01:38:13.280619Z",
     "start_time": "2023-11-24T01:38:13.243196900Z"
    }
   },
   "outputs": [
    {
     "data": {
      "text/plain": "                 id           artist                song  \\\n0  7EDWrcBXWcryoSN9    Pabllo Vittar                K.O.   \n1  Jx9BUH45ctES4QYy  Jesse McCartney             Leavin'   \n2  vLV93B0O6u6YVaVT          Incubus             Warning   \n3  6e4rSjywM76KUm6d      Lacuna Coil   Enjoy the Silence   \n4  4TocbEhLYEqDwVkx    Alceu Valença     Punhal De Prata   \n5  wBx7OMVIbMQa9oV7      Sonic Youth                Bone   \n6  QMNzlYdOjMr7umlL     Selena Gomez           Slow Down   \n7  qOXJGJU8heq6waVx    Chico Buarque         As Vitrines   \n8  2iTNj8IfvQ8BTatH    Goo Goo Dolls         Big Machine   \n9  7t84tTUQqoUhewpK           Enigma  Morphing Thru Time   \n\n                                album_name  \n0                           Vai Passar Mal  \n1                    Departure - Recharged  \n2                             Morning View  \n3                                Karmacode  \n4                          Molhado de Suor  \n5  Experimental Jet Set, Trash And No Star  \n6        Stars Dance (Bonus Track Version)  \n7                                MPB no JT  \n8                             Gutterflower  \n9            Le Roi Est Mort, Vive Le Roi!  ",
      "text/html": "<div>\n<style scoped>\n    .dataframe tbody tr th:only-of-type {\n        vertical-align: middle;\n    }\n\n    .dataframe tbody tr th {\n        vertical-align: top;\n    }\n\n    .dataframe thead th {\n        text-align: right;\n    }\n</style>\n<table border=\"1\" class=\"dataframe\">\n  <thead>\n    <tr style=\"text-align: right;\">\n      <th></th>\n      <th>id</th>\n      <th>artist</th>\n      <th>song</th>\n      <th>album_name</th>\n    </tr>\n  </thead>\n  <tbody>\n    <tr>\n      <th>0</th>\n      <td>7EDWrcBXWcryoSN9</td>\n      <td>Pabllo Vittar</td>\n      <td>K.O.</td>\n      <td>Vai Passar Mal</td>\n    </tr>\n    <tr>\n      <th>1</th>\n      <td>Jx9BUH45ctES4QYy</td>\n      <td>Jesse McCartney</td>\n      <td>Leavin'</td>\n      <td>Departure - Recharged</td>\n    </tr>\n    <tr>\n      <th>2</th>\n      <td>vLV93B0O6u6YVaVT</td>\n      <td>Incubus</td>\n      <td>Warning</td>\n      <td>Morning View</td>\n    </tr>\n    <tr>\n      <th>3</th>\n      <td>6e4rSjywM76KUm6d</td>\n      <td>Lacuna Coil</td>\n      <td>Enjoy the Silence</td>\n      <td>Karmacode</td>\n    </tr>\n    <tr>\n      <th>4</th>\n      <td>4TocbEhLYEqDwVkx</td>\n      <td>Alceu Valença</td>\n      <td>Punhal De Prata</td>\n      <td>Molhado de Suor</td>\n    </tr>\n    <tr>\n      <th>5</th>\n      <td>wBx7OMVIbMQa9oV7</td>\n      <td>Sonic Youth</td>\n      <td>Bone</td>\n      <td>Experimental Jet Set, Trash And No Star</td>\n    </tr>\n    <tr>\n      <th>6</th>\n      <td>QMNzlYdOjMr7umlL</td>\n      <td>Selena Gomez</td>\n      <td>Slow Down</td>\n      <td>Stars Dance (Bonus Track Version)</td>\n    </tr>\n    <tr>\n      <th>7</th>\n      <td>qOXJGJU8heq6waVx</td>\n      <td>Chico Buarque</td>\n      <td>As Vitrines</td>\n      <td>MPB no JT</td>\n    </tr>\n    <tr>\n      <th>8</th>\n      <td>2iTNj8IfvQ8BTatH</td>\n      <td>Goo Goo Dolls</td>\n      <td>Big Machine</td>\n      <td>Gutterflower</td>\n    </tr>\n    <tr>\n      <th>9</th>\n      <td>7t84tTUQqoUhewpK</td>\n      <td>Enigma</td>\n      <td>Morphing Thru Time</td>\n      <td>Le Roi Est Mort, Vive Le Roi!</td>\n    </tr>\n  </tbody>\n</table>\n</div>"
     },
     "execution_count": 64,
     "metadata": {},
     "output_type": "execute_result"
    }
   ],
   "source": [
    "rs.random_baseline(\"01gyRHLquwXDlhkO\", n=10)"
   ]
  },
  {
   "cell_type": "code",
   "execution_count": 65,
   "metadata": {
    "ExecuteTime": {
     "end_time": "2023-11-24T01:38:13.301458600Z",
     "start_time": "2023-11-24T01:38:13.257541Z"
    }
   },
   "outputs": [
    {
     "data": {
      "text/plain": "                 id              artist                                  song  \\\n0  ZGsVJXg9XpPZfqDq           My Indigo                        Lesson Learned   \n1  wsSc4cUK3mNFU3LE     Franz Ferdinand                    Fresh Strawberries   \n2  r51pisZNEN7naPzM           The Knife                           Raging Lung   \n3  hA8g8kLBcudGIqCF      Dead Can Dance                               Ullyses   \n4  hxGDHGbn3KTlfp6d           Metallica  For Whom The Bell Tolls - Remastered   \n5  FgBUfn96cr1Lv5ew               Suede                       Pantomime Horse   \n6  l9Tib6V6S4Dffe0m     Cannibal Corpse         Stripped, Raped and Strangled   \n7  ivpQdsiz0WiyzXvY        Necrophagist                 Culinary Hyperversity   \n8  8VxhQw49kRw5KRKC     The Proclaimers                         I'm On My Way   \n9  pjZ8T1BEAa4Xmoa3  Stevie Ray Vaughan                             Crossfire   \n\n                                          album_name  \n0                                          My Indigo  \n1  Right Thoughts, Right Words, Right Action (Del...  \n2                               Shaking The Habitual  \n3                     The Serpent's Egg (Remastered)  \n4               Ride The Lightning (Deluxe Remaster)  \n5                                              Suede  \n6                                       The Bleeding  \n7                              Onset Of Putrefaction  \n8                                  Sunshine On Leith  \n9  The Essential Stevie Ray Vaughan And Double Tr...  ",
      "text/html": "<div>\n<style scoped>\n    .dataframe tbody tr th:only-of-type {\n        vertical-align: middle;\n    }\n\n    .dataframe tbody tr th {\n        vertical-align: top;\n    }\n\n    .dataframe thead th {\n        text-align: right;\n    }\n</style>\n<table border=\"1\" class=\"dataframe\">\n  <thead>\n    <tr style=\"text-align: right;\">\n      <th></th>\n      <th>id</th>\n      <th>artist</th>\n      <th>song</th>\n      <th>album_name</th>\n    </tr>\n  </thead>\n  <tbody>\n    <tr>\n      <th>0</th>\n      <td>ZGsVJXg9XpPZfqDq</td>\n      <td>My Indigo</td>\n      <td>Lesson Learned</td>\n      <td>My Indigo</td>\n    </tr>\n    <tr>\n      <th>1</th>\n      <td>wsSc4cUK3mNFU3LE</td>\n      <td>Franz Ferdinand</td>\n      <td>Fresh Strawberries</td>\n      <td>Right Thoughts, Right Words, Right Action (Del...</td>\n    </tr>\n    <tr>\n      <th>2</th>\n      <td>r51pisZNEN7naPzM</td>\n      <td>The Knife</td>\n      <td>Raging Lung</td>\n      <td>Shaking The Habitual</td>\n    </tr>\n    <tr>\n      <th>3</th>\n      <td>hA8g8kLBcudGIqCF</td>\n      <td>Dead Can Dance</td>\n      <td>Ullyses</td>\n      <td>The Serpent's Egg (Remastered)</td>\n    </tr>\n    <tr>\n      <th>4</th>\n      <td>hxGDHGbn3KTlfp6d</td>\n      <td>Metallica</td>\n      <td>For Whom The Bell Tolls - Remastered</td>\n      <td>Ride The Lightning (Deluxe Remaster)</td>\n    </tr>\n    <tr>\n      <th>5</th>\n      <td>FgBUfn96cr1Lv5ew</td>\n      <td>Suede</td>\n      <td>Pantomime Horse</td>\n      <td>Suede</td>\n    </tr>\n    <tr>\n      <th>6</th>\n      <td>l9Tib6V6S4Dffe0m</td>\n      <td>Cannibal Corpse</td>\n      <td>Stripped, Raped and Strangled</td>\n      <td>The Bleeding</td>\n    </tr>\n    <tr>\n      <th>7</th>\n      <td>ivpQdsiz0WiyzXvY</td>\n      <td>Necrophagist</td>\n      <td>Culinary Hyperversity</td>\n      <td>Onset Of Putrefaction</td>\n    </tr>\n    <tr>\n      <th>8</th>\n      <td>8VxhQw49kRw5KRKC</td>\n      <td>The Proclaimers</td>\n      <td>I'm On My Way</td>\n      <td>Sunshine On Leith</td>\n    </tr>\n    <tr>\n      <th>9</th>\n      <td>pjZ8T1BEAa4Xmoa3</td>\n      <td>Stevie Ray Vaughan</td>\n      <td>Crossfire</td>\n      <td>The Essential Stevie Ray Vaughan And Double Tr...</td>\n    </tr>\n  </tbody>\n</table>\n</div>"
     },
     "execution_count": 65,
     "metadata": {},
     "output_type": "execute_result"
    }
   ],
   "source": [
    "rs.random_baseline(\"01gyRHLquwXDlhkO\", n=10)"
   ]
  },
  {
   "cell_type": "code",
   "execution_count": 66,
   "metadata": {
    "tags": [],
    "ExecuteTime": {
     "end_time": "2023-11-24T01:38:13.353663Z",
     "start_time": "2023-11-24T01:38:13.272618800Z"
    }
   },
   "outputs": [
    {
     "data": {
      "text/plain": "                 id          artist                        song  \\\n0  oXwXWA8G2RAcDzWN      The Weeknd                    The Fall   \n1  bvFPsiMCBxrID81Z         Lantlôs                        Coma   \n2  nH7HRifpQAmla8nY   High Contrast              God Only Knows   \n3  DKSI7LMhOhwiWbz1  Dead Can Dance                      Advent   \n4  2Lkz2Lf8puuF1Kka         Beyoncé                   Ave Maria   \n5  Xtxq4qK0cSwXdApu    Toni Braxton                      No Way   \n6  jcKVjb92tY0FGtKR       Don Broco                   Tightrope   \n7  4nU8PD9ZowHL0E6o     Of Machines  Becoming Closer To Closure   \n8  jy6W4rWT9vGzUdIH       Satyricon           Woods to Eternity   \n9  gdea0KkNhr9DuKy3          Fresno    Alguém Que Te Faz Sorrir   \n\n                           album_name  \n0                             Trilogy  \n1                               .neon  \n2                      God Only Knows  \n3       Spleen And Ideal (Remastered)  \n4                 I AM...SASHA FIERCE  \n5                               Pulse  \n6                          Technology  \n7  As If Everything Was Held In Place  \n8                    The Shadowthrone  \n9                               Ciano  ",
      "text/html": "<div>\n<style scoped>\n    .dataframe tbody tr th:only-of-type {\n        vertical-align: middle;\n    }\n\n    .dataframe tbody tr th {\n        vertical-align: top;\n    }\n\n    .dataframe thead th {\n        text-align: right;\n    }\n</style>\n<table border=\"1\" class=\"dataframe\">\n  <thead>\n    <tr style=\"text-align: right;\">\n      <th></th>\n      <th>id</th>\n      <th>artist</th>\n      <th>song</th>\n      <th>album_name</th>\n    </tr>\n  </thead>\n  <tbody>\n    <tr>\n      <th>0</th>\n      <td>oXwXWA8G2RAcDzWN</td>\n      <td>The Weeknd</td>\n      <td>The Fall</td>\n      <td>Trilogy</td>\n    </tr>\n    <tr>\n      <th>1</th>\n      <td>bvFPsiMCBxrID81Z</td>\n      <td>Lantlôs</td>\n      <td>Coma</td>\n      <td>.neon</td>\n    </tr>\n    <tr>\n      <th>2</th>\n      <td>nH7HRifpQAmla8nY</td>\n      <td>High Contrast</td>\n      <td>God Only Knows</td>\n      <td>God Only Knows</td>\n    </tr>\n    <tr>\n      <th>3</th>\n      <td>DKSI7LMhOhwiWbz1</td>\n      <td>Dead Can Dance</td>\n      <td>Advent</td>\n      <td>Spleen And Ideal (Remastered)</td>\n    </tr>\n    <tr>\n      <th>4</th>\n      <td>2Lkz2Lf8puuF1Kka</td>\n      <td>Beyoncé</td>\n      <td>Ave Maria</td>\n      <td>I AM...SASHA FIERCE</td>\n    </tr>\n    <tr>\n      <th>5</th>\n      <td>Xtxq4qK0cSwXdApu</td>\n      <td>Toni Braxton</td>\n      <td>No Way</td>\n      <td>Pulse</td>\n    </tr>\n    <tr>\n      <th>6</th>\n      <td>jcKVjb92tY0FGtKR</td>\n      <td>Don Broco</td>\n      <td>Tightrope</td>\n      <td>Technology</td>\n    </tr>\n    <tr>\n      <th>7</th>\n      <td>4nU8PD9ZowHL0E6o</td>\n      <td>Of Machines</td>\n      <td>Becoming Closer To Closure</td>\n      <td>As If Everything Was Held In Place</td>\n    </tr>\n    <tr>\n      <th>8</th>\n      <td>jy6W4rWT9vGzUdIH</td>\n      <td>Satyricon</td>\n      <td>Woods to Eternity</td>\n      <td>The Shadowthrone</td>\n    </tr>\n    <tr>\n      <th>9</th>\n      <td>gdea0KkNhr9DuKy3</td>\n      <td>Fresno</td>\n      <td>Alguém Que Te Faz Sorrir</td>\n      <td>Ciano</td>\n    </tr>\n  </tbody>\n</table>\n</div>"
     },
     "execution_count": 66,
     "metadata": {},
     "output_type": "execute_result"
    }
   ],
   "source": [
    "sample_song = SongInfo(title=\"Always\", artist=\"Bon Jovi\")\n",
    "\n",
    "rs.random_baseline(sample_song, n=10)"
   ]
  },
  {
   "cell_type": "code",
   "execution_count": 67,
   "metadata": {
    "tags": [],
    "ExecuteTime": {
     "end_time": "2023-11-24T01:38:13.357663Z",
     "start_time": "2023-11-24T01:38:13.286813700Z"
    }
   },
   "outputs": [
    {
     "data": {
      "text/plain": "                 id           artist                   song  \\\n0  UfHxgZgBJRMLgWse        PJ Harvey     This Mess We're In   \n1  X9zyiDeDOr6k8iUd           Chingy          One Call Away   \n2  cn5oix8leaM2FvLt       Paul Young  Don't Dream It's Over   \n3  C7yLSARIYHP7UTva  Toxic Holocaust            War Is Hell   \n4  txyqxC0R6SXXLrVo         Hot Chip         How Do You Do?   \n5  xKpl0eKgCSRzabu4      Chuck Berry             Maybellene   \n6  Eo6N9jIZKJTOwrKh            Smino  Father Son Holy Smoke   \n7  bbOa9aqZcNeTMxLM              YOB                 Marrow   \n8  NCOrhDx0qvY61onf            Lydia      This Is Twice Now   \n9  gks2i8gYaMY2A456   Sufjan Stevens                   Kill   \n\n                                    album_name  \n0  Stories From The City, Stories From The Sea  \n1                                      Jackpot  \n2                     The Essential Paul Young  \n3                      An Overdose of Death...  \n4                                 In Our Heads  \n5                              Berry Is On Top  \n6                                       blkswn  \n7                  Clearing the Path to Ascend  \n8                                   Illuminate  \n9                         A Sun Came (reissue)  ",
      "text/html": "<div>\n<style scoped>\n    .dataframe tbody tr th:only-of-type {\n        vertical-align: middle;\n    }\n\n    .dataframe tbody tr th {\n        vertical-align: top;\n    }\n\n    .dataframe thead th {\n        text-align: right;\n    }\n</style>\n<table border=\"1\" class=\"dataframe\">\n  <thead>\n    <tr style=\"text-align: right;\">\n      <th></th>\n      <th>id</th>\n      <th>artist</th>\n      <th>song</th>\n      <th>album_name</th>\n    </tr>\n  </thead>\n  <tbody>\n    <tr>\n      <th>0</th>\n      <td>UfHxgZgBJRMLgWse</td>\n      <td>PJ Harvey</td>\n      <td>This Mess We're In</td>\n      <td>Stories From The City, Stories From The Sea</td>\n    </tr>\n    <tr>\n      <th>1</th>\n      <td>X9zyiDeDOr6k8iUd</td>\n      <td>Chingy</td>\n      <td>One Call Away</td>\n      <td>Jackpot</td>\n    </tr>\n    <tr>\n      <th>2</th>\n      <td>cn5oix8leaM2FvLt</td>\n      <td>Paul Young</td>\n      <td>Don't Dream It's Over</td>\n      <td>The Essential Paul Young</td>\n    </tr>\n    <tr>\n      <th>3</th>\n      <td>C7yLSARIYHP7UTva</td>\n      <td>Toxic Holocaust</td>\n      <td>War Is Hell</td>\n      <td>An Overdose of Death...</td>\n    </tr>\n    <tr>\n      <th>4</th>\n      <td>txyqxC0R6SXXLrVo</td>\n      <td>Hot Chip</td>\n      <td>How Do You Do?</td>\n      <td>In Our Heads</td>\n    </tr>\n    <tr>\n      <th>5</th>\n      <td>xKpl0eKgCSRzabu4</td>\n      <td>Chuck Berry</td>\n      <td>Maybellene</td>\n      <td>Berry Is On Top</td>\n    </tr>\n    <tr>\n      <th>6</th>\n      <td>Eo6N9jIZKJTOwrKh</td>\n      <td>Smino</td>\n      <td>Father Son Holy Smoke</td>\n      <td>blkswn</td>\n    </tr>\n    <tr>\n      <th>7</th>\n      <td>bbOa9aqZcNeTMxLM</td>\n      <td>YOB</td>\n      <td>Marrow</td>\n      <td>Clearing the Path to Ascend</td>\n    </tr>\n    <tr>\n      <th>8</th>\n      <td>NCOrhDx0qvY61onf</td>\n      <td>Lydia</td>\n      <td>This Is Twice Now</td>\n      <td>Illuminate</td>\n    </tr>\n    <tr>\n      <th>9</th>\n      <td>gks2i8gYaMY2A456</td>\n      <td>Sufjan Stevens</td>\n      <td>Kill</td>\n      <td>A Sun Came (reissue)</td>\n    </tr>\n  </tbody>\n</table>\n</div>"
     },
     "execution_count": 67,
     "metadata": {},
     "output_type": "execute_result"
    }
   ],
   "source": [
    "sample_song = SongInfo(title=\"Help! - Remastered 2009\", artist=\"The Beatles\")\n",
    "\n",
    "rs.random_baseline(sample_song, n=10)"
   ]
  },
  {
   "cell_type": "code",
   "execution_count": 68,
   "metadata": {
    "tags": [],
    "ExecuteTime": {
     "end_time": "2023-11-24T01:38:13.399421600Z",
     "start_time": "2023-11-24T01:38:13.303457500Z"
    }
   },
   "outputs": [
    {
     "data": {
      "text/plain": "                 id              artist  \\\n0  HJTtKsIzSJ7vQsyj  Velvet Acid Christ   \n1  pwJ4XYLfkCTsSTxC          Raça Negra   \n2  5CnBh0fLso79stnz     Escape the Fate   \n3  CIqZdZMkwO58NVFH          Best Coast   \n4  4hehPXk9aieCA4yy          Bloc Party   \n5  7RYXpBeJE0jgKoIw           Santigold   \n6  qRUVHPoXPqstdnYL   Children of Bodom   \n7  IMRf1iAmWJYrIXUW             Chiodos   \n8  ogAci5eoFfKCOehJ        Donna Summer   \n9  cIkGPltEsWiMIKVK           Green Day   \n\n                                            song  \\\n0                                           Icon   \n1                                    Vida Cigana   \n2                                      The Flood   \n3                             Who Have I Become?   \n4                                         Sunday   \n5                                      Gold Fire   \n6                                       Downfall   \n7  Baby, You Wouldn't Last a Minute on the Creek   \n8                              The Queen Is Back   \n9                    Who Wrote Holden Caulfield?   \n\n                             album_name  \n0                       Fun With Knives  \n1                         Vem Pra Ficar  \n2     This War Is Ours (Deluxe Edition)  \n3                             Fade Away  \n4    A Weekend In The City (Re-release)  \n5  I Don't Want: The Gold Fire Sessions  \n6                           Hatebreeder  \n7             All's Well That Ends Well  \n8                               Crayons  \n9                             Kerplunk!  ",
      "text/html": "<div>\n<style scoped>\n    .dataframe tbody tr th:only-of-type {\n        vertical-align: middle;\n    }\n\n    .dataframe tbody tr th {\n        vertical-align: top;\n    }\n\n    .dataframe thead th {\n        text-align: right;\n    }\n</style>\n<table border=\"1\" class=\"dataframe\">\n  <thead>\n    <tr style=\"text-align: right;\">\n      <th></th>\n      <th>id</th>\n      <th>artist</th>\n      <th>song</th>\n      <th>album_name</th>\n    </tr>\n  </thead>\n  <tbody>\n    <tr>\n      <th>0</th>\n      <td>HJTtKsIzSJ7vQsyj</td>\n      <td>Velvet Acid Christ</td>\n      <td>Icon</td>\n      <td>Fun With Knives</td>\n    </tr>\n    <tr>\n      <th>1</th>\n      <td>pwJ4XYLfkCTsSTxC</td>\n      <td>Raça Negra</td>\n      <td>Vida Cigana</td>\n      <td>Vem Pra Ficar</td>\n    </tr>\n    <tr>\n      <th>2</th>\n      <td>5CnBh0fLso79stnz</td>\n      <td>Escape the Fate</td>\n      <td>The Flood</td>\n      <td>This War Is Ours (Deluxe Edition)</td>\n    </tr>\n    <tr>\n      <th>3</th>\n      <td>CIqZdZMkwO58NVFH</td>\n      <td>Best Coast</td>\n      <td>Who Have I Become?</td>\n      <td>Fade Away</td>\n    </tr>\n    <tr>\n      <th>4</th>\n      <td>4hehPXk9aieCA4yy</td>\n      <td>Bloc Party</td>\n      <td>Sunday</td>\n      <td>A Weekend In The City (Re-release)</td>\n    </tr>\n    <tr>\n      <th>5</th>\n      <td>7RYXpBeJE0jgKoIw</td>\n      <td>Santigold</td>\n      <td>Gold Fire</td>\n      <td>I Don't Want: The Gold Fire Sessions</td>\n    </tr>\n    <tr>\n      <th>6</th>\n      <td>qRUVHPoXPqstdnYL</td>\n      <td>Children of Bodom</td>\n      <td>Downfall</td>\n      <td>Hatebreeder</td>\n    </tr>\n    <tr>\n      <th>7</th>\n      <td>IMRf1iAmWJYrIXUW</td>\n      <td>Chiodos</td>\n      <td>Baby, You Wouldn't Last a Minute on the Creek</td>\n      <td>All's Well That Ends Well</td>\n    </tr>\n    <tr>\n      <th>8</th>\n      <td>ogAci5eoFfKCOehJ</td>\n      <td>Donna Summer</td>\n      <td>The Queen Is Back</td>\n      <td>Crayons</td>\n    </tr>\n    <tr>\n      <th>9</th>\n      <td>cIkGPltEsWiMIKVK</td>\n      <td>Green Day</td>\n      <td>Who Wrote Holden Caulfield?</td>\n      <td>Kerplunk!</td>\n    </tr>\n  </tbody>\n</table>\n</div>"
     },
     "execution_count": 68,
     "metadata": {},
     "output_type": "execute_result"
    }
   ],
   "source": [
    "sample_song = SongInfo(title=\"Zombie\", artist=\"The Cranberries\")\n",
    "\n",
    "rs.random_baseline(sample_song, n=10)"
   ]
  },
  {
   "cell_type": "markdown",
   "metadata": {},
   "source": [
    "## Text-based (cos-sim, tf-idf)"
   ]
  },
  {
   "cell_type": "code",
   "execution_count": 69,
   "metadata": {
    "ExecuteTime": {
     "end_time": "2023-11-24T01:38:13.453297900Z",
     "start_time": "2023-11-24T01:38:13.317454700Z"
    }
   },
   "outputs": [],
   "source": [
    "rs_cosine = RetrievalSystem(df, cosine_similarity, \"tf-idf\")"
   ]
  },
  {
   "cell_type": "code",
   "execution_count": 70,
   "metadata": {
    "ExecuteTime": {
     "end_time": "2023-11-24T01:38:13.546948900Z",
     "start_time": "2023-11-24T01:38:13.353663Z"
    }
   },
   "outputs": [
    {
     "data": {
      "text/plain": "                 id                artist               song  \\\n0  74k8qdan0o4DFa7L            Lil' Wayne            Megaman   \n1  wiw2rM2xb4CJ5sVP            Kanye West  Never Let Me Down   \n2  2rQiu54zZBs5Dmmi                  2Pac      Heartz Of Men   \n3  8ptSfMLrxpbfRaxl                   Nas        The Genesis   \n4  h2b5Pi6kMqyAK83G  Bone Thugs-N-Harmony  Look Into My Eyes   \n\n               album_name  similarity  \n0  Tha Carter IV (Deluxe)    0.508260  \n1     The College Dropout    0.504759  \n2          All Eyez On Me    0.485196  \n3                Illmatic    0.445888  \n4              Art of War    0.444548  ",
      "text/html": "<div>\n<style scoped>\n    .dataframe tbody tr th:only-of-type {\n        vertical-align: middle;\n    }\n\n    .dataframe tbody tr th {\n        vertical-align: top;\n    }\n\n    .dataframe thead th {\n        text-align: right;\n    }\n</style>\n<table border=\"1\" class=\"dataframe\">\n  <thead>\n    <tr style=\"text-align: right;\">\n      <th></th>\n      <th>id</th>\n      <th>artist</th>\n      <th>song</th>\n      <th>album_name</th>\n      <th>similarity</th>\n    </tr>\n  </thead>\n  <tbody>\n    <tr>\n      <th>0</th>\n      <td>74k8qdan0o4DFa7L</td>\n      <td>Lil' Wayne</td>\n      <td>Megaman</td>\n      <td>Tha Carter IV (Deluxe)</td>\n      <td>0.508260</td>\n    </tr>\n    <tr>\n      <th>1</th>\n      <td>wiw2rM2xb4CJ5sVP</td>\n      <td>Kanye West</td>\n      <td>Never Let Me Down</td>\n      <td>The College Dropout</td>\n      <td>0.504759</td>\n    </tr>\n    <tr>\n      <th>2</th>\n      <td>2rQiu54zZBs5Dmmi</td>\n      <td>2Pac</td>\n      <td>Heartz Of Men</td>\n      <td>All Eyez On Me</td>\n      <td>0.485196</td>\n    </tr>\n    <tr>\n      <th>3</th>\n      <td>8ptSfMLrxpbfRaxl</td>\n      <td>Nas</td>\n      <td>The Genesis</td>\n      <td>Illmatic</td>\n      <td>0.445888</td>\n    </tr>\n    <tr>\n      <th>4</th>\n      <td>h2b5Pi6kMqyAK83G</td>\n      <td>Bone Thugs-N-Harmony</td>\n      <td>Look Into My Eyes</td>\n      <td>Art of War</td>\n      <td>0.444548</td>\n    </tr>\n  </tbody>\n</table>\n</div>"
     },
     "execution_count": 70,
     "metadata": {},
     "output_type": "execute_result"
    }
   ],
   "source": [
    "rs_cosine.retrieve(1)"
   ]
  },
  {
   "cell_type": "code",
   "execution_count": 71,
   "metadata": {
    "ExecuteTime": {
     "end_time": "2023-11-24T01:38:13.546948900Z",
     "start_time": "2023-11-24T01:38:13.443793Z"
    }
   },
   "outputs": [
    {
     "data": {
      "text/plain": "                 id                artist               song  \\\n0  74k8qdan0o4DFa7L            Lil' Wayne            Megaman   \n1  wiw2rM2xb4CJ5sVP            Kanye West  Never Let Me Down   \n2  2rQiu54zZBs5Dmmi                  2Pac      Heartz Of Men   \n3  8ptSfMLrxpbfRaxl                   Nas        The Genesis   \n4  h2b5Pi6kMqyAK83G  Bone Thugs-N-Harmony  Look Into My Eyes   \n\n               album_name  similarity  \n0  Tha Carter IV (Deluxe)    0.508260  \n1     The College Dropout    0.504759  \n2          All Eyez On Me    0.485196  \n3                Illmatic    0.445888  \n4              Art of War    0.444548  ",
      "text/html": "<div>\n<style scoped>\n    .dataframe tbody tr th:only-of-type {\n        vertical-align: middle;\n    }\n\n    .dataframe tbody tr th {\n        vertical-align: top;\n    }\n\n    .dataframe thead th {\n        text-align: right;\n    }\n</style>\n<table border=\"1\" class=\"dataframe\">\n  <thead>\n    <tr style=\"text-align: right;\">\n      <th></th>\n      <th>id</th>\n      <th>artist</th>\n      <th>song</th>\n      <th>album_name</th>\n      <th>similarity</th>\n    </tr>\n  </thead>\n  <tbody>\n    <tr>\n      <th>0</th>\n      <td>74k8qdan0o4DFa7L</td>\n      <td>Lil' Wayne</td>\n      <td>Megaman</td>\n      <td>Tha Carter IV (Deluxe)</td>\n      <td>0.508260</td>\n    </tr>\n    <tr>\n      <th>1</th>\n      <td>wiw2rM2xb4CJ5sVP</td>\n      <td>Kanye West</td>\n      <td>Never Let Me Down</td>\n      <td>The College Dropout</td>\n      <td>0.504759</td>\n    </tr>\n    <tr>\n      <th>2</th>\n      <td>2rQiu54zZBs5Dmmi</td>\n      <td>2Pac</td>\n      <td>Heartz Of Men</td>\n      <td>All Eyez On Me</td>\n      <td>0.485196</td>\n    </tr>\n    <tr>\n      <th>3</th>\n      <td>8ptSfMLrxpbfRaxl</td>\n      <td>Nas</td>\n      <td>The Genesis</td>\n      <td>Illmatic</td>\n      <td>0.445888</td>\n    </tr>\n    <tr>\n      <th>4</th>\n      <td>h2b5Pi6kMqyAK83G</td>\n      <td>Bone Thugs-N-Harmony</td>\n      <td>Look Into My Eyes</td>\n      <td>Art of War</td>\n      <td>0.444548</td>\n    </tr>\n  </tbody>\n</table>\n</div>"
     },
     "execution_count": 71,
     "metadata": {},
     "output_type": "execute_result"
    }
   ],
   "source": [
    "# check reproducibility\n",
    "rs_cosine.retrieve(1)"
   ]
  },
  {
   "cell_type": "code",
   "execution_count": 72,
   "metadata": {
    "ExecuteTime": {
     "end_time": "2023-11-24T01:38:13.639607300Z",
     "start_time": "2023-11-24T01:38:13.458299700Z"
    }
   },
   "outputs": [
    {
     "data": {
      "text/plain": "                 id               artist  \\\n0  TEYr2jFKqLiibyI7  Sophie Ellis-Bextor   \n1  FoenRGxt8ED5UDj8               Danger   \n2  r9jKmYrPBtJRgg2k           The Weeknd   \n3  ISH3Weh5lSybSTNb                Wings   \n4  4fNOkOQVsp2lkBen          Alicia Keys   \n5  ptSQMoK9d8CydnHP              Phoenix   \n6  U0fgnyiJBI9Ypbsj                 Mika   \n7  t8M8yJHyRlalRn4E            Hombres G   \n8  zI9DjkxOs5x1EhJQ           Anna Calvi   \n9  xDmgjHEzePoJsvkJ        Kylie Minogue   \n\n                                       song  \\\n0                           Love It Is Love   \n1                                     11h30   \n2  Can't Feel My Face - Martin Garrix Remix   \n3                          Silly Love Songs   \n4                                   Fallin'   \n5                                Chloroform   \n6                                  Lollipop   \n7                                 Te Quiero   \n8                             No More Words   \n9               Under the Influence of Love   \n\n                                 album_name  similarity  \n0                        Shoot from the Hip    0.636165  \n1                            French Attack!    0.604088  \n2  Can't Feel My Face (Martin Garrix Remix)    0.603747  \n3               Wings At The Speed Of Sound    0.591854  \n4       Songs In A Minor (Expanded Edition)    0.590371  \n5                                 Bankrupt!    0.585183  \n6                    Life in Cartoon Motion    0.573458  \n7          Las baladas (Los singles vol II)    0.565957  \n8                                Anna Calvi    0.562936  \n9                               Light Years    0.546204  ",
      "text/html": "<div>\n<style scoped>\n    .dataframe tbody tr th:only-of-type {\n        vertical-align: middle;\n    }\n\n    .dataframe tbody tr th {\n        vertical-align: top;\n    }\n\n    .dataframe thead th {\n        text-align: right;\n    }\n</style>\n<table border=\"1\" class=\"dataframe\">\n  <thead>\n    <tr style=\"text-align: right;\">\n      <th></th>\n      <th>id</th>\n      <th>artist</th>\n      <th>song</th>\n      <th>album_name</th>\n      <th>similarity</th>\n    </tr>\n  </thead>\n  <tbody>\n    <tr>\n      <th>0</th>\n      <td>TEYr2jFKqLiibyI7</td>\n      <td>Sophie Ellis-Bextor</td>\n      <td>Love It Is Love</td>\n      <td>Shoot from the Hip</td>\n      <td>0.636165</td>\n    </tr>\n    <tr>\n      <th>1</th>\n      <td>FoenRGxt8ED5UDj8</td>\n      <td>Danger</td>\n      <td>11h30</td>\n      <td>French Attack!</td>\n      <td>0.604088</td>\n    </tr>\n    <tr>\n      <th>2</th>\n      <td>r9jKmYrPBtJRgg2k</td>\n      <td>The Weeknd</td>\n      <td>Can't Feel My Face - Martin Garrix Remix</td>\n      <td>Can't Feel My Face (Martin Garrix Remix)</td>\n      <td>0.603747</td>\n    </tr>\n    <tr>\n      <th>3</th>\n      <td>ISH3Weh5lSybSTNb</td>\n      <td>Wings</td>\n      <td>Silly Love Songs</td>\n      <td>Wings At The Speed Of Sound</td>\n      <td>0.591854</td>\n    </tr>\n    <tr>\n      <th>4</th>\n      <td>4fNOkOQVsp2lkBen</td>\n      <td>Alicia Keys</td>\n      <td>Fallin'</td>\n      <td>Songs In A Minor (Expanded Edition)</td>\n      <td>0.590371</td>\n    </tr>\n    <tr>\n      <th>5</th>\n      <td>ptSQMoK9d8CydnHP</td>\n      <td>Phoenix</td>\n      <td>Chloroform</td>\n      <td>Bankrupt!</td>\n      <td>0.585183</td>\n    </tr>\n    <tr>\n      <th>6</th>\n      <td>U0fgnyiJBI9Ypbsj</td>\n      <td>Mika</td>\n      <td>Lollipop</td>\n      <td>Life in Cartoon Motion</td>\n      <td>0.573458</td>\n    </tr>\n    <tr>\n      <th>7</th>\n      <td>t8M8yJHyRlalRn4E</td>\n      <td>Hombres G</td>\n      <td>Te Quiero</td>\n      <td>Las baladas (Los singles vol II)</td>\n      <td>0.565957</td>\n    </tr>\n    <tr>\n      <th>8</th>\n      <td>zI9DjkxOs5x1EhJQ</td>\n      <td>Anna Calvi</td>\n      <td>No More Words</td>\n      <td>Anna Calvi</td>\n      <td>0.562936</td>\n    </tr>\n    <tr>\n      <th>9</th>\n      <td>xDmgjHEzePoJsvkJ</td>\n      <td>Kylie Minogue</td>\n      <td>Under the Influence of Love</td>\n      <td>Light Years</td>\n      <td>0.546204</td>\n    </tr>\n  </tbody>\n</table>\n</div>"
     },
     "execution_count": 72,
     "metadata": {},
     "output_type": "execute_result"
    }
   ],
   "source": [
    "rs_cosine.retrieve(\"xUjqXrsiCLb8tPkC\", n=10)"
   ]
  },
  {
   "cell_type": "code",
   "execution_count": 73,
   "metadata": {
    "ExecuteTime": {
     "end_time": "2023-11-24T01:38:13.678342800Z",
     "start_time": "2023-11-24T01:38:13.555466500Z"
    }
   },
   "outputs": [
    {
     "data": {
      "text/plain": "                 id               artist  \\\n0  TEYr2jFKqLiibyI7  Sophie Ellis-Bextor   \n1  FoenRGxt8ED5UDj8               Danger   \n2  r9jKmYrPBtJRgg2k           The Weeknd   \n\n                                       song  \\\n0                           Love It Is Love   \n1                                     11h30   \n2  Can't Feel My Face - Martin Garrix Remix   \n\n                                 album_name  similarity  \n0                        Shoot from the Hip    0.636165  \n1                            French Attack!    0.604088  \n2  Can't Feel My Face (Martin Garrix Remix)    0.603747  ",
      "text/html": "<div>\n<style scoped>\n    .dataframe tbody tr th:only-of-type {\n        vertical-align: middle;\n    }\n\n    .dataframe tbody tr th {\n        vertical-align: top;\n    }\n\n    .dataframe thead th {\n        text-align: right;\n    }\n</style>\n<table border=\"1\" class=\"dataframe\">\n  <thead>\n    <tr style=\"text-align: right;\">\n      <th></th>\n      <th>id</th>\n      <th>artist</th>\n      <th>song</th>\n      <th>album_name</th>\n      <th>similarity</th>\n    </tr>\n  </thead>\n  <tbody>\n    <tr>\n      <th>0</th>\n      <td>TEYr2jFKqLiibyI7</td>\n      <td>Sophie Ellis-Bextor</td>\n      <td>Love It Is Love</td>\n      <td>Shoot from the Hip</td>\n      <td>0.636165</td>\n    </tr>\n    <tr>\n      <th>1</th>\n      <td>FoenRGxt8ED5UDj8</td>\n      <td>Danger</td>\n      <td>11h30</td>\n      <td>French Attack!</td>\n      <td>0.604088</td>\n    </tr>\n    <tr>\n      <th>2</th>\n      <td>r9jKmYrPBtJRgg2k</td>\n      <td>The Weeknd</td>\n      <td>Can't Feel My Face - Martin Garrix Remix</td>\n      <td>Can't Feel My Face (Martin Garrix Remix)</td>\n      <td>0.603747</td>\n    </tr>\n  </tbody>\n</table>\n</div>"
     },
     "execution_count": 73,
     "metadata": {},
     "output_type": "execute_result"
    }
   ],
   "source": [
    "rs_cosine.retrieve(\"xUjqXrsiCLb8tPkC\", n=3)"
   ]
  },
  {
   "cell_type": "code",
   "execution_count": 74,
   "metadata": {
    "ExecuteTime": {
     "end_time": "2023-11-24T01:38:13.798643900Z",
     "start_time": "2023-11-24T01:38:13.567557100Z"
    }
   },
   "outputs": [
    {
     "data": {
      "text/plain": "                 id           artist                      song  \\\n0  GuH9cRalvkhXvmaZ       Switchfoot                    Always   \n1  yP56QH0tXHXsDNF8  Whitney Houston    I Will Always Love You   \n2  h47nxyjyRPFroIaQ        k.d. lang          Constant Craving   \n3  muLitfTmi9qTxcFV       HammerFall            Always Will Be   \n4  7av2576enFL1qIFt             Sade        You're Not The Man   \n5  d0ANC4yI7hpiCzPe     Taylor Dayne      I'll Always Love You   \n6  4TzvRc17Z1Rn6LWj   Sophie Zelmani                Always You   \n7  aIJRXTjxYPzwX2Y7      Ace of Base  Always Have, Always Will   \n8  BRT3Xamcitwly4w6           Forfun                Pra Sempre   \n9  OH7BeCnl70Kq6bA3    Damian Marley             There For You   \n\n                                          album_name  similarity  \n0                                    Hello Hurricane    0.483889  \n1          The Bodyguard - Original Soundtrack Album    0.483217  \n2                                       Recollection    0.472977  \n3                                  Gates Of Dalhalla    0.458007  \n4                                            Promise    0.455112  \n5             Tell It to My Heart (Expanded Edition)    0.424737  \n6  My Best Friend's Wedding: Music From The Motio...    0.423746  \n7                               Flowers (Remastered)    0.421836  \n8                              Alegria Compartilhada    0.418782  \n9                                 Welcome to Jamrock    0.408642  ",
      "text/html": "<div>\n<style scoped>\n    .dataframe tbody tr th:only-of-type {\n        vertical-align: middle;\n    }\n\n    .dataframe tbody tr th {\n        vertical-align: top;\n    }\n\n    .dataframe thead th {\n        text-align: right;\n    }\n</style>\n<table border=\"1\" class=\"dataframe\">\n  <thead>\n    <tr style=\"text-align: right;\">\n      <th></th>\n      <th>id</th>\n      <th>artist</th>\n      <th>song</th>\n      <th>album_name</th>\n      <th>similarity</th>\n    </tr>\n  </thead>\n  <tbody>\n    <tr>\n      <th>0</th>\n      <td>GuH9cRalvkhXvmaZ</td>\n      <td>Switchfoot</td>\n      <td>Always</td>\n      <td>Hello Hurricane</td>\n      <td>0.483889</td>\n    </tr>\n    <tr>\n      <th>1</th>\n      <td>yP56QH0tXHXsDNF8</td>\n      <td>Whitney Houston</td>\n      <td>I Will Always Love You</td>\n      <td>The Bodyguard - Original Soundtrack Album</td>\n      <td>0.483217</td>\n    </tr>\n    <tr>\n      <th>2</th>\n      <td>h47nxyjyRPFroIaQ</td>\n      <td>k.d. lang</td>\n      <td>Constant Craving</td>\n      <td>Recollection</td>\n      <td>0.472977</td>\n    </tr>\n    <tr>\n      <th>3</th>\n      <td>muLitfTmi9qTxcFV</td>\n      <td>HammerFall</td>\n      <td>Always Will Be</td>\n      <td>Gates Of Dalhalla</td>\n      <td>0.458007</td>\n    </tr>\n    <tr>\n      <th>4</th>\n      <td>7av2576enFL1qIFt</td>\n      <td>Sade</td>\n      <td>You're Not The Man</td>\n      <td>Promise</td>\n      <td>0.455112</td>\n    </tr>\n    <tr>\n      <th>5</th>\n      <td>d0ANC4yI7hpiCzPe</td>\n      <td>Taylor Dayne</td>\n      <td>I'll Always Love You</td>\n      <td>Tell It to My Heart (Expanded Edition)</td>\n      <td>0.424737</td>\n    </tr>\n    <tr>\n      <th>6</th>\n      <td>4TzvRc17Z1Rn6LWj</td>\n      <td>Sophie Zelmani</td>\n      <td>Always You</td>\n      <td>My Best Friend's Wedding: Music From The Motio...</td>\n      <td>0.423746</td>\n    </tr>\n    <tr>\n      <th>7</th>\n      <td>aIJRXTjxYPzwX2Y7</td>\n      <td>Ace of Base</td>\n      <td>Always Have, Always Will</td>\n      <td>Flowers (Remastered)</td>\n      <td>0.421836</td>\n    </tr>\n    <tr>\n      <th>8</th>\n      <td>BRT3Xamcitwly4w6</td>\n      <td>Forfun</td>\n      <td>Pra Sempre</td>\n      <td>Alegria Compartilhada</td>\n      <td>0.418782</td>\n    </tr>\n    <tr>\n      <th>9</th>\n      <td>OH7BeCnl70Kq6bA3</td>\n      <td>Damian Marley</td>\n      <td>There For You</td>\n      <td>Welcome to Jamrock</td>\n      <td>0.408642</td>\n    </tr>\n  </tbody>\n</table>\n</div>"
     },
     "execution_count": 74,
     "metadata": {},
     "output_type": "execute_result"
    }
   ],
   "source": [
    "sample_song = SongInfo(title=\"Always\", artist=\"Bon Jovi\")\n",
    "\n",
    "rs_cosine.retrieve(sample_song, n=10)"
   ]
  },
  {
   "cell_type": "code",
   "execution_count": 75,
   "metadata": {
    "tags": [],
    "ExecuteTime": {
     "end_time": "2023-11-24T01:38:13.860629900Z",
     "start_time": "2023-11-24T01:38:13.660820500Z"
    }
   },
   "outputs": [
    {
     "data": {
      "text/plain": "                 id                    artist  \\\n0  F4whfybQ8r8xQtb0               Deep Purple   \n1  c74L3efP1zcd37Gw                 Metallica   \n2  9ttQerThGMqz8Npx  Christine and the Queens   \n3  XSJyafhagXyCcxZ3               The Beatles   \n4  SNruiLQdBF8F9HJR                  Rita Lee   \n5  qtDorbJpWDPAEqbp          nothing,nowhere.   \n6  hxKAY2pAtxaioSWj               Beach House   \n7  Mw9ctlfuvobHQtxz             Michael Bublé   \n8  OZyqPkVhX1XGYciF                Zappacosta   \n9  i6tUPu5Yxy7pMzAZ              Los Secretos   \n\n                                 song  \\\n0                                Help   \n1                              Purify   \n2                              Tilted   \n3  With a Little Help from My Friends   \n4  With a Little Help from My Friends   \n5                            vacanter   \n6                                Myth   \n7          Can't Help Falling in Love   \n8                            Overload   \n9                      Pero A Tu Lado   \n\n                                          album_name  similarity  \n0  Sleeping Music: Calm Music to Help You Sleep, ...    0.975958  \n1                                          St. Anger    0.687646  \n2                           Christine and the Queens    0.649568  \n3  Sgt. Pepper's Lonely Hearts Club Band (Remaste...    0.567146  \n4                       Aqui, Ali, Em Qualquer Lugar    0.565782  \n5                                             ruiner    0.534030  \n6                                              Bloom    0.520281  \n7                                   Come Fly With Me    0.479365  \n8  Dirty Dancing (Original Motion Picture Soundtr...    0.473655  \n9                                Dos Caras Distintas    0.467779  ",
      "text/html": "<div>\n<style scoped>\n    .dataframe tbody tr th:only-of-type {\n        vertical-align: middle;\n    }\n\n    .dataframe tbody tr th {\n        vertical-align: top;\n    }\n\n    .dataframe thead th {\n        text-align: right;\n    }\n</style>\n<table border=\"1\" class=\"dataframe\">\n  <thead>\n    <tr style=\"text-align: right;\">\n      <th></th>\n      <th>id</th>\n      <th>artist</th>\n      <th>song</th>\n      <th>album_name</th>\n      <th>similarity</th>\n    </tr>\n  </thead>\n  <tbody>\n    <tr>\n      <th>0</th>\n      <td>F4whfybQ8r8xQtb0</td>\n      <td>Deep Purple</td>\n      <td>Help</td>\n      <td>Sleeping Music: Calm Music to Help You Sleep, ...</td>\n      <td>0.975958</td>\n    </tr>\n    <tr>\n      <th>1</th>\n      <td>c74L3efP1zcd37Gw</td>\n      <td>Metallica</td>\n      <td>Purify</td>\n      <td>St. Anger</td>\n      <td>0.687646</td>\n    </tr>\n    <tr>\n      <th>2</th>\n      <td>9ttQerThGMqz8Npx</td>\n      <td>Christine and the Queens</td>\n      <td>Tilted</td>\n      <td>Christine and the Queens</td>\n      <td>0.649568</td>\n    </tr>\n    <tr>\n      <th>3</th>\n      <td>XSJyafhagXyCcxZ3</td>\n      <td>The Beatles</td>\n      <td>With a Little Help from My Friends</td>\n      <td>Sgt. Pepper's Lonely Hearts Club Band (Remaste...</td>\n      <td>0.567146</td>\n    </tr>\n    <tr>\n      <th>4</th>\n      <td>SNruiLQdBF8F9HJR</td>\n      <td>Rita Lee</td>\n      <td>With a Little Help from My Friends</td>\n      <td>Aqui, Ali, Em Qualquer Lugar</td>\n      <td>0.565782</td>\n    </tr>\n    <tr>\n      <th>5</th>\n      <td>qtDorbJpWDPAEqbp</td>\n      <td>nothing,nowhere.</td>\n      <td>vacanter</td>\n      <td>ruiner</td>\n      <td>0.534030</td>\n    </tr>\n    <tr>\n      <th>6</th>\n      <td>hxKAY2pAtxaioSWj</td>\n      <td>Beach House</td>\n      <td>Myth</td>\n      <td>Bloom</td>\n      <td>0.520281</td>\n    </tr>\n    <tr>\n      <th>7</th>\n      <td>Mw9ctlfuvobHQtxz</td>\n      <td>Michael Bublé</td>\n      <td>Can't Help Falling in Love</td>\n      <td>Come Fly With Me</td>\n      <td>0.479365</td>\n    </tr>\n    <tr>\n      <th>8</th>\n      <td>OZyqPkVhX1XGYciF</td>\n      <td>Zappacosta</td>\n      <td>Overload</td>\n      <td>Dirty Dancing (Original Motion Picture Soundtr...</td>\n      <td>0.473655</td>\n    </tr>\n    <tr>\n      <th>9</th>\n      <td>i6tUPu5Yxy7pMzAZ</td>\n      <td>Los Secretos</td>\n      <td>Pero A Tu Lado</td>\n      <td>Dos Caras Distintas</td>\n      <td>0.467779</td>\n    </tr>\n  </tbody>\n</table>\n</div>"
     },
     "execution_count": 75,
     "metadata": {},
     "output_type": "execute_result"
    }
   ],
   "source": [
    "sample_song = SongInfo(title=\"Help! - Remastered 2009\", artist=\"The Beatles\")\n",
    "\n",
    "rs_cosine.retrieve(sample_song, n=10)"
   ]
  },
  {
   "cell_type": "code",
   "execution_count": 76,
   "metadata": {
    "tags": [],
    "ExecuteTime": {
     "end_time": "2023-11-24T01:38:13.950658200Z",
     "start_time": "2023-11-24T01:38:13.755892200Z"
    }
   },
   "outputs": [
    {
     "data": {
      "text/plain": "                 id           artist                  song  \\\n0  Eld0lALLIikybAst       Bad Wolves                Zombie   \n1  9QjC5RsVakjafpxO           Pixies          Head Carrier   \n2  TlJ3uClhlJBIPxVg        Rammstein       Mann gegen Mann   \n3  UgxT5MSPdBJ6wekm    Mayday Parade            In My Head   \n4  x7JXGEHZv7dYCPxZ   Alabama Shakes          Over My Head   \n5  V8gpwrBWuEYG0f4S  Cannibal Corpse  Severed Head Stoning   \n6  K6dklMBW6pcuxBol      Julie Byrne      Sea As It Glides   \n7  GX2ioTwjLPBWPFwA   Colbie Caillat  Land Called Far Away   \n8  bwF6WFgG72FvarGJ           Pixies     Where Is My Mind?   \n9  Ycz3ZVDtOh5wTwuT      Iron Maiden    Look for the Truth   \n\n                       album_name  similarity  \n0                          Zombie    0.842231  \n1                    Head Carrier    0.641547  \n2                        ROSENROT    0.617655  \n3           Punk Goes Pop, Vol. 3    0.587988  \n4                   Sound & Color    0.519051  \n5              The Wretched Spawn    0.475522  \n6              Not Even Happiness    0.469837  \n7                     Gypsy Heart    0.463810  \n8        Surfer Rosa (Remastered)    0.456904  \n9  The X Factor (2015 - Remaster)    0.455056  ",
      "text/html": "<div>\n<style scoped>\n    .dataframe tbody tr th:only-of-type {\n        vertical-align: middle;\n    }\n\n    .dataframe tbody tr th {\n        vertical-align: top;\n    }\n\n    .dataframe thead th {\n        text-align: right;\n    }\n</style>\n<table border=\"1\" class=\"dataframe\">\n  <thead>\n    <tr style=\"text-align: right;\">\n      <th></th>\n      <th>id</th>\n      <th>artist</th>\n      <th>song</th>\n      <th>album_name</th>\n      <th>similarity</th>\n    </tr>\n  </thead>\n  <tbody>\n    <tr>\n      <th>0</th>\n      <td>Eld0lALLIikybAst</td>\n      <td>Bad Wolves</td>\n      <td>Zombie</td>\n      <td>Zombie</td>\n      <td>0.842231</td>\n    </tr>\n    <tr>\n      <th>1</th>\n      <td>9QjC5RsVakjafpxO</td>\n      <td>Pixies</td>\n      <td>Head Carrier</td>\n      <td>Head Carrier</td>\n      <td>0.641547</td>\n    </tr>\n    <tr>\n      <th>2</th>\n      <td>TlJ3uClhlJBIPxVg</td>\n      <td>Rammstein</td>\n      <td>Mann gegen Mann</td>\n      <td>ROSENROT</td>\n      <td>0.617655</td>\n    </tr>\n    <tr>\n      <th>3</th>\n      <td>UgxT5MSPdBJ6wekm</td>\n      <td>Mayday Parade</td>\n      <td>In My Head</td>\n      <td>Punk Goes Pop, Vol. 3</td>\n      <td>0.587988</td>\n    </tr>\n    <tr>\n      <th>4</th>\n      <td>x7JXGEHZv7dYCPxZ</td>\n      <td>Alabama Shakes</td>\n      <td>Over My Head</td>\n      <td>Sound &amp; Color</td>\n      <td>0.519051</td>\n    </tr>\n    <tr>\n      <th>5</th>\n      <td>V8gpwrBWuEYG0f4S</td>\n      <td>Cannibal Corpse</td>\n      <td>Severed Head Stoning</td>\n      <td>The Wretched Spawn</td>\n      <td>0.475522</td>\n    </tr>\n    <tr>\n      <th>6</th>\n      <td>K6dklMBW6pcuxBol</td>\n      <td>Julie Byrne</td>\n      <td>Sea As It Glides</td>\n      <td>Not Even Happiness</td>\n      <td>0.469837</td>\n    </tr>\n    <tr>\n      <th>7</th>\n      <td>GX2ioTwjLPBWPFwA</td>\n      <td>Colbie Caillat</td>\n      <td>Land Called Far Away</td>\n      <td>Gypsy Heart</td>\n      <td>0.463810</td>\n    </tr>\n    <tr>\n      <th>8</th>\n      <td>bwF6WFgG72FvarGJ</td>\n      <td>Pixies</td>\n      <td>Where Is My Mind?</td>\n      <td>Surfer Rosa (Remastered)</td>\n      <td>0.456904</td>\n    </tr>\n    <tr>\n      <th>9</th>\n      <td>Ycz3ZVDtOh5wTwuT</td>\n      <td>Iron Maiden</td>\n      <td>Look for the Truth</td>\n      <td>The X Factor (2015 - Remaster)</td>\n      <td>0.455056</td>\n    </tr>\n  </tbody>\n</table>\n</div>"
     },
     "execution_count": 76,
     "metadata": {},
     "output_type": "execute_result"
    }
   ],
   "source": [
    "sample_song = SongInfo(title=\"Zombie\", artist=\"The Cranberries\")\n",
    "\n",
    "rs_cosine.retrieve(sample_song, n=10)"
   ]
  },
  {
   "cell_type": "markdown",
   "metadata": {},
   "source": [
    "## Text-based (cos-sim, \"feature\")"
   ]
  },
  {
   "cell_type": "markdown",
   "metadata": {},
   "source": [
    "We use BERT embeddings."
   ]
  },
  {
   "cell_type": "code",
   "execution_count": 77,
   "metadata": {
    "ExecuteTime": {
     "end_time": "2023-11-24T01:38:13.976197100Z",
     "start_time": "2023-11-24T01:38:13.847500400Z"
    }
   },
   "outputs": [],
   "source": [
    "rs_bert = RetrievalSystem(df, cosine_similarity, \"bert_embedding\")"
   ]
  },
  {
   "cell_type": "code",
   "execution_count": 78,
   "metadata": {
    "ExecuteTime": {
     "end_time": "2023-11-24T01:38:14.026719200Z",
     "start_time": "2023-11-24T01:38:13.879569Z"
    }
   },
   "outputs": [
    {
     "data": {
      "text/plain": "                 id          artist               song  \\\n0  jj55fEqkySIv4qy1       YNW Melly  Murder On My Mind   \n1  OokmnsloeW1Sh3NF         Freeway         What We Do   \n2  jJEgEAF2iuW4yk9g     Danny Brown       When It Rain   \n3  M65mU1UIozrDxcvu  Bad Meets Evil          Fast Lane   \n4  4r1IjzqHAOYQlgfS          Eminem               Fall   \n\n                  album_name  similarity  \n0                   I AM YOU    0.750990  \n1       Philadelphia Freeway    0.731522  \n2        Atrocity Exhibition    0.729569  \n3  Hell: The Sequel (Deluxe)    0.720946  \n4                   Kamikaze    0.718222  ",
      "text/html": "<div>\n<style scoped>\n    .dataframe tbody tr th:only-of-type {\n        vertical-align: middle;\n    }\n\n    .dataframe tbody tr th {\n        vertical-align: top;\n    }\n\n    .dataframe thead th {\n        text-align: right;\n    }\n</style>\n<table border=\"1\" class=\"dataframe\">\n  <thead>\n    <tr style=\"text-align: right;\">\n      <th></th>\n      <th>id</th>\n      <th>artist</th>\n      <th>song</th>\n      <th>album_name</th>\n      <th>similarity</th>\n    </tr>\n  </thead>\n  <tbody>\n    <tr>\n      <th>0</th>\n      <td>jj55fEqkySIv4qy1</td>\n      <td>YNW Melly</td>\n      <td>Murder On My Mind</td>\n      <td>I AM YOU</td>\n      <td>0.750990</td>\n    </tr>\n    <tr>\n      <th>1</th>\n      <td>OokmnsloeW1Sh3NF</td>\n      <td>Freeway</td>\n      <td>What We Do</td>\n      <td>Philadelphia Freeway</td>\n      <td>0.731522</td>\n    </tr>\n    <tr>\n      <th>2</th>\n      <td>jJEgEAF2iuW4yk9g</td>\n      <td>Danny Brown</td>\n      <td>When It Rain</td>\n      <td>Atrocity Exhibition</td>\n      <td>0.729569</td>\n    </tr>\n    <tr>\n      <th>3</th>\n      <td>M65mU1UIozrDxcvu</td>\n      <td>Bad Meets Evil</td>\n      <td>Fast Lane</td>\n      <td>Hell: The Sequel (Deluxe)</td>\n      <td>0.720946</td>\n    </tr>\n    <tr>\n      <th>4</th>\n      <td>4r1IjzqHAOYQlgfS</td>\n      <td>Eminem</td>\n      <td>Fall</td>\n      <td>Kamikaze</td>\n      <td>0.718222</td>\n    </tr>\n  </tbody>\n</table>\n</div>"
     },
     "execution_count": 78,
     "metadata": {},
     "output_type": "execute_result"
    }
   ],
   "source": [
    "rs_bert.retrieve(1)"
   ]
  },
  {
   "cell_type": "code",
   "execution_count": 79,
   "metadata": {
    "ExecuteTime": {
     "end_time": "2023-11-24T01:38:14.047740600Z",
     "start_time": "2023-11-24T01:38:13.971197700Z"
    }
   },
   "outputs": [
    {
     "data": {
      "text/plain": "                 id          artist               song  \\\n0  jj55fEqkySIv4qy1       YNW Melly  Murder On My Mind   \n1  OokmnsloeW1Sh3NF         Freeway         What We Do   \n2  jJEgEAF2iuW4yk9g     Danny Brown       When It Rain   \n3  M65mU1UIozrDxcvu  Bad Meets Evil          Fast Lane   \n4  4r1IjzqHAOYQlgfS          Eminem               Fall   \n\n                  album_name  similarity  \n0                   I AM YOU    0.750990  \n1       Philadelphia Freeway    0.731522  \n2        Atrocity Exhibition    0.729569  \n3  Hell: The Sequel (Deluxe)    0.720946  \n4                   Kamikaze    0.718222  ",
      "text/html": "<div>\n<style scoped>\n    .dataframe tbody tr th:only-of-type {\n        vertical-align: middle;\n    }\n\n    .dataframe tbody tr th {\n        vertical-align: top;\n    }\n\n    .dataframe thead th {\n        text-align: right;\n    }\n</style>\n<table border=\"1\" class=\"dataframe\">\n  <thead>\n    <tr style=\"text-align: right;\">\n      <th></th>\n      <th>id</th>\n      <th>artist</th>\n      <th>song</th>\n      <th>album_name</th>\n      <th>similarity</th>\n    </tr>\n  </thead>\n  <tbody>\n    <tr>\n      <th>0</th>\n      <td>jj55fEqkySIv4qy1</td>\n      <td>YNW Melly</td>\n      <td>Murder On My Mind</td>\n      <td>I AM YOU</td>\n      <td>0.750990</td>\n    </tr>\n    <tr>\n      <th>1</th>\n      <td>OokmnsloeW1Sh3NF</td>\n      <td>Freeway</td>\n      <td>What We Do</td>\n      <td>Philadelphia Freeway</td>\n      <td>0.731522</td>\n    </tr>\n    <tr>\n      <th>2</th>\n      <td>jJEgEAF2iuW4yk9g</td>\n      <td>Danny Brown</td>\n      <td>When It Rain</td>\n      <td>Atrocity Exhibition</td>\n      <td>0.729569</td>\n    </tr>\n    <tr>\n      <th>3</th>\n      <td>M65mU1UIozrDxcvu</td>\n      <td>Bad Meets Evil</td>\n      <td>Fast Lane</td>\n      <td>Hell: The Sequel (Deluxe)</td>\n      <td>0.720946</td>\n    </tr>\n    <tr>\n      <th>4</th>\n      <td>4r1IjzqHAOYQlgfS</td>\n      <td>Eminem</td>\n      <td>Fall</td>\n      <td>Kamikaze</td>\n      <td>0.718222</td>\n    </tr>\n  </tbody>\n</table>\n</div>"
     },
     "execution_count": 79,
     "metadata": {},
     "output_type": "execute_result"
    }
   ],
   "source": [
    "# check reproducibility\n",
    "rs_bert.retrieve(1)"
   ]
  },
  {
   "cell_type": "code",
   "execution_count": 80,
   "metadata": {
    "ExecuteTime": {
     "end_time": "2023-11-24T01:38:14.163428800Z",
     "start_time": "2023-11-24T01:38:13.988235500Z"
    }
   },
   "outputs": [
    {
     "data": {
      "text/plain": "                 id                    artist                        song  \\\n0  KJyVTXfwdjUGtj5m                   Boyzone         Love Is A Hurricane   \n1  vMluKVsjLFKZEmdg                Rose Royce                   Best Love   \n2  uRNge3sN74NdIaYi                Pixie Lott                     My Love   \n3  8nyPt8gB1K8g5FNv                  Bon Jovi                      Always   \n4  w64KwSB7npnE8hb2                     Feist              Inside and Out   \n5  gkaNGhUTCZzICBcE             Frankie Valli  Can't Take My Eyes Off You   \n6  DOlk8ct9zA9uIFX0  Selena Gomez & The Scene         A Year Without Rain   \n7  8xFD1UO8nr1qwOg6                Ed Sheeran           Thinking Out Loud   \n8  gX0rgtPnKPOD9qhT              Mariah Carey            To Be Around You   \n9  xQfqDtAQbxEn7PVM            Jackie Mendoza                    De Lejos   \n\n                                          album_name  similarity  \n0                                            Brother    0.838821  \n1                              Essential - Soul Love    0.816716  \n2                                         Turn It Up    0.809644  \n3                                         Cross Road    0.809535  \n4                                         Let It Die    0.809321  \n5  Relaxing Classical Playlist: Chilled Music for...    0.808088  \n6                                A Year Without Rain    0.807728  \n7                                 x (Deluxe Edition)    0.804023  \n8                                           Emotions    0.802836  \n9                                           De Lejos    0.801660  ",
      "text/html": "<div>\n<style scoped>\n    .dataframe tbody tr th:only-of-type {\n        vertical-align: middle;\n    }\n\n    .dataframe tbody tr th {\n        vertical-align: top;\n    }\n\n    .dataframe thead th {\n        text-align: right;\n    }\n</style>\n<table border=\"1\" class=\"dataframe\">\n  <thead>\n    <tr style=\"text-align: right;\">\n      <th></th>\n      <th>id</th>\n      <th>artist</th>\n      <th>song</th>\n      <th>album_name</th>\n      <th>similarity</th>\n    </tr>\n  </thead>\n  <tbody>\n    <tr>\n      <th>0</th>\n      <td>KJyVTXfwdjUGtj5m</td>\n      <td>Boyzone</td>\n      <td>Love Is A Hurricane</td>\n      <td>Brother</td>\n      <td>0.838821</td>\n    </tr>\n    <tr>\n      <th>1</th>\n      <td>vMluKVsjLFKZEmdg</td>\n      <td>Rose Royce</td>\n      <td>Best Love</td>\n      <td>Essential - Soul Love</td>\n      <td>0.816716</td>\n    </tr>\n    <tr>\n      <th>2</th>\n      <td>uRNge3sN74NdIaYi</td>\n      <td>Pixie Lott</td>\n      <td>My Love</td>\n      <td>Turn It Up</td>\n      <td>0.809644</td>\n    </tr>\n    <tr>\n      <th>3</th>\n      <td>8nyPt8gB1K8g5FNv</td>\n      <td>Bon Jovi</td>\n      <td>Always</td>\n      <td>Cross Road</td>\n      <td>0.809535</td>\n    </tr>\n    <tr>\n      <th>4</th>\n      <td>w64KwSB7npnE8hb2</td>\n      <td>Feist</td>\n      <td>Inside and Out</td>\n      <td>Let It Die</td>\n      <td>0.809321</td>\n    </tr>\n    <tr>\n      <th>5</th>\n      <td>gkaNGhUTCZzICBcE</td>\n      <td>Frankie Valli</td>\n      <td>Can't Take My Eyes Off You</td>\n      <td>Relaxing Classical Playlist: Chilled Music for...</td>\n      <td>0.808088</td>\n    </tr>\n    <tr>\n      <th>6</th>\n      <td>DOlk8ct9zA9uIFX0</td>\n      <td>Selena Gomez &amp; The Scene</td>\n      <td>A Year Without Rain</td>\n      <td>A Year Without Rain</td>\n      <td>0.807728</td>\n    </tr>\n    <tr>\n      <th>7</th>\n      <td>8xFD1UO8nr1qwOg6</td>\n      <td>Ed Sheeran</td>\n      <td>Thinking Out Loud</td>\n      <td>x (Deluxe Edition)</td>\n      <td>0.804023</td>\n    </tr>\n    <tr>\n      <th>8</th>\n      <td>gX0rgtPnKPOD9qhT</td>\n      <td>Mariah Carey</td>\n      <td>To Be Around You</td>\n      <td>Emotions</td>\n      <td>0.802836</td>\n    </tr>\n    <tr>\n      <th>9</th>\n      <td>xQfqDtAQbxEn7PVM</td>\n      <td>Jackie Mendoza</td>\n      <td>De Lejos</td>\n      <td>De Lejos</td>\n      <td>0.801660</td>\n    </tr>\n  </tbody>\n</table>\n</div>"
     },
     "execution_count": 80,
     "metadata": {},
     "output_type": "execute_result"
    }
   ],
   "source": [
    "rs_bert.retrieve(\"xUjqXrsiCLb8tPkC\", n=10)"
   ]
  },
  {
   "cell_type": "code",
   "execution_count": 81,
   "metadata": {
    "ExecuteTime": {
     "end_time": "2023-11-24T01:38:14.164429100Z",
     "start_time": "2023-11-24T01:38:14.081299900Z"
    }
   },
   "outputs": [
    {
     "data": {
      "text/plain": "                 id      artist                 song             album_name  \\\n0  KJyVTXfwdjUGtj5m     Boyzone  Love Is A Hurricane                Brother   \n1  vMluKVsjLFKZEmdg  Rose Royce            Best Love  Essential - Soul Love   \n2  uRNge3sN74NdIaYi  Pixie Lott              My Love             Turn It Up   \n\n   similarity  \n0    0.838821  \n1    0.816716  \n2    0.809644  ",
      "text/html": "<div>\n<style scoped>\n    .dataframe tbody tr th:only-of-type {\n        vertical-align: middle;\n    }\n\n    .dataframe tbody tr th {\n        vertical-align: top;\n    }\n\n    .dataframe thead th {\n        text-align: right;\n    }\n</style>\n<table border=\"1\" class=\"dataframe\">\n  <thead>\n    <tr style=\"text-align: right;\">\n      <th></th>\n      <th>id</th>\n      <th>artist</th>\n      <th>song</th>\n      <th>album_name</th>\n      <th>similarity</th>\n    </tr>\n  </thead>\n  <tbody>\n    <tr>\n      <th>0</th>\n      <td>KJyVTXfwdjUGtj5m</td>\n      <td>Boyzone</td>\n      <td>Love Is A Hurricane</td>\n      <td>Brother</td>\n      <td>0.838821</td>\n    </tr>\n    <tr>\n      <th>1</th>\n      <td>vMluKVsjLFKZEmdg</td>\n      <td>Rose Royce</td>\n      <td>Best Love</td>\n      <td>Essential - Soul Love</td>\n      <td>0.816716</td>\n    </tr>\n    <tr>\n      <th>2</th>\n      <td>uRNge3sN74NdIaYi</td>\n      <td>Pixie Lott</td>\n      <td>My Love</td>\n      <td>Turn It Up</td>\n      <td>0.809644</td>\n    </tr>\n  </tbody>\n</table>\n</div>"
     },
     "execution_count": 81,
     "metadata": {},
     "output_type": "execute_result"
    }
   ],
   "source": [
    "rs_bert.retrieve(\"xUjqXrsiCLb8tPkC\", n=3)"
   ]
  },
  {
   "cell_type": "code",
   "execution_count": 82,
   "metadata": {
    "ExecuteTime": {
     "end_time": "2023-11-24T01:38:14.298983500Z",
     "start_time": "2023-11-24T01:38:14.100320600Z"
    }
   },
   "outputs": [
    {
     "data": {
      "text/plain": "                 id         artist                              song  \\\n0  g5Y3fz7C9EnMXdMA   Lana Del Rey  Blue Jeans (Gesaffelstein Remix)   \n1  G2otV6WAmea6VB1f          Steps                         Heartbeat   \n2  DzOzu2jdYJQY7xH9   Mariah Carey                 Whenever You Call   \n3  ire6sDD2ryFx62Vx     Supertramp                   My Kind Of Lady   \n4  RvExtv1mIVglWrLc  Amber Pacific                     Gone So Young   \n5  8xFD1UO8nr1qwOg6     Ed Sheeran                 Thinking Out Loud   \n6  qbNvLKSCnMbHHD26  Atomic Kitten                 If You Come to Me   \n7  C9TfpaaJWG6ZbRmg        Oh Land                   Love You Better   \n8  WYDhkPUgu71CQnF2   Shania Twain            Forever and for Always   \n9  3vbtwqhpTpQXYKs5     Ed Sheeran                      Give Me Love   \n\n                        album_name  similarity  \n0               Blue Jeans Remixes    0.861671  \n1                         Step One    0.855285  \n2                        Butterfly    0.850007  \n3   Famous Last Words (Remastered)    0.846296  \n4  The Possibility and the Promise    0.845325  \n5               x (Deluxe Edition)    0.844703  \n6                     Ladies Night    0.839742  \n7                         Wishbone    0.832535  \n8                              Up!    0.832055  \n9                                +    0.831858  ",
      "text/html": "<div>\n<style scoped>\n    .dataframe tbody tr th:only-of-type {\n        vertical-align: middle;\n    }\n\n    .dataframe tbody tr th {\n        vertical-align: top;\n    }\n\n    .dataframe thead th {\n        text-align: right;\n    }\n</style>\n<table border=\"1\" class=\"dataframe\">\n  <thead>\n    <tr style=\"text-align: right;\">\n      <th></th>\n      <th>id</th>\n      <th>artist</th>\n      <th>song</th>\n      <th>album_name</th>\n      <th>similarity</th>\n    </tr>\n  </thead>\n  <tbody>\n    <tr>\n      <th>0</th>\n      <td>g5Y3fz7C9EnMXdMA</td>\n      <td>Lana Del Rey</td>\n      <td>Blue Jeans (Gesaffelstein Remix)</td>\n      <td>Blue Jeans Remixes</td>\n      <td>0.861671</td>\n    </tr>\n    <tr>\n      <th>1</th>\n      <td>G2otV6WAmea6VB1f</td>\n      <td>Steps</td>\n      <td>Heartbeat</td>\n      <td>Step One</td>\n      <td>0.855285</td>\n    </tr>\n    <tr>\n      <th>2</th>\n      <td>DzOzu2jdYJQY7xH9</td>\n      <td>Mariah Carey</td>\n      <td>Whenever You Call</td>\n      <td>Butterfly</td>\n      <td>0.850007</td>\n    </tr>\n    <tr>\n      <th>3</th>\n      <td>ire6sDD2ryFx62Vx</td>\n      <td>Supertramp</td>\n      <td>My Kind Of Lady</td>\n      <td>Famous Last Words (Remastered)</td>\n      <td>0.846296</td>\n    </tr>\n    <tr>\n      <th>4</th>\n      <td>RvExtv1mIVglWrLc</td>\n      <td>Amber Pacific</td>\n      <td>Gone So Young</td>\n      <td>The Possibility and the Promise</td>\n      <td>0.845325</td>\n    </tr>\n    <tr>\n      <th>5</th>\n      <td>8xFD1UO8nr1qwOg6</td>\n      <td>Ed Sheeran</td>\n      <td>Thinking Out Loud</td>\n      <td>x (Deluxe Edition)</td>\n      <td>0.844703</td>\n    </tr>\n    <tr>\n      <th>6</th>\n      <td>qbNvLKSCnMbHHD26</td>\n      <td>Atomic Kitten</td>\n      <td>If You Come to Me</td>\n      <td>Ladies Night</td>\n      <td>0.839742</td>\n    </tr>\n    <tr>\n      <th>7</th>\n      <td>C9TfpaaJWG6ZbRmg</td>\n      <td>Oh Land</td>\n      <td>Love You Better</td>\n      <td>Wishbone</td>\n      <td>0.832535</td>\n    </tr>\n    <tr>\n      <th>8</th>\n      <td>WYDhkPUgu71CQnF2</td>\n      <td>Shania Twain</td>\n      <td>Forever and for Always</td>\n      <td>Up!</td>\n      <td>0.832055</td>\n    </tr>\n    <tr>\n      <th>9</th>\n      <td>3vbtwqhpTpQXYKs5</td>\n      <td>Ed Sheeran</td>\n      <td>Give Me Love</td>\n      <td>+</td>\n      <td>0.831858</td>\n    </tr>\n  </tbody>\n</table>\n</div>"
     },
     "execution_count": 82,
     "metadata": {},
     "output_type": "execute_result"
    }
   ],
   "source": [
    "sample_song = SongInfo(title=\"Always\", artist=\"Bon Jovi\")\n",
    "\n",
    "rs_bert.retrieve(sample_song, n=10)"
   ]
  },
  {
   "cell_type": "code",
   "execution_count": 83,
   "metadata": {
    "tags": [],
    "ExecuteTime": {
     "end_time": "2023-11-24T01:38:14.394617300Z",
     "start_time": "2023-11-24T01:38:14.190961500Z"
    }
   },
   "outputs": [
    {
     "data": {
      "text/plain": "                 id            artist                         song  \\\n0  F4whfybQ8r8xQtb0       Deep Purple                         Help   \n1  x61tsmeyuj0c44LR          No Doubt                       Undone   \n2  pKelJlGY1Vf89K17            Issues    Disappear [Remember When]   \n3  dst4n8hPwe3bvdPI         Underoath  Coming Down Is Calming Down   \n4  vOGoMtp0LQ2fzS3F         Glasvegas                    Geraldine   \n5  ENFhYQZ1NLMxTg4N  The Story So Far                    If I Fall   \n6  BPfuDdxtlgtLNQ5D   Jennifer Hudson                I Am Changing   \n7  k2sTB8Yei5EDW7ba    Ashley Tisdale            Don't Let Me Down   \n8  0EVEKKlvBiB0Dkge  Crown the Empire      Lead Me Out Of The Dark   \n9  5vUvj6eHNb9hNBtC       The Stooges              I Need Somebody   \n\n                                          album_name  similarity  \n0  Sleeping Music: Calm Music to Help You Sleep, ...    0.929083  \n1                                     Push And Shove    0.750682  \n2                                             Issues    0.735862  \n3                    Lost In The Sound Of Separation    0.707170  \n4                                          Glasvegas    0.706876  \n5                                        Proper Dose    0.706575  \n6         Dreamgirls (Music from the Motion Picture)    0.699699  \n7                              Music Sessions, Vol.1    0.698252  \n8                       The Fallout (Deluxe Reissue)    0.690536  \n9                                          Raw Power    0.682918  ",
      "text/html": "<div>\n<style scoped>\n    .dataframe tbody tr th:only-of-type {\n        vertical-align: middle;\n    }\n\n    .dataframe tbody tr th {\n        vertical-align: top;\n    }\n\n    .dataframe thead th {\n        text-align: right;\n    }\n</style>\n<table border=\"1\" class=\"dataframe\">\n  <thead>\n    <tr style=\"text-align: right;\">\n      <th></th>\n      <th>id</th>\n      <th>artist</th>\n      <th>song</th>\n      <th>album_name</th>\n      <th>similarity</th>\n    </tr>\n  </thead>\n  <tbody>\n    <tr>\n      <th>0</th>\n      <td>F4whfybQ8r8xQtb0</td>\n      <td>Deep Purple</td>\n      <td>Help</td>\n      <td>Sleeping Music: Calm Music to Help You Sleep, ...</td>\n      <td>0.929083</td>\n    </tr>\n    <tr>\n      <th>1</th>\n      <td>x61tsmeyuj0c44LR</td>\n      <td>No Doubt</td>\n      <td>Undone</td>\n      <td>Push And Shove</td>\n      <td>0.750682</td>\n    </tr>\n    <tr>\n      <th>2</th>\n      <td>pKelJlGY1Vf89K17</td>\n      <td>Issues</td>\n      <td>Disappear [Remember When]</td>\n      <td>Issues</td>\n      <td>0.735862</td>\n    </tr>\n    <tr>\n      <th>3</th>\n      <td>dst4n8hPwe3bvdPI</td>\n      <td>Underoath</td>\n      <td>Coming Down Is Calming Down</td>\n      <td>Lost In The Sound Of Separation</td>\n      <td>0.707170</td>\n    </tr>\n    <tr>\n      <th>4</th>\n      <td>vOGoMtp0LQ2fzS3F</td>\n      <td>Glasvegas</td>\n      <td>Geraldine</td>\n      <td>Glasvegas</td>\n      <td>0.706876</td>\n    </tr>\n    <tr>\n      <th>5</th>\n      <td>ENFhYQZ1NLMxTg4N</td>\n      <td>The Story So Far</td>\n      <td>If I Fall</td>\n      <td>Proper Dose</td>\n      <td>0.706575</td>\n    </tr>\n    <tr>\n      <th>6</th>\n      <td>BPfuDdxtlgtLNQ5D</td>\n      <td>Jennifer Hudson</td>\n      <td>I Am Changing</td>\n      <td>Dreamgirls (Music from the Motion Picture)</td>\n      <td>0.699699</td>\n    </tr>\n    <tr>\n      <th>7</th>\n      <td>k2sTB8Yei5EDW7ba</td>\n      <td>Ashley Tisdale</td>\n      <td>Don't Let Me Down</td>\n      <td>Music Sessions, Vol.1</td>\n      <td>0.698252</td>\n    </tr>\n    <tr>\n      <th>8</th>\n      <td>0EVEKKlvBiB0Dkge</td>\n      <td>Crown the Empire</td>\n      <td>Lead Me Out Of The Dark</td>\n      <td>The Fallout (Deluxe Reissue)</td>\n      <td>0.690536</td>\n    </tr>\n    <tr>\n      <th>9</th>\n      <td>5vUvj6eHNb9hNBtC</td>\n      <td>The Stooges</td>\n      <td>I Need Somebody</td>\n      <td>Raw Power</td>\n      <td>0.682918</td>\n    </tr>\n  </tbody>\n</table>\n</div>"
     },
     "execution_count": 83,
     "metadata": {},
     "output_type": "execute_result"
    }
   ],
   "source": [
    "sample_song = SongInfo(title=\"Help! - Remastered 2009\", artist=\"The Beatles\")\n",
    "\n",
    "rs_bert.retrieve(sample_song, n=10)"
   ]
  },
  {
   "cell_type": "code",
   "execution_count": 84,
   "metadata": {
    "tags": [],
    "ExecuteTime": {
     "end_time": "2023-11-24T01:38:14.470278Z",
     "start_time": "2023-11-24T01:38:14.298983500Z"
    }
   },
   "outputs": [
    {
     "data": {
      "text/plain": "                 id               artist                  song  \\\n0  Eld0lALLIikybAst           Bad Wolves                Zombie   \n1  ez6FRB2E8jioUUZt        Of Mice & Men               Warzone   \n2  i5vRDPz9mJERSjCZ            Mono Inc.     Out In The Fields   \n3  pqRrADoga2QzRddh             Megadeth     Death From Within   \n4  DKxQNHrmTPllOC5b           Gary Moore     Out in the Fields   \n5  QGUHfFcgQc9SqkCN  Cavalera Conspiracy        Killing Inside   \n6  pEAawngmMyR3Qccb          Lamb of God          Still Echoes   \n7  dleNiwrlnwrvU1Mr            Metallica  Some Kind of Monster   \n8  1TTaCU6DaHQ0nE3m            Hüsker Dü       What's Going On   \n9  Ycz3ZVDtOh5wTwuT          Iron Maiden    Look for the Truth   \n\n                             album_name  similarity  \n0                                Zombie    0.965913  \n1                                  Defy    0.690170  \n2                 Together Till the End    0.651763  \n3                              Dystopia    0.650113  \n4                         Run For Cover    0.648858  \n5  Blunt Force Trauma (Special Edition)    0.645943  \n6         VII: Sturm Und Drang (Deluxe)    0.644222  \n7                             St. Anger    0.639605  \n8                            Zen Arcade    0.633913  \n9        The X Factor (2015 - Remaster)    0.629737  ",
      "text/html": "<div>\n<style scoped>\n    .dataframe tbody tr th:only-of-type {\n        vertical-align: middle;\n    }\n\n    .dataframe tbody tr th {\n        vertical-align: top;\n    }\n\n    .dataframe thead th {\n        text-align: right;\n    }\n</style>\n<table border=\"1\" class=\"dataframe\">\n  <thead>\n    <tr style=\"text-align: right;\">\n      <th></th>\n      <th>id</th>\n      <th>artist</th>\n      <th>song</th>\n      <th>album_name</th>\n      <th>similarity</th>\n    </tr>\n  </thead>\n  <tbody>\n    <tr>\n      <th>0</th>\n      <td>Eld0lALLIikybAst</td>\n      <td>Bad Wolves</td>\n      <td>Zombie</td>\n      <td>Zombie</td>\n      <td>0.965913</td>\n    </tr>\n    <tr>\n      <th>1</th>\n      <td>ez6FRB2E8jioUUZt</td>\n      <td>Of Mice &amp; Men</td>\n      <td>Warzone</td>\n      <td>Defy</td>\n      <td>0.690170</td>\n    </tr>\n    <tr>\n      <th>2</th>\n      <td>i5vRDPz9mJERSjCZ</td>\n      <td>Mono Inc.</td>\n      <td>Out In The Fields</td>\n      <td>Together Till the End</td>\n      <td>0.651763</td>\n    </tr>\n    <tr>\n      <th>3</th>\n      <td>pqRrADoga2QzRddh</td>\n      <td>Megadeth</td>\n      <td>Death From Within</td>\n      <td>Dystopia</td>\n      <td>0.650113</td>\n    </tr>\n    <tr>\n      <th>4</th>\n      <td>DKxQNHrmTPllOC5b</td>\n      <td>Gary Moore</td>\n      <td>Out in the Fields</td>\n      <td>Run For Cover</td>\n      <td>0.648858</td>\n    </tr>\n    <tr>\n      <th>5</th>\n      <td>QGUHfFcgQc9SqkCN</td>\n      <td>Cavalera Conspiracy</td>\n      <td>Killing Inside</td>\n      <td>Blunt Force Trauma (Special Edition)</td>\n      <td>0.645943</td>\n    </tr>\n    <tr>\n      <th>6</th>\n      <td>pEAawngmMyR3Qccb</td>\n      <td>Lamb of God</td>\n      <td>Still Echoes</td>\n      <td>VII: Sturm Und Drang (Deluxe)</td>\n      <td>0.644222</td>\n    </tr>\n    <tr>\n      <th>7</th>\n      <td>dleNiwrlnwrvU1Mr</td>\n      <td>Metallica</td>\n      <td>Some Kind of Monster</td>\n      <td>St. Anger</td>\n      <td>0.639605</td>\n    </tr>\n    <tr>\n      <th>8</th>\n      <td>1TTaCU6DaHQ0nE3m</td>\n      <td>Hüsker Dü</td>\n      <td>What's Going On</td>\n      <td>Zen Arcade</td>\n      <td>0.633913</td>\n    </tr>\n    <tr>\n      <th>9</th>\n      <td>Ycz3ZVDtOh5wTwuT</td>\n      <td>Iron Maiden</td>\n      <td>Look for the Truth</td>\n      <td>The X Factor (2015 - Remaster)</td>\n      <td>0.629737</td>\n    </tr>\n  </tbody>\n</table>\n</div>"
     },
     "execution_count": 84,
     "metadata": {},
     "output_type": "execute_result"
    }
   ],
   "source": [
    "sample_song = SongInfo(title=\"Zombie\", artist=\"The Cranberries\")\n",
    "\n",
    "rs_bert.retrieve(sample_song, n=10)"
   ]
  },
  {
   "cell_type": "markdown",
   "metadata": {},
   "source": [
    "## Text-based(\"\"similarity\", \"feature\")\n",
    "Finally, we use word2vec embeddings as features and the simple Dot Product as similarity metric."
   ]
  },
  {
   "cell_type": "code",
   "execution_count": 85,
   "metadata": {
    "ExecuteTime": {
     "end_time": "2023-11-24T01:38:14.471283300Z",
     "start_time": "2023-11-24T01:38:14.379593Z"
    }
   },
   "outputs": [],
   "source": [
    "rs_w2v = RetrievalSystem(df, dot_product, \"word2vec_embedding\")"
   ]
  },
  {
   "cell_type": "code",
   "execution_count": 86,
   "metadata": {
    "ExecuteTime": {
     "end_time": "2023-11-24T01:38:14.498866300Z",
     "start_time": "2023-11-24T01:38:14.394617300Z"
    }
   },
   "outputs": [
    {
     "data": {
      "text/plain": "                 id       artist            song                  album_name  \\\n0  kqVWk6G25ortikfF  Tame Impala  Beverly Laurel  Lonerism B-Sides & Remixes   \n1  VJXAAxF84r7eg4bf         Blur          I Know   Leisure (Special Edition)   \n2  9ziWMjkmNbJKtU8Y  Tame Impala           Nangs                    Currents   \n3  PqjX8Jm9lA7ogAe4      Solange       Time (Is)             When I Get Home   \n4  Qh5XjFCInkeOAYzu   Supergrass            Time               I Should Coco   \n\n   similarity  \n0    0.206980  \n1    0.200881  \n2    0.200703  \n3    0.200372  \n4    0.200032  ",
      "text/html": "<div>\n<style scoped>\n    .dataframe tbody tr th:only-of-type {\n        vertical-align: middle;\n    }\n\n    .dataframe tbody tr th {\n        vertical-align: top;\n    }\n\n    .dataframe thead th {\n        text-align: right;\n    }\n</style>\n<table border=\"1\" class=\"dataframe\">\n  <thead>\n    <tr style=\"text-align: right;\">\n      <th></th>\n      <th>id</th>\n      <th>artist</th>\n      <th>song</th>\n      <th>album_name</th>\n      <th>similarity</th>\n    </tr>\n  </thead>\n  <tbody>\n    <tr>\n      <th>0</th>\n      <td>kqVWk6G25ortikfF</td>\n      <td>Tame Impala</td>\n      <td>Beverly Laurel</td>\n      <td>Lonerism B-Sides &amp; Remixes</td>\n      <td>0.206980</td>\n    </tr>\n    <tr>\n      <th>1</th>\n      <td>VJXAAxF84r7eg4bf</td>\n      <td>Blur</td>\n      <td>I Know</td>\n      <td>Leisure (Special Edition)</td>\n      <td>0.200881</td>\n    </tr>\n    <tr>\n      <th>2</th>\n      <td>9ziWMjkmNbJKtU8Y</td>\n      <td>Tame Impala</td>\n      <td>Nangs</td>\n      <td>Currents</td>\n      <td>0.200703</td>\n    </tr>\n    <tr>\n      <th>3</th>\n      <td>PqjX8Jm9lA7ogAe4</td>\n      <td>Solange</td>\n      <td>Time (Is)</td>\n      <td>When I Get Home</td>\n      <td>0.200372</td>\n    </tr>\n    <tr>\n      <th>4</th>\n      <td>Qh5XjFCInkeOAYzu</td>\n      <td>Supergrass</td>\n      <td>Time</td>\n      <td>I Should Coco</td>\n      <td>0.200032</td>\n    </tr>\n  </tbody>\n</table>\n</div>"
     },
     "execution_count": 86,
     "metadata": {},
     "output_type": "execute_result"
    }
   ],
   "source": [
    "rs_w2v.retrieve(1)"
   ]
  },
  {
   "cell_type": "code",
   "execution_count": 87,
   "metadata": {
    "ExecuteTime": {
     "end_time": "2023-11-24T01:38:14.498866300Z",
     "start_time": "2023-11-24T01:38:14.444203400Z"
    }
   },
   "outputs": [
    {
     "data": {
      "text/plain": "                 id       artist            song                  album_name  \\\n0  kqVWk6G25ortikfF  Tame Impala  Beverly Laurel  Lonerism B-Sides & Remixes   \n1  VJXAAxF84r7eg4bf         Blur          I Know   Leisure (Special Edition)   \n2  9ziWMjkmNbJKtU8Y  Tame Impala           Nangs                    Currents   \n3  PqjX8Jm9lA7ogAe4      Solange       Time (Is)             When I Get Home   \n4  Qh5XjFCInkeOAYzu   Supergrass            Time               I Should Coco   \n\n   similarity  \n0    0.206980  \n1    0.200881  \n2    0.200703  \n3    0.200372  \n4    0.200032  ",
      "text/html": "<div>\n<style scoped>\n    .dataframe tbody tr th:only-of-type {\n        vertical-align: middle;\n    }\n\n    .dataframe tbody tr th {\n        vertical-align: top;\n    }\n\n    .dataframe thead th {\n        text-align: right;\n    }\n</style>\n<table border=\"1\" class=\"dataframe\">\n  <thead>\n    <tr style=\"text-align: right;\">\n      <th></th>\n      <th>id</th>\n      <th>artist</th>\n      <th>song</th>\n      <th>album_name</th>\n      <th>similarity</th>\n    </tr>\n  </thead>\n  <tbody>\n    <tr>\n      <th>0</th>\n      <td>kqVWk6G25ortikfF</td>\n      <td>Tame Impala</td>\n      <td>Beverly Laurel</td>\n      <td>Lonerism B-Sides &amp; Remixes</td>\n      <td>0.206980</td>\n    </tr>\n    <tr>\n      <th>1</th>\n      <td>VJXAAxF84r7eg4bf</td>\n      <td>Blur</td>\n      <td>I Know</td>\n      <td>Leisure (Special Edition)</td>\n      <td>0.200881</td>\n    </tr>\n    <tr>\n      <th>2</th>\n      <td>9ziWMjkmNbJKtU8Y</td>\n      <td>Tame Impala</td>\n      <td>Nangs</td>\n      <td>Currents</td>\n      <td>0.200703</td>\n    </tr>\n    <tr>\n      <th>3</th>\n      <td>PqjX8Jm9lA7ogAe4</td>\n      <td>Solange</td>\n      <td>Time (Is)</td>\n      <td>When I Get Home</td>\n      <td>0.200372</td>\n    </tr>\n    <tr>\n      <th>4</th>\n      <td>Qh5XjFCInkeOAYzu</td>\n      <td>Supergrass</td>\n      <td>Time</td>\n      <td>I Should Coco</td>\n      <td>0.200032</td>\n    </tr>\n  </tbody>\n</table>\n</div>"
     },
     "execution_count": 87,
     "metadata": {},
     "output_type": "execute_result"
    }
   ],
   "source": [
    "# check reproducibility\n",
    "rs_w2v.retrieve(1)"
   ]
  },
  {
   "cell_type": "code",
   "execution_count": 88,
   "metadata": {
    "ExecuteTime": {
     "end_time": "2023-11-24T01:38:14.613156400Z",
     "start_time": "2023-11-24T01:38:14.457266400Z"
    }
   },
   "outputs": [
    {
     "data": {
      "text/plain": "                 id                             artist  \\\n0  alViVmyWPgD1TNjV                      Amy Winehouse   \n1  Qh5XjFCInkeOAYzu                         Supergrass   \n2  FoenRGxt8ED5UDj8                             Danger   \n3  bIDVY7FbsuHTgV50                               Bent   \n4  9ziWMjkmNbJKtU8Y                        Tame Impala   \n5  VJXAAxF84r7eg4bf                               Blur   \n6  kqVWk6G25ortikfF                        Tame Impala   \n7  wthZJWSU9CZmQ8XX                          September   \n8  4XJZFt2CYHjejWh7                             Avicii   \n9  oaSlacL5oON2ueP8  Orchestral Manoeuvres in the Dark   \n\n                         song                  album_name  similarity  \n0  To Know Him Is to Love Him      Back To Black: B-Sides    0.258230  \n1                        Time               I Should Coco    0.257726  \n2                       11h30              French Attack!    0.256744  \n3                 To Be Loved   Intercept! Deluxe Edition    0.256257  \n4                       Nangs                    Currents    0.251869  \n5                      I Know   Leisure (Special Edition)    0.249743  \n6              Beverly Laurel  Lonerism B-Sides & Remixes    0.248669  \n7          Because I Love You                   September    0.245535  \n8         Levels - Radio Edit                 Sommer 2019    0.243641  \n9      (Forever) Live and Die             The Pacific Age    0.241794  ",
      "text/html": "<div>\n<style scoped>\n    .dataframe tbody tr th:only-of-type {\n        vertical-align: middle;\n    }\n\n    .dataframe tbody tr th {\n        vertical-align: top;\n    }\n\n    .dataframe thead th {\n        text-align: right;\n    }\n</style>\n<table border=\"1\" class=\"dataframe\">\n  <thead>\n    <tr style=\"text-align: right;\">\n      <th></th>\n      <th>id</th>\n      <th>artist</th>\n      <th>song</th>\n      <th>album_name</th>\n      <th>similarity</th>\n    </tr>\n  </thead>\n  <tbody>\n    <tr>\n      <th>0</th>\n      <td>alViVmyWPgD1TNjV</td>\n      <td>Amy Winehouse</td>\n      <td>To Know Him Is to Love Him</td>\n      <td>Back To Black: B-Sides</td>\n      <td>0.258230</td>\n    </tr>\n    <tr>\n      <th>1</th>\n      <td>Qh5XjFCInkeOAYzu</td>\n      <td>Supergrass</td>\n      <td>Time</td>\n      <td>I Should Coco</td>\n      <td>0.257726</td>\n    </tr>\n    <tr>\n      <th>2</th>\n      <td>FoenRGxt8ED5UDj8</td>\n      <td>Danger</td>\n      <td>11h30</td>\n      <td>French Attack!</td>\n      <td>0.256744</td>\n    </tr>\n    <tr>\n      <th>3</th>\n      <td>bIDVY7FbsuHTgV50</td>\n      <td>Bent</td>\n      <td>To Be Loved</td>\n      <td>Intercept! Deluxe Edition</td>\n      <td>0.256257</td>\n    </tr>\n    <tr>\n      <th>4</th>\n      <td>9ziWMjkmNbJKtU8Y</td>\n      <td>Tame Impala</td>\n      <td>Nangs</td>\n      <td>Currents</td>\n      <td>0.251869</td>\n    </tr>\n    <tr>\n      <th>5</th>\n      <td>VJXAAxF84r7eg4bf</td>\n      <td>Blur</td>\n      <td>I Know</td>\n      <td>Leisure (Special Edition)</td>\n      <td>0.249743</td>\n    </tr>\n    <tr>\n      <th>6</th>\n      <td>kqVWk6G25ortikfF</td>\n      <td>Tame Impala</td>\n      <td>Beverly Laurel</td>\n      <td>Lonerism B-Sides &amp; Remixes</td>\n      <td>0.248669</td>\n    </tr>\n    <tr>\n      <th>7</th>\n      <td>wthZJWSU9CZmQ8XX</td>\n      <td>September</td>\n      <td>Because I Love You</td>\n      <td>September</td>\n      <td>0.245535</td>\n    </tr>\n    <tr>\n      <th>8</th>\n      <td>4XJZFt2CYHjejWh7</td>\n      <td>Avicii</td>\n      <td>Levels - Radio Edit</td>\n      <td>Sommer 2019</td>\n      <td>0.243641</td>\n    </tr>\n    <tr>\n      <th>9</th>\n      <td>oaSlacL5oON2ueP8</td>\n      <td>Orchestral Manoeuvres in the Dark</td>\n      <td>(Forever) Live and Die</td>\n      <td>The Pacific Age</td>\n      <td>0.241794</td>\n    </tr>\n  </tbody>\n</table>\n</div>"
     },
     "execution_count": 88,
     "metadata": {},
     "output_type": "execute_result"
    }
   ],
   "source": [
    "rs_w2v.retrieve(\"xUjqXrsiCLb8tPkC\", n=10)"
   ]
  },
  {
   "cell_type": "code",
   "execution_count": 89,
   "metadata": {
    "ExecuteTime": {
     "end_time": "2023-11-24T01:38:14.645698700Z",
     "start_time": "2023-11-24T01:38:14.520912400Z"
    }
   },
   "outputs": [
    {
     "data": {
      "text/plain": "                 id         artist                        song  \\\n0  alViVmyWPgD1TNjV  Amy Winehouse  To Know Him Is to Love Him   \n1  Qh5XjFCInkeOAYzu     Supergrass                        Time   \n2  FoenRGxt8ED5UDj8         Danger                       11h30   \n\n               album_name  similarity  \n0  Back To Black: B-Sides    0.258230  \n1           I Should Coco    0.257726  \n2          French Attack!    0.256744  ",
      "text/html": "<div>\n<style scoped>\n    .dataframe tbody tr th:only-of-type {\n        vertical-align: middle;\n    }\n\n    .dataframe tbody tr th {\n        vertical-align: top;\n    }\n\n    .dataframe thead th {\n        text-align: right;\n    }\n</style>\n<table border=\"1\" class=\"dataframe\">\n  <thead>\n    <tr style=\"text-align: right;\">\n      <th></th>\n      <th>id</th>\n      <th>artist</th>\n      <th>song</th>\n      <th>album_name</th>\n      <th>similarity</th>\n    </tr>\n  </thead>\n  <tbody>\n    <tr>\n      <th>0</th>\n      <td>alViVmyWPgD1TNjV</td>\n      <td>Amy Winehouse</td>\n      <td>To Know Him Is to Love Him</td>\n      <td>Back To Black: B-Sides</td>\n      <td>0.258230</td>\n    </tr>\n    <tr>\n      <th>1</th>\n      <td>Qh5XjFCInkeOAYzu</td>\n      <td>Supergrass</td>\n      <td>Time</td>\n      <td>I Should Coco</td>\n      <td>0.257726</td>\n    </tr>\n    <tr>\n      <th>2</th>\n      <td>FoenRGxt8ED5UDj8</td>\n      <td>Danger</td>\n      <td>11h30</td>\n      <td>French Attack!</td>\n      <td>0.256744</td>\n    </tr>\n  </tbody>\n</table>\n</div>"
     },
     "execution_count": 89,
     "metadata": {},
     "output_type": "execute_result"
    }
   ],
   "source": [
    "rs_w2v.retrieve(\"xUjqXrsiCLb8tPkC\", n=3)"
   ]
  },
  {
   "cell_type": "code",
   "execution_count": 90,
   "metadata": {
    "ExecuteTime": {
     "end_time": "2023-11-24T01:38:14.670237100Z",
     "start_time": "2023-11-24T01:38:14.538436100Z"
    }
   },
   "outputs": [
    {
     "data": {
      "text/plain": "                 id                             artist  \\\n0  9ziWMjkmNbJKtU8Y                        Tame Impala   \n1  VJXAAxF84r7eg4bf                               Blur   \n2  oaSlacL5oON2ueP8  Orchestral Manoeuvres in the Dark   \n3  kqVWk6G25ortikfF                        Tame Impala   \n4  Qh5XjFCInkeOAYzu                         Supergrass   \n5  Y6S6YPEyfK5F8TMP                               Blur   \n6  alViVmyWPgD1TNjV                      Amy Winehouse   \n7  TvyK48kBK3S8XOXD                        Fatboy Slim   \n8  qq3el8xwdckarmlh       The Brian Jonestown Massacre   \n9  Nblp573S43B1TMzx                        Gipsy Kings   \n\n                         song                         album_name  similarity  \n0                       Nangs                           Currents    0.242612  \n1                      I Know          Leisure (Special Edition)    0.230920  \n2      (Forever) Live and Die                    The Pacific Age    0.229072  \n3              Beverly Laurel         Lonerism B-Sides & Remixes    0.228911  \n4                        Time                      I Should Coco    0.224972  \n5                   High Cool                            Leisure    0.222764  \n6  To Know Him Is to Love Him             Back To Black: B-Sides    0.222070  \n7        Going Out of My Head  The Greatest Hits: Why Try Harder    0.219967  \n8                      Wasted                         Methodrone    0.217051  \n9           Tu Quieres Volver        Cantos de Amor / Love Songs    0.216332  ",
      "text/html": "<div>\n<style scoped>\n    .dataframe tbody tr th:only-of-type {\n        vertical-align: middle;\n    }\n\n    .dataframe tbody tr th {\n        vertical-align: top;\n    }\n\n    .dataframe thead th {\n        text-align: right;\n    }\n</style>\n<table border=\"1\" class=\"dataframe\">\n  <thead>\n    <tr style=\"text-align: right;\">\n      <th></th>\n      <th>id</th>\n      <th>artist</th>\n      <th>song</th>\n      <th>album_name</th>\n      <th>similarity</th>\n    </tr>\n  </thead>\n  <tbody>\n    <tr>\n      <th>0</th>\n      <td>9ziWMjkmNbJKtU8Y</td>\n      <td>Tame Impala</td>\n      <td>Nangs</td>\n      <td>Currents</td>\n      <td>0.242612</td>\n    </tr>\n    <tr>\n      <th>1</th>\n      <td>VJXAAxF84r7eg4bf</td>\n      <td>Blur</td>\n      <td>I Know</td>\n      <td>Leisure (Special Edition)</td>\n      <td>0.230920</td>\n    </tr>\n    <tr>\n      <th>2</th>\n      <td>oaSlacL5oON2ueP8</td>\n      <td>Orchestral Manoeuvres in the Dark</td>\n      <td>(Forever) Live and Die</td>\n      <td>The Pacific Age</td>\n      <td>0.229072</td>\n    </tr>\n    <tr>\n      <th>3</th>\n      <td>kqVWk6G25ortikfF</td>\n      <td>Tame Impala</td>\n      <td>Beverly Laurel</td>\n      <td>Lonerism B-Sides &amp; Remixes</td>\n      <td>0.228911</td>\n    </tr>\n    <tr>\n      <th>4</th>\n      <td>Qh5XjFCInkeOAYzu</td>\n      <td>Supergrass</td>\n      <td>Time</td>\n      <td>I Should Coco</td>\n      <td>0.224972</td>\n    </tr>\n    <tr>\n      <th>5</th>\n      <td>Y6S6YPEyfK5F8TMP</td>\n      <td>Blur</td>\n      <td>High Cool</td>\n      <td>Leisure</td>\n      <td>0.222764</td>\n    </tr>\n    <tr>\n      <th>6</th>\n      <td>alViVmyWPgD1TNjV</td>\n      <td>Amy Winehouse</td>\n      <td>To Know Him Is to Love Him</td>\n      <td>Back To Black: B-Sides</td>\n      <td>0.222070</td>\n    </tr>\n    <tr>\n      <th>7</th>\n      <td>TvyK48kBK3S8XOXD</td>\n      <td>Fatboy Slim</td>\n      <td>Going Out of My Head</td>\n      <td>The Greatest Hits: Why Try Harder</td>\n      <td>0.219967</td>\n    </tr>\n    <tr>\n      <th>8</th>\n      <td>qq3el8xwdckarmlh</td>\n      <td>The Brian Jonestown Massacre</td>\n      <td>Wasted</td>\n      <td>Methodrone</td>\n      <td>0.217051</td>\n    </tr>\n    <tr>\n      <th>9</th>\n      <td>Nblp573S43B1TMzx</td>\n      <td>Gipsy Kings</td>\n      <td>Tu Quieres Volver</td>\n      <td>Cantos de Amor / Love Songs</td>\n      <td>0.216332</td>\n    </tr>\n  </tbody>\n</table>\n</div>"
     },
     "execution_count": 90,
     "metadata": {},
     "output_type": "execute_result"
    }
   ],
   "source": [
    "sample_song = SongInfo(title=\"Always\", artist=\"Bon Jovi\")\n",
    "\n",
    "rs_w2v.retrieve(sample_song, n=10)"
   ]
  },
  {
   "cell_type": "code",
   "execution_count": 91,
   "metadata": {
    "tags": [],
    "ExecuteTime": {
     "end_time": "2023-11-24T01:38:14.733796200Z",
     "start_time": "2023-11-24T01:38:14.583594700Z"
    }
   },
   "outputs": [
    {
     "data": {
      "text/plain": "                 id                        artist                  song  \\\n0  9ziWMjkmNbJKtU8Y                   Tame Impala                 Nangs   \n1  lTJVFhGsiLggKCEq                Beat Happening   I Let Him Get to Me   \n2  VJXAAxF84r7eg4bf                          Blur                I Know   \n3  Y6S6YPEyfK5F8TMP                          Blur             High Cool   \n4  Nblp573S43B1TMzx                   Gipsy Kings     Tu Quieres Volver   \n5  kqVWk6G25ortikfF                   Tame Impala        Beverly Laurel   \n6  qq3el8xwdckarmlh  The Brian Jonestown Massacre                Wasted   \n7  VBlFbZN2NIEct6EH                        Sophie                  Bipp   \n8  TvyK48kBK3S8XOXD                   Fatboy Slim  Going Out of My Head   \n9  YzfpVoUPlOhBoRGx                  Heather Nova            All I Need   \n\n                          album_name  similarity  \n0                           Currents    0.258853  \n1                     Beat Happening    0.238568  \n2          Leisure (Special Edition)    0.238529  \n3                            Leisure    0.233498  \n4        Cantos de Amor / Love Songs    0.232844  \n5         Lonerism B-Sides & Remixes    0.230786  \n6                         Methodrone    0.230433  \n7                               BIPP    0.228629  \n8  The Greatest Hits: Why Try Harder    0.224768  \n9                              Storm    0.222857  ",
      "text/html": "<div>\n<style scoped>\n    .dataframe tbody tr th:only-of-type {\n        vertical-align: middle;\n    }\n\n    .dataframe tbody tr th {\n        vertical-align: top;\n    }\n\n    .dataframe thead th {\n        text-align: right;\n    }\n</style>\n<table border=\"1\" class=\"dataframe\">\n  <thead>\n    <tr style=\"text-align: right;\">\n      <th></th>\n      <th>id</th>\n      <th>artist</th>\n      <th>song</th>\n      <th>album_name</th>\n      <th>similarity</th>\n    </tr>\n  </thead>\n  <tbody>\n    <tr>\n      <th>0</th>\n      <td>9ziWMjkmNbJKtU8Y</td>\n      <td>Tame Impala</td>\n      <td>Nangs</td>\n      <td>Currents</td>\n      <td>0.258853</td>\n    </tr>\n    <tr>\n      <th>1</th>\n      <td>lTJVFhGsiLggKCEq</td>\n      <td>Beat Happening</td>\n      <td>I Let Him Get to Me</td>\n      <td>Beat Happening</td>\n      <td>0.238568</td>\n    </tr>\n    <tr>\n      <th>2</th>\n      <td>VJXAAxF84r7eg4bf</td>\n      <td>Blur</td>\n      <td>I Know</td>\n      <td>Leisure (Special Edition)</td>\n      <td>0.238529</td>\n    </tr>\n    <tr>\n      <th>3</th>\n      <td>Y6S6YPEyfK5F8TMP</td>\n      <td>Blur</td>\n      <td>High Cool</td>\n      <td>Leisure</td>\n      <td>0.233498</td>\n    </tr>\n    <tr>\n      <th>4</th>\n      <td>Nblp573S43B1TMzx</td>\n      <td>Gipsy Kings</td>\n      <td>Tu Quieres Volver</td>\n      <td>Cantos de Amor / Love Songs</td>\n      <td>0.232844</td>\n    </tr>\n    <tr>\n      <th>5</th>\n      <td>kqVWk6G25ortikfF</td>\n      <td>Tame Impala</td>\n      <td>Beverly Laurel</td>\n      <td>Lonerism B-Sides &amp; Remixes</td>\n      <td>0.230786</td>\n    </tr>\n    <tr>\n      <th>6</th>\n      <td>qq3el8xwdckarmlh</td>\n      <td>The Brian Jonestown Massacre</td>\n      <td>Wasted</td>\n      <td>Methodrone</td>\n      <td>0.230433</td>\n    </tr>\n    <tr>\n      <th>7</th>\n      <td>VBlFbZN2NIEct6EH</td>\n      <td>Sophie</td>\n      <td>Bipp</td>\n      <td>BIPP</td>\n      <td>0.228629</td>\n    </tr>\n    <tr>\n      <th>8</th>\n      <td>TvyK48kBK3S8XOXD</td>\n      <td>Fatboy Slim</td>\n      <td>Going Out of My Head</td>\n      <td>The Greatest Hits: Why Try Harder</td>\n      <td>0.224768</td>\n    </tr>\n    <tr>\n      <th>9</th>\n      <td>YzfpVoUPlOhBoRGx</td>\n      <td>Heather Nova</td>\n      <td>All I Need</td>\n      <td>Storm</td>\n      <td>0.222857</td>\n    </tr>\n  </tbody>\n</table>\n</div>"
     },
     "execution_count": 91,
     "metadata": {},
     "output_type": "execute_result"
    }
   ],
   "source": [
    "sample_song = SongInfo(title=\"Help! - Remastered 2009\", artist=\"The Beatles\")\n",
    "\n",
    "rs_w2v.retrieve(sample_song, n=10)"
   ]
  },
  {
   "cell_type": "code",
   "execution_count": 92,
   "metadata": {
    "tags": [],
    "ExecuteTime": {
     "end_time": "2023-11-24T01:38:14.847958600Z",
     "start_time": "2023-11-24T01:38:14.651211600Z"
    }
   },
   "outputs": [
    {
     "data": {
      "text/plain": "                 id                 artist                          song  \\\n0  1TTaCU6DaHQ0nE3m              Hüsker Dü               What's Going On   \n1  9SwCdYIwySZFIZEQ    Theory of a Deadman                Out of My Head   \n2  kqVWk6G25ortikfF            Tame Impala                Beverly Laurel   \n3  hYDBUkFGT8axnXGa                Peaches                     Dumb Fuck   \n4  TvyK48kBK3S8XOXD            Fatboy Slim          Going Out of My Head   \n5  Eld0lALLIikybAst             Bad Wolves                        Zombie   \n6  bIDVY7FbsuHTgV50                   Bent                   To Be Loved   \n7  K6dklMBW6pcuxBol            Julie Byrne              Sea As It Glides   \n8  lUgSuAl7kvy7MSon  New Kids on the Block  You Got It (The Right Stuff)   \n9  04OjszRi9rC5BlHC           Grizzly Bear                         Knife   \n\n                          album_name  similarity  \n0                         Zen Arcade    0.133713  \n1  The Truth Is... (Special Edition)    0.129773  \n2         Lonerism B-Sides & Remixes    0.128834  \n3                                Rub    0.127192  \n4  The Greatest Hits: Why Try Harder    0.126975  \n5                             Zombie    0.126800  \n6          Intercept! Deluxe Edition    0.126117  \n7                 Not Even Happiness    0.125346  \n8                      Hangin' Tough    0.125102  \n9                       Yellow House    0.124561  ",
      "text/html": "<div>\n<style scoped>\n    .dataframe tbody tr th:only-of-type {\n        vertical-align: middle;\n    }\n\n    .dataframe tbody tr th {\n        vertical-align: top;\n    }\n\n    .dataframe thead th {\n        text-align: right;\n    }\n</style>\n<table border=\"1\" class=\"dataframe\">\n  <thead>\n    <tr style=\"text-align: right;\">\n      <th></th>\n      <th>id</th>\n      <th>artist</th>\n      <th>song</th>\n      <th>album_name</th>\n      <th>similarity</th>\n    </tr>\n  </thead>\n  <tbody>\n    <tr>\n      <th>0</th>\n      <td>1TTaCU6DaHQ0nE3m</td>\n      <td>Hüsker Dü</td>\n      <td>What's Going On</td>\n      <td>Zen Arcade</td>\n      <td>0.133713</td>\n    </tr>\n    <tr>\n      <th>1</th>\n      <td>9SwCdYIwySZFIZEQ</td>\n      <td>Theory of a Deadman</td>\n      <td>Out of My Head</td>\n      <td>The Truth Is... (Special Edition)</td>\n      <td>0.129773</td>\n    </tr>\n    <tr>\n      <th>2</th>\n      <td>kqVWk6G25ortikfF</td>\n      <td>Tame Impala</td>\n      <td>Beverly Laurel</td>\n      <td>Lonerism B-Sides &amp; Remixes</td>\n      <td>0.128834</td>\n    </tr>\n    <tr>\n      <th>3</th>\n      <td>hYDBUkFGT8axnXGa</td>\n      <td>Peaches</td>\n      <td>Dumb Fuck</td>\n      <td>Rub</td>\n      <td>0.127192</td>\n    </tr>\n    <tr>\n      <th>4</th>\n      <td>TvyK48kBK3S8XOXD</td>\n      <td>Fatboy Slim</td>\n      <td>Going Out of My Head</td>\n      <td>The Greatest Hits: Why Try Harder</td>\n      <td>0.126975</td>\n    </tr>\n    <tr>\n      <th>5</th>\n      <td>Eld0lALLIikybAst</td>\n      <td>Bad Wolves</td>\n      <td>Zombie</td>\n      <td>Zombie</td>\n      <td>0.126800</td>\n    </tr>\n    <tr>\n      <th>6</th>\n      <td>bIDVY7FbsuHTgV50</td>\n      <td>Bent</td>\n      <td>To Be Loved</td>\n      <td>Intercept! Deluxe Edition</td>\n      <td>0.126117</td>\n    </tr>\n    <tr>\n      <th>7</th>\n      <td>K6dklMBW6pcuxBol</td>\n      <td>Julie Byrne</td>\n      <td>Sea As It Glides</td>\n      <td>Not Even Happiness</td>\n      <td>0.125346</td>\n    </tr>\n    <tr>\n      <th>8</th>\n      <td>lUgSuAl7kvy7MSon</td>\n      <td>New Kids on the Block</td>\n      <td>You Got It (The Right Stuff)</td>\n      <td>Hangin' Tough</td>\n      <td>0.125102</td>\n    </tr>\n    <tr>\n      <th>9</th>\n      <td>04OjszRi9rC5BlHC</td>\n      <td>Grizzly Bear</td>\n      <td>Knife</td>\n      <td>Yellow House</td>\n      <td>0.124561</td>\n    </tr>\n  </tbody>\n</table>\n</div>"
     },
     "execution_count": 92,
     "metadata": {},
     "output_type": "execute_result"
    }
   ],
   "source": [
    "sample_song = SongInfo(title=\"Zombie\", artist=\"The Cranberries\")\n",
    "\n",
    "rs_w2v.retrieve(sample_song, n=10)"
   ]
  },
  {
   "cell_type": "markdown",
   "metadata": {},
   "source": [
    "The results already seem a lot less reasonable. However, for a full comparison, we should only change 1 variable at a time. Still, the results are interesting to look at."
   ]
  },
  {
   "cell_type": "markdown",
   "metadata": {},
   "source": [
    "## Qualitative Analysis\n",
    "\n",
    "Select as queries three tracks you are familiar with and retrieve 10 tracks with\n",
    "each system, including the random baseline. This will result in the following number of lists:\n",
    "N = 3(query songs) * 4(rs) = 12\n",
    "For each query track, qualitatively compare the retrieved tracks (with the query and other tracks in\n",
    "the result list), analyzing for instance whether the list includes tracks by the same artist or of the\n",
    "same genre. Also, investigate the relevance of the retrieved tracks for the query, i.e., given the\n",
    "query can you speculate why the tracks in the result list have been retrieved?\n"
   ]
  },
  {
   "cell_type": "code",
   "execution_count": 93,
   "metadata": {
    "collapsed": false,
    "jupyter": {
     "outputs_hidden": false
    },
    "ExecuteTime": {
     "end_time": "2023-11-24T01:38:14.941588Z",
     "start_time": "2023-11-24T01:38:14.714804700Z"
    }
   },
   "outputs": [],
   "source": [
    "k = 10\n",
    "# query songs\n",
    "songs = [\n",
    "    SongInfo(title=\"Business\", artist=\"Eminem\"),\n",
    "    SongInfo(title=\"Night Witches\", artist=\"Sabaton\"),\n",
    "    SongInfo(title=\"Encoder\", artist=\"Pendulum\")]\n",
    "# retrieval systems\n",
    "rss = [\n",
    "    RetrievalSystem(df, random_similarity, enable_cache=False),\n",
    "    RetrievalSystem(df, cosine_similarity, \"word2vec_embedding\"),\n",
    "    RetrievalSystem(df, cosine_similarity, \"tf-idf\"),\n",
    "    RetrievalSystem(df, cosine_similarity, \"bert_embedding\")]"
   ]
  },
  {
   "cell_type": "code",
   "execution_count": 94,
   "metadata": {
    "collapsed": false,
    "jupyter": {
     "outputs_hidden": false
    },
    "ExecuteTime": {
     "end_time": "2023-11-24T01:38:15.816489300Z",
     "start_time": "2023-11-24T01:38:14.804417100Z"
    }
   },
   "outputs": [],
   "source": [
    "dfs = []\n",
    "\n",
    "for (i, s) in enumerate(songs):\n",
    "    acc = pd.DataFrame()\n",
    "    for (rs, feat) in zip(rss, ['rand', 'word2vec', 'tf-idf', 'bert']):\n",
    "        res = rs.retrieve(s, k)\n",
    "        res.columns = [f'id_{feat}', f'artist_{feat}', f'song_{feat}', f'album_{feat}', f'score_{feat}']\n",
    "        res.reset_index(drop=True, inplace=True)\n",
    "        acc.reset_index(drop=True, inplace=True)\n",
    "        acc = pd.concat([acc, res], axis=1)\n",
    "    dfs.append(acc)"
   ]
  },
  {
   "cell_type": "markdown",
   "metadata": {},
   "source": [
    "### Results for (title=\"Business\", artist=\"Eminem\")"
   ]
  },
  {
   "cell_type": "code",
   "execution_count": 95,
   "metadata": {
    "collapsed": false,
    "jupyter": {
     "outputs_hidden": false
    },
    "ExecuteTime": {
     "end_time": "2023-11-24T01:38:15.831056800Z",
     "start_time": "2023-11-24T01:38:15.824552100Z"
    }
   },
   "outputs": [
    {
     "data": {
      "text/plain": "            id_rand       artist_rand                          song_rand  \\\n0  wPbDesasKWWTmBBR      Bill Withers             Hope She'll Be Happier   \n1  Q8S28CM66MYHCoS7       Jimmy Cliff  Wonderful World, Beautiful People   \n2  pwapTLe2lmf5T4MD            ZZ Top                   Master of Sparks   \n3  07bR4m5Oo4lvHJFW  Boards of Canada        The Devil Is in the Details   \n4  5lp2YgwSwZWdmblg  Michael Davidson                         Turn It Up   \n5  hNTJFECmHNV4p0QY            miss A                        Rock n Rule   \n6  t2Y36kOOGH7JxDMn      Alter Bridge                      Still Remains   \n7  btzE9uD80B8USfXt  Blue Öyster Cult                            In Thee   \n8  ZkBeGm5ZLUYmw8RF     Dead by April                         Losing You   \n9  N7XykLDBRw7Spa1F      Andy Grammer                         Fresh Eyes   \n\n                              album_rand  score_rand       id_word2vec  \\\n0                           Just As I Am    0.999978  Q8HUKzo5muVvgIvP   \n1      Wonderful World, Beautiful People    0.999974  PoTQ9felmQHjpYDi   \n2  Tres Hombres (Expanded 2006 Remaster)    0.999755  SgBvRaxOi7XaDEmU   \n3                               Geogaddi    0.999569  CfCJl3HWjZCvaTv3   \n4             Who's That Girl Soundtrack    0.999519  TYoYVKiQpzhvcatl   \n5                                  Touch    0.999480  e9Q9R0EmvWwSjAxy   \n6                                 AB III    0.999336  nVVj7Ksowk6ILZge   \n7                                Mirrors    0.999264  gE39Ms4AoMKpJNGi   \n8          Dead by April (Bonus Version)    0.999175  wiw2rM2xb4CJ5sVP   \n9                         The Good Parts    0.999173  mgjDCaqqLfxz1070   \n\n      artist_word2vec        song_word2vec                     album_word2vec  \\\n0              Eminem     Marshall Mathers            The Marshall Mathers LP   \n1      Bad Meets Evil             Lighters          Hell: The Sequel (Deluxe)   \n2              Eminem          The Monster           The Marshall Mathers LP2   \n3                 Eve  Let Me Blow Ya Mind                           Scorpion   \n4              Eminem           Without Me                    The Eminem Show   \n5              Eminem        Groundhog Day  The Marshall Mathers LP2 (Deluxe)   \n6  Tyler, the Creator                 Pigs                               Wolf   \n7         Lloyd Banks                Karma                The Hunger For More   \n8          Kanye West    Never Let Me Down                The College Dropout   \n9              Eminem          Drug Ballad            The Marshall Mathers LP   \n\n   score_word2vec         id_tf-idf            artist_tf-idf  \\\n0        0.962139  CaNBba5E9KttJyB3    Red Hot Chili Peppers   \n1        0.960641  lTJVFhGsiLggKCEq           Beat Happening   \n2        0.960415  9CuEQRYVaaGpgOGn                   G-Eazy   \n3        0.958956  WPJqHS1ZUdqC6LWs      Sophie Ellis-Bextor   \n4        0.958579  ZgUzwR5NDfRuhDgx  Prince & The Revolution   \n5        0.957774  kZV6wep0ogka756U            Mayday Parade   \n6        0.956910  wiw2rM2xb4CJ5sVP               Kanye West   \n7        0.956683  Mj0A7uXuK1Dx28dz                    Smino   \n8        0.956396  88bG363HAfPRE2vi              Deep Purple   \n9        0.955484  gqyDfchba6vWzULe            The Fratellis   \n\n           song_tf-idf                       album_tf-idf  score_tf-idf  \\\n0           C'mon Girl                   Stadium Arcadium      0.400296   \n1  I Let Him Get to Me                     Beat Happening      0.395667   \n2              Been On                These Things Happen      0.387929   \n3        You Get Yours                 Shoot From The Hip      0.382842   \n4       Let's Go Crazy                        Purple Rain      0.371370   \n5               Get Up         Anywhere But Here (Deluxe)      0.365913   \n6    Never Let Me Down                The College Dropout      0.363931   \n7  WE GOT THE BISCUITS                               NOIR      0.362756   \n8             No No No       Burn (Expanded & Remastered)      0.348220   \n9      Halloween Blues  We Need Medicine (Deluxe Edition)      0.347137   \n\n            id_bert           artist_bert            song_bert  \\\n0  pK2EZxyujhM6yp7Z                Eminem               W.T.P.   \n1  6Ku7bJlCxqrwTQNi             The Roots       Double Trouble   \n2  07AjGMk31TkPW3O9    The Sugarhill Gang     Rapper's Delight   \n3  MoUTYdSeg2uc70Pa     Naughty By Nature       Hip Hop Hooray   \n4  ER6vgmZp5VMwLzfq  A Tribe Called Quest    God Lives Through   \n5  VwApT9MehZ2gx1a8          BROCKHAMPTON                VIVID   \n6  jsyIbokybtgb3pmJ  A Tribe Called Quest     Jazz (We've Got)   \n7  C5p9Jr8WABOMgdCl          Beastie Boys  Hold It Now, Hit It   \n8  Q8HUKzo5muVvgIvP                Eminem     Marshall Mathers   \n9  4r1IjzqHAOYQlgfS                Eminem                 Fall   \n\n                          album_bert  score_bert  \n0                           Recovery    0.735179  \n1                  Things Fall Apart    0.718591  \n2  Rhino Hi-Five: The Sugarhill Gang    0.716156  \n3                     19 Naughty III    0.710492  \n4                 Midnight Marauders    0.708904  \n5                        iridescence    0.705232  \n6                 The Low End Theory    0.703841  \n7                    Licensed To Ill    0.699053  \n8            The Marshall Mathers LP    0.689330  \n9                           Kamikaze    0.684791  ",
      "text/html": "<div>\n<style scoped>\n    .dataframe tbody tr th:only-of-type {\n        vertical-align: middle;\n    }\n\n    .dataframe tbody tr th {\n        vertical-align: top;\n    }\n\n    .dataframe thead th {\n        text-align: right;\n    }\n</style>\n<table border=\"1\" class=\"dataframe\">\n  <thead>\n    <tr style=\"text-align: right;\">\n      <th></th>\n      <th>id_rand</th>\n      <th>artist_rand</th>\n      <th>song_rand</th>\n      <th>album_rand</th>\n      <th>score_rand</th>\n      <th>id_word2vec</th>\n      <th>artist_word2vec</th>\n      <th>song_word2vec</th>\n      <th>album_word2vec</th>\n      <th>score_word2vec</th>\n      <th>id_tf-idf</th>\n      <th>artist_tf-idf</th>\n      <th>song_tf-idf</th>\n      <th>album_tf-idf</th>\n      <th>score_tf-idf</th>\n      <th>id_bert</th>\n      <th>artist_bert</th>\n      <th>song_bert</th>\n      <th>album_bert</th>\n      <th>score_bert</th>\n    </tr>\n  </thead>\n  <tbody>\n    <tr>\n      <th>0</th>\n      <td>wPbDesasKWWTmBBR</td>\n      <td>Bill Withers</td>\n      <td>Hope She'll Be Happier</td>\n      <td>Just As I Am</td>\n      <td>0.999978</td>\n      <td>Q8HUKzo5muVvgIvP</td>\n      <td>Eminem</td>\n      <td>Marshall Mathers</td>\n      <td>The Marshall Mathers LP</td>\n      <td>0.962139</td>\n      <td>CaNBba5E9KttJyB3</td>\n      <td>Red Hot Chili Peppers</td>\n      <td>C'mon Girl</td>\n      <td>Stadium Arcadium</td>\n      <td>0.400296</td>\n      <td>pK2EZxyujhM6yp7Z</td>\n      <td>Eminem</td>\n      <td>W.T.P.</td>\n      <td>Recovery</td>\n      <td>0.735179</td>\n    </tr>\n    <tr>\n      <th>1</th>\n      <td>Q8S28CM66MYHCoS7</td>\n      <td>Jimmy Cliff</td>\n      <td>Wonderful World, Beautiful People</td>\n      <td>Wonderful World, Beautiful People</td>\n      <td>0.999974</td>\n      <td>PoTQ9felmQHjpYDi</td>\n      <td>Bad Meets Evil</td>\n      <td>Lighters</td>\n      <td>Hell: The Sequel (Deluxe)</td>\n      <td>0.960641</td>\n      <td>lTJVFhGsiLggKCEq</td>\n      <td>Beat Happening</td>\n      <td>I Let Him Get to Me</td>\n      <td>Beat Happening</td>\n      <td>0.395667</td>\n      <td>6Ku7bJlCxqrwTQNi</td>\n      <td>The Roots</td>\n      <td>Double Trouble</td>\n      <td>Things Fall Apart</td>\n      <td>0.718591</td>\n    </tr>\n    <tr>\n      <th>2</th>\n      <td>pwapTLe2lmf5T4MD</td>\n      <td>ZZ Top</td>\n      <td>Master of Sparks</td>\n      <td>Tres Hombres (Expanded 2006 Remaster)</td>\n      <td>0.999755</td>\n      <td>SgBvRaxOi7XaDEmU</td>\n      <td>Eminem</td>\n      <td>The Monster</td>\n      <td>The Marshall Mathers LP2</td>\n      <td>0.960415</td>\n      <td>9CuEQRYVaaGpgOGn</td>\n      <td>G-Eazy</td>\n      <td>Been On</td>\n      <td>These Things Happen</td>\n      <td>0.387929</td>\n      <td>07AjGMk31TkPW3O9</td>\n      <td>The Sugarhill Gang</td>\n      <td>Rapper's Delight</td>\n      <td>Rhino Hi-Five: The Sugarhill Gang</td>\n      <td>0.716156</td>\n    </tr>\n    <tr>\n      <th>3</th>\n      <td>07bR4m5Oo4lvHJFW</td>\n      <td>Boards of Canada</td>\n      <td>The Devil Is in the Details</td>\n      <td>Geogaddi</td>\n      <td>0.999569</td>\n      <td>CfCJl3HWjZCvaTv3</td>\n      <td>Eve</td>\n      <td>Let Me Blow Ya Mind</td>\n      <td>Scorpion</td>\n      <td>0.958956</td>\n      <td>WPJqHS1ZUdqC6LWs</td>\n      <td>Sophie Ellis-Bextor</td>\n      <td>You Get Yours</td>\n      <td>Shoot From The Hip</td>\n      <td>0.382842</td>\n      <td>MoUTYdSeg2uc70Pa</td>\n      <td>Naughty By Nature</td>\n      <td>Hip Hop Hooray</td>\n      <td>19 Naughty III</td>\n      <td>0.710492</td>\n    </tr>\n    <tr>\n      <th>4</th>\n      <td>5lp2YgwSwZWdmblg</td>\n      <td>Michael Davidson</td>\n      <td>Turn It Up</td>\n      <td>Who's That Girl Soundtrack</td>\n      <td>0.999519</td>\n      <td>TYoYVKiQpzhvcatl</td>\n      <td>Eminem</td>\n      <td>Without Me</td>\n      <td>The Eminem Show</td>\n      <td>0.958579</td>\n      <td>ZgUzwR5NDfRuhDgx</td>\n      <td>Prince &amp; The Revolution</td>\n      <td>Let's Go Crazy</td>\n      <td>Purple Rain</td>\n      <td>0.371370</td>\n      <td>ER6vgmZp5VMwLzfq</td>\n      <td>A Tribe Called Quest</td>\n      <td>God Lives Through</td>\n      <td>Midnight Marauders</td>\n      <td>0.708904</td>\n    </tr>\n    <tr>\n      <th>5</th>\n      <td>hNTJFECmHNV4p0QY</td>\n      <td>miss A</td>\n      <td>Rock n Rule</td>\n      <td>Touch</td>\n      <td>0.999480</td>\n      <td>e9Q9R0EmvWwSjAxy</td>\n      <td>Eminem</td>\n      <td>Groundhog Day</td>\n      <td>The Marshall Mathers LP2 (Deluxe)</td>\n      <td>0.957774</td>\n      <td>kZV6wep0ogka756U</td>\n      <td>Mayday Parade</td>\n      <td>Get Up</td>\n      <td>Anywhere But Here (Deluxe)</td>\n      <td>0.365913</td>\n      <td>VwApT9MehZ2gx1a8</td>\n      <td>BROCKHAMPTON</td>\n      <td>VIVID</td>\n      <td>iridescence</td>\n      <td>0.705232</td>\n    </tr>\n    <tr>\n      <th>6</th>\n      <td>t2Y36kOOGH7JxDMn</td>\n      <td>Alter Bridge</td>\n      <td>Still Remains</td>\n      <td>AB III</td>\n      <td>0.999336</td>\n      <td>nVVj7Ksowk6ILZge</td>\n      <td>Tyler, the Creator</td>\n      <td>Pigs</td>\n      <td>Wolf</td>\n      <td>0.956910</td>\n      <td>wiw2rM2xb4CJ5sVP</td>\n      <td>Kanye West</td>\n      <td>Never Let Me Down</td>\n      <td>The College Dropout</td>\n      <td>0.363931</td>\n      <td>jsyIbokybtgb3pmJ</td>\n      <td>A Tribe Called Quest</td>\n      <td>Jazz (We've Got)</td>\n      <td>The Low End Theory</td>\n      <td>0.703841</td>\n    </tr>\n    <tr>\n      <th>7</th>\n      <td>btzE9uD80B8USfXt</td>\n      <td>Blue Öyster Cult</td>\n      <td>In Thee</td>\n      <td>Mirrors</td>\n      <td>0.999264</td>\n      <td>gE39Ms4AoMKpJNGi</td>\n      <td>Lloyd Banks</td>\n      <td>Karma</td>\n      <td>The Hunger For More</td>\n      <td>0.956683</td>\n      <td>Mj0A7uXuK1Dx28dz</td>\n      <td>Smino</td>\n      <td>WE GOT THE BISCUITS</td>\n      <td>NOIR</td>\n      <td>0.362756</td>\n      <td>C5p9Jr8WABOMgdCl</td>\n      <td>Beastie Boys</td>\n      <td>Hold It Now, Hit It</td>\n      <td>Licensed To Ill</td>\n      <td>0.699053</td>\n    </tr>\n    <tr>\n      <th>8</th>\n      <td>ZkBeGm5ZLUYmw8RF</td>\n      <td>Dead by April</td>\n      <td>Losing You</td>\n      <td>Dead by April (Bonus Version)</td>\n      <td>0.999175</td>\n      <td>wiw2rM2xb4CJ5sVP</td>\n      <td>Kanye West</td>\n      <td>Never Let Me Down</td>\n      <td>The College Dropout</td>\n      <td>0.956396</td>\n      <td>88bG363HAfPRE2vi</td>\n      <td>Deep Purple</td>\n      <td>No No No</td>\n      <td>Burn (Expanded &amp; Remastered)</td>\n      <td>0.348220</td>\n      <td>Q8HUKzo5muVvgIvP</td>\n      <td>Eminem</td>\n      <td>Marshall Mathers</td>\n      <td>The Marshall Mathers LP</td>\n      <td>0.689330</td>\n    </tr>\n    <tr>\n      <th>9</th>\n      <td>N7XykLDBRw7Spa1F</td>\n      <td>Andy Grammer</td>\n      <td>Fresh Eyes</td>\n      <td>The Good Parts</td>\n      <td>0.999173</td>\n      <td>mgjDCaqqLfxz1070</td>\n      <td>Eminem</td>\n      <td>Drug Ballad</td>\n      <td>The Marshall Mathers LP</td>\n      <td>0.955484</td>\n      <td>gqyDfchba6vWzULe</td>\n      <td>The Fratellis</td>\n      <td>Halloween Blues</td>\n      <td>We Need Medicine (Deluxe Edition)</td>\n      <td>0.347137</td>\n      <td>4r1IjzqHAOYQlgfS</td>\n      <td>Eminem</td>\n      <td>Fall</td>\n      <td>Kamikaze</td>\n      <td>0.684791</td>\n    </tr>\n  </tbody>\n</table>\n</div>"
     },
     "execution_count": 95,
     "metadata": {},
     "output_type": "execute_result"
    }
   ],
   "source": [
    "dfs[0]"
   ]
  },
  {
   "cell_type": "markdown",
   "metadata": {},
   "source": [
    "`(title=\"Business\", artist=\"Eminem\")`\n",
    "- The top similarities will often be almost 1, since we are using a uniform distribution of random values: [0, 1]. Of course, they don't actually mean that the similarity is high. Just as a short note and reason for why we'll be ignoring the random results for qualitative analysis of the next queries.\n",
    "\n",
    "- For word2vec the results look promising, a lot of songs with very high similarity. A total of 5 other songs by Eminem were found by the system, one of them (Without Me) is also from the same album. The other 5 retrieved songs are all HipHop/Rap songs and one of them (Bad Meets Evil) is even featuring Eminem.\n",
    "\n",
    "- For tf-idf the results don't score as high similarity and the system could not retrieve any other songs by eminem. It also retrieved mostly non HipHop/Rap songs. Only 3 songs are of the same genre.\n",
    "\n",
    "- With bert we, again, retrieve some songs by the same artist and mostly HipHop/Rap songs.\n",
    "\n",
    "- Without extensively comparing the lyrics of all the retrieved songs, we suspect that the reason for finding that many other songs by eminem with word2vec and bert is that Eminem uses a few words in a lot of his songs, which are not really used by other artists. E.g. `Marshall`, `Dre` (which both appear in Business)."
   ]
  },
  {
   "cell_type": "markdown",
   "metadata": {},
   "source": [
    "### Results for (title=\"Night Witches\", artist=\"Sabaton\")"
   ]
  },
  {
   "cell_type": "code",
   "execution_count": 96,
   "metadata": {
    "collapsed": false,
    "jupyter": {
     "outputs_hidden": false
    },
    "ExecuteTime": {
     "end_time": "2023-11-24T01:38:15.870597100Z",
     "start_time": "2023-11-24T01:38:15.833063200Z"
    }
   },
   "outputs": [
    {
     "data": {
      "text/plain": "            id_rand        artist_rand                          song_rand  \\\n0  EP90KqtSjQv1O77E    At the Drive-In                 Sleepwalk Capsules   \n1  p9GktZaehjFKT4rE         Chaka Khan                Move Me No Mountain   \n2  cwcLGmyvaQZJcT6D          Jorge Ben  Assim Falou Santo Tomaz De Aquino   \n3  n9LHC6mU657YomcL     The Mars Volta   This Apparatus Must Be Unearthed   \n4  lvGHVo93IrekErOp        Darren Korb    Mother, I'm Here (Zulf's Theme)   \n5  ewAqRIdsIb7RgOBG  Dark Tranquillity                 What Only You Know   \n6  j6NFnqnGJw9TFHTa      Mary J. Blige                 Come to Me (Peace)   \n7  XB1TbaI6pVohfczH               dEUS                      The Architect   \n8  Gfu0XHp0K4it8ckL          Shinedown           The Crow & The Butterfly   \n9  XLv1mSJsVYH7WEIQ         Snail Mail                           Thinning   \n\n                    album_rand  score_rand       id_word2vec  \\\n0      Relationship Of Command    0.999982  OUK5bBTgTGQgAVy7   \n1                  Smooth Soul    0.999819  qBN7BnrB9uSXZDDg   \n2         Solta O Pavão (1975)    0.999701  xnPyxQcSGAC5dMzr   \n3   Deloused in the Comatorium    0.999254  pqRrADoga2QzRddh   \n4  Bastion Original Soundtrack    0.999105  o6f1vBg76XF1vxJR   \n5                    Construct    0.999004  uyiAoox9wCrrVoQW   \n6                Growing Pains    0.998790  ZuujS0YWGIbArbP0   \n7                Vantage Point    0.998763  Qbus1NSW0A9vhkuM   \n8         The Sound of Madness    0.998707  R3H7yPXQab6G0qwo   \n9                        Habit    0.998692  Lyw8lI9YQZEfsZXX   \n\n                            artist_word2vec                     song_word2vec  \\\n0                                 Avantasia                 Ghost In The Moon   \n1                                   Bathory   The Revenge of the Blood on Ice   \n2                 Between the Buried and Me          Silent Flight Parliament   \n3                                  Megadeth                 Death From Within   \n4                          Rhapsody of Fire                     Unholy Warcry   \n5  Sopor Aeternus & The Ensemble of Shadows  On Satur(n)days We Used To Sleep   \n6                               Dying Fetus              Weaken The Structure   \n7                                   Ashbury                         Vengeance   \n8                                  Arcturus                The Arcturian Sign   \n9                                     Vader                          Dark Age   \n\n                                     album_word2vec  score_word2vec  \\\n0                                          Moonglow        0.859165   \n1                                      Blood on Ice        0.854057   \n2                  The Parallax II: Future Sequence        0.851628   \n3                                          Dystopia        0.847954   \n4  Symphony of Enchanted Lands II (The Dark Secret)        0.845201   \n5                             Dead Lovers Sarabande        0.844565   \n6                            Wrong One to Fuck With        0.844550   \n7                                     Endless Skies        0.844376   \n8                                         Arcturian        0.840746   \n9                                          Dark Age        0.840610   \n\n          id_tf-idf                        artist_tf-idf  \\\n0  Zmb8idzkHjVyKSzG                          Tim Buckley   \n1  lK1wd2EwujDcpRFG                         Rise Against   \n2  2HceDzG53j9404OD                               Slayer   \n3  C9ohq14tDIAJeodr                                 Juli   \n4  VSuR5YqH9v7NgN3n  I Love You But I've Chosen Darkness   \n5  2vroC72fBSgFKI6p                      The Moody Blues   \n6  2KlTtldY45koDK06                                 Moby   \n7  RSbNTd0jMg7I9R82                      Cradle of Filth   \n8  F7ebJa7eUiPkChuj                          Cheap Trick   \n9  LalGH4emAyu0T5I0                              Emperor   \n\n                    song_tf-idf  \\\n0                   Gypsy Woman   \n1              Far From Perfect   \n2                 Captor Of Sin   \n3                Perfekte Welle   \n4             According to Plan   \n5  Are You Sitting Comfortably?   \n6              The Perfect Life   \n7      The Cult of Venus Aversa   \n8                  Mighty Wings   \n9            Lord of the Storms   \n\n                                        album_tf-idf  score_tf-idf  \\\n0                                          Happy Sad      0.351593   \n1                   The Ghost Note Symphonies, Vol.1      0.315371   \n2                  Live Undead / Haunting the Chapel      0.311556   \n3                                 Ein neuer Tag Live      0.307305   \n4                                Fear is on Our Side      0.304200   \n5                        On The Threshold Of A Dream      0.295894   \n6                                          Innocents      0.283617   \n7      Darkly, Darkly, Venus Aversa (Deluxe Edition)      0.275112   \n8  Top Gun - Motion Picture Soundtrack (Special E...      0.258850   \n9  In The Nightside Eclipse (20th Anniversary Edi...      0.250374   \n\n            id_bert     artist_bert                            song_bert  \\\n0  VSd47SUSc5Dja4Od     Iron Maiden                    Where Eagles Dare   \n1  dpdFc5WvD3qG1PzV   Dream Theater               The Dark Eternal Night   \n2  8xIeRqsIdyJPSZ2p            Rome                  The Joys Of Stealth   \n3  IW78SR7pLUMxhLwo       Einherjer                         Spre Vingene   \n4  Pss60SSj8dqGts7y  Ólafur Arnalds                              Reclaim   \n5  HmAiZIhgpTQh2HtY        Raubtier                         Panzarmarsch   \n6  l7C6Cplr8g1yZFKg   Deströyer 666                        Clenched Fist   \n7  vPNIItkt1ru5ivn2       Sunn O)))  Cursed Realms (Of the Winterdemons)   \n8  pqRrADoga2QzRddh        Megadeth                    Death From Within   \n9  BRTTbs2WbkBKHynj    Dimmu Borgir               Alt Lys Er Svunnet Hen   \n\n                        album_bert  score_bert  \n0  Piece of Mind (2015 - Remaster)    0.644770  \n1                 Systematic Chaos    0.620575  \n2   Confessions d'un voleur d'âmes    0.613757  \n3                     Spre Vingene    0.608947  \n4              For Now I Am Winter    0.607159  \n5                  Bestia Borealis    0.603905  \n6    Cold Steel... For An Iron Age    0.603762  \n7                        Black One    0.602785  \n8                         Dystopia    0.602411  \n9                       Stormblåst    0.600827  ",
      "text/html": "<div>\n<style scoped>\n    .dataframe tbody tr th:only-of-type {\n        vertical-align: middle;\n    }\n\n    .dataframe tbody tr th {\n        vertical-align: top;\n    }\n\n    .dataframe thead th {\n        text-align: right;\n    }\n</style>\n<table border=\"1\" class=\"dataframe\">\n  <thead>\n    <tr style=\"text-align: right;\">\n      <th></th>\n      <th>id_rand</th>\n      <th>artist_rand</th>\n      <th>song_rand</th>\n      <th>album_rand</th>\n      <th>score_rand</th>\n      <th>id_word2vec</th>\n      <th>artist_word2vec</th>\n      <th>song_word2vec</th>\n      <th>album_word2vec</th>\n      <th>score_word2vec</th>\n      <th>id_tf-idf</th>\n      <th>artist_tf-idf</th>\n      <th>song_tf-idf</th>\n      <th>album_tf-idf</th>\n      <th>score_tf-idf</th>\n      <th>id_bert</th>\n      <th>artist_bert</th>\n      <th>song_bert</th>\n      <th>album_bert</th>\n      <th>score_bert</th>\n    </tr>\n  </thead>\n  <tbody>\n    <tr>\n      <th>0</th>\n      <td>EP90KqtSjQv1O77E</td>\n      <td>At the Drive-In</td>\n      <td>Sleepwalk Capsules</td>\n      <td>Relationship Of Command</td>\n      <td>0.999982</td>\n      <td>OUK5bBTgTGQgAVy7</td>\n      <td>Avantasia</td>\n      <td>Ghost In The Moon</td>\n      <td>Moonglow</td>\n      <td>0.859165</td>\n      <td>Zmb8idzkHjVyKSzG</td>\n      <td>Tim Buckley</td>\n      <td>Gypsy Woman</td>\n      <td>Happy Sad</td>\n      <td>0.351593</td>\n      <td>VSd47SUSc5Dja4Od</td>\n      <td>Iron Maiden</td>\n      <td>Where Eagles Dare</td>\n      <td>Piece of Mind (2015 - Remaster)</td>\n      <td>0.644770</td>\n    </tr>\n    <tr>\n      <th>1</th>\n      <td>p9GktZaehjFKT4rE</td>\n      <td>Chaka Khan</td>\n      <td>Move Me No Mountain</td>\n      <td>Smooth Soul</td>\n      <td>0.999819</td>\n      <td>qBN7BnrB9uSXZDDg</td>\n      <td>Bathory</td>\n      <td>The Revenge of the Blood on Ice</td>\n      <td>Blood on Ice</td>\n      <td>0.854057</td>\n      <td>lK1wd2EwujDcpRFG</td>\n      <td>Rise Against</td>\n      <td>Far From Perfect</td>\n      <td>The Ghost Note Symphonies, Vol.1</td>\n      <td>0.315371</td>\n      <td>dpdFc5WvD3qG1PzV</td>\n      <td>Dream Theater</td>\n      <td>The Dark Eternal Night</td>\n      <td>Systematic Chaos</td>\n      <td>0.620575</td>\n    </tr>\n    <tr>\n      <th>2</th>\n      <td>cwcLGmyvaQZJcT6D</td>\n      <td>Jorge Ben</td>\n      <td>Assim Falou Santo Tomaz De Aquino</td>\n      <td>Solta O Pavão (1975)</td>\n      <td>0.999701</td>\n      <td>xnPyxQcSGAC5dMzr</td>\n      <td>Between the Buried and Me</td>\n      <td>Silent Flight Parliament</td>\n      <td>The Parallax II: Future Sequence</td>\n      <td>0.851628</td>\n      <td>2HceDzG53j9404OD</td>\n      <td>Slayer</td>\n      <td>Captor Of Sin</td>\n      <td>Live Undead / Haunting the Chapel</td>\n      <td>0.311556</td>\n      <td>8xIeRqsIdyJPSZ2p</td>\n      <td>Rome</td>\n      <td>The Joys Of Stealth</td>\n      <td>Confessions d'un voleur d'âmes</td>\n      <td>0.613757</td>\n    </tr>\n    <tr>\n      <th>3</th>\n      <td>n9LHC6mU657YomcL</td>\n      <td>The Mars Volta</td>\n      <td>This Apparatus Must Be Unearthed</td>\n      <td>Deloused in the Comatorium</td>\n      <td>0.999254</td>\n      <td>pqRrADoga2QzRddh</td>\n      <td>Megadeth</td>\n      <td>Death From Within</td>\n      <td>Dystopia</td>\n      <td>0.847954</td>\n      <td>C9ohq14tDIAJeodr</td>\n      <td>Juli</td>\n      <td>Perfekte Welle</td>\n      <td>Ein neuer Tag Live</td>\n      <td>0.307305</td>\n      <td>IW78SR7pLUMxhLwo</td>\n      <td>Einherjer</td>\n      <td>Spre Vingene</td>\n      <td>Spre Vingene</td>\n      <td>0.608947</td>\n    </tr>\n    <tr>\n      <th>4</th>\n      <td>lvGHVo93IrekErOp</td>\n      <td>Darren Korb</td>\n      <td>Mother, I'm Here (Zulf's Theme)</td>\n      <td>Bastion Original Soundtrack</td>\n      <td>0.999105</td>\n      <td>o6f1vBg76XF1vxJR</td>\n      <td>Rhapsody of Fire</td>\n      <td>Unholy Warcry</td>\n      <td>Symphony of Enchanted Lands II (The Dark Secret)</td>\n      <td>0.845201</td>\n      <td>VSuR5YqH9v7NgN3n</td>\n      <td>I Love You But I've Chosen Darkness</td>\n      <td>According to Plan</td>\n      <td>Fear is on Our Side</td>\n      <td>0.304200</td>\n      <td>Pss60SSj8dqGts7y</td>\n      <td>Ólafur Arnalds</td>\n      <td>Reclaim</td>\n      <td>For Now I Am Winter</td>\n      <td>0.607159</td>\n    </tr>\n    <tr>\n      <th>5</th>\n      <td>ewAqRIdsIb7RgOBG</td>\n      <td>Dark Tranquillity</td>\n      <td>What Only You Know</td>\n      <td>Construct</td>\n      <td>0.999004</td>\n      <td>uyiAoox9wCrrVoQW</td>\n      <td>Sopor Aeternus &amp; The Ensemble of Shadows</td>\n      <td>On Satur(n)days We Used To Sleep</td>\n      <td>Dead Lovers Sarabande</td>\n      <td>0.844565</td>\n      <td>2vroC72fBSgFKI6p</td>\n      <td>The Moody Blues</td>\n      <td>Are You Sitting Comfortably?</td>\n      <td>On The Threshold Of A Dream</td>\n      <td>0.295894</td>\n      <td>HmAiZIhgpTQh2HtY</td>\n      <td>Raubtier</td>\n      <td>Panzarmarsch</td>\n      <td>Bestia Borealis</td>\n      <td>0.603905</td>\n    </tr>\n    <tr>\n      <th>6</th>\n      <td>j6NFnqnGJw9TFHTa</td>\n      <td>Mary J. Blige</td>\n      <td>Come to Me (Peace)</td>\n      <td>Growing Pains</td>\n      <td>0.998790</td>\n      <td>ZuujS0YWGIbArbP0</td>\n      <td>Dying Fetus</td>\n      <td>Weaken The Structure</td>\n      <td>Wrong One to Fuck With</td>\n      <td>0.844550</td>\n      <td>2KlTtldY45koDK06</td>\n      <td>Moby</td>\n      <td>The Perfect Life</td>\n      <td>Innocents</td>\n      <td>0.283617</td>\n      <td>l7C6Cplr8g1yZFKg</td>\n      <td>Deströyer 666</td>\n      <td>Clenched Fist</td>\n      <td>Cold Steel... For An Iron Age</td>\n      <td>0.603762</td>\n    </tr>\n    <tr>\n      <th>7</th>\n      <td>XB1TbaI6pVohfczH</td>\n      <td>dEUS</td>\n      <td>The Architect</td>\n      <td>Vantage Point</td>\n      <td>0.998763</td>\n      <td>Qbus1NSW0A9vhkuM</td>\n      <td>Ashbury</td>\n      <td>Vengeance</td>\n      <td>Endless Skies</td>\n      <td>0.844376</td>\n      <td>RSbNTd0jMg7I9R82</td>\n      <td>Cradle of Filth</td>\n      <td>The Cult of Venus Aversa</td>\n      <td>Darkly, Darkly, Venus Aversa (Deluxe Edition)</td>\n      <td>0.275112</td>\n      <td>vPNIItkt1ru5ivn2</td>\n      <td>Sunn O)))</td>\n      <td>Cursed Realms (Of the Winterdemons)</td>\n      <td>Black One</td>\n      <td>0.602785</td>\n    </tr>\n    <tr>\n      <th>8</th>\n      <td>Gfu0XHp0K4it8ckL</td>\n      <td>Shinedown</td>\n      <td>The Crow &amp; The Butterfly</td>\n      <td>The Sound of Madness</td>\n      <td>0.998707</td>\n      <td>R3H7yPXQab6G0qwo</td>\n      <td>Arcturus</td>\n      <td>The Arcturian Sign</td>\n      <td>Arcturian</td>\n      <td>0.840746</td>\n      <td>F7ebJa7eUiPkChuj</td>\n      <td>Cheap Trick</td>\n      <td>Mighty Wings</td>\n      <td>Top Gun - Motion Picture Soundtrack (Special E...</td>\n      <td>0.258850</td>\n      <td>pqRrADoga2QzRddh</td>\n      <td>Megadeth</td>\n      <td>Death From Within</td>\n      <td>Dystopia</td>\n      <td>0.602411</td>\n    </tr>\n    <tr>\n      <th>9</th>\n      <td>XLv1mSJsVYH7WEIQ</td>\n      <td>Snail Mail</td>\n      <td>Thinning</td>\n      <td>Habit</td>\n      <td>0.998692</td>\n      <td>Lyw8lI9YQZEfsZXX</td>\n      <td>Vader</td>\n      <td>Dark Age</td>\n      <td>Dark Age</td>\n      <td>0.840610</td>\n      <td>LalGH4emAyu0T5I0</td>\n      <td>Emperor</td>\n      <td>Lord of the Storms</td>\n      <td>In The Nightside Eclipse (20th Anniversary Edi...</td>\n      <td>0.250374</td>\n      <td>BRTTbs2WbkBKHynj</td>\n      <td>Dimmu Borgir</td>\n      <td>Alt Lys Er Svunnet Hen</td>\n      <td>Stormblåst</td>\n      <td>0.600827</td>\n    </tr>\n  </tbody>\n</table>\n</div>"
     },
     "execution_count": 96,
     "metadata": {},
     "output_type": "execute_result"
    }
   ],
   "source": [
    "dfs[1]"
   ]
  },
  {
   "cell_type": "markdown",
   "metadata": {},
   "source": [
    "`(title=\"Night Witches\", artist=\"Sabaton\")`\n",
    "\n",
    "- word2vec receives songs with similar genre, but no songs from the same artist.\n",
    "- the tfidf results are partially of the same genre and none of the same artist. The song `Die Perfekte Welle` seems out of place, but its lyrics contain the word `perfekt` a lot, where the query song's lyrics contain `perfect` a lot. This might be a reason for the similarity.\n",
    "- bert receives songs with mostly the same genre, but no songs from the same artist."
   ]
  },
  {
   "cell_type": "markdown",
   "metadata": {},
   "source": [
    "### Results for (title=\"Encoder\", artist=\"Pendulum\")"
   ]
  },
  {
   "cell_type": "code",
   "execution_count": 97,
   "metadata": {
    "collapsed": false,
    "jupyter": {
     "outputs_hidden": false
    },
    "ExecuteTime": {
     "end_time": "2023-11-24T01:38:15.892539500Z",
     "start_time": "2023-11-24T01:38:15.849575400Z"
    }
   },
   "outputs": [
    {
     "data": {
      "text/plain": "            id_rand                        artist_rand              song_rand  \\\n0  TV2JNGyBifq6OhZj                     Billie Holiday            All The Way   \n1  VjkSGlRFZFP9e34b                      Mayday Parade              Priceless   \n2  Vn5M1dArWOzlzAb6  Big Brother & The Holding Company      Flower in the Sun   \n3  SScds2ShuTZGW3oI                      Kaiser Chiefs           Out Of Focus   \n4  f4eepQQkg2ep1b4K                               Pond            Dig Brother   \n5  zuIEQlmkEpSSjrUw                                Tiê  Pra alegrar o meu dia   \n6  OaMOYAZMmouzUfEn                         Maria Gadú              Dona Cila   \n7  tPNrNoLg1TH2zQ0A                          Katatonia                  Nerve   \n8  oWgoCA1NvSYrb4Lu                               Rush                 Anthem   \n9  iHRt8u88DH1Dq7SP                        Chris Brown                  Loyal   \n\n                       album_rand  score_rand       id_word2vec  \\\n0                  Last Recording    0.999930  xuvOIIAf7xHY4tvm   \n1  Mayday Parade (Deluxe Edition)    0.999924  qysJrLPfxSCkdg9o   \n2                   Cheap Thrills    0.999830  f7nMTiV0NHDaPOIK   \n3          The Future Is Medieval    0.999581  fraglE0va6B3zUwB   \n4             Beard, Wives, Denim    0.999465  0IHQDwO3FnNYE7VY   \n5                  Latin Folk Pop    0.999399  hSXdyzqVnjWnEZbQ   \n6                      Maria Gadú    0.999308  HgImdPHY2r03vbTh   \n7                Discouraged Ones    0.999220  n2jEWkacDcvJ6eJ8   \n8                    Fly By Night    0.999106  Q0FuvjirjmMi2Xy4   \n9            X (Expanded Edition)    0.999093  pAd7kQdenSBvW8Ml   \n\n  artist_word2vec                             song_word2vec  \\\n0    Joy Division                                  24 Hours   \n1           Emery                      The Ponytail Parades   \n2    Phil Collins                          Against All Odds   \n3    Phil Collins  Against All Odds (Take a Look at Me Now)   \n4    Mariah Carey  Against All Odds (Take a Look at Me Now)   \n5             BTS                                First Love   \n6    Dinosaur Jr.                            Keep The Glove   \n7      Stray Kids                                  I am YOU   \n8   Dream Theater                        The Bigger Picture   \n9         Mineral                               Parking Lot   \n\n               album_word2vec  score_word2vec         id_tf-idf  \\\n0  Last Order (Hd Remastered)        0.926218  GjIaZcckFpTQqF8N   \n1              The Weak's End        0.925573  HshAaiNsDdV1W4nq   \n2      The Singles (Expanded)        0.924615  Sr6cMgnJq7UmdnyL   \n3      The Singles (Expanded)        0.924312  mreAbgfRVLT1349Q   \n4               Greatest Hits        0.922265  EV3VRzYbYoFjmj1w   \n5                       Wings        0.920089  tXJHzoQa51DdyOX7   \n6                         Bug        0.918289  hPjLYCrpOH1xIdoi   \n7                    I am YOU        0.918077  nDiuhKCc9z5DOBcD   \n8               Dream Theater        0.917097  lLr42PhCGChOItPt   \n9        The Power of Failing        0.916767  S7TjeaBqPK9kCnZG   \n\n                          artist_tf-idf                    song_tf-idf  \\\n0                                 Wilco                 Passenger Side   \n1                             Rivermaya                            214   \n2                         Drowning Pool                      Blindfold   \n3                          Toni Braxton  Let Me Show You the Way (Out)   \n4                          3 Doors Down                    Still Alive   \n5                          Judas Priest                    All the Way   \n6                         The Alchemist                  Hold You Down   \n7                               The Cab                           Moon   \n8                            Zola Blood                       Play Out   \n9  Daron Malakian and Scars on Broadway                   Never Forget   \n\n                   album_tf-idf  score_tf-idf           id_bert  \\\n0                          A.M.      0.419339  sUthByiziG0pdfZW   \n1                 Greatest Hits      0.395458  KNWTsGsMKrMUOZGP   \n2           Resilience (Deluxe)      0.330584  PdcTvt7fWomuG5NV   \n3             More Than A Woman      0.326977  h2ap0A9dSDkFmO8D   \n4              Us And The Night      0.317766  VHEVsKLSHv9FLNrx   \n5                Point Of Entry      0.311683  4lncHvBfKlBM4yzL   \n6                  1st Infantry      0.311585  FP3QItPNaS9TqPKm   \n7                    Lock Me Up      0.310115  JOXJtqBv7ptLmaK3   \n8  Play Out / Pieces of the Day      0.304793  gKHosWLDavB700UY   \n9                      Dictator      0.302866  bUyESS0Y1RhTzjsM   \n\n          artist_bert          song_bert  \\\n0         James Blunt        So Far Gone   \n1   Black Veil Brides    Knives and Pens   \n2     The Dear Hunter            Whisper   \n3     Alice in Chains      Your Decision   \n4    Emilíana Torrini      Gollum's Song   \n5           Kate Bush      Hammer Horror   \n6               Trapt         Headstrong   \n7   Breaking Benjamin  What Lies Beneath   \n8  The Appleseed Cast         Fight Song   \n9       Reba McEntire   Consider Me Gone   \n\n                                          album_bert  score_bert  \n0                               Some Kind Of Trouble    0.679692  \n1                             We Stitch These Wounds    0.662400  \n2                                   Migrant (Deluxe)    0.650715  \n3                            Black Gives Way To Blue    0.648354  \n4  The Lord Of The Rings: The Two Towers (Origina...    0.647456  \n5                                          Lionheart    0.646831  \n6                                              Trapt    0.642641  \n7                                         Dear Agony    0.638531  \n8                                  Two Conversations    0.634198  \n9                                 Keep On Loving You    0.629430  ",
      "text/html": "<div>\n<style scoped>\n    .dataframe tbody tr th:only-of-type {\n        vertical-align: middle;\n    }\n\n    .dataframe tbody tr th {\n        vertical-align: top;\n    }\n\n    .dataframe thead th {\n        text-align: right;\n    }\n</style>\n<table border=\"1\" class=\"dataframe\">\n  <thead>\n    <tr style=\"text-align: right;\">\n      <th></th>\n      <th>id_rand</th>\n      <th>artist_rand</th>\n      <th>song_rand</th>\n      <th>album_rand</th>\n      <th>score_rand</th>\n      <th>id_word2vec</th>\n      <th>artist_word2vec</th>\n      <th>song_word2vec</th>\n      <th>album_word2vec</th>\n      <th>score_word2vec</th>\n      <th>id_tf-idf</th>\n      <th>artist_tf-idf</th>\n      <th>song_tf-idf</th>\n      <th>album_tf-idf</th>\n      <th>score_tf-idf</th>\n      <th>id_bert</th>\n      <th>artist_bert</th>\n      <th>song_bert</th>\n      <th>album_bert</th>\n      <th>score_bert</th>\n    </tr>\n  </thead>\n  <tbody>\n    <tr>\n      <th>0</th>\n      <td>TV2JNGyBifq6OhZj</td>\n      <td>Billie Holiday</td>\n      <td>All The Way</td>\n      <td>Last Recording</td>\n      <td>0.999930</td>\n      <td>xuvOIIAf7xHY4tvm</td>\n      <td>Joy Division</td>\n      <td>24 Hours</td>\n      <td>Last Order (Hd Remastered)</td>\n      <td>0.926218</td>\n      <td>GjIaZcckFpTQqF8N</td>\n      <td>Wilco</td>\n      <td>Passenger Side</td>\n      <td>A.M.</td>\n      <td>0.419339</td>\n      <td>sUthByiziG0pdfZW</td>\n      <td>James Blunt</td>\n      <td>So Far Gone</td>\n      <td>Some Kind Of Trouble</td>\n      <td>0.679692</td>\n    </tr>\n    <tr>\n      <th>1</th>\n      <td>VjkSGlRFZFP9e34b</td>\n      <td>Mayday Parade</td>\n      <td>Priceless</td>\n      <td>Mayday Parade (Deluxe Edition)</td>\n      <td>0.999924</td>\n      <td>qysJrLPfxSCkdg9o</td>\n      <td>Emery</td>\n      <td>The Ponytail Parades</td>\n      <td>The Weak's End</td>\n      <td>0.925573</td>\n      <td>HshAaiNsDdV1W4nq</td>\n      <td>Rivermaya</td>\n      <td>214</td>\n      <td>Greatest Hits</td>\n      <td>0.395458</td>\n      <td>KNWTsGsMKrMUOZGP</td>\n      <td>Black Veil Brides</td>\n      <td>Knives and Pens</td>\n      <td>We Stitch These Wounds</td>\n      <td>0.662400</td>\n    </tr>\n    <tr>\n      <th>2</th>\n      <td>Vn5M1dArWOzlzAb6</td>\n      <td>Big Brother &amp; The Holding Company</td>\n      <td>Flower in the Sun</td>\n      <td>Cheap Thrills</td>\n      <td>0.999830</td>\n      <td>f7nMTiV0NHDaPOIK</td>\n      <td>Phil Collins</td>\n      <td>Against All Odds</td>\n      <td>The Singles (Expanded)</td>\n      <td>0.924615</td>\n      <td>Sr6cMgnJq7UmdnyL</td>\n      <td>Drowning Pool</td>\n      <td>Blindfold</td>\n      <td>Resilience (Deluxe)</td>\n      <td>0.330584</td>\n      <td>PdcTvt7fWomuG5NV</td>\n      <td>The Dear Hunter</td>\n      <td>Whisper</td>\n      <td>Migrant (Deluxe)</td>\n      <td>0.650715</td>\n    </tr>\n    <tr>\n      <th>3</th>\n      <td>SScds2ShuTZGW3oI</td>\n      <td>Kaiser Chiefs</td>\n      <td>Out Of Focus</td>\n      <td>The Future Is Medieval</td>\n      <td>0.999581</td>\n      <td>fraglE0va6B3zUwB</td>\n      <td>Phil Collins</td>\n      <td>Against All Odds (Take a Look at Me Now)</td>\n      <td>The Singles (Expanded)</td>\n      <td>0.924312</td>\n      <td>mreAbgfRVLT1349Q</td>\n      <td>Toni Braxton</td>\n      <td>Let Me Show You the Way (Out)</td>\n      <td>More Than A Woman</td>\n      <td>0.326977</td>\n      <td>h2ap0A9dSDkFmO8D</td>\n      <td>Alice in Chains</td>\n      <td>Your Decision</td>\n      <td>Black Gives Way To Blue</td>\n      <td>0.648354</td>\n    </tr>\n    <tr>\n      <th>4</th>\n      <td>f4eepQQkg2ep1b4K</td>\n      <td>Pond</td>\n      <td>Dig Brother</td>\n      <td>Beard, Wives, Denim</td>\n      <td>0.999465</td>\n      <td>0IHQDwO3FnNYE7VY</td>\n      <td>Mariah Carey</td>\n      <td>Against All Odds (Take a Look at Me Now)</td>\n      <td>Greatest Hits</td>\n      <td>0.922265</td>\n      <td>EV3VRzYbYoFjmj1w</td>\n      <td>3 Doors Down</td>\n      <td>Still Alive</td>\n      <td>Us And The Night</td>\n      <td>0.317766</td>\n      <td>VHEVsKLSHv9FLNrx</td>\n      <td>Emilíana Torrini</td>\n      <td>Gollum's Song</td>\n      <td>The Lord Of The Rings: The Two Towers (Origina...</td>\n      <td>0.647456</td>\n    </tr>\n    <tr>\n      <th>5</th>\n      <td>zuIEQlmkEpSSjrUw</td>\n      <td>Tiê</td>\n      <td>Pra alegrar o meu dia</td>\n      <td>Latin Folk Pop</td>\n      <td>0.999399</td>\n      <td>hSXdyzqVnjWnEZbQ</td>\n      <td>BTS</td>\n      <td>First Love</td>\n      <td>Wings</td>\n      <td>0.920089</td>\n      <td>tXJHzoQa51DdyOX7</td>\n      <td>Judas Priest</td>\n      <td>All the Way</td>\n      <td>Point Of Entry</td>\n      <td>0.311683</td>\n      <td>4lncHvBfKlBM4yzL</td>\n      <td>Kate Bush</td>\n      <td>Hammer Horror</td>\n      <td>Lionheart</td>\n      <td>0.646831</td>\n    </tr>\n    <tr>\n      <th>6</th>\n      <td>OaMOYAZMmouzUfEn</td>\n      <td>Maria Gadú</td>\n      <td>Dona Cila</td>\n      <td>Maria Gadú</td>\n      <td>0.999308</td>\n      <td>HgImdPHY2r03vbTh</td>\n      <td>Dinosaur Jr.</td>\n      <td>Keep The Glove</td>\n      <td>Bug</td>\n      <td>0.918289</td>\n      <td>hPjLYCrpOH1xIdoi</td>\n      <td>The Alchemist</td>\n      <td>Hold You Down</td>\n      <td>1st Infantry</td>\n      <td>0.311585</td>\n      <td>FP3QItPNaS9TqPKm</td>\n      <td>Trapt</td>\n      <td>Headstrong</td>\n      <td>Trapt</td>\n      <td>0.642641</td>\n    </tr>\n    <tr>\n      <th>7</th>\n      <td>tPNrNoLg1TH2zQ0A</td>\n      <td>Katatonia</td>\n      <td>Nerve</td>\n      <td>Discouraged Ones</td>\n      <td>0.999220</td>\n      <td>n2jEWkacDcvJ6eJ8</td>\n      <td>Stray Kids</td>\n      <td>I am YOU</td>\n      <td>I am YOU</td>\n      <td>0.918077</td>\n      <td>nDiuhKCc9z5DOBcD</td>\n      <td>The Cab</td>\n      <td>Moon</td>\n      <td>Lock Me Up</td>\n      <td>0.310115</td>\n      <td>JOXJtqBv7ptLmaK3</td>\n      <td>Breaking Benjamin</td>\n      <td>What Lies Beneath</td>\n      <td>Dear Agony</td>\n      <td>0.638531</td>\n    </tr>\n    <tr>\n      <th>8</th>\n      <td>oWgoCA1NvSYrb4Lu</td>\n      <td>Rush</td>\n      <td>Anthem</td>\n      <td>Fly By Night</td>\n      <td>0.999106</td>\n      <td>Q0FuvjirjmMi2Xy4</td>\n      <td>Dream Theater</td>\n      <td>The Bigger Picture</td>\n      <td>Dream Theater</td>\n      <td>0.917097</td>\n      <td>lLr42PhCGChOItPt</td>\n      <td>Zola Blood</td>\n      <td>Play Out</td>\n      <td>Play Out / Pieces of the Day</td>\n      <td>0.304793</td>\n      <td>gKHosWLDavB700UY</td>\n      <td>The Appleseed Cast</td>\n      <td>Fight Song</td>\n      <td>Two Conversations</td>\n      <td>0.634198</td>\n    </tr>\n    <tr>\n      <th>9</th>\n      <td>iHRt8u88DH1Dq7SP</td>\n      <td>Chris Brown</td>\n      <td>Loyal</td>\n      <td>X (Expanded Edition)</td>\n      <td>0.999093</td>\n      <td>pAd7kQdenSBvW8Ml</td>\n      <td>Mineral</td>\n      <td>Parking Lot</td>\n      <td>The Power of Failing</td>\n      <td>0.916767</td>\n      <td>S7TjeaBqPK9kCnZG</td>\n      <td>Daron Malakian and Scars on Broadway</td>\n      <td>Never Forget</td>\n      <td>Dictator</td>\n      <td>0.302866</td>\n      <td>bUyESS0Y1RhTzjsM</td>\n      <td>Reba McEntire</td>\n      <td>Consider Me Gone</td>\n      <td>Keep On Loving You</td>\n      <td>0.629430</td>\n    </tr>\n  </tbody>\n</table>\n</div>"
     },
     "execution_count": 97,
     "metadata": {},
     "output_type": "execute_result"
    }
   ],
   "source": [
    "dfs[2]"
   ]
  },
  {
   "cell_type": "markdown",
   "metadata": {},
   "source": [
    "`(title=\"Encoder\", artist=\"Pendulum\")`\n",
    "\n",
    "- we particularly chose this song, because we wanted to see how the system would perform with electronic music. Electronic music often has very little lyrics, so we suspected the system to have a very hard time finding similar songs for this query.\n",
    "- word2vec received three times the same song (with the same lyrics). `Against All Odds` probably has a lot of similar words or phrases in its lyrics. But other than that it is not very similar (different genre, artist). It also received two K-Pop songs, which seems like a very different genre.\n",
    "- With tfidf, the results were also of different genre and artist\n",
    "- With bert, we received  songs with a lot of different genres. But no electronic music\n",
    "- These results show that the system has a hard time with electronic music. This gives us some evidence to strengthen our initial claim, that it is because of the lyrics, or the lack thereof. However, the reason could also be a bias of the data. Because we only have lyrics as features, electronic songs might be underrepresented."
   ]
  }
 ],
 "metadata": {
  "kernelspec": {
   "display_name": "Python 3 (ipykernel)",
   "language": "python",
   "name": "python3"
  },
  "language_info": {
   "codemirror_mode": {
    "name": "ipython",
    "version": 3
   },
   "file_extension": ".py",
   "mimetype": "text/x-python",
   "name": "python",
   "nbconvert_exporter": "python",
   "pygments_lexer": "ipython3",
   "version": "3.8.16"
  }
 },
 "nbformat": 4,
 "nbformat_minor": 4
}
