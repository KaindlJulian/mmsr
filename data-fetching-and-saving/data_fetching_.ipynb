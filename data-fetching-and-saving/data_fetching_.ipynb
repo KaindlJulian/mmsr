{
 "cells": [
  {
   "cell_type": "code",
   "execution_count": 1,
   "metadata": {},
   "outputs": [],
   "source": [
    "import sys\n",
    "\n",
    "sys.path.append(\"../\")\n",
    "\n",
    "import pandas as pd\n",
    "import os\n",
    "import matplotlib.pyplot as plt\n",
    "from task1.retrieval_system import RetrievalSystem, SongInfo\n",
    "from task1.similarity_measure import (\n",
    "    cosine_similarity,\n",
    "    dot_product,\n",
    "    manhattan_distance,\n",
    "    euclidean_distance,\n",
    "    random_similarity,\n",
    ")\n",
    "\n",
    "from utils import embed_and_merge"
   ]
  },
  {
   "cell_type": "code",
   "execution_count": 2,
   "metadata": {},
   "outputs": [
    {
     "data": {
      "text/plain": [
       "(4096,)"
      ]
     },
     "execution_count": 2,
     "metadata": {},
     "output_type": "execute_result"
    }
   ],
   "source": [
    "def read(feature, h=0):\n",
    "    file_path = os.path.join(\n",
    "        \"..\", \"data\", f\"id_{feature}_mmsr.tsv\"\n",
    "    )\n",
    "    return pd.read_csv(file_path, delimiter=\"\\t\", header=h)\n",
    "df = read(\"information\", 0)\n",
    "# add genre information for metric calculation\n",
    "genres = read(\"genres\", 0)\n",
    "# convert genre to actual list via eval\n",
    "genres[\"genre\"] = genres[\"genre\"].apply(eval).apply(set)\n",
    "df = df.merge(genres, on=\"id\", how=\"left\")\n",
    "for text_feature in [\"lyrics_tf-idf\"]:\n",
    "        stats = read(text_feature, 0)\n",
    "        df = embed_and_merge(df, stats, text_feature.split(\"_\")[1])\n",
    "        \n",
    "visual_feature = \"resnet\"\n",
    "stats = read(visual_feature, 0)\n",
    "df = embed_and_merge(df, stats, visual_feature)\n",
    "\n",
    "for audio_feature in [\"ivec256\", \"musicnn\"]:\n",
    "    stats = read(audio_feature, 0)\n",
    "    df = embed_and_merge(df, stats, audio_feature)\n",
    "    \n",
    "# data for task 2 does not include the item with id \"03Oc9WeMEmyLLQbj\" = row 5\n",
    "df = df.drop(5)\n",
    "df = df.reset_index()\n",
    "df.head()\n",
    "df[\"resnet\"].values[1].shape"
   ]
  },
  {
   "cell_type": "code",
   "execution_count": 3,
   "metadata": {},
   "outputs": [
    {
     "ename": "KeyboardInterrupt",
     "evalue": "",
     "output_type": "error",
     "traceback": [
      "\u001b[1;31m---------------------------------------------------------------------------\u001b[0m",
      "\u001b[1;31mKeyboardInterrupt\u001b[0m                         Traceback (most recent call last)",
      "Cell \u001b[1;32mIn[3], line 20\u001b[0m\n\u001b[0;32m     10\u001b[0m     rs_resnet \u001b[38;5;241m=\u001b[39m RetrievalSystem(\n\u001b[0;32m     11\u001b[0m         df\u001b[38;5;241m=\u001b[39mdf,\n\u001b[0;32m     12\u001b[0m         sim_metric\u001b[38;5;241m=\u001b[39mcosine_similarity,\n\u001b[0;32m     13\u001b[0m         sim_feature\u001b[38;5;241m=\u001b[39m\u001b[38;5;124m\"\u001b[39m\u001b[38;5;124mresnet\u001b[39m\u001b[38;5;124m\"\u001b[39m,\n\u001b[0;32m     14\u001b[0m     )\n\u001b[0;32m     15\u001b[0m     rs_ivec256 \u001b[38;5;241m=\u001b[39m RetrievalSystem(\n\u001b[0;32m     16\u001b[0m         df\u001b[38;5;241m=\u001b[39mdf,\n\u001b[0;32m     17\u001b[0m         sim_metric\u001b[38;5;241m=\u001b[39mcosine_similarity,\n\u001b[0;32m     18\u001b[0m         sim_feature\u001b[38;5;241m=\u001b[39m\u001b[38;5;124m\"\u001b[39m\u001b[38;5;124mivec256\u001b[39m\u001b[38;5;124m\"\u001b[39m,\n\u001b[0;32m     19\u001b[0m     )\n\u001b[1;32m---> 20\u001b[0m     res\u001b[38;5;241m.\u001b[39mloc[\u001b[38;5;28mlen\u001b[39m(res)] \u001b[38;5;241m=\u001b[39m [row\u001b[38;5;241m.\u001b[39mid, \u001b[38;5;124m'\u001b[39m\u001b[38;5;124m;\u001b[39m\u001b[38;5;124m'\u001b[39m\u001b[38;5;241m.\u001b[39mjoin(rs_tfidf\u001b[38;5;241m.\u001b[39mretrieve(songInfo, \u001b[38;5;241m10\u001b[39m)[\u001b[38;5;124m'\u001b[39m\u001b[38;5;124mid\u001b[39m\u001b[38;5;124m'\u001b[39m]), \u001b[38;5;124m'\u001b[39m\u001b[38;5;124m;\u001b[39m\u001b[38;5;124m'\u001b[39m\u001b[38;5;241m.\u001b[39mjoin(\u001b[43mrs_resnet\u001b[49m\u001b[38;5;241;43m.\u001b[39;49m\u001b[43mretrieve\u001b[49m\u001b[43m(\u001b[49m\u001b[43msongInfo\u001b[49m\u001b[43m,\u001b[49m\u001b[43m \u001b[49m\u001b[38;5;241;43m10\u001b[39;49m\u001b[43m)\u001b[49m[\u001b[38;5;124m'\u001b[39m\u001b[38;5;124mid\u001b[39m\u001b[38;5;124m'\u001b[39m]), \u001b[38;5;124m'\u001b[39m\u001b[38;5;124m;\u001b[39m\u001b[38;5;124m'\u001b[39m\u001b[38;5;241m.\u001b[39mjoin(rs_ivec256\u001b[38;5;241m.\u001b[39mretrieve(songInfo, \u001b[38;5;241m10\u001b[39m)[\u001b[38;5;124m'\u001b[39m\u001b[38;5;124mid\u001b[39m\u001b[38;5;124m'\u001b[39m])]\n\u001b[0;32m     22\u001b[0m res\u001b[38;5;241m.\u001b[39mto_csv(\u001b[38;5;124m\"\u001b[39m\u001b[38;5;124mcached_results.csv\u001b[39m\u001b[38;5;124m\"\u001b[39m, index\u001b[38;5;241m=\u001b[39m\u001b[38;5;28;01mFalse\u001b[39;00m)\n",
      "File \u001b[1;32mc:\\Users\\darks\\Documents\\JKU\\7.Semester\\Multimedia_Search_and_Retrieval\\mmsr\\task1\\retrieval_system.py:142\u001b[0m, in \u001b[0;36mRetrievalSystem.retrieve\u001b[1;34m(self, query, n)\u001b[0m\n\u001b[0;32m    139\u001b[0m     \u001b[38;5;28;01mif\u001b[39;00m \u001b[38;5;28mlen\u001b[39m(cached_result) \u001b[38;5;241m>\u001b[39m\u001b[38;5;241m=\u001b[39m n:\n\u001b[0;32m    140\u001b[0m         \u001b[38;5;28;01mreturn\u001b[39;00m cached_result\u001b[38;5;241m.\u001b[39mhead(n)\n\u001b[1;32m--> 142\u001b[0m top_n \u001b[38;5;241m=\u001b[39m \u001b[38;5;28;43mself\u001b[39;49m\u001b[38;5;241;43m.\u001b[39;49m\u001b[43m_calc_similarity\u001b[49m\u001b[43m(\u001b[49m\u001b[43msong\u001b[49m\u001b[43m,\u001b[49m\u001b[43m \u001b[49m\u001b[43mn\u001b[49m\u001b[38;5;241;43m=\u001b[39;49m\u001b[43mn\u001b[49m\u001b[43m)\u001b[49m\n\u001b[0;32m    143\u001b[0m \u001b[38;5;66;03m# from the assignment, it is not 100% clear what to return --> return all except embeddings\u001b[39;00m\n\u001b[0;32m    144\u001b[0m result \u001b[38;5;241m=\u001b[39m \u001b[38;5;28mself\u001b[39m\u001b[38;5;241m.\u001b[39m_remove_embeddings(top_n)\n",
      "File \u001b[1;32mc:\\Users\\darks\\Documents\\JKU\\7.Semester\\Multimedia_Search_and_Retrieval\\mmsr\\task1\\retrieval_system.py:56\u001b[0m, in \u001b[0;36mRetrievalSystem._calc_similarity\u001b[1;34m(self, song, n)\u001b[0m\n\u001b[0;32m     54\u001b[0m \u001b[38;5;28;01melse\u001b[39;00m:\n\u001b[0;32m     55\u001b[0m     song_vector \u001b[38;5;241m=\u001b[39m song[\u001b[38;5;28mself\u001b[39m\u001b[38;5;241m.\u001b[39msim_feature]\n\u001b[1;32m---> 56\u001b[0m     similarity \u001b[38;5;241m=\u001b[39m \u001b[38;5;28;43mself\u001b[39;49m\u001b[38;5;241;43m.\u001b[39;49m\u001b[43msim_metric\u001b[49m\u001b[43m(\u001b[49m\u001b[43msong_vector\u001b[49m\u001b[43m,\u001b[49m\u001b[43m \u001b[49m\u001b[38;5;28;43mself\u001b[39;49m\u001b[38;5;241;43m.\u001b[39;49m\u001b[43mall_songs_stacked\u001b[49m\u001b[43m)\u001b[49m\u001b[38;5;241m.\u001b[39mflatten()\n\u001b[0;32m     58\u001b[0m     \u001b[38;5;66;03m# set similarity with self to -1\u001b[39;00m\n\u001b[0;32m     59\u001b[0m     self_index \u001b[38;5;241m=\u001b[39m np\u001b[38;5;241m.\u001b[39mwhere((\u001b[38;5;28mself\u001b[39m\u001b[38;5;241m.\u001b[39mall_songs_stacked \u001b[38;5;241m==\u001b[39m song_vector)\u001b[38;5;241m.\u001b[39mall(axis\u001b[38;5;241m=\u001b[39m\u001b[38;5;241m1\u001b[39m))[\n\u001b[0;32m     60\u001b[0m         \u001b[38;5;241m0\u001b[39m\n\u001b[0;32m     61\u001b[0m     ]\n",
      "File \u001b[1;32mc:\\Users\\darks\\Documents\\JKU\\7.Semester\\Multimedia_Search_and_Retrieval\\mmsr\\task1\\similarity_measure.py:6\u001b[0m, in \u001b[0;36mcosine_similarity\u001b[1;34m(a, B)\u001b[0m\n\u001b[0;32m      4\u001b[0m \u001b[38;5;28;01mdef\u001b[39;00m \u001b[38;5;21mcosine_similarity\u001b[39m(a: np\u001b[38;5;241m.\u001b[39mndarray, B: np\u001b[38;5;241m.\u001b[39mndarray) \u001b[38;5;241m-\u001b[39m\u001b[38;5;241m>\u001b[39m np\u001b[38;5;241m.\u001b[39mndarray:\n\u001b[0;32m      5\u001b[0m     a_norm \u001b[38;5;241m=\u001b[39m np\u001b[38;5;241m.\u001b[39mlinalg\u001b[38;5;241m.\u001b[39mnorm(a) \u001b[38;5;241m+\u001b[39m \u001b[38;5;241m1e-10\u001b[39m\n\u001b[1;32m----> 6\u001b[0m     B_norm \u001b[38;5;241m=\u001b[39m \u001b[43mnp\u001b[49m\u001b[38;5;241;43m.\u001b[39;49m\u001b[43mlinalg\u001b[49m\u001b[38;5;241;43m.\u001b[39;49m\u001b[43mnorm\u001b[49m\u001b[43m(\u001b[49m\u001b[43mB\u001b[49m\u001b[43m,\u001b[49m\u001b[43m \u001b[49m\u001b[43maxis\u001b[49m\u001b[38;5;241;43m=\u001b[39;49m\u001b[38;5;241;43m1\u001b[39;49m\u001b[43m)\u001b[49m \u001b[38;5;241m+\u001b[39m \u001b[38;5;241m1e-10\u001b[39m\n\u001b[0;32m      7\u001b[0m     \u001b[38;5;28;01mreturn\u001b[39;00m np\u001b[38;5;241m.\u001b[39mdot(B, a\u001b[38;5;241m.\u001b[39mT) \u001b[38;5;241m/\u001b[39m (B_norm \u001b[38;5;241m*\u001b[39m a_norm)\n",
      "File \u001b[1;32m<__array_function__ internals>:200\u001b[0m, in \u001b[0;36mnorm\u001b[1;34m(*args, **kwargs)\u001b[0m\n",
      "File \u001b[1;32mc:\\Users\\darks\\AppData\\Local\\Programs\\Python\\Python38\\lib\\site-packages\\numpy\\linalg\\linalg.py:2542\u001b[0m, in \u001b[0;36mnorm\u001b[1;34m(x, ord, axis, keepdims)\u001b[0m\n\u001b[0;32m   2539\u001b[0m \u001b[38;5;28;01melif\u001b[39;00m \u001b[38;5;28mord\u001b[39m \u001b[38;5;129;01mis\u001b[39;00m \u001b[38;5;28;01mNone\u001b[39;00m \u001b[38;5;129;01mor\u001b[39;00m \u001b[38;5;28mord\u001b[39m \u001b[38;5;241m==\u001b[39m \u001b[38;5;241m2\u001b[39m:\n\u001b[0;32m   2540\u001b[0m     \u001b[38;5;66;03m# special case for speedup\u001b[39;00m\n\u001b[0;32m   2541\u001b[0m     s \u001b[38;5;241m=\u001b[39m (x\u001b[38;5;241m.\u001b[39mconj() \u001b[38;5;241m*\u001b[39m x)\u001b[38;5;241m.\u001b[39mreal\n\u001b[1;32m-> 2542\u001b[0m     \u001b[38;5;28;01mreturn\u001b[39;00m sqrt(\u001b[43madd\u001b[49m\u001b[38;5;241;43m.\u001b[39;49m\u001b[43mreduce\u001b[49m\u001b[43m(\u001b[49m\u001b[43ms\u001b[49m\u001b[43m,\u001b[49m\u001b[43m \u001b[49m\u001b[43maxis\u001b[49m\u001b[38;5;241;43m=\u001b[39;49m\u001b[43maxis\u001b[49m\u001b[43m,\u001b[49m\u001b[43m \u001b[49m\u001b[43mkeepdims\u001b[49m\u001b[38;5;241;43m=\u001b[39;49m\u001b[43mkeepdims\u001b[49m\u001b[43m)\u001b[49m)\n\u001b[0;32m   2543\u001b[0m \u001b[38;5;66;03m# None of the str-type keywords for ord ('fro', 'nuc')\u001b[39;00m\n\u001b[0;32m   2544\u001b[0m \u001b[38;5;66;03m# are valid for vectors\u001b[39;00m\n\u001b[0;32m   2545\u001b[0m \u001b[38;5;28;01melif\u001b[39;00m \u001b[38;5;28misinstance\u001b[39m(\u001b[38;5;28mord\u001b[39m, \u001b[38;5;28mstr\u001b[39m):\n",
      "\u001b[1;31mKeyboardInterrupt\u001b[0m: "
     ]
    }
   ],
   "source": [
    "res = pd.DataFrame(columns=[\"id\",\"tfidf\", \"resnet\", \"ivec256\"])\n",
    "max_rows = 10\n",
    "for row in df.itertuples():\n",
    "    songInfo = SongInfo(title=row.song, artist=row.artist)\n",
    "    rs_tfidf = RetrievalSystem(\n",
    "        df=df,\n",
    "        sim_metric=cosine_similarity,\n",
    "        sim_feature=\"ivec256\",\n",
    "    )\n",
    "    rs_resnet = RetrievalSystem(\n",
    "        df=df,\n",
    "        sim_metric=cosine_similarity,\n",
    "        sim_feature=\"resnet\",\n",
    "    )\n",
    "    rs_ivec256 = RetrievalSystem(\n",
    "        df=df,\n",
    "        sim_metric=cosine_similarity,\n",
    "        sim_feature=\"ivec256\",\n",
    "    )\n",
    "    res.loc[len(res)] = [row.id, ';'.join(rs_tfidf.retrieve(songInfo, 10)['id']), ';'.join(rs_resnet.retrieve(songInfo, 10)['id']), ';'.join(rs_ivec256.retrieve(songInfo, 10)['id'])]\n",
    "    \n",
    "res.to_csv(\"cached_results.csv\", index=False)\n",
    "    \n",
    "  "
   ]
  }
 ],
 "metadata": {
  "kernelspec": {
   "display_name": "Python 3",
   "language": "python",
   "name": "python3"
  },
  "language_info": {
   "codemirror_mode": {
    "name": "ipython",
    "version": 3
   },
   "file_extension": ".py",
   "mimetype": "text/x-python",
   "name": "python",
   "nbconvert_exporter": "python",
   "pygments_lexer": "ipython3",
   "version": "3.8.8"
  }
 },
 "nbformat": 4,
 "nbformat_minor": 2
}
