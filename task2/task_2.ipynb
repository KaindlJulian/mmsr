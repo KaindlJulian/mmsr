{
 "cells": [
  {
   "cell_type": "markdown",
   "metadata": {
    "collapsed": false,
    "pycharm": {
     "name": "#%% md\n"
    }
   },
   "source": [
    "# Read and Explore Data"
   ]
  },
  {
   "cell_type": "code",
   "execution_count": 1,
   "metadata": {
    "ExecuteTime": {
     "end_time": "2023-11-25T06:34:06.353622200Z",
     "start_time": "2023-11-25T06:34:04.937051300Z"
    }
   },
   "outputs": [],
   "source": [
    "import sys\n",
    "sys.path.append(\"../\")\n",
    "\n",
    "import numpy as np\n",
    "import pandas as pd\n",
    "from typing import Union, Tuple\n",
    "from tqdm.notebook import tqdm\n",
    "import matplotlib.pyplot as plt"
   ]
  },
  {
   "cell_type": "code",
   "execution_count": 2,
   "metadata": {
    "collapsed": false,
    "pycharm": {
     "name": "#%%\n"
    },
    "ExecuteTime": {
     "end_time": "2023-11-25T06:34:06.388354300Z",
     "start_time": "2023-11-25T06:34:06.354623500Z"
    }
   },
   "outputs": [],
   "source": [
    "from task1.retrieval_system import RetrievalSystem, SongInfo\n",
    "from task1.similarity_measure import (\n",
    "    cosine_similarity,\n",
    "    dot_product,\n",
    "    manhattan_distance,\n",
    "    euclidean_distance,\n",
    "    random_similarity,\n",
    ")\n",
    "from utils import read, embed_and_merge"
   ]
  },
  {
   "cell_type": "code",
   "execution_count": 3,
   "metadata": {
    "collapsed": false,
    "pycharm": {
     "name": "#%%\n"
    },
    "ExecuteTime": {
     "end_time": "2023-11-25T06:34:06.444779200Z",
     "start_time": "2023-11-25T06:34:06.383294300Z"
    }
   },
   "outputs": [
    {
     "data": {
      "text/plain": "                     id                       artist  \\\n0      01Yfj2T3YTwJ1Yfy                  We As Human   \n1      01gyRHLquwXDlhkO         The Notorious B.I.G.   \n2      01rMxQv6vhyE1oQX          Against the Current   \n3      02RGE9FNH65RtMS7                     Barthezz   \n4      02ZnlCGZEbkfCDxo                Laura Pausini   \n...                 ...                          ...   \n10090  zyzILCQvVeUFIINi                Crowded House   \n10091  zzgS4ZqyswamEWNj               Britney Spears   \n10092  zzoFYDMlqU1X2zz1                   Thundercat   \n10093  zzpkRCGA5ud8q4mv                 Otis Redding   \n10094  zzx8CWdM7qkxKQpC  Ted Leo and the Pharmacists   \n\n                                            song  \\\n0      Take The Bullets Away (feat. Lacey Sturm)   \n1                           Somebody's Gotta Die   \n2                                 Chasing Ghosts   \n3                                       Infected   \n4                               Tra Te E Il Mare   \n...                                          ...   \n10090                              When You Come   \n10091                   My Only Wish (This Year)   \n10092                                        DUI   \n10093                               Rock Me Baby   \n10094                    Counting Down the Hours   \n\n                                        album_name  \n0                                      We As Human  \n1            Life After Death (Remastered Edition)  \n2                                     In Our Bones  \n3             Trance - The Early Years (1997-2002)  \n4      The Best of Laura Pausini - E Ritorno Da Te  \n...                                            ...  \n10090                            Temple Of Low Men  \n10091                           Platinum Christmas  \n10092                                        Drunk  \n10093                                    Otis Blue  \n10094                             Shake the Sheets  \n\n[10095 rows x 4 columns]",
      "text/html": "<div>\n<style scoped>\n    .dataframe tbody tr th:only-of-type {\n        vertical-align: middle;\n    }\n\n    .dataframe tbody tr th {\n        vertical-align: top;\n    }\n\n    .dataframe thead th {\n        text-align: right;\n    }\n</style>\n<table border=\"1\" class=\"dataframe\">\n  <thead>\n    <tr style=\"text-align: right;\">\n      <th></th>\n      <th>id</th>\n      <th>artist</th>\n      <th>song</th>\n      <th>album_name</th>\n    </tr>\n  </thead>\n  <tbody>\n    <tr>\n      <th>0</th>\n      <td>01Yfj2T3YTwJ1Yfy</td>\n      <td>We As Human</td>\n      <td>Take The Bullets Away (feat. Lacey Sturm)</td>\n      <td>We As Human</td>\n    </tr>\n    <tr>\n      <th>1</th>\n      <td>01gyRHLquwXDlhkO</td>\n      <td>The Notorious B.I.G.</td>\n      <td>Somebody's Gotta Die</td>\n      <td>Life After Death (Remastered Edition)</td>\n    </tr>\n    <tr>\n      <th>2</th>\n      <td>01rMxQv6vhyE1oQX</td>\n      <td>Against the Current</td>\n      <td>Chasing Ghosts</td>\n      <td>In Our Bones</td>\n    </tr>\n    <tr>\n      <th>3</th>\n      <td>02RGE9FNH65RtMS7</td>\n      <td>Barthezz</td>\n      <td>Infected</td>\n      <td>Trance - The Early Years (1997-2002)</td>\n    </tr>\n    <tr>\n      <th>4</th>\n      <td>02ZnlCGZEbkfCDxo</td>\n      <td>Laura Pausini</td>\n      <td>Tra Te E Il Mare</td>\n      <td>The Best of Laura Pausini - E Ritorno Da Te</td>\n    </tr>\n    <tr>\n      <th>...</th>\n      <td>...</td>\n      <td>...</td>\n      <td>...</td>\n      <td>...</td>\n    </tr>\n    <tr>\n      <th>10090</th>\n      <td>zyzILCQvVeUFIINi</td>\n      <td>Crowded House</td>\n      <td>When You Come</td>\n      <td>Temple Of Low Men</td>\n    </tr>\n    <tr>\n      <th>10091</th>\n      <td>zzgS4ZqyswamEWNj</td>\n      <td>Britney Spears</td>\n      <td>My Only Wish (This Year)</td>\n      <td>Platinum Christmas</td>\n    </tr>\n    <tr>\n      <th>10092</th>\n      <td>zzoFYDMlqU1X2zz1</td>\n      <td>Thundercat</td>\n      <td>DUI</td>\n      <td>Drunk</td>\n    </tr>\n    <tr>\n      <th>10093</th>\n      <td>zzpkRCGA5ud8q4mv</td>\n      <td>Otis Redding</td>\n      <td>Rock Me Baby</td>\n      <td>Otis Blue</td>\n    </tr>\n    <tr>\n      <th>10094</th>\n      <td>zzx8CWdM7qkxKQpC</td>\n      <td>Ted Leo and the Pharmacists</td>\n      <td>Counting Down the Hours</td>\n      <td>Shake the Sheets</td>\n    </tr>\n  </tbody>\n</table>\n<p>10095 rows × 4 columns</p>\n</div>"
     },
     "execution_count": 3,
     "metadata": {},
     "output_type": "execute_result"
    }
   ],
   "source": [
    "# basic song information from task 1\n",
    "df = read(\"information\", 0)\n",
    "df"
   ]
  },
  {
   "cell_type": "code",
   "execution_count": 4,
   "metadata": {
    "ExecuteTime": {
     "end_time": "2023-11-25T06:34:06.644835500Z",
     "start_time": "2023-11-25T06:34:06.432271100Z"
    }
   },
   "outputs": [],
   "source": [
    "# add genre information for metric calculation\n",
    "genres = read(\"genres\", 0)\n",
    "# convert genre to actual list via eval\n",
    "genres[\"genre\"] = genres[\"genre\"].apply(eval).apply(set)\n",
    "df = df.merge(genres, on=\"id\", how=\"left\")"
   ]
  },
  {
   "cell_type": "markdown",
   "metadata": {},
   "source": [
    "We load the following features:\n",
    "- MFCCs in BoW form,\n",
    "- Spectral BLFs,\n",
    "- 256-dimensional i-vectors,\n",
    "- 1024-dimensional i-vectors,\n",
    "- DNN-based features (musicnn)."
   ]
  },
  {
   "cell_type": "code",
   "execution_count": 5,
   "metadata": {
    "ExecuteTime": {
     "end_time": "2023-11-25T06:34:10.627820600Z",
     "start_time": "2023-11-25T06:34:06.633326300Z"
    }
   },
   "outputs": [],
   "source": [
    "for feature in [\"mfcc_bow\", \"blf_spectral\", \"ivec256\", \"ivec1024\", \"musicnn\"]:\n",
    "    stats = read(feature, 0)\n",
    "    df = embed_and_merge(df, stats, feature)"
   ]
  },
  {
   "cell_type": "markdown",
   "metadata": {},
   "source": [
    "... and also those from the previous assignment:"
   ]
  },
  {
   "cell_type": "code",
   "execution_count": 6,
   "metadata": {
    "collapsed": false,
    "pycharm": {
     "name": "#%%\n"
    },
    "ExecuteTime": {
     "end_time": "2023-11-25T06:34:12.999135800Z",
     "start_time": "2023-11-25T06:34:10.627820600Z"
    }
   },
   "outputs": [],
   "source": [
    "for text_feature in [\"lyrics_bert\", \"lyrics_word2vec\", \"lyrics_tf-idf\"]:\n",
    "    stats = read(text_feature, 0)\n",
    "    df = embed_and_merge(df, stats, text_feature.split(\"_\")[1])"
   ]
  },
  {
   "cell_type": "code",
   "execution_count": 7,
   "metadata": {
    "ExecuteTime": {
     "end_time": "2023-11-25T06:34:13.001138200Z",
     "start_time": "2023-11-25T06:34:12.969836600Z"
    }
   },
   "outputs": [
    {
     "data": {
      "text/plain": "id              0\nartist          0\nsong            0\nalbum_name      0\ngenre           1\nmfcc_bow        1\nblf_spectral    1\nivec256         1\nivec1024        1\nmusicnn         1\nbert            0\nword2vec        0\ntf-idf          0\ndtype: int64"
     },
     "execution_count": 7,
     "metadata": {},
     "output_type": "execute_result"
    }
   ],
   "source": [
    "df.isna().sum()"
   ]
  },
  {
   "cell_type": "code",
   "execution_count": 8,
   "metadata": {
    "ExecuteTime": {
     "end_time": "2023-11-25T06:34:13.039766600Z",
     "start_time": "2023-11-25T06:34:12.999135800Z"
    }
   },
   "outputs": [
    {
     "data": {
      "text/plain": "                 id   artist                     song  \\\n5  03Oc9WeMEmyLLQbj  Shakira  Costume Makes the Clown   \n\n                                 album_name genre mfcc_bow blf_spectral  \\\n5  Oral Fixation, Vol. 2 (Expanded Edition)   NaN      NaN          NaN   \n\n  ivec256 ivec1024 musicnn                                               bert  \\\n5     NaN      NaN     NaN  [0.042631160467863, 0.0509439371526241, -0.026...   \n\n                                            word2vec  \\\n5  [0.0173026816431956, 0.0238044851088488, 0.013...   \n\n                                              tf-idf  \n5  [0.0, 0.0, 0.0, 0.0, 0.0, 0.0, 0.0, 0.0, 0.0, ...  ",
      "text/html": "<div>\n<style scoped>\n    .dataframe tbody tr th:only-of-type {\n        vertical-align: middle;\n    }\n\n    .dataframe tbody tr th {\n        vertical-align: top;\n    }\n\n    .dataframe thead th {\n        text-align: right;\n    }\n</style>\n<table border=\"1\" class=\"dataframe\">\n  <thead>\n    <tr style=\"text-align: right;\">\n      <th></th>\n      <th>id</th>\n      <th>artist</th>\n      <th>song</th>\n      <th>album_name</th>\n      <th>genre</th>\n      <th>mfcc_bow</th>\n      <th>blf_spectral</th>\n      <th>ivec256</th>\n      <th>ivec1024</th>\n      <th>musicnn</th>\n      <th>bert</th>\n      <th>word2vec</th>\n      <th>tf-idf</th>\n    </tr>\n  </thead>\n  <tbody>\n    <tr>\n      <th>5</th>\n      <td>03Oc9WeMEmyLLQbj</td>\n      <td>Shakira</td>\n      <td>Costume Makes the Clown</td>\n      <td>Oral Fixation, Vol. 2 (Expanded Edition)</td>\n      <td>NaN</td>\n      <td>NaN</td>\n      <td>NaN</td>\n      <td>NaN</td>\n      <td>NaN</td>\n      <td>NaN</td>\n      <td>[0.042631160467863, 0.0509439371526241, -0.026...</td>\n      <td>[0.0173026816431956, 0.0238044851088488, 0.013...</td>\n      <td>[0.0, 0.0, 0.0, 0.0, 0.0, 0.0, 0.0, 0.0, 0.0, ...</td>\n    </tr>\n  </tbody>\n</table>\n</div>"
     },
     "execution_count": 8,
     "metadata": {},
     "output_type": "execute_result"
    }
   ],
   "source": [
    "df[df.isna().any(axis=1)]"
   ]
  },
  {
   "cell_type": "code",
   "execution_count": 9,
   "metadata": {
    "ExecuteTime": {
     "end_time": "2023-11-25T06:34:13.075443200Z",
     "start_time": "2023-11-25T06:34:13.023164100Z"
    }
   },
   "outputs": [
    {
     "data": {
      "text/plain": "(500,)"
     },
     "execution_count": 9,
     "metadata": {},
     "output_type": "execute_result"
    }
   ],
   "source": [
    "df[\"mfcc_bow\"].values[1].shape"
   ]
  },
  {
   "cell_type": "code",
   "execution_count": 10,
   "metadata": {
    "collapsed": false,
    "pycharm": {
     "name": "#%%\n"
    },
    "ExecuteTime": {
     "end_time": "2023-11-25T06:34:13.099395900Z",
     "start_time": "2023-11-25T06:34:13.037765400Z"
    }
   },
   "outputs": [],
   "source": [
    "# data for task 2 does not include the item with id \"03Oc9WeMEmyLLQbj\" = row 5\n",
    "df = df.drop(5)\n",
    "df = df.reset_index()"
   ]
  },
  {
   "cell_type": "markdown",
   "metadata": {},
   "source": [
    "# Define retrieval systems"
   ]
  },
  {
   "cell_type": "markdown",
   "metadata": {},
   "source": [
    "## From Task 1 (text-based)"
   ]
  },
  {
   "cell_type": "code",
   "execution_count": 11,
   "metadata": {
    "ExecuteTime": {
     "end_time": "2023-11-25T06:34:13.162248700Z",
     "start_time": "2023-11-25T06:34:13.053414200Z"
    }
   },
   "outputs": [],
   "source": [
    "rs_random = RetrievalSystem(\n",
    "    df=df,\n",
    "    sim_metric=random_similarity,\n",
    ")"
   ]
  },
  {
   "cell_type": "code",
   "execution_count": 12,
   "metadata": {
    "ExecuteTime": {
     "end_time": "2023-11-25T06:34:13.176847900Z",
     "start_time": "2023-11-25T06:34:13.084956700Z"
    }
   },
   "outputs": [],
   "source": [
    "rs_cos_tdidf = RetrievalSystem(\n",
    "    df=df,\n",
    "    sim_metric=cosine_similarity,\n",
    "    sim_feature=\"tf-idf\",\n",
    ")"
   ]
  },
  {
   "cell_type": "code",
   "execution_count": 13,
   "metadata": {
    "ExecuteTime": {
     "end_time": "2023-11-25T06:34:13.176847900Z",
     "start_time": "2023-11-25T06:34:13.116950200Z"
    }
   },
   "outputs": [],
   "source": [
    "rs_cos_bert = RetrievalSystem(\n",
    "    df=df,\n",
    "    sim_metric=cosine_similarity,\n",
    "    sim_feature=\"bert\",\n",
    ")"
   ]
  },
  {
   "cell_type": "code",
   "execution_count": 14,
   "metadata": {
    "ExecuteTime": {
     "end_time": "2023-11-25T06:34:13.176847900Z",
     "start_time": "2023-11-25T06:34:13.146851300Z"
    }
   },
   "outputs": [],
   "source": [
    "rs_dot_w2v = RetrievalSystem(\n",
    "    df=df,\n",
    "    sim_metric=dot_product,\n",
    "    sim_feature=\"word2vec\",\n",
    ")"
   ]
  },
  {
   "cell_type": "markdown",
   "metadata": {},
   "source": [
    "## From Task 2 (audio-based; new!)"
   ]
  },
  {
   "cell_type": "code",
   "execution_count": 15,
   "metadata": {
    "ExecuteTime": {
     "end_time": "2023-11-25T06:34:13.182130100Z",
     "start_time": "2023-11-25T06:34:13.162248700Z"
    }
   },
   "outputs": [],
   "source": [
    "rs_cos_mfcc = RetrievalSystem(\n",
    "    df=df,\n",
    "    sim_metric=cosine_similarity,\n",
    "    sim_feature=\"mfcc_bow\",\n",
    ")"
   ]
  },
  {
   "cell_type": "code",
   "execution_count": 16,
   "metadata": {
    "ExecuteTime": {
     "end_time": "2023-11-25T06:34:13.221830200Z",
     "start_time": "2023-11-25T06:34:13.182130100Z"
    }
   },
   "outputs": [],
   "source": [
    "rs_cos_blf = RetrievalSystem(\n",
    "    df=df,\n",
    "    sim_metric=cosine_similarity,\n",
    "    sim_feature=\"blf_spectral\",\n",
    ")"
   ]
  },
  {
   "cell_type": "code",
   "execution_count": 17,
   "metadata": {
    "ExecuteTime": {
     "end_time": "2023-11-25T06:34:13.229865Z",
     "start_time": "2023-11-25T06:34:13.216800900Z"
    }
   },
   "outputs": [],
   "source": [
    "rs_cos_ivec256 = RetrievalSystem(\n",
    "    df=df,\n",
    "    sim_metric=cosine_similarity,\n",
    "    sim_feature=\"ivec256\",\n",
    ")"
   ]
  },
  {
   "cell_type": "code",
   "execution_count": 18,
   "metadata": {
    "ExecuteTime": {
     "end_time": "2023-11-25T06:34:13.252465900Z",
     "start_time": "2023-11-25T06:34:13.236874100Z"
    }
   },
   "outputs": [],
   "source": [
    "rs_cos_dnn = RetrievalSystem(\n",
    "    df=df,\n",
    "    sim_metric=cosine_similarity,\n",
    "    sim_feature=\"musicnn\",\n",
    ")"
   ]
  },
  {
   "cell_type": "code",
   "execution_count": 19,
   "metadata": {
    "ExecuteTime": {
     "end_time": "2023-11-25T06:34:13.261363400Z",
     "start_time": "2023-11-25T06:34:13.247054600Z"
    }
   },
   "outputs": [],
   "source": [
    "# create pd dataframe consisting of all retrieval systems, with metric and feature\n",
    "rs = pd.DataFrame(\n",
    "    [\n",
    "        [\"random\", \"random\", rs_random],\n",
    "        [\"cosine\", \"tf-idf\", rs_cos_tdidf],\n",
    "        [\"cosine\", \"bert\", rs_cos_bert],\n",
    "        [\"dot\", \"word2vec\", rs_dot_w2v],\n",
    "        [\"cosine\", \"mfcc_bow\", rs_cos_mfcc],\n",
    "        [\"cosine\", \"blf_spectral\", rs_cos_blf],\n",
    "        [\"cosine\", \"ivec256\", rs_cos_ivec256],\n",
    "        [\"cosine\", \"musicnn\", rs_cos_dnn],\n",
    "    ],\n",
    "    columns=[\"metric\", \"feature\", \"rs_object\"],\n",
    ")"
   ]
  },
  {
   "cell_type": "code",
   "execution_count": 20,
   "metadata": {
    "ExecuteTime": {
     "end_time": "2023-11-25T06:34:13.293131600Z",
     "start_time": "2023-11-25T06:34:13.261363400Z"
    }
   },
   "outputs": [
    {
     "data": {
      "text/plain": "   metric       feature                                          rs_object\n0  random        random  <task1.retrieval_system.RetrievalSystem object...\n1  cosine        tf-idf  <task1.retrieval_system.RetrievalSystem object...\n2  cosine          bert  <task1.retrieval_system.RetrievalSystem object...\n3     dot      word2vec  <task1.retrieval_system.RetrievalSystem object...\n4  cosine      mfcc_bow  <task1.retrieval_system.RetrievalSystem object...\n5  cosine  blf_spectral  <task1.retrieval_system.RetrievalSystem object...\n6  cosine       ivec256  <task1.retrieval_system.RetrievalSystem object...\n7  cosine       musicnn  <task1.retrieval_system.RetrievalSystem object...",
      "text/html": "<div>\n<style scoped>\n    .dataframe tbody tr th:only-of-type {\n        vertical-align: middle;\n    }\n\n    .dataframe tbody tr th {\n        vertical-align: top;\n    }\n\n    .dataframe thead th {\n        text-align: right;\n    }\n</style>\n<table border=\"1\" class=\"dataframe\">\n  <thead>\n    <tr style=\"text-align: right;\">\n      <th></th>\n      <th>metric</th>\n      <th>feature</th>\n      <th>rs_object</th>\n    </tr>\n  </thead>\n  <tbody>\n    <tr>\n      <th>0</th>\n      <td>random</td>\n      <td>random</td>\n      <td>&lt;task1.retrieval_system.RetrievalSystem object...</td>\n    </tr>\n    <tr>\n      <th>1</th>\n      <td>cosine</td>\n      <td>tf-idf</td>\n      <td>&lt;task1.retrieval_system.RetrievalSystem object...</td>\n    </tr>\n    <tr>\n      <th>2</th>\n      <td>cosine</td>\n      <td>bert</td>\n      <td>&lt;task1.retrieval_system.RetrievalSystem object...</td>\n    </tr>\n    <tr>\n      <th>3</th>\n      <td>dot</td>\n      <td>word2vec</td>\n      <td>&lt;task1.retrieval_system.RetrievalSystem object...</td>\n    </tr>\n    <tr>\n      <th>4</th>\n      <td>cosine</td>\n      <td>mfcc_bow</td>\n      <td>&lt;task1.retrieval_system.RetrievalSystem object...</td>\n    </tr>\n    <tr>\n      <th>5</th>\n      <td>cosine</td>\n      <td>blf_spectral</td>\n      <td>&lt;task1.retrieval_system.RetrievalSystem object...</td>\n    </tr>\n    <tr>\n      <th>6</th>\n      <td>cosine</td>\n      <td>ivec256</td>\n      <td>&lt;task1.retrieval_system.RetrievalSystem object...</td>\n    </tr>\n    <tr>\n      <th>7</th>\n      <td>cosine</td>\n      <td>musicnn</td>\n      <td>&lt;task1.retrieval_system.RetrievalSystem object...</td>\n    </tr>\n  </tbody>\n</table>\n</div>"
     },
     "execution_count": 20,
     "metadata": {},
     "output_type": "execute_result"
    }
   ],
   "source": [
    "rs"
   ]
  },
  {
   "cell_type": "markdown",
   "metadata": {},
   "source": [
    "# Evaluation Criteria"
   ]
  },
  {
   "cell_type": "markdown",
   "metadata": {},
   "source": [
    "For the sake of completeness, we also show how we can calculate precision and recall independently for a given single query."
   ]
  },
  {
   "cell_type": "markdown",
   "metadata": {},
   "source": [
    "## Precision@k & Recall@k"
   ]
  },
  {
   "cell_type": "code",
   "execution_count": 21,
   "metadata": {
    "ExecuteTime": {
     "end_time": "2023-11-25T06:34:13.324738800Z",
     "start_time": "2023-11-25T06:34:13.277136600Z"
    }
   },
   "outputs": [],
   "source": [
    "def precision_at_k_single(\n",
    "    query: pd.Series, retrieved_tracks: pd.DataFrame, k: int\n",
    ") -> float:\n",
    "    \"\"\"Precision at k for a single query song.\n",
    "\n",
    "    Args:\n",
    "        query (pd.Series): Query song.\n",
    "        retrieved_tracks (pd.DataFrame): Retrieved tracks. \n",
    "        k (int): Number of retrieved tracks to consider.\n",
    "\n",
    "    Raises:\n",
    "        ValueError: k must be smaller than the number of retrieved tracks.\n",
    "\n",
    "    Returns:\n",
    "        float: Precision at k.\n",
    "    \n",
    "    \"\"\"\n",
    "    # Filter the retrieved tracks to top k\n",
    "    retrieved_tracks = retrieved_tracks.head(k)\n",
    "\n",
    "    if k > len(retrieved_tracks):\n",
    "        raise ValueError(\n",
    "            f\"k must be smaller than the number of retrieved tracks ({len(retrieved_tracks)})\"\n",
    "        )\n",
    "\n",
    "    relevant_items_retrieved = sum(\n",
    "        1\n",
    "        for _, track in retrieved_tracks.head(k).iterrows()\n",
    "        if query[\"genre\"] & track[\"genre\"]\n",
    "    )\n",
    "    return relevant_items_retrieved / k"
   ]
  },
  {
   "cell_type": "code",
   "execution_count": 22,
   "metadata": {
    "ExecuteTime": {
     "end_time": "2023-11-25T06:34:13.346991600Z",
     "start_time": "2023-11-25T06:34:13.296636900Z"
    }
   },
   "outputs": [],
   "source": [
    "def recall_at_k_single(\n",
    "    query: pd.Series, retrieved_tracks: pd.DataFrame, k: int\n",
    ") -> float:\n",
    "    \"\"\"Recall at k for a single query song.\n",
    "    Note that we normalize by the *total* number of relevant items in the dataset.\n",
    "    Args:\n",
    "        query (pd.Series): Query song.\n",
    "        retrieved_tracks (pd.DataFrame): Retrieved tracks. \n",
    "        k (int): Number of retrieved tracks to consider.\n",
    "    Raises:\n",
    "        ValueError: k must be smaller than the number of retrieved tracks.\n",
    "        \n",
    "    Returns:\n",
    "        float: Recall at k.\n",
    "    \"\"\"\n",
    "    # Filter the retrieved tracks to top k\n",
    "    retrieved_tracks = retrieved_tracks.head(k)\n",
    "\n",
    "    if k > len(retrieved_tracks):\n",
    "        raise ValueError(\n",
    "            f\"k must be smaller than the number of retrieved tracks ({len(retrieved_tracks)})\"\n",
    "        )\n",
    "\n",
    "    relevant_items_retrieved = sum(\n",
    "        1\n",
    "        for _, track in retrieved_tracks.head(k).iterrows()\n",
    "        if query[\"genre\"] & track[\"genre\"]\n",
    "    )\n",
    "\n",
    "    relevant_items = sum(\n",
    "        1 for _, track in df.iterrows() if set(query[\"genre\"]) & set(track[\"genre\"])\n",
    "    )\n",
    "    return relevant_items_retrieved / relevant_items"
   ]
  },
  {
   "cell_type": "code",
   "execution_count": 23,
   "metadata": {
    "ExecuteTime": {
     "end_time": "2023-11-25T06:34:13.397054500Z",
     "start_time": "2023-11-25T06:34:13.308860500Z"
    }
   },
   "outputs": [],
   "source": [
    "sample_song = SongInfo(title=\"Zombie\", artist=\"The Cranberries\")\n",
    "# query most be a pd.Series --> convert here\n",
    "sample_query = df[\n",
    "    (df[\"song\"] == sample_song.title) & (df[\"artist\"] == sample_song.artist)\n",
    "].iloc[0]"
   ]
  },
  {
   "cell_type": "code",
   "execution_count": 24,
   "metadata": {
    "ExecuteTime": {
     "end_time": "2023-11-25T06:34:13.397054500Z",
     "start_time": "2023-11-25T06:34:13.326744600Z"
    }
   },
   "outputs": [
    {
     "data": {
      "text/plain": "{'alternative rock',\n 'celtic',\n 'celtic rock',\n 'classic rock',\n 'grunge',\n 'hard rock',\n 'indie rock',\n 'irish rock',\n 'metal',\n 'pop',\n 'pop rock',\n 'post grunge',\n 'rock',\n 'soft rock'}"
     },
     "execution_count": 24,
     "metadata": {},
     "output_type": "execute_result"
    }
   ],
   "source": [
    "sample_query.genre"
   ]
  },
  {
   "cell_type": "code",
   "execution_count": 25,
   "metadata": {
    "ExecuteTime": {
     "end_time": "2023-11-25T06:34:13.397054500Z",
     "start_time": "2023-11-25T06:34:13.340485700Z"
    }
   },
   "outputs": [],
   "source": [
    "results = rs_cos_dnn.retrieve(sample_song, 10)"
   ]
  },
  {
   "cell_type": "code",
   "execution_count": 26,
   "metadata": {
    "ExecuteTime": {
     "end_time": "2023-11-25T06:34:13.419387900Z",
     "start_time": "2023-11-25T06:34:13.356946Z"
    }
   },
   "outputs": [
    {
     "data": {
      "text/plain": "   index                id           artist  \\\n0    790  4glaLmaXFAdOw5b2    Kristen Barry   \n1   4469  RQJ8biiC0Ed7MKyY          Shakira   \n2   9954  z14vWV00cAGeBT9P              Céu   \n3    386  29oADILKxhOHvgvQ       Lucy Dacus   \n4   7650  lBbxNiUrl7pF1H4c      Kadebostany   \n5   1584  9SUQfSsDIBOh3QSV    Priscilla Ahn   \n6   9669  xEbmBtcR1wQcnk3y  Julieta Venegas   \n7   1147  6vbf44Iw7PzRxUWH     Taylor Swift   \n8   9008  tJHK6mqbsr1ebi7Z     Shania Twain   \n9   6590  ekH6L9IN4ziWuKuG   Britney Spears   \n\n                                  song                        album_name  \\\n0                        Ordinary Life                  Cruel Intentions   \n1                          Sale el Sol                       Sale el Sol   \n2                                Lenda                               CéU   \n3            Troublemaker Doppelgänger                         No Burden   \n4                   Castle in the Snow                    Pop Collection   \n5                     Masters In China                        A Good Day   \n6                               Oleada                                Si   \n7                         The Best Day                          Fearless   \n8  Dance With The One That Brought You                      Shania Twain   \n9                     When I Found You  Britney (Digital Deluxe Version)   \n\n                                               genre  \\\n0  {chill out, indie rock, singer songwriter, sof...   \n1  {latin pop, latin rock, rock en espanol, rock,...   \n2  {jazz, downtempo, vocal jazz, world, rap, indi...   \n3                           {indie rock, indie folk}   \n4                                        {pop, rock}   \n5                    {folk, soul, singer songwriter}   \n6  {latin pop, mexican pop, rock en espanol, rock...   \n7  {pop rock, world, singer songwriter, disney, c...   \n8                                          {country}   \n9  {teen pop, singer songwriter, bubblegum pop, p...   \n\n                                            mfcc_bow  \\\n0  [0.7781513000000001, 0.0, 2.3242824, 0.0, 1.17...   \n1  [1.7160033, 0.0, 2.667453, 0.0, 1.1139433, 0.0...   \n2  [1.3222193000000002, 0.0, 2.146128, 0.0, 2.096...   \n3  [1.7923917, 0.0, 2.0293837, 0.0, 2.6374898, 0....   \n4  [0.7781513000000001, 0.0, 1.462398, 0.0, 1.301...   \n5  [1.50515, 0.0, 1.462398, 0.0, 2.30103, 0.0, 1....   \n6  [2.3873900000000003, 0.0, 2.469822, 0.0, 2.176...   \n7  [2.1760912, 0.0, 2.409933, 0.0, 2.348304700000...   \n8  [1.8512584, 0.0, 2.445604, 0.0, 2.0, 0.0, 2.16...   \n9  [2.1172712, 0.0, 1.7993406000000003, 0.0, 2.37...   \n\n                                        blf_spectral  \\\n0  [-0.0281731, -0.019438, -0.017372, -0.0138386,...   \n1  [-0.0238793, -0.0183009, -0.0153329, -0.013102...   \n2  [-0.0258737, -0.0207687, -0.0182119, -0.015643...   \n3  [-0.0402956, -0.034032, -0.031251, -0.029338, ...   \n4  [-0.0240562, -0.0197435, -0.0169551, -0.013990...   \n5  [-0.0191349, -0.0124968, -0.0088663, -0.006168...   \n6  [-0.0160536, -0.0104534, -0.00665913, -0.00423...   \n7  [-0.0254457, -0.0206701, -0.0167254, -0.014913...   \n8  [-0.0262743, -0.0209276, -0.0173385, -0.015849...   \n9  [-0.0288562, -0.0247434, -0.0220739, -0.018726...   \n\n                                             ivec256  \\\n0  [0.9454425573349, 1.2708547115325928, 0.325989...   \n1  [1.8669582605361936, 1.892633914947509, -1.045...   \n2  [1.7744811773300169, 1.3900917768478394, -0.28...   \n3  [0.5575369000434875, 1.3157860040664673, 0.573...   \n4  [1.3591880798339844, 0.6209864020347595, 0.309...   \n5  [2.129467725753784, 1.0896250009536743, 0.6828...   \n6  [1.5788124799728394, 1.6625230312347412, 0.228...   \n7  [-0.5983439087867737, 1.6506197452545166, -0.1...   \n8  [1.2930843830108645, 1.5080833435058594, -1.48...   \n9  [2.7151670455932617, 1.8055323362350464, 0.157...   \n\n                                            ivec1024  \\\n0  [-0.0687375515699386, -1.0911340713500977, -0....   \n1  [1.905163645744324, -1.7262425422668457, 0.853...   \n2  [0.2054368406534195, -1.1734609603881836, 0.06...   \n3  [0.6444730758666992, -1.242782711982727, -0.70...   \n4  [1.3591336011886597, -0.4918332695960999, -0.4...   \n5  [2.1317338943481445, -0.8425770401954651, -0.9...   \n6  [1.014309287071228, -1.466999053955078, -0.471...   \n7  [-0.1132917702198028, -1.7878351211547852, 0.0...   \n8  [0.7675840258598328, -1.2949352264404297, 1.34...   \n9  [0.8662742376327515, -1.2880791425704956, -0.5...   \n\n                                             musicnn  \\\n0  [0.4182759, 0.007046508, 0.18775995, 0.0074302...   \n1  [0.36982688, 0.009932475, 0.18211164, 0.019003...   \n2  [0.2876089, 0.00694283, 0.09736701, 0.02208063...   \n3  [0.32060316, 0.0129062785, 0.13242425, 0.02154...   \n4  [0.27542847, 0.0085207485, 0.17537211, 0.01616...   \n5  [0.42481366, 0.0026636927, 0.19867267, 0.00749...   \n6  [0.44143254, 0.0077322265, 0.21047759, 0.00914...   \n7  [0.4190213, 0.006415901, 0.16974963, 0.0041287...   \n8  [0.28720874, 0.024735227, 0.124359, 0.00537671...   \n9  [0.32458788, 0.006880934, 0.12804456, 0.010993...   \n\n                                                bert  \\\n0  [-0.0004561332461889, 0.0145782874897122, -0.0...   \n1  [0.0123901953920722, 0.0618347860872745, 0.001...   \n2  [0.0605621598660945, 0.0248984489589929, -0.02...   \n3  [0.0196989458054304, 0.0582268238067626, 0.001...   \n4  [-0.0136576881632208, 0.0381329879164695, 0.00...   \n5  [0.0182842426002025, 0.0133442115038633, -0.02...   \n6  [0.0002455622889101, 0.0310425776988267, -0.01...   \n7  [0.0102109359577298, 0.0159489773213863, -0.01...   \n8  [-0.0112191652879118, 0.0305185876786708, 0.00...   \n9  [0.0219442192465066, 0.0183226075023412, 0.003...   \n\n                                            word2vec  similarity  \n0  [0.0201837079373767, 0.0221617151968885, 0.016...    0.987132  \n1  [0.0206834120802038, 0.0080418127259084, 0.011...    0.985367  \n2  [0.0354904266487643, 0.009812428646477, 0.0021...    0.985336  \n3  [0.0193930917207513, 0.0224321799395334, 0.008...    0.984114  \n4  [0.0169709496347023, 0.0083717900892431, -0.02...    0.983854  \n5  [0.0165479896808019, 0.0139839527770303, 0.010...    0.983130  \n6  [0.0073746261101526, 0.0089111965646346, 0.022...    0.982718  \n7  [0.0060818882261895, 0.0110121118431694, 0.005...    0.982597  \n8  [0.0249538703621446, 0.0043118148694925, 0.027...    0.981084  \n9  [0.0072971217101439, -0.0070844741000865, 0.02...    0.979875  ",
      "text/html": "<div>\n<style scoped>\n    .dataframe tbody tr th:only-of-type {\n        vertical-align: middle;\n    }\n\n    .dataframe tbody tr th {\n        vertical-align: top;\n    }\n\n    .dataframe thead th {\n        text-align: right;\n    }\n</style>\n<table border=\"1\" class=\"dataframe\">\n  <thead>\n    <tr style=\"text-align: right;\">\n      <th></th>\n      <th>index</th>\n      <th>id</th>\n      <th>artist</th>\n      <th>song</th>\n      <th>album_name</th>\n      <th>genre</th>\n      <th>mfcc_bow</th>\n      <th>blf_spectral</th>\n      <th>ivec256</th>\n      <th>ivec1024</th>\n      <th>musicnn</th>\n      <th>bert</th>\n      <th>word2vec</th>\n      <th>similarity</th>\n    </tr>\n  </thead>\n  <tbody>\n    <tr>\n      <th>0</th>\n      <td>790</td>\n      <td>4glaLmaXFAdOw5b2</td>\n      <td>Kristen Barry</td>\n      <td>Ordinary Life</td>\n      <td>Cruel Intentions</td>\n      <td>{chill out, indie rock, singer songwriter, sof...</td>\n      <td>[0.7781513000000001, 0.0, 2.3242824, 0.0, 1.17...</td>\n      <td>[-0.0281731, -0.019438, -0.017372, -0.0138386,...</td>\n      <td>[0.9454425573349, 1.2708547115325928, 0.325989...</td>\n      <td>[-0.0687375515699386, -1.0911340713500977, -0....</td>\n      <td>[0.4182759, 0.007046508, 0.18775995, 0.0074302...</td>\n      <td>[-0.0004561332461889, 0.0145782874897122, -0.0...</td>\n      <td>[0.0201837079373767, 0.0221617151968885, 0.016...</td>\n      <td>0.987132</td>\n    </tr>\n    <tr>\n      <th>1</th>\n      <td>4469</td>\n      <td>RQJ8biiC0Ed7MKyY</td>\n      <td>Shakira</td>\n      <td>Sale el Sol</td>\n      <td>Sale el Sol</td>\n      <td>{latin pop, latin rock, rock en espanol, rock,...</td>\n      <td>[1.7160033, 0.0, 2.667453, 0.0, 1.1139433, 0.0...</td>\n      <td>[-0.0238793, -0.0183009, -0.0153329, -0.013102...</td>\n      <td>[1.8669582605361936, 1.892633914947509, -1.045...</td>\n      <td>[1.905163645744324, -1.7262425422668457, 0.853...</td>\n      <td>[0.36982688, 0.009932475, 0.18211164, 0.019003...</td>\n      <td>[0.0123901953920722, 0.0618347860872745, 0.001...</td>\n      <td>[0.0206834120802038, 0.0080418127259084, 0.011...</td>\n      <td>0.985367</td>\n    </tr>\n    <tr>\n      <th>2</th>\n      <td>9954</td>\n      <td>z14vWV00cAGeBT9P</td>\n      <td>Céu</td>\n      <td>Lenda</td>\n      <td>CéU</td>\n      <td>{jazz, downtempo, vocal jazz, world, rap, indi...</td>\n      <td>[1.3222193000000002, 0.0, 2.146128, 0.0, 2.096...</td>\n      <td>[-0.0258737, -0.0207687, -0.0182119, -0.015643...</td>\n      <td>[1.7744811773300169, 1.3900917768478394, -0.28...</td>\n      <td>[0.2054368406534195, -1.1734609603881836, 0.06...</td>\n      <td>[0.2876089, 0.00694283, 0.09736701, 0.02208063...</td>\n      <td>[0.0605621598660945, 0.0248984489589929, -0.02...</td>\n      <td>[0.0354904266487643, 0.009812428646477, 0.0021...</td>\n      <td>0.985336</td>\n    </tr>\n    <tr>\n      <th>3</th>\n      <td>386</td>\n      <td>29oADILKxhOHvgvQ</td>\n      <td>Lucy Dacus</td>\n      <td>Troublemaker Doppelgänger</td>\n      <td>No Burden</td>\n      <td>{indie rock, indie folk}</td>\n      <td>[1.7923917, 0.0, 2.0293837, 0.0, 2.6374898, 0....</td>\n      <td>[-0.0402956, -0.034032, -0.031251, -0.029338, ...</td>\n      <td>[0.5575369000434875, 1.3157860040664673, 0.573...</td>\n      <td>[0.6444730758666992, -1.242782711982727, -0.70...</td>\n      <td>[0.32060316, 0.0129062785, 0.13242425, 0.02154...</td>\n      <td>[0.0196989458054304, 0.0582268238067626, 0.001...</td>\n      <td>[0.0193930917207513, 0.0224321799395334, 0.008...</td>\n      <td>0.984114</td>\n    </tr>\n    <tr>\n      <th>4</th>\n      <td>7650</td>\n      <td>lBbxNiUrl7pF1H4c</td>\n      <td>Kadebostany</td>\n      <td>Castle in the Snow</td>\n      <td>Pop Collection</td>\n      <td>{pop, rock}</td>\n      <td>[0.7781513000000001, 0.0, 1.462398, 0.0, 1.301...</td>\n      <td>[-0.0240562, -0.0197435, -0.0169551, -0.013990...</td>\n      <td>[1.3591880798339844, 0.6209864020347595, 0.309...</td>\n      <td>[1.3591336011886597, -0.4918332695960999, -0.4...</td>\n      <td>[0.27542847, 0.0085207485, 0.17537211, 0.01616...</td>\n      <td>[-0.0136576881632208, 0.0381329879164695, 0.00...</td>\n      <td>[0.0169709496347023, 0.0083717900892431, -0.02...</td>\n      <td>0.983854</td>\n    </tr>\n    <tr>\n      <th>5</th>\n      <td>1584</td>\n      <td>9SUQfSsDIBOh3QSV</td>\n      <td>Priscilla Ahn</td>\n      <td>Masters In China</td>\n      <td>A Good Day</td>\n      <td>{folk, soul, singer songwriter}</td>\n      <td>[1.50515, 0.0, 1.462398, 0.0, 2.30103, 0.0, 1....</td>\n      <td>[-0.0191349, -0.0124968, -0.0088663, -0.006168...</td>\n      <td>[2.129467725753784, 1.0896250009536743, 0.6828...</td>\n      <td>[2.1317338943481445, -0.8425770401954651, -0.9...</td>\n      <td>[0.42481366, 0.0026636927, 0.19867267, 0.00749...</td>\n      <td>[0.0182842426002025, 0.0133442115038633, -0.02...</td>\n      <td>[0.0165479896808019, 0.0139839527770303, 0.010...</td>\n      <td>0.983130</td>\n    </tr>\n    <tr>\n      <th>6</th>\n      <td>9669</td>\n      <td>xEbmBtcR1wQcnk3y</td>\n      <td>Julieta Venegas</td>\n      <td>Oleada</td>\n      <td>Si</td>\n      <td>{latin pop, mexican pop, rock en espanol, rock...</td>\n      <td>[2.3873900000000003, 0.0, 2.469822, 0.0, 2.176...</td>\n      <td>[-0.0160536, -0.0104534, -0.00665913, -0.00423...</td>\n      <td>[1.5788124799728394, 1.6625230312347412, 0.228...</td>\n      <td>[1.014309287071228, -1.466999053955078, -0.471...</td>\n      <td>[0.44143254, 0.0077322265, 0.21047759, 0.00914...</td>\n      <td>[0.0002455622889101, 0.0310425776988267, -0.01...</td>\n      <td>[0.0073746261101526, 0.0089111965646346, 0.022...</td>\n      <td>0.982718</td>\n    </tr>\n    <tr>\n      <th>7</th>\n      <td>1147</td>\n      <td>6vbf44Iw7PzRxUWH</td>\n      <td>Taylor Swift</td>\n      <td>The Best Day</td>\n      <td>Fearless</td>\n      <td>{pop rock, world, singer songwriter, disney, c...</td>\n      <td>[2.1760912, 0.0, 2.409933, 0.0, 2.348304700000...</td>\n      <td>[-0.0254457, -0.0206701, -0.0167254, -0.014913...</td>\n      <td>[-0.5983439087867737, 1.6506197452545166, -0.1...</td>\n      <td>[-0.1132917702198028, -1.7878351211547852, 0.0...</td>\n      <td>[0.4190213, 0.006415901, 0.16974963, 0.0041287...</td>\n      <td>[0.0102109359577298, 0.0159489773213863, -0.01...</td>\n      <td>[0.0060818882261895, 0.0110121118431694, 0.005...</td>\n      <td>0.982597</td>\n    </tr>\n    <tr>\n      <th>8</th>\n      <td>9008</td>\n      <td>tJHK6mqbsr1ebi7Z</td>\n      <td>Shania Twain</td>\n      <td>Dance With The One That Brought You</td>\n      <td>Shania Twain</td>\n      <td>{country}</td>\n      <td>[1.8512584, 0.0, 2.445604, 0.0, 2.0, 0.0, 2.16...</td>\n      <td>[-0.0262743, -0.0209276, -0.0173385, -0.015849...</td>\n      <td>[1.2930843830108645, 1.5080833435058594, -1.48...</td>\n      <td>[0.7675840258598328, -1.2949352264404297, 1.34...</td>\n      <td>[0.28720874, 0.024735227, 0.124359, 0.00537671...</td>\n      <td>[-0.0112191652879118, 0.0305185876786708, 0.00...</td>\n      <td>[0.0249538703621446, 0.0043118148694925, 0.027...</td>\n      <td>0.981084</td>\n    </tr>\n    <tr>\n      <th>9</th>\n      <td>6590</td>\n      <td>ekH6L9IN4ziWuKuG</td>\n      <td>Britney Spears</td>\n      <td>When I Found You</td>\n      <td>Britney (Digital Deluxe Version)</td>\n      <td>{teen pop, singer songwriter, bubblegum pop, p...</td>\n      <td>[2.1172712, 0.0, 1.7993406000000003, 0.0, 2.37...</td>\n      <td>[-0.0288562, -0.0247434, -0.0220739, -0.018726...</td>\n      <td>[2.7151670455932617, 1.8055323362350464, 0.157...</td>\n      <td>[0.8662742376327515, -1.2880791425704956, -0.5...</td>\n      <td>[0.32458788, 0.006880934, 0.12804456, 0.010993...</td>\n      <td>[0.0219442192465066, 0.0183226075023412, 0.003...</td>\n      <td>[0.0072971217101439, -0.0070844741000865, 0.02...</td>\n      <td>0.979875</td>\n    </tr>\n  </tbody>\n</table>\n</div>"
     },
     "execution_count": 26,
     "metadata": {},
     "output_type": "execute_result"
    }
   ],
   "source": [
    "results"
   ]
  },
  {
   "cell_type": "code",
   "execution_count": 27,
   "metadata": {
    "ExecuteTime": {
     "end_time": "2023-11-25T06:34:13.469529700Z",
     "start_time": "2023-11-25T06:34:13.406736600Z"
    }
   },
   "outputs": [
    {
     "name": "stdout",
     "output_type": "stream",
     "text": [
      "match: {'indie rock', 'soft rock', 'pop'}\n",
      "match: {'rock', 'pop rock', 'soft rock', 'pop', 'alternative rock'}\n",
      "match: {'indie rock'}\n",
      "match: {'pop', 'rock'}\n",
      "match: {'pop', 'rock'}\n",
      "match: {'pop', 'pop rock'}\n",
      "match: {'pop'}\n"
     ]
    }
   ],
   "source": [
    "for res in results.genre:\n",
    "    if sample_query.genre & res:\n",
    "        print(\"match:\", sample_query.genre & res)"
   ]
  },
  {
   "cell_type": "code",
   "execution_count": 28,
   "metadata": {
    "ExecuteTime": {
     "end_time": "2023-11-25T06:34:13.486685400Z",
     "start_time": "2023-11-25T06:34:13.419387900Z"
    }
   },
   "outputs": [
    {
     "data": {
      "text/plain": "0.7"
     },
     "execution_count": 28,
     "metadata": {},
     "output_type": "execute_result"
    }
   ],
   "source": [
    "precision_at_k_single(sample_query, results, 10)"
   ]
  },
  {
   "cell_type": "code",
   "execution_count": 29,
   "metadata": {
    "ExecuteTime": {
     "end_time": "2023-11-25T06:34:13.706650700Z",
     "start_time": "2023-11-25T06:34:13.437775500Z"
    }
   },
   "outputs": [
    {
     "data": {
      "text/plain": "0.000902178115736564"
     },
     "execution_count": 29,
     "metadata": {},
     "output_type": "execute_result"
    }
   ],
   "source": [
    "recall_at_k_single(sample_query, results, 10)"
   ]
  },
  {
   "cell_type": "markdown",
   "metadata": {},
   "source": [
    "However, we can simplify & speed up the calculation by:\n",
    "- Creating a genre overlap matrix. Since we consider a track to be relevant if query and retrieved track have one or more genre in common, we can pre-calculate these for speed. This is especially helpful for the recall, as we have to get the full matches for every query (create_genre_overlap_matrix).\n",
    "- Combine precision and recall into a single function (combined_rec_prec_at_k_single)."
   ]
  },
  {
   "cell_type": "code",
   "execution_count": 30,
   "metadata": {
    "ExecuteTime": {
     "end_time": "2023-11-25T06:34:13.721773800Z",
     "start_time": "2023-11-25T06:34:13.706650700Z"
    }
   },
   "outputs": [],
   "source": [
    "def create_genre_overlap_matrix(songs_df: pd.DataFrame) -> pd.DataFrame:\n",
    "    \"\"\"\n",
    "    Create an optimized DataFrame representing the genre overlap between each pair of songs.\n",
    "    Args:\n",
    "        songs_df (pd.DataFrame): DataFrame containing the songs.\n",
    "        \n",
    "    Returns:\n",
    "        pd.DataFrame: DataFrame with genre overlap between each pair of songs.\n",
    "    \"\"\"\n",
    "    # Create a dictionary for faster access\n",
    "    genre_dict = songs_df.set_index(\"id\")[\"genre\"].to_dict()\n",
    "\n",
    "    # init empty matrix\n",
    "    overlap_matrix = pd.DataFrame(\n",
    "        index=songs_df[\"id\"], columns=songs_df[\"id\"], dtype=bool\n",
    "    )\n",
    "\n",
    "    for song_id, genres in genre_dict.items():\n",
    "        overlap_matrix.loc[song_id] = [\n",
    "            bool(genres & genre_dict[other_id]) for other_id in songs_df[\"id\"]\n",
    "        ]\n",
    "\n",
    "    return overlap_matrix"
   ]
  },
  {
   "cell_type": "code",
   "execution_count": 31,
   "metadata": {
    "ExecuteTime": {
     "end_time": "2023-11-25T06:34:48.200959600Z",
     "start_time": "2023-11-25T06:34:13.721773800Z"
    }
   },
   "outputs": [
    {
     "data": {
      "text/plain": "id                01Yfj2T3YTwJ1Yfy  01gyRHLquwXDlhkO  01rMxQv6vhyE1oQX  \\\nid                                                                       \n01Yfj2T3YTwJ1Yfy              True             False              True   \n01gyRHLquwXDlhkO             False              True             False   \n01rMxQv6vhyE1oQX              True             False              True   \n02RGE9FNH65RtMS7             False             False             False   \n02ZnlCGZEbkfCDxo             False             False             False   \n04OjszRi9rC5BlHC              True             False              True   \n04iitW3ffa0mhpx3             False              True             False   \n04xUDjAYC14jsHyH             False             False             False   \n06HvNTU9M9lnH71I             False             False             False   \n06L9OJ5nRqKnO2q9             False             False             False   \n\nid                02RGE9FNH65RtMS7  02ZnlCGZEbkfCDxo  04OjszRi9rC5BlHC  \\\nid                                                                       \n01Yfj2T3YTwJ1Yfy             False             False              True   \n01gyRHLquwXDlhkO             False             False             False   \n01rMxQv6vhyE1oQX             False             False              True   \n02RGE9FNH65RtMS7              True             False             False   \n02ZnlCGZEbkfCDxo             False              True              True   \n04OjszRi9rC5BlHC             False              True              True   \n04iitW3ffa0mhpx3             False              True              True   \n04xUDjAYC14jsHyH             False             False             False   \n06HvNTU9M9lnH71I             False              True             False   \n06L9OJ5nRqKnO2q9             False             False             False   \n\nid                04iitW3ffa0mhpx3  04xUDjAYC14jsHyH  06HvNTU9M9lnH71I  \\\nid                                                                       \n01Yfj2T3YTwJ1Yfy             False             False             False   \n01gyRHLquwXDlhkO              True             False             False   \n01rMxQv6vhyE1oQX             False             False             False   \n02RGE9FNH65RtMS7             False             False             False   \n02ZnlCGZEbkfCDxo              True             False              True   \n04OjszRi9rC5BlHC              True             False             False   \n04iitW3ffa0mhpx3              True             False             False   \n04xUDjAYC14jsHyH             False              True             False   \n06HvNTU9M9lnH71I             False             False              True   \n06L9OJ5nRqKnO2q9             False             False             False   \n\nid                06L9OJ5nRqKnO2q9  ...  zxI0u8m0EPvVhNeD  zxYtSeZzEVgPczJz  \\\nid                                  ...                                       \n01Yfj2T3YTwJ1Yfy             False  ...              True              True   \n01gyRHLquwXDlhkO             False  ...             False             False   \n01rMxQv6vhyE1oQX             False  ...              True              True   \n02RGE9FNH65RtMS7             False  ...             False             False   \n02ZnlCGZEbkfCDxo             False  ...              True             False   \n04OjszRi9rC5BlHC             False  ...              True              True   \n04iitW3ffa0mhpx3             False  ...              True             False   \n04xUDjAYC14jsHyH             False  ...             False              True   \n06HvNTU9M9lnH71I             False  ...             False             False   \n06L9OJ5nRqKnO2q9              True  ...             False             False   \n\nid                zxlnGZoud2KCmSaw  zyxOCKcXX1RmWpm0  zyz0UbYN4n9rHXex  \\\nid                                                                       \n01Yfj2T3YTwJ1Yfy              True              True             False   \n01gyRHLquwXDlhkO             False             False              True   \n01rMxQv6vhyE1oQX              True              True             False   \n02RGE9FNH65RtMS7             False             False             False   \n02ZnlCGZEbkfCDxo             False              True              True   \n04OjszRi9rC5BlHC              True              True              True   \n04iitW3ffa0mhpx3              True              True              True   \n04xUDjAYC14jsHyH             False             False             False   \n06HvNTU9M9lnH71I             False              True             False   \n06L9OJ5nRqKnO2q9             False             False             False   \n\nid                zyzILCQvVeUFIINi  zzgS4ZqyswamEWNj  zzoFYDMlqU1X2zz1  \\\nid                                                                       \n01Yfj2T3YTwJ1Yfy              True              True             False   \n01gyRHLquwXDlhkO             False             False             False   \n01rMxQv6vhyE1oQX              True              True             False   \n02RGE9FNH65RtMS7             False             False             False   \n02ZnlCGZEbkfCDxo              True              True             False   \n04OjszRi9rC5BlHC              True              True             False   \n04iitW3ffa0mhpx3              True              True             False   \n04xUDjAYC14jsHyH             False             False             False   \n06HvNTU9M9lnH71I             False             False              True   \n06L9OJ5nRqKnO2q9             False             False             False   \n\nid                zzpkRCGA5ud8q4mv  zzx8CWdM7qkxKQpC  \nid                                                    \n01Yfj2T3YTwJ1Yfy              True              True  \n01gyRHLquwXDlhkO             False             False  \n01rMxQv6vhyE1oQX              True              True  \n02RGE9FNH65RtMS7             False             False  \n02ZnlCGZEbkfCDxo             False             False  \n04OjszRi9rC5BlHC              True              True  \n04iitW3ffa0mhpx3              True              True  \n04xUDjAYC14jsHyH             False              True  \n06HvNTU9M9lnH71I             False             False  \n06L9OJ5nRqKnO2q9             False             False  \n\n[10 rows x 10094 columns]",
      "text/html": "<div>\n<style scoped>\n    .dataframe tbody tr th:only-of-type {\n        vertical-align: middle;\n    }\n\n    .dataframe tbody tr th {\n        vertical-align: top;\n    }\n\n    .dataframe thead th {\n        text-align: right;\n    }\n</style>\n<table border=\"1\" class=\"dataframe\">\n  <thead>\n    <tr style=\"text-align: right;\">\n      <th>id</th>\n      <th>01Yfj2T3YTwJ1Yfy</th>\n      <th>01gyRHLquwXDlhkO</th>\n      <th>01rMxQv6vhyE1oQX</th>\n      <th>02RGE9FNH65RtMS7</th>\n      <th>02ZnlCGZEbkfCDxo</th>\n      <th>04OjszRi9rC5BlHC</th>\n      <th>04iitW3ffa0mhpx3</th>\n      <th>04xUDjAYC14jsHyH</th>\n      <th>06HvNTU9M9lnH71I</th>\n      <th>06L9OJ5nRqKnO2q9</th>\n      <th>...</th>\n      <th>zxI0u8m0EPvVhNeD</th>\n      <th>zxYtSeZzEVgPczJz</th>\n      <th>zxlnGZoud2KCmSaw</th>\n      <th>zyxOCKcXX1RmWpm0</th>\n      <th>zyz0UbYN4n9rHXex</th>\n      <th>zyzILCQvVeUFIINi</th>\n      <th>zzgS4ZqyswamEWNj</th>\n      <th>zzoFYDMlqU1X2zz1</th>\n      <th>zzpkRCGA5ud8q4mv</th>\n      <th>zzx8CWdM7qkxKQpC</th>\n    </tr>\n    <tr>\n      <th>id</th>\n      <th></th>\n      <th></th>\n      <th></th>\n      <th></th>\n      <th></th>\n      <th></th>\n      <th></th>\n      <th></th>\n      <th></th>\n      <th></th>\n      <th></th>\n      <th></th>\n      <th></th>\n      <th></th>\n      <th></th>\n      <th></th>\n      <th></th>\n      <th></th>\n      <th></th>\n      <th></th>\n      <th></th>\n    </tr>\n  </thead>\n  <tbody>\n    <tr>\n      <th>01Yfj2T3YTwJ1Yfy</th>\n      <td>True</td>\n      <td>False</td>\n      <td>True</td>\n      <td>False</td>\n      <td>False</td>\n      <td>True</td>\n      <td>False</td>\n      <td>False</td>\n      <td>False</td>\n      <td>False</td>\n      <td>...</td>\n      <td>True</td>\n      <td>True</td>\n      <td>True</td>\n      <td>True</td>\n      <td>False</td>\n      <td>True</td>\n      <td>True</td>\n      <td>False</td>\n      <td>True</td>\n      <td>True</td>\n    </tr>\n    <tr>\n      <th>01gyRHLquwXDlhkO</th>\n      <td>False</td>\n      <td>True</td>\n      <td>False</td>\n      <td>False</td>\n      <td>False</td>\n      <td>False</td>\n      <td>True</td>\n      <td>False</td>\n      <td>False</td>\n      <td>False</td>\n      <td>...</td>\n      <td>False</td>\n      <td>False</td>\n      <td>False</td>\n      <td>False</td>\n      <td>True</td>\n      <td>False</td>\n      <td>False</td>\n      <td>False</td>\n      <td>False</td>\n      <td>False</td>\n    </tr>\n    <tr>\n      <th>01rMxQv6vhyE1oQX</th>\n      <td>True</td>\n      <td>False</td>\n      <td>True</td>\n      <td>False</td>\n      <td>False</td>\n      <td>True</td>\n      <td>False</td>\n      <td>False</td>\n      <td>False</td>\n      <td>False</td>\n      <td>...</td>\n      <td>True</td>\n      <td>True</td>\n      <td>True</td>\n      <td>True</td>\n      <td>False</td>\n      <td>True</td>\n      <td>True</td>\n      <td>False</td>\n      <td>True</td>\n      <td>True</td>\n    </tr>\n    <tr>\n      <th>02RGE9FNH65RtMS7</th>\n      <td>False</td>\n      <td>False</td>\n      <td>False</td>\n      <td>True</td>\n      <td>False</td>\n      <td>False</td>\n      <td>False</td>\n      <td>False</td>\n      <td>False</td>\n      <td>False</td>\n      <td>...</td>\n      <td>False</td>\n      <td>False</td>\n      <td>False</td>\n      <td>False</td>\n      <td>False</td>\n      <td>False</td>\n      <td>False</td>\n      <td>False</td>\n      <td>False</td>\n      <td>False</td>\n    </tr>\n    <tr>\n      <th>02ZnlCGZEbkfCDxo</th>\n      <td>False</td>\n      <td>False</td>\n      <td>False</td>\n      <td>False</td>\n      <td>True</td>\n      <td>True</td>\n      <td>True</td>\n      <td>False</td>\n      <td>True</td>\n      <td>False</td>\n      <td>...</td>\n      <td>True</td>\n      <td>False</td>\n      <td>False</td>\n      <td>True</td>\n      <td>True</td>\n      <td>True</td>\n      <td>True</td>\n      <td>False</td>\n      <td>False</td>\n      <td>False</td>\n    </tr>\n    <tr>\n      <th>04OjszRi9rC5BlHC</th>\n      <td>True</td>\n      <td>False</td>\n      <td>True</td>\n      <td>False</td>\n      <td>True</td>\n      <td>True</td>\n      <td>True</td>\n      <td>False</td>\n      <td>False</td>\n      <td>False</td>\n      <td>...</td>\n      <td>True</td>\n      <td>True</td>\n      <td>True</td>\n      <td>True</td>\n      <td>True</td>\n      <td>True</td>\n      <td>True</td>\n      <td>False</td>\n      <td>True</td>\n      <td>True</td>\n    </tr>\n    <tr>\n      <th>04iitW3ffa0mhpx3</th>\n      <td>False</td>\n      <td>True</td>\n      <td>False</td>\n      <td>False</td>\n      <td>True</td>\n      <td>True</td>\n      <td>True</td>\n      <td>False</td>\n      <td>False</td>\n      <td>False</td>\n      <td>...</td>\n      <td>True</td>\n      <td>False</td>\n      <td>True</td>\n      <td>True</td>\n      <td>True</td>\n      <td>True</td>\n      <td>True</td>\n      <td>False</td>\n      <td>True</td>\n      <td>True</td>\n    </tr>\n    <tr>\n      <th>04xUDjAYC14jsHyH</th>\n      <td>False</td>\n      <td>False</td>\n      <td>False</td>\n      <td>False</td>\n      <td>False</td>\n      <td>False</td>\n      <td>False</td>\n      <td>True</td>\n      <td>False</td>\n      <td>False</td>\n      <td>...</td>\n      <td>False</td>\n      <td>True</td>\n      <td>False</td>\n      <td>False</td>\n      <td>False</td>\n      <td>False</td>\n      <td>False</td>\n      <td>False</td>\n      <td>False</td>\n      <td>True</td>\n    </tr>\n    <tr>\n      <th>06HvNTU9M9lnH71I</th>\n      <td>False</td>\n      <td>False</td>\n      <td>False</td>\n      <td>False</td>\n      <td>True</td>\n      <td>False</td>\n      <td>False</td>\n      <td>False</td>\n      <td>True</td>\n      <td>False</td>\n      <td>...</td>\n      <td>False</td>\n      <td>False</td>\n      <td>False</td>\n      <td>True</td>\n      <td>False</td>\n      <td>False</td>\n      <td>False</td>\n      <td>True</td>\n      <td>False</td>\n      <td>False</td>\n    </tr>\n    <tr>\n      <th>06L9OJ5nRqKnO2q9</th>\n      <td>False</td>\n      <td>False</td>\n      <td>False</td>\n      <td>False</td>\n      <td>False</td>\n      <td>False</td>\n      <td>False</td>\n      <td>False</td>\n      <td>False</td>\n      <td>True</td>\n      <td>...</td>\n      <td>False</td>\n      <td>False</td>\n      <td>False</td>\n      <td>False</td>\n      <td>False</td>\n      <td>False</td>\n      <td>False</td>\n      <td>False</td>\n      <td>False</td>\n      <td>False</td>\n    </tr>\n  </tbody>\n</table>\n<p>10 rows × 10094 columns</p>\n</div>"
     },
     "execution_count": 31,
     "metadata": {},
     "output_type": "execute_result"
    }
   ],
   "source": [
    "genre_overlap_matrix = create_genre_overlap_matrix(df)\n",
    "genre_overlap_matrix.head(10)"
   ]
  },
  {
   "cell_type": "code",
   "execution_count": 32,
   "metadata": {
    "ExecuteTime": {
     "end_time": "2023-11-25T06:34:48.231752200Z",
     "start_time": "2023-11-25T06:34:48.200959600Z"
    }
   },
   "outputs": [],
   "source": [
    "def combined_rec_prec_at_k_single(query_id: str, retrieved_tracks: pd.DataFrame, k: int, overlap_matrix: pd.DataFrame) -> Tuple[float, float]:\n",
    "    \"\"\"Combined precision and recall at k for a single query song.\n",
    "\n",
    "    Args:\n",
    "        query_id (str): Query song id.\n",
    "        retrieved_tracks (pd.DataFrame): The retrieved tracks of an RS.\n",
    "        k (int): Number of retrieved tracks to consider.\n",
    "        overlap_matrix (pd.DataFrame): The genre overlap matrix.\n",
    "\n",
    "    Raises:\n",
    "        ValueError: k must be smaller than or equal to the number of retrieved tracks.\n",
    "\n",
    "    Returns:\n",
    "        Tuple[float, float]: Precision and recall at k.\n",
    "    \"\"\"\n",
    "    if k > len(retrieved_tracks):\n",
    "        raise ValueError(\n",
    "            f\"k must be smaller than or equal to the number of retrieved tracks ({len(retrieved_tracks)})\"\n",
    "        )\n",
    "\n",
    "    # Filter the retrieved tracks to top k\n",
    "    retrieved_tracks = retrieved_tracks.head(k)\n",
    "\n",
    "    # Count relevant items in top k using the overlap matrix\n",
    "    relevant_items_retrieved = overlap_matrix.loc[query_id, retrieved_tracks[\"id\"]].sum()\n",
    "\n",
    "    # Count total relevant items in the dataset using the overlap matrix\n",
    "    relevant_items_total = overlap_matrix.loc[query_id].sum()\n",
    "\n",
    "    precision = relevant_items_retrieved / k\n",
    "    recall = (\n",
    "        relevant_items_retrieved / relevant_items_total\n",
    "        if relevant_items_total > 0\n",
    "        else 0\n",
    "    )\n",
    "\n",
    "    return precision, recall"
   ]
  },
  {
   "cell_type": "code",
   "execution_count": 33,
   "metadata": {
    "ExecuteTime": {
     "end_time": "2023-11-25T06:34:48.263578200Z",
     "start_time": "2023-11-25T06:34:48.216167400Z"
    }
   },
   "outputs": [
    {
     "data": {
      "text/plain": "(0.7, 0.000902178115736564)"
     },
     "execution_count": 33,
     "metadata": {},
     "output_type": "execute_result"
    }
   ],
   "source": [
    "precision, recall = combined_rec_prec_at_k_single(\n",
    "    sample_query[\"id\"], rs_cos_dnn.retrieve(sample_song, 10), 10, genre_overlap_matrix\n",
    ")\n",
    "precision, recall"
   ]
  },
  {
   "cell_type": "markdown",
   "metadata": {},
   "source": [
    "We can see that we get the same results."
   ]
  },
  {
   "cell_type": "markdown",
   "metadata": {},
   "source": [
    "## nDCG@10"
   ]
  },
  {
   "cell_type": "code",
   "execution_count": 34,
   "metadata": {
    "ExecuteTime": {
     "end_time": "2023-11-25T06:34:48.376201500Z",
     "start_time": "2023-11-25T06:34:48.231752200Z"
    }
   },
   "outputs": [],
   "source": [
    "def sorensen_dice_genres(genre1: set, genre2: set) -> float:\n",
    "    \"\"\"Calculate the Sorensen-Dice coefficient for two sets of genres.\n",
    "    Args:\n",
    "        genre1 (set): First set of genres.\n",
    "        genre2 (set): Second set of genres.\n",
    "    Returns:\n",
    "        float: Sorensen-Dice coefficient.\n",
    "    \"\"\"\n",
    "    return 2 * len(genre1 & genre2) / (len(genre1) + len(genre2))"
   ]
  },
  {
   "cell_type": "code",
   "execution_count": 35,
   "metadata": {
    "ExecuteTime": {
     "end_time": "2023-11-25T06:34:48.439496900Z",
     "start_time": "2023-11-25T06:34:48.247541500Z"
    }
   },
   "outputs": [],
   "source": [
    "def calculate_dcg(sample_query: pd.Series, retrieved_tracks: pd.DataFrame, k: int) -> float:\n",
    "    \"\"\"Calculate DCG for a single query song.\n",
    "    Args:\n",
    "        sample_query (pd.Series): Query song.\n",
    "        retrieved_tracks (pd.DataFrame): Retrieved tracks. \n",
    "        k (int): Number of retrieved tracks to consider.\n",
    "    Returns:\n",
    "        float: DCG@k\n",
    "    \"\"\"\n",
    "    # Vectorized calculation of relevance scores\n",
    "    relevance_scores = retrieved_tracks['genre'].apply(lambda x: sorensen_dice_genres(sample_query[\"genre\"], x))\n",
    "    top_k_scores = relevance_scores.head(k).values\n",
    "\n",
    "    denominators = np.log2(np.arange(2, k + 1))  # Starts from 2 since log2(1) is 0 and it's used for the first item\n",
    "    return top_k_scores[0] + sum(top_k_scores[1:] / denominators)"
   ]
  },
  {
   "cell_type": "code",
   "execution_count": 36,
   "metadata": {
    "ExecuteTime": {
     "end_time": "2023-11-25T06:34:48.439496900Z",
     "start_time": "2023-11-25T06:34:48.266086400Z"
    }
   },
   "outputs": [
    {
     "data": {
      "text/plain": "0.9926746644813018"
     },
     "execution_count": 36,
     "metadata": {},
     "output_type": "execute_result"
    }
   ],
   "source": [
    "# test\n",
    "calculate_dcg(sample_query, results, 10)\n"
   ]
  },
  {
   "cell_type": "code",
   "execution_count": 37,
   "metadata": {
    "ExecuteTime": {
     "end_time": "2023-11-25T06:34:48.439496900Z",
     "start_time": "2023-11-25T06:34:48.279678600Z"
    }
   },
   "outputs": [],
   "source": [
    "def calculate_idcg(sample_query: pd.Series, k: int) -> float:\n",
    "    \"\"\"Calculate IDCG for a single query song.\n",
    "    Args:\n",
    "        sample_query (pd.Series): Query song.\n",
    "        k (int): Number of retrieved tracks to consider.\n",
    "        \n",
    "    Returns:\n",
    "        float: IDCG@k\n",
    "    \"\"\"\n",
    "    # Vectorized calculation of relevance scores\n",
    "    relevance_scores = df['genre'].apply(lambda x: sorensen_dice_genres(sample_query[\"genre\"], x))\n",
    "    # sort and take top k\n",
    "    sorted_scores = relevance_scores.sort_values(ascending=False).head(k).values\n",
    "\n",
    "    # normalize by log2 of rank\n",
    "    denominators = np.log2(np.arange(2, k + 1))\n",
    "    return sorted_scores[0] + sum(sorted_scores[1:] / denominators)\n"
   ]
  },
  {
   "cell_type": "code",
   "execution_count": 38,
   "metadata": {
    "ExecuteTime": {
     "end_time": "2023-11-25T06:34:48.519330100Z",
     "start_time": "2023-11-25T06:34:48.295900800Z"
    }
   },
   "outputs": [
    {
     "data": {
      "text/plain": "3.9121303227676525"
     },
     "execution_count": 38,
     "metadata": {},
     "output_type": "execute_result"
    }
   ],
   "source": [
    "calculate_idcg(sample_query, 10)"
   ]
  },
  {
   "cell_type": "code",
   "execution_count": 39,
   "metadata": {
    "ExecuteTime": {
     "end_time": "2023-11-25T06:34:48.519330100Z",
     "start_time": "2023-11-25T06:34:48.327921800Z"
    }
   },
   "outputs": [],
   "source": [
    "def ndcg_at_k_single(\n",
    "    sample_query: pd.Series, retrieved_tracks: pd.DataFrame, k: int\n",
    ") -> float:\n",
    "    \"\"\"NDCG@k for a single query song.\n",
    "    Args:\n",
    "        sample_query (pd.Series): Query song.\n",
    "        retrieved_tracks (pd.DataFrame): Retrieved tracks. \n",
    "        k (int): Number of retrieved tracks to consider.\n",
    "    Returns:\n",
    "        float: NDCG@k\n",
    "    \"\"\"\n",
    "    if k > len(retrieved_tracks):\n",
    "        raise ValueError(\n",
    "            f\"k must be smaller than the number of retrieved tracks ({len(retrieved_tracks)})\"\n",
    "        )\n",
    "        \n",
    "    retrieved_tracks = retrieved_tracks.head(k)\n",
    "    return calculate_dcg(sample_query, retrieved_tracks, k) / calculate_idcg(\n",
    "        sample_query, k\n",
    "    )"
   ]
  },
  {
   "cell_type": "code",
   "execution_count": 40,
   "metadata": {
    "ExecuteTime": {
     "end_time": "2023-11-25T06:34:48.519330100Z",
     "start_time": "2023-11-25T06:34:48.345960900Z"
    }
   },
   "outputs": [
    {
     "data": {
      "text/plain": "0.25374273927025776"
     },
     "execution_count": 40,
     "metadata": {},
     "output_type": "execute_result"
    }
   ],
   "source": [
    "ndcg_at_k_single(sample_query, results, 10)"
   ]
  },
  {
   "cell_type": "markdown",
   "metadata": {},
   "source": [
    "## Evaluate systems"
   ]
  },
  {
   "cell_type": "code",
   "execution_count": 41,
   "metadata": {
    "ExecuteTime": {
     "end_time": "2023-11-25T06:34:48.519330100Z",
     "start_time": "2023-11-25T06:34:48.380756100Z"
    }
   },
   "outputs": [],
   "source": [
    "import numpy as np\n",
    "\n",
    "\n",
    "def calc_metrics(rs: RetrievalSystem, k1: int, k2: int, step: int) -> pd.DataFrame:\n",
    "    \"\"\"Calculate mean precision@k and recall@k for all queries in the dataset.\n",
    "    \n",
    "    Args:\n",
    "        rs (RetrievalSystem): The retrieval system.\n",
    "        k1 (int): The maximum k.\n",
    "        k2 (int): The minimum k.\n",
    "        step (int): The step size.\n",
    "    \n",
    "    Returns:\n",
    "        pd.DataFrame: DataFrame containing the mean precision@k and recall@k.\n",
    "    \"\"\"\n",
    "    num_queries = len(rs.df)\n",
    "    k_values = list(range(k2, k1 - 1, -step))\n",
    "    if k1 not in k_values:\n",
    "        k_values.append(k1)\n",
    "    recall_array = np.zeros(len(k_values))\n",
    "    precision_array = np.zeros(len(k_values))\n",
    "    ndcg = 0\n",
    "\n",
    "    for _, query in tqdm(rs.df.iterrows(), total=num_queries):\n",
    "        # Retrieve all results once for the max k\n",
    "        all_retrieved_tracks = rs.retrieve(query[\"id\"], k2)\n",
    "\n",
    "        for i, k in enumerate(k_values):\n",
    "            retrieved_tracks = all_retrieved_tracks[:k]\n",
    "            precision, recall = combined_rec_prec_at_k_single(\n",
    "                query[\"id\"], retrieved_tracks, k, genre_overlap_matrix\n",
    "            )\n",
    "            precision_array[i] += precision\n",
    "            recall_array[i] += recall\n",
    "        \n",
    "        # ndcg \n",
    "        ndcg += ndcg_at_k_single(query, all_retrieved_tracks[:10], 10)\n",
    "\n",
    "    # Convert sums to means\n",
    "    recall_array /= num_queries\n",
    "    precision_array /= num_queries\n",
    "    ndcg /= num_queries\n",
    "\n",
    "    return pd.DataFrame(\n",
    "        {\"k\": k_values, \"recall\": recall_array, \"precision\": precision_array, \"ndcg10\": ndcg}\n",
    "    ).set_index(\"k\")  \n",
    "    "
   ]
  },
  {
   "cell_type": "code",
   "execution_count": 42,
   "metadata": {
    "ExecuteTime": {
     "end_time": "2023-11-25T06:34:48.519330100Z",
     "start_time": "2023-11-25T06:34:48.391866400Z"
    }
   },
   "outputs": [],
   "source": [
    "K1 = 1\n",
    "K2 = 100\n",
    "STEP = 5"
   ]
  },
  {
   "cell_type": "code",
   "execution_count": 43,
   "metadata": {
    "ExecuteTime": {
     "end_time": "2023-11-25T06:35:56.748495300Z",
     "start_time": "2023-11-25T06:34:48.407522500Z"
    }
   },
   "outputs": [
    {
     "name": "stdout",
     "output_type": "stream",
     "text": [
      "Calculating metrics for random with random...\n"
     ]
    },
    {
     "data": {
      "text/plain": "  0%|          | 0/10094 [00:00<?, ?it/s]",
      "application/vnd.jupyter.widget-view+json": {
       "version_major": 2,
       "version_minor": 0,
       "model_id": "3ebd6ae3603e4116ac7aa90c47b87ec8"
      }
     },
     "metadata": {},
     "output_type": "display_data"
    },
    {
     "ename": "KeyboardInterrupt",
     "evalue": "",
     "output_type": "error",
     "traceback": [
      "\u001B[1;31m---------------------------------------------------------------------------\u001B[0m",
      "\u001B[1;31mKeyboardInterrupt\u001B[0m                         Traceback (most recent call last)",
      "Cell \u001B[1;32mIn[43], line 10\u001B[0m\n\u001B[0;32m      7\u001B[0m \u001B[38;5;28mprint\u001B[39m(\u001B[38;5;124mf\u001B[39m\u001B[38;5;124m\"\u001B[39m\u001B[38;5;124mCalculating metrics for \u001B[39m\u001B[38;5;132;01m{\u001B[39;00mmetric_name\u001B[38;5;132;01m}\u001B[39;00m\u001B[38;5;124m with \u001B[39m\u001B[38;5;132;01m{\u001B[39;00mfeature_name\u001B[38;5;132;01m}\u001B[39;00m\u001B[38;5;124m...\u001B[39m\u001B[38;5;124m\"\u001B[39m)\n\u001B[0;32m      9\u001B[0m \u001B[38;5;66;03m# Calculate metrics\u001B[39;00m\n\u001B[1;32m---> 10\u001B[0m metrics_df \u001B[38;5;241m=\u001B[39m \u001B[43mcalc_metrics\u001B[49m\u001B[43m(\u001B[49m\u001B[43mrs_object\u001B[49m\u001B[43m,\u001B[49m\u001B[43m \u001B[49m\u001B[43mk1\u001B[49m\u001B[38;5;241;43m=\u001B[39;49m\u001B[43mK1\u001B[49m\u001B[43m,\u001B[49m\u001B[43m \u001B[49m\u001B[43mk2\u001B[49m\u001B[38;5;241;43m=\u001B[39;49m\u001B[43mK2\u001B[49m\u001B[43m,\u001B[49m\u001B[43m \u001B[49m\u001B[43mstep\u001B[49m\u001B[38;5;241;43m=\u001B[39;49m\u001B[43mSTEP\u001B[49m\u001B[43m)\u001B[49m\n\u001B[0;32m     12\u001B[0m \u001B[38;5;66;03m# Store the metrics DataFrame in the rs DataFrame\u001B[39;00m\n\u001B[0;32m     13\u001B[0m rs\u001B[38;5;241m.\u001B[39mat[index, \u001B[38;5;124m'\u001B[39m\u001B[38;5;124mmetrics\u001B[39m\u001B[38;5;124m'\u001B[39m] \u001B[38;5;241m=\u001B[39m metrics_df\n",
      "Cell \u001B[1;32mIn[41], line 37\u001B[0m, in \u001B[0;36mcalc_metrics\u001B[1;34m(rs, k1, k2, step)\u001B[0m\n\u001B[0;32m     34\u001B[0m         recall_array[i] \u001B[38;5;241m+\u001B[39m\u001B[38;5;241m=\u001B[39m recall\n\u001B[0;32m     36\u001B[0m     \u001B[38;5;66;03m# ndcg \u001B[39;00m\n\u001B[1;32m---> 37\u001B[0m     ndcg \u001B[38;5;241m+\u001B[39m\u001B[38;5;241m=\u001B[39m \u001B[43mndcg_at_k_single\u001B[49m\u001B[43m(\u001B[49m\u001B[43mquery\u001B[49m\u001B[43m,\u001B[49m\u001B[43m \u001B[49m\u001B[43mall_retrieved_tracks\u001B[49m\u001B[43m[\u001B[49m\u001B[43m:\u001B[49m\u001B[38;5;241;43m10\u001B[39;49m\u001B[43m]\u001B[49m\u001B[43m,\u001B[49m\u001B[43m \u001B[49m\u001B[38;5;241;43m10\u001B[39;49m\u001B[43m)\u001B[49m\n\u001B[0;32m     39\u001B[0m \u001B[38;5;66;03m# Convert sums to means\u001B[39;00m\n\u001B[0;32m     40\u001B[0m recall_array \u001B[38;5;241m/\u001B[39m\u001B[38;5;241m=\u001B[39m num_queries\n",
      "Cell \u001B[1;32mIn[39], line 18\u001B[0m, in \u001B[0;36mndcg_at_k_single\u001B[1;34m(sample_query, retrieved_tracks, k)\u001B[0m\n\u001B[0;32m     13\u001B[0m     \u001B[38;5;28;01mraise\u001B[39;00m \u001B[38;5;167;01mValueError\u001B[39;00m(\n\u001B[0;32m     14\u001B[0m         \u001B[38;5;124mf\u001B[39m\u001B[38;5;124m\"\u001B[39m\u001B[38;5;124mk must be smaller than the number of retrieved tracks (\u001B[39m\u001B[38;5;132;01m{\u001B[39;00m\u001B[38;5;28mlen\u001B[39m(retrieved_tracks)\u001B[38;5;132;01m}\u001B[39;00m\u001B[38;5;124m)\u001B[39m\u001B[38;5;124m\"\u001B[39m\n\u001B[0;32m     15\u001B[0m     )\n\u001B[0;32m     17\u001B[0m retrieved_tracks \u001B[38;5;241m=\u001B[39m retrieved_tracks\u001B[38;5;241m.\u001B[39mhead(k)\n\u001B[1;32m---> 18\u001B[0m \u001B[38;5;28;01mreturn\u001B[39;00m calculate_dcg(sample_query, retrieved_tracks, k) \u001B[38;5;241m/\u001B[39m \u001B[43mcalculate_idcg\u001B[49m\u001B[43m(\u001B[49m\n\u001B[0;32m     19\u001B[0m \u001B[43m    \u001B[49m\u001B[43msample_query\u001B[49m\u001B[43m,\u001B[49m\u001B[43m \u001B[49m\u001B[43mk\u001B[49m\n\u001B[0;32m     20\u001B[0m \u001B[43m\u001B[49m\u001B[43m)\u001B[49m\n",
      "Cell \u001B[1;32mIn[37], line 11\u001B[0m, in \u001B[0;36mcalculate_idcg\u001B[1;34m(sample_query, k)\u001B[0m\n\u001B[0;32m      2\u001B[0m \u001B[38;5;250m\u001B[39m\u001B[38;5;124;03m\"\"\"Calculate IDCG for a single query song.\u001B[39;00m\n\u001B[0;32m      3\u001B[0m \u001B[38;5;124;03mArgs:\u001B[39;00m\n\u001B[0;32m      4\u001B[0m \u001B[38;5;124;03m    sample_query (pd.Series): Query song.\u001B[39;00m\n\u001B[1;32m   (...)\u001B[0m\n\u001B[0;32m      8\u001B[0m \u001B[38;5;124;03m    float: IDCG@k\u001B[39;00m\n\u001B[0;32m      9\u001B[0m \u001B[38;5;124;03m\"\"\"\u001B[39;00m\n\u001B[0;32m     10\u001B[0m \u001B[38;5;66;03m# Vectorized calculation of relevance scores\u001B[39;00m\n\u001B[1;32m---> 11\u001B[0m relevance_scores \u001B[38;5;241m=\u001B[39m \u001B[43mdf\u001B[49m\u001B[43m[\u001B[49m\u001B[38;5;124;43m'\u001B[39;49m\u001B[38;5;124;43mgenre\u001B[39;49m\u001B[38;5;124;43m'\u001B[39;49m\u001B[43m]\u001B[49m\u001B[38;5;241;43m.\u001B[39;49m\u001B[43mapply\u001B[49m\u001B[43m(\u001B[49m\u001B[38;5;28;43;01mlambda\u001B[39;49;00m\u001B[43m \u001B[49m\u001B[43mx\u001B[49m\u001B[43m:\u001B[49m\u001B[43m \u001B[49m\u001B[43msorensen_dice_genres\u001B[49m\u001B[43m(\u001B[49m\u001B[43msample_query\u001B[49m\u001B[43m[\u001B[49m\u001B[38;5;124;43m\"\u001B[39;49m\u001B[38;5;124;43mgenre\u001B[39;49m\u001B[38;5;124;43m\"\u001B[39;49m\u001B[43m]\u001B[49m\u001B[43m,\u001B[49m\u001B[43m \u001B[49m\u001B[43mx\u001B[49m\u001B[43m)\u001B[49m\u001B[43m)\u001B[49m\n\u001B[0;32m     12\u001B[0m \u001B[38;5;66;03m# sort and take top k\u001B[39;00m\n\u001B[0;32m     13\u001B[0m sorted_scores \u001B[38;5;241m=\u001B[39m relevance_scores\u001B[38;5;241m.\u001B[39msort_values(ascending\u001B[38;5;241m=\u001B[39m\u001B[38;5;28;01mFalse\u001B[39;00m)\u001B[38;5;241m.\u001B[39mhead(k)\u001B[38;5;241m.\u001B[39mvalues\n",
      "File \u001B[1;32m~\\Documents\\mms\\venv\\lib\\site-packages\\pandas\\core\\series.py:4753\u001B[0m, in \u001B[0;36mSeries.apply\u001B[1;34m(self, func, convert_dtype, args, by_row, **kwargs)\u001B[0m\n\u001B[0;32m   4625\u001B[0m \u001B[38;5;28;01mdef\u001B[39;00m \u001B[38;5;21mapply\u001B[39m(\n\u001B[0;32m   4626\u001B[0m     \u001B[38;5;28mself\u001B[39m,\n\u001B[0;32m   4627\u001B[0m     func: AggFuncType,\n\u001B[1;32m   (...)\u001B[0m\n\u001B[0;32m   4632\u001B[0m     \u001B[38;5;241m*\u001B[39m\u001B[38;5;241m*\u001B[39mkwargs,\n\u001B[0;32m   4633\u001B[0m ) \u001B[38;5;241m-\u001B[39m\u001B[38;5;241m>\u001B[39m DataFrame \u001B[38;5;241m|\u001B[39m Series:\n\u001B[0;32m   4634\u001B[0m \u001B[38;5;250m    \u001B[39m\u001B[38;5;124;03m\"\"\"\u001B[39;00m\n\u001B[0;32m   4635\u001B[0m \u001B[38;5;124;03m    Invoke function on values of Series.\u001B[39;00m\n\u001B[0;32m   4636\u001B[0m \n\u001B[1;32m   (...)\u001B[0m\n\u001B[0;32m   4751\u001B[0m \u001B[38;5;124;03m    dtype: float64\u001B[39;00m\n\u001B[0;32m   4752\u001B[0m \u001B[38;5;124;03m    \"\"\"\u001B[39;00m\n\u001B[1;32m-> 4753\u001B[0m     \u001B[38;5;28;01mreturn\u001B[39;00m \u001B[43mSeriesApply\u001B[49m\u001B[43m(\u001B[49m\n\u001B[0;32m   4754\u001B[0m \u001B[43m        \u001B[49m\u001B[38;5;28;43mself\u001B[39;49m\u001B[43m,\u001B[49m\n\u001B[0;32m   4755\u001B[0m \u001B[43m        \u001B[49m\u001B[43mfunc\u001B[49m\u001B[43m,\u001B[49m\n\u001B[0;32m   4756\u001B[0m \u001B[43m        \u001B[49m\u001B[43mconvert_dtype\u001B[49m\u001B[38;5;241;43m=\u001B[39;49m\u001B[43mconvert_dtype\u001B[49m\u001B[43m,\u001B[49m\n\u001B[0;32m   4757\u001B[0m \u001B[43m        \u001B[49m\u001B[43mby_row\u001B[49m\u001B[38;5;241;43m=\u001B[39;49m\u001B[43mby_row\u001B[49m\u001B[43m,\u001B[49m\n\u001B[0;32m   4758\u001B[0m \u001B[43m        \u001B[49m\u001B[43margs\u001B[49m\u001B[38;5;241;43m=\u001B[39;49m\u001B[43margs\u001B[49m\u001B[43m,\u001B[49m\n\u001B[0;32m   4759\u001B[0m \u001B[43m        \u001B[49m\u001B[43mkwargs\u001B[49m\u001B[38;5;241;43m=\u001B[39;49m\u001B[43mkwargs\u001B[49m\u001B[43m,\u001B[49m\n\u001B[0;32m   4760\u001B[0m \u001B[43m    \u001B[49m\u001B[43m)\u001B[49m\u001B[38;5;241;43m.\u001B[39;49m\u001B[43mapply\u001B[49m\u001B[43m(\u001B[49m\u001B[43m)\u001B[49m\n",
      "File \u001B[1;32m~\\Documents\\mms\\venv\\lib\\site-packages\\pandas\\core\\apply.py:1207\u001B[0m, in \u001B[0;36mSeriesApply.apply\u001B[1;34m(self)\u001B[0m\n\u001B[0;32m   1204\u001B[0m     \u001B[38;5;28;01mreturn\u001B[39;00m \u001B[38;5;28mself\u001B[39m\u001B[38;5;241m.\u001B[39mapply_compat()\n\u001B[0;32m   1206\u001B[0m \u001B[38;5;66;03m# self.func is Callable\u001B[39;00m\n\u001B[1;32m-> 1207\u001B[0m \u001B[38;5;28;01mreturn\u001B[39;00m \u001B[38;5;28;43mself\u001B[39;49m\u001B[38;5;241;43m.\u001B[39;49m\u001B[43mapply_standard\u001B[49m\u001B[43m(\u001B[49m\u001B[43m)\u001B[49m\n",
      "File \u001B[1;32m~\\Documents\\mms\\venv\\lib\\site-packages\\pandas\\core\\apply.py:1287\u001B[0m, in \u001B[0;36mSeriesApply.apply_standard\u001B[1;34m(self)\u001B[0m\n\u001B[0;32m   1281\u001B[0m \u001B[38;5;66;03m# row-wise access\u001B[39;00m\n\u001B[0;32m   1282\u001B[0m \u001B[38;5;66;03m# apply doesn't have a `na_action` keyword and for backward compat reasons\u001B[39;00m\n\u001B[0;32m   1283\u001B[0m \u001B[38;5;66;03m# we need to give `na_action=\"ignore\"` for categorical data.\u001B[39;00m\n\u001B[0;32m   1284\u001B[0m \u001B[38;5;66;03m# TODO: remove the `na_action=\"ignore\"` when that default has been changed in\u001B[39;00m\n\u001B[0;32m   1285\u001B[0m \u001B[38;5;66;03m#  Categorical (GH51645).\u001B[39;00m\n\u001B[0;32m   1286\u001B[0m action \u001B[38;5;241m=\u001B[39m \u001B[38;5;124m\"\u001B[39m\u001B[38;5;124mignore\u001B[39m\u001B[38;5;124m\"\u001B[39m \u001B[38;5;28;01mif\u001B[39;00m \u001B[38;5;28misinstance\u001B[39m(obj\u001B[38;5;241m.\u001B[39mdtype, CategoricalDtype) \u001B[38;5;28;01melse\u001B[39;00m \u001B[38;5;28;01mNone\u001B[39;00m\n\u001B[1;32m-> 1287\u001B[0m mapped \u001B[38;5;241m=\u001B[39m \u001B[43mobj\u001B[49m\u001B[38;5;241;43m.\u001B[39;49m\u001B[43m_map_values\u001B[49m\u001B[43m(\u001B[49m\n\u001B[0;32m   1288\u001B[0m \u001B[43m    \u001B[49m\u001B[43mmapper\u001B[49m\u001B[38;5;241;43m=\u001B[39;49m\u001B[43mcurried\u001B[49m\u001B[43m,\u001B[49m\u001B[43m \u001B[49m\u001B[43mna_action\u001B[49m\u001B[38;5;241;43m=\u001B[39;49m\u001B[43maction\u001B[49m\u001B[43m,\u001B[49m\u001B[43m \u001B[49m\u001B[43mconvert\u001B[49m\u001B[38;5;241;43m=\u001B[39;49m\u001B[38;5;28;43mself\u001B[39;49m\u001B[38;5;241;43m.\u001B[39;49m\u001B[43mconvert_dtype\u001B[49m\n\u001B[0;32m   1289\u001B[0m \u001B[43m\u001B[49m\u001B[43m)\u001B[49m\n\u001B[0;32m   1291\u001B[0m \u001B[38;5;28;01mif\u001B[39;00m \u001B[38;5;28mlen\u001B[39m(mapped) \u001B[38;5;129;01mand\u001B[39;00m \u001B[38;5;28misinstance\u001B[39m(mapped[\u001B[38;5;241m0\u001B[39m], ABCSeries):\n\u001B[0;32m   1292\u001B[0m     \u001B[38;5;66;03m# GH#43986 Need to do list(mapped) in order to get treated as nested\u001B[39;00m\n\u001B[0;32m   1293\u001B[0m     \u001B[38;5;66;03m#  See also GH#25959 regarding EA support\u001B[39;00m\n\u001B[0;32m   1294\u001B[0m     \u001B[38;5;28;01mreturn\u001B[39;00m obj\u001B[38;5;241m.\u001B[39m_constructor_expanddim(\u001B[38;5;28mlist\u001B[39m(mapped), index\u001B[38;5;241m=\u001B[39mobj\u001B[38;5;241m.\u001B[39mindex)\n",
      "File \u001B[1;32m~\\Documents\\mms\\venv\\lib\\site-packages\\pandas\\core\\base.py:921\u001B[0m, in \u001B[0;36mIndexOpsMixin._map_values\u001B[1;34m(self, mapper, na_action, convert)\u001B[0m\n\u001B[0;32m    918\u001B[0m \u001B[38;5;28;01mif\u001B[39;00m \u001B[38;5;28misinstance\u001B[39m(arr, ExtensionArray):\n\u001B[0;32m    919\u001B[0m     \u001B[38;5;28;01mreturn\u001B[39;00m arr\u001B[38;5;241m.\u001B[39mmap(mapper, na_action\u001B[38;5;241m=\u001B[39mna_action)\n\u001B[1;32m--> 921\u001B[0m \u001B[38;5;28;01mreturn\u001B[39;00m \u001B[43malgorithms\u001B[49m\u001B[38;5;241;43m.\u001B[39;49m\u001B[43mmap_array\u001B[49m\u001B[43m(\u001B[49m\u001B[43marr\u001B[49m\u001B[43m,\u001B[49m\u001B[43m \u001B[49m\u001B[43mmapper\u001B[49m\u001B[43m,\u001B[49m\u001B[43m \u001B[49m\u001B[43mna_action\u001B[49m\u001B[38;5;241;43m=\u001B[39;49m\u001B[43mna_action\u001B[49m\u001B[43m,\u001B[49m\u001B[43m \u001B[49m\u001B[43mconvert\u001B[49m\u001B[38;5;241;43m=\u001B[39;49m\u001B[43mconvert\u001B[49m\u001B[43m)\u001B[49m\n",
      "File \u001B[1;32m~\\Documents\\mms\\venv\\lib\\site-packages\\pandas\\core\\algorithms.py:1814\u001B[0m, in \u001B[0;36mmap_array\u001B[1;34m(arr, mapper, na_action, convert)\u001B[0m\n\u001B[0;32m   1812\u001B[0m values \u001B[38;5;241m=\u001B[39m arr\u001B[38;5;241m.\u001B[39mastype(\u001B[38;5;28mobject\u001B[39m, copy\u001B[38;5;241m=\u001B[39m\u001B[38;5;28;01mFalse\u001B[39;00m)\n\u001B[0;32m   1813\u001B[0m \u001B[38;5;28;01mif\u001B[39;00m na_action \u001B[38;5;129;01mis\u001B[39;00m \u001B[38;5;28;01mNone\u001B[39;00m:\n\u001B[1;32m-> 1814\u001B[0m     \u001B[38;5;28;01mreturn\u001B[39;00m \u001B[43mlib\u001B[49m\u001B[38;5;241;43m.\u001B[39;49m\u001B[43mmap_infer\u001B[49m\u001B[43m(\u001B[49m\u001B[43mvalues\u001B[49m\u001B[43m,\u001B[49m\u001B[43m \u001B[49m\u001B[43mmapper\u001B[49m\u001B[43m,\u001B[49m\u001B[43m \u001B[49m\u001B[43mconvert\u001B[49m\u001B[38;5;241;43m=\u001B[39;49m\u001B[43mconvert\u001B[49m\u001B[43m)\u001B[49m\n\u001B[0;32m   1815\u001B[0m \u001B[38;5;28;01melse\u001B[39;00m:\n\u001B[0;32m   1816\u001B[0m     \u001B[38;5;28;01mreturn\u001B[39;00m lib\u001B[38;5;241m.\u001B[39mmap_infer_mask(\n\u001B[0;32m   1817\u001B[0m         values, mapper, mask\u001B[38;5;241m=\u001B[39misna(values)\u001B[38;5;241m.\u001B[39mview(np\u001B[38;5;241m.\u001B[39muint8), convert\u001B[38;5;241m=\u001B[39mconvert\n\u001B[0;32m   1818\u001B[0m     )\n",
      "File \u001B[1;32mlib.pyx:2917\u001B[0m, in \u001B[0;36mpandas._libs.lib.map_infer\u001B[1;34m()\u001B[0m\n",
      "Cell \u001B[1;32mIn[37], line 11\u001B[0m, in \u001B[0;36mcalculate_idcg.<locals>.<lambda>\u001B[1;34m(x)\u001B[0m\n\u001B[0;32m      2\u001B[0m \u001B[38;5;250m\u001B[39m\u001B[38;5;124;03m\"\"\"Calculate IDCG for a single query song.\u001B[39;00m\n\u001B[0;32m      3\u001B[0m \u001B[38;5;124;03mArgs:\u001B[39;00m\n\u001B[0;32m      4\u001B[0m \u001B[38;5;124;03m    sample_query (pd.Series): Query song.\u001B[39;00m\n\u001B[1;32m   (...)\u001B[0m\n\u001B[0;32m      8\u001B[0m \u001B[38;5;124;03m    float: IDCG@k\u001B[39;00m\n\u001B[0;32m      9\u001B[0m \u001B[38;5;124;03m\"\"\"\u001B[39;00m\n\u001B[0;32m     10\u001B[0m \u001B[38;5;66;03m# Vectorized calculation of relevance scores\u001B[39;00m\n\u001B[1;32m---> 11\u001B[0m relevance_scores \u001B[38;5;241m=\u001B[39m df[\u001B[38;5;124m'\u001B[39m\u001B[38;5;124mgenre\u001B[39m\u001B[38;5;124m'\u001B[39m]\u001B[38;5;241m.\u001B[39mapply(\u001B[38;5;28;01mlambda\u001B[39;00m x: \u001B[43msorensen_dice_genres\u001B[49m\u001B[43m(\u001B[49m\u001B[43msample_query\u001B[49m\u001B[43m[\u001B[49m\u001B[38;5;124;43m\"\u001B[39;49m\u001B[38;5;124;43mgenre\u001B[39;49m\u001B[38;5;124;43m\"\u001B[39;49m\u001B[43m]\u001B[49m\u001B[43m,\u001B[49m\u001B[43m \u001B[49m\u001B[43mx\u001B[49m\u001B[43m)\u001B[49m)\n\u001B[0;32m     12\u001B[0m \u001B[38;5;66;03m# sort and take top k\u001B[39;00m\n\u001B[0;32m     13\u001B[0m sorted_scores \u001B[38;5;241m=\u001B[39m relevance_scores\u001B[38;5;241m.\u001B[39msort_values(ascending\u001B[38;5;241m=\u001B[39m\u001B[38;5;28;01mFalse\u001B[39;00m)\u001B[38;5;241m.\u001B[39mhead(k)\u001B[38;5;241m.\u001B[39mvalues\n",
      "Cell \u001B[1;32mIn[34], line 9\u001B[0m, in \u001B[0;36msorensen_dice_genres\u001B[1;34m(genre1, genre2)\u001B[0m\n\u001B[0;32m      1\u001B[0m \u001B[38;5;28;01mdef\u001B[39;00m \u001B[38;5;21msorensen_dice_genres\u001B[39m(genre1: \u001B[38;5;28mset\u001B[39m, genre2: \u001B[38;5;28mset\u001B[39m) \u001B[38;5;241m-\u001B[39m\u001B[38;5;241m>\u001B[39m \u001B[38;5;28mfloat\u001B[39m:\n\u001B[0;32m      2\u001B[0m \u001B[38;5;250m    \u001B[39m\u001B[38;5;124;03m\"\"\"Calculate the Sorensen-Dice coefficient for two sets of genres.\u001B[39;00m\n\u001B[0;32m      3\u001B[0m \u001B[38;5;124;03m    Args:\u001B[39;00m\n\u001B[0;32m      4\u001B[0m \u001B[38;5;124;03m        genre1 (set): First set of genres.\u001B[39;00m\n\u001B[1;32m   (...)\u001B[0m\n\u001B[0;32m      7\u001B[0m \u001B[38;5;124;03m        float: Sorensen-Dice coefficient.\u001B[39;00m\n\u001B[0;32m      8\u001B[0m \u001B[38;5;124;03m    \"\"\"\u001B[39;00m\n\u001B[1;32m----> 9\u001B[0m     \u001B[38;5;28;01mreturn\u001B[39;00m \u001B[38;5;241m2\u001B[39m \u001B[38;5;241m*\u001B[39m \u001B[38;5;28mlen\u001B[39m(\u001B[43mgenre1\u001B[49m\u001B[43m \u001B[49m\u001B[38;5;241;43m&\u001B[39;49m\u001B[43m \u001B[49m\u001B[43mgenre2\u001B[49m) \u001B[38;5;241m/\u001B[39m (\u001B[38;5;28mlen\u001B[39m(genre1) \u001B[38;5;241m+\u001B[39m \u001B[38;5;28mlen\u001B[39m(genre2))\n",
      "\u001B[1;31mKeyboardInterrupt\u001B[0m: "
     ]
    }
   ],
   "source": [
    "rs['metrics'] = None\n",
    "\n",
    "for index, row in rs.iterrows():\n",
    "    rs_object = row['rs_object']\n",
    "    metric_name = row['metric']\n",
    "    feature_name = row['feature']\n",
    "    print(f\"Calculating metrics for {metric_name} with {feature_name}...\")\n",
    "\n",
    "    # Calculate metrics\n",
    "    metrics_df = calc_metrics(rs_object, k1=K1, k2=K2, step=STEP)\n",
    "\n",
    "    # Store the metrics DataFrame in the rs DataFrame\n",
    "    rs.at[index, 'metrics'] = metrics_df\n",
    "\n",
    "\n",
    "    # Plotting\n",
    "    plt.figure(figsize=(12, 8))\n",
    "    plt.plot(metrics_df['recall'], metrics_df['precision'], marker='o', label=f\"{metric_name} ({feature_name})\")\n",
    "\n",
    "    # Annotate each point with its k value\n",
    "    for k, recall, precision in zip(metrics_df.index, metrics_df['recall'], metrics_df['precision']):\n",
    "        plt.annotate(f\"k={k}\", (recall, precision), textcoords=\"offset points\", xytext=(0,10), ha='center')\n",
    "\n",
    "    plt.title(f'Precision-Recall Curve for {metric_name} with {feature_name}')\n",
    "    plt.xlabel('Recall')\n",
    "    plt.ylabel('Precision')\n",
    "    plt.legend()\n",
    "    plt.grid(True)\n",
    "    plt.show()"
   ]
  },
  {
   "cell_type": "code",
   "execution_count": null,
   "metadata": {},
   "outputs": [],
   "source": [
    "rs.to_csv(\"task2.csv\", index=False)"
   ]
  },
  {
   "cell_type": "code",
   "execution_count": null,
   "metadata": {},
   "outputs": [],
   "source": []
  },
  {
   "cell_type": "markdown",
   "source": [
    "## Genre Coverage @ 10"
   ],
   "metadata": {
    "collapsed": false
   }
  },
  {
   "cell_type": "code",
   "execution_count": null,
   "outputs": [],
   "source": [
    "unique_genres = set()\n",
    "for g in genres[\"genre\"]:\n",
    "    unique_genres.update(g)\n",
    "\n",
    "print(f\"number of total genres={len(unique_genres)}\")"
   ],
   "metadata": {
    "collapsed": false
   }
  },
  {
   "cell_type": "code",
   "execution_count": null,
   "outputs": [],
   "source": [
    "def genre_coverage_single(query: pd.Series, retrieved: pd.DataFrame):\n",
    "    result_genres = set()\n",
    "    for _, r in retrieved.iterrows():\n",
    "        result_genres.update(r[\"genre\"])\n",
    "\n",
    "    return len(result_genres) / len(unique_genres)\n",
    "\n",
    "\n",
    "results = rs_cos_dnn.retrieve(sample_song)\n",
    "genre_coverage_single(sample_query, results)"
   ],
   "metadata": {
    "collapsed": false
   }
  },
  {
   "cell_type": "code",
   "execution_count": null,
   "outputs": [],
   "source": [
    "def calc_coverage(rs: RetrievalSystem, k=10) -> float:\n",
    "    \"\"\"Calculate genre coverage @k over all queries in the dataset\n",
    "\n",
    "    Args:\n",
    "        rs (RetrievalSystem): The retrieval system.\n",
    "        k (int): number of retrieved results.\n",
    "\n",
    "    Returns:\n",
    "        pd.DataFrame: DataFrame containing the coverage proportion\n",
    "    \"\"\"\n",
    "    result_genres = set()\n",
    "    for _, query in tqdm(rs.df.iterrows(), total=len(rs.df)):\n",
    "        retrieved = rs.retrieve(query[\"id\"], k)\n",
    "        for _, r in retrieved.iterrows():\n",
    "            result_genres.update(r[\"genre\"])\n",
    "\n",
    "    return len(result_genres) / len(unique_genres)"
   ],
   "metadata": {
    "collapsed": false
   }
  },
  {
   "cell_type": "code",
   "execution_count": null,
   "outputs": [],
   "source": [
    "for index, system in rs.iterrows():\n",
    "    rs_object = system['rs_object']\n",
    "    metric_name = system['metric']\n",
    "    feature_name = system['feature']\n",
    "    print(f\"Calculating genre coverage for {metric_name} with {feature_name}...\")\n",
    "    genre_coverage = calc_coverage(rs_object, 10)\n",
    "    rs.at[index, 'genre_coverage'] = genre_coverage\n",
    "\n",
    "rs"
   ],
   "metadata": {
    "collapsed": false
   }
  },
  {
   "cell_type": "code",
   "execution_count": null,
   "outputs": [],
   "source": [],
   "metadata": {
    "collapsed": false
   }
  }
 ],
 "metadata": {
  "kernelspec": {
   "display_name": "Python 3",
   "language": "python",
   "name": "python3"
  },
  "language_info": {
   "codemirror_mode": {
    "name": "ipython",
    "version": 3
   },
   "file_extension": ".py",
   "mimetype": "text/x-python",
   "name": "python",
   "nbconvert_exporter": "python",
   "pygments_lexer": "ipython3",
   "version": "3.11.5"
  }
 },
 "nbformat": 4,
 "nbformat_minor": 0
}
