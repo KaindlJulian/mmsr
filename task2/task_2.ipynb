{
 "cells": [
  {
   "cell_type": "markdown",
   "source": [
    "Read and Explore Data"
   ],
   "metadata": {
    "collapsed": false,
    "pycharm": {
     "name": "#%% md\n"
    }
   }
  },
  {
   "cell_type": "code",
   "execution_count": 56,
   "outputs": [],
   "source": [
    "from task1.retrieval_system import RetrievalSystem, SongInfo\n",
    "from task1.similarity_measure import cosine_similarity\n",
    "from utils import read, embed_and_merge"
   ],
   "metadata": {
    "collapsed": false,
    "pycharm": {
     "name": "#%%\n"
    },
    "ExecuteTime": {
     "end_time": "2023-11-24T01:54:54.283603200Z",
     "start_time": "2023-11-24T01:54:54.272515600Z"
    }
   }
  },
  {
   "cell_type": "code",
   "execution_count": 57,
   "outputs": [
    {
     "data": {
      "text/plain": "                     id                       artist  \\\n0      01Yfj2T3YTwJ1Yfy                  We As Human   \n1      01gyRHLquwXDlhkO         The Notorious B.I.G.   \n2      01rMxQv6vhyE1oQX          Against the Current   \n3      02RGE9FNH65RtMS7                     Barthezz   \n4      02ZnlCGZEbkfCDxo                Laura Pausini   \n...                 ...                          ...   \n10090  zyzILCQvVeUFIINi                Crowded House   \n10091  zzgS4ZqyswamEWNj               Britney Spears   \n10092  zzoFYDMlqU1X2zz1                   Thundercat   \n10093  zzpkRCGA5ud8q4mv                 Otis Redding   \n10094  zzx8CWdM7qkxKQpC  Ted Leo and the Pharmacists   \n\n                                            song  \\\n0      Take The Bullets Away (feat. Lacey Sturm)   \n1                           Somebody's Gotta Die   \n2                                 Chasing Ghosts   \n3                                       Infected   \n4                               Tra Te E Il Mare   \n...                                          ...   \n10090                              When You Come   \n10091                   My Only Wish (This Year)   \n10092                                        DUI   \n10093                               Rock Me Baby   \n10094                    Counting Down the Hours   \n\n                                        album_name  \n0                                      We As Human  \n1            Life After Death (Remastered Edition)  \n2                                     In Our Bones  \n3             Trance - The Early Years (1997-2002)  \n4      The Best of Laura Pausini - E Ritorno Da Te  \n...                                            ...  \n10090                            Temple Of Low Men  \n10091                           Platinum Christmas  \n10092                                        Drunk  \n10093                                    Otis Blue  \n10094                             Shake the Sheets  \n\n[10095 rows x 4 columns]",
      "text/html": "<div>\n<style scoped>\n    .dataframe tbody tr th:only-of-type {\n        vertical-align: middle;\n    }\n\n    .dataframe tbody tr th {\n        vertical-align: top;\n    }\n\n    .dataframe thead th {\n        text-align: right;\n    }\n</style>\n<table border=\"1\" class=\"dataframe\">\n  <thead>\n    <tr style=\"text-align: right;\">\n      <th></th>\n      <th>id</th>\n      <th>artist</th>\n      <th>song</th>\n      <th>album_name</th>\n    </tr>\n  </thead>\n  <tbody>\n    <tr>\n      <th>0</th>\n      <td>01Yfj2T3YTwJ1Yfy</td>\n      <td>We As Human</td>\n      <td>Take The Bullets Away (feat. Lacey Sturm)</td>\n      <td>We As Human</td>\n    </tr>\n    <tr>\n      <th>1</th>\n      <td>01gyRHLquwXDlhkO</td>\n      <td>The Notorious B.I.G.</td>\n      <td>Somebody's Gotta Die</td>\n      <td>Life After Death (Remastered Edition)</td>\n    </tr>\n    <tr>\n      <th>2</th>\n      <td>01rMxQv6vhyE1oQX</td>\n      <td>Against the Current</td>\n      <td>Chasing Ghosts</td>\n      <td>In Our Bones</td>\n    </tr>\n    <tr>\n      <th>3</th>\n      <td>02RGE9FNH65RtMS7</td>\n      <td>Barthezz</td>\n      <td>Infected</td>\n      <td>Trance - The Early Years (1997-2002)</td>\n    </tr>\n    <tr>\n      <th>4</th>\n      <td>02ZnlCGZEbkfCDxo</td>\n      <td>Laura Pausini</td>\n      <td>Tra Te E Il Mare</td>\n      <td>The Best of Laura Pausini - E Ritorno Da Te</td>\n    </tr>\n    <tr>\n      <th>...</th>\n      <td>...</td>\n      <td>...</td>\n      <td>...</td>\n      <td>...</td>\n    </tr>\n    <tr>\n      <th>10090</th>\n      <td>zyzILCQvVeUFIINi</td>\n      <td>Crowded House</td>\n      <td>When You Come</td>\n      <td>Temple Of Low Men</td>\n    </tr>\n    <tr>\n      <th>10091</th>\n      <td>zzgS4ZqyswamEWNj</td>\n      <td>Britney Spears</td>\n      <td>My Only Wish (This Year)</td>\n      <td>Platinum Christmas</td>\n    </tr>\n    <tr>\n      <th>10092</th>\n      <td>zzoFYDMlqU1X2zz1</td>\n      <td>Thundercat</td>\n      <td>DUI</td>\n      <td>Drunk</td>\n    </tr>\n    <tr>\n      <th>10093</th>\n      <td>zzpkRCGA5ud8q4mv</td>\n      <td>Otis Redding</td>\n      <td>Rock Me Baby</td>\n      <td>Otis Blue</td>\n    </tr>\n    <tr>\n      <th>10094</th>\n      <td>zzx8CWdM7qkxKQpC</td>\n      <td>Ted Leo and the Pharmacists</td>\n      <td>Counting Down the Hours</td>\n      <td>Shake the Sheets</td>\n    </tr>\n  </tbody>\n</table>\n<p>10095 rows × 4 columns</p>\n</div>"
     },
     "execution_count": 57,
     "metadata": {},
     "output_type": "execute_result"
    }
   ],
   "source": [
    "# song information from task 1\n",
    "df = read(\"information\", 0)\n",
    "df"
   ],
   "metadata": {
    "collapsed": false,
    "pycharm": {
     "name": "#%%\n"
    },
    "ExecuteTime": {
     "end_time": "2023-11-24T01:54:54.311544300Z",
     "start_time": "2023-11-24T01:54:54.275523200Z"
    }
   }
  },
  {
   "cell_type": "code",
   "execution_count": 58,
   "outputs": [],
   "source": [
    "stats = read(\"mfcc_stats\", 0)\n",
    "df = embed_and_merge(df,stats, \"mfcc_stats\")"
   ],
   "metadata": {
    "collapsed": false,
    "pycharm": {
     "name": "#%%\n"
    },
    "ExecuteTime": {
     "end_time": "2023-11-24T01:54:54.493804500Z",
     "start_time": "2023-11-24T01:54:54.306292400Z"
    }
   }
  },
  {
   "cell_type": "code",
   "execution_count": 59,
   "outputs": [],
   "source": [
    "# read at least one blf feature\n",
    "blf_correlation = read(\"blf_correlation\", 0)\n",
    "df = embed_and_merge(df,blf_correlation, \"blf_correlation\")"
   ],
   "metadata": {
    "collapsed": false,
    "pycharm": {
     "name": "#%%\n"
    },
    "ExecuteTime": {
     "end_time": "2023-11-24T01:54:55.678224200Z",
     "start_time": "2023-11-24T01:54:54.494804400Z"
    }
   }
  },
  {
   "cell_type": "code",
   "execution_count": 60,
   "outputs": [],
   "source": [
    "# read at least one i-vector\n",
    "ivec256 = read(\"ivec256\", 0)\n",
    "df = embed_and_merge(df,ivec256, \"ivec256\")"
   ],
   "metadata": {
    "collapsed": false,
    "pycharm": {
     "name": "#%%\n"
    },
    "ExecuteTime": {
     "end_time": "2023-11-24T01:54:55.879364600Z",
     "start_time": "2023-11-24T01:54:55.680225300Z"
    }
   }
  },
  {
   "cell_type": "code",
   "execution_count": 61,
   "outputs": [],
   "source": [
    "# read DNN-based features\n",
    "musicnn = read(\"musicnn\", 0)\n",
    "df = embed_and_merge(df,musicnn, \"musicnn\")"
   ],
   "metadata": {
    "collapsed": false,
    "pycharm": {
     "name": "#%%\n"
    },
    "ExecuteTime": {
     "end_time": "2023-11-24T01:54:55.959133100Z",
     "start_time": "2023-11-24T01:54:55.879364600Z"
    }
   }
  },
  {
   "cell_type": "code",
   "execution_count": 62,
   "outputs": [
    {
     "data": {
      "text/plain": "                     id                       artist  \\\n0      01Yfj2T3YTwJ1Yfy                  We As Human   \n1      01gyRHLquwXDlhkO         The Notorious B.I.G.   \n2      01rMxQv6vhyE1oQX          Against the Current   \n3      02RGE9FNH65RtMS7                     Barthezz   \n4      02ZnlCGZEbkfCDxo                Laura Pausini   \n...                 ...                          ...   \n10090  zyzILCQvVeUFIINi                Crowded House   \n10091  zzgS4ZqyswamEWNj               Britney Spears   \n10092  zzoFYDMlqU1X2zz1                   Thundercat   \n10093  zzpkRCGA5ud8q4mv                 Otis Redding   \n10094  zzx8CWdM7qkxKQpC  Ted Leo and the Pharmacists   \n\n                                            song  \\\n0      Take The Bullets Away (feat. Lacey Sturm)   \n1                           Somebody's Gotta Die   \n2                                 Chasing Ghosts   \n3                                       Infected   \n4                               Tra Te E Il Mare   \n...                                          ...   \n10090                              When You Come   \n10091                   My Only Wish (This Year)   \n10092                                        DUI   \n10093                               Rock Me Baby   \n10094                    Counting Down the Hours   \n\n                                        album_name  \\\n0                                      We As Human   \n1            Life After Death (Remastered Edition)   \n2                                     In Our Bones   \n3             Trance - The Early Years (1997-2002)   \n4      The Best of Laura Pausini - E Ritorno Da Te   \n...                                            ...   \n10090                            Temple Of Low Men   \n10091                           Platinum Christmas   \n10092                                        Drunk   \n10093                                    Otis Blue   \n10094                             Shake the Sheets   \n\n                                              mfcc_stats  \\\n0      [24.25895881652832, -17.8166446685791, -8.8412...   \n1      [22.731481552124023, -12.233457565307615, 2.38...   \n2      [23.51895332336425, -6.821128845214844, -11.87...   \n3      [21.82469749450684, -18.16270637512207, -3.055...   \n4      [22.813617706298828, -10.896334648132324, -3.0...   \n...                                                  ...   \n10090  [22.96260452270508, -12.08309268951416, -15.60...   \n10091  [24.031391143798828, -9.624011039733888, -2.71...   \n10092  [23.589040756225582, 5.548734188079834, -11.54...   \n10093  [22.51743125915528, -8.450329780578612, -7.849...   \n10094  [23.63854217529297, -12.907976150512695, -11.8...   \n\n                                         blf_correlation  \\\n0      [0.000213901, 6.68382e-05, 1.74546e-05, 8.7012...   \n1      [0.000398221, 0.000208523, 0.000155146, 0.0002...   \n2      [0.000297523, 0.000194609, 0.000170691, 0.0001...   \n3      [0.000341214, 0.00022616, 0.000144324, 0.00011...   \n4      [0.000315115, 0.000145457, 0.000115773, 0.0001...   \n...                                                  ...   \n10090  [0.000227064, 0.000169578, 0.000120345, 0.0001...   \n10091  [0.000344997, 0.000124155, 4.1942e-05, 4.21234...   \n10092  [0.00045486, 0.000269068, 0.000182993, 0.00016...   \n10093  [0.000337909, -6.53055e-05, -1.8725e-05, 3.600...   \n10094  [0.000520561, 3.32153e-05, 0.000115006, 5.2321...   \n\n                                                 ivec256  \\\n0      [-0.4192236661911011, -1.262790322303772, -0.3...   \n1      [1.4574661254882812, 0.619476318359375, -0.351...   \n2      [1.1996194124221802, -0.2549396753311157, 0.48...   \n3      [-0.6352253556251526, 0.6530497074127197, -1.6...   \n4      [-0.1336851567029953, 0.2777222692966461, -0.2...   \n...                                                  ...   \n10090  [-0.7924780249595642, -0.1670402139425277, -0....   \n10091  [-0.5068019032478333, -0.5763552188873291, 0.5...   \n10092  [-0.6007039546966553, 0.0078461170196533, 1.47...   \n10093  [-0.8984915018081665, 0.3358610570430756, -0.6...   \n10094  [0.2389325052499771, -0.4458280205726624, -0.3...   \n\n                                                 musicnn  \n0      [0.12903129, 0.0011226882, 0.0065768533, 0.082...  \n1      [0.026824217, 0.00087343465, 0.009360876, 0.31...  \n2      [0.2518178, 0.0043474026, 0.07843659, 0.056584...  \n3      [0.00045163534, 0.0013956887, 0.002990173, 0.8...  \n4      [0.21950364, 0.011686802, 0.054231934, 0.06058...  \n...                                                  ...  \n10090  [0.07816198, 0.028270144, 0.036110856, 0.16444...  \n10091  [0.13354015, 0.0006341115, 0.015991116, 0.1121...  \n10092  [0.35324243, 0.21061507, 0.21161962, 0.0117739...  \n10093  [0.3110698, 0.030005153, 0.053962547, 0.041860...  \n10094  [0.20314741, 0.0004737083, 0.007147183, 0.1303...  \n\n[10095 rows x 8 columns]",
      "text/html": "<div>\n<style scoped>\n    .dataframe tbody tr th:only-of-type {\n        vertical-align: middle;\n    }\n\n    .dataframe tbody tr th {\n        vertical-align: top;\n    }\n\n    .dataframe thead th {\n        text-align: right;\n    }\n</style>\n<table border=\"1\" class=\"dataframe\">\n  <thead>\n    <tr style=\"text-align: right;\">\n      <th></th>\n      <th>id</th>\n      <th>artist</th>\n      <th>song</th>\n      <th>album_name</th>\n      <th>mfcc_stats</th>\n      <th>blf_correlation</th>\n      <th>ivec256</th>\n      <th>musicnn</th>\n    </tr>\n  </thead>\n  <tbody>\n    <tr>\n      <th>0</th>\n      <td>01Yfj2T3YTwJ1Yfy</td>\n      <td>We As Human</td>\n      <td>Take The Bullets Away (feat. Lacey Sturm)</td>\n      <td>We As Human</td>\n      <td>[24.25895881652832, -17.8166446685791, -8.8412...</td>\n      <td>[0.000213901, 6.68382e-05, 1.74546e-05, 8.7012...</td>\n      <td>[-0.4192236661911011, -1.262790322303772, -0.3...</td>\n      <td>[0.12903129, 0.0011226882, 0.0065768533, 0.082...</td>\n    </tr>\n    <tr>\n      <th>1</th>\n      <td>01gyRHLquwXDlhkO</td>\n      <td>The Notorious B.I.G.</td>\n      <td>Somebody's Gotta Die</td>\n      <td>Life After Death (Remastered Edition)</td>\n      <td>[22.731481552124023, -12.233457565307615, 2.38...</td>\n      <td>[0.000398221, 0.000208523, 0.000155146, 0.0002...</td>\n      <td>[1.4574661254882812, 0.619476318359375, -0.351...</td>\n      <td>[0.026824217, 0.00087343465, 0.009360876, 0.31...</td>\n    </tr>\n    <tr>\n      <th>2</th>\n      <td>01rMxQv6vhyE1oQX</td>\n      <td>Against the Current</td>\n      <td>Chasing Ghosts</td>\n      <td>In Our Bones</td>\n      <td>[23.51895332336425, -6.821128845214844, -11.87...</td>\n      <td>[0.000297523, 0.000194609, 0.000170691, 0.0001...</td>\n      <td>[1.1996194124221802, -0.2549396753311157, 0.48...</td>\n      <td>[0.2518178, 0.0043474026, 0.07843659, 0.056584...</td>\n    </tr>\n    <tr>\n      <th>3</th>\n      <td>02RGE9FNH65RtMS7</td>\n      <td>Barthezz</td>\n      <td>Infected</td>\n      <td>Trance - The Early Years (1997-2002)</td>\n      <td>[21.82469749450684, -18.16270637512207, -3.055...</td>\n      <td>[0.000341214, 0.00022616, 0.000144324, 0.00011...</td>\n      <td>[-0.6352253556251526, 0.6530497074127197, -1.6...</td>\n      <td>[0.00045163534, 0.0013956887, 0.002990173, 0.8...</td>\n    </tr>\n    <tr>\n      <th>4</th>\n      <td>02ZnlCGZEbkfCDxo</td>\n      <td>Laura Pausini</td>\n      <td>Tra Te E Il Mare</td>\n      <td>The Best of Laura Pausini - E Ritorno Da Te</td>\n      <td>[22.813617706298828, -10.896334648132324, -3.0...</td>\n      <td>[0.000315115, 0.000145457, 0.000115773, 0.0001...</td>\n      <td>[-0.1336851567029953, 0.2777222692966461, -0.2...</td>\n      <td>[0.21950364, 0.011686802, 0.054231934, 0.06058...</td>\n    </tr>\n    <tr>\n      <th>...</th>\n      <td>...</td>\n      <td>...</td>\n      <td>...</td>\n      <td>...</td>\n      <td>...</td>\n      <td>...</td>\n      <td>...</td>\n      <td>...</td>\n    </tr>\n    <tr>\n      <th>10090</th>\n      <td>zyzILCQvVeUFIINi</td>\n      <td>Crowded House</td>\n      <td>When You Come</td>\n      <td>Temple Of Low Men</td>\n      <td>[22.96260452270508, -12.08309268951416, -15.60...</td>\n      <td>[0.000227064, 0.000169578, 0.000120345, 0.0001...</td>\n      <td>[-0.7924780249595642, -0.1670402139425277, -0....</td>\n      <td>[0.07816198, 0.028270144, 0.036110856, 0.16444...</td>\n    </tr>\n    <tr>\n      <th>10091</th>\n      <td>zzgS4ZqyswamEWNj</td>\n      <td>Britney Spears</td>\n      <td>My Only Wish (This Year)</td>\n      <td>Platinum Christmas</td>\n      <td>[24.031391143798828, -9.624011039733888, -2.71...</td>\n      <td>[0.000344997, 0.000124155, 4.1942e-05, 4.21234...</td>\n      <td>[-0.5068019032478333, -0.5763552188873291, 0.5...</td>\n      <td>[0.13354015, 0.0006341115, 0.015991116, 0.1121...</td>\n    </tr>\n    <tr>\n      <th>10092</th>\n      <td>zzoFYDMlqU1X2zz1</td>\n      <td>Thundercat</td>\n      <td>DUI</td>\n      <td>Drunk</td>\n      <td>[23.589040756225582, 5.548734188079834, -11.54...</td>\n      <td>[0.00045486, 0.000269068, 0.000182993, 0.00016...</td>\n      <td>[-0.6007039546966553, 0.0078461170196533, 1.47...</td>\n      <td>[0.35324243, 0.21061507, 0.21161962, 0.0117739...</td>\n    </tr>\n    <tr>\n      <th>10093</th>\n      <td>zzpkRCGA5ud8q4mv</td>\n      <td>Otis Redding</td>\n      <td>Rock Me Baby</td>\n      <td>Otis Blue</td>\n      <td>[22.51743125915528, -8.450329780578612, -7.849...</td>\n      <td>[0.000337909, -6.53055e-05, -1.8725e-05, 3.600...</td>\n      <td>[-0.8984915018081665, 0.3358610570430756, -0.6...</td>\n      <td>[0.3110698, 0.030005153, 0.053962547, 0.041860...</td>\n    </tr>\n    <tr>\n      <th>10094</th>\n      <td>zzx8CWdM7qkxKQpC</td>\n      <td>Ted Leo and the Pharmacists</td>\n      <td>Counting Down the Hours</td>\n      <td>Shake the Sheets</td>\n      <td>[23.63854217529297, -12.907976150512695, -11.8...</td>\n      <td>[0.000520561, 3.32153e-05, 0.000115006, 5.2321...</td>\n      <td>[0.2389325052499771, -0.4458280205726624, -0.3...</td>\n      <td>[0.20314741, 0.0004737083, 0.007147183, 0.1303...</td>\n    </tr>\n  </tbody>\n</table>\n<p>10095 rows × 8 columns</p>\n</div>"
     },
     "execution_count": 62,
     "metadata": {},
     "output_type": "execute_result"
    }
   ],
   "source": [
    "df"
   ],
   "metadata": {
    "collapsed": false,
    "pycharm": {
     "name": "#%%\n"
    },
    "ExecuteTime": {
     "end_time": "2023-11-24T01:54:55.996187400Z",
     "start_time": "2023-11-24T01:54:55.960132700Z"
    }
   }
  },
  {
   "cell_type": "code",
   "execution_count": 63,
   "outputs": [],
   "source": [
    "# data for task 2 does not include the item with id \"03Oc9WeMEmyLLQbj\" = row 5\n",
    "df = df.drop(5)\n",
    "df = df.reset_index()"
   ],
   "metadata": {
    "collapsed": false,
    "pycharm": {
     "name": "#%%\n"
    },
    "ExecuteTime": {
     "end_time": "2023-11-24T01:54:56.006193900Z",
     "start_time": "2023-11-24T01:54:55.991683200Z"
    }
   }
  },
  {
   "cell_type": "code",
   "execution_count": 64,
   "outputs": [
    {
     "data": {
      "text/plain": "   index                id            artist                    song  \\\n0   3950  OLY5uYSJd8A0NZT8       Carole King          Where You Lead   \n1   5536  Y8XwpDYUHZrrgSqZ  Lucinda Williams        Side of the Road   \n2   9634  x2zgTDMJsmPSYhUG            Delain                 Scarlet   \n3   7864  mOwhoDPh4nMkGwqc      Kate Voegele  Who You Are Without Me   \n4   8570  qX1iqWO4FooaZBx3      Taylor Swift        Out of the Woods   \n5   8970  t5JocX3qtyzAvL2y           Shakira                    Nada   \n6   2657  GD2tddH1GpFJrynx           Rihanna                     SOS   \n7   3311  KHtJkaWozyCzsxvf   Vanessa Carlton         Dear California   \n8   8590  qehDEVqWUfOVqGI3      Alessia Cara             Wild Things   \n9   4678  Sefx1sO8gFuUmYPo      Karen Dalton                 Take Me   \n\n                          album_name  \\\n0                           Tapestry   \n1  Lucinda Williams (Deluxe Edition)   \n2                      Hunter's Moon   \n3               A Fine Mess (Deluxe)   \n4                               1989   \n5                          El Dorado   \n6                     A Girl Like Me   \n7                 Rabbits On The Run   \n8               Know-It-All (Deluxe)   \n9                     In My Own Time   \n\n                                          mfcc_stats  \\\n0  [22.39505195617676, -0.2460143566131592, -15.0...   \n1  [21.704072952270508, -8.817829132080078, -10.3...   \n2  [22.367584228515625, 3.232406616210937, -8.465...   \n3  [23.88380241394043, -13.40510368347168, -3.490...   \n4  [23.62421989440918, -9.420190811157228, -8.082...   \n5  [22.50250625610352, -3.3227474689483643, -7.25...   \n6  [22.41155815124512, -16.922616958618164, -6.92...   \n7  [22.916927337646484, 8.515358924865723, -10.94...   \n8  [21.580171585083008, -8.49921703338623, -4.236...   \n9  [22.525957107543945, 1.364895582199097, -6.634...   \n\n                                     blf_correlation  \\\n0  [0.000375508, 0.000179147, 0.000212321, 0.0002...   \n1  [0.000380118, 0.000277712, 0.000248485, 0.0001...   \n2  [0.000315168, 6.23515e-05, 6.37698e-05, 5.6759...   \n3  [0.00036575, 0.000131222, 8.00661e-05, 7.96059...   \n4  [0.000316083, 0.000117676, 7.36643e-05, 3.8748...   \n5  [0.000419298, 0.000194176, 0.000155355, 0.0001...   \n6  [0.000237426, 0.000122243, 1.29681e-05, 5.4691...   \n7  [0.000353634, 0.000152956, 0.000110587, 0.0001...   \n8  [0.000270009, 0.000125692, 0.000111254, 6.8573...   \n9  [0.0003921, 0.000262717, 0.000225372, 0.000216...   \n\n                                             ivec256  \\\n0  [0.6618226170539856, 0.9161968231201172, 0.069...   \n1  [0.6802855730056763, 1.092997431755066, -1.183...   \n2  [-0.2542663216590881, 1.123204231262207, 0.839...   \n3  [0.4426584243774414, -0.4588735401630402, 0.04...   \n4  [1.0619243383407593, 0.0714950636029243, -0.06...   \n5  [0.6359465718269348, 0.7665691971778871, 0.008...   \n6  [-0.6834240555763245, 0.344792366027832, -1.50...   \n7  [1.011962890625, 0.8595239520072937, 1.2330449...   \n8  [0.5118478536605835, 1.456411838531494, -0.808...   \n9  [-0.1709485650062561, 0.832007110118866, 0.441...   \n\n                                             musicnn  similarity  \n0  [0.21676192, 0.003101186, 0.04934727, 0.013721...    0.940721  \n1  [0.4785863, 0.010899811, 0.13498126, 0.0020615...    0.939802  \n2  [0.124039076, 0.04940868, 0.14088242, 0.026508...    0.937873  \n3  [0.27268356, 0.0003572746, 0.022692952, 0.0438...    0.936933  \n4  [0.05067156, 0.001142898, 0.029031912, 0.25323...    0.936825  \n5  [0.30008784, 0.009558737, 0.0876172, 0.0481498...    0.935989  \n6  [0.03849595, 0.00047592833, 0.011833316, 0.371...    0.935635  \n7  [0.3016025, 0.060036324, 0.18375929, 0.0118908...    0.935512  \n8  [0.060584974, 0.0029608307, 0.03039549, 0.0198...    0.934416  \n9  [0.40842003, 0.014682097, 0.18330127, 0.011027...    0.934107  ",
      "text/html": "<div>\n<style scoped>\n    .dataframe tbody tr th:only-of-type {\n        vertical-align: middle;\n    }\n\n    .dataframe tbody tr th {\n        vertical-align: top;\n    }\n\n    .dataframe thead th {\n        text-align: right;\n    }\n</style>\n<table border=\"1\" class=\"dataframe\">\n  <thead>\n    <tr style=\"text-align: right;\">\n      <th></th>\n      <th>index</th>\n      <th>id</th>\n      <th>artist</th>\n      <th>song</th>\n      <th>album_name</th>\n      <th>mfcc_stats</th>\n      <th>blf_correlation</th>\n      <th>ivec256</th>\n      <th>musicnn</th>\n      <th>similarity</th>\n    </tr>\n  </thead>\n  <tbody>\n    <tr>\n      <th>0</th>\n      <td>3950</td>\n      <td>OLY5uYSJd8A0NZT8</td>\n      <td>Carole King</td>\n      <td>Where You Lead</td>\n      <td>Tapestry</td>\n      <td>[22.39505195617676, -0.2460143566131592, -15.0...</td>\n      <td>[0.000375508, 0.000179147, 0.000212321, 0.0002...</td>\n      <td>[0.6618226170539856, 0.9161968231201172, 0.069...</td>\n      <td>[0.21676192, 0.003101186, 0.04934727, 0.013721...</td>\n      <td>0.940721</td>\n    </tr>\n    <tr>\n      <th>1</th>\n      <td>5536</td>\n      <td>Y8XwpDYUHZrrgSqZ</td>\n      <td>Lucinda Williams</td>\n      <td>Side of the Road</td>\n      <td>Lucinda Williams (Deluxe Edition)</td>\n      <td>[21.704072952270508, -8.817829132080078, -10.3...</td>\n      <td>[0.000380118, 0.000277712, 0.000248485, 0.0001...</td>\n      <td>[0.6802855730056763, 1.092997431755066, -1.183...</td>\n      <td>[0.4785863, 0.010899811, 0.13498126, 0.0020615...</td>\n      <td>0.939802</td>\n    </tr>\n    <tr>\n      <th>2</th>\n      <td>9634</td>\n      <td>x2zgTDMJsmPSYhUG</td>\n      <td>Delain</td>\n      <td>Scarlet</td>\n      <td>Hunter's Moon</td>\n      <td>[22.367584228515625, 3.232406616210937, -8.465...</td>\n      <td>[0.000315168, 6.23515e-05, 6.37698e-05, 5.6759...</td>\n      <td>[-0.2542663216590881, 1.123204231262207, 0.839...</td>\n      <td>[0.124039076, 0.04940868, 0.14088242, 0.026508...</td>\n      <td>0.937873</td>\n    </tr>\n    <tr>\n      <th>3</th>\n      <td>7864</td>\n      <td>mOwhoDPh4nMkGwqc</td>\n      <td>Kate Voegele</td>\n      <td>Who You Are Without Me</td>\n      <td>A Fine Mess (Deluxe)</td>\n      <td>[23.88380241394043, -13.40510368347168, -3.490...</td>\n      <td>[0.00036575, 0.000131222, 8.00661e-05, 7.96059...</td>\n      <td>[0.4426584243774414, -0.4588735401630402, 0.04...</td>\n      <td>[0.27268356, 0.0003572746, 0.022692952, 0.0438...</td>\n      <td>0.936933</td>\n    </tr>\n    <tr>\n      <th>4</th>\n      <td>8570</td>\n      <td>qX1iqWO4FooaZBx3</td>\n      <td>Taylor Swift</td>\n      <td>Out of the Woods</td>\n      <td>1989</td>\n      <td>[23.62421989440918, -9.420190811157228, -8.082...</td>\n      <td>[0.000316083, 0.000117676, 7.36643e-05, 3.8748...</td>\n      <td>[1.0619243383407593, 0.0714950636029243, -0.06...</td>\n      <td>[0.05067156, 0.001142898, 0.029031912, 0.25323...</td>\n      <td>0.936825</td>\n    </tr>\n    <tr>\n      <th>5</th>\n      <td>8970</td>\n      <td>t5JocX3qtyzAvL2y</td>\n      <td>Shakira</td>\n      <td>Nada</td>\n      <td>El Dorado</td>\n      <td>[22.50250625610352, -3.3227474689483643, -7.25...</td>\n      <td>[0.000419298, 0.000194176, 0.000155355, 0.0001...</td>\n      <td>[0.6359465718269348, 0.7665691971778871, 0.008...</td>\n      <td>[0.30008784, 0.009558737, 0.0876172, 0.0481498...</td>\n      <td>0.935989</td>\n    </tr>\n    <tr>\n      <th>6</th>\n      <td>2657</td>\n      <td>GD2tddH1GpFJrynx</td>\n      <td>Rihanna</td>\n      <td>SOS</td>\n      <td>A Girl Like Me</td>\n      <td>[22.41155815124512, -16.922616958618164, -6.92...</td>\n      <td>[0.000237426, 0.000122243, 1.29681e-05, 5.4691...</td>\n      <td>[-0.6834240555763245, 0.344792366027832, -1.50...</td>\n      <td>[0.03849595, 0.00047592833, 0.011833316, 0.371...</td>\n      <td>0.935635</td>\n    </tr>\n    <tr>\n      <th>7</th>\n      <td>3311</td>\n      <td>KHtJkaWozyCzsxvf</td>\n      <td>Vanessa Carlton</td>\n      <td>Dear California</td>\n      <td>Rabbits On The Run</td>\n      <td>[22.916927337646484, 8.515358924865723, -10.94...</td>\n      <td>[0.000353634, 0.000152956, 0.000110587, 0.0001...</td>\n      <td>[1.011962890625, 0.8595239520072937, 1.2330449...</td>\n      <td>[0.3016025, 0.060036324, 0.18375929, 0.0118908...</td>\n      <td>0.935512</td>\n    </tr>\n    <tr>\n      <th>8</th>\n      <td>8590</td>\n      <td>qehDEVqWUfOVqGI3</td>\n      <td>Alessia Cara</td>\n      <td>Wild Things</td>\n      <td>Know-It-All (Deluxe)</td>\n      <td>[21.580171585083008, -8.49921703338623, -4.236...</td>\n      <td>[0.000270009, 0.000125692, 0.000111254, 6.8573...</td>\n      <td>[0.5118478536605835, 1.456411838531494, -0.808...</td>\n      <td>[0.060584974, 0.0029608307, 0.03039549, 0.0198...</td>\n      <td>0.934416</td>\n    </tr>\n    <tr>\n      <th>9</th>\n      <td>4678</td>\n      <td>Sefx1sO8gFuUmYPo</td>\n      <td>Karen Dalton</td>\n      <td>Take Me</td>\n      <td>In My Own Time</td>\n      <td>[22.525957107543945, 1.364895582199097, -6.634...</td>\n      <td>[0.0003921, 0.000262717, 0.000225372, 0.000216...</td>\n      <td>[-0.1709485650062561, 0.832007110118866, 0.441...</td>\n      <td>[0.40842003, 0.014682097, 0.18330127, 0.011027...</td>\n      <td>0.934107</td>\n    </tr>\n  </tbody>\n</table>\n</div>"
     },
     "execution_count": 64,
     "metadata": {},
     "output_type": "execute_result"
    }
   ],
   "source": [
    "# test run 1 can remove later\n",
    "rs_mfcc = RetrievalSystem(df, cosine_similarity, \"mfcc_stats\")\n",
    "sample_song = SongInfo(title=\"Zombie\", artist=\"The Cranberries\")\n",
    "rs_mfcc.retrieve(sample_song, n=10)"
   ],
   "metadata": {
    "collapsed": false,
    "pycharm": {
     "name": "#%%\n"
    },
    "ExecuteTime": {
     "end_time": "2023-11-24T01:54:56.116266500Z",
     "start_time": "2023-11-24T01:54:56.008394400Z"
    }
   }
  },
  {
   "cell_type": "code",
   "execution_count": 65,
   "outputs": [
    {
     "data": {
      "text/plain": "   index                id           artist  \\\n0    790  4glaLmaXFAdOw5b2    Kristen Barry   \n1   4469  RQJ8biiC0Ed7MKyY          Shakira   \n2   9954  z14vWV00cAGeBT9P              Céu   \n3    386  29oADILKxhOHvgvQ       Lucy Dacus   \n4   7650  lBbxNiUrl7pF1H4c      Kadebostany   \n5   1584  9SUQfSsDIBOh3QSV    Priscilla Ahn   \n6   9669  xEbmBtcR1wQcnk3y  Julieta Venegas   \n7   1147  6vbf44Iw7PzRxUWH     Taylor Swift   \n8   9008  tJHK6mqbsr1ebi7Z     Shania Twain   \n9   6590  ekH6L9IN4ziWuKuG   Britney Spears   \n\n                                  song                        album_name  \\\n0                        Ordinary Life                  Cruel Intentions   \n1                          Sale el Sol                       Sale el Sol   \n2                                Lenda                               CéU   \n3            Troublemaker Doppelgänger                         No Burden   \n4                   Castle in the Snow                    Pop Collection   \n5                     Masters In China                        A Good Day   \n6                               Oleada                                Si   \n7                         The Best Day                          Fearless   \n8  Dance With The One That Brought You                      Shania Twain   \n9                     When I Found You  Britney (Digital Deluxe Version)   \n\n                                          mfcc_stats  \\\n0  [22.057233810424805, -0.5686935782432556, 0.22...   \n1  [21.2146053314209, -4.490764141082764, -3.4664...   \n2  [21.96417999267578, -3.966743469238281, -1.263...   \n3  [22.33033943176269, 5.885491847991943, -7.6081...   \n4  [22.77975654602051, 0.2929881811141968, -11.53...   \n5  [23.06795692443848, 0.5022763609886169, 2.6192...   \n6  [21.73521041870117, -0.43739452958107, -4.1257...   \n7  [21.48662567138672, -2.316234588623047, 1.0287...   \n8  [20.65281867980957, -13.06024932861328, -3.607...   \n9  [21.588069915771484, -2.752606153488159, -4.69...   \n\n                                     blf_correlation  \\\n0  [0.000424192, 0.000237412, 0.000199266, 9.0839...   \n1  [0.000360258, 0.000206534, 0.000156838, 0.0001...   \n2  [0.00033258, 0.000208392, 0.000184023, 0.00023...   \n3  [0.00038157, 0.000188556, 0.000205136, 0.00019...   \n4  [0.000326351, 0.00023438, 0.000241865, 0.00027...   \n5  [0.000444955, 0.000281465, 0.000263832, 0.0002...   \n6  [0.000489124, 0.000323133, 0.00013004, 0.00012...   \n7  [0.000330443, 0.000106017, 0.000101973, 0.0001...   \n8  [0.000370531, 0.000175189, 0.000213026, 0.0001...   \n9  [0.000466905, 0.000337481, 0.000246264, 0.0001...   \n\n                                             ivec256  \\\n0  [0.9454425573349, 1.2708547115325928, 0.325989...   \n1  [1.8669582605361936, 1.892633914947509, -1.045...   \n2  [1.7744811773300169, 1.3900917768478394, -0.28...   \n3  [0.5575369000434875, 1.3157860040664673, 0.573...   \n4  [1.3591880798339844, 0.6209864020347595, 0.309...   \n5  [2.129467725753784, 1.0896250009536743, 0.6828...   \n6  [1.5788124799728394, 1.6625230312347412, 0.228...   \n7  [-0.5983439087867737, 1.6506197452545166, -0.1...   \n8  [1.2930843830108645, 1.5080833435058594, -1.48...   \n9  [2.7151670455932617, 1.8055323362350464, 0.157...   \n\n                                             musicnn  similarity  \n0  [0.4182759, 0.007046508, 0.18775995, 0.0074302...    0.987132  \n1  [0.36982688, 0.009932475, 0.18211164, 0.019003...    0.985367  \n2  [0.2876089, 0.00694283, 0.09736701, 0.02208063...    0.985336  \n3  [0.32060316, 0.0129062785, 0.13242425, 0.02154...    0.984114  \n4  [0.27542847, 0.0085207485, 0.17537211, 0.01616...    0.983854  \n5  [0.42481366, 0.0026636927, 0.19867267, 0.00749...    0.983130  \n6  [0.44143254, 0.0077322265, 0.21047759, 0.00914...    0.982718  \n7  [0.4190213, 0.006415901, 0.16974963, 0.0041287...    0.982597  \n8  [0.28720874, 0.024735227, 0.124359, 0.00537671...    0.981084  \n9  [0.32458788, 0.006880934, 0.12804456, 0.010993...    0.979875  ",
      "text/html": "<div>\n<style scoped>\n    .dataframe tbody tr th:only-of-type {\n        vertical-align: middle;\n    }\n\n    .dataframe tbody tr th {\n        vertical-align: top;\n    }\n\n    .dataframe thead th {\n        text-align: right;\n    }\n</style>\n<table border=\"1\" class=\"dataframe\">\n  <thead>\n    <tr style=\"text-align: right;\">\n      <th></th>\n      <th>index</th>\n      <th>id</th>\n      <th>artist</th>\n      <th>song</th>\n      <th>album_name</th>\n      <th>mfcc_stats</th>\n      <th>blf_correlation</th>\n      <th>ivec256</th>\n      <th>musicnn</th>\n      <th>similarity</th>\n    </tr>\n  </thead>\n  <tbody>\n    <tr>\n      <th>0</th>\n      <td>790</td>\n      <td>4glaLmaXFAdOw5b2</td>\n      <td>Kristen Barry</td>\n      <td>Ordinary Life</td>\n      <td>Cruel Intentions</td>\n      <td>[22.057233810424805, -0.5686935782432556, 0.22...</td>\n      <td>[0.000424192, 0.000237412, 0.000199266, 9.0839...</td>\n      <td>[0.9454425573349, 1.2708547115325928, 0.325989...</td>\n      <td>[0.4182759, 0.007046508, 0.18775995, 0.0074302...</td>\n      <td>0.987132</td>\n    </tr>\n    <tr>\n      <th>1</th>\n      <td>4469</td>\n      <td>RQJ8biiC0Ed7MKyY</td>\n      <td>Shakira</td>\n      <td>Sale el Sol</td>\n      <td>Sale el Sol</td>\n      <td>[21.2146053314209, -4.490764141082764, -3.4664...</td>\n      <td>[0.000360258, 0.000206534, 0.000156838, 0.0001...</td>\n      <td>[1.8669582605361936, 1.892633914947509, -1.045...</td>\n      <td>[0.36982688, 0.009932475, 0.18211164, 0.019003...</td>\n      <td>0.985367</td>\n    </tr>\n    <tr>\n      <th>2</th>\n      <td>9954</td>\n      <td>z14vWV00cAGeBT9P</td>\n      <td>Céu</td>\n      <td>Lenda</td>\n      <td>CéU</td>\n      <td>[21.96417999267578, -3.966743469238281, -1.263...</td>\n      <td>[0.00033258, 0.000208392, 0.000184023, 0.00023...</td>\n      <td>[1.7744811773300169, 1.3900917768478394, -0.28...</td>\n      <td>[0.2876089, 0.00694283, 0.09736701, 0.02208063...</td>\n      <td>0.985336</td>\n    </tr>\n    <tr>\n      <th>3</th>\n      <td>386</td>\n      <td>29oADILKxhOHvgvQ</td>\n      <td>Lucy Dacus</td>\n      <td>Troublemaker Doppelgänger</td>\n      <td>No Burden</td>\n      <td>[22.33033943176269, 5.885491847991943, -7.6081...</td>\n      <td>[0.00038157, 0.000188556, 0.000205136, 0.00019...</td>\n      <td>[0.5575369000434875, 1.3157860040664673, 0.573...</td>\n      <td>[0.32060316, 0.0129062785, 0.13242425, 0.02154...</td>\n      <td>0.984114</td>\n    </tr>\n    <tr>\n      <th>4</th>\n      <td>7650</td>\n      <td>lBbxNiUrl7pF1H4c</td>\n      <td>Kadebostany</td>\n      <td>Castle in the Snow</td>\n      <td>Pop Collection</td>\n      <td>[22.77975654602051, 0.2929881811141968, -11.53...</td>\n      <td>[0.000326351, 0.00023438, 0.000241865, 0.00027...</td>\n      <td>[1.3591880798339844, 0.6209864020347595, 0.309...</td>\n      <td>[0.27542847, 0.0085207485, 0.17537211, 0.01616...</td>\n      <td>0.983854</td>\n    </tr>\n    <tr>\n      <th>5</th>\n      <td>1584</td>\n      <td>9SUQfSsDIBOh3QSV</td>\n      <td>Priscilla Ahn</td>\n      <td>Masters In China</td>\n      <td>A Good Day</td>\n      <td>[23.06795692443848, 0.5022763609886169, 2.6192...</td>\n      <td>[0.000444955, 0.000281465, 0.000263832, 0.0002...</td>\n      <td>[2.129467725753784, 1.0896250009536743, 0.6828...</td>\n      <td>[0.42481366, 0.0026636927, 0.19867267, 0.00749...</td>\n      <td>0.983130</td>\n    </tr>\n    <tr>\n      <th>6</th>\n      <td>9669</td>\n      <td>xEbmBtcR1wQcnk3y</td>\n      <td>Julieta Venegas</td>\n      <td>Oleada</td>\n      <td>Si</td>\n      <td>[21.73521041870117, -0.43739452958107, -4.1257...</td>\n      <td>[0.000489124, 0.000323133, 0.00013004, 0.00012...</td>\n      <td>[1.5788124799728394, 1.6625230312347412, 0.228...</td>\n      <td>[0.44143254, 0.0077322265, 0.21047759, 0.00914...</td>\n      <td>0.982718</td>\n    </tr>\n    <tr>\n      <th>7</th>\n      <td>1147</td>\n      <td>6vbf44Iw7PzRxUWH</td>\n      <td>Taylor Swift</td>\n      <td>The Best Day</td>\n      <td>Fearless</td>\n      <td>[21.48662567138672, -2.316234588623047, 1.0287...</td>\n      <td>[0.000330443, 0.000106017, 0.000101973, 0.0001...</td>\n      <td>[-0.5983439087867737, 1.6506197452545166, -0.1...</td>\n      <td>[0.4190213, 0.006415901, 0.16974963, 0.0041287...</td>\n      <td>0.982597</td>\n    </tr>\n    <tr>\n      <th>8</th>\n      <td>9008</td>\n      <td>tJHK6mqbsr1ebi7Z</td>\n      <td>Shania Twain</td>\n      <td>Dance With The One That Brought You</td>\n      <td>Shania Twain</td>\n      <td>[20.65281867980957, -13.06024932861328, -3.607...</td>\n      <td>[0.000370531, 0.000175189, 0.000213026, 0.0001...</td>\n      <td>[1.2930843830108645, 1.5080833435058594, -1.48...</td>\n      <td>[0.28720874, 0.024735227, 0.124359, 0.00537671...</td>\n      <td>0.981084</td>\n    </tr>\n    <tr>\n      <th>9</th>\n      <td>6590</td>\n      <td>ekH6L9IN4ziWuKuG</td>\n      <td>Britney Spears</td>\n      <td>When I Found You</td>\n      <td>Britney (Digital Deluxe Version)</td>\n      <td>[21.588069915771484, -2.752606153488159, -4.69...</td>\n      <td>[0.000466905, 0.000337481, 0.000246264, 0.0001...</td>\n      <td>[2.7151670455932617, 1.8055323362350464, 0.157...</td>\n      <td>[0.32458788, 0.006880934, 0.12804456, 0.010993...</td>\n      <td>0.979875</td>\n    </tr>\n  </tbody>\n</table>\n</div>"
     },
     "execution_count": 65,
     "metadata": {},
     "output_type": "execute_result"
    }
   ],
   "source": [
    "# test run 2\n",
    "rs_DNN = RetrievalSystem(df, cosine_similarity, \"musicnn\")\n",
    "rs_DNN.retrieve(sample_song, n=10)"
   ],
   "metadata": {
    "collapsed": false,
    "pycharm": {
     "name": "#%%\n"
    },
    "ExecuteTime": {
     "end_time": "2023-11-24T01:54:56.231111700Z",
     "start_time": "2023-11-24T01:54:56.121275800Z"
    }
   }
  },
  {
   "cell_type": "code",
   "execution_count": 65,
   "outputs": [],
   "source": [],
   "metadata": {
    "collapsed": false,
    "pycharm": {
     "name": "#%%\n"
    },
    "ExecuteTime": {
     "end_time": "2023-11-24T01:54:56.243840800Z",
     "start_time": "2023-11-24T01:54:56.226104600Z"
    }
   }
  }
 ],
 "metadata": {
  "kernelspec": {
   "display_name": "Python 3",
   "language": "python",
   "name": "python3"
  },
  "language_info": {
   "codemirror_mode": {
    "name": "ipython",
    "version": 2
   },
   "file_extension": ".py",
   "mimetype": "text/x-python",
   "name": "python",
   "nbconvert_exporter": "python",
   "pygments_lexer": "ipython2",
   "version": "2.7.6"
  }
 },
 "nbformat": 4,
 "nbformat_minor": 0
}
