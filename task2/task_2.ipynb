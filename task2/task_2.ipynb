{
 "cells": [
  {
   "cell_type": "markdown",
   "metadata": {
    "collapsed": false,
    "pycharm": {
     "name": "#%% md\n"
    }
   },
   "source": [
    "# Read and Explore Data"
   ]
  },
  {
   "cell_type": "code",
   "execution_count": 1,
   "metadata": {},
   "outputs": [],
   "source": [
    "import sys\n",
    "sys.path.append(\"../\")\n",
    "\n",
    "import numpy as np\n",
    "import pandas as pd\n",
    "from typing import Union, Tuple\n",
    "from tqdm import tqdm\n",
    "import matplotlib.pyplot as plt"
   ]
  },
  {
   "cell_type": "code",
   "execution_count": 2,
   "metadata": {
    "ExecuteTime": {
     "end_time": "2023-11-24T01:54:54.283603200Z",
     "start_time": "2023-11-24T01:54:54.272515600Z"
    },
    "collapsed": false,
    "pycharm": {
     "name": "#%%\n"
    }
   },
   "outputs": [],
   "source": [
    "from task1.retrieval_system import RetrievalSystem, SongInfo\n",
    "from task1.similarity_measure import (\n",
    "    cosine_similarity,\n",
    "    dot_product,\n",
    "    manhattan_distance,\n",
    "    euclidean_distance,\n",
    "    random_similarity,\n",
    ")\n",
    "from utils import read, embed_and_merge"
   ]
  },
  {
   "cell_type": "code",
   "execution_count": 3,
   "metadata": {
    "ExecuteTime": {
     "end_time": "2023-11-24T01:54:54.311544300Z",
     "start_time": "2023-11-24T01:54:54.275523200Z"
    },
    "collapsed": false,
    "pycharm": {
     "name": "#%%\n"
    }
   },
   "outputs": [
    {
     "data": {
      "text/html": [
       "<div>\n",
       "<style scoped>\n",
       "    .dataframe tbody tr th:only-of-type {\n",
       "        vertical-align: middle;\n",
       "    }\n",
       "\n",
       "    .dataframe tbody tr th {\n",
       "        vertical-align: top;\n",
       "    }\n",
       "\n",
       "    .dataframe thead th {\n",
       "        text-align: right;\n",
       "    }\n",
       "</style>\n",
       "<table border=\"1\" class=\"dataframe\">\n",
       "  <thead>\n",
       "    <tr style=\"text-align: right;\">\n",
       "      <th></th>\n",
       "      <th>id</th>\n",
       "      <th>artist</th>\n",
       "      <th>song</th>\n",
       "      <th>album_name</th>\n",
       "    </tr>\n",
       "  </thead>\n",
       "  <tbody>\n",
       "    <tr>\n",
       "      <th>0</th>\n",
       "      <td>01Yfj2T3YTwJ1Yfy</td>\n",
       "      <td>We As Human</td>\n",
       "      <td>Take The Bullets Away (feat. Lacey Sturm)</td>\n",
       "      <td>We As Human</td>\n",
       "    </tr>\n",
       "    <tr>\n",
       "      <th>1</th>\n",
       "      <td>01gyRHLquwXDlhkO</td>\n",
       "      <td>The Notorious B.I.G.</td>\n",
       "      <td>Somebody's Gotta Die</td>\n",
       "      <td>Life After Death (Remastered Edition)</td>\n",
       "    </tr>\n",
       "    <tr>\n",
       "      <th>2</th>\n",
       "      <td>01rMxQv6vhyE1oQX</td>\n",
       "      <td>Against the Current</td>\n",
       "      <td>Chasing Ghosts</td>\n",
       "      <td>In Our Bones</td>\n",
       "    </tr>\n",
       "    <tr>\n",
       "      <th>3</th>\n",
       "      <td>02RGE9FNH65RtMS7</td>\n",
       "      <td>Barthezz</td>\n",
       "      <td>Infected</td>\n",
       "      <td>Trance - The Early Years (1997-2002)</td>\n",
       "    </tr>\n",
       "    <tr>\n",
       "      <th>4</th>\n",
       "      <td>02ZnlCGZEbkfCDxo</td>\n",
       "      <td>Laura Pausini</td>\n",
       "      <td>Tra Te E Il Mare</td>\n",
       "      <td>The Best of Laura Pausini - E Ritorno Da Te</td>\n",
       "    </tr>\n",
       "    <tr>\n",
       "      <th>...</th>\n",
       "      <td>...</td>\n",
       "      <td>...</td>\n",
       "      <td>...</td>\n",
       "      <td>...</td>\n",
       "    </tr>\n",
       "    <tr>\n",
       "      <th>10090</th>\n",
       "      <td>zyzILCQvVeUFIINi</td>\n",
       "      <td>Crowded House</td>\n",
       "      <td>When You Come</td>\n",
       "      <td>Temple Of Low Men</td>\n",
       "    </tr>\n",
       "    <tr>\n",
       "      <th>10091</th>\n",
       "      <td>zzgS4ZqyswamEWNj</td>\n",
       "      <td>Britney Spears</td>\n",
       "      <td>My Only Wish (This Year)</td>\n",
       "      <td>Platinum Christmas</td>\n",
       "    </tr>\n",
       "    <tr>\n",
       "      <th>10092</th>\n",
       "      <td>zzoFYDMlqU1X2zz1</td>\n",
       "      <td>Thundercat</td>\n",
       "      <td>DUI</td>\n",
       "      <td>Drunk</td>\n",
       "    </tr>\n",
       "    <tr>\n",
       "      <th>10093</th>\n",
       "      <td>zzpkRCGA5ud8q4mv</td>\n",
       "      <td>Otis Redding</td>\n",
       "      <td>Rock Me Baby</td>\n",
       "      <td>Otis Blue</td>\n",
       "    </tr>\n",
       "    <tr>\n",
       "      <th>10094</th>\n",
       "      <td>zzx8CWdM7qkxKQpC</td>\n",
       "      <td>Ted Leo and the Pharmacists</td>\n",
       "      <td>Counting Down the Hours</td>\n",
       "      <td>Shake the Sheets</td>\n",
       "    </tr>\n",
       "  </tbody>\n",
       "</table>\n",
       "<p>10095 rows × 4 columns</p>\n",
       "</div>"
      ],
      "text/plain": [
       "                     id                       artist  \\\n",
       "0      01Yfj2T3YTwJ1Yfy                  We As Human   \n",
       "1      01gyRHLquwXDlhkO         The Notorious B.I.G.   \n",
       "2      01rMxQv6vhyE1oQX          Against the Current   \n",
       "3      02RGE9FNH65RtMS7                     Barthezz   \n",
       "4      02ZnlCGZEbkfCDxo                Laura Pausini   \n",
       "...                 ...                          ...   \n",
       "10090  zyzILCQvVeUFIINi                Crowded House   \n",
       "10091  zzgS4ZqyswamEWNj               Britney Spears   \n",
       "10092  zzoFYDMlqU1X2zz1                   Thundercat   \n",
       "10093  zzpkRCGA5ud8q4mv                 Otis Redding   \n",
       "10094  zzx8CWdM7qkxKQpC  Ted Leo and the Pharmacists   \n",
       "\n",
       "                                            song  \\\n",
       "0      Take The Bullets Away (feat. Lacey Sturm)   \n",
       "1                           Somebody's Gotta Die   \n",
       "2                                 Chasing Ghosts   \n",
       "3                                       Infected   \n",
       "4                               Tra Te E Il Mare   \n",
       "...                                          ...   \n",
       "10090                              When You Come   \n",
       "10091                   My Only Wish (This Year)   \n",
       "10092                                        DUI   \n",
       "10093                               Rock Me Baby   \n",
       "10094                    Counting Down the Hours   \n",
       "\n",
       "                                        album_name  \n",
       "0                                      We As Human  \n",
       "1            Life After Death (Remastered Edition)  \n",
       "2                                     In Our Bones  \n",
       "3             Trance - The Early Years (1997-2002)  \n",
       "4      The Best of Laura Pausini - E Ritorno Da Te  \n",
       "...                                            ...  \n",
       "10090                            Temple Of Low Men  \n",
       "10091                           Platinum Christmas  \n",
       "10092                                        Drunk  \n",
       "10093                                    Otis Blue  \n",
       "10094                             Shake the Sheets  \n",
       "\n",
       "[10095 rows x 4 columns]"
      ]
     },
     "execution_count": 3,
     "metadata": {},
     "output_type": "execute_result"
    }
   ],
   "source": [
    "# basic song information from task 1\n",
    "df = read(\"information\", 0)\n",
    "df"
   ]
  },
  {
   "cell_type": "code",
   "execution_count": 4,
   "metadata": {},
   "outputs": [],
   "source": [
    "# add genre information for metric calculation\n",
    "genres = read(\"genres\", 0)\n",
    "# convert genre to actual list via eval\n",
    "genres[\"genre\"] = genres[\"genre\"].apply(eval).apply(set)\n",
    "df = df.merge(genres, on=\"id\", how=\"left\")"
   ]
  },
  {
   "cell_type": "markdown",
   "metadata": {},
   "source": [
    "We load the following features:\n",
    "- MFCCs in BoW form,\n",
    "- Spectral BLFs,\n",
    "- 256-dimensional i-vectors,\n",
    "- 1024-dimensional i-vectors,\n",
    "- DNN-based features (musicnn)."
   ]
  },
  {
   "cell_type": "code",
   "execution_count": 5,
   "metadata": {},
   "outputs": [],
   "source": [
    "for feature in [\"mfcc_bow\", \"blf_spectral\", \"ivec256\", \"ivec1024\", \"musicnn\"]:\n",
    "    stats = read(feature, 0)\n",
    "    df = embed_and_merge(df, stats, feature)"
   ]
  },
  {
   "cell_type": "markdown",
   "metadata": {},
   "source": [
    "... and also those from the previous assignment:"
   ]
  },
  {
   "cell_type": "code",
   "execution_count": 6,
   "metadata": {
    "ExecuteTime": {
     "end_time": "2023-11-24T01:54:55.996187400Z",
     "start_time": "2023-11-24T01:54:55.960132700Z"
    },
    "collapsed": false,
    "pycharm": {
     "name": "#%%\n"
    }
   },
   "outputs": [],
   "source": [
    "for text_feature in [\"lyrics_bert\", \"lyrics_word2vec\", \"lyrics_tf-idf\"]:\n",
    "    stats = read(text_feature, 0)\n",
    "    df = embed_and_merge(df, stats, text_feature.split(\"_\")[1])"
   ]
  },
  {
   "cell_type": "code",
   "execution_count": 7,
   "metadata": {},
   "outputs": [
    {
     "data": {
      "text/plain": [
       "id              0\n",
       "artist          0\n",
       "song            0\n",
       "album_name      0\n",
       "genre           1\n",
       "mfcc_bow        1\n",
       "blf_spectral    1\n",
       "ivec256         1\n",
       "ivec1024        1\n",
       "musicnn         1\n",
       "bert            0\n",
       "word2vec        0\n",
       "tf-idf          0\n",
       "dtype: int64"
      ]
     },
     "execution_count": 7,
     "metadata": {},
     "output_type": "execute_result"
    }
   ],
   "source": [
    "df.isna().sum()"
   ]
  },
  {
   "cell_type": "code",
   "execution_count": 8,
   "metadata": {},
   "outputs": [
    {
     "data": {
      "text/html": [
       "<div>\n",
       "<style scoped>\n",
       "    .dataframe tbody tr th:only-of-type {\n",
       "        vertical-align: middle;\n",
       "    }\n",
       "\n",
       "    .dataframe tbody tr th {\n",
       "        vertical-align: top;\n",
       "    }\n",
       "\n",
       "    .dataframe thead th {\n",
       "        text-align: right;\n",
       "    }\n",
       "</style>\n",
       "<table border=\"1\" class=\"dataframe\">\n",
       "  <thead>\n",
       "    <tr style=\"text-align: right;\">\n",
       "      <th></th>\n",
       "      <th>id</th>\n",
       "      <th>artist</th>\n",
       "      <th>song</th>\n",
       "      <th>album_name</th>\n",
       "      <th>genre</th>\n",
       "      <th>mfcc_bow</th>\n",
       "      <th>blf_spectral</th>\n",
       "      <th>ivec256</th>\n",
       "      <th>ivec1024</th>\n",
       "      <th>musicnn</th>\n",
       "      <th>bert</th>\n",
       "      <th>word2vec</th>\n",
       "      <th>tf-idf</th>\n",
       "    </tr>\n",
       "  </thead>\n",
       "  <tbody>\n",
       "    <tr>\n",
       "      <th>5</th>\n",
       "      <td>03Oc9WeMEmyLLQbj</td>\n",
       "      <td>Shakira</td>\n",
       "      <td>Costume Makes the Clown</td>\n",
       "      <td>Oral Fixation, Vol. 2 (Expanded Edition)</td>\n",
       "      <td>NaN</td>\n",
       "      <td>NaN</td>\n",
       "      <td>NaN</td>\n",
       "      <td>NaN</td>\n",
       "      <td>NaN</td>\n",
       "      <td>NaN</td>\n",
       "      <td>[0.042631160467863, 0.0509439371526241, -0.026...</td>\n",
       "      <td>[0.0173026816431956, 0.0238044851088488, 0.013...</td>\n",
       "      <td>[0.0, 0.0, 0.0, 0.0, 0.0, 0.0, 0.0, 0.0, 0.0, ...</td>\n",
       "    </tr>\n",
       "  </tbody>\n",
       "</table>\n",
       "</div>"
      ],
      "text/plain": [
       "                 id   artist                     song  \\\n",
       "5  03Oc9WeMEmyLLQbj  Shakira  Costume Makes the Clown   \n",
       "\n",
       "                                 album_name genre mfcc_bow blf_spectral  \\\n",
       "5  Oral Fixation, Vol. 2 (Expanded Edition)   NaN      NaN          NaN   \n",
       "\n",
       "  ivec256 ivec1024 musicnn                                               bert  \\\n",
       "5     NaN      NaN     NaN  [0.042631160467863, 0.0509439371526241, -0.026...   \n",
       "\n",
       "                                            word2vec  \\\n",
       "5  [0.0173026816431956, 0.0238044851088488, 0.013...   \n",
       "\n",
       "                                              tf-idf  \n",
       "5  [0.0, 0.0, 0.0, 0.0, 0.0, 0.0, 0.0, 0.0, 0.0, ...  "
      ]
     },
     "execution_count": 8,
     "metadata": {},
     "output_type": "execute_result"
    }
   ],
   "source": [
    "df[df.isna().any(axis=1)]"
   ]
  },
  {
   "cell_type": "code",
   "execution_count": 9,
   "metadata": {},
   "outputs": [
    {
     "data": {
      "text/plain": [
       "(500,)"
      ]
     },
     "execution_count": 9,
     "metadata": {},
     "output_type": "execute_result"
    }
   ],
   "source": [
    "df[\"mfcc_bow\"].values[1].shape"
   ]
  },
  {
   "cell_type": "code",
   "execution_count": 10,
   "metadata": {
    "ExecuteTime": {
     "end_time": "2023-11-24T01:54:56.006193900Z",
     "start_time": "2023-11-24T01:54:55.991683200Z"
    },
    "collapsed": false,
    "pycharm": {
     "name": "#%%\n"
    }
   },
   "outputs": [],
   "source": [
    "# data for task 2 does not include the item with id \"03Oc9WeMEmyLLQbj\" = row 5\n",
    "df = df.drop(5)\n",
    "df = df.reset_index()"
   ]
  },
  {
   "cell_type": "markdown",
   "metadata": {},
   "source": [
    "# Define retrieval systems"
   ]
  },
  {
   "cell_type": "markdown",
   "metadata": {},
   "source": [
    "## From Task 1 (text-based)"
   ]
  },
  {
   "cell_type": "code",
   "execution_count": 11,
   "metadata": {},
   "outputs": [],
   "source": [
    "rs_random = RetrievalSystem(\n",
    "    df=df,\n",
    "    sim_metric=random_similarity,\n",
    ")"
   ]
  },
  {
   "cell_type": "code",
   "execution_count": 12,
   "metadata": {},
   "outputs": [],
   "source": [
    "rs_cos_tdidf = RetrievalSystem(\n",
    "    df=df,\n",
    "    sim_metric=cosine_similarity,\n",
    "    sim_feature=\"tf-idf\",\n",
    ")"
   ]
  },
  {
   "cell_type": "code",
   "execution_count": 13,
   "metadata": {},
   "outputs": [],
   "source": [
    "rs_cos_bert = RetrievalSystem(\n",
    "    df=df,\n",
    "    sim_metric=cosine_similarity,\n",
    "    sim_feature=\"bert\",\n",
    ")"
   ]
  },
  {
   "cell_type": "code",
   "execution_count": 14,
   "metadata": {},
   "outputs": [],
   "source": [
    "rs_dot_w2v = RetrievalSystem(\n",
    "    df=df,\n",
    "    sim_metric=dot_product,\n",
    "    sim_feature=\"word2vec\",\n",
    ")"
   ]
  },
  {
   "cell_type": "markdown",
   "metadata": {},
   "source": [
    "## From Task 2 (audio-based; new!)"
   ]
  },
  {
   "cell_type": "code",
   "execution_count": 15,
   "metadata": {},
   "outputs": [],
   "source": [
    "rs_cos_mfcc = RetrievalSystem(\n",
    "    df=df,\n",
    "    sim_metric=cosine_similarity,\n",
    "    sim_feature=\"mfcc_bow\",\n",
    ")"
   ]
  },
  {
   "cell_type": "code",
   "execution_count": 16,
   "metadata": {},
   "outputs": [],
   "source": [
    "rs_cos_blf = RetrievalSystem(\n",
    "    df=df,\n",
    "    sim_metric=cosine_similarity,\n",
    "    sim_feature=\"blf_spectral\",\n",
    ")"
   ]
  },
  {
   "cell_type": "code",
   "execution_count": 17,
   "metadata": {},
   "outputs": [],
   "source": [
    "rs_cos_ivec256 = RetrievalSystem(\n",
    "    df=df,\n",
    "    sim_metric=cosine_similarity,\n",
    "    sim_feature=\"ivec256\",\n",
    ")"
   ]
  },
  {
   "cell_type": "code",
   "execution_count": 18,
   "metadata": {},
   "outputs": [],
   "source": [
    "rs_cos_dnn = RetrievalSystem(\n",
    "    df=df,\n",
    "    sim_metric=cosine_similarity,\n",
    "    sim_feature=\"musicnn\",\n",
    ")"
   ]
  },
  {
   "cell_type": "code",
   "execution_count": 19,
   "metadata": {},
   "outputs": [],
   "source": [
    "# create pd dataframe consisting of all retrieval systems, with metric and feature\n",
    "rs = pd.DataFrame(\n",
    "    [\n",
    "        [\"random\", \"random\", rs_random],\n",
    "        [\"cosine\", \"tf-idf\", rs_cos_tdidf],\n",
    "        [\"cosine\", \"bert\", rs_cos_bert],\n",
    "        [\"dot\", \"word2vec\", rs_dot_w2v],\n",
    "        [\"cosine\", \"mfcc_bow\", rs_cos_mfcc],\n",
    "        [\"cosine\", \"blf_spectral\", rs_cos_blf],\n",
    "        [\"cosine\", \"ivec256\", rs_cos_ivec256],\n",
    "        [\"cosine\", \"musicnn\", rs_cos_dnn],\n",
    "    ],\n",
    "    columns=[\"metric\", \"feature\", \"rs_object\"],\n",
    ")"
   ]
  },
  {
   "cell_type": "code",
   "execution_count": 20,
   "metadata": {},
   "outputs": [
    {
     "data": {
      "text/html": [
       "<div>\n",
       "<style scoped>\n",
       "    .dataframe tbody tr th:only-of-type {\n",
       "        vertical-align: middle;\n",
       "    }\n",
       "\n",
       "    .dataframe tbody tr th {\n",
       "        vertical-align: top;\n",
       "    }\n",
       "\n",
       "    .dataframe thead th {\n",
       "        text-align: right;\n",
       "    }\n",
       "</style>\n",
       "<table border=\"1\" class=\"dataframe\">\n",
       "  <thead>\n",
       "    <tr style=\"text-align: right;\">\n",
       "      <th></th>\n",
       "      <th>metric</th>\n",
       "      <th>feature</th>\n",
       "      <th>rs_object</th>\n",
       "    </tr>\n",
       "  </thead>\n",
       "  <tbody>\n",
       "    <tr>\n",
       "      <th>0</th>\n",
       "      <td>random</td>\n",
       "      <td>random</td>\n",
       "      <td>&lt;task1.retrieval_system.RetrievalSystem object...</td>\n",
       "    </tr>\n",
       "    <tr>\n",
       "      <th>1</th>\n",
       "      <td>cosine</td>\n",
       "      <td>tf-idf</td>\n",
       "      <td>&lt;task1.retrieval_system.RetrievalSystem object...</td>\n",
       "    </tr>\n",
       "    <tr>\n",
       "      <th>2</th>\n",
       "      <td>cosine</td>\n",
       "      <td>bert</td>\n",
       "      <td>&lt;task1.retrieval_system.RetrievalSystem object...</td>\n",
       "    </tr>\n",
       "    <tr>\n",
       "      <th>3</th>\n",
       "      <td>dot</td>\n",
       "      <td>word2vec</td>\n",
       "      <td>&lt;task1.retrieval_system.RetrievalSystem object...</td>\n",
       "    </tr>\n",
       "    <tr>\n",
       "      <th>4</th>\n",
       "      <td>cosine</td>\n",
       "      <td>mfcc_bow</td>\n",
       "      <td>&lt;task1.retrieval_system.RetrievalSystem object...</td>\n",
       "    </tr>\n",
       "    <tr>\n",
       "      <th>5</th>\n",
       "      <td>cosine</td>\n",
       "      <td>blf_spectral</td>\n",
       "      <td>&lt;task1.retrieval_system.RetrievalSystem object...</td>\n",
       "    </tr>\n",
       "    <tr>\n",
       "      <th>6</th>\n",
       "      <td>cosine</td>\n",
       "      <td>ivec256</td>\n",
       "      <td>&lt;task1.retrieval_system.RetrievalSystem object...</td>\n",
       "    </tr>\n",
       "    <tr>\n",
       "      <th>7</th>\n",
       "      <td>cosine</td>\n",
       "      <td>musicnn</td>\n",
       "      <td>&lt;task1.retrieval_system.RetrievalSystem object...</td>\n",
       "    </tr>\n",
       "  </tbody>\n",
       "</table>\n",
       "</div>"
      ],
      "text/plain": [
       "   metric       feature                                          rs_object\n",
       "0  random        random  <task1.retrieval_system.RetrievalSystem object...\n",
       "1  cosine        tf-idf  <task1.retrieval_system.RetrievalSystem object...\n",
       "2  cosine          bert  <task1.retrieval_system.RetrievalSystem object...\n",
       "3     dot      word2vec  <task1.retrieval_system.RetrievalSystem object...\n",
       "4  cosine      mfcc_bow  <task1.retrieval_system.RetrievalSystem object...\n",
       "5  cosine  blf_spectral  <task1.retrieval_system.RetrievalSystem object...\n",
       "6  cosine       ivec256  <task1.retrieval_system.RetrievalSystem object...\n",
       "7  cosine       musicnn  <task1.retrieval_system.RetrievalSystem object..."
      ]
     },
     "execution_count": 20,
     "metadata": {},
     "output_type": "execute_result"
    }
   ],
   "source": [
    "rs"
   ]
  },
  {
   "cell_type": "markdown",
   "metadata": {},
   "source": [
    "# Evaluation Criteria"
   ]
  },
  {
   "cell_type": "markdown",
   "metadata": {},
   "source": [
    "For the sake of completeness, we also show how we can calculate precision and recall independently for a given single query."
   ]
  },
  {
   "cell_type": "markdown",
   "metadata": {},
   "source": [
    "## Precision@k & Recall@k"
   ]
  },
  {
   "cell_type": "code",
   "execution_count": 21,
   "metadata": {},
   "outputs": [],
   "source": [
    "def precision_at_k_single(\n",
    "    query: pd.Series, retrieved_tracks: pd.DataFrame, k: int\n",
    ") -> float:\n",
    "    \"\"\"Precision at k for a single query song.\n",
    "\n",
    "    Args:\n",
    "        query (pd.Series): Query song.\n",
    "        retrieved_tracks (pd.DataFrame): Retrieved tracks. \n",
    "        k (int): Number of retrieved tracks to consider.\n",
    "\n",
    "    Raises:\n",
    "        ValueError: k must be smaller than the number of retrieved tracks.\n",
    "\n",
    "    Returns:\n",
    "        float: Precision at k.\n",
    "    \n",
    "    \"\"\"\n",
    "    # Filter the retrieved tracks to top k\n",
    "    retrieved_tracks = retrieved_tracks.head(k)\n",
    "\n",
    "    if k > len(retrieved_tracks):\n",
    "        raise ValueError(\n",
    "            f\"k must be smaller than the number of retrieved tracks ({len(retrieved_tracks)})\"\n",
    "        )\n",
    "\n",
    "    relevant_items_retrieved = sum(\n",
    "        1\n",
    "        for _, track in retrieved_tracks.head(k).iterrows()\n",
    "        if query[\"genre\"] & track[\"genre\"]\n",
    "    )\n",
    "    return relevant_items_retrieved / k"
   ]
  },
  {
   "cell_type": "code",
   "execution_count": 22,
   "metadata": {},
   "outputs": [],
   "source": [
    "def recall_at_k_single(\n",
    "    query: pd.Series, retrieved_tracks: pd.DataFrame, k: int\n",
    ") -> float:\n",
    "    \"\"\"Recall at k for a single query song.\n",
    "    Note that we normalize by the *total* number of relevant items in the dataset.\n",
    "    Args:\n",
    "        query (pd.Series): Query song.\n",
    "        retrieved_tracks (pd.DataFrame): Retrieved tracks. \n",
    "        k (int): Number of retrieved tracks to consider.\n",
    "    Raises:\n",
    "        ValueError: k must be smaller than the number of retrieved tracks.\n",
    "        \n",
    "    Returns:\n",
    "        float: Recall at k.\n",
    "    \"\"\"\n",
    "    # Filter the retrieved tracks to top k\n",
    "    retrieved_tracks = retrieved_tracks.head(k)\n",
    "\n",
    "    if k > len(retrieved_tracks):\n",
    "        raise ValueError(\n",
    "            f\"k must be smaller than the number of retrieved tracks ({len(retrieved_tracks)})\"\n",
    "        )\n",
    "\n",
    "    relevant_items_retrieved = sum(\n",
    "        1\n",
    "        for _, track in retrieved_tracks.head(k).iterrows()\n",
    "        if query[\"genre\"] & track[\"genre\"]\n",
    "    )\n",
    "\n",
    "    relevant_items = sum(\n",
    "        1 for _, track in df.iterrows() if set(query[\"genre\"]) & set(track[\"genre\"])\n",
    "    )\n",
    "    return relevant_items_retrieved / relevant_items"
   ]
  },
  {
   "cell_type": "code",
   "execution_count": 23,
   "metadata": {},
   "outputs": [],
   "source": [
    "sample_song = SongInfo(title=\"Zombie\", artist=\"The Cranberries\")\n",
    "# query most be a pd.Series --> convert here\n",
    "sample_query = df[\n",
    "    (df[\"song\"] == sample_song.title) & (df[\"artist\"] == sample_song.artist)\n",
    "].iloc[0]"
   ]
  },
  {
   "cell_type": "code",
   "execution_count": 24,
   "metadata": {},
   "outputs": [
    {
     "data": {
      "text/plain": [
       "{'alternative rock',\n",
       " 'celtic',\n",
       " 'celtic rock',\n",
       " 'classic rock',\n",
       " 'grunge',\n",
       " 'hard rock',\n",
       " 'indie rock',\n",
       " 'irish rock',\n",
       " 'metal',\n",
       " 'pop',\n",
       " 'pop rock',\n",
       " 'post grunge',\n",
       " 'rock',\n",
       " 'soft rock'}"
      ]
     },
     "execution_count": 24,
     "metadata": {},
     "output_type": "execute_result"
    }
   ],
   "source": [
    "sample_query.genre"
   ]
  },
  {
   "cell_type": "code",
   "execution_count": 25,
   "metadata": {},
   "outputs": [],
   "source": [
    "results = rs_cos_dnn.retrieve(sample_song, 10)"
   ]
  },
  {
   "cell_type": "code",
   "execution_count": 26,
   "metadata": {},
   "outputs": [
    {
     "data": {
      "text/html": [
       "<div>\n",
       "<style scoped>\n",
       "    .dataframe tbody tr th:only-of-type {\n",
       "        vertical-align: middle;\n",
       "    }\n",
       "\n",
       "    .dataframe tbody tr th {\n",
       "        vertical-align: top;\n",
       "    }\n",
       "\n",
       "    .dataframe thead th {\n",
       "        text-align: right;\n",
       "    }\n",
       "</style>\n",
       "<table border=\"1\" class=\"dataframe\">\n",
       "  <thead>\n",
       "    <tr style=\"text-align: right;\">\n",
       "      <th></th>\n",
       "      <th>index</th>\n",
       "      <th>id</th>\n",
       "      <th>artist</th>\n",
       "      <th>song</th>\n",
       "      <th>album_name</th>\n",
       "      <th>genre</th>\n",
       "      <th>mfcc_bow</th>\n",
       "      <th>blf_spectral</th>\n",
       "      <th>ivec256</th>\n",
       "      <th>ivec1024</th>\n",
       "      <th>musicnn</th>\n",
       "      <th>bert</th>\n",
       "      <th>word2vec</th>\n",
       "      <th>similarity</th>\n",
       "    </tr>\n",
       "  </thead>\n",
       "  <tbody>\n",
       "    <tr>\n",
       "      <th>0</th>\n",
       "      <td>790</td>\n",
       "      <td>4glaLmaXFAdOw5b2</td>\n",
       "      <td>Kristen Barry</td>\n",
       "      <td>Ordinary Life</td>\n",
       "      <td>Cruel Intentions</td>\n",
       "      <td>{singer songwriter, indie rock, soft rock, sou...</td>\n",
       "      <td>[0.7781513000000001, 0.0, 2.3242824, 0.0, 1.17...</td>\n",
       "      <td>[-0.0281731, -0.019438, -0.017372, -0.0138386,...</td>\n",
       "      <td>[0.9454425573349, 1.2708547115325928, 0.325989...</td>\n",
       "      <td>[-0.0687375515699386, -1.0911340713500977, -0....</td>\n",
       "      <td>[0.4182759, 0.007046508, 0.18775995, 0.0074302...</td>\n",
       "      <td>[-0.0004561332461889, 0.0145782874897122, -0.0...</td>\n",
       "      <td>[0.0201837079373767, 0.0221617151968885, 0.016...</td>\n",
       "      <td>0.987132</td>\n",
       "    </tr>\n",
       "    <tr>\n",
       "      <th>1</th>\n",
       "      <td>4469</td>\n",
       "      <td>RQJ8biiC0Ed7MKyY</td>\n",
       "      <td>Shakira</td>\n",
       "      <td>Sale el Sol</td>\n",
       "      <td>Sale el Sol</td>\n",
       "      <td>{singer songwriter, latin pop, latin rock, wor...</td>\n",
       "      <td>[1.7160033, 0.0, 2.667453, 0.0, 1.1139433, 0.0...</td>\n",
       "      <td>[-0.0238793, -0.0183009, -0.0153329, -0.013102...</td>\n",
       "      <td>[1.8669582605361936, 1.892633914947509, -1.045...</td>\n",
       "      <td>[1.905163645744324, -1.7262425422668457, 0.853...</td>\n",
       "      <td>[0.36982688, 0.009932475, 0.18211164, 0.019003...</td>\n",
       "      <td>[0.0123901953920722, 0.0618347860872745, 0.001...</td>\n",
       "      <td>[0.0206834120802038, 0.0080418127259084, 0.011...</td>\n",
       "      <td>0.985367</td>\n",
       "    </tr>\n",
       "    <tr>\n",
       "      <th>2</th>\n",
       "      <td>9954</td>\n",
       "      <td>z14vWV00cAGeBT9P</td>\n",
       "      <td>Céu</td>\n",
       "      <td>Lenda</td>\n",
       "      <td>CéU</td>\n",
       "      <td>{vocal jazz, mpb, singer songwriter, reading, ...</td>\n",
       "      <td>[1.3222193000000002, 0.0, 2.146128, 0.0, 2.096...</td>\n",
       "      <td>[-0.0258737, -0.0207687, -0.0182119, -0.015643...</td>\n",
       "      <td>[1.7744811773300169, 1.3900917768478394, -0.28...</td>\n",
       "      <td>[0.2054368406534195, -1.1734609603881836, 0.06...</td>\n",
       "      <td>[0.2876089, 0.00694283, 0.09736701, 0.02208063...</td>\n",
       "      <td>[0.0605621598660945, 0.0248984489589929, -0.02...</td>\n",
       "      <td>[0.0354904266487643, 0.009812428646477, 0.0021...</td>\n",
       "      <td>0.985336</td>\n",
       "    </tr>\n",
       "    <tr>\n",
       "      <th>3</th>\n",
       "      <td>386</td>\n",
       "      <td>29oADILKxhOHvgvQ</td>\n",
       "      <td>Lucy Dacus</td>\n",
       "      <td>Troublemaker Doppelgänger</td>\n",
       "      <td>No Burden</td>\n",
       "      <td>{indie folk, indie rock}</td>\n",
       "      <td>[1.7923917, 0.0, 2.0293837, 0.0, 2.6374898, 0....</td>\n",
       "      <td>[-0.0402956, -0.034032, -0.031251, -0.029338, ...</td>\n",
       "      <td>[0.5575369000434875, 1.3157860040664673, 0.573...</td>\n",
       "      <td>[0.6444730758666992, -1.242782711982727, -0.70...</td>\n",
       "      <td>[0.32060316, 0.0129062785, 0.13242425, 0.02154...</td>\n",
       "      <td>[0.0196989458054304, 0.0582268238067626, 0.001...</td>\n",
       "      <td>[0.0193930917207513, 0.0224321799395334, 0.008...</td>\n",
       "      <td>0.984114</td>\n",
       "    </tr>\n",
       "    <tr>\n",
       "      <th>4</th>\n",
       "      <td>7650</td>\n",
       "      <td>lBbxNiUrl7pF1H4c</td>\n",
       "      <td>Kadebostany</td>\n",
       "      <td>Castle in the Snow</td>\n",
       "      <td>Pop Collection</td>\n",
       "      <td>{rock, pop}</td>\n",
       "      <td>[0.7781513000000001, 0.0, 1.462398, 0.0, 1.301...</td>\n",
       "      <td>[-0.0240562, -0.0197435, -0.0169551, -0.013990...</td>\n",
       "      <td>[1.3591880798339844, 0.6209864020347595, 0.309...</td>\n",
       "      <td>[1.3591336011886597, -0.4918332695960999, -0.4...</td>\n",
       "      <td>[0.27542847, 0.0085207485, 0.17537211, 0.01616...</td>\n",
       "      <td>[-0.0136576881632208, 0.0381329879164695, 0.00...</td>\n",
       "      <td>[0.0169709496347023, 0.0083717900892431, -0.02...</td>\n",
       "      <td>0.983854</td>\n",
       "    </tr>\n",
       "    <tr>\n",
       "      <th>5</th>\n",
       "      <td>1584</td>\n",
       "      <td>9SUQfSsDIBOh3QSV</td>\n",
       "      <td>Priscilla Ahn</td>\n",
       "      <td>Masters In China</td>\n",
       "      <td>A Good Day</td>\n",
       "      <td>{singer songwriter, soul, folk}</td>\n",
       "      <td>[1.50515, 0.0, 1.462398, 0.0, 2.30103, 0.0, 1....</td>\n",
       "      <td>[-0.0191349, -0.0124968, -0.0088663, -0.006168...</td>\n",
       "      <td>[2.129467725753784, 1.0896250009536743, 0.6828...</td>\n",
       "      <td>[2.1317338943481445, -0.8425770401954651, -0.9...</td>\n",
       "      <td>[0.42481366, 0.0026636927, 0.19867267, 0.00749...</td>\n",
       "      <td>[0.0182842426002025, 0.0133442115038633, -0.02...</td>\n",
       "      <td>[0.0165479896808019, 0.0139839527770303, 0.010...</td>\n",
       "      <td>0.983130</td>\n",
       "    </tr>\n",
       "    <tr>\n",
       "      <th>6</th>\n",
       "      <td>9669</td>\n",
       "      <td>xEbmBtcR1wQcnk3y</td>\n",
       "      <td>Julieta Venegas</td>\n",
       "      <td>Oleada</td>\n",
       "      <td>Si</td>\n",
       "      <td>{latin pop, latin, pop, rock, rock en espanol,...</td>\n",
       "      <td>[2.3873900000000003, 0.0, 2.469822, 0.0, 2.176...</td>\n",
       "      <td>[-0.0160536, -0.0104534, -0.00665913, -0.00423...</td>\n",
       "      <td>[1.5788124799728394, 1.6625230312347412, 0.228...</td>\n",
       "      <td>[1.014309287071228, -1.466999053955078, -0.471...</td>\n",
       "      <td>[0.44143254, 0.0077322265, 0.21047759, 0.00914...</td>\n",
       "      <td>[0.0002455622889101, 0.0310425776988267, -0.01...</td>\n",
       "      <td>[0.0073746261101526, 0.0089111965646346, 0.022...</td>\n",
       "      <td>0.982718</td>\n",
       "    </tr>\n",
       "    <tr>\n",
       "      <th>7</th>\n",
       "      <td>1147</td>\n",
       "      <td>6vbf44Iw7PzRxUWH</td>\n",
       "      <td>Taylor Swift</td>\n",
       "      <td>The Best Day</td>\n",
       "      <td>Fearless</td>\n",
       "      <td>{country pop, singer songwriter, world, disney...</td>\n",
       "      <td>[2.1760912, 0.0, 2.409933, 0.0, 2.348304700000...</td>\n",
       "      <td>[-0.0254457, -0.0206701, -0.0167254, -0.014913...</td>\n",
       "      <td>[-0.5983439087867737, 1.6506197452545166, -0.1...</td>\n",
       "      <td>[-0.1132917702198028, -1.7878351211547852, 0.0...</td>\n",
       "      <td>[0.4190213, 0.006415901, 0.16974963, 0.0041287...</td>\n",
       "      <td>[0.0102109359577298, 0.0159489773213863, -0.01...</td>\n",
       "      <td>[0.0060818882261895, 0.0110121118431694, 0.005...</td>\n",
       "      <td>0.982597</td>\n",
       "    </tr>\n",
       "    <tr>\n",
       "      <th>8</th>\n",
       "      <td>9008</td>\n",
       "      <td>tJHK6mqbsr1ebi7Z</td>\n",
       "      <td>Shania Twain</td>\n",
       "      <td>Dance With The One That Brought You</td>\n",
       "      <td>Shania Twain</td>\n",
       "      <td>{country}</td>\n",
       "      <td>[1.8512584, 0.0, 2.445604, 0.0, 2.0, 0.0, 2.16...</td>\n",
       "      <td>[-0.0262743, -0.0209276, -0.0173385, -0.015849...</td>\n",
       "      <td>[1.2930843830108645, 1.5080833435058594, -1.48...</td>\n",
       "      <td>[0.7675840258598328, -1.2949352264404297, 1.34...</td>\n",
       "      <td>[0.28720874, 0.024735227, 0.124359, 0.00537671...</td>\n",
       "      <td>[-0.0112191652879118, 0.0305185876786708, 0.00...</td>\n",
       "      <td>[0.0249538703621446, 0.0043118148694925, 0.027...</td>\n",
       "      <td>0.981084</td>\n",
       "    </tr>\n",
       "    <tr>\n",
       "      <th>9</th>\n",
       "      <td>6590</td>\n",
       "      <td>ekH6L9IN4ziWuKuG</td>\n",
       "      <td>Britney Spears</td>\n",
       "      <td>When I Found You</td>\n",
       "      <td>Britney (Digital Deluxe Version)</td>\n",
       "      <td>{disco, singer songwriter, bubblegum pop, pop,...</td>\n",
       "      <td>[2.1172712, 0.0, 1.7993406000000003, 0.0, 2.37...</td>\n",
       "      <td>[-0.0288562, -0.0247434, -0.0220739, -0.018726...</td>\n",
       "      <td>[2.7151670455932617, 1.8055323362350464, 0.157...</td>\n",
       "      <td>[0.8662742376327515, -1.2880791425704956, -0.5...</td>\n",
       "      <td>[0.32458788, 0.006880934, 0.12804456, 0.010993...</td>\n",
       "      <td>[0.0219442192465066, 0.0183226075023412, 0.003...</td>\n",
       "      <td>[0.0072971217101439, -0.0070844741000865, 0.02...</td>\n",
       "      <td>0.979875</td>\n",
       "    </tr>\n",
       "  </tbody>\n",
       "</table>\n",
       "</div>"
      ],
      "text/plain": [
       "   index                id           artist  \\\n",
       "0    790  4glaLmaXFAdOw5b2    Kristen Barry   \n",
       "1   4469  RQJ8biiC0Ed7MKyY          Shakira   \n",
       "2   9954  z14vWV00cAGeBT9P              Céu   \n",
       "3    386  29oADILKxhOHvgvQ       Lucy Dacus   \n",
       "4   7650  lBbxNiUrl7pF1H4c      Kadebostany   \n",
       "5   1584  9SUQfSsDIBOh3QSV    Priscilla Ahn   \n",
       "6   9669  xEbmBtcR1wQcnk3y  Julieta Venegas   \n",
       "7   1147  6vbf44Iw7PzRxUWH     Taylor Swift   \n",
       "8   9008  tJHK6mqbsr1ebi7Z     Shania Twain   \n",
       "9   6590  ekH6L9IN4ziWuKuG   Britney Spears   \n",
       "\n",
       "                                  song                        album_name  \\\n",
       "0                        Ordinary Life                  Cruel Intentions   \n",
       "1                          Sale el Sol                       Sale el Sol   \n",
       "2                                Lenda                               CéU   \n",
       "3            Troublemaker Doppelgänger                         No Burden   \n",
       "4                   Castle in the Snow                    Pop Collection   \n",
       "5                     Masters In China                        A Good Day   \n",
       "6                               Oleada                                Si   \n",
       "7                         The Best Day                          Fearless   \n",
       "8  Dance With The One That Brought You                      Shania Twain   \n",
       "9                     When I Found You  Britney (Digital Deluxe Version)   \n",
       "\n",
       "                                               genre  \\\n",
       "0  {singer songwriter, indie rock, soft rock, sou...   \n",
       "1  {singer songwriter, latin pop, latin rock, wor...   \n",
       "2  {vocal jazz, mpb, singer songwriter, reading, ...   \n",
       "3                           {indie folk, indie rock}   \n",
       "4                                        {rock, pop}   \n",
       "5                    {singer songwriter, soul, folk}   \n",
       "6  {latin pop, latin, pop, rock, rock en espanol,...   \n",
       "7  {country pop, singer songwriter, world, disney...   \n",
       "8                                          {country}   \n",
       "9  {disco, singer songwriter, bubblegum pop, pop,...   \n",
       "\n",
       "                                            mfcc_bow  \\\n",
       "0  [0.7781513000000001, 0.0, 2.3242824, 0.0, 1.17...   \n",
       "1  [1.7160033, 0.0, 2.667453, 0.0, 1.1139433, 0.0...   \n",
       "2  [1.3222193000000002, 0.0, 2.146128, 0.0, 2.096...   \n",
       "3  [1.7923917, 0.0, 2.0293837, 0.0, 2.6374898, 0....   \n",
       "4  [0.7781513000000001, 0.0, 1.462398, 0.0, 1.301...   \n",
       "5  [1.50515, 0.0, 1.462398, 0.0, 2.30103, 0.0, 1....   \n",
       "6  [2.3873900000000003, 0.0, 2.469822, 0.0, 2.176...   \n",
       "7  [2.1760912, 0.0, 2.409933, 0.0, 2.348304700000...   \n",
       "8  [1.8512584, 0.0, 2.445604, 0.0, 2.0, 0.0, 2.16...   \n",
       "9  [2.1172712, 0.0, 1.7993406000000003, 0.0, 2.37...   \n",
       "\n",
       "                                        blf_spectral  \\\n",
       "0  [-0.0281731, -0.019438, -0.017372, -0.0138386,...   \n",
       "1  [-0.0238793, -0.0183009, -0.0153329, -0.013102...   \n",
       "2  [-0.0258737, -0.0207687, -0.0182119, -0.015643...   \n",
       "3  [-0.0402956, -0.034032, -0.031251, -0.029338, ...   \n",
       "4  [-0.0240562, -0.0197435, -0.0169551, -0.013990...   \n",
       "5  [-0.0191349, -0.0124968, -0.0088663, -0.006168...   \n",
       "6  [-0.0160536, -0.0104534, -0.00665913, -0.00423...   \n",
       "7  [-0.0254457, -0.0206701, -0.0167254, -0.014913...   \n",
       "8  [-0.0262743, -0.0209276, -0.0173385, -0.015849...   \n",
       "9  [-0.0288562, -0.0247434, -0.0220739, -0.018726...   \n",
       "\n",
       "                                             ivec256  \\\n",
       "0  [0.9454425573349, 1.2708547115325928, 0.325989...   \n",
       "1  [1.8669582605361936, 1.892633914947509, -1.045...   \n",
       "2  [1.7744811773300169, 1.3900917768478394, -0.28...   \n",
       "3  [0.5575369000434875, 1.3157860040664673, 0.573...   \n",
       "4  [1.3591880798339844, 0.6209864020347595, 0.309...   \n",
       "5  [2.129467725753784, 1.0896250009536743, 0.6828...   \n",
       "6  [1.5788124799728394, 1.6625230312347412, 0.228...   \n",
       "7  [-0.5983439087867737, 1.6506197452545166, -0.1...   \n",
       "8  [1.2930843830108645, 1.5080833435058594, -1.48...   \n",
       "9  [2.7151670455932617, 1.8055323362350464, 0.157...   \n",
       "\n",
       "                                            ivec1024  \\\n",
       "0  [-0.0687375515699386, -1.0911340713500977, -0....   \n",
       "1  [1.905163645744324, -1.7262425422668457, 0.853...   \n",
       "2  [0.2054368406534195, -1.1734609603881836, 0.06...   \n",
       "3  [0.6444730758666992, -1.242782711982727, -0.70...   \n",
       "4  [1.3591336011886597, -0.4918332695960999, -0.4...   \n",
       "5  [2.1317338943481445, -0.8425770401954651, -0.9...   \n",
       "6  [1.014309287071228, -1.466999053955078, -0.471...   \n",
       "7  [-0.1132917702198028, -1.7878351211547852, 0.0...   \n",
       "8  [0.7675840258598328, -1.2949352264404297, 1.34...   \n",
       "9  [0.8662742376327515, -1.2880791425704956, -0.5...   \n",
       "\n",
       "                                             musicnn  \\\n",
       "0  [0.4182759, 0.007046508, 0.18775995, 0.0074302...   \n",
       "1  [0.36982688, 0.009932475, 0.18211164, 0.019003...   \n",
       "2  [0.2876089, 0.00694283, 0.09736701, 0.02208063...   \n",
       "3  [0.32060316, 0.0129062785, 0.13242425, 0.02154...   \n",
       "4  [0.27542847, 0.0085207485, 0.17537211, 0.01616...   \n",
       "5  [0.42481366, 0.0026636927, 0.19867267, 0.00749...   \n",
       "6  [0.44143254, 0.0077322265, 0.21047759, 0.00914...   \n",
       "7  [0.4190213, 0.006415901, 0.16974963, 0.0041287...   \n",
       "8  [0.28720874, 0.024735227, 0.124359, 0.00537671...   \n",
       "9  [0.32458788, 0.006880934, 0.12804456, 0.010993...   \n",
       "\n",
       "                                                bert  \\\n",
       "0  [-0.0004561332461889, 0.0145782874897122, -0.0...   \n",
       "1  [0.0123901953920722, 0.0618347860872745, 0.001...   \n",
       "2  [0.0605621598660945, 0.0248984489589929, -0.02...   \n",
       "3  [0.0196989458054304, 0.0582268238067626, 0.001...   \n",
       "4  [-0.0136576881632208, 0.0381329879164695, 0.00...   \n",
       "5  [0.0182842426002025, 0.0133442115038633, -0.02...   \n",
       "6  [0.0002455622889101, 0.0310425776988267, -0.01...   \n",
       "7  [0.0102109359577298, 0.0159489773213863, -0.01...   \n",
       "8  [-0.0112191652879118, 0.0305185876786708, 0.00...   \n",
       "9  [0.0219442192465066, 0.0183226075023412, 0.003...   \n",
       "\n",
       "                                            word2vec  similarity  \n",
       "0  [0.0201837079373767, 0.0221617151968885, 0.016...    0.987132  \n",
       "1  [0.0206834120802038, 0.0080418127259084, 0.011...    0.985367  \n",
       "2  [0.0354904266487643, 0.009812428646477, 0.0021...    0.985336  \n",
       "3  [0.0193930917207513, 0.0224321799395334, 0.008...    0.984114  \n",
       "4  [0.0169709496347023, 0.0083717900892431, -0.02...    0.983854  \n",
       "5  [0.0165479896808019, 0.0139839527770303, 0.010...    0.983130  \n",
       "6  [0.0073746261101526, 0.0089111965646346, 0.022...    0.982718  \n",
       "7  [0.0060818882261895, 0.0110121118431694, 0.005...    0.982597  \n",
       "8  [0.0249538703621446, 0.0043118148694925, 0.027...    0.981084  \n",
       "9  [0.0072971217101439, -0.0070844741000865, 0.02...    0.979875  "
      ]
     },
     "execution_count": 26,
     "metadata": {},
     "output_type": "execute_result"
    }
   ],
   "source": [
    "results"
   ]
  },
  {
   "cell_type": "code",
   "execution_count": 27,
   "metadata": {},
   "outputs": [
    {
     "name": "stdout",
     "output_type": "stream",
     "text": [
      "match: {'indie rock', 'pop', 'soft rock'}\n",
      "match: {'alternative rock', 'soft rock', 'pop', 'pop rock', 'rock'}\n",
      "match: {'indie rock'}\n",
      "match: {'rock', 'pop'}\n",
      "match: {'rock', 'pop'}\n",
      "match: {'pop rock', 'pop'}\n",
      "match: {'pop'}\n"
     ]
    }
   ],
   "source": [
    "for res in results.genre:\n",
    "    if sample_query.genre & res:\n",
    "        print(\"match:\", sample_query.genre & res)"
   ]
  },
  {
   "cell_type": "code",
   "execution_count": 28,
   "metadata": {},
   "outputs": [
    {
     "data": {
      "text/plain": [
       "0.7"
      ]
     },
     "execution_count": 28,
     "metadata": {},
     "output_type": "execute_result"
    }
   ],
   "source": [
    "precision_at_k_single(sample_query, results, 10)"
   ]
  },
  {
   "cell_type": "code",
   "execution_count": 29,
   "metadata": {},
   "outputs": [
    {
     "data": {
      "text/plain": [
       "0.000902178115736564"
      ]
     },
     "execution_count": 29,
     "metadata": {},
     "output_type": "execute_result"
    }
   ],
   "source": [
    "recall_at_k_single(sample_query, results, 10)"
   ]
  },
  {
   "cell_type": "markdown",
   "metadata": {},
   "source": [
    "However, we can simplify & speed up the calculation by:\n",
    "- Creating a genre overlap matrix. Since we consider a track to be relevant if query and retrieved track have one or more genre in common, we can pre-calculate these for speed. This is especially helpful for the recall, as we have to get the full matches for every query (create_genre_overlap_matrix).\n",
    "- Combine precision and recall into a single function (combined_rec_prec_at_k_single)."
   ]
  },
  {
   "cell_type": "code",
   "execution_count": 30,
   "metadata": {},
   "outputs": [],
   "source": [
    "def create_genre_overlap_matrix(songs_df: pd.DataFrame) -> pd.DataFrame:\n",
    "    \"\"\"\n",
    "    Create an optimized DataFrame representing the genre overlap between each pair of songs.\n",
    "    Args:\n",
    "        songs_df (pd.DataFrame): DataFrame containing the songs.\n",
    "        \n",
    "    Returns:\n",
    "        pd.DataFrame: DataFrame with genre overlap between each pair of songs.\n",
    "    \"\"\"\n",
    "    # Create a dictionary for faster access\n",
    "    genre_dict = songs_df.set_index(\"id\")[\"genre\"].to_dict()\n",
    "\n",
    "    # init empty matrix\n",
    "    overlap_matrix = pd.DataFrame(\n",
    "        index=songs_df[\"id\"], columns=songs_df[\"id\"], dtype=bool\n",
    "    )\n",
    "\n",
    "    for song_id, genres in genre_dict.items():\n",
    "        overlap_matrix.loc[song_id] = [\n",
    "            bool(genres & genre_dict[other_id]) for other_id in songs_df[\"id\"]\n",
    "        ]\n",
    "\n",
    "    return overlap_matrix"
   ]
  },
  {
   "cell_type": "code",
   "execution_count": 31,
   "metadata": {},
   "outputs": [
    {
     "data": {
      "text/html": [
       "<div>\n",
       "<style scoped>\n",
       "    .dataframe tbody tr th:only-of-type {\n",
       "        vertical-align: middle;\n",
       "    }\n",
       "\n",
       "    .dataframe tbody tr th {\n",
       "        vertical-align: top;\n",
       "    }\n",
       "\n",
       "    .dataframe thead th {\n",
       "        text-align: right;\n",
       "    }\n",
       "</style>\n",
       "<table border=\"1\" class=\"dataframe\">\n",
       "  <thead>\n",
       "    <tr style=\"text-align: right;\">\n",
       "      <th>id</th>\n",
       "      <th>01Yfj2T3YTwJ1Yfy</th>\n",
       "      <th>01gyRHLquwXDlhkO</th>\n",
       "      <th>01rMxQv6vhyE1oQX</th>\n",
       "      <th>02RGE9FNH65RtMS7</th>\n",
       "      <th>02ZnlCGZEbkfCDxo</th>\n",
       "      <th>04OjszRi9rC5BlHC</th>\n",
       "      <th>04iitW3ffa0mhpx3</th>\n",
       "      <th>04xUDjAYC14jsHyH</th>\n",
       "      <th>06HvNTU9M9lnH71I</th>\n",
       "      <th>06L9OJ5nRqKnO2q9</th>\n",
       "      <th>...</th>\n",
       "      <th>zxI0u8m0EPvVhNeD</th>\n",
       "      <th>zxYtSeZzEVgPczJz</th>\n",
       "      <th>zxlnGZoud2KCmSaw</th>\n",
       "      <th>zyxOCKcXX1RmWpm0</th>\n",
       "      <th>zyz0UbYN4n9rHXex</th>\n",
       "      <th>zyzILCQvVeUFIINi</th>\n",
       "      <th>zzgS4ZqyswamEWNj</th>\n",
       "      <th>zzoFYDMlqU1X2zz1</th>\n",
       "      <th>zzpkRCGA5ud8q4mv</th>\n",
       "      <th>zzx8CWdM7qkxKQpC</th>\n",
       "    </tr>\n",
       "    <tr>\n",
       "      <th>id</th>\n",
       "      <th></th>\n",
       "      <th></th>\n",
       "      <th></th>\n",
       "      <th></th>\n",
       "      <th></th>\n",
       "      <th></th>\n",
       "      <th></th>\n",
       "      <th></th>\n",
       "      <th></th>\n",
       "      <th></th>\n",
       "      <th></th>\n",
       "      <th></th>\n",
       "      <th></th>\n",
       "      <th></th>\n",
       "      <th></th>\n",
       "      <th></th>\n",
       "      <th></th>\n",
       "      <th></th>\n",
       "      <th></th>\n",
       "      <th></th>\n",
       "      <th></th>\n",
       "    </tr>\n",
       "  </thead>\n",
       "  <tbody>\n",
       "    <tr>\n",
       "      <th>01Yfj2T3YTwJ1Yfy</th>\n",
       "      <td>True</td>\n",
       "      <td>False</td>\n",
       "      <td>True</td>\n",
       "      <td>False</td>\n",
       "      <td>False</td>\n",
       "      <td>True</td>\n",
       "      <td>False</td>\n",
       "      <td>False</td>\n",
       "      <td>False</td>\n",
       "      <td>False</td>\n",
       "      <td>...</td>\n",
       "      <td>True</td>\n",
       "      <td>True</td>\n",
       "      <td>True</td>\n",
       "      <td>True</td>\n",
       "      <td>False</td>\n",
       "      <td>True</td>\n",
       "      <td>True</td>\n",
       "      <td>False</td>\n",
       "      <td>True</td>\n",
       "      <td>True</td>\n",
       "    </tr>\n",
       "    <tr>\n",
       "      <th>01gyRHLquwXDlhkO</th>\n",
       "      <td>False</td>\n",
       "      <td>True</td>\n",
       "      <td>False</td>\n",
       "      <td>False</td>\n",
       "      <td>False</td>\n",
       "      <td>False</td>\n",
       "      <td>True</td>\n",
       "      <td>False</td>\n",
       "      <td>False</td>\n",
       "      <td>False</td>\n",
       "      <td>...</td>\n",
       "      <td>False</td>\n",
       "      <td>False</td>\n",
       "      <td>False</td>\n",
       "      <td>False</td>\n",
       "      <td>True</td>\n",
       "      <td>False</td>\n",
       "      <td>False</td>\n",
       "      <td>False</td>\n",
       "      <td>False</td>\n",
       "      <td>False</td>\n",
       "    </tr>\n",
       "    <tr>\n",
       "      <th>01rMxQv6vhyE1oQX</th>\n",
       "      <td>True</td>\n",
       "      <td>False</td>\n",
       "      <td>True</td>\n",
       "      <td>False</td>\n",
       "      <td>False</td>\n",
       "      <td>True</td>\n",
       "      <td>False</td>\n",
       "      <td>False</td>\n",
       "      <td>False</td>\n",
       "      <td>False</td>\n",
       "      <td>...</td>\n",
       "      <td>True</td>\n",
       "      <td>True</td>\n",
       "      <td>True</td>\n",
       "      <td>True</td>\n",
       "      <td>False</td>\n",
       "      <td>True</td>\n",
       "      <td>True</td>\n",
       "      <td>False</td>\n",
       "      <td>True</td>\n",
       "      <td>True</td>\n",
       "    </tr>\n",
       "    <tr>\n",
       "      <th>02RGE9FNH65RtMS7</th>\n",
       "      <td>False</td>\n",
       "      <td>False</td>\n",
       "      <td>False</td>\n",
       "      <td>True</td>\n",
       "      <td>False</td>\n",
       "      <td>False</td>\n",
       "      <td>False</td>\n",
       "      <td>False</td>\n",
       "      <td>False</td>\n",
       "      <td>False</td>\n",
       "      <td>...</td>\n",
       "      <td>False</td>\n",
       "      <td>False</td>\n",
       "      <td>False</td>\n",
       "      <td>False</td>\n",
       "      <td>False</td>\n",
       "      <td>False</td>\n",
       "      <td>False</td>\n",
       "      <td>False</td>\n",
       "      <td>False</td>\n",
       "      <td>False</td>\n",
       "    </tr>\n",
       "    <tr>\n",
       "      <th>02ZnlCGZEbkfCDxo</th>\n",
       "      <td>False</td>\n",
       "      <td>False</td>\n",
       "      <td>False</td>\n",
       "      <td>False</td>\n",
       "      <td>True</td>\n",
       "      <td>True</td>\n",
       "      <td>True</td>\n",
       "      <td>False</td>\n",
       "      <td>True</td>\n",
       "      <td>False</td>\n",
       "      <td>...</td>\n",
       "      <td>True</td>\n",
       "      <td>False</td>\n",
       "      <td>False</td>\n",
       "      <td>True</td>\n",
       "      <td>True</td>\n",
       "      <td>True</td>\n",
       "      <td>True</td>\n",
       "      <td>False</td>\n",
       "      <td>False</td>\n",
       "      <td>False</td>\n",
       "    </tr>\n",
       "    <tr>\n",
       "      <th>04OjszRi9rC5BlHC</th>\n",
       "      <td>True</td>\n",
       "      <td>False</td>\n",
       "      <td>True</td>\n",
       "      <td>False</td>\n",
       "      <td>True</td>\n",
       "      <td>True</td>\n",
       "      <td>True</td>\n",
       "      <td>False</td>\n",
       "      <td>False</td>\n",
       "      <td>False</td>\n",
       "      <td>...</td>\n",
       "      <td>True</td>\n",
       "      <td>True</td>\n",
       "      <td>True</td>\n",
       "      <td>True</td>\n",
       "      <td>True</td>\n",
       "      <td>True</td>\n",
       "      <td>True</td>\n",
       "      <td>False</td>\n",
       "      <td>True</td>\n",
       "      <td>True</td>\n",
       "    </tr>\n",
       "    <tr>\n",
       "      <th>04iitW3ffa0mhpx3</th>\n",
       "      <td>False</td>\n",
       "      <td>True</td>\n",
       "      <td>False</td>\n",
       "      <td>False</td>\n",
       "      <td>True</td>\n",
       "      <td>True</td>\n",
       "      <td>True</td>\n",
       "      <td>False</td>\n",
       "      <td>False</td>\n",
       "      <td>False</td>\n",
       "      <td>...</td>\n",
       "      <td>True</td>\n",
       "      <td>False</td>\n",
       "      <td>True</td>\n",
       "      <td>True</td>\n",
       "      <td>True</td>\n",
       "      <td>True</td>\n",
       "      <td>True</td>\n",
       "      <td>False</td>\n",
       "      <td>True</td>\n",
       "      <td>True</td>\n",
       "    </tr>\n",
       "    <tr>\n",
       "      <th>04xUDjAYC14jsHyH</th>\n",
       "      <td>False</td>\n",
       "      <td>False</td>\n",
       "      <td>False</td>\n",
       "      <td>False</td>\n",
       "      <td>False</td>\n",
       "      <td>False</td>\n",
       "      <td>False</td>\n",
       "      <td>True</td>\n",
       "      <td>False</td>\n",
       "      <td>False</td>\n",
       "      <td>...</td>\n",
       "      <td>False</td>\n",
       "      <td>True</td>\n",
       "      <td>False</td>\n",
       "      <td>False</td>\n",
       "      <td>False</td>\n",
       "      <td>False</td>\n",
       "      <td>False</td>\n",
       "      <td>False</td>\n",
       "      <td>False</td>\n",
       "      <td>True</td>\n",
       "    </tr>\n",
       "    <tr>\n",
       "      <th>06HvNTU9M9lnH71I</th>\n",
       "      <td>False</td>\n",
       "      <td>False</td>\n",
       "      <td>False</td>\n",
       "      <td>False</td>\n",
       "      <td>True</td>\n",
       "      <td>False</td>\n",
       "      <td>False</td>\n",
       "      <td>False</td>\n",
       "      <td>True</td>\n",
       "      <td>False</td>\n",
       "      <td>...</td>\n",
       "      <td>False</td>\n",
       "      <td>False</td>\n",
       "      <td>False</td>\n",
       "      <td>True</td>\n",
       "      <td>False</td>\n",
       "      <td>False</td>\n",
       "      <td>False</td>\n",
       "      <td>True</td>\n",
       "      <td>False</td>\n",
       "      <td>False</td>\n",
       "    </tr>\n",
       "    <tr>\n",
       "      <th>06L9OJ5nRqKnO2q9</th>\n",
       "      <td>False</td>\n",
       "      <td>False</td>\n",
       "      <td>False</td>\n",
       "      <td>False</td>\n",
       "      <td>False</td>\n",
       "      <td>False</td>\n",
       "      <td>False</td>\n",
       "      <td>False</td>\n",
       "      <td>False</td>\n",
       "      <td>True</td>\n",
       "      <td>...</td>\n",
       "      <td>False</td>\n",
       "      <td>False</td>\n",
       "      <td>False</td>\n",
       "      <td>False</td>\n",
       "      <td>False</td>\n",
       "      <td>False</td>\n",
       "      <td>False</td>\n",
       "      <td>False</td>\n",
       "      <td>False</td>\n",
       "      <td>False</td>\n",
       "    </tr>\n",
       "  </tbody>\n",
       "</table>\n",
       "<p>10 rows × 10094 columns</p>\n",
       "</div>"
      ],
      "text/plain": [
       "id                01Yfj2T3YTwJ1Yfy  01gyRHLquwXDlhkO  01rMxQv6vhyE1oQX  \\\n",
       "id                                                                       \n",
       "01Yfj2T3YTwJ1Yfy              True             False              True   \n",
       "01gyRHLquwXDlhkO             False              True             False   \n",
       "01rMxQv6vhyE1oQX              True             False              True   \n",
       "02RGE9FNH65RtMS7             False             False             False   \n",
       "02ZnlCGZEbkfCDxo             False             False             False   \n",
       "04OjszRi9rC5BlHC              True             False              True   \n",
       "04iitW3ffa0mhpx3             False              True             False   \n",
       "04xUDjAYC14jsHyH             False             False             False   \n",
       "06HvNTU9M9lnH71I             False             False             False   \n",
       "06L9OJ5nRqKnO2q9             False             False             False   \n",
       "\n",
       "id                02RGE9FNH65RtMS7  02ZnlCGZEbkfCDxo  04OjszRi9rC5BlHC  \\\n",
       "id                                                                       \n",
       "01Yfj2T3YTwJ1Yfy             False             False              True   \n",
       "01gyRHLquwXDlhkO             False             False             False   \n",
       "01rMxQv6vhyE1oQX             False             False              True   \n",
       "02RGE9FNH65RtMS7              True             False             False   \n",
       "02ZnlCGZEbkfCDxo             False              True              True   \n",
       "04OjszRi9rC5BlHC             False              True              True   \n",
       "04iitW3ffa0mhpx3             False              True              True   \n",
       "04xUDjAYC14jsHyH             False             False             False   \n",
       "06HvNTU9M9lnH71I             False              True             False   \n",
       "06L9OJ5nRqKnO2q9             False             False             False   \n",
       "\n",
       "id                04iitW3ffa0mhpx3  04xUDjAYC14jsHyH  06HvNTU9M9lnH71I  \\\n",
       "id                                                                       \n",
       "01Yfj2T3YTwJ1Yfy             False             False             False   \n",
       "01gyRHLquwXDlhkO              True             False             False   \n",
       "01rMxQv6vhyE1oQX             False             False             False   \n",
       "02RGE9FNH65RtMS7             False             False             False   \n",
       "02ZnlCGZEbkfCDxo              True             False              True   \n",
       "04OjszRi9rC5BlHC              True             False             False   \n",
       "04iitW3ffa0mhpx3              True             False             False   \n",
       "04xUDjAYC14jsHyH             False              True             False   \n",
       "06HvNTU9M9lnH71I             False             False              True   \n",
       "06L9OJ5nRqKnO2q9             False             False             False   \n",
       "\n",
       "id                06L9OJ5nRqKnO2q9  ...  zxI0u8m0EPvVhNeD  zxYtSeZzEVgPczJz  \\\n",
       "id                                  ...                                       \n",
       "01Yfj2T3YTwJ1Yfy             False  ...              True              True   \n",
       "01gyRHLquwXDlhkO             False  ...             False             False   \n",
       "01rMxQv6vhyE1oQX             False  ...              True              True   \n",
       "02RGE9FNH65RtMS7             False  ...             False             False   \n",
       "02ZnlCGZEbkfCDxo             False  ...              True             False   \n",
       "04OjszRi9rC5BlHC             False  ...              True              True   \n",
       "04iitW3ffa0mhpx3             False  ...              True             False   \n",
       "04xUDjAYC14jsHyH             False  ...             False              True   \n",
       "06HvNTU9M9lnH71I             False  ...             False             False   \n",
       "06L9OJ5nRqKnO2q9              True  ...             False             False   \n",
       "\n",
       "id                zxlnGZoud2KCmSaw  zyxOCKcXX1RmWpm0  zyz0UbYN4n9rHXex  \\\n",
       "id                                                                       \n",
       "01Yfj2T3YTwJ1Yfy              True              True             False   \n",
       "01gyRHLquwXDlhkO             False             False              True   \n",
       "01rMxQv6vhyE1oQX              True              True             False   \n",
       "02RGE9FNH65RtMS7             False             False             False   \n",
       "02ZnlCGZEbkfCDxo             False              True              True   \n",
       "04OjszRi9rC5BlHC              True              True              True   \n",
       "04iitW3ffa0mhpx3              True              True              True   \n",
       "04xUDjAYC14jsHyH             False             False             False   \n",
       "06HvNTU9M9lnH71I             False              True             False   \n",
       "06L9OJ5nRqKnO2q9             False             False             False   \n",
       "\n",
       "id                zyzILCQvVeUFIINi  zzgS4ZqyswamEWNj  zzoFYDMlqU1X2zz1  \\\n",
       "id                                                                       \n",
       "01Yfj2T3YTwJ1Yfy              True              True             False   \n",
       "01gyRHLquwXDlhkO             False             False             False   \n",
       "01rMxQv6vhyE1oQX              True              True             False   \n",
       "02RGE9FNH65RtMS7             False             False             False   \n",
       "02ZnlCGZEbkfCDxo              True              True             False   \n",
       "04OjszRi9rC5BlHC              True              True             False   \n",
       "04iitW3ffa0mhpx3              True              True             False   \n",
       "04xUDjAYC14jsHyH             False             False             False   \n",
       "06HvNTU9M9lnH71I             False             False              True   \n",
       "06L9OJ5nRqKnO2q9             False             False             False   \n",
       "\n",
       "id                zzpkRCGA5ud8q4mv  zzx8CWdM7qkxKQpC  \n",
       "id                                                    \n",
       "01Yfj2T3YTwJ1Yfy              True              True  \n",
       "01gyRHLquwXDlhkO             False             False  \n",
       "01rMxQv6vhyE1oQX              True              True  \n",
       "02RGE9FNH65RtMS7             False             False  \n",
       "02ZnlCGZEbkfCDxo             False             False  \n",
       "04OjszRi9rC5BlHC              True              True  \n",
       "04iitW3ffa0mhpx3              True              True  \n",
       "04xUDjAYC14jsHyH             False              True  \n",
       "06HvNTU9M9lnH71I             False             False  \n",
       "06L9OJ5nRqKnO2q9             False             False  \n",
       "\n",
       "[10 rows x 10094 columns]"
      ]
     },
     "execution_count": 31,
     "metadata": {},
     "output_type": "execute_result"
    }
   ],
   "source": [
    "genre_overlap_matrix = create_genre_overlap_matrix(df)\n",
    "genre_overlap_matrix.head(10)"
   ]
  },
  {
   "cell_type": "code",
   "execution_count": 32,
   "metadata": {},
   "outputs": [],
   "source": [
    "def combined_rec_prec_at_k_single(query_id: str, retrieved_tracks: pd.DataFrame, k: int, overlap_matrix: pd.DataFrame) -> Tuple[float, float]:\n",
    "    \"\"\"Combined precision and recall at k for a single query song.\n",
    "\n",
    "    Args:\n",
    "        query_id (str): Query song id.\n",
    "        retrieved_tracks (pd.DataFrame): The retrieved tracks of an RS.\n",
    "        k (int): Number of retrieved tracks to consider.\n",
    "        overlap_matrix (pd.DataFrame): The genre overlap matrix.\n",
    "\n",
    "    Raises:\n",
    "        ValueError: k must be smaller than or equal to the number of retrieved tracks.\n",
    "\n",
    "    Returns:\n",
    "        Tuple[float, float]: Precision and recall at k.\n",
    "    \"\"\"\n",
    "    if k > len(retrieved_tracks):\n",
    "        raise ValueError(\n",
    "            f\"k must be smaller than or equal to the number of retrieved tracks ({len(retrieved_tracks)})\"\n",
    "        )\n",
    "\n",
    "    # Filter the retrieved tracks to top k\n",
    "    retrieved_tracks = retrieved_tracks.head(k)\n",
    "\n",
    "    # Count relevant items in top k using the overlap matrix\n",
    "    relevant_items_retrieved = overlap_matrix.loc[query_id, retrieved_tracks[\"id\"]].sum()\n",
    "\n",
    "    # Count total relevant items in the dataset using the overlap matrix\n",
    "    relevant_items_total = overlap_matrix.loc[query_id].sum()\n",
    "\n",
    "    precision = relevant_items_retrieved / k\n",
    "    recall = (\n",
    "        relevant_items_retrieved / relevant_items_total\n",
    "        if relevant_items_total > 0\n",
    "        else 0\n",
    "    )\n",
    "\n",
    "    return precision, recall"
   ]
  },
  {
   "cell_type": "code",
   "execution_count": 33,
   "metadata": {},
   "outputs": [
    {
     "data": {
      "text/plain": [
       "(0.7, 0.000902178115736564)"
      ]
     },
     "execution_count": 33,
     "metadata": {},
     "output_type": "execute_result"
    }
   ],
   "source": [
    "precision, recall = combined_rec_prec_at_k_single(\n",
    "    sample_query[\"id\"], rs_cos_dnn.retrieve(sample_song, 10), 10, genre_overlap_matrix\n",
    ")\n",
    "precision, recall"
   ]
  },
  {
   "cell_type": "markdown",
   "metadata": {},
   "source": [
    "We can see that we get the same results."
   ]
  },
  {
   "cell_type": "markdown",
   "metadata": {},
   "source": [
    "## nDCG@10"
   ]
  },
  {
   "cell_type": "code",
   "execution_count": 34,
   "metadata": {},
   "outputs": [],
   "source": [
    "def sorensen_dice_genres(genre1: set, genre2: set) -> float:\n",
    "    \"\"\"Calculate the Sorensen-Dice coefficient for two sets of genres.\n",
    "    Args:\n",
    "        genre1 (set): First set of genres.\n",
    "        genre2 (set): Second set of genres.\n",
    "    Returns:\n",
    "        float: Sorensen-Dice coefficient.\n",
    "    \"\"\"\n",
    "    return 2 * len(genre1 & genre2) / (len(genre1) + len(genre2))"
   ]
  },
  {
   "cell_type": "code",
   "execution_count": 35,
   "metadata": {},
   "outputs": [],
   "source": [
    "def calculate_dcg(sample_query: pd.Series, retrieved_tracks: pd.DataFrame, k: int) -> float:\n",
    "    \"\"\"Calculate DCG for a single query song.\n",
    "    Args:\n",
    "        sample_query (pd.Series): Query song.\n",
    "        retrieved_tracks (pd.DataFrame): Retrieved tracks. \n",
    "        k (int): Number of retrieved tracks to consider.\n",
    "    Returns:\n",
    "        float: DCG@k\n",
    "    \"\"\"\n",
    "    # Vectorized calculation of relevance scores\n",
    "    relevance_scores = retrieved_tracks['genre'].apply(lambda x: sorensen_dice_genres(sample_query[\"genre\"], x))\n",
    "    top_k_scores = relevance_scores.head(k).values\n",
    "\n",
    "    denominators = np.log2(np.arange(2, k + 1))  # Starts from 2 since log2(1) is 0 and it's used for the first item\n",
    "    return top_k_scores[0] + sum(top_k_scores[1:] / denominators)"
   ]
  },
  {
   "cell_type": "code",
   "execution_count": 36,
   "metadata": {},
   "outputs": [
    {
     "data": {
      "text/plain": [
       "0.9926746644813018"
      ]
     },
     "execution_count": 36,
     "metadata": {},
     "output_type": "execute_result"
    }
   ],
   "source": [
    "# test\n",
    "calculate_dcg(sample_query, results, 10)\n"
   ]
  },
  {
   "cell_type": "code",
   "execution_count": 37,
   "metadata": {},
   "outputs": [],
   "source": [
    "\n",
    "\n",
    "def calculate_idcg(sample_query: pd.Series, k: int) -> float:\n",
    "    \"\"\"Calculate IDCG for a single query song.\n",
    "    Args:\n",
    "        sample_query (pd.Series): Query song.\n",
    "        k (int): Number of retrieved tracks to consider.\n",
    "        \n",
    "    Returns:\n",
    "        float: IDCG@k\n",
    "    \"\"\"\n",
    "    # Vectorized calculation of relevance scores\n",
    "    relevance_scores = df['genre'].apply(lambda x: sorensen_dice_genres(sample_query[\"genre\"], x))\n",
    "    # sort and take top k\n",
    "    sorted_scores = relevance_scores.sort_values(ascending=False).head(k).values\n",
    "\n",
    "    # normalize by log2 of rank\n",
    "    denominators = np.log2(np.arange(2, k + 1))\n",
    "    return sorted_scores[0] + sum(sorted_scores[1:] / denominators)\n"
   ]
  },
  {
   "cell_type": "code",
   "execution_count": 38,
   "metadata": {},
   "outputs": [
    {
     "data": {
      "text/plain": [
       "3.9121303227676525"
      ]
     },
     "execution_count": 38,
     "metadata": {},
     "output_type": "execute_result"
    }
   ],
   "source": [
    "calculate_idcg(sample_query, 10)"
   ]
  },
  {
   "cell_type": "code",
   "execution_count": 39,
   "metadata": {},
   "outputs": [],
   "source": [
    "def ndcg_at_k_single(\n",
    "    sample_query: pd.Series, retrieved_tracks: pd.DataFrame, k: int\n",
    ") -> float:\n",
    "    \"\"\"NDCG@k for a single query song.\n",
    "    Args:\n",
    "        sample_query (pd.Series): Query song.\n",
    "        retrieved_tracks (pd.DataFrame): Retrieved tracks. \n",
    "        k (int): Number of retrieved tracks to consider.\n",
    "    Returns:\n",
    "        float: NDCG@k\n",
    "    \"\"\"\n",
    "    if k > len(retrieved_tracks):\n",
    "        raise ValueError(\n",
    "            f\"k must be smaller than the number of retrieved tracks ({len(retrieved_tracks)})\"\n",
    "        )\n",
    "        \n",
    "    retrieved_tracks = retrieved_tracks.head(k)\n",
    "    return calculate_dcg(sample_query, retrieved_tracks, k) / calculate_idcg(\n",
    "        sample_query, k\n",
    "    )"
   ]
  },
  {
   "cell_type": "code",
   "execution_count": 40,
   "metadata": {},
   "outputs": [
    {
     "data": {
      "text/plain": [
       "0.25374273927025776"
      ]
     },
     "execution_count": 40,
     "metadata": {},
     "output_type": "execute_result"
    }
   ],
   "source": [
    "ndcg_at_k_single(sample_query, results, 10)"
   ]
  },
  {
   "cell_type": "markdown",
   "metadata": {},
   "source": [
    "## Evaluate systems"
   ]
  },
  {
   "cell_type": "code",
   "execution_count": 44,
   "metadata": {},
   "outputs": [],
   "source": [
    "import numpy as np\n",
    "\n",
    "\n",
    "def calc_metrics(rs: RetrievalSystem, k1: int, k2: int, step: int) -> pd.DataFrame:\n",
    "    \"\"\"Calculate mean precision@k and recall@k for all queries in the dataset.\n",
    "    \n",
    "    Args:\n",
    "        rs (RetrievalSystem): The retrieval system.\n",
    "        k1 (int): The maximum k.\n",
    "        k2 (int): The minimum k.\n",
    "        step (int): The step size.\n",
    "    \n",
    "    Returns:\n",
    "        pd.DataFrame: DataFrame containing the mean precision@k and recall@k.\n",
    "    \"\"\"\n",
    "    num_queries = len(rs.df)\n",
    "    k_values = list(range(k2, k1 - 1, -step))\n",
    "    if k1 not in k_values:\n",
    "        k_values.append(k1)\n",
    "    recall_array = np.zeros(len(k_values))\n",
    "    precision_array = np.zeros(len(k_values))\n",
    "    ndcg = 0\n",
    "\n",
    "    for _, query in tqdm(rs.df.iterrows(), total=num_queries):\n",
    "        # Retrieve all results once for the max k\n",
    "        all_retrieved_tracks = rs.retrieve(query[\"id\"], k2)\n",
    "\n",
    "        for i, k in enumerate(k_values):\n",
    "            retrieved_tracks = all_retrieved_tracks[:k]\n",
    "            precision, recall = combined_rec_prec_at_k_single(\n",
    "                query[\"id\"], retrieved_tracks, k, genre_overlap_matrix\n",
    "            )\n",
    "            precision_array[i] += precision\n",
    "            recall_array[i] += recall\n",
    "        \n",
    "        # ndcg \n",
    "        ndcg += ndcg_at_k_single(query, all_retrieved_tracks[:10], 10)\n",
    "\n",
    "    # Convert sums to means\n",
    "    recall_array /= num_queries\n",
    "    precision_array /= num_queries\n",
    "    ndcg /= num_queries\n",
    "\n",
    "    return pd.DataFrame(\n",
    "        {\"k\": k_values, \"recall\": recall_array, \"precision\": precision_array, \"ndcg10\": ndcg}\n",
    "    ).set_index(\"k\")  \n",
    "    "
   ]
  },
  {
   "cell_type": "code",
   "execution_count": 45,
   "metadata": {},
   "outputs": [],
   "source": [
    "K1 = 1\n",
    "K2 = 100\n",
    "STEP = 5"
   ]
  },
  {
   "cell_type": "code",
   "execution_count": 52,
   "metadata": {},
   "outputs": [
    {
     "name": "stdout",
     "output_type": "stream",
     "text": [
      "Calculating metrics for random with random...\n"
     ]
    },
    {
     "name": "stderr",
     "output_type": "stream",
     "text": [
      "100%|██████████| 10094/10094 [03:25<00:00, 49.16it/s]\n"
     ]
    },
    {
     "data": {
      "image/png": "[encoded data removed]",
      "text/plain": [
       "<Figure size 1200x800 with 1 Axes>"
      ]
     },
     "metadata": {},
     "output_type": "display_data"
    },
    {
     "name": "stdout",
     "output_type": "stream",
     "text": [
      "Calculating metrics for cosine with tf-idf...\n"
     ]
    },
    {
     "name": "stderr",
     "output_type": "stream",
     "text": [
      "100%|██████████| 10094/10094 [03:26<00:00, 48.85it/s]\n"
     ]
    },
    {
     "data": {
      "image/png": "[encoded data removed]",
      "text/plain": [
       "<Figure size 1200x800 with 1 Axes>"
      ]
     },
     "metadata": {},
     "output_type": "display_data"
    },
    {
     "name": "stdout",
     "output_type": "stream",
     "text": [
      "Calculating metrics for cosine with bert...\n"
     ]
    },
    {
     "name": "stderr",
     "output_type": "stream",
     "text": [
      "100%|██████████| 10094/10094 [07:44<00:00, 21.74it/s]\n"
     ]
    },
    {
     "data": {
      "image/png": "[encoded data removed]",
      "text/plain": [
       "<Figure size 1200x800 with 1 Axes>"
      ]
     },
     "metadata": {},
     "output_type": "display_data"
    },
    {
     "name": "stdout",
     "output_type": "stream",
     "text": [
      "Calculating metrics for dot with word2vec...\n"
     ]
    },
    {
     "name": "stderr",
     "output_type": "stream",
     "text": [
      "100%|██████████| 10094/10094 [04:53<00:00, 34.41it/s]\n"
     ]
    },
    {
     "data": {
      "image/png": "[encoded data removed]",
      "text/plain": [
       "<Figure size 1200x800 with 1 Axes>"
      ]
     },
     "metadata": {},
     "output_type": "display_data"
    },
    {
     "name": "stdout",
     "output_type": "stream",
     "text": [
      "Calculating metrics for cosine with mfcc_bow...\n"
     ]
    },
    {
     "name": "stderr",
     "output_type": "stream",
     "text": [
      "100%|██████████| 10094/10094 [06:28<00:00, 25.97it/s]\n"
     ]
    },
    {
     "data": {
      "image/png": "[encoded data removed]",
      "text/plain": [
       "<Figure size 1200x800 with 1 Axes>"
      ]
     },
     "metadata": {},
     "output_type": "display_data"
    },
    {
     "name": "stdout",
     "output_type": "stream",
     "text": [
      "Calculating metrics for cosine with blf_spectral...\n"
     ]
    },
    {
     "name": "stderr",
     "output_type": "stream",
     "text": [
      " 27%|██▋       | 2675/10094 [03:30<32:40,  3.78it/s]  "
     ]
    },
    {
     "ename": "",
     "evalue": "",
     "output_type": "error",
     "traceback": [
      "\u001b[1;31mThe Kernel crashed while executing code in the the current cell or a previous cell. Please review the code in the cell(s) to identify a possible cause of the failure. Click <a href='https://aka.ms/vscodeJupyterKernelCrash'>here</a> for more info. View Jupyter <a href='command:jupyter.viewOutput'>log</a> for further details."
     ]
    }
   ],
   "source": [
    "rs['metrics'] = None\n",
    "\n",
    "for index, row in rs.iterrows():\n",
    "    rs_object = row['rs_object']\n",
    "    metric_name = row['metric']\n",
    "    feature_name = row['feature']\n",
    "    print(f\"Calculating metrics for {metric_name} with {feature_name}...\")\n",
    "\n",
    "    # Calculate metrics\n",
    "    metrics_df = calc_metrics(rs_object, k1=K1, k2=K2, step=STEP)\n",
    "\n",
    "    # Store the metrics DataFrame in the rs DataFrame\n",
    "    rs.at[index, 'metrics'] = metrics_df\n",
    "\n",
    "\n",
    "    # Plotting\n",
    "    plt.figure(figsize=(12, 8))\n",
    "    plt.plot(metrics_df['recall'], metrics_df['precision'], marker='o', label=f\"{metric_name} ({feature_name})\")\n",
    "\n",
    "    # Annotate each point with its k value\n",
    "    for k, recall, precision in zip(metrics_df.index, metrics_df['recall'], metrics_df['precision']):\n",
    "        plt.annotate(f\"k={k}\", (recall, precision), textcoords=\"offset points\", xytext=(0,10), ha='center')\n",
    "\n",
    "    plt.title(f'Precision-Recall Curve for {metric_name} with {feature_name}')\n",
    "    plt.xlabel('Recall')\n",
    "    plt.ylabel('Precision')\n",
    "    plt.legend()\n",
    "    plt.grid(True)\n",
    "    plt.show()"
   ]
  },
  {
   "cell_type": "code",
   "execution_count": 51,
   "metadata": {},
   "outputs": [],
   "source": [
    "rs.to_csv(\"task2.csv\", index=False)"
   ]
  },
  {
   "cell_type": "code",
   "execution_count": null,
   "metadata": {},
   "outputs": [],
   "source": []
  }
 ],
 "metadata": {
  "kernelspec": {
   "display_name": "Python 3",
   "language": "python",
   "name": "python3"
  },
  "language_info": {
   "codemirror_mode": {
    "name": "ipython",
    "version": 3
   },
   "file_extension": ".py",
   "mimetype": "text/x-python",
   "name": "python",
   "nbconvert_exporter": "python",
   "pygments_lexer": "ipython3",
   "version": "3.11.5"
  }
 },
 "nbformat": 4,
 "nbformat_minor": 0
}
