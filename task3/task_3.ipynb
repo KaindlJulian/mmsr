{
 "cells": [
  {
   "cell_type": "markdown",
   "metadata": {},
   "source": [
    "# Read and Explore Data"
   ]
  },
  {
   "cell_type": "code",
   "execution_count": 3,
   "metadata": {
    "collapsed": false,
    "jupyter": {
     "outputs_hidden": false
    }
   },
   "outputs": [],
   "source": [
    "import sys\n",
    "\n",
    "sys.path.append(\"../\")\n",
    "\n",
    "import numpy as np\n",
    "import pandas as pd\n",
    "from sklearn.preprocessing import StandardScaler\n",
    "from typing import Union, Tuple\n",
    "from tqdm.notebook import tqdm\n",
    "import matplotlib.pyplot as plt"
   ]
  },
  {
   "cell_type": "code",
   "execution_count": 4,
   "metadata": {
    "collapsed": false,
    "jupyter": {
     "outputs_hidden": false
    }
   },
   "outputs": [],
   "source": [
    "from task1.retrieval_system import RetrievalSystem, SongInfo\n",
    "from task1.similarity_measure import (\n",
    "    cosine_similarity,\n",
    "    dot_product,\n",
    "    manhattan_distance,\n",
    "    euclidean_distance,\n",
    "    random_similarity,\n",
    ")\n",
    "from utils import read, embed_and_merge"
   ]
  },
  {
   "cell_type": "code",
   "execution_count": 5,
   "metadata": {
    "collapsed": false,
    "jupyter": {
     "outputs_hidden": false
    }
   },
   "outputs": [
    {
     "data": {
      "text/plain": "                     id                       artist  \\\n0      01Yfj2T3YTwJ1Yfy                  We As Human   \n1      01gyRHLquwXDlhkO         The Notorious B.I.G.   \n2      01rMxQv6vhyE1oQX          Against the Current   \n3      02RGE9FNH65RtMS7                     Barthezz   \n4      02ZnlCGZEbkfCDxo                Laura Pausini   \n...                 ...                          ...   \n10090  zyzILCQvVeUFIINi                Crowded House   \n10091  zzgS4ZqyswamEWNj               Britney Spears   \n10092  zzoFYDMlqU1X2zz1                   Thundercat   \n10093  zzpkRCGA5ud8q4mv                 Otis Redding   \n10094  zzx8CWdM7qkxKQpC  Ted Leo and the Pharmacists   \n\n                                            song  \\\n0      Take The Bullets Away (feat. Lacey Sturm)   \n1                           Somebody's Gotta Die   \n2                                 Chasing Ghosts   \n3                                       Infected   \n4                               Tra Te E Il Mare   \n...                                          ...   \n10090                              When You Come   \n10091                   My Only Wish (This Year)   \n10092                                        DUI   \n10093                               Rock Me Baby   \n10094                    Counting Down the Hours   \n\n                                        album_name  \n0                                      We As Human  \n1            Life After Death (Remastered Edition)  \n2                                     In Our Bones  \n3             Trance - The Early Years (1997-2002)  \n4      The Best of Laura Pausini - E Ritorno Da Te  \n...                                            ...  \n10090                            Temple Of Low Men  \n10091                           Platinum Christmas  \n10092                                        Drunk  \n10093                                    Otis Blue  \n10094                             Shake the Sheets  \n\n[10095 rows x 4 columns]",
      "text/html": "<div>\n<style scoped>\n    .dataframe tbody tr th:only-of-type {\n        vertical-align: middle;\n    }\n\n    .dataframe tbody tr th {\n        vertical-align: top;\n    }\n\n    .dataframe thead th {\n        text-align: right;\n    }\n</style>\n<table border=\"1\" class=\"dataframe\">\n  <thead>\n    <tr style=\"text-align: right;\">\n      <th></th>\n      <th>id</th>\n      <th>artist</th>\n      <th>song</th>\n      <th>album_name</th>\n    </tr>\n  </thead>\n  <tbody>\n    <tr>\n      <th>0</th>\n      <td>01Yfj2T3YTwJ1Yfy</td>\n      <td>We As Human</td>\n      <td>Take The Bullets Away (feat. Lacey Sturm)</td>\n      <td>We As Human</td>\n    </tr>\n    <tr>\n      <th>1</th>\n      <td>01gyRHLquwXDlhkO</td>\n      <td>The Notorious B.I.G.</td>\n      <td>Somebody's Gotta Die</td>\n      <td>Life After Death (Remastered Edition)</td>\n    </tr>\n    <tr>\n      <th>2</th>\n      <td>01rMxQv6vhyE1oQX</td>\n      <td>Against the Current</td>\n      <td>Chasing Ghosts</td>\n      <td>In Our Bones</td>\n    </tr>\n    <tr>\n      <th>3</th>\n      <td>02RGE9FNH65RtMS7</td>\n      <td>Barthezz</td>\n      <td>Infected</td>\n      <td>Trance - The Early Years (1997-2002)</td>\n    </tr>\n    <tr>\n      <th>4</th>\n      <td>02ZnlCGZEbkfCDxo</td>\n      <td>Laura Pausini</td>\n      <td>Tra Te E Il Mare</td>\n      <td>The Best of Laura Pausini - E Ritorno Da Te</td>\n    </tr>\n    <tr>\n      <th>...</th>\n      <td>...</td>\n      <td>...</td>\n      <td>...</td>\n      <td>...</td>\n    </tr>\n    <tr>\n      <th>10090</th>\n      <td>zyzILCQvVeUFIINi</td>\n      <td>Crowded House</td>\n      <td>When You Come</td>\n      <td>Temple Of Low Men</td>\n    </tr>\n    <tr>\n      <th>10091</th>\n      <td>zzgS4ZqyswamEWNj</td>\n      <td>Britney Spears</td>\n      <td>My Only Wish (This Year)</td>\n      <td>Platinum Christmas</td>\n    </tr>\n    <tr>\n      <th>10092</th>\n      <td>zzoFYDMlqU1X2zz1</td>\n      <td>Thundercat</td>\n      <td>DUI</td>\n      <td>Drunk</td>\n    </tr>\n    <tr>\n      <th>10093</th>\n      <td>zzpkRCGA5ud8q4mv</td>\n      <td>Otis Redding</td>\n      <td>Rock Me Baby</td>\n      <td>Otis Blue</td>\n    </tr>\n    <tr>\n      <th>10094</th>\n      <td>zzx8CWdM7qkxKQpC</td>\n      <td>Ted Leo and the Pharmacists</td>\n      <td>Counting Down the Hours</td>\n      <td>Shake the Sheets</td>\n    </tr>\n  </tbody>\n</table>\n<p>10095 rows × 4 columns</p>\n</div>"
     },
     "execution_count": 5,
     "metadata": {},
     "output_type": "execute_result"
    }
   ],
   "source": [
    "# basic song information from task 1\n",
    "df = read(\"information\", 0)\n",
    "df"
   ]
  },
  {
   "cell_type": "code",
   "execution_count": 6,
   "metadata": {
    "collapsed": false,
    "jupyter": {
     "outputs_hidden": false
    }
   },
   "outputs": [],
   "source": [
    "# add genre information for metric calculation\n",
    "genres = read(\"genres\", 0)\n",
    "# convert genre to actual list via eval\n",
    "genres[\"genre\"] = genres[\"genre\"].apply(eval).apply(set)\n",
    "df = df.merge(genres, on=\"id\", how=\"left\")"
   ]
  },
  {
   "cell_type": "markdown",
   "metadata": {},
   "source": [
    "We load one new feature and the features from the previous assignments. We need them for comparison and fusion."
   ]
  },
  {
   "cell_type": "code",
   "execution_count": 7,
   "metadata": {
    "collapsed": false,
    "jupyter": {
     "outputs_hidden": false
    }
   },
   "outputs": [],
   "source": [
    "visual_feature = \"resnet\"\n",
    "stats = read(visual_feature, 0)\n",
    "df = embed_and_merge(df, stats, visual_feature)\n",
    "\n",
    "for audio_feature in [\"mfcc_bow\", \"blf_spectral\", \"ivec256\", \"musicnn\"]:\n",
    "    stats = read(audio_feature, 0)\n",
    "    df = embed_and_merge(df, stats, audio_feature)\n",
    "\n",
    "for text_feature in [\"lyrics_bert\", \"lyrics_word2vec\", \"lyrics_tf-idf\"]:\n",
    "    stats = read(text_feature, 0)\n",
    "    df = embed_and_merge(df, stats, text_feature.split(\"_\")[1])"
   ]
  },
  {
   "cell_type": "code",
   "execution_count": 8,
   "metadata": {
    "collapsed": false,
    "jupyter": {
     "outputs_hidden": false
    }
   },
   "outputs": [
    {
     "data": {
      "text/plain": "id              0\nartist          0\nsong            0\nalbum_name      0\ngenre           1\nresnet          1\nmfcc_bow        1\nblf_spectral    1\nivec256         1\nmusicnn         1\nbert            0\nword2vec        0\ntf-idf          0\ndtype: int64"
     },
     "execution_count": 8,
     "metadata": {},
     "output_type": "execute_result"
    }
   ],
   "source": [
    "df.isna().sum()"
   ]
  },
  {
   "cell_type": "code",
   "execution_count": 9,
   "metadata": {
    "collapsed": false,
    "jupyter": {
     "outputs_hidden": false
    }
   },
   "outputs": [],
   "source": [
    "# data for task 2 does not include the item with id \"03Oc9WeMEmyLLQbj\" = row 5\n",
    "df = df.drop(5)\n",
    "df = df.reset_index()"
   ]
  },
  {
   "cell_type": "markdown",
   "metadata": {},
   "source": [
    "# Define retrieval systems"
   ]
  },
  {
   "cell_type": "markdown",
   "metadata": {},
   "source": [
    "## From Task 1 (text-based)"
   ]
  },
  {
   "cell_type": "code",
   "execution_count": 10,
   "metadata": {
    "collapsed": false,
    "jupyter": {
     "outputs_hidden": false
    }
   },
   "outputs": [],
   "source": [
    "rs_random = RetrievalSystem(\n",
    "    df=df,\n",
    "    sim_metric=random_similarity,\n",
    ")"
   ]
  },
  {
   "cell_type": "code",
   "execution_count": 11,
   "metadata": {
    "collapsed": false,
    "jupyter": {
     "outputs_hidden": false
    }
   },
   "outputs": [],
   "source": [
    "rs_cos_tdidf = RetrievalSystem(\n",
    "    df=df,\n",
    "    sim_metric=cosine_similarity,\n",
    "    sim_feature=\"tf-idf\",\n",
    ")"
   ]
  },
  {
   "cell_type": "code",
   "execution_count": 12,
   "metadata": {
    "collapsed": false,
    "jupyter": {
     "outputs_hidden": false
    }
   },
   "outputs": [],
   "source": [
    "rs_cos_bert = RetrievalSystem(\n",
    "    df=df,\n",
    "    sim_metric=cosine_similarity,\n",
    "    sim_feature=\"bert\",\n",
    ")"
   ]
  },
  {
   "cell_type": "code",
   "execution_count": 13,
   "metadata": {
    "collapsed": false,
    "jupyter": {
     "outputs_hidden": false
    }
   },
   "outputs": [],
   "source": [
    "rs_dot_w2v = RetrievalSystem(\n",
    "    df=df,\n",
    "    sim_metric=dot_product,\n",
    "    sim_feature=\"word2vec\",\n",
    ")"
   ]
  },
  {
   "cell_type": "markdown",
   "metadata": {},
   "source": [
    "## From Task 2 (audio-based)"
   ]
  },
  {
   "cell_type": "code",
   "execution_count": 14,
   "metadata": {
    "collapsed": false,
    "jupyter": {
     "outputs_hidden": false
    }
   },
   "outputs": [],
   "source": [
    "rs_cos_mfcc = RetrievalSystem(\n",
    "    df=df,\n",
    "    sim_metric=cosine_similarity,\n",
    "    sim_feature=\"mfcc_bow\",\n",
    ")"
   ]
  },
  {
   "cell_type": "code",
   "execution_count": 15,
   "metadata": {
    "collapsed": false,
    "jupyter": {
     "outputs_hidden": false
    }
   },
   "outputs": [],
   "source": [
    "rs_cos_blf = RetrievalSystem(\n",
    "    df=df,\n",
    "    sim_metric=cosine_similarity,\n",
    "    sim_feature=\"blf_spectral\",\n",
    ")"
   ]
  },
  {
   "cell_type": "code",
   "execution_count": 16,
   "metadata": {
    "collapsed": false,
    "jupyter": {
     "outputs_hidden": false
    }
   },
   "outputs": [],
   "source": [
    "rs_cos_ivec256 = RetrievalSystem(\n",
    "    df=df,\n",
    "    sim_metric=cosine_similarity,\n",
    "    sim_feature=\"ivec256\",\n",
    ")"
   ]
  },
  {
   "cell_type": "code",
   "execution_count": 17,
   "metadata": {
    "collapsed": false,
    "jupyter": {
     "outputs_hidden": false
    }
   },
   "outputs": [],
   "source": [
    "rs_cos_dnn = RetrievalSystem(\n",
    "    df=df,\n",
    "    sim_metric=cosine_similarity,\n",
    "    sim_feature=\"musicnn\",\n",
    ")"
   ]
  },
  {
   "cell_type": "markdown",
   "metadata": {},
   "source": [
    "## From Task 3 (video-based; new!)\n"
   ]
  },
  {
   "cell_type": "code",
   "execution_count": 18,
   "metadata": {
    "collapsed": false,
    "jupyter": {
     "outputs_hidden": false
    }
   },
   "outputs": [],
   "source": [
    "rs_cos_resnet = RetrievalSystem(\n",
    "    df=df,\n",
    "    sim_metric=cosine_similarity,\n",
    "    sim_feature=\"resnet\",\n",
    ")"
   ]
  },
  {
   "cell_type": "markdown",
   "metadata": {},
   "source": [
    "## Fusion Techniques"
   ]
  },
  {
   "cell_type": "markdown",
   "metadata": {},
   "source": [
    "### Early Fusion\n",
    "In this section we wil perform early fusion by concatenating 2 features to form an aggregated feature\n"
   ]
  },
  {
   "cell_type": "code",
   "execution_count": 19,
   "metadata": {
    "collapsed": false,
    "jupyter": {
     "outputs_hidden": false
    }
   },
   "outputs": [
    {
     "name": "stderr",
     "output_type": "stream",
     "text": [
      "C:\\Users\\susig\\AppData\\Local\\Temp\\ipykernel_35224\\66114822.py:7: FutureWarning: Series.__getitem__ treating keys as positions is deprecated. In a future version, integer keys will always be treated as labels (consistent with DataFrame behavior). To access a value by position, use `ser.iloc[pos]`\n",
      "  combined_features['aggr_feature'] = combined_features.apply(lambda row: np.concatenate(row), axis=1)\n"
     ]
    },
    {
     "name": "stdout",
     "output_type": "stream",
     "text": [
      "Number of columns in the first feature: 100\n",
      "Number of columns in the second feature: 500\n",
      "Number of columns in the combined features: 600\n"
     ]
    }
   ],
   "source": [
    "# simply concat features to form aggregated feature\n",
    "text_feature = df[\"ivec256\"]\n",
    "audio_feature = df[\"mfcc_bow\"]\n",
    "\n",
    "combined_features = pd.concat([text_feature, audio_feature], axis=1)\n",
    "\n",
    "combined_features['aggr_feature'] = combined_features.apply(lambda row: np.concatenate(row), axis=1)\n",
    "\n",
    "print(f\"Number of columns in the first feature: {len(combined_features.iloc[0, 0])}\")\n",
    "print(f\"Number of columns in the second feature: {len(combined_features.iloc[0, 1])}\")\n",
    "print(f\"Number of columns in the combined features: {len(combined_features.iloc[0, 2])}\")\n"
   ]
  },
  {
   "cell_type": "code",
   "execution_count": 20,
   "metadata": {
    "collapsed": false,
    "jupyter": {
     "outputs_hidden": false
    }
   },
   "outputs": [
    {
     "name": "stdout",
     "output_type": "stream",
     "text": [
      "0        [-0.4192236661911011, -1.262790322303772, -0.3...\n",
      "1        [1.4574661254882812, 0.619476318359375, -0.351...\n",
      "2        [1.1996194124221802, -0.2549396753311157, 0.48...\n",
      "3        [-0.6352253556251526, 0.6530497074127197, -1.6...\n",
      "4        [-0.1336851567029953, 0.2777222692966461, -0.2...\n",
      "                               ...                        \n",
      "10089    [-0.7924780249595642, -0.1670402139425277, -0....\n",
      "10090    [-0.5068019032478333, -0.5763552188873291, 0.5...\n",
      "10091    [-0.6007039546966553, 0.0078461170196533, 1.47...\n",
      "10092    [-0.8984915018081665, 0.3358610570430756, -0.6...\n",
      "10093    [0.2389325052499771, -0.4458280205726624, -0.3...\n",
      "Name: aggr_feature, Length: 10094, dtype: object\n"
     ]
    }
   ],
   "source": [
    "# scale features to mean=0, sd=1\n",
    "scaler = StandardScaler()\n",
    "arr= []\n",
    "\n",
    "# conver to arr where feature values are columns and rows are samples\n",
    "for row in combined_features[\"aggr_feature\"]:\n",
    "    arr.append(row)\n",
    "arr =  np.array(arr)\n",
    "\n",
    "# fit scaler to whole arr\n",
    "scaler.fit(arr)\n",
    "\n",
    "# transform aggregated feature\n",
    "for row in combined_features[\"aggr_feature\"]:\n",
    "    scaler.transform(row.reshape(1, -1))\n",
    "\n",
    "print(combined_features[\"aggr_feature\"])"
   ]
  },
  {
   "cell_type": "code",
   "execution_count": 21,
   "metadata": {
    "collapsed": false,
    "jupyter": {
     "outputs_hidden": false
    }
   },
   "outputs": [],
   "source": [
    "# use aggregated features for new RS\n",
    "df[\"early_fusion\"] = combined_features[\"aggr_feature\"]\n",
    "\n",
    "rs_cos_early_fusion = RetrievalSystem(\n",
    "    df=df,\n",
    "    sim_metric=cosine_similarity,\n",
    "    sim_feature=\"early_fusion\",\n",
    ")"
   ]
  },
  {
   "cell_type": "code",
   "execution_count": 22,
   "metadata": {
    "tags": []
   },
   "outputs": [
    {
     "data": {
      "text/plain": "       index                id                       artist  \\\n0          0  01Yfj2T3YTwJ1Yfy                  We As Human   \n1          1  01gyRHLquwXDlhkO         The Notorious B.I.G.   \n2          2  01rMxQv6vhyE1oQX          Against the Current   \n3          3  02RGE9FNH65RtMS7                     Barthezz   \n4          4  02ZnlCGZEbkfCDxo                Laura Pausini   \n...      ...               ...                          ...   \n10089  10090  zyzILCQvVeUFIINi                Crowded House   \n10090  10091  zzgS4ZqyswamEWNj               Britney Spears   \n10091  10092  zzoFYDMlqU1X2zz1                   Thundercat   \n10092  10093  zzpkRCGA5ud8q4mv                 Otis Redding   \n10093  10094  zzx8CWdM7qkxKQpC  Ted Leo and the Pharmacists   \n\n                                            song  \\\n0      Take The Bullets Away (feat. Lacey Sturm)   \n1                           Somebody's Gotta Die   \n2                                 Chasing Ghosts   \n3                                       Infected   \n4                               Tra Te E Il Mare   \n...                                          ...   \n10089                              When You Come   \n10090                   My Only Wish (This Year)   \n10091                                        DUI   \n10092                               Rock Me Baby   \n10093                    Counting Down the Hours   \n\n                                        album_name  \\\n0                                      We As Human   \n1            Life After Death (Remastered Edition)   \n2                                     In Our Bones   \n3             Trance - The Early Years (1997-2002)   \n4      The Best of Laura Pausini - E Ritorno Da Te   \n...                                            ...   \n10089                            Temple Of Low Men   \n10090                           Platinum Christmas   \n10091                                        Drunk   \n10092                                    Otis Blue   \n10093                             Shake the Sheets   \n\n                                                   genre  \\\n0                                 {christian rock, rock}   \n1                 {rap, grindcore, death metal, hip hop}   \n2                                       {rock, pop punk}   \n3                   {progressive trance, trance, techno}   \n4      {water, ambient, pop rock, latin, pop folk, la...   \n...                                                  ...   \n10089  {modern rock, pop rock, new wave, indie rock, ...   \n10090  {soundtrack, teen pop, villancicos, rock, pop,...   \n10091                                {jazz fusion, jazz}   \n10092  {blues, r b, blues rock, soul, soul blues, sou...   \n10093  {emo, indie pop, indie rock, electronica, alte...   \n\n                                                  resnet  \\\n0      [0.0, 0.110133, 0.31062, 0.0, 0.003017, 0.1360...   \n1      [0.016343, 0.029984, 0.018722, 0.0, 0.17283, 0...   \n2      [0.000348, 0.0, 1.073413, 0.0, 0.097732, 0.082...   \n3      [1.747856, 1.07442, 0.618729, 0.03181, 0.09682...   \n4      [0.586726, 2.380147, 2.270726, 0.009559, 0.062...   \n...                                                  ...   \n10089  [0.494266, 0.477493, 0.284832, 0.000624, 0.028...   \n10090  [0.011208, 0.0, 0.261763, 0.0, 0.046742, 0.007...   \n10091  [0.52736, 0.214681, 0.194289, 0.0, 0.0, 0.2124...   \n10092  [2.136711, 0.035231, 0.0, 0.009515, 0.007278, ...   \n10093  [0.729075, 0.0, 0.0, 0.0, 0.005841, 0.211247, ...   \n\n                                                mfcc_bow  \\\n0      [1.7993406000000003, 0.0, 2.1731863, 0.0, 0.0,...   \n1      [0.90309, 0.0, 2.5092025, 0.0, 1.2552725, 0.0,...   \n2      [2.0086002, 0.0, 1.6334685, 0.0, 2.0413928, 0....   \n3      [0.0, 0.0, 2.620136, 0.0, 0.0, 0.0, 2.4857213,...   \n4      [1.7160033, 0.0, 1.6232493, 0.0, 1.5440681, 0....   \n...                                                  ...   \n10089  [1.1139433, 0.0, 1.2787536, 0.0, 1.1139433, 0....   \n10090  [1.0, 0.0, 1.5314789, 0.0, 1.8692317, 0.0, 2.8...   \n10091  [1.0791812, 0.0, 0.0, 0.0, 2.220108, 0.0, 1.23...   \n10092  [1.2787536, 0.30103, 2.3443923, 0.9542425, 0.3...   \n10093  [1.3617278, 0.0, 2.1003706, 0.0, 0.30103, 0.0,...   \n\n                                            blf_spectral  \\\n0      [-0.0249477, -0.02097, -0.0181111, -0.0154466,...   \n1      [-0.0309665, -0.0263328, -0.0233278, -0.021667...   \n2      [-0.0329296, -0.0266801, -0.0224072, -0.020073...   \n3      [-0.0267741, -0.021581, -0.0176151, -0.0154089...   \n4      [-0.0312411, -0.0266276, -0.0242226, -0.022217...   \n...                                                  ...   \n10089  [-0.0355863, -0.0310836, -0.0281663, -0.026088...   \n10090  [-0.0312189, -0.0272694, -0.0242698, -0.022141...   \n10091  [-0.0279229, -0.0228092, -0.0200152, -0.015878...   \n10092  [-0.00505264, -0.00451292, -0.00401022, -0.003...   \n10093  [-0.00850744, -0.00763223, -0.00697997, -0.006...   \n\n                                                 ivec256  \\\n0      [-0.4192236661911011, -1.262790322303772, -0.3...   \n1      [1.4574661254882812, 0.619476318359375, -0.351...   \n2      [1.1996194124221802, -0.2549396753311157, 0.48...   \n3      [-0.6352253556251526, 0.6530497074127197, -1.6...   \n4      [-0.1336851567029953, 0.2777222692966461, -0.2...   \n...                                                  ...   \n10089  [-0.7924780249595642, -0.1670402139425277, -0....   \n10090  [-0.5068019032478333, -0.5763552188873291, 0.5...   \n10091  [-0.6007039546966553, 0.0078461170196533, 1.47...   \n10092  [-0.8984915018081665, 0.3358610570430756, -0.6...   \n10093  [0.2389325052499771, -0.4458280205726624, -0.3...   \n\n                                                 musicnn  \\\n0      [0.12903129, 0.0011226882, 0.0065768533, 0.082...   \n1      [0.026824217, 0.00087343465, 0.009360876, 0.31...   \n2      [0.2518178, 0.0043474026, 0.07843659, 0.056584...   \n3      [0.00045163534, 0.0013956887, 0.002990173, 0.8...   \n4      [0.21950364, 0.011686802, 0.054231934, 0.06058...   \n...                                                  ...   \n10089  [0.07816198, 0.028270144, 0.036110856, 0.16444...   \n10090  [0.13354015, 0.0006341115, 0.015991116, 0.1121...   \n10091  [0.35324243, 0.21061507, 0.21161962, 0.0117739...   \n10092  [0.3110698, 0.030005153, 0.053962547, 0.041860...   \n10093  [0.20314741, 0.0004737083, 0.007147183, 0.1303...   \n\n                                                    bert  \\\n0      [0.0302475523203611, 0.0352500043809413, 0.010...   \n1      [0.0084422621876001, 0.0302564185112714, 0.009...   \n2      [0.0490818135440349, 0.0148476688191294, 0.001...   \n3      [0.0445394963026046, 0.0214906893670558, 0.013...   \n4      [0.0514551289379596, 0.0297695714980363, -0.01...   \n...                                                  ...   \n10089  [0.006713552866131, 0.0480893477797508, -0.001...   \n10090  [0.0098905526101589, 0.0401467233896255, -0.02...   \n10091  [0.0101165119558572, 0.0388841480016708, -0.01...   \n10092  [-0.0166116580367088, 0.0266939438879489, -0.0...   \n10093  [0.0070628975518047, 0.0539373308420181, 0.000...   \n\n                                                word2vec  \\\n0      [0.0193592727054678, 0.0232394714425702, 0.028...   \n1      [0.018537292381979, 0.0113115924403394, 0.0107...   \n2      [0.0227837218553759, 0.0231641749730655, 0.012...   \n3      [0.0381116103401342, 0.0278804157207017, 0.016...   \n4      [0.0182936789026777, -0.0064870788035669, 0.00...   \n...                                                  ...   \n10089  [0.0195101330379449, 0.0236336907562543, 0.011...   \n10090  [0.0268563718791583, 0.0082648759004199, 0.011...   \n10091  [0.0051499218912795, 0.0028818239457905, 0.017...   \n10092  [0.0370260450523346, 0.0159991827379498, -0.00...   \n10093  [0.0294775550027151, 0.0302836241438903, 0.012...   \n\n                                                  tf-idf  \\\n0      [0.0, 0.0, 0.0, 0.0, 0.0, 0.0818293914712727, ...   \n1      [0.0, 0.0, 0.0, 0.0, 0.0, 0.0, 0.0, 0.0, 0.0, ...   \n2      [0.0, 0.0, 0.0, 0.0, 0.0, 0.0, 0.0, 0.0, 0.0, ...   \n3      [0.0, 0.0, 0.0, 0.0, 0.0, 0.0, 0.0, 0.0, 0.0, ...   \n4      [0.0, 0.0, 0.0, 0.0, 0.0, 0.2413163920156013, ...   \n...                                                  ...   \n10089  [0.0, 0.0, 0.079623055470056, 0.0, 0.0, 0.0, 0...   \n10090  [0.0, 0.0, 0.0, 0.0, 0.0, 0.0, 0.0, 0.0, 0.0, ...   \n10091  [0.0, 0.0, 0.0, 0.0, 0.0, 0.0, 0.0, 0.0, 0.0, ...   \n10092  [0.0, 0.0, 0.0, 0.0, 0.0, 0.0, 0.0, 0.0, 0.0, ...   \n10093  [0.0, 0.0, 0.0, 0.0748577176019516, 0.0, 0.0, ...   \n\n                                            early_fusion  \n0      [-0.4192236661911011, -1.262790322303772, -0.3...  \n1      [1.4574661254882812, 0.619476318359375, -0.351...  \n2      [1.1996194124221802, -0.2549396753311157, 0.48...  \n3      [-0.6352253556251526, 0.6530497074127197, -1.6...  \n4      [-0.1336851567029953, 0.2777222692966461, -0.2...  \n...                                                  ...  \n10089  [-0.7924780249595642, -0.1670402139425277, -0....  \n10090  [-0.5068019032478333, -0.5763552188873291, 0.5...  \n10091  [-0.6007039546966553, 0.0078461170196533, 1.47...  \n10092  [-0.8984915018081665, 0.3358610570430756, -0.6...  \n10093  [0.2389325052499771, -0.4458280205726624, -0.3...  \n\n[10094 rows x 15 columns]",
      "text/html": "<div>\n<style scoped>\n    .dataframe tbody tr th:only-of-type {\n        vertical-align: middle;\n    }\n\n    .dataframe tbody tr th {\n        vertical-align: top;\n    }\n\n    .dataframe thead th {\n        text-align: right;\n    }\n</style>\n<table border=\"1\" class=\"dataframe\">\n  <thead>\n    <tr style=\"text-align: right;\">\n      <th></th>\n      <th>index</th>\n      <th>id</th>\n      <th>artist</th>\n      <th>song</th>\n      <th>album_name</th>\n      <th>genre</th>\n      <th>resnet</th>\n      <th>mfcc_bow</th>\n      <th>blf_spectral</th>\n      <th>ivec256</th>\n      <th>musicnn</th>\n      <th>bert</th>\n      <th>word2vec</th>\n      <th>tf-idf</th>\n      <th>early_fusion</th>\n    </tr>\n  </thead>\n  <tbody>\n    <tr>\n      <th>0</th>\n      <td>0</td>\n      <td>01Yfj2T3YTwJ1Yfy</td>\n      <td>We As Human</td>\n      <td>Take The Bullets Away (feat. Lacey Sturm)</td>\n      <td>We As Human</td>\n      <td>{christian rock, rock}</td>\n      <td>[0.0, 0.110133, 0.31062, 0.0, 0.003017, 0.1360...</td>\n      <td>[1.7993406000000003, 0.0, 2.1731863, 0.0, 0.0,...</td>\n      <td>[-0.0249477, -0.02097, -0.0181111, -0.0154466,...</td>\n      <td>[-0.4192236661911011, -1.262790322303772, -0.3...</td>\n      <td>[0.12903129, 0.0011226882, 0.0065768533, 0.082...</td>\n      <td>[0.0302475523203611, 0.0352500043809413, 0.010...</td>\n      <td>[0.0193592727054678, 0.0232394714425702, 0.028...</td>\n      <td>[0.0, 0.0, 0.0, 0.0, 0.0, 0.0818293914712727, ...</td>\n      <td>[-0.4192236661911011, -1.262790322303772, -0.3...</td>\n    </tr>\n    <tr>\n      <th>1</th>\n      <td>1</td>\n      <td>01gyRHLquwXDlhkO</td>\n      <td>The Notorious B.I.G.</td>\n      <td>Somebody's Gotta Die</td>\n      <td>Life After Death (Remastered Edition)</td>\n      <td>{rap, grindcore, death metal, hip hop}</td>\n      <td>[0.016343, 0.029984, 0.018722, 0.0, 0.17283, 0...</td>\n      <td>[0.90309, 0.0, 2.5092025, 0.0, 1.2552725, 0.0,...</td>\n      <td>[-0.0309665, -0.0263328, -0.0233278, -0.021667...</td>\n      <td>[1.4574661254882812, 0.619476318359375, -0.351...</td>\n      <td>[0.026824217, 0.00087343465, 0.009360876, 0.31...</td>\n      <td>[0.0084422621876001, 0.0302564185112714, 0.009...</td>\n      <td>[0.018537292381979, 0.0113115924403394, 0.0107...</td>\n      <td>[0.0, 0.0, 0.0, 0.0, 0.0, 0.0, 0.0, 0.0, 0.0, ...</td>\n      <td>[1.4574661254882812, 0.619476318359375, -0.351...</td>\n    </tr>\n    <tr>\n      <th>2</th>\n      <td>2</td>\n      <td>01rMxQv6vhyE1oQX</td>\n      <td>Against the Current</td>\n      <td>Chasing Ghosts</td>\n      <td>In Our Bones</td>\n      <td>{rock, pop punk}</td>\n      <td>[0.000348, 0.0, 1.073413, 0.0, 0.097732, 0.082...</td>\n      <td>[2.0086002, 0.0, 1.6334685, 0.0, 2.0413928, 0....</td>\n      <td>[-0.0329296, -0.0266801, -0.0224072, -0.020073...</td>\n      <td>[1.1996194124221802, -0.2549396753311157, 0.48...</td>\n      <td>[0.2518178, 0.0043474026, 0.07843659, 0.056584...</td>\n      <td>[0.0490818135440349, 0.0148476688191294, 0.001...</td>\n      <td>[0.0227837218553759, 0.0231641749730655, 0.012...</td>\n      <td>[0.0, 0.0, 0.0, 0.0, 0.0, 0.0, 0.0, 0.0, 0.0, ...</td>\n      <td>[1.1996194124221802, -0.2549396753311157, 0.48...</td>\n    </tr>\n    <tr>\n      <th>3</th>\n      <td>3</td>\n      <td>02RGE9FNH65RtMS7</td>\n      <td>Barthezz</td>\n      <td>Infected</td>\n      <td>Trance - The Early Years (1997-2002)</td>\n      <td>{progressive trance, trance, techno}</td>\n      <td>[1.747856, 1.07442, 0.618729, 0.03181, 0.09682...</td>\n      <td>[0.0, 0.0, 2.620136, 0.0, 0.0, 0.0, 2.4857213,...</td>\n      <td>[-0.0267741, -0.021581, -0.0176151, -0.0154089...</td>\n      <td>[-0.6352253556251526, 0.6530497074127197, -1.6...</td>\n      <td>[0.00045163534, 0.0013956887, 0.002990173, 0.8...</td>\n      <td>[0.0445394963026046, 0.0214906893670558, 0.013...</td>\n      <td>[0.0381116103401342, 0.0278804157207017, 0.016...</td>\n      <td>[0.0, 0.0, 0.0, 0.0, 0.0, 0.0, 0.0, 0.0, 0.0, ...</td>\n      <td>[-0.6352253556251526, 0.6530497074127197, -1.6...</td>\n    </tr>\n    <tr>\n      <th>4</th>\n      <td>4</td>\n      <td>02ZnlCGZEbkfCDxo</td>\n      <td>Laura Pausini</td>\n      <td>Tra Te E Il Mare</td>\n      <td>The Best of Laura Pausini - E Ritorno Da Te</td>\n      <td>{water, ambient, pop rock, latin, pop folk, la...</td>\n      <td>[0.586726, 2.380147, 2.270726, 0.009559, 0.062...</td>\n      <td>[1.7160033, 0.0, 1.6232493, 0.0, 1.5440681, 0....</td>\n      <td>[-0.0312411, -0.0266276, -0.0242226, -0.022217...</td>\n      <td>[-0.1336851567029953, 0.2777222692966461, -0.2...</td>\n      <td>[0.21950364, 0.011686802, 0.054231934, 0.06058...</td>\n      <td>[0.0514551289379596, 0.0297695714980363, -0.01...</td>\n      <td>[0.0182936789026777, -0.0064870788035669, 0.00...</td>\n      <td>[0.0, 0.0, 0.0, 0.0, 0.0, 0.2413163920156013, ...</td>\n      <td>[-0.1336851567029953, 0.2777222692966461, -0.2...</td>\n    </tr>\n    <tr>\n      <th>...</th>\n      <td>...</td>\n      <td>...</td>\n      <td>...</td>\n      <td>...</td>\n      <td>...</td>\n      <td>...</td>\n      <td>...</td>\n      <td>...</td>\n      <td>...</td>\n      <td>...</td>\n      <td>...</td>\n      <td>...</td>\n      <td>...</td>\n      <td>...</td>\n      <td>...</td>\n    </tr>\n    <tr>\n      <th>10089</th>\n      <td>10090</td>\n      <td>zyzILCQvVeUFIINi</td>\n      <td>Crowded House</td>\n      <td>When You Come</td>\n      <td>Temple Of Low Men</td>\n      <td>{modern rock, pop rock, new wave, indie rock, ...</td>\n      <td>[0.494266, 0.477493, 0.284832, 0.000624, 0.028...</td>\n      <td>[1.1139433, 0.0, 1.2787536, 0.0, 1.1139433, 0....</td>\n      <td>[-0.0355863, -0.0310836, -0.0281663, -0.026088...</td>\n      <td>[-0.7924780249595642, -0.1670402139425277, -0....</td>\n      <td>[0.07816198, 0.028270144, 0.036110856, 0.16444...</td>\n      <td>[0.006713552866131, 0.0480893477797508, -0.001...</td>\n      <td>[0.0195101330379449, 0.0236336907562543, 0.011...</td>\n      <td>[0.0, 0.0, 0.079623055470056, 0.0, 0.0, 0.0, 0...</td>\n      <td>[-0.7924780249595642, -0.1670402139425277, -0....</td>\n    </tr>\n    <tr>\n      <th>10090</th>\n      <td>10091</td>\n      <td>zzgS4ZqyswamEWNj</td>\n      <td>Britney Spears</td>\n      <td>My Only Wish (This Year)</td>\n      <td>Platinum Christmas</td>\n      <td>{soundtrack, teen pop, villancicos, rock, pop,...</td>\n      <td>[0.011208, 0.0, 0.261763, 0.0, 0.046742, 0.007...</td>\n      <td>[1.0, 0.0, 1.5314789, 0.0, 1.8692317, 0.0, 2.8...</td>\n      <td>[-0.0312189, -0.0272694, -0.0242698, -0.022141...</td>\n      <td>[-0.5068019032478333, -0.5763552188873291, 0.5...</td>\n      <td>[0.13354015, 0.0006341115, 0.015991116, 0.1121...</td>\n      <td>[0.0098905526101589, 0.0401467233896255, -0.02...</td>\n      <td>[0.0268563718791583, 0.0082648759004199, 0.011...</td>\n      <td>[0.0, 0.0, 0.0, 0.0, 0.0, 0.0, 0.0, 0.0, 0.0, ...</td>\n      <td>[-0.5068019032478333, -0.5763552188873291, 0.5...</td>\n    </tr>\n    <tr>\n      <th>10091</th>\n      <td>10092</td>\n      <td>zzoFYDMlqU1X2zz1</td>\n      <td>Thundercat</td>\n      <td>DUI</td>\n      <td>Drunk</td>\n      <td>{jazz fusion, jazz}</td>\n      <td>[0.52736, 0.214681, 0.194289, 0.0, 0.0, 0.2124...</td>\n      <td>[1.0791812, 0.0, 0.0, 0.0, 2.220108, 0.0, 1.23...</td>\n      <td>[-0.0279229, -0.0228092, -0.0200152, -0.015878...</td>\n      <td>[-0.6007039546966553, 0.0078461170196533, 1.47...</td>\n      <td>[0.35324243, 0.21061507, 0.21161962, 0.0117739...</td>\n      <td>[0.0101165119558572, 0.0388841480016708, -0.01...</td>\n      <td>[0.0051499218912795, 0.0028818239457905, 0.017...</td>\n      <td>[0.0, 0.0, 0.0, 0.0, 0.0, 0.0, 0.0, 0.0, 0.0, ...</td>\n      <td>[-0.6007039546966553, 0.0078461170196533, 1.47...</td>\n    </tr>\n    <tr>\n      <th>10092</th>\n      <td>10093</td>\n      <td>zzpkRCGA5ud8q4mv</td>\n      <td>Otis Redding</td>\n      <td>Rock Me Baby</td>\n      <td>Otis Blue</td>\n      <td>{blues, r b, blues rock, soul, soul blues, sou...</td>\n      <td>[2.136711, 0.035231, 0.0, 0.009515, 0.007278, ...</td>\n      <td>[1.2787536, 0.30103, 2.3443923, 0.9542425, 0.3...</td>\n      <td>[-0.00505264, -0.00451292, -0.00401022, -0.003...</td>\n      <td>[-0.8984915018081665, 0.3358610570430756, -0.6...</td>\n      <td>[0.3110698, 0.030005153, 0.053962547, 0.041860...</td>\n      <td>[-0.0166116580367088, 0.0266939438879489, -0.0...</td>\n      <td>[0.0370260450523346, 0.0159991827379498, -0.00...</td>\n      <td>[0.0, 0.0, 0.0, 0.0, 0.0, 0.0, 0.0, 0.0, 0.0, ...</td>\n      <td>[-0.8984915018081665, 0.3358610570430756, -0.6...</td>\n    </tr>\n    <tr>\n      <th>10093</th>\n      <td>10094</td>\n      <td>zzx8CWdM7qkxKQpC</td>\n      <td>Ted Leo and the Pharmacists</td>\n      <td>Counting Down the Hours</td>\n      <td>Shake the Sheets</td>\n      <td>{emo, indie pop, indie rock, electronica, alte...</td>\n      <td>[0.729075, 0.0, 0.0, 0.0, 0.005841, 0.211247, ...</td>\n      <td>[1.3617278, 0.0, 2.1003706, 0.0, 0.30103, 0.0,...</td>\n      <td>[-0.00850744, -0.00763223, -0.00697997, -0.006...</td>\n      <td>[0.2389325052499771, -0.4458280205726624, -0.3...</td>\n      <td>[0.20314741, 0.0004737083, 0.007147183, 0.1303...</td>\n      <td>[0.0070628975518047, 0.0539373308420181, 0.000...</td>\n      <td>[0.0294775550027151, 0.0302836241438903, 0.012...</td>\n      <td>[0.0, 0.0, 0.0, 0.0748577176019516, 0.0, 0.0, ...</td>\n      <td>[0.2389325052499771, -0.4458280205726624, -0.3...</td>\n    </tr>\n  </tbody>\n</table>\n<p>10094 rows × 15 columns</p>\n</div>"
     },
     "execution_count": 22,
     "metadata": {},
     "output_type": "execute_result"
    }
   ],
   "source": [
    "df"
   ]
  },
  {
   "cell_type": "markdown",
   "metadata": {},
   "source": [
    "### Late Fusion\n",
    "In this section we will perform late fusion of 2 retrieval systems using score aggregation by:\n",
    "- precomputing all retrievals and their similarities for chosen retrieval systems.\n",
    "- checking statistical compatability of scores\n",
    "- fusing systems via score average"
   ]
  },
  {
   "cell_type": "code",
   "execution_count": 23,
   "metadata": {
    "collapsed": false,
    "jupyter": {
     "outputs_hidden": false
    }
   },
   "outputs": [],
   "source": [
    "# pre compute retrievals\n",
    "#res = []\n",
    "#\n",
    "#\n",
    "#for system in [rs_cos_dnn, rs_cos_resnet]:\n",
    "#    sim_matrix = pd.DataFrame(\n",
    "#        index=df[\"id\"], columns=df[\"id\"], dtype=float)\n",
    "#    id_order = sim_matrix.index\n",
    "#    for idx, song_id in enumerate(df[\"id\"]):\n",
    "#        sim = system.retrieve(song_id, len(df[\"id\"])).set_index(\"id\")[\"similarity\"]\n",
    "#        # remove sort\n",
    "#        sim = sim.loc[id_order]\n",
    "#        # Fill the original DataFrame with the new DataFrame column\n",
    "#        sim_matrix.iloc[:, idx] = sim\n",
    "#    print(sim_matrix)\n",
    "#    res.append(sim_matrix)"
   ]
  },
  {
   "cell_type": "code",
   "execution_count": 24,
   "metadata": {
    "collapsed": false,
    "jupyter": {
     "outputs_hidden": false
    }
   },
   "outputs": [],
   "source": [
    "## check compatability\n",
    "#for i, sim_ma in enumerate(res):\n",
    "#    print(f\"\\nStatistics for res[{i}]:\")\n",
    "#    print(f\"  Mean: {sim_ma.mean().mean()}\")\n",
    "#    print(f\"  Standard Deviation: {sim_ma.std().mean()}\")"
   ]
  },
  {
   "cell_type": "code",
   "execution_count": 25,
   "metadata": {
    "tags": []
   },
   "outputs": [],
   "source": [
    "# create pd dataframe consisting of all retrieval systems, with metric and feature\n",
    "rs = pd.DataFrame(\n",
    "    [\n",
    "        [\"random\", \"random\", rs_random],\n",
    "        [\"cosine\", \"tf-idf\", rs_cos_tdidf],\n",
    "        [\"cosine\", \"bert\", rs_cos_bert],\n",
    "        [\"dot\", \"word2vec\", rs_dot_w2v],\n",
    "        [\"cosine\", \"mfcc_bow\", rs_cos_mfcc],\n",
    "        [\"cosine\", \"blf_spectral\", rs_cos_blf],\n",
    "        [\"cosine\", \"ivec256\", rs_cos_ivec256],\n",
    "        [\"cosine\", \"musicnn\", rs_cos_dnn],\n",
    "        [\"cosine\", \"resnet\", rs_cos_resnet],\n",
    "        [\"cosine\", \"early_fusion\", rs_cos_early_fusion],\n",
    "        \n",
    "    ],\n",
    "    columns=[\"metric\", \"feature\", \"rs_object\"],\n",
    ")"
   ]
  },
  {
   "cell_type": "code",
   "execution_count": 26,
   "metadata": {
    "tags": []
   },
   "outputs": [
    {
     "data": {
      "text/plain": "   metric       feature                                          rs_object\n0  random        random  <task1.retrieval_system.RetrievalSystem object...\n1  cosine        tf-idf  <task1.retrieval_system.RetrievalSystem object...\n2  cosine          bert  <task1.retrieval_system.RetrievalSystem object...\n3     dot      word2vec  <task1.retrieval_system.RetrievalSystem object...\n4  cosine      mfcc_bow  <task1.retrieval_system.RetrievalSystem object...\n5  cosine  blf_spectral  <task1.retrieval_system.RetrievalSystem object...\n6  cosine       ivec256  <task1.retrieval_system.RetrievalSystem object...\n7  cosine       musicnn  <task1.retrieval_system.RetrievalSystem object...\n8  cosine        resnet  <task1.retrieval_system.RetrievalSystem object...\n9  cosine  early_fusion  <task1.retrieval_system.RetrievalSystem object...",
      "text/html": "<div>\n<style scoped>\n    .dataframe tbody tr th:only-of-type {\n        vertical-align: middle;\n    }\n\n    .dataframe tbody tr th {\n        vertical-align: top;\n    }\n\n    .dataframe thead th {\n        text-align: right;\n    }\n</style>\n<table border=\"1\" class=\"dataframe\">\n  <thead>\n    <tr style=\"text-align: right;\">\n      <th></th>\n      <th>metric</th>\n      <th>feature</th>\n      <th>rs_object</th>\n    </tr>\n  </thead>\n  <tbody>\n    <tr>\n      <th>0</th>\n      <td>random</td>\n      <td>random</td>\n      <td>&lt;task1.retrieval_system.RetrievalSystem object...</td>\n    </tr>\n    <tr>\n      <th>1</th>\n      <td>cosine</td>\n      <td>tf-idf</td>\n      <td>&lt;task1.retrieval_system.RetrievalSystem object...</td>\n    </tr>\n    <tr>\n      <th>2</th>\n      <td>cosine</td>\n      <td>bert</td>\n      <td>&lt;task1.retrieval_system.RetrievalSystem object...</td>\n    </tr>\n    <tr>\n      <th>3</th>\n      <td>dot</td>\n      <td>word2vec</td>\n      <td>&lt;task1.retrieval_system.RetrievalSystem object...</td>\n    </tr>\n    <tr>\n      <th>4</th>\n      <td>cosine</td>\n      <td>mfcc_bow</td>\n      <td>&lt;task1.retrieval_system.RetrievalSystem object...</td>\n    </tr>\n    <tr>\n      <th>5</th>\n      <td>cosine</td>\n      <td>blf_spectral</td>\n      <td>&lt;task1.retrieval_system.RetrievalSystem object...</td>\n    </tr>\n    <tr>\n      <th>6</th>\n      <td>cosine</td>\n      <td>ivec256</td>\n      <td>&lt;task1.retrieval_system.RetrievalSystem object...</td>\n    </tr>\n    <tr>\n      <th>7</th>\n      <td>cosine</td>\n      <td>musicnn</td>\n      <td>&lt;task1.retrieval_system.RetrievalSystem object...</td>\n    </tr>\n    <tr>\n      <th>8</th>\n      <td>cosine</td>\n      <td>resnet</td>\n      <td>&lt;task1.retrieval_system.RetrievalSystem object...</td>\n    </tr>\n    <tr>\n      <th>9</th>\n      <td>cosine</td>\n      <td>early_fusion</td>\n      <td>&lt;task1.retrieval_system.RetrievalSystem object...</td>\n    </tr>\n  </tbody>\n</table>\n</div>"
     },
     "execution_count": 26,
     "metadata": {},
     "output_type": "execute_result"
    }
   ],
   "source": [
    "rs"
   ]
  },
  {
   "cell_type": "markdown",
   "metadata": {},
   "source": [
    "# Evaluation"
   ]
  },
  {
   "cell_type": "code",
   "execution_count": 27,
   "metadata": {
    "collapsed": false,
    "jupyter": {
     "outputs_hidden": false
    },
    "tags": []
   },
   "outputs": [
    {
     "data": {
      "text/plain": "Creating genre overlap matrix:   0%|          | 0/10094 [00:00<?, ?it/s]",
      "application/vnd.jupyter.widget-view+json": {
       "version_major": 2,
       "version_minor": 0,
       "model_id": "3e03ed0d97324f02b767f3d76d5022ad"
      }
     },
     "metadata": {},
     "output_type": "display_data"
    },
    {
     "data": {
      "text/plain": "Creating result lists for every rs (max_k=100):   0%|          | 0/10 [00:00<?, ?it/s]",
      "application/vnd.jupyter.widget-view+json": {
       "version_major": 2,
       "version_minor": 0,
       "model_id": "dd832da7d14b4996ade964d07f45400a"
      }
     },
     "metadata": {},
     "output_type": "display_data"
    },
    {
     "data": {
      "text/plain": "calculating results for system.metric='random' system.feature='random':   0%|          | 0/10094 [00:00<?, ?it…",
      "application/vnd.jupyter.widget-view+json": {
       "version_major": 2,
       "version_minor": 0,
       "model_id": "7d63e8231a6e47be972519ca28c0d3cc"
      }
     },
     "metadata": {},
     "output_type": "display_data"
    },
    {
     "data": {
      "text/plain": "calculating results for system.metric='cosine' system.feature='tf-idf':   0%|          | 0/10094 [00:00<?, ?it…",
      "application/vnd.jupyter.widget-view+json": {
       "version_major": 2,
       "version_minor": 0,
       "model_id": "6400ceefb73b4d269f51d861407894ca"
      }
     },
     "metadata": {},
     "output_type": "display_data"
    },
    {
     "data": {
      "text/plain": "calculating results for system.metric='cosine' system.feature='bert':   0%|          | 0/10094 [00:00<?, ?it/s…",
      "application/vnd.jupyter.widget-view+json": {
       "version_major": 2,
       "version_minor": 0,
       "model_id": "9da133ba70194c869a44efed95c2d55f"
      }
     },
     "metadata": {},
     "output_type": "display_data"
    },
    {
     "data": {
      "text/plain": "calculating results for system.metric='dot' system.feature='word2vec':   0%|          | 0/10094 [00:00<?, ?it/…",
      "application/vnd.jupyter.widget-view+json": {
       "version_major": 2,
       "version_minor": 0,
       "model_id": "1676abd585e049abb01dd6fdbb2c3139"
      }
     },
     "metadata": {},
     "output_type": "display_data"
    },
    {
     "data": {
      "text/plain": "calculating results for system.metric='cosine' system.feature='mfcc_bow':   0%|          | 0/10094 [00:00<?, ?…",
      "application/vnd.jupyter.widget-view+json": {
       "version_major": 2,
       "version_minor": 0,
       "model_id": "ee0f2a1061bd4b608e1850f419bb3592"
      }
     },
     "metadata": {},
     "output_type": "display_data"
    },
    {
     "data": {
      "text/plain": "calculating results for system.metric='cosine' system.feature='blf_spectral':   0%|          | 0/10094 [00:00<…",
      "application/vnd.jupyter.widget-view+json": {
       "version_major": 2,
       "version_minor": 0,
       "model_id": "508e1fe8ec8b4db78c1913af0dadc7f5"
      }
     },
     "metadata": {},
     "output_type": "display_data"
    },
    {
     "data": {
      "text/plain": "calculating results for system.metric='cosine' system.feature='ivec256':   0%|          | 0/10094 [00:00<?, ?i…",
      "application/vnd.jupyter.widget-view+json": {
       "version_major": 2,
       "version_minor": 0,
       "model_id": "2cce1d5817c24ef1bddbc73519775f0a"
      }
     },
     "metadata": {},
     "output_type": "display_data"
    },
    {
     "data": {
      "text/plain": "calculating results for system.metric='cosine' system.feature='musicnn':   0%|          | 0/10094 [00:00<?, ?i…",
      "application/vnd.jupyter.widget-view+json": {
       "version_major": 2,
       "version_minor": 0,
       "model_id": "9b46965ae0c7469aa9f177303aaefd00"
      }
     },
     "metadata": {},
     "output_type": "display_data"
    },
    {
     "data": {
      "text/plain": "calculating results for system.metric='cosine' system.feature='resnet':   0%|          | 0/10094 [00:00<?, ?it…",
      "application/vnd.jupyter.widget-view+json": {
       "version_major": 2,
       "version_minor": 0,
       "model_id": "4231fb17f75e48fba85d8e2b5f9ba706"
      }
     },
     "metadata": {},
     "output_type": "display_data"
    },
    {
     "data": {
      "text/plain": "calculating results for system.metric='cosine' system.feature='early_fusion':   0%|          | 0/10094 [00:00<…",
      "application/vnd.jupyter.widget-view+json": {
       "version_major": 2,
       "version_minor": 0,
       "model_id": "33fa18401c6347bfba0aebb3c809e689"
      }
     },
     "metadata": {},
     "output_type": "display_data"
    }
   ],
   "source": [
    "from pipeline import Pipeline\n",
    "\n",
    "evaluate = Pipeline(rs, genres)"
   ]
  },
  {
   "cell_type": "code",
   "execution_count": 28,
   "metadata": {},
   "outputs": [
    {
     "ename": "FileNotFoundError",
     "evalue": "[Errno 2] No such file or directory: 'task_3.csv'",
     "output_type": "error",
     "traceback": [
      "\u001B[1;31m---------------------------------------------------------------------------\u001B[0m",
      "\u001B[1;31mFileNotFoundError\u001B[0m                         Traceback (most recent call last)",
      "Cell \u001B[1;32mIn[28], line 1\u001B[0m\n\u001B[1;32m----> 1\u001B[0m \u001B[43mevaluate\u001B[49m\u001B[38;5;241;43m.\u001B[39;49m\u001B[43mload_results_csv\u001B[49m\u001B[43m(\u001B[49m\u001B[38;5;124;43m\"\u001B[39;49m\u001B[38;5;124;43mtask_3.csv\u001B[39;49m\u001B[38;5;124;43m\"\u001B[39;49m\u001B[43m)\u001B[49m\n\u001B[0;32m      2\u001B[0m result \u001B[38;5;241m=\u001B[39m evaluate\u001B[38;5;241m.\u001B[39mrun(\n\u001B[0;32m      3\u001B[0m     [\n\u001B[0;32m      4\u001B[0m         \u001B[38;5;66;03m# (Pipeline.mean_precision_at_k, dict(k=10)),\u001B[39;00m\n\u001B[1;32m   (...)\u001B[0m\n\u001B[0;32m     10\u001B[0m     ]\n\u001B[0;32m     11\u001B[0m )\n\u001B[0;32m     12\u001B[0m result\u001B[38;5;241m.\u001B[39mto_csv(\u001B[38;5;124m\"\u001B[39m\u001B[38;5;124mtask_3.csv\u001B[39m\u001B[38;5;124m\"\u001B[39m, index\u001B[38;5;241m=\u001B[39m\u001B[38;5;28;01mFalse\u001B[39;00m)\n",
      "File \u001B[1;32m~\\DataMining\\mmsr_task1\\mmsr\\task3\\pipeline.py:68\u001B[0m, in \u001B[0;36mPipeline.load_results_csv\u001B[1;34m(self, file_name)\u001B[0m\n\u001B[0;32m     67\u001B[0m \u001B[38;5;28;01mdef\u001B[39;00m \u001B[38;5;21mload_results_csv\u001B[39m(\u001B[38;5;28mself\u001B[39m, file_name):\n\u001B[1;32m---> 68\u001B[0m     loaded \u001B[38;5;241m=\u001B[39m \u001B[43mpd\u001B[49m\u001B[38;5;241;43m.\u001B[39;49m\u001B[43mread_csv\u001B[49m\u001B[43m(\u001B[49m\u001B[43mfile_name\u001B[49m\u001B[43m)\u001B[49m\n\u001B[0;32m     69\u001B[0m     \u001B[38;5;66;03m# parse nested dataframe\u001B[39;00m\n\u001B[0;32m     70\u001B[0m     \u001B[38;5;28;01mif\u001B[39;00m \u001B[38;5;124m\"\u001B[39m\u001B[38;5;124mprecision_and_recall_interval\u001B[39m\u001B[38;5;124m\"\u001B[39m \u001B[38;5;129;01min\u001B[39;00m loaded\u001B[38;5;241m.\u001B[39mcolumns:\n",
      "File \u001B[1;32m~\\AppData\\Local\\Programs\\Python\\Python310\\lib\\site-packages\\pandas\\io\\parsers\\readers.py:948\u001B[0m, in \u001B[0;36mread_csv\u001B[1;34m(filepath_or_buffer, sep, delimiter, header, names, index_col, usecols, dtype, engine, converters, true_values, false_values, skipinitialspace, skiprows, skipfooter, nrows, na_values, keep_default_na, na_filter, verbose, skip_blank_lines, parse_dates, infer_datetime_format, keep_date_col, date_parser, date_format, dayfirst, cache_dates, iterator, chunksize, compression, thousands, decimal, lineterminator, quotechar, quoting, doublequote, escapechar, comment, encoding, encoding_errors, dialect, on_bad_lines, delim_whitespace, low_memory, memory_map, float_precision, storage_options, dtype_backend)\u001B[0m\n\u001B[0;32m    935\u001B[0m kwds_defaults \u001B[38;5;241m=\u001B[39m _refine_defaults_read(\n\u001B[0;32m    936\u001B[0m     dialect,\n\u001B[0;32m    937\u001B[0m     delimiter,\n\u001B[1;32m   (...)\u001B[0m\n\u001B[0;32m    944\u001B[0m     dtype_backend\u001B[38;5;241m=\u001B[39mdtype_backend,\n\u001B[0;32m    945\u001B[0m )\n\u001B[0;32m    946\u001B[0m kwds\u001B[38;5;241m.\u001B[39mupdate(kwds_defaults)\n\u001B[1;32m--> 948\u001B[0m \u001B[38;5;28;01mreturn\u001B[39;00m \u001B[43m_read\u001B[49m\u001B[43m(\u001B[49m\u001B[43mfilepath_or_buffer\u001B[49m\u001B[43m,\u001B[49m\u001B[43m \u001B[49m\u001B[43mkwds\u001B[49m\u001B[43m)\u001B[49m\n",
      "File \u001B[1;32m~\\AppData\\Local\\Programs\\Python\\Python310\\lib\\site-packages\\pandas\\io\\parsers\\readers.py:611\u001B[0m, in \u001B[0;36m_read\u001B[1;34m(filepath_or_buffer, kwds)\u001B[0m\n\u001B[0;32m    608\u001B[0m _validate_names(kwds\u001B[38;5;241m.\u001B[39mget(\u001B[38;5;124m\"\u001B[39m\u001B[38;5;124mnames\u001B[39m\u001B[38;5;124m\"\u001B[39m, \u001B[38;5;28;01mNone\u001B[39;00m))\n\u001B[0;32m    610\u001B[0m \u001B[38;5;66;03m# Create the parser.\u001B[39;00m\n\u001B[1;32m--> 611\u001B[0m parser \u001B[38;5;241m=\u001B[39m TextFileReader(filepath_or_buffer, \u001B[38;5;241m*\u001B[39m\u001B[38;5;241m*\u001B[39mkwds)\n\u001B[0;32m    613\u001B[0m \u001B[38;5;28;01mif\u001B[39;00m chunksize \u001B[38;5;129;01mor\u001B[39;00m iterator:\n\u001B[0;32m    614\u001B[0m     \u001B[38;5;28;01mreturn\u001B[39;00m parser\n",
      "File \u001B[1;32m~\\AppData\\Local\\Programs\\Python\\Python310\\lib\\site-packages\\pandas\\io\\parsers\\readers.py:1448\u001B[0m, in \u001B[0;36mTextFileReader.__init__\u001B[1;34m(self, f, engine, **kwds)\u001B[0m\n\u001B[0;32m   1445\u001B[0m     \u001B[38;5;28mself\u001B[39m\u001B[38;5;241m.\u001B[39moptions[\u001B[38;5;124m\"\u001B[39m\u001B[38;5;124mhas_index_names\u001B[39m\u001B[38;5;124m\"\u001B[39m] \u001B[38;5;241m=\u001B[39m kwds[\u001B[38;5;124m\"\u001B[39m\u001B[38;5;124mhas_index_names\u001B[39m\u001B[38;5;124m\"\u001B[39m]\n\u001B[0;32m   1447\u001B[0m \u001B[38;5;28mself\u001B[39m\u001B[38;5;241m.\u001B[39mhandles: IOHandles \u001B[38;5;241m|\u001B[39m \u001B[38;5;28;01mNone\u001B[39;00m \u001B[38;5;241m=\u001B[39m \u001B[38;5;28;01mNone\u001B[39;00m\n\u001B[1;32m-> 1448\u001B[0m \u001B[38;5;28mself\u001B[39m\u001B[38;5;241m.\u001B[39m_engine \u001B[38;5;241m=\u001B[39m \u001B[38;5;28;43mself\u001B[39;49m\u001B[38;5;241;43m.\u001B[39;49m\u001B[43m_make_engine\u001B[49m\u001B[43m(\u001B[49m\u001B[43mf\u001B[49m\u001B[43m,\u001B[49m\u001B[43m \u001B[49m\u001B[38;5;28;43mself\u001B[39;49m\u001B[38;5;241;43m.\u001B[39;49m\u001B[43mengine\u001B[49m\u001B[43m)\u001B[49m\n",
      "File \u001B[1;32m~\\AppData\\Local\\Programs\\Python\\Python310\\lib\\site-packages\\pandas\\io\\parsers\\readers.py:1705\u001B[0m, in \u001B[0;36mTextFileReader._make_engine\u001B[1;34m(self, f, engine)\u001B[0m\n\u001B[0;32m   1703\u001B[0m     \u001B[38;5;28;01mif\u001B[39;00m \u001B[38;5;124m\"\u001B[39m\u001B[38;5;124mb\u001B[39m\u001B[38;5;124m\"\u001B[39m \u001B[38;5;129;01mnot\u001B[39;00m \u001B[38;5;129;01min\u001B[39;00m mode:\n\u001B[0;32m   1704\u001B[0m         mode \u001B[38;5;241m+\u001B[39m\u001B[38;5;241m=\u001B[39m \u001B[38;5;124m\"\u001B[39m\u001B[38;5;124mb\u001B[39m\u001B[38;5;124m\"\u001B[39m\n\u001B[1;32m-> 1705\u001B[0m \u001B[38;5;28mself\u001B[39m\u001B[38;5;241m.\u001B[39mhandles \u001B[38;5;241m=\u001B[39m \u001B[43mget_handle\u001B[49m\u001B[43m(\u001B[49m\n\u001B[0;32m   1706\u001B[0m \u001B[43m    \u001B[49m\u001B[43mf\u001B[49m\u001B[43m,\u001B[49m\n\u001B[0;32m   1707\u001B[0m \u001B[43m    \u001B[49m\u001B[43mmode\u001B[49m\u001B[43m,\u001B[49m\n\u001B[0;32m   1708\u001B[0m \u001B[43m    \u001B[49m\u001B[43mencoding\u001B[49m\u001B[38;5;241;43m=\u001B[39;49m\u001B[38;5;28;43mself\u001B[39;49m\u001B[38;5;241;43m.\u001B[39;49m\u001B[43moptions\u001B[49m\u001B[38;5;241;43m.\u001B[39;49m\u001B[43mget\u001B[49m\u001B[43m(\u001B[49m\u001B[38;5;124;43m\"\u001B[39;49m\u001B[38;5;124;43mencoding\u001B[39;49m\u001B[38;5;124;43m\"\u001B[39;49m\u001B[43m,\u001B[49m\u001B[43m \u001B[49m\u001B[38;5;28;43;01mNone\u001B[39;49;00m\u001B[43m)\u001B[49m\u001B[43m,\u001B[49m\n\u001B[0;32m   1709\u001B[0m \u001B[43m    \u001B[49m\u001B[43mcompression\u001B[49m\u001B[38;5;241;43m=\u001B[39;49m\u001B[38;5;28;43mself\u001B[39;49m\u001B[38;5;241;43m.\u001B[39;49m\u001B[43moptions\u001B[49m\u001B[38;5;241;43m.\u001B[39;49m\u001B[43mget\u001B[49m\u001B[43m(\u001B[49m\u001B[38;5;124;43m\"\u001B[39;49m\u001B[38;5;124;43mcompression\u001B[39;49m\u001B[38;5;124;43m\"\u001B[39;49m\u001B[43m,\u001B[49m\u001B[43m \u001B[49m\u001B[38;5;28;43;01mNone\u001B[39;49;00m\u001B[43m)\u001B[49m\u001B[43m,\u001B[49m\n\u001B[0;32m   1710\u001B[0m \u001B[43m    \u001B[49m\u001B[43mmemory_map\u001B[49m\u001B[38;5;241;43m=\u001B[39;49m\u001B[38;5;28;43mself\u001B[39;49m\u001B[38;5;241;43m.\u001B[39;49m\u001B[43moptions\u001B[49m\u001B[38;5;241;43m.\u001B[39;49m\u001B[43mget\u001B[49m\u001B[43m(\u001B[49m\u001B[38;5;124;43m\"\u001B[39;49m\u001B[38;5;124;43mmemory_map\u001B[39;49m\u001B[38;5;124;43m\"\u001B[39;49m\u001B[43m,\u001B[49m\u001B[43m \u001B[49m\u001B[38;5;28;43;01mFalse\u001B[39;49;00m\u001B[43m)\u001B[49m\u001B[43m,\u001B[49m\n\u001B[0;32m   1711\u001B[0m \u001B[43m    \u001B[49m\u001B[43mis_text\u001B[49m\u001B[38;5;241;43m=\u001B[39;49m\u001B[43mis_text\u001B[49m\u001B[43m,\u001B[49m\n\u001B[0;32m   1712\u001B[0m \u001B[43m    \u001B[49m\u001B[43merrors\u001B[49m\u001B[38;5;241;43m=\u001B[39;49m\u001B[38;5;28;43mself\u001B[39;49m\u001B[38;5;241;43m.\u001B[39;49m\u001B[43moptions\u001B[49m\u001B[38;5;241;43m.\u001B[39;49m\u001B[43mget\u001B[49m\u001B[43m(\u001B[49m\u001B[38;5;124;43m\"\u001B[39;49m\u001B[38;5;124;43mencoding_errors\u001B[39;49m\u001B[38;5;124;43m\"\u001B[39;49m\u001B[43m,\u001B[49m\u001B[43m \u001B[49m\u001B[38;5;124;43m\"\u001B[39;49m\u001B[38;5;124;43mstrict\u001B[39;49m\u001B[38;5;124;43m\"\u001B[39;49m\u001B[43m)\u001B[49m\u001B[43m,\u001B[49m\n\u001B[0;32m   1713\u001B[0m \u001B[43m    \u001B[49m\u001B[43mstorage_options\u001B[49m\u001B[38;5;241;43m=\u001B[39;49m\u001B[38;5;28;43mself\u001B[39;49m\u001B[38;5;241;43m.\u001B[39;49m\u001B[43moptions\u001B[49m\u001B[38;5;241;43m.\u001B[39;49m\u001B[43mget\u001B[49m\u001B[43m(\u001B[49m\u001B[38;5;124;43m\"\u001B[39;49m\u001B[38;5;124;43mstorage_options\u001B[39;49m\u001B[38;5;124;43m\"\u001B[39;49m\u001B[43m,\u001B[49m\u001B[43m \u001B[49m\u001B[38;5;28;43;01mNone\u001B[39;49;00m\u001B[43m)\u001B[49m\u001B[43m,\u001B[49m\n\u001B[0;32m   1714\u001B[0m \u001B[43m\u001B[49m\u001B[43m)\u001B[49m\n\u001B[0;32m   1715\u001B[0m \u001B[38;5;28;01massert\u001B[39;00m \u001B[38;5;28mself\u001B[39m\u001B[38;5;241m.\u001B[39mhandles \u001B[38;5;129;01mis\u001B[39;00m \u001B[38;5;129;01mnot\u001B[39;00m \u001B[38;5;28;01mNone\u001B[39;00m\n\u001B[0;32m   1716\u001B[0m f \u001B[38;5;241m=\u001B[39m \u001B[38;5;28mself\u001B[39m\u001B[38;5;241m.\u001B[39mhandles\u001B[38;5;241m.\u001B[39mhandle\n",
      "File \u001B[1;32m~\\AppData\\Local\\Programs\\Python\\Python310\\lib\\site-packages\\pandas\\io\\common.py:863\u001B[0m, in \u001B[0;36mget_handle\u001B[1;34m(path_or_buf, mode, encoding, compression, memory_map, is_text, errors, storage_options)\u001B[0m\n\u001B[0;32m    858\u001B[0m \u001B[38;5;28;01melif\u001B[39;00m \u001B[38;5;28misinstance\u001B[39m(handle, \u001B[38;5;28mstr\u001B[39m):\n\u001B[0;32m    859\u001B[0m     \u001B[38;5;66;03m# Check whether the filename is to be opened in binary mode.\u001B[39;00m\n\u001B[0;32m    860\u001B[0m     \u001B[38;5;66;03m# Binary mode does not support 'encoding' and 'newline'.\u001B[39;00m\n\u001B[0;32m    861\u001B[0m     \u001B[38;5;28;01mif\u001B[39;00m ioargs\u001B[38;5;241m.\u001B[39mencoding \u001B[38;5;129;01mand\u001B[39;00m \u001B[38;5;124m\"\u001B[39m\u001B[38;5;124mb\u001B[39m\u001B[38;5;124m\"\u001B[39m \u001B[38;5;129;01mnot\u001B[39;00m \u001B[38;5;129;01min\u001B[39;00m ioargs\u001B[38;5;241m.\u001B[39mmode:\n\u001B[0;32m    862\u001B[0m         \u001B[38;5;66;03m# Encoding\u001B[39;00m\n\u001B[1;32m--> 863\u001B[0m         handle \u001B[38;5;241m=\u001B[39m \u001B[38;5;28;43mopen\u001B[39;49m\u001B[43m(\u001B[49m\n\u001B[0;32m    864\u001B[0m \u001B[43m            \u001B[49m\u001B[43mhandle\u001B[49m\u001B[43m,\u001B[49m\n\u001B[0;32m    865\u001B[0m \u001B[43m            \u001B[49m\u001B[43mioargs\u001B[49m\u001B[38;5;241;43m.\u001B[39;49m\u001B[43mmode\u001B[49m\u001B[43m,\u001B[49m\n\u001B[0;32m    866\u001B[0m \u001B[43m            \u001B[49m\u001B[43mencoding\u001B[49m\u001B[38;5;241;43m=\u001B[39;49m\u001B[43mioargs\u001B[49m\u001B[38;5;241;43m.\u001B[39;49m\u001B[43mencoding\u001B[49m\u001B[43m,\u001B[49m\n\u001B[0;32m    867\u001B[0m \u001B[43m            \u001B[49m\u001B[43merrors\u001B[49m\u001B[38;5;241;43m=\u001B[39;49m\u001B[43merrors\u001B[49m\u001B[43m,\u001B[49m\n\u001B[0;32m    868\u001B[0m \u001B[43m            \u001B[49m\u001B[43mnewline\u001B[49m\u001B[38;5;241;43m=\u001B[39;49m\u001B[38;5;124;43m\"\u001B[39;49m\u001B[38;5;124;43m\"\u001B[39;49m\u001B[43m,\u001B[49m\n\u001B[0;32m    869\u001B[0m \u001B[43m        \u001B[49m\u001B[43m)\u001B[49m\n\u001B[0;32m    870\u001B[0m     \u001B[38;5;28;01melse\u001B[39;00m:\n\u001B[0;32m    871\u001B[0m         \u001B[38;5;66;03m# Binary mode\u001B[39;00m\n\u001B[0;32m    872\u001B[0m         handle \u001B[38;5;241m=\u001B[39m \u001B[38;5;28mopen\u001B[39m(handle, ioargs\u001B[38;5;241m.\u001B[39mmode)\n",
      "\u001B[1;31mFileNotFoundError\u001B[0m: [Errno 2] No such file or directory: 'task_3.csv'"
     ]
    }
   ],
   "source": [
    "evaluate.load_results_csv(\"task_3.csv\")\n",
    "result = evaluate.run(\n",
    "    [\n",
    "        # (Pipeline.mean_precision_at_k, dict(k=10)),\n",
    "        # (Pipeline.mean_recall_at_k, dict(k=10)),\n",
    "        # (Pipeline.precision_and_recall_interval, dict(k_min=1, k_max=100, step_size=5)),\n",
    "        # (Pipeline.mean_ndcg_at_k, dict(k=10)),\n",
    "        # (Pipeline.genre_coverage_at_k, dict(k=10)),\n",
    "        (Pipeline.mean_genre_diversity_at_k, dict(k=10)),\n",
    "    ]\n",
    ")\n",
    "result.to_csv(\"task_3.csv\", index=False)\n",
    "result"
   ]
  },
  {
   "cell_type": "code",
   "execution_count": null,
   "outputs": [],
   "source": [
    "for rs in result.itertuples():\n",
    "    metrics_df = rs.precision_and_recall_interval\n",
    "\n",
    "    plt.figure(figsize=(12, 8))\n",
    "    plt.plot(\n",
    "        metrics_df[\"recall\"],\n",
    "        metrics_df[\"precision\"],\n",
    "        marker=\"o\",\n",
    "        label=f\"{rs.metric=} ({rs.feature=})\",\n",
    "    )\n",
    "\n",
    "    # Annotate each point with its k value\n",
    "    for k, recall, precision in zip(\n",
    "        metrics_df.index, metrics_df[\"recall\"], metrics_df[\"precision\"]\n",
    "    ):\n",
    "        plt.annotate(\n",
    "            f\"k={k}\",\n",
    "            (recall, precision),\n",
    "            textcoords=\"offset points\",\n",
    "            xytext=(0, 10),\n",
    "            ha=\"center\",\n",
    "        )\n",
    "\n",
    "    plt.title(f\"Precision-Recall Curve for {rs.metric=} with {rs.feature=}\")\n",
    "    plt.xlabel(\"Recall\")\n",
    "    plt.ylabel(\"Precision\")\n",
    "    plt.legend()\n",
    "    plt.grid(True)\n",
    "    plt.show()"
   ],
   "metadata": {
    "collapsed": false
   }
  }
 ],
 "metadata": {
  "kernelspec": {
   "display_name": "Python 3 (ipykernel)",
   "language": "python",
   "name": "python3"
  },
  "language_info": {
   "codemirror_mode": {
    "name": "ipython",
    "version": 3
   },
   "file_extension": ".py",
   "mimetype": "text/x-python",
   "name": "python",
   "nbconvert_exporter": "python",
   "pygments_lexer": "ipython3",
   "version": "3.8.16"
  }
 },
 "nbformat": 4,
 "nbformat_minor": 4
}
