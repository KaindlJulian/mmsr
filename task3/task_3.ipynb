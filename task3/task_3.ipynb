{
 "cells": [
  {
   "cell_type": "markdown",
   "source": [
    "# Read and Explore Data"
   ],
   "metadata": {
    "collapsed": false,
    "pycharm": {
     "name": "#%% md\n"
    }
   }
  },
  {
   "cell_type": "code",
   "execution_count": 1,
   "outputs": [],
   "source": [
    "import sys\n",
    "\n",
    "sys.path.append(\"../\")\n",
    "\n",
    "import numpy as np\n",
    "import pandas as pd\n",
    "from sklearn.preprocessing import StandardScaler\n",
    "from typing import Union, Tuple\n",
    "from tqdm.notebook import tqdm\n",
    "import matplotlib.pyplot as plt"
   ],
   "metadata": {
    "collapsed": false,
    "pycharm": {
     "name": "#%%\n"
    }
   }
  },
  {
   "cell_type": "code",
   "execution_count": 2,
   "outputs": [],
   "source": [
    "from task1.retrieval_system import RetrievalSystem, SongInfo\n",
    "from task1.similarity_measure import (\n",
    "    cosine_similarity,\n",
    "    dot_product,\n",
    "    manhattan_distance,\n",
    "    euclidean_distance,\n",
    "    random_similarity,\n",
    ")\n",
    "from utils import read, embed_and_merge"
   ],
   "metadata": {
    "collapsed": false,
    "pycharm": {
     "name": "#%%\n"
    }
   }
  },
  {
   "cell_type": "code",
   "execution_count": 3,
   "outputs": [
    {
     "data": {
      "text/plain": "                     id                       artist  \\\n0      01Yfj2T3YTwJ1Yfy                  We As Human   \n1      01gyRHLquwXDlhkO         The Notorious B.I.G.   \n2      01rMxQv6vhyE1oQX          Against the Current   \n3      02RGE9FNH65RtMS7                     Barthezz   \n4      02ZnlCGZEbkfCDxo                Laura Pausini   \n...                 ...                          ...   \n10090  zyzILCQvVeUFIINi                Crowded House   \n10091  zzgS4ZqyswamEWNj               Britney Spears   \n10092  zzoFYDMlqU1X2zz1                   Thundercat   \n10093  zzpkRCGA5ud8q4mv                 Otis Redding   \n10094  zzx8CWdM7qkxKQpC  Ted Leo and the Pharmacists   \n\n                                            song  \\\n0      Take The Bullets Away (feat. Lacey Sturm)   \n1                           Somebody's Gotta Die   \n2                                 Chasing Ghosts   \n3                                       Infected   \n4                               Tra Te E Il Mare   \n...                                          ...   \n10090                              When You Come   \n10091                   My Only Wish (This Year)   \n10092                                        DUI   \n10093                               Rock Me Baby   \n10094                    Counting Down the Hours   \n\n                                        album_name  \n0                                      We As Human  \n1            Life After Death (Remastered Edition)  \n2                                     In Our Bones  \n3             Trance - The Early Years (1997-2002)  \n4      The Best of Laura Pausini - E Ritorno Da Te  \n...                                            ...  \n10090                            Temple Of Low Men  \n10091                           Platinum Christmas  \n10092                                        Drunk  \n10093                                    Otis Blue  \n10094                             Shake the Sheets  \n\n[10095 rows x 4 columns]",
      "text/html": "<div>\n<style scoped>\n    .dataframe tbody tr th:only-of-type {\n        vertical-align: middle;\n    }\n\n    .dataframe tbody tr th {\n        vertical-align: top;\n    }\n\n    .dataframe thead th {\n        text-align: right;\n    }\n</style>\n<table border=\"1\" class=\"dataframe\">\n  <thead>\n    <tr style=\"text-align: right;\">\n      <th></th>\n      <th>id</th>\n      <th>artist</th>\n      <th>song</th>\n      <th>album_name</th>\n    </tr>\n  </thead>\n  <tbody>\n    <tr>\n      <th>0</th>\n      <td>01Yfj2T3YTwJ1Yfy</td>\n      <td>We As Human</td>\n      <td>Take The Bullets Away (feat. Lacey Sturm)</td>\n      <td>We As Human</td>\n    </tr>\n    <tr>\n      <th>1</th>\n      <td>01gyRHLquwXDlhkO</td>\n      <td>The Notorious B.I.G.</td>\n      <td>Somebody's Gotta Die</td>\n      <td>Life After Death (Remastered Edition)</td>\n    </tr>\n    <tr>\n      <th>2</th>\n      <td>01rMxQv6vhyE1oQX</td>\n      <td>Against the Current</td>\n      <td>Chasing Ghosts</td>\n      <td>In Our Bones</td>\n    </tr>\n    <tr>\n      <th>3</th>\n      <td>02RGE9FNH65RtMS7</td>\n      <td>Barthezz</td>\n      <td>Infected</td>\n      <td>Trance - The Early Years (1997-2002)</td>\n    </tr>\n    <tr>\n      <th>4</th>\n      <td>02ZnlCGZEbkfCDxo</td>\n      <td>Laura Pausini</td>\n      <td>Tra Te E Il Mare</td>\n      <td>The Best of Laura Pausini - E Ritorno Da Te</td>\n    </tr>\n    <tr>\n      <th>...</th>\n      <td>...</td>\n      <td>...</td>\n      <td>...</td>\n      <td>...</td>\n    </tr>\n    <tr>\n      <th>10090</th>\n      <td>zyzILCQvVeUFIINi</td>\n      <td>Crowded House</td>\n      <td>When You Come</td>\n      <td>Temple Of Low Men</td>\n    </tr>\n    <tr>\n      <th>10091</th>\n      <td>zzgS4ZqyswamEWNj</td>\n      <td>Britney Spears</td>\n      <td>My Only Wish (This Year)</td>\n      <td>Platinum Christmas</td>\n    </tr>\n    <tr>\n      <th>10092</th>\n      <td>zzoFYDMlqU1X2zz1</td>\n      <td>Thundercat</td>\n      <td>DUI</td>\n      <td>Drunk</td>\n    </tr>\n    <tr>\n      <th>10093</th>\n      <td>zzpkRCGA5ud8q4mv</td>\n      <td>Otis Redding</td>\n      <td>Rock Me Baby</td>\n      <td>Otis Blue</td>\n    </tr>\n    <tr>\n      <th>10094</th>\n      <td>zzx8CWdM7qkxKQpC</td>\n      <td>Ted Leo and the Pharmacists</td>\n      <td>Counting Down the Hours</td>\n      <td>Shake the Sheets</td>\n    </tr>\n  </tbody>\n</table>\n<p>10095 rows × 4 columns</p>\n</div>"
     },
     "execution_count": 3,
     "metadata": {},
     "output_type": "execute_result"
    }
   ],
   "source": [
    "# basic song information from task 1\n",
    "df = read(\"information\", 0)\n",
    "df"
   ],
   "metadata": {
    "collapsed": false,
    "pycharm": {
     "name": "#%%\n"
    }
   }
  },
  {
   "cell_type": "code",
   "execution_count": 4,
   "outputs": [],
   "source": [
    "# add genre information for metric calculation\n",
    "genres = read(\"genres\", 0)\n",
    "# convert genre to actual list via eval\n",
    "genres[\"genre\"] = genres[\"genre\"].apply(eval).apply(set)\n",
    "df = df.merge(genres, on=\"id\", how=\"left\")"
   ],
   "metadata": {
    "collapsed": false,
    "pycharm": {
     "name": "#%%\n"
    }
   }
  },
  {
   "cell_type": "markdown",
   "source": [
    "We load one new feature and the features from the previous assignments. We need them for comparison and fusion."
   ],
   "metadata": {
    "collapsed": false,
    "pycharm": {
     "name": "#%% md\n"
    }
   }
  },
  {
   "cell_type": "code",
   "execution_count": 5,
   "outputs": [],
   "source": [
    "visual_feature = \"resnet\"\n",
    "stats = read(visual_feature, 0)\n",
    "df = embed_and_merge(df, stats, visual_feature)\n",
    "\n",
    "for audio_feature in [\"mfcc_bow\", \"blf_spectral\", \"ivec256\", \"musicnn\"]:\n",
    "    stats = read(audio_feature, 0)\n",
    "    df = embed_and_merge(df, stats, audio_feature)\n",
    "\n",
    "for text_feature in [\"lyrics_bert\", \"lyrics_word2vec\", \"lyrics_tf-idf\"]:\n",
    "    stats = read(text_feature, 0)\n",
    "    df = embed_and_merge(df, stats, text_feature.split(\"_\")[1])"
   ],
   "metadata": {
    "collapsed": false,
    "pycharm": {
     "name": "#%%\n"
    }
   }
  },
  {
   "cell_type": "code",
   "execution_count": 6,
   "outputs": [
    {
     "data": {
      "text/plain": "id              0\nartist          0\nsong            0\nalbum_name      0\ngenre           1\nresnet          1\nmfcc_bow        1\nblf_spectral    1\nivec256         1\nmusicnn         1\nbert            0\nword2vec        0\ntf-idf          0\ndtype: int64"
     },
     "execution_count": 6,
     "metadata": {},
     "output_type": "execute_result"
    }
   ],
   "source": [
    "df.isna().sum()"
   ],
   "metadata": {
    "collapsed": false,
    "pycharm": {
     "name": "#%%\n"
    }
   }
  },
  {
   "cell_type": "code",
   "execution_count": 7,
   "outputs": [],
   "source": [
    "# data for task 2 does not include the item with id \"03Oc9WeMEmyLLQbj\" = row 5\n",
    "df = df.drop(5)\n",
    "df = df.reset_index()"
   ],
   "metadata": {
    "collapsed": false,
    "pycharm": {
     "name": "#%%\n"
    }
   }
  },
  {
   "cell_type": "markdown",
   "source": [
    "# Define retrieval systems"
   ],
   "metadata": {
    "collapsed": false,
    "pycharm": {
     "name": "#%% md\n"
    }
   }
  },
  {
   "cell_type": "markdown",
   "source": [
    "## From Task 1 (text-based)"
   ],
   "metadata": {
    "collapsed": false,
    "pycharm": {
     "name": "#%% md\n"
    }
   }
  },
  {
   "cell_type": "code",
   "execution_count": 8,
   "outputs": [],
   "source": [
    "rs_random = RetrievalSystem(\n",
    "    df=df,\n",
    "    sim_metric=random_similarity,\n",
    ")"
   ],
   "metadata": {
    "collapsed": false,
    "pycharm": {
     "name": "#%%\n"
    }
   }
  },
  {
   "cell_type": "code",
   "execution_count": 9,
   "outputs": [],
   "source": [
    "rs_cos_tdidf = RetrievalSystem(\n",
    "    df=df,\n",
    "    sim_metric=cosine_similarity,\n",
    "    sim_feature=\"tf-idf\",\n",
    ")"
   ],
   "metadata": {
    "collapsed": false,
    "pycharm": {
     "name": "#%%\n"
    }
   }
  },
  {
   "cell_type": "code",
   "execution_count": 10,
   "outputs": [],
   "source": [
    "rs_cos_bert = RetrievalSystem(\n",
    "    df=df,\n",
    "    sim_metric=cosine_similarity,\n",
    "    sim_feature=\"bert\",\n",
    ")"
   ],
   "metadata": {
    "collapsed": false,
    "pycharm": {
     "name": "#%%\n"
    }
   }
  },
  {
   "cell_type": "code",
   "execution_count": 11,
   "outputs": [],
   "source": [
    "rs_dot_w2v = RetrievalSystem(\n",
    "    df=df,\n",
    "    sim_metric=dot_product,\n",
    "    sim_feature=\"word2vec\",\n",
    ")"
   ],
   "metadata": {
    "collapsed": false,
    "pycharm": {
     "name": "#%%\n"
    }
   }
  },
  {
   "cell_type": "markdown",
   "source": [
    "## From Task 2 (audio-based)"
   ],
   "metadata": {
    "collapsed": false,
    "pycharm": {
     "name": "#%% md\n"
    }
   }
  },
  {
   "cell_type": "code",
   "execution_count": 12,
   "outputs": [],
   "source": [
    "rs_cos_mfcc = RetrievalSystem(\n",
    "    df=df,\n",
    "    sim_metric=cosine_similarity,\n",
    "    sim_feature=\"mfcc_bow\",\n",
    ")"
   ],
   "metadata": {
    "collapsed": false,
    "pycharm": {
     "name": "#%%\n"
    }
   }
  },
  {
   "cell_type": "code",
   "execution_count": 13,
   "outputs": [],
   "source": [
    "rs_cos_blf = RetrievalSystem(\n",
    "    df=df,\n",
    "    sim_metric=cosine_similarity,\n",
    "    sim_feature=\"blf_spectral\",\n",
    ")"
   ],
   "metadata": {
    "collapsed": false,
    "pycharm": {
     "name": "#%%\n"
    }
   }
  },
  {
   "cell_type": "code",
   "execution_count": 14,
   "outputs": [],
   "source": [
    "rs_cos_ivec256 = RetrievalSystem(\n",
    "    df=df,\n",
    "    sim_metric=cosine_similarity,\n",
    "    sim_feature=\"ivec256\",\n",
    ")"
   ],
   "metadata": {
    "collapsed": false,
    "pycharm": {
     "name": "#%%\n"
    }
   }
  },
  {
   "cell_type": "code",
   "execution_count": 15,
   "outputs": [],
   "source": [
    "rs_cos_dnn = RetrievalSystem(\n",
    "    df=df,\n",
    "    sim_metric=cosine_similarity,\n",
    "    sim_feature=\"musicnn\",\n",
    ")"
   ],
   "metadata": {
    "collapsed": false,
    "pycharm": {
     "name": "#%%\n"
    }
   }
  },
  {
   "cell_type": "markdown",
   "source": [
    "## From Task 3 (video-based; new!)\n"
   ],
   "metadata": {
    "collapsed": false,
    "pycharm": {
     "name": "#%% md\n"
    }
   }
  },
  {
   "cell_type": "code",
   "execution_count": 16,
   "outputs": [],
   "source": [
    "rs_cos_resnet = RetrievalSystem(\n",
    "    df=df,\n",
    "    sim_metric=cosine_similarity,\n",
    "    sim_feature=\"resnet\",\n",
    ")"
   ],
   "metadata": {
    "collapsed": false,
    "pycharm": {
     "name": "#%%\n"
    }
   }
  },
  {
   "cell_type": "markdown",
   "source": [
    "## Fusion Techniques"
   ],
   "metadata": {
    "collapsed": false,
    "pycharm": {
     "name": "#%% md\n"
    }
   }
  },
  {
   "cell_type": "markdown",
   "source": [
    "### Early Fusion\n",
    "In this section we wil perform early fusion by concatenating 2 features to form an aggregated feature\n"
   ],
   "metadata": {
    "collapsed": false,
    "pycharm": {
     "name": "#%% md\n"
    }
   }
  },
  {
   "cell_type": "code",
   "execution_count": 30,
   "outputs": [
    {
     "name": "stdout",
     "output_type": "stream",
     "text": [
      "Number of columns in the first feature: 100\n",
      "Number of columns in the second feature: 300\n",
      "Number of columns in the combined features: 400\n"
     ]
    }
   ],
   "source": [
    "# simply concat features to form aggregated feature\n",
    "text_feature = df[\"ivec256\"]\n",
    "audio_feature = df[\"mfcc_bow\"]\n",
    "\n",
    "combined_features = pd.concat([text_feature, audio_feature], axis=1)\n",
    "\n",
    "combined_features['aggr_feature'] = combined_features.apply(lambda row: np.concatenate(row), axis=1)\n",
    "\n",
    "print(f\"Number of columns in the first feature: {len(combined_features.iloc[0, 0])}\")\n",
    "print(f\"Number of columns in the second feature: {len(combined_features.iloc[0, 1])}\")\n",
    "print(f\"Number of columns in the combined features: {len(combined_features.iloc[0, 2])}\")\n"
   ],
   "metadata": {
    "collapsed": false,
    "pycharm": {
     "name": "#%%\n"
    }
   }
  },
  {
   "cell_type": "code",
   "execution_count": 25,
   "outputs": [
    {
     "name": "stdout",
     "output_type": "stream",
     "text": [
      "0        [-0.4192236661911011, -1.262790322303772, -0.3...\n",
      "1        [1.4574661254882812, 0.619476318359375, -0.351...\n",
      "2        [1.1996194124221802, -0.2549396753311157, 0.48...\n",
      "3        [-0.6352253556251526, 0.6530497074127197, -1.6...\n",
      "4        [-0.1336851567029953, 0.2777222692966461, -0.2...\n",
      "                               ...                        \n",
      "10089    [-0.7924780249595642, -0.1670402139425277, -0....\n",
      "10090    [-0.5068019032478333, -0.5763552188873291, 0.5...\n",
      "10091    [-0.6007039546966553, 0.0078461170196533, 1.47...\n",
      "10092    [-0.8984915018081665, 0.3358610570430756, -0.6...\n",
      "10093    [0.2389325052499771, -0.4458280205726624, -0.3...\n",
      "Name: aggr_feature, Length: 10094, dtype: object\n"
     ]
    }
   ],
   "source": [
    "# scale features to mean=0, sd=1\n",
    "scaler = StandardScaler()\n",
    "arr= []\n",
    "\n",
    "# conver to arr where feature values are columns and rows are samples\n",
    "for row in combined_features[\"aggr_feature\"]:\n",
    "    arr.append(row)\n",
    "arr =  np.array(arr)\n",
    "\n",
    "# fit scaler to whole arr\n",
    "scaler.fit(arr)\n",
    "\n",
    "# transform aggregated feature\n",
    "for row in combined_features[\"aggr_feature\"]:\n",
    "    scaler.transform(row.reshape(1, -1))\n",
    "\n",
    "print(combined_features[\"aggr_feature\"])"
   ],
   "metadata": {
    "collapsed": false,
    "pycharm": {
     "name": "#%%\n"
    }
   }
  },
  {
   "cell_type": "code",
   "execution_count": 26,
   "outputs": [
    {
     "data": {
      "text/plain": "       index                id                       artist  \\\n0          0  01Yfj2T3YTwJ1Yfy                  We As Human   \n1          1  01gyRHLquwXDlhkO         The Notorious B.I.G.   \n2          2  01rMxQv6vhyE1oQX          Against the Current   \n3          3  02RGE9FNH65RtMS7                     Barthezz   \n4          4  02ZnlCGZEbkfCDxo                Laura Pausini   \n...      ...               ...                          ...   \n10089  10090  zyzILCQvVeUFIINi                Crowded House   \n10090  10091  zzgS4ZqyswamEWNj               Britney Spears   \n10091  10092  zzoFYDMlqU1X2zz1                   Thundercat   \n10092  10093  zzpkRCGA5ud8q4mv                 Otis Redding   \n10093  10094  zzx8CWdM7qkxKQpC  Ted Leo and the Pharmacists   \n\n                                            song  \\\n0      Take The Bullets Away (feat. Lacey Sturm)   \n1                           Somebody's Gotta Die   \n2                                 Chasing Ghosts   \n3                                       Infected   \n4                               Tra Te E Il Mare   \n...                                          ...   \n10089                              When You Come   \n10090                   My Only Wish (This Year)   \n10091                                        DUI   \n10092                               Rock Me Baby   \n10093                    Counting Down the Hours   \n\n                                        album_name  \\\n0                                      We As Human   \n1            Life After Death (Remastered Edition)   \n2                                     In Our Bones   \n3             Trance - The Early Years (1997-2002)   \n4      The Best of Laura Pausini - E Ritorno Da Te   \n...                                            ...   \n10089                            Temple Of Low Men   \n10090                           Platinum Christmas   \n10091                                        Drunk   \n10092                                    Otis Blue   \n10093                             Shake the Sheets   \n\n                                                   genre  \\\n0                                 {christian rock, rock}   \n1                 {grindcore, death metal, hip hop, rap}   \n2                                       {pop punk, rock}   \n3                   {progressive trance, techno, trance}   \n4      {water, europop, pop, italian pop, easy listen...   \n...                                                  ...   \n10089  {folk rock, new wave, pop, modern rock, rock, ...   \n10090  {pop, villancicos, soundtrack, singer songwrit...   \n10091                                {jazz, jazz fusion}   \n10092  {blues rock, southern soul, blues, memphis sou...   \n10093  {punk, electronica, indie punk, screamo, ska, ...   \n\n                                                  resnet  \\\n0      [0.0, 0.110133, 0.31062, 0.0, 0.003017, 0.1360...   \n1      [0.016343, 0.029984, 0.018722, 0.0, 0.17283, 0...   \n2      [0.000348, 0.0, 1.073413, 0.0, 0.097732, 0.082...   \n3      [1.747856, 1.07442, 0.618729, 0.03181, 0.09682...   \n4      [0.586726, 2.380147, 2.270726, 0.009559, 0.062...   \n...                                                  ...   \n10089  [0.494266, 0.477493, 0.284832, 0.000624, 0.028...   \n10090  [0.011208, 0.0, 0.261763, 0.0, 0.046742, 0.007...   \n10091  [0.52736, 0.214681, 0.194289, 0.0, 0.0, 0.2124...   \n10092  [2.136711, 0.035231, 0.0, 0.009515, 0.007278, ...   \n10093  [0.729075, 0.0, 0.0, 0.0, 0.005841, 0.211247, ...   \n\n                                                mfcc_bow  \\\n0      [1.7993406000000003, 0.0, 2.1731863, 0.0, 0.0,...   \n1      [0.90309, 0.0, 2.5092025, 0.0, 1.2552725, 0.0,...   \n2      [2.0086002, 0.0, 1.6334685, 0.0, 2.0413928, 0....   \n3      [0.0, 0.0, 2.620136, 0.0, 0.0, 0.0, 2.4857213,...   \n4      [1.7160033, 0.0, 1.6232493, 0.0, 1.5440681, 0....   \n...                                                  ...   \n10089  [1.1139433, 0.0, 1.2787536, 0.0, 1.1139433, 0....   \n10090  [1.0, 0.0, 1.5314789, 0.0, 1.8692317, 0.0, 2.8...   \n10091  [1.0791812, 0.0, 0.0, 0.0, 2.220108, 0.0, 1.23...   \n10092  [1.2787536, 0.30103, 2.3443923, 0.9542425, 0.3...   \n10093  [1.3617278, 0.0, 2.1003706, 0.0, 0.30103, 0.0,...   \n\n                                            blf_spectral  \\\n0      [-0.0249477, -0.02097, -0.0181111, -0.0154466,...   \n1      [-0.0309665, -0.0263328, -0.0233278, -0.021667...   \n2      [-0.0329296, -0.0266801, -0.0224072, -0.020073...   \n3      [-0.0267741, -0.021581, -0.0176151, -0.0154089...   \n4      [-0.0312411, -0.0266276, -0.0242226, -0.022217...   \n...                                                  ...   \n10089  [-0.0355863, -0.0310836, -0.0281663, -0.026088...   \n10090  [-0.0312189, -0.0272694, -0.0242698, -0.022141...   \n10091  [-0.0279229, -0.0228092, -0.0200152, -0.015878...   \n10092  [-0.00505264, -0.00451292, -0.00401022, -0.003...   \n10093  [-0.00850744, -0.00763223, -0.00697997, -0.006...   \n\n                                                 ivec256  \\\n0      [-0.4192236661911011, -1.262790322303772, -0.3...   \n1      [1.4574661254882812, 0.619476318359375, -0.351...   \n2      [1.1996194124221802, -0.2549396753311157, 0.48...   \n3      [-0.6352253556251526, 0.6530497074127197, -1.6...   \n4      [-0.1336851567029953, 0.2777222692966461, -0.2...   \n...                                                  ...   \n10089  [-0.7924780249595642, -0.1670402139425277, -0....   \n10090  [-0.5068019032478333, -0.5763552188873291, 0.5...   \n10091  [-0.6007039546966553, 0.0078461170196533, 1.47...   \n10092  [-0.8984915018081665, 0.3358610570430756, -0.6...   \n10093  [0.2389325052499771, -0.4458280205726624, -0.3...   \n\n                                                 musicnn  \\\n0      [0.12903129, 0.0011226882, 0.0065768533, 0.082...   \n1      [0.026824217, 0.00087343465, 0.009360876, 0.31...   \n2      [0.2518178, 0.0043474026, 0.07843659, 0.056584...   \n3      [0.00045163534, 0.0013956887, 0.002990173, 0.8...   \n4      [0.21950364, 0.011686802, 0.054231934, 0.06058...   \n...                                                  ...   \n10089  [0.07816198, 0.028270144, 0.036110856, 0.16444...   \n10090  [0.13354015, 0.0006341115, 0.015991116, 0.1121...   \n10091  [0.35324243, 0.21061507, 0.21161962, 0.0117739...   \n10092  [0.3110698, 0.030005153, 0.053962547, 0.041860...   \n10093  [0.20314741, 0.0004737083, 0.007147183, 0.1303...   \n\n                                                    bert  \\\n0      [0.0302475523203611, 0.0352500043809413, 0.010...   \n1      [0.0084422621876001, 0.0302564185112714, 0.009...   \n2      [0.0490818135440349, 0.0148476688191294, 0.001...   \n3      [0.0445394963026046, 0.0214906893670558, 0.013...   \n4      [0.0514551289379596, 0.0297695714980363, -0.01...   \n...                                                  ...   \n10089  [0.006713552866131, 0.0480893477797508, -0.001...   \n10090  [0.0098905526101589, 0.0401467233896255, -0.02...   \n10091  [0.0101165119558572, 0.0388841480016708, -0.01...   \n10092  [-0.0166116580367088, 0.0266939438879489, -0.0...   \n10093  [0.0070628975518047, 0.0539373308420181, 0.000...   \n\n                                                word2vec  \\\n0      [0.0193592727054678, 0.0232394714425702, 0.028...   \n1      [0.018537292381979, 0.0113115924403394, 0.0107...   \n2      [0.0227837218553759, 0.0231641749730655, 0.012...   \n3      [0.0381116103401342, 0.0278804157207017, 0.016...   \n4      [0.0182936789026777, -0.0064870788035669, 0.00...   \n...                                                  ...   \n10089  [0.0195101330379449, 0.0236336907562543, 0.011...   \n10090  [0.0268563718791583, 0.0082648759004199, 0.011...   \n10091  [0.0051499218912795, 0.0028818239457905, 0.017...   \n10092  [0.0370260450523346, 0.0159991827379498, -0.00...   \n10093  [0.0294775550027151, 0.0302836241438903, 0.012...   \n\n                                                  tf-idf  \\\n0      [0.0, 0.0, 0.0, 0.0, 0.0, 0.0818293914712727, ...   \n1      [0.0, 0.0, 0.0, 0.0, 0.0, 0.0, 0.0, 0.0, 0.0, ...   \n2      [0.0, 0.0, 0.0, 0.0, 0.0, 0.0, 0.0, 0.0, 0.0, ...   \n3      [0.0, 0.0, 0.0, 0.0, 0.0, 0.0, 0.0, 0.0, 0.0, ...   \n4      [0.0, 0.0, 0.0, 0.0, 0.0, 0.2413163920156013, ...   \n...                                                  ...   \n10089  [0.0, 0.0, 0.079623055470056, 0.0, 0.0, 0.0, 0...   \n10090  [0.0, 0.0, 0.0, 0.0, 0.0, 0.0, 0.0, 0.0, 0.0, ...   \n10091  [0.0, 0.0, 0.0, 0.0, 0.0, 0.0, 0.0, 0.0, 0.0, ...   \n10092  [0.0, 0.0, 0.0, 0.0, 0.0, 0.0, 0.0, 0.0, 0.0, ...   \n10093  [0.0, 0.0, 0.0, 0.0748577176019516, 0.0, 0.0, ...   \n\n                                            early_fusion  \n0      [-0.4192236661911011, -1.262790322303772, -0.3...  \n1      [1.4574661254882812, 0.619476318359375, -0.351...  \n2      [1.1996194124221802, -0.2549396753311157, 0.48...  \n3      [-0.6352253556251526, 0.6530497074127197, -1.6...  \n4      [-0.1336851567029953, 0.2777222692966461, -0.2...  \n...                                                  ...  \n10089  [-0.7924780249595642, -0.1670402139425277, -0....  \n10090  [-0.5068019032478333, -0.5763552188873291, 0.5...  \n10091  [-0.6007039546966553, 0.0078461170196533, 1.47...  \n10092  [-0.8984915018081665, 0.3358610570430756, -0.6...  \n10093  [0.2389325052499771, -0.4458280205726624, -0.3...  \n\n[10094 rows x 15 columns]",
      "text/html": "<div>\n<style scoped>\n    .dataframe tbody tr th:only-of-type {\n        vertical-align: middle;\n    }\n\n    .dataframe tbody tr th {\n        vertical-align: top;\n    }\n\n    .dataframe thead th {\n        text-align: right;\n    }\n</style>\n<table border=\"1\" class=\"dataframe\">\n  <thead>\n    <tr style=\"text-align: right;\">\n      <th></th>\n      <th>index</th>\n      <th>id</th>\n      <th>artist</th>\n      <th>song</th>\n      <th>album_name</th>\n      <th>genre</th>\n      <th>resnet</th>\n      <th>mfcc_bow</th>\n      <th>blf_spectral</th>\n      <th>ivec256</th>\n      <th>musicnn</th>\n      <th>bert</th>\n      <th>word2vec</th>\n      <th>tf-idf</th>\n      <th>early_fusion</th>\n    </tr>\n  </thead>\n  <tbody>\n    <tr>\n      <th>0</th>\n      <td>0</td>\n      <td>01Yfj2T3YTwJ1Yfy</td>\n      <td>We As Human</td>\n      <td>Take The Bullets Away (feat. Lacey Sturm)</td>\n      <td>We As Human</td>\n      <td>{christian rock, rock}</td>\n      <td>[0.0, 0.110133, 0.31062, 0.0, 0.003017, 0.1360...</td>\n      <td>[1.7993406000000003, 0.0, 2.1731863, 0.0, 0.0,...</td>\n      <td>[-0.0249477, -0.02097, -0.0181111, -0.0154466,...</td>\n      <td>[-0.4192236661911011, -1.262790322303772, -0.3...</td>\n      <td>[0.12903129, 0.0011226882, 0.0065768533, 0.082...</td>\n      <td>[0.0302475523203611, 0.0352500043809413, 0.010...</td>\n      <td>[0.0193592727054678, 0.0232394714425702, 0.028...</td>\n      <td>[0.0, 0.0, 0.0, 0.0, 0.0, 0.0818293914712727, ...</td>\n      <td>[-0.4192236661911011, -1.262790322303772, -0.3...</td>\n    </tr>\n    <tr>\n      <th>1</th>\n      <td>1</td>\n      <td>01gyRHLquwXDlhkO</td>\n      <td>The Notorious B.I.G.</td>\n      <td>Somebody's Gotta Die</td>\n      <td>Life After Death (Remastered Edition)</td>\n      <td>{grindcore, death metal, hip hop, rap}</td>\n      <td>[0.016343, 0.029984, 0.018722, 0.0, 0.17283, 0...</td>\n      <td>[0.90309, 0.0, 2.5092025, 0.0, 1.2552725, 0.0,...</td>\n      <td>[-0.0309665, -0.0263328, -0.0233278, -0.021667...</td>\n      <td>[1.4574661254882812, 0.619476318359375, -0.351...</td>\n      <td>[0.026824217, 0.00087343465, 0.009360876, 0.31...</td>\n      <td>[0.0084422621876001, 0.0302564185112714, 0.009...</td>\n      <td>[0.018537292381979, 0.0113115924403394, 0.0107...</td>\n      <td>[0.0, 0.0, 0.0, 0.0, 0.0, 0.0, 0.0, 0.0, 0.0, ...</td>\n      <td>[1.4574661254882812, 0.619476318359375, -0.351...</td>\n    </tr>\n    <tr>\n      <th>2</th>\n      <td>2</td>\n      <td>01rMxQv6vhyE1oQX</td>\n      <td>Against the Current</td>\n      <td>Chasing Ghosts</td>\n      <td>In Our Bones</td>\n      <td>{pop punk, rock}</td>\n      <td>[0.000348, 0.0, 1.073413, 0.0, 0.097732, 0.082...</td>\n      <td>[2.0086002, 0.0, 1.6334685, 0.0, 2.0413928, 0....</td>\n      <td>[-0.0329296, -0.0266801, -0.0224072, -0.020073...</td>\n      <td>[1.1996194124221802, -0.2549396753311157, 0.48...</td>\n      <td>[0.2518178, 0.0043474026, 0.07843659, 0.056584...</td>\n      <td>[0.0490818135440349, 0.0148476688191294, 0.001...</td>\n      <td>[0.0227837218553759, 0.0231641749730655, 0.012...</td>\n      <td>[0.0, 0.0, 0.0, 0.0, 0.0, 0.0, 0.0, 0.0, 0.0, ...</td>\n      <td>[1.1996194124221802, -0.2549396753311157, 0.48...</td>\n    </tr>\n    <tr>\n      <th>3</th>\n      <td>3</td>\n      <td>02RGE9FNH65RtMS7</td>\n      <td>Barthezz</td>\n      <td>Infected</td>\n      <td>Trance - The Early Years (1997-2002)</td>\n      <td>{progressive trance, techno, trance}</td>\n      <td>[1.747856, 1.07442, 0.618729, 0.03181, 0.09682...</td>\n      <td>[0.0, 0.0, 2.620136, 0.0, 0.0, 0.0, 2.4857213,...</td>\n      <td>[-0.0267741, -0.021581, -0.0176151, -0.0154089...</td>\n      <td>[-0.6352253556251526, 0.6530497074127197, -1.6...</td>\n      <td>[0.00045163534, 0.0013956887, 0.002990173, 0.8...</td>\n      <td>[0.0445394963026046, 0.0214906893670558, 0.013...</td>\n      <td>[0.0381116103401342, 0.0278804157207017, 0.016...</td>\n      <td>[0.0, 0.0, 0.0, 0.0, 0.0, 0.0, 0.0, 0.0, 0.0, ...</td>\n      <td>[-0.6352253556251526, 0.6530497074127197, -1.6...</td>\n    </tr>\n    <tr>\n      <th>4</th>\n      <td>4</td>\n      <td>02ZnlCGZEbkfCDxo</td>\n      <td>Laura Pausini</td>\n      <td>Tra Te E Il Mare</td>\n      <td>The Best of Laura Pausini - E Ritorno Da Te</td>\n      <td>{water, europop, pop, italian pop, easy listen...</td>\n      <td>[0.586726, 2.380147, 2.270726, 0.009559, 0.062...</td>\n      <td>[1.7160033, 0.0, 1.6232493, 0.0, 1.5440681, 0....</td>\n      <td>[-0.0312411, -0.0266276, -0.0242226, -0.022217...</td>\n      <td>[-0.1336851567029953, 0.2777222692966461, -0.2...</td>\n      <td>[0.21950364, 0.011686802, 0.054231934, 0.06058...</td>\n      <td>[0.0514551289379596, 0.0297695714980363, -0.01...</td>\n      <td>[0.0182936789026777, -0.0064870788035669, 0.00...</td>\n      <td>[0.0, 0.0, 0.0, 0.0, 0.0, 0.2413163920156013, ...</td>\n      <td>[-0.1336851567029953, 0.2777222692966461, -0.2...</td>\n    </tr>\n    <tr>\n      <th>...</th>\n      <td>...</td>\n      <td>...</td>\n      <td>...</td>\n      <td>...</td>\n      <td>...</td>\n      <td>...</td>\n      <td>...</td>\n      <td>...</td>\n      <td>...</td>\n      <td>...</td>\n      <td>...</td>\n      <td>...</td>\n      <td>...</td>\n      <td>...</td>\n      <td>...</td>\n    </tr>\n    <tr>\n      <th>10089</th>\n      <td>10090</td>\n      <td>zyzILCQvVeUFIINi</td>\n      <td>Crowded House</td>\n      <td>When You Come</td>\n      <td>Temple Of Low Men</td>\n      <td>{folk rock, new wave, pop, modern rock, rock, ...</td>\n      <td>[0.494266, 0.477493, 0.284832, 0.000624, 0.028...</td>\n      <td>[1.1139433, 0.0, 1.2787536, 0.0, 1.1139433, 0....</td>\n      <td>[-0.0355863, -0.0310836, -0.0281663, -0.026088...</td>\n      <td>[-0.7924780249595642, -0.1670402139425277, -0....</td>\n      <td>[0.07816198, 0.028270144, 0.036110856, 0.16444...</td>\n      <td>[0.006713552866131, 0.0480893477797508, -0.001...</td>\n      <td>[0.0195101330379449, 0.0236336907562543, 0.011...</td>\n      <td>[0.0, 0.0, 0.079623055470056, 0.0, 0.0, 0.0, 0...</td>\n      <td>[-0.7924780249595642, -0.1670402139425277, -0....</td>\n    </tr>\n    <tr>\n      <th>10090</th>\n      <td>10091</td>\n      <td>zzgS4ZqyswamEWNj</td>\n      <td>Britney Spears</td>\n      <td>My Only Wish (This Year)</td>\n      <td>Platinum Christmas</td>\n      <td>{pop, villancicos, soundtrack, singer songwrit...</td>\n      <td>[0.011208, 0.0, 0.261763, 0.0, 0.046742, 0.007...</td>\n      <td>[1.0, 0.0, 1.5314789, 0.0, 1.8692317, 0.0, 2.8...</td>\n      <td>[-0.0312189, -0.0272694, -0.0242698, -0.022141...</td>\n      <td>[-0.5068019032478333, -0.5763552188873291, 0.5...</td>\n      <td>[0.13354015, 0.0006341115, 0.015991116, 0.1121...</td>\n      <td>[0.0098905526101589, 0.0401467233896255, -0.02...</td>\n      <td>[0.0268563718791583, 0.0082648759004199, 0.011...</td>\n      <td>[0.0, 0.0, 0.0, 0.0, 0.0, 0.0, 0.0, 0.0, 0.0, ...</td>\n      <td>[-0.5068019032478333, -0.5763552188873291, 0.5...</td>\n    </tr>\n    <tr>\n      <th>10091</th>\n      <td>10092</td>\n      <td>zzoFYDMlqU1X2zz1</td>\n      <td>Thundercat</td>\n      <td>DUI</td>\n      <td>Drunk</td>\n      <td>{jazz, jazz fusion}</td>\n      <td>[0.52736, 0.214681, 0.194289, 0.0, 0.0, 0.2124...</td>\n      <td>[1.0791812, 0.0, 0.0, 0.0, 2.220108, 0.0, 1.23...</td>\n      <td>[-0.0279229, -0.0228092, -0.0200152, -0.015878...</td>\n      <td>[-0.6007039546966553, 0.0078461170196533, 1.47...</td>\n      <td>[0.35324243, 0.21061507, 0.21161962, 0.0117739...</td>\n      <td>[0.0101165119558572, 0.0388841480016708, -0.01...</td>\n      <td>[0.0051499218912795, 0.0028818239457905, 0.017...</td>\n      <td>[0.0, 0.0, 0.0, 0.0, 0.0, 0.0, 0.0, 0.0, 0.0, ...</td>\n      <td>[-0.6007039546966553, 0.0078461170196533, 1.47...</td>\n    </tr>\n    <tr>\n      <th>10092</th>\n      <td>10093</td>\n      <td>zzpkRCGA5ud8q4mv</td>\n      <td>Otis Redding</td>\n      <td>Rock Me Baby</td>\n      <td>Otis Blue</td>\n      <td>{blues rock, southern soul, blues, memphis sou...</td>\n      <td>[2.136711, 0.035231, 0.0, 0.009515, 0.007278, ...</td>\n      <td>[1.2787536, 0.30103, 2.3443923, 0.9542425, 0.3...</td>\n      <td>[-0.00505264, -0.00451292, -0.00401022, -0.003...</td>\n      <td>[-0.8984915018081665, 0.3358610570430756, -0.6...</td>\n      <td>[0.3110698, 0.030005153, 0.053962547, 0.041860...</td>\n      <td>[-0.0166116580367088, 0.0266939438879489, -0.0...</td>\n      <td>[0.0370260450523346, 0.0159991827379498, -0.00...</td>\n      <td>[0.0, 0.0, 0.0, 0.0, 0.0, 0.0, 0.0, 0.0, 0.0, ...</td>\n      <td>[-0.8984915018081665, 0.3358610570430756, -0.6...</td>\n    </tr>\n    <tr>\n      <th>10093</th>\n      <td>10094</td>\n      <td>zzx8CWdM7qkxKQpC</td>\n      <td>Ted Leo and the Pharmacists</td>\n      <td>Counting Down the Hours</td>\n      <td>Shake the Sheets</td>\n      <td>{punk, electronica, indie punk, screamo, ska, ...</td>\n      <td>[0.729075, 0.0, 0.0, 0.0, 0.005841, 0.211247, ...</td>\n      <td>[1.3617278, 0.0, 2.1003706, 0.0, 0.30103, 0.0,...</td>\n      <td>[-0.00850744, -0.00763223, -0.00697997, -0.006...</td>\n      <td>[0.2389325052499771, -0.4458280205726624, -0.3...</td>\n      <td>[0.20314741, 0.0004737083, 0.007147183, 0.1303...</td>\n      <td>[0.0070628975518047, 0.0539373308420181, 0.000...</td>\n      <td>[0.0294775550027151, 0.0302836241438903, 0.012...</td>\n      <td>[0.0, 0.0, 0.0, 0.0748577176019516, 0.0, 0.0, ...</td>\n      <td>[0.2389325052499771, -0.4458280205726624, -0.3...</td>\n    </tr>\n  </tbody>\n</table>\n<p>10094 rows × 15 columns</p>\n</div>"
     },
     "execution_count": 26,
     "metadata": {},
     "output_type": "execute_result"
    }
   ],
   "source": [
    "# use aggregated features for new RS\n",
    "df[\"early_fusion\"] = combined_features[\"aggr_feature\"]\n",
    "\n",
    "rs_cos_early_fusion = RetrievalSystem(\n",
    "    df=df,\n",
    "    sim_metric=cosine_similarity,\n",
    "    sim_feature=\"early_fusion\",\n",
    ")"
   ],
   "metadata": {
    "collapsed": false,
    "pycharm": {
     "name": "#%%\n"
    }
   }
  },
  {
   "cell_type": "markdown",
   "source": [
    "### Late Fusion\n",
    "In this section we will perform late fusion of 2 retrieval systems using score aggregation by:\n",
    "- precomputing all retrievals and their similarities for chosen retrieval systems.\n",
    "- checking statistical compatability of scores\n",
    "- fusing systems via score average"
   ],
   "metadata": {
    "collapsed": false,
    "pycharm": {
     "name": "#%% md\n"
    }
   }
  },
  {
   "cell_type": "code",
   "execution_count": null,
   "outputs": [],
   "source": [
    "# pre compute retrievals\n",
    "#res = []\n",
    "#\n",
    "#\n",
    "#for system in [rs_cos_dnn, rs_cos_resnet]:\n",
    "#    sim_matrix = pd.DataFrame(\n",
    "#        index=df[\"id\"], columns=df[\"id\"], dtype=float)\n",
    "#    id_order = sim_matrix.index\n",
    "#    for idx, song_id in enumerate(df[\"id\"]):\n",
    "#        sim = system.retrieve(song_id, len(df[\"id\"])).set_index(\"id\")[\"similarity\"]\n",
    "#        # remove sort\n",
    "#        sim = sim.loc[id_order]\n",
    "#        # Fill the original DataFrame with the new DataFrame column\n",
    "#        sim_matrix.iloc[:, idx] = sim\n",
    "#    print(sim_matrix)\n",
    "#    res.append(sim_matrix)"
   ],
   "metadata": {
    "collapsed": false,
    "pycharm": {
     "name": "#%%\n"
    }
   }
  },
  {
   "cell_type": "code",
   "execution_count": null,
   "outputs": [],
   "source": [
    "## check compatability\n",
    "#for i, sim_ma in enumerate(res):\n",
    "#    print(f\"\\nStatistics for res[{i}]:\")\n",
    "#    print(f\"  Mean: {sim_ma.mean().mean()}\")\n",
    "#    print(f\"  Standard Deviation: {sim_ma.std().mean()}\")"
   ],
   "metadata": {
    "collapsed": false,
    "pycharm": {
     "name": "#%%\n"
    }
   }
  },
  {
   "cell_type": "markdown",
   "source": [
    "# Evaluation"
   ],
   "metadata": {
    "collapsed": false,
    "pycharm": {
     "name": "#%% md\n"
    }
   }
  },
  {
   "cell_type": "code",
   "execution_count": null,
   "outputs": [],
   "source": [],
   "metadata": {
    "collapsed": false,
    "pycharm": {
     "name": "#%%\n"
    }
   }
  }
 ],
 "metadata": {
  "kernelspec": {
   "display_name": "Python 3",
   "language": "python",
   "name": "python3"
  },
  "language_info": {
   "codemirror_mode": {
    "name": "ipython",
    "version": 2
   },
   "file_extension": ".py",
   "mimetype": "text/x-python",
   "name": "python",
   "nbconvert_exporter": "python",
   "pygments_lexer": "ipython2",
   "version": "2.7.6"
  }
 },
 "nbformat": 4,
 "nbformat_minor": 0
}