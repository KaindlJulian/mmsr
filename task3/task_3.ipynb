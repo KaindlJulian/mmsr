{
 "cells": [
  {
   "cell_type": "markdown",
   "source": [
    "# Read and Explore Data"
   ],
   "metadata": {
    "collapsed": false,
    "pycharm": {
     "name": "#%% md\n"
    }
   }
  },
  {
   "cell_type": "code",
   "execution_count": 210,
   "outputs": [],
   "source": [
    "import sys\n",
    "\n",
    "sys.path.append(\"../\")\n",
    "\n",
    "import numpy as np\n",
    "import pandas as pd\n",
    "from sklearn.preprocessing import StandardScaler\n",
    "from typing import Union, Tuple\n",
    "from tqdm.notebook import tqdm\n",
    "import matplotlib.pyplot as plt"
   ],
   "metadata": {
    "collapsed": false,
    "pycharm": {
     "name": "#%%\n"
    }
   }
  },
  {
   "cell_type": "code",
   "execution_count": 211,
   "outputs": [],
   "source": [
    "from task1.retrieval_system import RetrievalSystem, SongInfo\n",
    "from task1.similarity_measure import (\n",
    "    cosine_similarity,\n",
    "    dot_product,\n",
    "    manhattan_distance,\n",
    "    euclidean_distance,\n",
    "    random_similarity,\n",
    ")\n",
    "from utils import read, embed_and_merge"
   ],
   "metadata": {
    "collapsed": false,
    "pycharm": {
     "name": "#%%\n"
    }
   }
  },
  {
   "cell_type": "code",
   "execution_count": 212,
   "outputs": [
    {
     "data": {
      "text/plain": "                     id                       artist  \\\n0      01Yfj2T3YTwJ1Yfy                  We As Human   \n1      01gyRHLquwXDlhkO         The Notorious B.I.G.   \n2      01rMxQv6vhyE1oQX          Against the Current   \n3      02RGE9FNH65RtMS7                     Barthezz   \n4      02ZnlCGZEbkfCDxo                Laura Pausini   \n...                 ...                          ...   \n10090  zyzILCQvVeUFIINi                Crowded House   \n10091  zzgS4ZqyswamEWNj               Britney Spears   \n10092  zzoFYDMlqU1X2zz1                   Thundercat   \n10093  zzpkRCGA5ud8q4mv                 Otis Redding   \n10094  zzx8CWdM7qkxKQpC  Ted Leo and the Pharmacists   \n\n                                            song  \\\n0      Take The Bullets Away (feat. Lacey Sturm)   \n1                           Somebody's Gotta Die   \n2                                 Chasing Ghosts   \n3                                       Infected   \n4                               Tra Te E Il Mare   \n...                                          ...   \n10090                              When You Come   \n10091                   My Only Wish (This Year)   \n10092                                        DUI   \n10093                               Rock Me Baby   \n10094                    Counting Down the Hours   \n\n                                        album_name  \n0                                      We As Human  \n1            Life After Death (Remastered Edition)  \n2                                     In Our Bones  \n3             Trance - The Early Years (1997-2002)  \n4      The Best of Laura Pausini - E Ritorno Da Te  \n...                                            ...  \n10090                            Temple Of Low Men  \n10091                           Platinum Christmas  \n10092                                        Drunk  \n10093                                    Otis Blue  \n10094                             Shake the Sheets  \n\n[10095 rows x 4 columns]",
      "text/html": "<div>\n<style scoped>\n    .dataframe tbody tr th:only-of-type {\n        vertical-align: middle;\n    }\n\n    .dataframe tbody tr th {\n        vertical-align: top;\n    }\n\n    .dataframe thead th {\n        text-align: right;\n    }\n</style>\n<table border=\"1\" class=\"dataframe\">\n  <thead>\n    <tr style=\"text-align: right;\">\n      <th></th>\n      <th>id</th>\n      <th>artist</th>\n      <th>song</th>\n      <th>album_name</th>\n    </tr>\n  </thead>\n  <tbody>\n    <tr>\n      <th>0</th>\n      <td>01Yfj2T3YTwJ1Yfy</td>\n      <td>We As Human</td>\n      <td>Take The Bullets Away (feat. Lacey Sturm)</td>\n      <td>We As Human</td>\n    </tr>\n    <tr>\n      <th>1</th>\n      <td>01gyRHLquwXDlhkO</td>\n      <td>The Notorious B.I.G.</td>\n      <td>Somebody's Gotta Die</td>\n      <td>Life After Death (Remastered Edition)</td>\n    </tr>\n    <tr>\n      <th>2</th>\n      <td>01rMxQv6vhyE1oQX</td>\n      <td>Against the Current</td>\n      <td>Chasing Ghosts</td>\n      <td>In Our Bones</td>\n    </tr>\n    <tr>\n      <th>3</th>\n      <td>02RGE9FNH65RtMS7</td>\n      <td>Barthezz</td>\n      <td>Infected</td>\n      <td>Trance - The Early Years (1997-2002)</td>\n    </tr>\n    <tr>\n      <th>4</th>\n      <td>02ZnlCGZEbkfCDxo</td>\n      <td>Laura Pausini</td>\n      <td>Tra Te E Il Mare</td>\n      <td>The Best of Laura Pausini - E Ritorno Da Te</td>\n    </tr>\n    <tr>\n      <th>...</th>\n      <td>...</td>\n      <td>...</td>\n      <td>...</td>\n      <td>...</td>\n    </tr>\n    <tr>\n      <th>10090</th>\n      <td>zyzILCQvVeUFIINi</td>\n      <td>Crowded House</td>\n      <td>When You Come</td>\n      <td>Temple Of Low Men</td>\n    </tr>\n    <tr>\n      <th>10091</th>\n      <td>zzgS4ZqyswamEWNj</td>\n      <td>Britney Spears</td>\n      <td>My Only Wish (This Year)</td>\n      <td>Platinum Christmas</td>\n    </tr>\n    <tr>\n      <th>10092</th>\n      <td>zzoFYDMlqU1X2zz1</td>\n      <td>Thundercat</td>\n      <td>DUI</td>\n      <td>Drunk</td>\n    </tr>\n    <tr>\n      <th>10093</th>\n      <td>zzpkRCGA5ud8q4mv</td>\n      <td>Otis Redding</td>\n      <td>Rock Me Baby</td>\n      <td>Otis Blue</td>\n    </tr>\n    <tr>\n      <th>10094</th>\n      <td>zzx8CWdM7qkxKQpC</td>\n      <td>Ted Leo and the Pharmacists</td>\n      <td>Counting Down the Hours</td>\n      <td>Shake the Sheets</td>\n    </tr>\n  </tbody>\n</table>\n<p>10095 rows × 4 columns</p>\n</div>"
     },
     "execution_count": 212,
     "metadata": {},
     "output_type": "execute_result"
    }
   ],
   "source": [
    "# basic song information from task 1\n",
    "df = read(\"information\", 0)\n",
    "df"
   ],
   "metadata": {
    "collapsed": false,
    "pycharm": {
     "name": "#%%\n"
    }
   }
  },
  {
   "cell_type": "code",
   "execution_count": 213,
   "outputs": [],
   "source": [
    "# add genre information for metric calculation\n",
    "genres = read(\"genres\", 0)\n",
    "# convert genre to actual list via eval\n",
    "genres[\"genre\"] = genres[\"genre\"].apply(eval).apply(set)\n",
    "df = df.merge(genres, on=\"id\", how=\"left\")"
   ],
   "metadata": {
    "collapsed": false,
    "pycharm": {
     "name": "#%%\n"
    }
   }
  },
  {
   "cell_type": "markdown",
   "source": [
    "We load one new feature and the features from the previous assignments. We need them for comparison and fusion."
   ],
   "metadata": {
    "collapsed": false,
    "pycharm": {
     "name": "#%% md\n"
    }
   }
  },
  {
   "cell_type": "code",
   "execution_count": 214,
   "outputs": [],
   "source": [
    "visual_feature = \"resnet\"\n",
    "stats = read(visual_feature, 0)\n",
    "df = embed_and_merge(df, stats, visual_feature)\n",
    "\n",
    "for audio_feature in [\"mfcc_bow\", \"blf_spectral\", \"ivec256\", \"musicnn\"]:\n",
    "    stats = read(audio_feature, 0)\n",
    "    df = embed_and_merge(df, stats, audio_feature)\n",
    "\n",
    "for text_feature in [\"lyrics_bert\", \"lyrics_word2vec\", \"lyrics_tf-idf\"]:\n",
    "    stats = read(text_feature, 0)\n",
    "    df = embed_and_merge(df, stats, text_feature.split(\"_\")[1])"
   ],
   "metadata": {
    "collapsed": false,
    "pycharm": {
     "name": "#%%\n"
    }
   }
  },
  {
   "cell_type": "code",
   "execution_count": 215,
   "outputs": [
    {
     "data": {
      "text/plain": "id              0\nartist          0\nsong            0\nalbum_name      0\ngenre           1\nresnet          1\nmfcc_bow        1\nblf_spectral    1\nivec256         1\nmusicnn         1\nbert            0\nword2vec        0\ntf-idf          0\ndtype: int64"
     },
     "execution_count": 215,
     "metadata": {},
     "output_type": "execute_result"
    }
   ],
   "source": [
    "df.isna().sum()"
   ],
   "metadata": {
    "collapsed": false,
    "pycharm": {
     "name": "#%%\n"
    }
   }
  },
  {
   "cell_type": "code",
   "execution_count": 216,
   "outputs": [],
   "source": [
    "# data for task 2 does not include the item with id \"03Oc9WeMEmyLLQbj\" = row 5\n",
    "df = df.drop(5)\n",
    "df = df.reset_index()"
   ],
   "metadata": {
    "collapsed": false,
    "pycharm": {
     "name": "#%%\n"
    }
   }
  },
  {
   "cell_type": "markdown",
   "source": [
    "# Define retrieval systems"
   ],
   "metadata": {
    "collapsed": false,
    "pycharm": {
     "name": "#%% md\n"
    }
   }
  },
  {
   "cell_type": "markdown",
   "source": [
    "## From Task 1 (text-based)"
   ],
   "metadata": {
    "collapsed": false,
    "pycharm": {
     "name": "#%% md\n"
    }
   }
  },
  {
   "cell_type": "code",
   "execution_count": 217,
   "outputs": [],
   "source": [
    "rs_random = RetrievalSystem(\n",
    "    df=df,\n",
    "    sim_metric=random_similarity,\n",
    ")"
   ],
   "metadata": {
    "collapsed": false,
    "pycharm": {
     "name": "#%%\n"
    }
   }
  },
  {
   "cell_type": "code",
   "execution_count": 218,
   "outputs": [],
   "source": [
    "rs_cos_tdidf = RetrievalSystem(\n",
    "    df=df,\n",
    "    sim_metric=cosine_similarity,\n",
    "    sim_feature=\"tf-idf\",\n",
    ")"
   ],
   "metadata": {
    "collapsed": false,
    "pycharm": {
     "name": "#%%\n"
    }
   }
  },
  {
   "cell_type": "code",
   "execution_count": 219,
   "outputs": [],
   "source": [
    "rs_cos_bert = RetrievalSystem(\n",
    "    df=df,\n",
    "    sim_metric=cosine_similarity,\n",
    "    sim_feature=\"bert\",\n",
    ")"
   ],
   "metadata": {
    "collapsed": false,
    "pycharm": {
     "name": "#%%\n"
    }
   }
  },
  {
   "cell_type": "code",
   "execution_count": 220,
   "outputs": [],
   "source": [
    "rs_dot_w2v = RetrievalSystem(\n",
    "    df=df,\n",
    "    sim_metric=dot_product,\n",
    "    sim_feature=\"word2vec\",\n",
    ")"
   ],
   "metadata": {
    "collapsed": false,
    "pycharm": {
     "name": "#%%\n"
    }
   }
  },
  {
   "cell_type": "markdown",
   "source": [
    "## From Task 2 (audio-based)"
   ],
   "metadata": {
    "collapsed": false,
    "pycharm": {
     "name": "#%% md\n"
    }
   }
  },
  {
   "cell_type": "code",
   "execution_count": 221,
   "outputs": [],
   "source": [
    "rs_cos_mfcc = RetrievalSystem(\n",
    "    df=df,\n",
    "    sim_metric=cosine_similarity,\n",
    "    sim_feature=\"mfcc_bow\",\n",
    ")"
   ],
   "metadata": {
    "collapsed": false,
    "pycharm": {
     "name": "#%%\n"
    }
   }
  },
  {
   "cell_type": "code",
   "execution_count": 222,
   "outputs": [],
   "source": [
    "rs_cos_blf = RetrievalSystem(\n",
    "    df=df,\n",
    "    sim_metric=cosine_similarity,\n",
    "    sim_feature=\"blf_spectral\",\n",
    ")"
   ],
   "metadata": {
    "collapsed": false,
    "pycharm": {
     "name": "#%%\n"
    }
   }
  },
  {
   "cell_type": "code",
   "execution_count": 223,
   "outputs": [],
   "source": [
    "rs_cos_ivec256 = RetrievalSystem(\n",
    "    df=df,\n",
    "    sim_metric=cosine_similarity,\n",
    "    sim_feature=\"ivec256\",\n",
    ")"
   ],
   "metadata": {
    "collapsed": false,
    "pycharm": {
     "name": "#%%\n"
    }
   }
  },
  {
   "cell_type": "code",
   "execution_count": 224,
   "outputs": [],
   "source": [
    "rs_cos_dnn = RetrievalSystem(\n",
    "    df=df,\n",
    "    sim_metric=cosine_similarity,\n",
    "    sim_feature=\"musicnn\",\n",
    ")"
   ],
   "metadata": {
    "collapsed": false,
    "pycharm": {
     "name": "#%%\n"
    }
   }
  },
  {
   "cell_type": "markdown",
   "source": [
    "## From Task 3 (video-based; new!)\n"
   ],
   "metadata": {
    "collapsed": false,
    "pycharm": {
     "name": "#%% md\n"
    }
   }
  },
  {
   "cell_type": "code",
   "execution_count": 225,
   "outputs": [],
   "source": [
    "rs_cos_resnet = RetrievalSystem(\n",
    "    df=df,\n",
    "    sim_metric=cosine_similarity,\n",
    "    sim_feature=\"resnet\",\n",
    ")"
   ],
   "metadata": {
    "collapsed": false,
    "pycharm": {
     "name": "#%%\n"
    }
   }
  },
  {
   "cell_type": "markdown",
   "source": [
    "## Fusion Techniques"
   ],
   "metadata": {
    "collapsed": false,
    "pycharm": {
     "name": "#%% md\n"
    }
   }
  },
  {
   "cell_type": "markdown",
   "source": [
    "### Early Fusion\n",
    "In this section we will perform early fusion of 2 features by:\n",
    "- Concatenating two features\n",
    "- Normalizing the aggregated feature\n",
    "- Defining a retrieval system on the aggregated feature\n"
   ],
   "metadata": {
    "collapsed": false,
    "pycharm": {
     "name": "#%% md\n"
    }
   }
  },
  {
   "cell_type": "code",
   "execution_count": 226,
   "outputs": [],
   "source": [
    "def concat_features(first_feature, second_feature):\n",
    "    # Concat features to form aggregated feature\n",
    "    first = df[first_feature]\n",
    "    second = df[second_feature]\n",
    "\n",
    "    combined_features = pd.concat([first, second], axis=1)\n",
    "\n",
    "    combined_features['aggr_feature'] = combined_features.apply(lambda row: np.concatenate(row), axis=1)\n",
    "\n",
    "    print(f\"Number of columns in the first feature: {len(combined_features.iloc[0, 0])}\")\n",
    "    print(f\"Number of columns in the second feature: {len(combined_features.iloc[0, 1])}\")\n",
    "    print(f\"Number of columns in the combined features: {len(combined_features.iloc[0, 2])}\")\n",
    "\n",
    "    # returns dataframe with first, second and combined feature\n",
    "    return combined_features"
   ],
   "metadata": {
    "collapsed": false,
    "pycharm": {
     "name": "#%%\n"
    }
   }
  },
  {
   "cell_type": "code",
   "execution_count": 227,
   "outputs": [],
   "source": [
    "def scale_feature(combined_features):\n",
    "    # scale features to mean=0, sd=1\n",
    "    scaler = StandardScaler()\n",
    "    arr= []\n",
    "\n",
    "    # convert to arr where feature values are columns and rows are samples\n",
    "    for row in combined_features[\"aggr_feature\"]:\n",
    "        arr.append(row)\n",
    "    arr =  np.array(arr)\n",
    "\n",
    "    # fit scaler to whole arr\n",
    "    scaler.fit(arr)\n",
    "\n",
    "    # transform aggregated feature\n",
    "    for row in combined_features[\"aggr_feature\"]:\n",
    "        scaler.transform(row.reshape(1, -1))\n",
    "\n",
    "    # returns dataframe containing only the scaled feature\n",
    "    return combined_features[\"aggr_feature\"]"
   ],
   "metadata": {
    "collapsed": false,
    "pycharm": {
     "name": "#%%\n"
    }
   }
  },
  {
   "cell_type": "code",
   "execution_count": 228,
   "outputs": [],
   "source": [
    "def early_fusion(first_feature, second_feature):\n",
    "    # concat\n",
    "    features = concat_features(first_feature, second_feature)\n",
    "    # scale\n",
    "    aggr_feature = scale_feature(features)\n",
    "\n",
    "    # Add aggregated feature to the dataframe\n",
    "    df[\"early_fusion\"] = aggr_feature\n",
    "\n",
    "    # And define new retrieval system instance for aggregated feature\n",
    "    new_rs = RetrievalSystem(\n",
    "        df=df,\n",
    "        sim_metric=cosine_similarity,\n",
    "        sim_feature=\"early_fusion\",\n",
    "    )\n",
    "    # returns retrieval system instance with early fusion\n",
    "    return new_rs\n"
   ],
   "metadata": {
    "collapsed": false,
    "pycharm": {
     "name": "#%%\n"
    }
   }
  },
  {
   "cell_type": "markdown",
   "source": [
    "We decided to combine the bert & musicnn features, bert & resnet, resnet & musicnn, because the precision & recall results are better than the others in task 2. I also add the features ivec256 & tf-idf, these two have worse precision & recall (in task 2)"
   ],
   "metadata": {
    "collapsed": false
   }
  },
  {
   "cell_type": "code",
   "execution_count": 229,
   "outputs": [
    {
     "name": "stderr",
     "output_type": "stream",
     "text": [
      "C:\\Users\\susig\\AppData\\Local\\Temp\\ipykernel_25276\\1360964902.py:8: FutureWarning: Series.__getitem__ treating keys as positions is deprecated. In a future version, integer keys will always be treated as labels (consistent with DataFrame behavior). To access a value by position, use `ser.iloc[pos]`\n",
      "  combined_features['aggr_feature'] = combined_features.apply(lambda row: np.concatenate(row), axis=1)\n"
     ]
    },
    {
     "name": "stdout",
     "output_type": "stream",
     "text": [
      "Number of columns in the first feature: 768\n",
      "Number of columns in the second feature: 50\n",
      "Number of columns in the combined features: 818\n"
     ]
    },
    {
     "name": "stderr",
     "output_type": "stream",
     "text": [
      "C:\\Users\\susig\\AppData\\Local\\Temp\\ipykernel_25276\\1360964902.py:8: FutureWarning: Series.__getitem__ treating keys as positions is deprecated. In a future version, integer keys will always be treated as labels (consistent with DataFrame behavior). To access a value by position, use `ser.iloc[pos]`\n",
      "  combined_features['aggr_feature'] = combined_features.apply(lambda row: np.concatenate(row), axis=1)\n"
     ]
    },
    {
     "name": "stdout",
     "output_type": "stream",
     "text": [
      "Number of columns in the first feature: 768\n",
      "Number of columns in the second feature: 4096\n",
      "Number of columns in the combined features: 4864\n"
     ]
    },
    {
     "name": "stderr",
     "output_type": "stream",
     "text": [
      "C:\\Users\\susig\\AppData\\Local\\Temp\\ipykernel_25276\\1360964902.py:8: FutureWarning: Series.__getitem__ treating keys as positions is deprecated. In a future version, integer keys will always be treated as labels (consistent with DataFrame behavior). To access a value by position, use `ser.iloc[pos]`\n",
      "  combined_features['aggr_feature'] = combined_features.apply(lambda row: np.concatenate(row), axis=1)\n"
     ]
    },
    {
     "name": "stdout",
     "output_type": "stream",
     "text": [
      "Number of columns in the first feature: 4096\n",
      "Number of columns in the second feature: 50\n",
      "Number of columns in the combined features: 4146\n"
     ]
    },
    {
     "name": "stderr",
     "output_type": "stream",
     "text": [
      "C:\\Users\\susig\\AppData\\Local\\Temp\\ipykernel_25276\\1360964902.py:8: FutureWarning: Series.__getitem__ treating keys as positions is deprecated. In a future version, integer keys will always be treated as labels (consistent with DataFrame behavior). To access a value by position, use `ser.iloc[pos]`\n",
      "  combined_features['aggr_feature'] = combined_features.apply(lambda row: np.concatenate(row), axis=1)\n"
     ]
    },
    {
     "name": "stdout",
     "output_type": "stream",
     "text": [
      "Number of columns in the first feature: 1000\n",
      "Number of columns in the second feature: 100\n",
      "Number of columns in the combined features: 1100\n"
     ]
    },
    {
     "name": "stderr",
     "output_type": "stream",
     "text": [
      "C:\\Users\\susig\\AppData\\Local\\Temp\\ipykernel_25276\\1360964902.py:8: FutureWarning: Series.__getitem__ treating keys as positions is deprecated. In a future version, integer keys will always be treated as labels (consistent with DataFrame behavior). To access a value by position, use `ser.iloc[pos]`\n",
      "  combined_features['aggr_feature'] = combined_features.apply(lambda row: np.concatenate(row), axis=1)\n"
     ]
    },
    {
     "name": "stdout",
     "output_type": "stream",
     "text": [
      "Number of columns in the first feature: 1000\n",
      "Number of columns in the second feature: 4096\n",
      "Number of columns in the combined features: 5096\n"
     ]
    },
    {
     "name": "stderr",
     "output_type": "stream",
     "text": [
      "C:\\Users\\susig\\AppData\\Local\\Temp\\ipykernel_25276\\1360964902.py:8: FutureWarning: Series.__getitem__ treating keys as positions is deprecated. In a future version, integer keys will always be treated as labels (consistent with DataFrame behavior). To access a value by position, use `ser.iloc[pos]`\n",
      "  combined_features['aggr_feature'] = combined_features.apply(lambda row: np.concatenate(row), axis=1)\n"
     ]
    },
    {
     "name": "stdout",
     "output_type": "stream",
     "text": [
      "Number of columns in the first feature: 4096\n",
      "Number of columns in the second feature: 100\n",
      "Number of columns in the combined features: 4196\n"
     ]
    }
   ],
   "source": [
    "# define new RS\n",
    "early_fusion_bert_musicnn = early_fusion(\"bert\", \"musicnn\")\n",
    "early_fusion_bert_resnet = early_fusion(\"bert\", \"resnet\")\n",
    "early_fusion_resnet_musicnn = early_fusion(\"resnet\", \"musicnn\")\n",
    "\n",
    "early_fusion_tf_idf_ivec256 = early_fusion(\"tf-idf\", \"ivec256\")\n",
    "early_fusion_tf_idf_resnet = early_fusion(\"tf-idf\", \"resnet\")\n",
    "early_fusion_resnet_ivec256 = early_fusion(\"resnet\", \"ivec256\")"
   ],
   "metadata": {
    "collapsed": false
   }
  },
  {
   "cell_type": "markdown",
   "source": [
    "### Late Fusion\n",
    "In this section we will perform late fusion of 2 retrieval systems using score aggregation by:\n",
    "- precomputing all retrievals and their similarities for chosen retrieval systems.\n",
    "- checking statistical compatability of scores\n",
    "- fusing systems via score average"
   ],
   "metadata": {
    "collapsed": false,
    "pycharm": {
     "name": "#%% md\n"
    }
   }
  },
  {
   "cell_type": "code",
   "execution_count": 230,
   "outputs": [],
   "source": [
    "def pre_compute_retrievals(first_rs, second_rs):\n",
    "    # pre compute retrievals\n",
    "    res = []\n",
    "    items_to_consider = 100\n",
    "\n",
    "    for system in tqdm([first_rs, second_rs], desc=\"Precomputing systems\"):\n",
    "        sim_matrix = df[[\"id\", \"song\", \"artist\"]].copy()\n",
    "        sim_matrix[\"id_n\"] = None\n",
    "        sim_matrix[\"song_n\"] = None\n",
    "        sim_matrix[\"artist_n\"] = None\n",
    "        sim_matrix[\"sim_n\"] = None\n",
    "        sim_matrix[\"genre\"] = None\n",
    "\n",
    "        for idx, song_id in tqdm(enumerate(df[\"id\"]), total=len(df[\"id\"]), desc=f\"Retrieving songs\"):\n",
    "            sim = system.retrieve(song_id, items_to_consider)\n",
    "            # save relevant information for top_n returns\n",
    "            sim_matrix.at[idx, \"id_n\"] = sim[\"id\"]\n",
    "            sim_matrix.at[idx, \"song_n\"] = sim[\"song\"]\n",
    "            sim_matrix.at[idx, \"artist_n\"] = sim[\"artist\"]\n",
    "            sim_matrix.at[idx, \"sim_n\"] = sim[\"similarity\"]\n",
    "            sim_matrix.at[idx, \"genre\"] = sim[\"genre\"]\n",
    "\n",
    "        res.append(sim_matrix)\n",
    "\n",
    "    # returns list with 2 dataframes containing top_n retrievals for each song\n",
    "    return res"
   ],
   "metadata": {
    "collapsed": false
   }
  },
  {
   "cell_type": "code",
   "execution_count": 231,
   "outputs": [],
   "source": [
    "def check_stat(res):\n",
    "    # check compatability of top-n scores\n",
    "    for i, sim_ma in enumerate([\"first_rs\", \"second_rs\"]):\n",
    "        arr = []\n",
    "        for row in res[i][\"sim_n\"]:\n",
    "            arr.append(row)\n",
    "        arr =  np.array(arr)\n",
    "        print(f\"\\nStatistics for scores of {str(sim_ma)}:\")\n",
    "        print(f\"  Mean: {arr.mean().mean()}\")\n",
    "        print(f\"  Standard Deviation: {arr.std().mean()}\")"
   ],
   "metadata": {
    "collapsed": false,
    "pycharm": {
     "name": "#%%\n"
    }
   }
  },
  {
   "cell_type": "code",
   "execution_count": 232,
   "outputs": [],
   "source": [
    "# late fusion/ retrieval system\n",
    "class LateFusion(RetrievalSystem):\n",
    "\n",
    "    \"\"\"\n",
    "    By extending the RS class and overriding the retrieve method,\n",
    "    we can utilize the testing pipeline from task2.\n",
    "    As the pipeline only calls RS.retrieve which would then call other functions within retrieve.\n",
    "    For late fusion we precomputed everything thus the function retrieve really only retrieves.\n",
    "    \"\"\"\n",
    "    def __init__(self, first_rs: RetrievalSystem, second_rs: RetrievalSystem, df: pd.DataFrame):\n",
    "        super().__init__(df)\n",
    "        self.res = pre_compute_retrievals(first_rs, second_rs)\n",
    "        check_stat(self.res)\n",
    "    def retrieve(self, query,  n: int = 10):\n",
    "        # retrieval process of song like in class rs\n",
    "        if isinstance(query, (int, str)):\n",
    "            song_id = query\n",
    "            if song_id not in self.df[\"id\"].values:\n",
    "                raise ValueError(f\"Song id {song_id} not in the dataset.\")\n",
    "            song = (self.df.loc[song_id]\n",
    "                if isinstance(song_id, int)\n",
    "                else self.df[self.df[\"id\"] == song_id].iloc[0]\n",
    "            )\n",
    "        elif isinstance(query, SongInfo):\n",
    "            title, artist = query.title, query.artist\n",
    "            song = self.df[(self.df[\"song\"] == title) & (self.df[\"artist\"] == artist)]\n",
    "            if song.empty:\n",
    "                raise ValueError(\n",
    "                    f\"Song with title '{title}' and artist '{artist}' not found in the dataset.\"\n",
    "                )\n",
    "            song = song.iloc[0]\n",
    "        else:\n",
    "            raise ValueError(\n",
    "                \"Invalid query type. Provide either song_id (int/str) or an instance of SongInfo.\"\n",
    "            )\n",
    "\n",
    "        # Instead of calc sim, we use late fusion and our precomputed res\n",
    "        system_one = self.res[0].loc[self.res[0]['id'] == song[\"id\"]]\n",
    "        system_two = self.res[1].loc[self.res[1]['id'] == song[\"id\"]]\n",
    "        merge = pd.concat([system_one, system_two], ignore_index=True)\n",
    "\n",
    "        top_n = pd.DataFrame(columns=[\"id\", \"song\", \"artist\", \"genre\", \"similarity\"])\n",
    "        score_dict = {}\n",
    "        for n_id, n_song, n_artist, n_genre, n_scores in zip(merge[\"id_n\"],\n",
    "                                                    merge[\"song_n\"],\n",
    "                                                    merge[\"artist_n\"],\n",
    "                                                    merge[\"genre\"],\n",
    "                                                    merge[\"sim_n\"]):\n",
    "            for track_id, track, artist, genre, score in zip(n_id,\n",
    "                                                      n_song,\n",
    "                                                      n_artist,\n",
    "                                                      n_genre,\n",
    "                                                      n_scores):\n",
    "                if track_id not in score_dict.keys():\n",
    "                    score_dict[track_id] = score\n",
    "                    new_row = {\"id\": track_id, 'song': track, 'artist': artist, \"genre\": genre, 'similarity': score}\n",
    "                    top_n.loc[len(top_n)] = new_row\n",
    "                else:\n",
    "                    score_dict[track_id] += score\n",
    "                    score_dict[track_id] /= 2\n",
    "                    top_n.loc[top_n[\"id\"] == track_id, \"similarity\"] = score_dict[track_id]\n",
    "\n",
    "\n",
    "        top_n = top_n.sort_values(by=\"similarity\", ascending=False)\n",
    "        top_n = top_n.iloc[:n]\n",
    "\n",
    "        return top_n\n"
   ],
   "metadata": {
    "collapsed": false
   }
  },
  {
   "cell_type": "markdown",
   "source": [
    "We decided to combine the bert & musicnn features, bert & resnet, resnet & musicnn, because the precision & recall results are better than the others in task 2. I also add the features ivec256 & tf-idf, these two have  worse precision & recall (in task 2)"
   ],
   "metadata": {
    "collapsed": false
   }
  },
  {
   "cell_type": "code",
   "execution_count": 234,
   "outputs": [
    {
     "data": {
      "text/plain": "Precomputing systems:   0%|          | 0/2 [00:00<?, ?it/s]",
      "application/vnd.jupyter.widget-view+json": {
       "version_major": 2,
       "version_minor": 0,
       "model_id": "e0eba3f6fe29457ab65414362a83fcdc"
      }
     },
     "metadata": {},
     "output_type": "display_data"
    },
    {
     "data": {
      "text/plain": "Retrieving songs:   0%|          | 0/10094 [00:00<?, ?it/s]",
      "application/vnd.jupyter.widget-view+json": {
       "version_major": 2,
       "version_minor": 0,
       "model_id": "40e316fabd8b45919b33592dd3810e8f"
      }
     },
     "metadata": {},
     "output_type": "display_data"
    },
    {
     "data": {
      "text/plain": "Retrieving songs:   0%|          | 0/10094 [00:00<?, ?it/s]",
      "application/vnd.jupyter.widget-view+json": {
       "version_major": 2,
       "version_minor": 0,
       "model_id": "d3bbb2b62fda4767ba366607918eea41"
      }
     },
     "metadata": {},
     "output_type": "display_data"
    },
    {
     "name": "stdout",
     "output_type": "stream",
     "text": [
      "\n",
      "Statistics for scores of first_rs:\n",
      "  Mean: 0.9586202066257871\n",
      "  Standard Deviation: 0.03826152450783243\n",
      "\n",
      "Statistics for scores of second_rs:\n",
      "  Mean: 0.6447264367486122\n",
      "  Standard Deviation: 0.07763360100333433\n"
     ]
    }
   ],
   "source": [
    "# Create new instance of late fusion RS\n",
    "late_fusion_bert_musicnn = LateFusion(first_rs=rs_cos_dnn,\n",
    "                         second_rs=rs_cos_bert,\n",
    "                         df=df)"
   ],
   "metadata": {
    "collapsed": false
   }
  },
  {
   "cell_type": "code",
   "execution_count": 235,
   "outputs": [
    {
     "data": {
      "text/plain": "Precomputing systems:   0%|          | 0/2 [00:00<?, ?it/s]",
      "application/vnd.jupyter.widget-view+json": {
       "version_major": 2,
       "version_minor": 0,
       "model_id": "b6a9a6a632a9405ab8773fd7770e64fc"
      }
     },
     "metadata": {},
     "output_type": "display_data"
    },
    {
     "data": {
      "text/plain": "Retrieving songs:   0%|          | 0/10094 [00:00<?, ?it/s]",
      "application/vnd.jupyter.widget-view+json": {
       "version_major": 2,
       "version_minor": 0,
       "model_id": "ceba295bd2724f07aec6dcb4eebd0265"
      }
     },
     "metadata": {},
     "output_type": "display_data"
    },
    {
     "data": {
      "text/plain": "Retrieving songs:   0%|          | 0/10094 [00:00<?, ?it/s]",
      "application/vnd.jupyter.widget-view+json": {
       "version_major": 2,
       "version_minor": 0,
       "model_id": "dfb3fd334cff491f86676d87edd48a9e"
      }
     },
     "metadata": {},
     "output_type": "display_data"
    },
    {
     "name": "stdout",
     "output_type": "stream",
     "text": [
      "\n",
      "Statistics for scores of first_rs:\n",
      "  Mean: 0.7342635711564679\n",
      "  Standard Deviation: 0.13633287957971357\n",
      "\n",
      "Statistics for scores of second_rs:\n",
      "  Mean: 0.6447264367486122\n",
      "  Standard Deviation: 0.07763360100333433\n"
     ]
    }
   ],
   "source": [
    "late_fusion_bert_resnet = LateFusion(first_rs=rs_cos_resnet,\n",
    "                         second_rs=rs_cos_bert,\n",
    "                         df=df)\n"
   ],
   "metadata": {
    "collapsed": false
   }
  },
  {
   "cell_type": "code",
   "execution_count": 236,
   "outputs": [
    {
     "data": {
      "text/plain": "Precomputing systems:   0%|          | 0/2 [00:00<?, ?it/s]",
      "application/vnd.jupyter.widget-view+json": {
       "version_major": 2,
       "version_minor": 0,
       "model_id": "c4ee71c098084ba891d1f6a67870a7ab"
      }
     },
     "metadata": {},
     "output_type": "display_data"
    },
    {
     "data": {
      "text/plain": "Retrieving songs:   0%|          | 0/10094 [00:00<?, ?it/s]",
      "application/vnd.jupyter.widget-view+json": {
       "version_major": 2,
       "version_minor": 0,
       "model_id": "d5d20a7e4c85480d8036649e02e08734"
      }
     },
     "metadata": {},
     "output_type": "display_data"
    },
    {
     "data": {
      "text/plain": "Retrieving songs:   0%|          | 0/10094 [00:00<?, ?it/s]",
      "application/vnd.jupyter.widget-view+json": {
       "version_major": 2,
       "version_minor": 0,
       "model_id": "0c5c5957e51c4b70b334a9f07a7e28aa"
      }
     },
     "metadata": {},
     "output_type": "display_data"
    },
    {
     "name": "stdout",
     "output_type": "stream",
     "text": [
      "\n",
      "Statistics for scores of first_rs:\n",
      "  Mean: 0.9586202066257871\n",
      "  Standard Deviation: 0.03826152450783243\n",
      "\n",
      "Statistics for scores of second_rs:\n",
      "  Mean: 0.7342635711564679\n",
      "  Standard Deviation: 0.13633287957971357\n"
     ]
    }
   ],
   "source": [
    "late_fusion_resnet_musicnn = LateFusion(first_rs=rs_cos_dnn,\n",
    "                         second_rs=rs_cos_resnet,\n",
    "                         df=df)\n"
   ],
   "metadata": {
    "collapsed": false
   }
  },
  {
   "cell_type": "code",
   "execution_count": 237,
   "outputs": [
    {
     "data": {
      "text/plain": "Precomputing systems:   0%|          | 0/2 [00:00<?, ?it/s]",
      "application/vnd.jupyter.widget-view+json": {
       "version_major": 2,
       "version_minor": 0,
       "model_id": "2a6b0ba5baf34cb98844e2aca2dda6b6"
      }
     },
     "metadata": {},
     "output_type": "display_data"
    },
    {
     "data": {
      "text/plain": "Retrieving songs:   0%|          | 0/10094 [00:00<?, ?it/s]",
      "application/vnd.jupyter.widget-view+json": {
       "version_major": 2,
       "version_minor": 0,
       "model_id": "a5f0c0c2db3e46ea935b3ebff803ea38"
      }
     },
     "metadata": {},
     "output_type": "display_data"
    },
    {
     "data": {
      "text/plain": "Retrieving songs:   0%|          | 0/10094 [00:00<?, ?it/s]",
      "application/vnd.jupyter.widget-view+json": {
       "version_major": 2,
       "version_minor": 0,
       "model_id": "f63dad24a75d4b2f89e7fa91378c2faf"
      }
     },
     "metadata": {},
     "output_type": "display_data"
    },
    {
     "name": "stdout",
     "output_type": "stream",
     "text": [
      "\n",
      "Statistics for scores of first_rs:\n",
      "  Mean: 0.2990916455137274\n",
      "  Standard Deviation: 0.040896016706206316\n",
      "\n",
      "Statistics for scores of second_rs:\n",
      "  Mean: 0.28002085881941835\n",
      "  Standard Deviation: 0.09878555324047042\n"
     ]
    }
   ],
   "source": [
    "late_fusion_tf_idf_ivec256 = LateFusion(first_rs=rs_cos_ivec256,\n",
    "                         second_rs=rs_cos_tdidf,\n",
    "                         df=df)\n"
   ],
   "metadata": {
    "collapsed": false
   }
  },
  {
   "cell_type": "code",
   "execution_count": 238,
   "outputs": [
    {
     "data": {
      "text/plain": "Precomputing systems:   0%|          | 0/2 [00:00<?, ?it/s]",
      "application/vnd.jupyter.widget-view+json": {
       "version_major": 2,
       "version_minor": 0,
       "model_id": "ba3ad591f796480a97e865d2ba6b5302"
      }
     },
     "metadata": {},
     "output_type": "display_data"
    },
    {
     "data": {
      "text/plain": "Retrieving songs:   0%|          | 0/10094 [00:00<?, ?it/s]",
      "application/vnd.jupyter.widget-view+json": {
       "version_major": 2,
       "version_minor": 0,
       "model_id": "039b0e120c844e51b66f813ecea98cb9"
      }
     },
     "metadata": {},
     "output_type": "display_data"
    },
    {
     "data": {
      "text/plain": "Retrieving songs:   0%|          | 0/10094 [00:00<?, ?it/s]",
      "application/vnd.jupyter.widget-view+json": {
       "version_major": 2,
       "version_minor": 0,
       "model_id": "98a192854a4e4e498eb2ca8ba3a1ab64"
      }
     },
     "metadata": {},
     "output_type": "display_data"
    },
    {
     "name": "stdout",
     "output_type": "stream",
     "text": [
      "\n",
      "Statistics for scores of first_rs:\n",
      "  Mean: 0.28002085881941835\n",
      "  Standard Deviation: 0.09878555324047042\n",
      "\n",
      "Statistics for scores of second_rs:\n",
      "  Mean: 0.7342635711564679\n",
      "  Standard Deviation: 0.13633287957971357\n"
     ]
    }
   ],
   "source": [
    "late_fusion_tf_idf_resnet = LateFusion(first_rs=rs_cos_tdidf,\n",
    "                         second_rs=rs_cos_resnet,\n",
    "                         df=df)\n"
   ],
   "metadata": {
    "collapsed": false
   }
  },
  {
   "cell_type": "code",
   "execution_count": 239,
   "outputs": [
    {
     "data": {
      "text/plain": "Precomputing systems:   0%|          | 0/2 [00:00<?, ?it/s]",
      "application/vnd.jupyter.widget-view+json": {
       "version_major": 2,
       "version_minor": 0,
       "model_id": "018e78bb4f1f493d9e44256d00eeaebf"
      }
     },
     "metadata": {},
     "output_type": "display_data"
    },
    {
     "data": {
      "text/plain": "Retrieving songs:   0%|          | 0/10094 [00:00<?, ?it/s]",
      "application/vnd.jupyter.widget-view+json": {
       "version_major": 2,
       "version_minor": 0,
       "model_id": "8cadc1d77d984600bd58dfd83eecba77"
      }
     },
     "metadata": {},
     "output_type": "display_data"
    },
    {
     "data": {
      "text/plain": "Retrieving songs:   0%|          | 0/10094 [00:00<?, ?it/s]",
      "application/vnd.jupyter.widget-view+json": {
       "version_major": 2,
       "version_minor": 0,
       "model_id": "4d93950345934412975b9aeb48e85887"
      }
     },
     "metadata": {},
     "output_type": "display_data"
    },
    {
     "name": "stdout",
     "output_type": "stream",
     "text": [
      "\n",
      "Statistics for scores of first_rs:\n",
      "  Mean: 0.7342635711564679\n",
      "  Standard Deviation: 0.13633287957971357\n",
      "\n",
      "Statistics for scores of second_rs:\n",
      "  Mean: 0.2990916455137274\n",
      "  Standard Deviation: 0.040896016706206316\n"
     ]
    }
   ],
   "source": [
    "late_fusion_resnet_ivec256 = LateFusion(first_rs=rs_cos_resnet,\n",
    "                         second_rs=rs_cos_ivec256,\n",
    "                         df=df)"
   ],
   "metadata": {
    "collapsed": false
   }
  },
  {
   "cell_type": "code",
   "execution_count": 246,
   "outputs": [
    {
     "data": {
      "text/plain": "                  id                  song             artist  \\\n0   7s9HbLG6ol1RTlLv              Spaceman      4 Non Blondes   \n1   cSz91lcJDuziR5nx  Everything Will Flow              Suede   \n2   LuyxeVk8b2tEEmwk         Dulce Soledad           Enjambre   \n3   QcoCbyve5S025Eox     Are You Still Mad  Alanis Morissette   \n4   KfCJWRrBAcPjxJNM        The One I Love             R.E.M.   \n6   cnLuNtwtIxId4eKd             Acid Rain  Avenged Sevenfold   \n7   iLRK4vyFeDJ5qM7x                  Pain         Blackfield   \n8   mH2suhduIEa58xdJ  Love, Save The Empty      Erin McCarley   \n9   h2ap0A9dSDkFmO8D         Your Decision    Alice in Chains   \n10  HrZQyMUA0enusyuh            Micro Cuts               Muse   \n\n                                                genre  similarity  \n0   {pop, pop rock, karaoke, rock, alternative pop...    0.985150  \n1   {pop, violin, alternative pop, rock, glam rock...    0.982254  \n2                                  {alternative rock}    0.975917  \n3   {pop, pop rock, rock, singer songwriter, hard ...    0.974529  \n4   {folk rock, pop, soft rock, pop rock, rock, al...    0.974124  \n6   {symphonic metal, doom metal, rock, hardcore, ...    0.970998  \n7   {art rock, pop, progressive rock, alternative ...    0.969246  \n8   {pop, soft rock, birthday, pony, folk, piano r...    0.969220  \n9   {pop, progressive rock, progressive metal, doo...    0.968670  \n10  {art rock, progressive rock, post rock, gothic...    0.966543  ",
      "text/html": "<div>\n<style scoped>\n    .dataframe tbody tr th:only-of-type {\n        vertical-align: middle;\n    }\n\n    .dataframe tbody tr th {\n        vertical-align: top;\n    }\n\n    .dataframe thead th {\n        text-align: right;\n    }\n</style>\n<table border=\"1\" class=\"dataframe\">\n  <thead>\n    <tr style=\"text-align: right;\">\n      <th></th>\n      <th>id</th>\n      <th>song</th>\n      <th>artist</th>\n      <th>genre</th>\n      <th>similarity</th>\n    </tr>\n  </thead>\n  <tbody>\n    <tr>\n      <th>0</th>\n      <td>7s9HbLG6ol1RTlLv</td>\n      <td>Spaceman</td>\n      <td>4 Non Blondes</td>\n      <td>{pop, pop rock, karaoke, rock, alternative pop...</td>\n      <td>0.985150</td>\n    </tr>\n    <tr>\n      <th>1</th>\n      <td>cSz91lcJDuziR5nx</td>\n      <td>Everything Will Flow</td>\n      <td>Suede</td>\n      <td>{pop, violin, alternative pop, rock, glam rock...</td>\n      <td>0.982254</td>\n    </tr>\n    <tr>\n      <th>2</th>\n      <td>LuyxeVk8b2tEEmwk</td>\n      <td>Dulce Soledad</td>\n      <td>Enjambre</td>\n      <td>{alternative rock}</td>\n      <td>0.975917</td>\n    </tr>\n    <tr>\n      <th>3</th>\n      <td>QcoCbyve5S025Eox</td>\n      <td>Are You Still Mad</td>\n      <td>Alanis Morissette</td>\n      <td>{pop, pop rock, rock, singer songwriter, hard ...</td>\n      <td>0.974529</td>\n    </tr>\n    <tr>\n      <th>4</th>\n      <td>KfCJWRrBAcPjxJNM</td>\n      <td>The One I Love</td>\n      <td>R.E.M.</td>\n      <td>{folk rock, pop, soft rock, pop rock, rock, al...</td>\n      <td>0.974124</td>\n    </tr>\n    <tr>\n      <th>6</th>\n      <td>cnLuNtwtIxId4eKd</td>\n      <td>Acid Rain</td>\n      <td>Avenged Sevenfold</td>\n      <td>{symphonic metal, doom metal, rock, hardcore, ...</td>\n      <td>0.970998</td>\n    </tr>\n    <tr>\n      <th>7</th>\n      <td>iLRK4vyFeDJ5qM7x</td>\n      <td>Pain</td>\n      <td>Blackfield</td>\n      <td>{art rock, pop, progressive rock, alternative ...</td>\n      <td>0.969246</td>\n    </tr>\n    <tr>\n      <th>8</th>\n      <td>mH2suhduIEa58xdJ</td>\n      <td>Love, Save The Empty</td>\n      <td>Erin McCarley</td>\n      <td>{pop, soft rock, birthday, pony, folk, piano r...</td>\n      <td>0.969220</td>\n    </tr>\n    <tr>\n      <th>9</th>\n      <td>h2ap0A9dSDkFmO8D</td>\n      <td>Your Decision</td>\n      <td>Alice in Chains</td>\n      <td>{pop, progressive rock, progressive metal, doo...</td>\n      <td>0.968670</td>\n    </tr>\n    <tr>\n      <th>10</th>\n      <td>HrZQyMUA0enusyuh</td>\n      <td>Micro Cuts</td>\n      <td>Muse</td>\n      <td>{art rock, progressive rock, post rock, gothic...</td>\n      <td>0.966543</td>\n    </tr>\n  </tbody>\n</table>\n</div>"
     },
     "execution_count": 246,
     "metadata": {},
     "output_type": "execute_result"
    }
   ],
   "source": [
    "sample_song = SongInfo(title=\"Always\", artist=\"Bon Jovi\")\n",
    "late_fusion_bert_musicnn.retrieve(sample_song)"
   ],
   "metadata": {
    "collapsed": false
   }
  },
  {
   "cell_type": "markdown",
   "source": [
    "## Combine all systems"
   ],
   "metadata": {
    "collapsed": false,
    "pycharm": {
     "name": "#%% md\n"
    }
   }
  },
  {
   "cell_type": "code",
   "execution_count": 248,
   "outputs": [
    {
     "data": {
      "text/plain": "               metric                      feature  \\\n0              random                       random   \n1              cosine                       tf-idf   \n2              cosine                         bert   \n3                 dot                     word2vec   \n4              cosine                     mfcc_bow   \n5              cosine                 blf_spectral   \n6              cosine                      ivec256   \n7              cosine                      musicnn   \n8              cosine                       resnet   \n9              cosine  early_fusion_resnet_ivec256   \n10  score aggregation     late_fusion_bert_musicnn   \n11  score aggregation      late_fusion_bert_resnet   \n12  score aggregation   late_fusion_resnet_musicnn   \n13  score aggregation   late_fusion_tf_idf_ivec256   \n14  score aggregation    late_fusion_tf_idf_resnet   \n15  score aggregation   late_fusion_resnet_ivec256   \n\n                                            rs_object  \n0   <task1.retrieval_system.RetrievalSystem object...  \n1   <task1.retrieval_system.RetrievalSystem object...  \n2   <task1.retrieval_system.RetrievalSystem object...  \n3   <task1.retrieval_system.RetrievalSystem object...  \n4   <task1.retrieval_system.RetrievalSystem object...  \n5   <task1.retrieval_system.RetrievalSystem object...  \n6   <task1.retrieval_system.RetrievalSystem object...  \n7   <task1.retrieval_system.RetrievalSystem object...  \n8   <task1.retrieval_system.RetrievalSystem object...  \n9   <task1.retrieval_system.RetrievalSystem object...  \n10  <__main__.LateFusion object at 0x00000215D045A...  \n11  <__main__.LateFusion object at 0x00000215D17A4...  \n12  <__main__.LateFusion object at 0x00000215C7FAF...  \n13  <__main__.LateFusion object at 0x0000021830725...  \n14  <__main__.LateFusion object at 0x0000021549033...  \n15  <__main__.LateFusion object at 0x00000218421F2...  ",
      "text/html": "<div>\n<style scoped>\n    .dataframe tbody tr th:only-of-type {\n        vertical-align: middle;\n    }\n\n    .dataframe tbody tr th {\n        vertical-align: top;\n    }\n\n    .dataframe thead th {\n        text-align: right;\n    }\n</style>\n<table border=\"1\" class=\"dataframe\">\n  <thead>\n    <tr style=\"text-align: right;\">\n      <th></th>\n      <th>metric</th>\n      <th>feature</th>\n      <th>rs_object</th>\n    </tr>\n  </thead>\n  <tbody>\n    <tr>\n      <th>0</th>\n      <td>random</td>\n      <td>random</td>\n      <td>&lt;task1.retrieval_system.RetrievalSystem object...</td>\n    </tr>\n    <tr>\n      <th>1</th>\n      <td>cosine</td>\n      <td>tf-idf</td>\n      <td>&lt;task1.retrieval_system.RetrievalSystem object...</td>\n    </tr>\n    <tr>\n      <th>2</th>\n      <td>cosine</td>\n      <td>bert</td>\n      <td>&lt;task1.retrieval_system.RetrievalSystem object...</td>\n    </tr>\n    <tr>\n      <th>3</th>\n      <td>dot</td>\n      <td>word2vec</td>\n      <td>&lt;task1.retrieval_system.RetrievalSystem object...</td>\n    </tr>\n    <tr>\n      <th>4</th>\n      <td>cosine</td>\n      <td>mfcc_bow</td>\n      <td>&lt;task1.retrieval_system.RetrievalSystem object...</td>\n    </tr>\n    <tr>\n      <th>5</th>\n      <td>cosine</td>\n      <td>blf_spectral</td>\n      <td>&lt;task1.retrieval_system.RetrievalSystem object...</td>\n    </tr>\n    <tr>\n      <th>6</th>\n      <td>cosine</td>\n      <td>ivec256</td>\n      <td>&lt;task1.retrieval_system.RetrievalSystem object...</td>\n    </tr>\n    <tr>\n      <th>7</th>\n      <td>cosine</td>\n      <td>musicnn</td>\n      <td>&lt;task1.retrieval_system.RetrievalSystem object...</td>\n    </tr>\n    <tr>\n      <th>8</th>\n      <td>cosine</td>\n      <td>resnet</td>\n      <td>&lt;task1.retrieval_system.RetrievalSystem object...</td>\n    </tr>\n    <tr>\n      <th>9</th>\n      <td>cosine</td>\n      <td>early_fusion_resnet_ivec256</td>\n      <td>&lt;task1.retrieval_system.RetrievalSystem object...</td>\n    </tr>\n    <tr>\n      <th>10</th>\n      <td>score aggregation</td>\n      <td>late_fusion_bert_musicnn</td>\n      <td>&lt;__main__.LateFusion object at 0x00000215D045A...</td>\n    </tr>\n    <tr>\n      <th>11</th>\n      <td>score aggregation</td>\n      <td>late_fusion_bert_resnet</td>\n      <td>&lt;__main__.LateFusion object at 0x00000215D17A4...</td>\n    </tr>\n    <tr>\n      <th>12</th>\n      <td>score aggregation</td>\n      <td>late_fusion_resnet_musicnn</td>\n      <td>&lt;__main__.LateFusion object at 0x00000215C7FAF...</td>\n    </tr>\n    <tr>\n      <th>13</th>\n      <td>score aggregation</td>\n      <td>late_fusion_tf_idf_ivec256</td>\n      <td>&lt;__main__.LateFusion object at 0x0000021830725...</td>\n    </tr>\n    <tr>\n      <th>14</th>\n      <td>score aggregation</td>\n      <td>late_fusion_tf_idf_resnet</td>\n      <td>&lt;__main__.LateFusion object at 0x0000021549033...</td>\n    </tr>\n    <tr>\n      <th>15</th>\n      <td>score aggregation</td>\n      <td>late_fusion_resnet_ivec256</td>\n      <td>&lt;__main__.LateFusion object at 0x00000218421F2...</td>\n    </tr>\n  </tbody>\n</table>\n</div>"
     },
     "execution_count": 248,
     "metadata": {},
     "output_type": "execute_result"
    }
   ],
   "source": [
    "# create pd dataframe consisting of all retrieval systems, with metric and feature\n",
    "rs = pd.DataFrame(\n",
    "    [\n",
    "       [\"random\", \"random\", rs_random],\n",
    "       [\"cosine\", \"tf-idf\", rs_cos_tdidf],\n",
    "       [\"cosine\", \"bert\", rs_cos_bert],\n",
    "       [\"dot\", \"word2vec\", rs_dot_w2v],\n",
    "       [\"cosine\", \"mfcc_bow\", rs_cos_mfcc],\n",
    "       [\"cosine\", \"blf_spectral\", rs_cos_blf],\n",
    "       [\"cosine\", \"ivec256\", rs_cos_ivec256],\n",
    "       [\"cosine\", \"musicnn\", rs_cos_dnn],\n",
    "       [\"cosine\", \"resnet\", rs_cos_resnet],\n",
    "       [\"cosine\", \"early_fusion_bert_musicnn\", early_fusion_bert_musicnn],\n",
    "       [\"cosine\", \"early_fusion_bert_resnet\", early_fusion_bert_resnet],\n",
    "       [\"cosine\", \"early_fusion_resnet_musicnn\", early_fusion_resnet_musicnn],\n",
    "       [\"cosine\", \"early_fusion_tf_idf_ivec256\", early_fusion_tf_idf_ivec256],\n",
    "       [\"cosine\", \"early_fusion_tf_idf_resnet\", early_fusion_tf_idf_resnet],\n",
    "       [\"cosine\", \"early_fusion_resnet_ivec256\", early_fusion_resnet_ivec256],\n",
    "       [\"score aggregation\", \"late_fusion_bert_musicnn\", late_fusion_bert_musicnn],\n",
    "       [\"score aggregation\", \"late_fusion_bert_resnet\", late_fusion_bert_resnet],\n",
    "       [\"score aggregation\", \"late_fusion_resnet_musicnn\", late_fusion_resnet_musicnn],\n",
    "       [\"score aggregation\", \"late_fusion_tf_idf_ivec256\", late_fusion_tf_idf_ivec256],\n",
    "       [\"score aggregation\", \"late_fusion_tf_idf_resnet\", late_fusion_tf_idf_resnet],\n",
    "       [\"score aggregation\", \"late_fusion_resnet_ivec256\", late_fusion_resnet_ivec256],\n",
    "\n",
    "    ],\n",
    "    columns=[\"metric\", \"feature\", \"rs_object\"],\n",
    ")\n",
    "rs"
   ],
   "metadata": {
    "collapsed": false
   }
  },
  {
   "cell_type": "code",
   "execution_count": 249,
   "outputs": [
    {
     "data": {
      "text/plain": "               metric                      feature  \\\n0              random                       random   \n1              cosine                       tf-idf   \n2              cosine                         bert   \n3                 dot                     word2vec   \n4              cosine                     mfcc_bow   \n5              cosine                 blf_spectral   \n6              cosine                      ivec256   \n7              cosine                      musicnn   \n8              cosine                       resnet   \n9              cosine  early_fusion_resnet_ivec256   \n10  score aggregation     late_fusion_bert_musicnn   \n11  score aggregation      late_fusion_bert_resnet   \n12  score aggregation   late_fusion_resnet_musicnn   \n13  score aggregation   late_fusion_tf_idf_ivec256   \n14  score aggregation    late_fusion_tf_idf_resnet   \n15  score aggregation   late_fusion_resnet_ivec256   \n\n                                            rs_object  \n0   <task1.retrieval_system.RetrievalSystem object...  \n1   <task1.retrieval_system.RetrievalSystem object...  \n2   <task1.retrieval_system.RetrievalSystem object...  \n3   <task1.retrieval_system.RetrievalSystem object...  \n4   <task1.retrieval_system.RetrievalSystem object...  \n5   <task1.retrieval_system.RetrievalSystem object...  \n6   <task1.retrieval_system.RetrievalSystem object...  \n7   <task1.retrieval_system.RetrievalSystem object...  \n8   <task1.retrieval_system.RetrievalSystem object...  \n9   <task1.retrieval_system.RetrievalSystem object...  \n10  <__main__.LateFusion object at 0x00000215D045A...  \n11  <__main__.LateFusion object at 0x00000215D17A4...  \n12  <__main__.LateFusion object at 0x00000215C7FAF...  \n13  <__main__.LateFusion object at 0x0000021830725...  \n14  <__main__.LateFusion object at 0x0000021549033...  \n15  <__main__.LateFusion object at 0x00000218421F2...  ",
      "text/html": "<div>\n<style scoped>\n    .dataframe tbody tr th:only-of-type {\n        vertical-align: middle;\n    }\n\n    .dataframe tbody tr th {\n        vertical-align: top;\n    }\n\n    .dataframe thead th {\n        text-align: right;\n    }\n</style>\n<table border=\"1\" class=\"dataframe\">\n  <thead>\n    <tr style=\"text-align: right;\">\n      <th></th>\n      <th>metric</th>\n      <th>feature</th>\n      <th>rs_object</th>\n    </tr>\n  </thead>\n  <tbody>\n    <tr>\n      <th>0</th>\n      <td>random</td>\n      <td>random</td>\n      <td>&lt;task1.retrieval_system.RetrievalSystem object...</td>\n    </tr>\n    <tr>\n      <th>1</th>\n      <td>cosine</td>\n      <td>tf-idf</td>\n      <td>&lt;task1.retrieval_system.RetrievalSystem object...</td>\n    </tr>\n    <tr>\n      <th>2</th>\n      <td>cosine</td>\n      <td>bert</td>\n      <td>&lt;task1.retrieval_system.RetrievalSystem object...</td>\n    </tr>\n    <tr>\n      <th>3</th>\n      <td>dot</td>\n      <td>word2vec</td>\n      <td>&lt;task1.retrieval_system.RetrievalSystem object...</td>\n    </tr>\n    <tr>\n      <th>4</th>\n      <td>cosine</td>\n      <td>mfcc_bow</td>\n      <td>&lt;task1.retrieval_system.RetrievalSystem object...</td>\n    </tr>\n    <tr>\n      <th>5</th>\n      <td>cosine</td>\n      <td>blf_spectral</td>\n      <td>&lt;task1.retrieval_system.RetrievalSystem object...</td>\n    </tr>\n    <tr>\n      <th>6</th>\n      <td>cosine</td>\n      <td>ivec256</td>\n      <td>&lt;task1.retrieval_system.RetrievalSystem object...</td>\n    </tr>\n    <tr>\n      <th>7</th>\n      <td>cosine</td>\n      <td>musicnn</td>\n      <td>&lt;task1.retrieval_system.RetrievalSystem object...</td>\n    </tr>\n    <tr>\n      <th>8</th>\n      <td>cosine</td>\n      <td>resnet</td>\n      <td>&lt;task1.retrieval_system.RetrievalSystem object...</td>\n    </tr>\n    <tr>\n      <th>9</th>\n      <td>cosine</td>\n      <td>early_fusion_resnet_ivec256</td>\n      <td>&lt;task1.retrieval_system.RetrievalSystem object...</td>\n    </tr>\n    <tr>\n      <th>10</th>\n      <td>score aggregation</td>\n      <td>late_fusion_bert_musicnn</td>\n      <td>&lt;__main__.LateFusion object at 0x00000215D045A...</td>\n    </tr>\n    <tr>\n      <th>11</th>\n      <td>score aggregation</td>\n      <td>late_fusion_bert_resnet</td>\n      <td>&lt;__main__.LateFusion object at 0x00000215D17A4...</td>\n    </tr>\n    <tr>\n      <th>12</th>\n      <td>score aggregation</td>\n      <td>late_fusion_resnet_musicnn</td>\n      <td>&lt;__main__.LateFusion object at 0x00000215C7FAF...</td>\n    </tr>\n    <tr>\n      <th>13</th>\n      <td>score aggregation</td>\n      <td>late_fusion_tf_idf_ivec256</td>\n      <td>&lt;__main__.LateFusion object at 0x0000021830725...</td>\n    </tr>\n    <tr>\n      <th>14</th>\n      <td>score aggregation</td>\n      <td>late_fusion_tf_idf_resnet</td>\n      <td>&lt;__main__.LateFusion object at 0x0000021549033...</td>\n    </tr>\n    <tr>\n      <th>15</th>\n      <td>score aggregation</td>\n      <td>late_fusion_resnet_ivec256</td>\n      <td>&lt;__main__.LateFusion object at 0x00000218421F2...</td>\n    </tr>\n  </tbody>\n</table>\n</div>"
     },
     "execution_count": 249,
     "metadata": {},
     "output_type": "execute_result"
    }
   ],
   "source": [
    "rs"
   ],
   "metadata": {
    "collapsed": false
   }
  },
  {
   "cell_type": "markdown",
   "source": [
    "# Evaluation"
   ],
   "metadata": {
    "collapsed": false,
    "pycharm": {
     "name": "#%% md\n"
    }
   }
  },
  {
   "cell_type": "code",
   "execution_count": null,
   "outputs": [
    {
     "data": {
      "text/plain": "Creating genre overlap matrix:   0%|          | 0/10094 [00:00<?, ?it/s]",
      "application/vnd.jupyter.widget-view+json": {
       "version_major": 2,
       "version_minor": 0,
       "model_id": "ddfaacc51c2b45f792ed66cadc4fb491"
      }
     },
     "metadata": {},
     "output_type": "display_data"
    },
    {
     "data": {
      "text/plain": "Creating result lists for every rs (max_k=100):   0%|          | 0/16 [00:00<?, ?it/s]",
      "application/vnd.jupyter.widget-view+json": {
       "version_major": 2,
       "version_minor": 0,
       "model_id": "e09743d8517c4e22a867f87f64fa727c"
      }
     },
     "metadata": {},
     "output_type": "display_data"
    },
    {
     "name": "stdout",
     "output_type": "stream",
     "text": [
      "loaded results for system.metric='random', system.feature='random' from \"results/random_random_results_100.npy\"\n",
      "loaded results for system.metric='cosine', system.feature='tf-idf' from \"results/cosine_tf-idf_results_100.npy\"\n",
      "loaded results for system.metric='cosine', system.feature='bert' from \"results/cosine_bert_results_100.npy\"\n",
      "loaded results for system.metric='dot', system.feature='word2vec' from \"results/dot_word2vec_results_100.npy\"\n"
     ]
    },
    {
     "data": {
      "text/plain": "calculating results for system.metric='cosine' system.feature='mfcc_bow':   0%|          | 0/10094 [00:00<?, ?…",
      "application/vnd.jupyter.widget-view+json": {
       "version_major": 2,
       "version_minor": 0,
       "model_id": "3aad60aeda454170b74677262697f7f3"
      }
     },
     "metadata": {},
     "output_type": "display_data"
    },
    {
     "data": {
      "text/plain": "calculating results for system.metric='cosine' system.feature='blf_spectral':   0%|          | 0/10094 [00:00<…",
      "application/vnd.jupyter.widget-view+json": {
       "version_major": 2,
       "version_minor": 0,
       "model_id": "61a088c7ca084d7385a983a19d106217"
      }
     },
     "metadata": {},
     "output_type": "display_data"
    },
    {
     "data": {
      "text/plain": "calculating results for system.metric='cosine' system.feature='ivec256':   0%|          | 0/10094 [00:00<?, ?i…",
      "application/vnd.jupyter.widget-view+json": {
       "version_major": 2,
       "version_minor": 0,
       "model_id": "725d1107ed704aa5acd05f2c8b4a80c6"
      }
     },
     "metadata": {},
     "output_type": "display_data"
    },
    {
     "data": {
      "text/plain": "calculating results for system.metric='cosine' system.feature='musicnn':   0%|          | 0/10094 [00:00<?, ?i…",
      "application/vnd.jupyter.widget-view+json": {
       "version_major": 2,
       "version_minor": 0,
       "model_id": "7848ea9118124b56b7bb072a85266403"
      }
     },
     "metadata": {},
     "output_type": "display_data"
    },
    {
     "data": {
      "text/plain": "calculating results for system.metric='cosine' system.feature='resnet':   0%|          | 0/10094 [00:00<?, ?it…",
      "application/vnd.jupyter.widget-view+json": {
       "version_major": 2,
       "version_minor": 0,
       "model_id": "ca6645f00a5c41bb9ffd73a468347743"
      }
     },
     "metadata": {},
     "output_type": "display_data"
    },
    {
     "data": {
      "text/plain": "calculating results for system.metric='cosine' system.feature='early_fusion_resnet_ivec256':   0%|          | …",
      "application/vnd.jupyter.widget-view+json": {
       "version_major": 2,
       "version_minor": 0,
       "model_id": "a865b41addb8467f8704ae525c370bf8"
      }
     },
     "metadata": {},
     "output_type": "display_data"
    },
    {
     "data": {
      "text/plain": "calculating results for system.metric='score aggregation' system.feature='late_fusion_bert_musicnn':   0%|    …",
      "application/vnd.jupyter.widget-view+json": {
       "version_major": 2,
       "version_minor": 0,
       "model_id": "e9064bd3ffc247ab8529e6443381e2c2"
      }
     },
     "metadata": {},
     "output_type": "display_data"
    }
   ],
   "source": [
    "from pipeline import Pipeline\n",
    "\n",
    "evaluate = Pipeline(rs, genres)"
   ],
   "metadata": {
    "collapsed": false,
    "pycharm": {
     "name": "#%%\n",
     "is_executing": true
    }
   }
  },
  {
   "cell_type": "code",
   "execution_count": null,
   "outputs": [],
   "source": [
    "evaluate.load_results_csv(\"task_3.csv\")\n",
    "result = evaluate.run(\n",
    "    [\n",
    "        (Pipeline.mean_precision_at_k, dict(k=10)),\n",
    "        (Pipeline.mean_recall_at_k, dict(k=10)),\n",
    "        (Pipeline.precision_and_recall_interval, dict(k_min=1, k_max=100, step_size=5)),\n",
    "        (Pipeline.mean_ndcg_at_k, dict(k=10)),\n",
    "        (Pipeline.genre_coverage_at_k, dict(k=10)),\n",
    "         (Pipeline.mean_genre_diversity_at_k, dict(k=10)),\n",
    "    ]\n",
    ")\n",
    "result.to_csv(\"task_3.csv\", index=False)\n",
    "result"
   ],
   "metadata": {
    "collapsed": false,
    "pycharm": {
     "name": "#%%\n",
     "is_executing": true
    }
   }
  },
  {
   "cell_type": "code",
   "execution_count": null,
   "outputs": [],
   "source": [
    "for rs in result.itertuples():\n",
    "    metrics_df = rs.precision_and_recall_interval\n",
    "\n",
    "    plt.figure(figsize=(12, 8))\n",
    "    plt.plot(\n",
    "        metrics_df[\"recall\"],\n",
    "        metrics_df[\"precision\"],\n",
    "        marker=\"o\",\n",
    "        label=f\"{rs.metric=} ({rs.feature=})\",\n",
    "    )\n",
    "\n",
    "    # Annotate each point with its k value\n",
    "    for k, recall, precision in zip(\n",
    "        metrics_df.index, metrics_df[\"recall\"], metrics_df[\"precision\"]\n",
    "    ):\n",
    "        plt.annotate(\n",
    "            f\"k={k}\",\n",
    "            (recall, precision),\n",
    "            textcoords=\"offset points\",\n",
    "            xytext=(0, 10),\n",
    "            ha=\"center\",\n",
    "        )\n",
    "\n",
    "    plt.title(f\"Precision-Recall Curve for {rs.metric=} with {rs.feature=}\")\n",
    "    plt.xlabel(\"Recall\")\n",
    "    plt.ylabel(\"Precision\")\n",
    "    plt.legend()\n",
    "    plt.grid(True)\n",
    "    plt.show()"
   ],
   "metadata": {
    "collapsed": false,
    "pycharm": {
     "name": "#%%\n",
     "is_executing": true
    }
   }
  },
  {
   "cell_type": "code",
   "execution_count": null,
   "outputs": [],
   "source": [],
   "metadata": {
    "collapsed": false,
    "pycharm": {
     "name": "#%%\n"
    }
   }
  }
 ],
 "metadata": {
  "kernelspec": {
   "display_name": "Python 3",
   "language": "python",
   "name": "python3"
  },
  "language_info": {
   "codemirror_mode": {
    "name": "ipython",
    "version": 2
   },
   "file_extension": ".py",
   "mimetype": "text/x-python",
   "name": "python",
   "nbconvert_exporter": "python",
   "pygments_lexer": "ipython2",
   "version": "2.7.6"
  }
 },
 "nbformat": 4,
 "nbformat_minor": 0
}
