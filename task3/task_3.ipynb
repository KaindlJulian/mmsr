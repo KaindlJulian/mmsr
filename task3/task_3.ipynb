{
 "cells": [
  {
   "cell_type": "markdown",
   "source": [
    "# Read and Explore Data"
   ],
   "metadata": {
    "collapsed": false,
    "pycharm": {
     "name": "#%% md\n"
    }
   }
  },
  {
   "cell_type": "code",
   "execution_count": 1,
   "outputs": [],
   "source": [
    "import sys\n",
    "\n",
    "sys.path.append(\"../\")\n",
    "\n",
    "import numpy as np\n",
    "import pandas as pd\n",
    "from sklearn.preprocessing import StandardScaler\n",
    "from typing import Union, Tuple\n",
    "from tqdm.notebook import tqdm\n",
    "import matplotlib.pyplot as plt"
   ],
   "metadata": {
    "collapsed": false,
    "pycharm": {
     "name": "#%%\n"
    }
   }
  },
  {
   "cell_type": "code",
   "execution_count": 2,
   "outputs": [],
   "source": [
    "from task1.retrieval_system import RetrievalSystem, SongInfo\n",
    "from task1.similarity_measure import (\n",
    "    cosine_similarity,\n",
    "    dot_product,\n",
    "    manhattan_distance,\n",
    "    euclidean_distance,\n",
    "    random_similarity,\n",
    ")\n",
    "from utils import read, embed_and_merge"
   ],
   "metadata": {
    "collapsed": false,
    "pycharm": {
     "name": "#%%\n"
    }
   }
  },
  {
   "cell_type": "code",
   "execution_count": 3,
   "outputs": [
    {
     "data": {
      "text/plain": "                     id                       artist  \\\n0      01Yfj2T3YTwJ1Yfy                  We As Human   \n1      01gyRHLquwXDlhkO         The Notorious B.I.G.   \n2      01rMxQv6vhyE1oQX          Against the Current   \n3      02RGE9FNH65RtMS7                     Barthezz   \n4      02ZnlCGZEbkfCDxo                Laura Pausini   \n...                 ...                          ...   \n10090  zyzILCQvVeUFIINi                Crowded House   \n10091  zzgS4ZqyswamEWNj               Britney Spears   \n10092  zzoFYDMlqU1X2zz1                   Thundercat   \n10093  zzpkRCGA5ud8q4mv                 Otis Redding   \n10094  zzx8CWdM7qkxKQpC  Ted Leo and the Pharmacists   \n\n                                            song  \\\n0      Take The Bullets Away (feat. Lacey Sturm)   \n1                           Somebody's Gotta Die   \n2                                 Chasing Ghosts   \n3                                       Infected   \n4                               Tra Te E Il Mare   \n...                                          ...   \n10090                              When You Come   \n10091                   My Only Wish (This Year)   \n10092                                        DUI   \n10093                               Rock Me Baby   \n10094                    Counting Down the Hours   \n\n                                        album_name  \n0                                      We As Human  \n1            Life After Death (Remastered Edition)  \n2                                     In Our Bones  \n3             Trance - The Early Years (1997-2002)  \n4      The Best of Laura Pausini - E Ritorno Da Te  \n...                                            ...  \n10090                            Temple Of Low Men  \n10091                           Platinum Christmas  \n10092                                        Drunk  \n10093                                    Otis Blue  \n10094                             Shake the Sheets  \n\n[10095 rows x 4 columns]",
      "text/html": "<div>\n<style scoped>\n    .dataframe tbody tr th:only-of-type {\n        vertical-align: middle;\n    }\n\n    .dataframe tbody tr th {\n        vertical-align: top;\n    }\n\n    .dataframe thead th {\n        text-align: right;\n    }\n</style>\n<table border=\"1\" class=\"dataframe\">\n  <thead>\n    <tr style=\"text-align: right;\">\n      <th></th>\n      <th>id</th>\n      <th>artist</th>\n      <th>song</th>\n      <th>album_name</th>\n    </tr>\n  </thead>\n  <tbody>\n    <tr>\n      <th>0</th>\n      <td>01Yfj2T3YTwJ1Yfy</td>\n      <td>We As Human</td>\n      <td>Take The Bullets Away (feat. Lacey Sturm)</td>\n      <td>We As Human</td>\n    </tr>\n    <tr>\n      <th>1</th>\n      <td>01gyRHLquwXDlhkO</td>\n      <td>The Notorious B.I.G.</td>\n      <td>Somebody's Gotta Die</td>\n      <td>Life After Death (Remastered Edition)</td>\n    </tr>\n    <tr>\n      <th>2</th>\n      <td>01rMxQv6vhyE1oQX</td>\n      <td>Against the Current</td>\n      <td>Chasing Ghosts</td>\n      <td>In Our Bones</td>\n    </tr>\n    <tr>\n      <th>3</th>\n      <td>02RGE9FNH65RtMS7</td>\n      <td>Barthezz</td>\n      <td>Infected</td>\n      <td>Trance - The Early Years (1997-2002)</td>\n    </tr>\n    <tr>\n      <th>4</th>\n      <td>02ZnlCGZEbkfCDxo</td>\n      <td>Laura Pausini</td>\n      <td>Tra Te E Il Mare</td>\n      <td>The Best of Laura Pausini - E Ritorno Da Te</td>\n    </tr>\n    <tr>\n      <th>...</th>\n      <td>...</td>\n      <td>...</td>\n      <td>...</td>\n      <td>...</td>\n    </tr>\n    <tr>\n      <th>10090</th>\n      <td>zyzILCQvVeUFIINi</td>\n      <td>Crowded House</td>\n      <td>When You Come</td>\n      <td>Temple Of Low Men</td>\n    </tr>\n    <tr>\n      <th>10091</th>\n      <td>zzgS4ZqyswamEWNj</td>\n      <td>Britney Spears</td>\n      <td>My Only Wish (This Year)</td>\n      <td>Platinum Christmas</td>\n    </tr>\n    <tr>\n      <th>10092</th>\n      <td>zzoFYDMlqU1X2zz1</td>\n      <td>Thundercat</td>\n      <td>DUI</td>\n      <td>Drunk</td>\n    </tr>\n    <tr>\n      <th>10093</th>\n      <td>zzpkRCGA5ud8q4mv</td>\n      <td>Otis Redding</td>\n      <td>Rock Me Baby</td>\n      <td>Otis Blue</td>\n    </tr>\n    <tr>\n      <th>10094</th>\n      <td>zzx8CWdM7qkxKQpC</td>\n      <td>Ted Leo and the Pharmacists</td>\n      <td>Counting Down the Hours</td>\n      <td>Shake the Sheets</td>\n    </tr>\n  </tbody>\n</table>\n<p>10095 rows × 4 columns</p>\n</div>"
     },
     "execution_count": 3,
     "metadata": {},
     "output_type": "execute_result"
    }
   ],
   "source": [
    "# basic song information from task 1\n",
    "df = read(\"information\", 0)\n",
    "df"
   ],
   "metadata": {
    "collapsed": false,
    "pycharm": {
     "name": "#%%\n"
    }
   }
  },
  {
   "cell_type": "code",
   "execution_count": 4,
   "outputs": [],
   "source": [
    "# add genre information for metric calculation\n",
    "genres = read(\"genres\", 0)\n",
    "# convert genre to actual list via eval\n",
    "genres[\"genre\"] = genres[\"genre\"].apply(eval).apply(set)\n",
    "df = df.merge(genres, on=\"id\", how=\"left\")"
   ],
   "metadata": {
    "collapsed": false,
    "pycharm": {
     "name": "#%%\n"
    }
   }
  },
  {
   "cell_type": "markdown",
   "source": [
    "We load one new feature and the features from the previous assignments. We need them for comparison and fusion."
   ],
   "metadata": {
    "collapsed": false,
    "pycharm": {
     "name": "#%% md\n"
    }
   }
  },
  {
   "cell_type": "code",
   "execution_count": 5,
   "outputs": [],
   "source": [
    "visual_feature = \"resnet\"\n",
    "stats = read(visual_feature, 0)\n",
    "df = embed_and_merge(df, stats, visual_feature)\n",
    "\n",
    "for audio_feature in [\"mfcc_bow\", \"blf_spectral\", \"ivec256\", \"musicnn\"]:\n",
    "    stats = read(audio_feature, 0)\n",
    "    df = embed_and_merge(df, stats, audio_feature)\n",
    "\n",
    "for text_feature in [\"lyrics_bert\", \"lyrics_word2vec\", \"lyrics_tf-idf\"]:\n",
    "    stats = read(text_feature, 0)\n",
    "    df = embed_and_merge(df, stats, text_feature.split(\"_\")[1])"
   ],
   "metadata": {
    "collapsed": false,
    "pycharm": {
     "name": "#%%\n"
    }
   }
  },
  {
   "cell_type": "code",
   "execution_count": 6,
   "outputs": [
    {
     "data": {
      "text/plain": "id              0\nartist          0\nsong            0\nalbum_name      0\ngenre           1\nresnet          1\nmfcc_bow        1\nblf_spectral    1\nivec256         1\nmusicnn         1\nbert            0\nword2vec        0\ntf-idf          0\ndtype: int64"
     },
     "execution_count": 6,
     "metadata": {},
     "output_type": "execute_result"
    }
   ],
   "source": [
    "df.isna().sum()"
   ],
   "metadata": {
    "collapsed": false,
    "pycharm": {
     "name": "#%%\n"
    }
   }
  },
  {
   "cell_type": "code",
   "execution_count": 7,
   "outputs": [],
   "source": [
    "# data for task 2 does not include the item with id \"03Oc9WeMEmyLLQbj\" = row 5\n",
    "df = df.drop(5)\n",
    "df = df.reset_index()"
   ],
   "metadata": {
    "collapsed": false,
    "pycharm": {
     "name": "#%%\n"
    }
   }
  },
  {
   "cell_type": "markdown",
   "source": [
    "# Define retrieval systems"
   ],
   "metadata": {
    "collapsed": false,
    "pycharm": {
     "name": "#%% md\n"
    }
   }
  },
  {
   "cell_type": "markdown",
   "source": [
    "## From Task 1 (text-based)"
   ],
   "metadata": {
    "collapsed": false,
    "pycharm": {
     "name": "#%% md\n"
    }
   }
  },
  {
   "cell_type": "code",
   "execution_count": 8,
   "outputs": [],
   "source": [
    "rs_random = RetrievalSystem(\n",
    "    df=df,\n",
    "    sim_metric=random_similarity,\n",
    ")"
   ],
   "metadata": {
    "collapsed": false,
    "pycharm": {
     "name": "#%%\n"
    }
   }
  },
  {
   "cell_type": "code",
   "execution_count": 9,
   "outputs": [],
   "source": [
    "rs_cos_tdidf = RetrievalSystem(\n",
    "    df=df,\n",
    "    sim_metric=cosine_similarity,\n",
    "    sim_feature=\"tf-idf\",\n",
    ")"
   ],
   "metadata": {
    "collapsed": false,
    "pycharm": {
     "name": "#%%\n"
    }
   }
  },
  {
   "cell_type": "code",
   "execution_count": 10,
   "outputs": [],
   "source": [
    "rs_cos_bert = RetrievalSystem(\n",
    "    df=df,\n",
    "    sim_metric=cosine_similarity,\n",
    "    sim_feature=\"bert\",\n",
    ")"
   ],
   "metadata": {
    "collapsed": false,
    "pycharm": {
     "name": "#%%\n"
    }
   }
  },
  {
   "cell_type": "code",
   "execution_count": 11,
   "outputs": [],
   "source": [
    "rs_dot_w2v = RetrievalSystem(\n",
    "    df=df,\n",
    "    sim_metric=dot_product,\n",
    "    sim_feature=\"word2vec\",\n",
    ")"
   ],
   "metadata": {
    "collapsed": false,
    "pycharm": {
     "name": "#%%\n"
    }
   }
  },
  {
   "cell_type": "markdown",
   "source": [
    "## From Task 2 (audio-based)"
   ],
   "metadata": {
    "collapsed": false,
    "pycharm": {
     "name": "#%% md\n"
    }
   }
  },
  {
   "cell_type": "code",
   "execution_count": 12,
   "outputs": [],
   "source": [
    "rs_cos_mfcc = RetrievalSystem(\n",
    "    df=df,\n",
    "    sim_metric=cosine_similarity,\n",
    "    sim_feature=\"mfcc_bow\",\n",
    ")"
   ],
   "metadata": {
    "collapsed": false,
    "pycharm": {
     "name": "#%%\n"
    }
   }
  },
  {
   "cell_type": "code",
   "execution_count": 13,
   "outputs": [],
   "source": [
    "rs_cos_blf = RetrievalSystem(\n",
    "    df=df,\n",
    "    sim_metric=cosine_similarity,\n",
    "    sim_feature=\"blf_spectral\",\n",
    ")"
   ],
   "metadata": {
    "collapsed": false,
    "pycharm": {
     "name": "#%%\n"
    }
   }
  },
  {
   "cell_type": "code",
   "execution_count": 14,
   "outputs": [],
   "source": [
    "rs_cos_ivec256 = RetrievalSystem(\n",
    "    df=df,\n",
    "    sim_metric=cosine_similarity,\n",
    "    sim_feature=\"ivec256\",\n",
    ")"
   ],
   "metadata": {
    "collapsed": false,
    "pycharm": {
     "name": "#%%\n"
    }
   }
  },
  {
   "cell_type": "code",
   "execution_count": 15,
   "outputs": [],
   "source": [
    "rs_cos_dnn = RetrievalSystem(\n",
    "    df=df,\n",
    "    sim_metric=cosine_similarity,\n",
    "    sim_feature=\"musicnn\",\n",
    ")"
   ],
   "metadata": {
    "collapsed": false,
    "pycharm": {
     "name": "#%%\n"
    }
   }
  },
  {
   "cell_type": "markdown",
   "source": [
    "## From Task 3 (video-based; new!)\n"
   ],
   "metadata": {
    "collapsed": false,
    "pycharm": {
     "name": "#%% md\n"
    }
   }
  },
  {
   "cell_type": "code",
   "execution_count": 16,
   "outputs": [],
   "source": [
    "rs_cos_resnet = RetrievalSystem(\n",
    "    df=df,\n",
    "    sim_metric=cosine_similarity,\n",
    "    sim_feature=\"resnet\",\n",
    ")"
   ],
   "metadata": {
    "collapsed": false,
    "pycharm": {
     "name": "#%%\n"
    }
   }
  },
  {
   "cell_type": "markdown",
   "source": [
    "## Fusion Techniques"
   ],
   "metadata": {
    "collapsed": false,
    "pycharm": {
     "name": "#%% md\n"
    }
   }
  },
  {
   "cell_type": "markdown",
   "source": [
    "### Early Fusion\n",
    "In this section we will perform early fusion of 2 features by:\n",
    "- Concatenating two features\n",
    "- Normalizing the aggregated feature\n",
    "- Defining a retrieval system on the aggregated feature\n"
   ],
   "metadata": {
    "collapsed": false,
    "pycharm": {
     "name": "#%% md\n"
    }
   }
  },
  {
   "cell_type": "code",
   "execution_count": 17,
   "outputs": [],
   "source": [
    "def concat_features(first_feature, second_feature):\n",
    "    # Concat features to form aggregated feature\n",
    "    first = df[first_feature]\n",
    "    second = df[second_feature]\n",
    "\n",
    "    combined_features = pd.concat([first, second], axis=1)\n",
    "\n",
    "    combined_features['aggr_feature'] = combined_features.apply(lambda row: np.concatenate(row), axis=1)\n",
    "\n",
    "    print(f\"Number of columns in the first feature: {len(combined_features.iloc[0, 0])}\")\n",
    "    print(f\"Number of columns in the second feature: {len(combined_features.iloc[0, 1])}\")\n",
    "    print(f\"Number of columns in the combined features: {len(combined_features.iloc[0, 2])}\")\n",
    "\n",
    "    # returns dataframe with first, second and combined feature\n",
    "    return combined_features"
   ],
   "metadata": {
    "collapsed": false,
    "pycharm": {
     "name": "#%%\n"
    }
   }
  },
  {
   "cell_type": "code",
   "execution_count": 18,
   "outputs": [],
   "source": [
    "def scale_feature(combined_features):\n",
    "    # scale features to mean=0, sd=1\n",
    "    scaler = StandardScaler()\n",
    "    arr= []\n",
    "\n",
    "    # convert to arr where feature values are columns and rows are samples\n",
    "    for row in combined_features[\"aggr_feature\"]:\n",
    "        arr.append(row)\n",
    "    arr =  np.array(arr)\n",
    "\n",
    "    # fit scaler to whole arr\n",
    "    scaler.fit(arr)\n",
    "\n",
    "    # transform aggregated feature\n",
    "    for row in combined_features[\"aggr_feature\"]:\n",
    "        scaler.transform(row.reshape(1, -1))\n",
    "\n",
    "    # returns dataframe containing only the scaled feature\n",
    "    return combined_features[\"aggr_feature\"]"
   ],
   "metadata": {
    "collapsed": false,
    "pycharm": {
     "name": "#%%\n"
    }
   }
  },
  {
   "cell_type": "code",
   "execution_count": 19,
   "outputs": [],
   "source": [
    "def early_fusion(first_feature, second_feature):\n",
    "    # concat\n",
    "    features = concat_features(first_feature, second_feature)\n",
    "    # scale\n",
    "    aggr_feature = scale_feature(features)\n",
    "\n",
    "    # Add aggregated feature to the dataframe\n",
    "    df[\"early_fusion\"] = aggr_feature\n",
    "\n",
    "    # And define new retrieval system instance for aggregated feature\n",
    "    new_rs = RetrievalSystem(\n",
    "        df=df,\n",
    "        sim_metric=cosine_similarity,\n",
    "        sim_feature=\"early_fusion\",\n",
    "    )\n",
    "    # returns retrieval system instance with early fusion\n",
    "    return new_rs\n"
   ],
   "metadata": {
    "collapsed": false,
    "pycharm": {
     "name": "#%%\n"
    }
   }
  },
  {
   "cell_type": "code",
   "execution_count": 20,
   "outputs": [
    {
     "name": "stdout",
     "output_type": "stream",
     "text": [
      "Number of columns in the first feature: 768\n",
      "Number of columns in the second feature: 50\n",
      "Number of columns in the combined features: 818\n"
     ]
    }
   ],
   "source": [
    "# define new RS\n",
    "rs_cos_early_fusion = early_fusion(\"bert\", \"musicnn\")"
   ],
   "metadata": {
    "collapsed": false,
    "pycharm": {
     "name": "#%%\n"
    }
   }
  },
  {
   "cell_type": "markdown",
   "source": [
    "### Late Fusion\n",
    "In this section we will perform late fusion of 2 retrieval systems using score aggregation by:\n",
    "- precomputing all retrievals and their similarities for chosen retrieval systems.\n",
    "- checking statistical compatability of scores\n",
    "- fusing systems via score average"
   ],
   "metadata": {
    "collapsed": false,
    "pycharm": {
     "name": "#%% md\n"
    }
   }
  },
  {
   "cell_type": "code",
   "execution_count": 21,
   "outputs": [],
   "source": [
    "def pre_compute_retrievals(first_rs, second_rs):\n",
    "    # pre compute retrievals\n",
    "    res = []\n",
    "    items_to_consider = 100\n",
    "\n",
    "    for system in tqdm([first_rs, second_rs], desc=\"Precomputing systems\"):\n",
    "        sim_matrix = df[[\"id\", \"song\", \"artist\"]].copy()\n",
    "        sim_matrix[\"id_n\"] = None\n",
    "        sim_matrix[\"song_n\"] = None\n",
    "        sim_matrix[\"artist_n\"] = None\n",
    "        sim_matrix[\"sim_n\"] = None\n",
    "        sim_matrix[\"genre\"] = None\n",
    "\n",
    "        for idx, song_id in tqdm(enumerate(df[\"id\"]), total=len(df[\"id\"]), desc=f\"Retrieving songs\"):\n",
    "            sim = system.retrieve(song_id, items_to_consider)\n",
    "            # save relevant information for top_n returns\n",
    "            sim_matrix.loc[idx][\"id_n\"] = sim[\"id\"]\n",
    "            sim_matrix.loc[idx][\"song_n\"] = sim[\"song\"]\n",
    "            sim_matrix.loc[idx][\"artist_n\"] = sim[\"artist\"]\n",
    "            sim_matrix.loc[idx][\"sim_n\"] = sim[\"similarity\"]\n",
    "            sim_matrix.loc[idx][\"genre\"] = sim[\"genre\"]\n",
    "\n",
    "        res.append(sim_matrix)\n",
    "\n",
    "    # returns list with 2 dataframes containing top_n retrievals for each song\n",
    "    return res"
   ],
   "metadata": {
    "collapsed": false,
    "pycharm": {
     "name": "#%%\n"
    }
   }
  },
  {
   "cell_type": "code",
   "execution_count": 22,
   "outputs": [],
   "source": [
    "def check_stat(res):\n",
    "    # check compatability of top-n scores\n",
    "    for i, sim_ma in enumerate([\"first_rs\", \"second_rs\"]):\n",
    "        arr = []\n",
    "        for row in res[i][\"sim_n\"]:\n",
    "            arr.append(row)\n",
    "        arr =  np.array(arr)\n",
    "        print(f\"\\nStatistics for scores of {str(sim_ma)}:\")\n",
    "        print(f\"  Mean: {arr.mean().mean()}\")\n",
    "        print(f\"  Standard Deviation: {arr.std().mean()}\")"
   ],
   "metadata": {
    "collapsed": false,
    "pycharm": {
     "name": "#%%\n"
    }
   }
  },
  {
   "cell_type": "code",
   "execution_count": 23,
   "outputs": [],
   "source": [
    "# late fusion/ retrieval system\n",
    "class LateFusion(RetrievalSystem):\n",
    "\n",
    "    \"\"\"\n",
    "    By extending the RS class and overriding the retrieve method,\n",
    "    we can utilize the testing pipeline from task2.\n",
    "    As the pipeline only calls RS.retrieve which would then call other functions within retrieve.\n",
    "    For late fusion we precomputed everything thus the function retrieve really only retrieves.\n",
    "    \"\"\"\n",
    "    def __init__(self, first_rs: RetrievalSystem, second_rs: RetrievalSystem, df: pd.DataFrame):\n",
    "        super().__init__(df)\n",
    "        self.res = pre_compute_retrievals(first_rs, second_rs)\n",
    "        check_stat(self.res)\n",
    "    def retrieve(self, query,  n: int = 10):\n",
    "        # retrieval process of song like in class rs\n",
    "        if isinstance(query, (int, str)):\n",
    "            song_id = query\n",
    "            if song_id not in self.df[\"id\"].values:\n",
    "                raise ValueError(f\"Song id {song_id} not in the dataset.\")\n",
    "            song = (self.df.loc[song_id]\n",
    "                if isinstance(song_id, int)\n",
    "                else self.df[self.df[\"id\"] == song_id].iloc[0]\n",
    "            )\n",
    "        elif isinstance(query, SongInfo):\n",
    "            title, artist = query.title, query.artist\n",
    "            song = self.df[(self.df[\"song\"] == title) & (self.df[\"artist\"] == artist)]\n",
    "            if song.empty:\n",
    "                raise ValueError(\n",
    "                    f\"Song with title '{title}' and artist '{artist}' not found in the dataset.\"\n",
    "                )\n",
    "            song = song.iloc[0]\n",
    "        else:\n",
    "            raise ValueError(\n",
    "                \"Invalid query type. Provide either song_id (int/str) or an instance of SongInfo.\"\n",
    "            )\n",
    "\n",
    "        # Instead of calc sim, we use late fusion and our precomputed res\n",
    "        system_one = self.res[0][self.res[0]['id'] == song[\"id\"]]\n",
    "        system_two = self.res[1][self.res[1]['id'] == song[\"id\"]]\n",
    "        merge = pd.concat([system_one, system_two], ignore_index=True)\n",
    "\n",
    "        top_n = pd.DataFrame(columns=[\"id\", \"song\", \"artist\", \"genre\", \"similarity\"])\n",
    "        score_dict = {}\n",
    "        for n_id, n_song, n_artist, n_genre, n_scores in zip(merge[\"id_n\"],\n",
    "                                                    merge[\"song_n\"],\n",
    "                                                    merge[\"artist_n\"],\n",
    "                                                    merge[\"genre\"],\n",
    "                                                    merge[\"sim_n\"]):\n",
    "            for track_id, track, artist, genre, score in zip(n_id,\n",
    "                                                      n_song,\n",
    "                                                      n_artist,\n",
    "                                                      n_genre,\n",
    "                                                      n_scores):\n",
    "                if track_id not in score_dict.keys():\n",
    "                    score_dict[track_id] = score\n",
    "                    new_row = {\"id\": track_id, 'song': track, 'artist': artist, \"genre\": genre, 'similarity': score}\n",
    "                    top_n.loc[len(top_n)] = new_row\n",
    "                else:\n",
    "                    score_dict[track_id] += score\n",
    "                    score_dict[track_id] /= 2\n",
    "                    top_n.loc[top_n[\"id\"] == track_id, \"similarity\"] = score_dict[track_id]\n",
    "\n",
    "\n",
    "        top_n = top_n.sort_values(by=\"similarity\", ascending=False)\n",
    "        top_n = top_n.iloc[:n]\n",
    "\n",
    "        return top_n\n"
   ],
   "metadata": {
    "collapsed": false,
    "pycharm": {
     "name": "#%%\n"
    }
   }
  },
  {
   "cell_type": "code",
   "execution_count": 31,
   "outputs": [
    {
     "data": {
      "text/plain": "Precomputing systems:   0%|          | 0/2 [00:00<?, ?it/s]",
      "application/vnd.jupyter.widget-view+json": {
       "version_major": 2,
       "version_minor": 0,
       "model_id": "6156ac72068c4e76b24e97df04b108f5"
      }
     },
     "metadata": {},
     "output_type": "display_data"
    },
    {
     "data": {
      "text/plain": "Retrieving songs:   0%|          | 0/10094 [00:00<?, ?it/s]",
      "application/vnd.jupyter.widget-view+json": {
       "version_major": 2,
       "version_minor": 0,
       "model_id": "fb739abf76af4e438611bac2bc758f6e"
      }
     },
     "metadata": {},
     "output_type": "display_data"
    },
    {
     "data": {
      "text/plain": "Retrieving songs:   0%|          | 0/10094 [00:00<?, ?it/s]",
      "application/vnd.jupyter.widget-view+json": {
       "version_major": 2,
       "version_minor": 0,
       "model_id": "c3df8338dd2b43fcbe57b815ae6d0f59"
      }
     },
     "metadata": {},
     "output_type": "display_data"
    },
    {
     "name": "stdout",
     "output_type": "stream",
     "text": [
      "\n",
      "Statistics for scores of first_rs:\n",
      "  Mean: 0.9586202066257871\n",
      "  Standard Deviation: 0.03826152450783243\n",
      "\n",
      "Statistics for scores of second_rs:\n",
      "  Mean: 0.6447264367486122\n",
      "  Standard Deviation: 0.07763360100333433\n"
     ]
    }
   ],
   "source": [
    "# Create new instance of late fusion RS\n",
    "late_fusion = LateFusion(first_rs=rs_cos_dnn,\n",
    "                         second_rs=rs_cos_bert,\n",
    "                         df=df)\n"
   ],
   "metadata": {
    "collapsed": false,
    "pycharm": {
     "name": "#%%\n"
    }
   }
  },
  {
   "cell_type": "code",
   "execution_count": 32,
   "outputs": [
    {
     "data": {
      "text/plain": "                  id                  song             artist  \\\n0   7s9HbLG6ol1RTlLv              Spaceman      4 Non Blondes   \n1   cSz91lcJDuziR5nx  Everything Will Flow              Suede   \n2   LuyxeVk8b2tEEmwk         Dulce Soledad           Enjambre   \n3   QcoCbyve5S025Eox     Are You Still Mad  Alanis Morissette   \n4   KfCJWRrBAcPjxJNM        The One I Love             R.E.M.   \n6   cnLuNtwtIxId4eKd             Acid Rain  Avenged Sevenfold   \n7   iLRK4vyFeDJ5qM7x                  Pain         Blackfield   \n8   mH2suhduIEa58xdJ  Love, Save The Empty      Erin McCarley   \n9   h2ap0A9dSDkFmO8D         Your Decision    Alice in Chains   \n10  HrZQyMUA0enusyuh            Micro Cuts               Muse   \n\n                                                genre  similarity  \n0   {grunge, indie rock, pop rock, pop, modern roc...    0.985150  \n1   {glam rock, alternative pop, britpop, easy lis...    0.982254  \n2                                  {alternative rock}    0.975917  \n3   {singer songwriter, hard rock, pop rock, pop, ...    0.974529  \n4   {soft rock, grunge, singer songwriter, indie r...    0.974124  \n6   {metal, symphonic metal, hard rock, doom metal...    0.970998  \n7   {art pop, emo, singer songwriter, art rock, po...    0.969246  \n8   {piano rock, soft rock, soundtrack, easy liste...    0.969220  \n9   {metal, sludge metal, grunge, alternative meta...    0.968670  \n10  {metal, space rock, britpop, hard rock, art ro...    0.966543  ",
      "text/html": "<div>\n<style scoped>\n    .dataframe tbody tr th:only-of-type {\n        vertical-align: middle;\n    }\n\n    .dataframe tbody tr th {\n        vertical-align: top;\n    }\n\n    .dataframe thead th {\n        text-align: right;\n    }\n</style>\n<table border=\"1\" class=\"dataframe\">\n  <thead>\n    <tr style=\"text-align: right;\">\n      <th></th>\n      <th>id</th>\n      <th>song</th>\n      <th>artist</th>\n      <th>genre</th>\n      <th>similarity</th>\n    </tr>\n  </thead>\n  <tbody>\n    <tr>\n      <th>0</th>\n      <td>7s9HbLG6ol1RTlLv</td>\n      <td>Spaceman</td>\n      <td>4 Non Blondes</td>\n      <td>{grunge, indie rock, pop rock, pop, modern roc...</td>\n      <td>0.985150</td>\n    </tr>\n    <tr>\n      <th>1</th>\n      <td>cSz91lcJDuziR5nx</td>\n      <td>Everything Will Flow</td>\n      <td>Suede</td>\n      <td>{glam rock, alternative pop, britpop, easy lis...</td>\n      <td>0.982254</td>\n    </tr>\n    <tr>\n      <th>2</th>\n      <td>LuyxeVk8b2tEEmwk</td>\n      <td>Dulce Soledad</td>\n      <td>Enjambre</td>\n      <td>{alternative rock}</td>\n      <td>0.975917</td>\n    </tr>\n    <tr>\n      <th>3</th>\n      <td>QcoCbyve5S025Eox</td>\n      <td>Are You Still Mad</td>\n      <td>Alanis Morissette</td>\n      <td>{singer songwriter, hard rock, pop rock, pop, ...</td>\n      <td>0.974529</td>\n    </tr>\n    <tr>\n      <th>4</th>\n      <td>KfCJWRrBAcPjxJNM</td>\n      <td>The One I Love</td>\n      <td>R.E.M.</td>\n      <td>{soft rock, grunge, singer songwriter, indie r...</td>\n      <td>0.974124</td>\n    </tr>\n    <tr>\n      <th>6</th>\n      <td>cnLuNtwtIxId4eKd</td>\n      <td>Acid Rain</td>\n      <td>Avenged Sevenfold</td>\n      <td>{metal, symphonic metal, hard rock, doom metal...</td>\n      <td>0.970998</td>\n    </tr>\n    <tr>\n      <th>7</th>\n      <td>iLRK4vyFeDJ5qM7x</td>\n      <td>Pain</td>\n      <td>Blackfield</td>\n      <td>{art pop, emo, singer songwriter, art rock, po...</td>\n      <td>0.969246</td>\n    </tr>\n    <tr>\n      <th>8</th>\n      <td>mH2suhduIEa58xdJ</td>\n      <td>Love, Save The Empty</td>\n      <td>Erin McCarley</td>\n      <td>{piano rock, soft rock, soundtrack, easy liste...</td>\n      <td>0.969220</td>\n    </tr>\n    <tr>\n      <th>9</th>\n      <td>h2ap0A9dSDkFmO8D</td>\n      <td>Your Decision</td>\n      <td>Alice in Chains</td>\n      <td>{metal, sludge metal, grunge, alternative meta...</td>\n      <td>0.968670</td>\n    </tr>\n    <tr>\n      <th>10</th>\n      <td>HrZQyMUA0enusyuh</td>\n      <td>Micro Cuts</td>\n      <td>Muse</td>\n      <td>{metal, space rock, britpop, hard rock, art ro...</td>\n      <td>0.966543</td>\n    </tr>\n  </tbody>\n</table>\n</div>"
     },
     "execution_count": 32,
     "metadata": {},
     "output_type": "execute_result"
    }
   ],
   "source": [
    "sample_song = SongInfo(title=\"Always\", artist=\"Bon Jovi\")\n",
    "late_fusion.retrieve(sample_song)"
   ],
   "metadata": {
    "collapsed": false,
    "pycharm": {
     "name": "#%%\n"
    }
   }
  },
  {
   "cell_type": "markdown",
   "source": [
    "## Combine all systems"
   ],
   "metadata": {
    "collapsed": false,
    "pycharm": {
     "name": "#%% md\n"
    }
   }
  },
  {
   "cell_type": "code",
   "execution_count": 33,
   "outputs": [],
   "source": [
    "# create pd dataframe consisting of all retrieval systems, with metric and feature\n",
    "rs = pd.DataFrame(\n",
    "    [\n",
    "        [\"random\", \"random\", rs_random],\n",
    "        [\"cosine\", \"tf-idf\", rs_cos_tdidf],\n",
    "        [\"cosine\", \"bert\", rs_cos_bert],\n",
    "        [\"dot\", \"word2vec\", rs_dot_w2v],\n",
    "        [\"cosine\", \"mfcc_bow\", rs_cos_mfcc],\n",
    "        [\"cosine\", \"blf_spectral\", rs_cos_blf],\n",
    "        [\"cosine\", \"ivec256\", rs_cos_ivec256],\n",
    "        [\"cosine\", \"musicnn\", rs_cos_dnn],\n",
    "        [\"cosine\", \"resnet\", rs_cos_resnet],\n",
    "        [\"cosine\", \"early_fusion\", rs_cos_early_fusion],\n",
    "        [\"score aggregation\", \"late_fusion\", late_fusion],\n",
    "\n",
    "    ],\n",
    "    columns=[\"metric\", \"feature\", \"rs_object\"],\n",
    ")"
   ],
   "metadata": {
    "collapsed": false,
    "pycharm": {
     "name": "#%%\n"
    }
   }
  },
  {
   "cell_type": "markdown",
   "source": [
    "# Evaluation"
   ],
   "metadata": {
    "collapsed": false,
    "pycharm": {
     "name": "#%% md\n"
    }
   }
  },
  {
   "cell_type": "code",
   "execution_count": 34,
   "outputs": [
    {
     "data": {
      "text/plain": "Creating genre overlap matrix:   0%|          | 0/10094 [00:00<?, ?it/s]",
      "application/vnd.jupyter.widget-view+json": {
       "version_major": 2,
       "version_minor": 0,
       "model_id": "0f8dfcea7201413c85cfb44e94bb5f1a"
      }
     },
     "metadata": {},
     "output_type": "display_data"
    },
    {
     "data": {
      "text/plain": "Creating result lists for every rs (max_k=100):   0%|          | 0/11 [00:00<?, ?it/s]",
      "application/vnd.jupyter.widget-view+json": {
       "version_major": 2,
       "version_minor": 0,
       "model_id": "2318c2e4030c48e8863080e261191bec"
      }
     },
     "metadata": {},
     "output_type": "display_data"
    },
    {
     "name": "stdout",
     "output_type": "stream",
     "text": [
      "loaded results for system.metric='random', system.feature='random' from \"results/random_random_results_100.npy\"\n",
      "loaded results for system.metric='cosine', system.feature='tf-idf' from \"results/cosine_tf-idf_results_100.npy\"\n",
      "loaded results for system.metric='cosine', system.feature='bert' from \"results/cosine_bert_results_100.npy\"\n",
      "loaded results for system.metric='dot', system.feature='word2vec' from \"results/dot_word2vec_results_100.npy\"\n",
      "loaded results for system.metric='cosine', system.feature='mfcc_bow' from \"results/cosine_mfcc_bow_results_100.npy\"\n",
      "loaded results for system.metric='cosine', system.feature='blf_spectral' from \"results/cosine_blf_spectral_results_100.npy\"\n",
      "loaded results for system.metric='cosine', system.feature='ivec256' from \"results/cosine_ivec256_results_100.npy\"\n",
      "loaded results for system.metric='cosine', system.feature='musicnn' from \"results/cosine_musicnn_results_100.npy\"\n",
      "loaded results for system.metric='cosine', system.feature='resnet' from \"results/cosine_resnet_results_100.npy\"\n",
      "loaded results for system.metric='cosine', system.feature='early_fusion' from \"results/cosine_early_fusion_results_100.npy\"\n",
      "loaded results for system.metric='score aggregation', system.feature='late_fusion' from \"results/score aggregation_late_fusion_results_100.npy\"\n"
     ]
    }
   ],
   "source": [
    "from pipeline import Pipeline\n",
    "\n",
    "evaluate = Pipeline(rs, genres)"
   ],
   "metadata": {
    "collapsed": false,
    "pycharm": {
     "name": "#%%\n"
    }
   }
  },
  {
   "cell_type": "code",
   "execution_count": 35,
   "outputs": [
    {
     "data": {
      "text/plain": "running pipeline:   0%|          | 0/6 [00:00<?, ?it/s]",
      "application/vnd.jupyter.widget-view+json": {
       "version_major": 2,
       "version_minor": 0,
       "model_id": "311be536b42c47a190e21275a77a37c9"
      }
     },
     "metadata": {},
     "output_type": "display_data"
    },
    {
     "data": {
      "text/plain": "Calculating 'mean_precision_at_k' with {'k': 10}:   0%|          | 0/11 [00:00<?, ?it/s]",
      "application/vnd.jupyter.widget-view+json": {
       "version_major": 2,
       "version_minor": 0,
       "model_id": "e7567f0bf2ab4cb1882812fa47f570d8"
      }
     },
     "metadata": {},
     "output_type": "display_data"
    },
    {
     "data": {
      "text/plain": "Calculating 'mean_recall_at_k' with {'k': 10}:   0%|          | 0/11 [00:00<?, ?it/s]",
      "application/vnd.jupyter.widget-view+json": {
       "version_major": 2,
       "version_minor": 0,
       "model_id": "2b97414544d14b3597b84f36e8d3921d"
      }
     },
     "metadata": {},
     "output_type": "display_data"
    },
    {
     "data": {
      "text/plain": "Calculating 'precision_and_recall_interval' with {'k_min': 1, 'k_max': 100, 'step_size': 5}:   0%|          | …",
      "application/vnd.jupyter.widget-view+json": {
       "version_major": 2,
       "version_minor": 0,
       "model_id": "01684c0fa8b54f35aa2cefbf033aed0c"
      }
     },
     "metadata": {},
     "output_type": "display_data"
    },
    {
     "data": {
      "text/plain": "... for metric_name='random', feature_name='random':   0%|          | 0/10094 [00:00<?, ?it/s]",
      "application/vnd.jupyter.widget-view+json": {
       "version_major": 2,
       "version_minor": 0,
       "model_id": "914a78ac44b440778eefcc854b86b82c"
      }
     },
     "metadata": {},
     "output_type": "display_data"
    },
    {
     "data": {
      "text/plain": "... for metric_name='cosine', feature_name='tf-idf':   0%|          | 0/10094 [00:00<?, ?it/s]",
      "application/vnd.jupyter.widget-view+json": {
       "version_major": 2,
       "version_minor": 0,
       "model_id": "070c83349702406eb645a7e40463ff09"
      }
     },
     "metadata": {},
     "output_type": "display_data"
    },
    {
     "data": {
      "text/plain": "... for metric_name='cosine', feature_name='bert':   0%|          | 0/10094 [00:00<?, ?it/s]",
      "application/vnd.jupyter.widget-view+json": {
       "version_major": 2,
       "version_minor": 0,
       "model_id": "bcecdc5cb8bb4b11b5a8c633208c1078"
      }
     },
     "metadata": {},
     "output_type": "display_data"
    },
    {
     "data": {
      "text/plain": "... for metric_name='dot', feature_name='word2vec':   0%|          | 0/10094 [00:00<?, ?it/s]",
      "application/vnd.jupyter.widget-view+json": {
       "version_major": 2,
       "version_minor": 0,
       "model_id": "221693b8f5e54352999324816c383e97"
      }
     },
     "metadata": {},
     "output_type": "display_data"
    },
    {
     "data": {
      "text/plain": "... for metric_name='cosine', feature_name='mfcc_bow':   0%|          | 0/10094 [00:00<?, ?it/s]",
      "application/vnd.jupyter.widget-view+json": {
       "version_major": 2,
       "version_minor": 0,
       "model_id": "55ca618de003446f897bb7a02c420db5"
      }
     },
     "metadata": {},
     "output_type": "display_data"
    },
    {
     "data": {
      "text/plain": "... for metric_name='cosine', feature_name='blf_spectral':   0%|          | 0/10094 [00:00<?, ?it/s]",
      "application/vnd.jupyter.widget-view+json": {
       "version_major": 2,
       "version_minor": 0,
       "model_id": "5124022f13e94e1ebbca80a54ef2ac55"
      }
     },
     "metadata": {},
     "output_type": "display_data"
    },
    {
     "data": {
      "text/plain": "... for metric_name='cosine', feature_name='ivec256':   0%|          | 0/10094 [00:00<?, ?it/s]",
      "application/vnd.jupyter.widget-view+json": {
       "version_major": 2,
       "version_minor": 0,
       "model_id": "4295fb34c3ee4f8993e8de3be6d61ff9"
      }
     },
     "metadata": {},
     "output_type": "display_data"
    },
    {
     "data": {
      "text/plain": "... for metric_name='cosine', feature_name='musicnn':   0%|          | 0/10094 [00:00<?, ?it/s]",
      "application/vnd.jupyter.widget-view+json": {
       "version_major": 2,
       "version_minor": 0,
       "model_id": "099f033eb93a4570a62b277c88dd0066"
      }
     },
     "metadata": {},
     "output_type": "display_data"
    },
    {
     "data": {
      "text/plain": "... for metric_name='cosine', feature_name='resnet':   0%|          | 0/10094 [00:00<?, ?it/s]",
      "application/vnd.jupyter.widget-view+json": {
       "version_major": 2,
       "version_minor": 0,
       "model_id": "516ee3683993422a85a54066cdb963af"
      }
     },
     "metadata": {},
     "output_type": "display_data"
    },
    {
     "data": {
      "text/plain": "... for metric_name='cosine', feature_name='early_fusion':   0%|          | 0/10094 [00:00<?, ?it/s]",
      "application/vnd.jupyter.widget-view+json": {
       "version_major": 2,
       "version_minor": 0,
       "model_id": "514010393e0e4695bf68eec3f81e0c7b"
      }
     },
     "metadata": {},
     "output_type": "display_data"
    },
    {
     "data": {
      "text/plain": "... for metric_name='score aggregation', feature_name='late_fusion':   0%|          | 0/10094 [00:00<?, ?it/s]",
      "application/vnd.jupyter.widget-view+json": {
       "version_major": 2,
       "version_minor": 0,
       "model_id": "e1658660b1a944fc88e8f1fc28986269"
      }
     },
     "metadata": {},
     "output_type": "display_data"
    },
    {
     "data": {
      "text/plain": "Calculating 'mean_ndcg_at_k' with {'k': 10}:   0%|          | 0/11 [00:00<?, ?it/s]",
      "application/vnd.jupyter.widget-view+json": {
       "version_major": 2,
       "version_minor": 0,
       "model_id": "9f6f30b2ee2b4391ac4833928edb9b5f"
      }
     },
     "metadata": {},
     "output_type": "display_data"
    },
    {
     "data": {
      "text/plain": "... for metric_name='random', feature_name='random':   0%|          | 0/10094 [00:00<?, ?it/s]",
      "application/vnd.jupyter.widget-view+json": {
       "version_major": 2,
       "version_minor": 0,
       "model_id": "ed8714ed88024c3dbf027b84c8378068"
      }
     },
     "metadata": {},
     "output_type": "display_data"
    },
    {
     "data": {
      "text/plain": "... for metric_name='cosine', feature_name='tf-idf':   0%|          | 0/10094 [00:00<?, ?it/s]",
      "application/vnd.jupyter.widget-view+json": {
       "version_major": 2,
       "version_minor": 0,
       "model_id": "9e280242497941cdaa4ddbb5e60e9439"
      }
     },
     "metadata": {},
     "output_type": "display_data"
    },
    {
     "data": {
      "text/plain": "... for metric_name='cosine', feature_name='bert':   0%|          | 0/10094 [00:00<?, ?it/s]",
      "application/vnd.jupyter.widget-view+json": {
       "version_major": 2,
       "version_minor": 0,
       "model_id": "9a2a0c435cda4d75865d78b64694bb99"
      }
     },
     "metadata": {},
     "output_type": "display_data"
    },
    {
     "data": {
      "text/plain": "... for metric_name='dot', feature_name='word2vec':   0%|          | 0/10094 [00:00<?, ?it/s]",
      "application/vnd.jupyter.widget-view+json": {
       "version_major": 2,
       "version_minor": 0,
       "model_id": "e68ab73b85304eaa844df49e02ad8506"
      }
     },
     "metadata": {},
     "output_type": "display_data"
    },
    {
     "data": {
      "text/plain": "... for metric_name='cosine', feature_name='mfcc_bow':   0%|          | 0/10094 [00:00<?, ?it/s]",
      "application/vnd.jupyter.widget-view+json": {
       "version_major": 2,
       "version_minor": 0,
       "model_id": "399f47e71de648bbae332aa2f0a24e73"
      }
     },
     "metadata": {},
     "output_type": "display_data"
    },
    {
     "data": {
      "text/plain": "... for metric_name='cosine', feature_name='blf_spectral':   0%|          | 0/10094 [00:00<?, ?it/s]",
      "application/vnd.jupyter.widget-view+json": {
       "version_major": 2,
       "version_minor": 0,
       "model_id": "d21abb8a564541de877ce057f6c6529f"
      }
     },
     "metadata": {},
     "output_type": "display_data"
    },
    {
     "data": {
      "text/plain": "... for metric_name='cosine', feature_name='ivec256':   0%|          | 0/10094 [00:00<?, ?it/s]",
      "application/vnd.jupyter.widget-view+json": {
       "version_major": 2,
       "version_minor": 0,
       "model_id": "5a850d1df0f944e2b7759c5b0dadd7cc"
      }
     },
     "metadata": {},
     "output_type": "display_data"
    },
    {
     "data": {
      "text/plain": "... for metric_name='cosine', feature_name='musicnn':   0%|          | 0/10094 [00:00<?, ?it/s]",
      "application/vnd.jupyter.widget-view+json": {
       "version_major": 2,
       "version_minor": 0,
       "model_id": "5793f28884814a518f6447ac154bf040"
      }
     },
     "metadata": {},
     "output_type": "display_data"
    },
    {
     "data": {
      "text/plain": "... for metric_name='cosine', feature_name='resnet':   0%|          | 0/10094 [00:00<?, ?it/s]",
      "application/vnd.jupyter.widget-view+json": {
       "version_major": 2,
       "version_minor": 0,
       "model_id": "8b3568ef1c31484380e821ab97559e26"
      }
     },
     "metadata": {},
     "output_type": "display_data"
    },
    {
     "data": {
      "text/plain": "... for metric_name='cosine', feature_name='early_fusion':   0%|          | 0/10094 [00:00<?, ?it/s]",
      "application/vnd.jupyter.widget-view+json": {
       "version_major": 2,
       "version_minor": 0,
       "model_id": "efdbbeb6e6754ec394cecc5b2899d678"
      }
     },
     "metadata": {},
     "output_type": "display_data"
    },
    {
     "data": {
      "text/plain": "... for metric_name='score aggregation', feature_name='late_fusion':   0%|          | 0/10094 [00:00<?, ?it/s]",
      "application/vnd.jupyter.widget-view+json": {
       "version_major": 2,
       "version_minor": 0,
       "model_id": "2d4f46793c9943b6a2c4e8fa8ad68b29"
      }
     },
     "metadata": {},
     "output_type": "display_data"
    },
    {
     "data": {
      "text/plain": "Calculating 'genre_coverage_at_k' with {'k': 10}:   0%|          | 0/11 [00:00<?, ?it/s]",
      "application/vnd.jupyter.widget-view+json": {
       "version_major": 2,
       "version_minor": 0,
       "model_id": "39fe0224bfb341cfb2e797f9542534b3"
      }
     },
     "metadata": {},
     "output_type": "display_data"
    },
    {
     "data": {
      "text/plain": "Calculating 'mean_genre_diversity_at_k' with {'k': 10}:   0%|          | 0/11 [00:00<?, ?it/s]",
      "application/vnd.jupyter.widget-view+json": {
       "version_major": 2,
       "version_minor": 0,
       "model_id": "b7c32313b5e14143990f2e2327d79907"
      }
     },
     "metadata": {},
     "output_type": "display_data"
    },
    {
     "data": {
      "text/plain": "               metric       feature  \\\n0              random        random   \n1              cosine        tf-idf   \n2              cosine          bert   \n3                 dot      word2vec   \n4              cosine      mfcc_bow   \n5              cosine  blf_spectral   \n6              cosine       ivec256   \n7              cosine       musicnn   \n8              cosine        resnet   \n9              cosine  early_fusion   \n10  score aggregation   late_fusion   \n\n                                            rs_object  mean_precision_at_k  \\\n0   <task1.retrieval_system.RetrievalSystem object...             0.445265   \n1   <task1.retrieval_system.RetrievalSystem object...             0.510709   \n2   <task1.retrieval_system.RetrievalSystem object...             0.557192   \n3   <task1.retrieval_system.RetrievalSystem object...             0.455934   \n4   <task1.retrieval_system.RetrievalSystem object...             0.588518   \n5   <task1.retrieval_system.RetrievalSystem object...             0.589935   \n6   <task1.retrieval_system.RetrievalSystem object...             0.565564   \n7   <task1.retrieval_system.RetrievalSystem object...             0.623598   \n8   <task1.retrieval_system.RetrievalSystem object...             0.542074   \n9   <task1.retrieval_system.RetrievalSystem object...             0.664058   \n10  <__main__.LateFusion object at 0x000002896A55C...             0.604280   \n\n    mean_recall_at_k                      precision_and_recall_interval  \\\n0           0.001015  [[0.009954202217941022, 0.44519714681989475], ...   \n1           0.001340  [[0.012571036678462849, 0.4968733901327588], [...   \n2           0.001862  [[0.015937234048039744, 0.5369635426986397], [...   \n3           0.000933  [[0.010528252219201853, 0.4745710322964205], [...   \n4           0.001737  [[0.01545524587717471, 0.5700604319397719], [0...   \n5           0.001800  [[0.015473361125256452, 0.5671250247671918], [...   \n6           0.001712  [[0.014549593969567245, 0.5329869229245116], [...   \n7           0.001937  [[0.017839413791002175, 0.6090033683376298], [...   \n8           0.001550  [[0.012884095659153591, 0.5148622944323407], [...   \n9           0.002245  [[0.019825429197236427, 0.6416049138101897], [...   \n10          0.001802  [[0.017883048074539745, 0.6090638002773959], [...   \n\n    mean_ndcg_at_k  genre_coverage_at_k  mean_genre_diversity_at_k  \n0         0.132403             1.000000                   5.069324  \n1         0.163754             0.982014                   4.974558  \n2         0.196265             0.956835                   4.845966  \n3         0.124160             0.480216                   4.681670  \n4         0.216050             0.981115                   4.743527  \n5         0.218365             0.972122                   4.737670  \n6         0.208839             0.999101                   4.905104  \n7         0.231601             0.997302                   4.705990  \n8         0.202587             0.967626                   4.967308  \n9         0.256975             0.922662                   4.693437  \n10        0.219327             0.993705                   4.715609  ",
      "text/html": "<div>\n<style scoped>\n    .dataframe tbody tr th:only-of-type {\n        vertical-align: middle;\n    }\n\n    .dataframe tbody tr th {\n        vertical-align: top;\n    }\n\n    .dataframe thead th {\n        text-align: right;\n    }\n</style>\n<table border=\"1\" class=\"dataframe\">\n  <thead>\n    <tr style=\"text-align: right;\">\n      <th></th>\n      <th>metric</th>\n      <th>feature</th>\n      <th>rs_object</th>\n      <th>mean_precision_at_k</th>\n      <th>mean_recall_at_k</th>\n      <th>precision_and_recall_interval</th>\n      <th>mean_ndcg_at_k</th>\n      <th>genre_coverage_at_k</th>\n      <th>mean_genre_diversity_at_k</th>\n    </tr>\n  </thead>\n  <tbody>\n    <tr>\n      <th>0</th>\n      <td>random</td>\n      <td>random</td>\n      <td>&lt;task1.retrieval_system.RetrievalSystem object...</td>\n      <td>0.445265</td>\n      <td>0.001015</td>\n      <td>[[0.009954202217941022, 0.44519714681989475], ...</td>\n      <td>0.132403</td>\n      <td>1.000000</td>\n      <td>5.069324</td>\n    </tr>\n    <tr>\n      <th>1</th>\n      <td>cosine</td>\n      <td>tf-idf</td>\n      <td>&lt;task1.retrieval_system.RetrievalSystem object...</td>\n      <td>0.510709</td>\n      <td>0.001340</td>\n      <td>[[0.012571036678462849, 0.4968733901327588], [...</td>\n      <td>0.163754</td>\n      <td>0.982014</td>\n      <td>4.974558</td>\n    </tr>\n    <tr>\n      <th>2</th>\n      <td>cosine</td>\n      <td>bert</td>\n      <td>&lt;task1.retrieval_system.RetrievalSystem object...</td>\n      <td>0.557192</td>\n      <td>0.001862</td>\n      <td>[[0.015937234048039744, 0.5369635426986397], [...</td>\n      <td>0.196265</td>\n      <td>0.956835</td>\n      <td>4.845966</td>\n    </tr>\n    <tr>\n      <th>3</th>\n      <td>dot</td>\n      <td>word2vec</td>\n      <td>&lt;task1.retrieval_system.RetrievalSystem object...</td>\n      <td>0.455934</td>\n      <td>0.000933</td>\n      <td>[[0.010528252219201853, 0.4745710322964205], [...</td>\n      <td>0.124160</td>\n      <td>0.480216</td>\n      <td>4.681670</td>\n    </tr>\n    <tr>\n      <th>4</th>\n      <td>cosine</td>\n      <td>mfcc_bow</td>\n      <td>&lt;task1.retrieval_system.RetrievalSystem object...</td>\n      <td>0.588518</td>\n      <td>0.001737</td>\n      <td>[[0.01545524587717471, 0.5700604319397719], [0...</td>\n      <td>0.216050</td>\n      <td>0.981115</td>\n      <td>4.743527</td>\n    </tr>\n    <tr>\n      <th>5</th>\n      <td>cosine</td>\n      <td>blf_spectral</td>\n      <td>&lt;task1.retrieval_system.RetrievalSystem object...</td>\n      <td>0.589935</td>\n      <td>0.001800</td>\n      <td>[[0.015473361125256452, 0.5671250247671918], [...</td>\n      <td>0.218365</td>\n      <td>0.972122</td>\n      <td>4.737670</td>\n    </tr>\n    <tr>\n      <th>6</th>\n      <td>cosine</td>\n      <td>ivec256</td>\n      <td>&lt;task1.retrieval_system.RetrievalSystem object...</td>\n      <td>0.565564</td>\n      <td>0.001712</td>\n      <td>[[0.014549593969567245, 0.5329869229245116], [...</td>\n      <td>0.208839</td>\n      <td>0.999101</td>\n      <td>4.905104</td>\n    </tr>\n    <tr>\n      <th>7</th>\n      <td>cosine</td>\n      <td>musicnn</td>\n      <td>&lt;task1.retrieval_system.RetrievalSystem object...</td>\n      <td>0.623598</td>\n      <td>0.001937</td>\n      <td>[[0.017839413791002175, 0.6090033683376298], [...</td>\n      <td>0.231601</td>\n      <td>0.997302</td>\n      <td>4.705990</td>\n    </tr>\n    <tr>\n      <th>8</th>\n      <td>cosine</td>\n      <td>resnet</td>\n      <td>&lt;task1.retrieval_system.RetrievalSystem object...</td>\n      <td>0.542074</td>\n      <td>0.001550</td>\n      <td>[[0.012884095659153591, 0.5148622944323407], [...</td>\n      <td>0.202587</td>\n      <td>0.967626</td>\n      <td>4.967308</td>\n    </tr>\n    <tr>\n      <th>9</th>\n      <td>cosine</td>\n      <td>early_fusion</td>\n      <td>&lt;task1.retrieval_system.RetrievalSystem object...</td>\n      <td>0.664058</td>\n      <td>0.002245</td>\n      <td>[[0.019825429197236427, 0.6416049138101897], [...</td>\n      <td>0.256975</td>\n      <td>0.922662</td>\n      <td>4.693437</td>\n    </tr>\n    <tr>\n      <th>10</th>\n      <td>score aggregation</td>\n      <td>late_fusion</td>\n      <td>&lt;__main__.LateFusion object at 0x000002896A55C...</td>\n      <td>0.604280</td>\n      <td>0.001802</td>\n      <td>[[0.017883048074539745, 0.6090638002773959], [...</td>\n      <td>0.219327</td>\n      <td>0.993705</td>\n      <td>4.715609</td>\n    </tr>\n  </tbody>\n</table>\n</div>"
     },
     "execution_count": 35,
     "metadata": {},
     "output_type": "execute_result"
    }
   ],
   "source": [
    "evaluate.load_results_csv(\"task_3.csv\")\n",
    "result = evaluate.run(\n",
    "    [\n",
    "        (Pipeline.mean_precision_at_k, dict(k=10)),\n",
    "        (Pipeline.mean_recall_at_k, dict(k=10)),\n",
    "        (Pipeline.precision_and_recall_interval, dict(k_min=1, k_max=100, step_size=5)),\n",
    "        (Pipeline.mean_ndcg_at_k, dict(k=10)),\n",
    "        (Pipeline.genre_coverage_at_k, dict(k=10)),\n",
    "         (Pipeline.mean_genre_diversity_at_k, dict(k=10)),\n",
    "    ]\n",
    ")\n",
    "result.to_csv(\"task_3.csv\", index=False)\n",
    "result"
   ],
   "metadata": {
    "collapsed": false,
    "pycharm": {
     "name": "#%%\n"
    }
   }
  },
  {
   "cell_type": "code",
   "execution_count": 37,
   "outputs": [
    {
     "ename": "IndexError",
     "evalue": "only integers, slices (`:`), ellipsis (`...`), numpy.newaxis (`None`) and integer or boolean arrays are valid indices",
     "output_type": "error",
     "traceback": [
      "\u001B[1;31m---------------------------------------------------------------------------\u001B[0m",
      "\u001B[1;31mIndexError\u001B[0m                                Traceback (most recent call last)",
      "Cell \u001B[1;32mIn [37], line 6\u001B[0m\n\u001B[0;32m      2\u001B[0m metrics_df \u001B[38;5;241m=\u001B[39m rs\u001B[38;5;241m.\u001B[39mprecision_and_recall_interval\n\u001B[0;32m      4\u001B[0m plt\u001B[38;5;241m.\u001B[39mfigure(figsize\u001B[38;5;241m=\u001B[39m(\u001B[38;5;241m12\u001B[39m, \u001B[38;5;241m8\u001B[39m))\n\u001B[0;32m      5\u001B[0m plt\u001B[38;5;241m.\u001B[39mplot(\n\u001B[1;32m----> 6\u001B[0m     \u001B[43mmetrics_df\u001B[49m\u001B[43m[\u001B[49m\u001B[38;5;124;43m\"\u001B[39;49m\u001B[38;5;124;43mrecall\u001B[39;49m\u001B[38;5;124;43m\"\u001B[39;49m\u001B[43m]\u001B[49m,\n\u001B[0;32m      7\u001B[0m     metrics_df[\u001B[38;5;124m\"\u001B[39m\u001B[38;5;124mprecision\u001B[39m\u001B[38;5;124m\"\u001B[39m],\n\u001B[0;32m      8\u001B[0m     marker\u001B[38;5;241m=\u001B[39m\u001B[38;5;124m\"\u001B[39m\u001B[38;5;124mo\u001B[39m\u001B[38;5;124m\"\u001B[39m,\n\u001B[0;32m      9\u001B[0m     label\u001B[38;5;241m=\u001B[39m\u001B[38;5;124mf\u001B[39m\u001B[38;5;124m\"\u001B[39m\u001B[38;5;132;01m{\u001B[39;00mrs\u001B[38;5;241m.\u001B[39mmetric\u001B[38;5;132;01m=}\u001B[39;00m\u001B[38;5;124m (\u001B[39m\u001B[38;5;132;01m{\u001B[39;00mrs\u001B[38;5;241m.\u001B[39mfeature\u001B[38;5;132;01m=}\u001B[39;00m\u001B[38;5;124m)\u001B[39m\u001B[38;5;124m\"\u001B[39m,\n\u001B[0;32m     10\u001B[0m )\n\u001B[0;32m     12\u001B[0m \u001B[38;5;66;03m# Annotate each point with its k value\u001B[39;00m\n\u001B[0;32m     13\u001B[0m \u001B[38;5;28;01mfor\u001B[39;00m k, recall, precision \u001B[38;5;129;01min\u001B[39;00m \u001B[38;5;28mzip\u001B[39m(\n\u001B[0;32m     14\u001B[0m     metrics_df\u001B[38;5;241m.\u001B[39mindex, metrics_df[\u001B[38;5;124m\"\u001B[39m\u001B[38;5;124mrecall\u001B[39m\u001B[38;5;124m\"\u001B[39m], metrics_df[\u001B[38;5;124m\"\u001B[39m\u001B[38;5;124mprecision\u001B[39m\u001B[38;5;124m\"\u001B[39m]\n\u001B[0;32m     15\u001B[0m ):\n",
      "\u001B[1;31mIndexError\u001B[0m: only integers, slices (`:`), ellipsis (`...`), numpy.newaxis (`None`) and integer or boolean arrays are valid indices"
     ]
    },
    {
     "data": {
      "text/plain": "<Figure size 1200x800 with 0 Axes>"
     },
     "metadata": {},
     "output_type": "display_data"
    }
   ],
   "source": [
    "for rs in result.itertuples():\n",
    "    metrics_df = rs.precision_and_recall_interval\n",
    "\n",
    "    plt.figure(figsize=(12, 8))\n",
    "    plt.plot(\n",
    "        metrics_df[\"recall\"],\n",
    "        metrics_df[\"precision\"],\n",
    "        marker=\"o\",\n",
    "        label=f\"{rs.metric=} ({rs.feature=})\",\n",
    "    )\n",
    "\n",
    "    # Annotate each point with its k value\n",
    "    for k, recall, precision in zip(\n",
    "        metrics_df.index, metrics_df[\"recall\"], metrics_df[\"precision\"]\n",
    "    ):\n",
    "        plt.annotate(\n",
    "            f\"k={k}\",\n",
    "            (recall, precision),\n",
    "            textcoords=\"offset points\",\n",
    "            xytext=(0, 10),\n",
    "            ha=\"center\",\n",
    "        )\n",
    "\n",
    "    plt.title(f\"Precision-Recall Curve for {rs.metric=} with {rs.feature=}\")\n",
    "    plt.xlabel(\"Recall\")\n",
    "    plt.ylabel(\"Precision\")\n",
    "    plt.legend()\n",
    "    plt.grid(True)\n",
    "    plt.show()"
   ],
   "metadata": {
    "collapsed": false,
    "pycharm": {
     "name": "#%%\n"
    }
   }
  },
  {
   "cell_type": "code",
   "execution_count": null,
   "outputs": [],
   "source": [],
   "metadata": {
    "collapsed": false,
    "pycharm": {
     "name": "#%%\n"
    }
   }
  }
 ],
 "metadata": {
  "kernelspec": {
   "display_name": "Python 3",
   "language": "python",
   "name": "python3"
  },
  "language_info": {
   "codemirror_mode": {
    "name": "ipython",
    "version": 2
   },
   "file_extension": ".py",
   "mimetype": "text/x-python",
   "name": "python",
   "nbconvert_exporter": "python",
   "pygments_lexer": "ipython2",
   "version": "2.7.6"
  }
 },
 "nbformat": 4,
 "nbformat_minor": 0
}