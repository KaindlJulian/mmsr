{
 "cells": [
  {
   "cell_type": "markdown",
   "metadata": {
    "pycharm": {
     "name": "#%% md\n"
    }
   },
   "source": [
    "# Read and Explore Data"
   ]
  },
  {
   "cell_type": "code",
   "execution_count": 4,
   "metadata": {
    "collapsed": false,
    "jupyter": {
     "outputs_hidden": false
    },
    "pycharm": {
     "name": "#%%\n"
    }
   },
   "outputs": [],
   "source": [
    "import sys\n",
    "\n",
    "sys.path.append(\"../\")\n",
    "\n",
    "import numpy as np\n",
    "import pandas as pd\n",
    "from typing import Union, Tuple\n",
    "from tqdm.notebook import tqdm\n",
    "import matplotlib.pyplot as plt"
   ]
  },
  {
   "cell_type": "code",
   "execution_count": 5,
   "metadata": {
    "collapsed": false,
    "jupyter": {
     "outputs_hidden": false
    },
    "pycharm": {
     "name": "#%%\n"
    }
   },
   "outputs": [],
   "source": [
    "from task1.retrieval_system import RetrievalSystem, SongInfo\n",
    "from task1.similarity_measure import (\n",
    "    cosine_similarity,\n",
    "    dot_product,\n",
    "    manhattan_distance,\n",
    "    euclidean_distance,\n",
    "    random_similarity,\n",
    ")\n",
    "from utils import read, embed_and_merge"
   ]
  },
  {
   "cell_type": "code",
   "execution_count": 6,
   "metadata": {
    "collapsed": false,
    "jupyter": {
     "outputs_hidden": false
    },
    "pycharm": {
     "name": "#%%\n"
    }
   },
   "outputs": [
    {
     "data": {
      "text/html": [
       "<div>\n",
       "<style scoped>\n",
       "    .dataframe tbody tr th:only-of-type {\n",
       "        vertical-align: middle;\n",
       "    }\n",
       "\n",
       "    .dataframe tbody tr th {\n",
       "        vertical-align: top;\n",
       "    }\n",
       "\n",
       "    .dataframe thead th {\n",
       "        text-align: right;\n",
       "    }\n",
       "</style>\n",
       "<table border=\"1\" class=\"dataframe\">\n",
       "  <thead>\n",
       "    <tr style=\"text-align: right;\">\n",
       "      <th></th>\n",
       "      <th>id</th>\n",
       "      <th>artist</th>\n",
       "      <th>song</th>\n",
       "      <th>album_name</th>\n",
       "    </tr>\n",
       "  </thead>\n",
       "  <tbody>\n",
       "    <tr>\n",
       "      <th>0</th>\n",
       "      <td>01Yfj2T3YTwJ1Yfy</td>\n",
       "      <td>We As Human</td>\n",
       "      <td>Take The Bullets Away (feat. Lacey Sturm)</td>\n",
       "      <td>We As Human</td>\n",
       "    </tr>\n",
       "    <tr>\n",
       "      <th>1</th>\n",
       "      <td>01gyRHLquwXDlhkO</td>\n",
       "      <td>The Notorious B.I.G.</td>\n",
       "      <td>Somebody's Gotta Die</td>\n",
       "      <td>Life After Death (Remastered Edition)</td>\n",
       "    </tr>\n",
       "    <tr>\n",
       "      <th>2</th>\n",
       "      <td>01rMxQv6vhyE1oQX</td>\n",
       "      <td>Against the Current</td>\n",
       "      <td>Chasing Ghosts</td>\n",
       "      <td>In Our Bones</td>\n",
       "    </tr>\n",
       "    <tr>\n",
       "      <th>3</th>\n",
       "      <td>02RGE9FNH65RtMS7</td>\n",
       "      <td>Barthezz</td>\n",
       "      <td>Infected</td>\n",
       "      <td>Trance - The Early Years (1997-2002)</td>\n",
       "    </tr>\n",
       "    <tr>\n",
       "      <th>4</th>\n",
       "      <td>02ZnlCGZEbkfCDxo</td>\n",
       "      <td>Laura Pausini</td>\n",
       "      <td>Tra Te E Il Mare</td>\n",
       "      <td>The Best of Laura Pausini - E Ritorno Da Te</td>\n",
       "    </tr>\n",
       "    <tr>\n",
       "      <th>...</th>\n",
       "      <td>...</td>\n",
       "      <td>...</td>\n",
       "      <td>...</td>\n",
       "      <td>...</td>\n",
       "    </tr>\n",
       "    <tr>\n",
       "      <th>10090</th>\n",
       "      <td>zyzILCQvVeUFIINi</td>\n",
       "      <td>Crowded House</td>\n",
       "      <td>When You Come</td>\n",
       "      <td>Temple Of Low Men</td>\n",
       "    </tr>\n",
       "    <tr>\n",
       "      <th>10091</th>\n",
       "      <td>zzgS4ZqyswamEWNj</td>\n",
       "      <td>Britney Spears</td>\n",
       "      <td>My Only Wish (This Year)</td>\n",
       "      <td>Platinum Christmas</td>\n",
       "    </tr>\n",
       "    <tr>\n",
       "      <th>10092</th>\n",
       "      <td>zzoFYDMlqU1X2zz1</td>\n",
       "      <td>Thundercat</td>\n",
       "      <td>DUI</td>\n",
       "      <td>Drunk</td>\n",
       "    </tr>\n",
       "    <tr>\n",
       "      <th>10093</th>\n",
       "      <td>zzpkRCGA5ud8q4mv</td>\n",
       "      <td>Otis Redding</td>\n",
       "      <td>Rock Me Baby</td>\n",
       "      <td>Otis Blue</td>\n",
       "    </tr>\n",
       "    <tr>\n",
       "      <th>10094</th>\n",
       "      <td>zzx8CWdM7qkxKQpC</td>\n",
       "      <td>Ted Leo and the Pharmacists</td>\n",
       "      <td>Counting Down the Hours</td>\n",
       "      <td>Shake the Sheets</td>\n",
       "    </tr>\n",
       "  </tbody>\n",
       "</table>\n",
       "<p>10095 rows × 4 columns</p>\n",
       "</div>"
      ],
      "text/plain": [
       "                     id                       artist  \\\n",
       "0      01Yfj2T3YTwJ1Yfy                  We As Human   \n",
       "1      01gyRHLquwXDlhkO         The Notorious B.I.G.   \n",
       "2      01rMxQv6vhyE1oQX          Against the Current   \n",
       "3      02RGE9FNH65RtMS7                     Barthezz   \n",
       "4      02ZnlCGZEbkfCDxo                Laura Pausini   \n",
       "...                 ...                          ...   \n",
       "10090  zyzILCQvVeUFIINi                Crowded House   \n",
       "10091  zzgS4ZqyswamEWNj               Britney Spears   \n",
       "10092  zzoFYDMlqU1X2zz1                   Thundercat   \n",
       "10093  zzpkRCGA5ud8q4mv                 Otis Redding   \n",
       "10094  zzx8CWdM7qkxKQpC  Ted Leo and the Pharmacists   \n",
       "\n",
       "                                            song  \\\n",
       "0      Take The Bullets Away (feat. Lacey Sturm)   \n",
       "1                           Somebody's Gotta Die   \n",
       "2                                 Chasing Ghosts   \n",
       "3                                       Infected   \n",
       "4                               Tra Te E Il Mare   \n",
       "...                                          ...   \n",
       "10090                              When You Come   \n",
       "10091                   My Only Wish (This Year)   \n",
       "10092                                        DUI   \n",
       "10093                               Rock Me Baby   \n",
       "10094                    Counting Down the Hours   \n",
       "\n",
       "                                        album_name  \n",
       "0                                      We As Human  \n",
       "1            Life After Death (Remastered Edition)  \n",
       "2                                     In Our Bones  \n",
       "3             Trance - The Early Years (1997-2002)  \n",
       "4      The Best of Laura Pausini - E Ritorno Da Te  \n",
       "...                                            ...  \n",
       "10090                            Temple Of Low Men  \n",
       "10091                           Platinum Christmas  \n",
       "10092                                        Drunk  \n",
       "10093                                    Otis Blue  \n",
       "10094                             Shake the Sheets  \n",
       "\n",
       "[10095 rows x 4 columns]"
      ]
     },
     "execution_count": 6,
     "metadata": {},
     "output_type": "execute_result"
    }
   ],
   "source": [
    "# basic song information from task 1\n",
    "df = read(\"information\", 0)\n",
    "df"
   ]
  },
  {
   "cell_type": "code",
   "execution_count": 7,
   "metadata": {
    "collapsed": false,
    "jupyter": {
     "outputs_hidden": false
    },
    "pycharm": {
     "name": "#%%\n"
    }
   },
   "outputs": [],
   "source": [
    "# add genre information for metric calculation\n",
    "genres = read(\"genres\", 0)\n",
    "# convert genre to actual list via eval\n",
    "genres[\"genre\"] = genres[\"genre\"].apply(eval).apply(set)\n",
    "df = df.merge(genres, on=\"id\", how=\"left\")"
   ]
  },
  {
   "cell_type": "markdown",
   "metadata": {
    "pycharm": {
     "name": "#%% md\n"
    }
   },
   "source": [
    "We load one new feature and the features from the previous assignments. We need them for comparison and fusion."
   ]
  },
  {
   "cell_type": "code",
   "execution_count": 8,
   "metadata": {
    "collapsed": false,
    "jupyter": {
     "outputs_hidden": false
    },
    "pycharm": {
     "name": "#%%\n"
    }
   },
   "outputs": [],
   "source": [
    "visual_feature = \"resnet\"\n",
    "stats = read(visual_feature, 0)\n",
    "df = embed_and_merge(df, stats, visual_feature)\n",
    "\n",
    "for audio_feature in [\"mfcc_bow\", \"blf_spectral\", \"ivec256\", \"musicnn\"]:\n",
    "    stats = read(audio_feature, 0)\n",
    "    df = embed_and_merge(df, stats, audio_feature)\n",
    "\n",
    "for text_feature in [\"lyrics_bert\", \"lyrics_word2vec\", \"lyrics_tf-idf\"]:\n",
    "    stats = read(text_feature, 0)\n",
    "    df = embed_and_merge(df, stats, text_feature.split(\"_\")[1])"
   ]
  },
  {
   "cell_type": "code",
   "execution_count": 9,
   "metadata": {
    "collapsed": false,
    "jupyter": {
     "outputs_hidden": false
    },
    "pycharm": {
     "name": "#%%\n"
    }
   },
   "outputs": [
    {
     "data": {
      "text/plain": [
       "id              0\n",
       "artist          0\n",
       "song            0\n",
       "album_name      0\n",
       "genre           1\n",
       "resnet          1\n",
       "mfcc_bow        1\n",
       "blf_spectral    1\n",
       "ivec256         1\n",
       "musicnn         1\n",
       "bert            0\n",
       "word2vec        0\n",
       "tf-idf          0\n",
       "dtype: int64"
      ]
     },
     "execution_count": 9,
     "metadata": {},
     "output_type": "execute_result"
    }
   ],
   "source": [
    "df.isna().sum()"
   ]
  },
  {
   "cell_type": "code",
   "execution_count": 10,
   "metadata": {
    "collapsed": false,
    "jupyter": {
     "outputs_hidden": false
    },
    "pycharm": {
     "name": "#%%\n"
    }
   },
   "outputs": [],
   "source": [
    "# data for task 2 does not include the item with id \"03Oc9WeMEmyLLQbj\" = row 5\n",
    "df = df.drop(5)\n",
    "df = df.reset_index()"
   ]
  },
  {
   "cell_type": "markdown",
   "metadata": {
    "pycharm": {
     "name": "#%% md\n"
    }
   },
   "source": [
    "# Define retrieval systems"
   ]
  },
  {
   "cell_type": "markdown",
   "metadata": {
    "pycharm": {
     "name": "#%% md\n"
    }
   },
   "source": [
    "## From Task 1 (text-based)"
   ]
  },
  {
   "cell_type": "code",
   "execution_count": 11,
   "metadata": {
    "collapsed": false,
    "jupyter": {
     "outputs_hidden": false
    },
    "pycharm": {
     "name": "#%%\n"
    }
   },
   "outputs": [],
   "source": [
    "rs_random = RetrievalSystem(\n",
    "    df=df,\n",
    "    sim_metric=random_similarity,\n",
    ")"
   ]
  },
  {
   "cell_type": "code",
   "execution_count": 12,
   "metadata": {
    "collapsed": false,
    "jupyter": {
     "outputs_hidden": false
    },
    "pycharm": {
     "name": "#%%\n"
    }
   },
   "outputs": [],
   "source": [
    "rs_cos_tdidf = RetrievalSystem(\n",
    "    df=df,\n",
    "    sim_metric=cosine_similarity,\n",
    "    sim_feature=\"tf-idf\",\n",
    ")"
   ]
  },
  {
   "cell_type": "code",
   "execution_count": 13,
   "metadata": {
    "collapsed": false,
    "jupyter": {
     "outputs_hidden": false
    },
    "pycharm": {
     "name": "#%%\n"
    }
   },
   "outputs": [],
   "source": [
    "rs_cos_bert = RetrievalSystem(\n",
    "    df=df,\n",
    "    sim_metric=cosine_similarity,\n",
    "    sim_feature=\"bert\",\n",
    ")"
   ]
  },
  {
   "cell_type": "code",
   "execution_count": 14,
   "metadata": {
    "collapsed": false,
    "jupyter": {
     "outputs_hidden": false
    },
    "pycharm": {
     "name": "#%%\n"
    }
   },
   "outputs": [],
   "source": [
    "rs_dot_w2v = RetrievalSystem(\n",
    "    df=df,\n",
    "    sim_metric=dot_product,\n",
    "    sim_feature=\"word2vec\",\n",
    ")"
   ]
  },
  {
   "cell_type": "markdown",
   "metadata": {
    "pycharm": {
     "name": "#%% md\n"
    }
   },
   "source": [
    "## From Task 2 (audio-based)"
   ]
  },
  {
   "cell_type": "code",
   "execution_count": 15,
   "metadata": {
    "collapsed": false,
    "jupyter": {
     "outputs_hidden": false
    },
    "pycharm": {
     "name": "#%%\n"
    }
   },
   "outputs": [],
   "source": [
    "rs_cos_mfcc = RetrievalSystem(\n",
    "    df=df,\n",
    "    sim_metric=cosine_similarity,\n",
    "    sim_feature=\"mfcc_bow\",\n",
    ")"
   ]
  },
  {
   "cell_type": "code",
   "execution_count": 16,
   "metadata": {
    "collapsed": false,
    "jupyter": {
     "outputs_hidden": false
    },
    "pycharm": {
     "name": "#%%\n"
    }
   },
   "outputs": [],
   "source": [
    "rs_cos_blf = RetrievalSystem(\n",
    "    df=df,\n",
    "    sim_metric=cosine_similarity,\n",
    "    sim_feature=\"blf_spectral\",\n",
    ")"
   ]
  },
  {
   "cell_type": "code",
   "execution_count": 17,
   "metadata": {
    "collapsed": false,
    "jupyter": {
     "outputs_hidden": false
    },
    "pycharm": {
     "name": "#%%\n"
    }
   },
   "outputs": [],
   "source": [
    "rs_cos_ivec256 = RetrievalSystem(\n",
    "    df=df,\n",
    "    sim_metric=cosine_similarity,\n",
    "    sim_feature=\"ivec256\",\n",
    ")"
   ]
  },
  {
   "cell_type": "code",
   "execution_count": 18,
   "metadata": {
    "collapsed": false,
    "jupyter": {
     "outputs_hidden": false
    },
    "pycharm": {
     "name": "#%%\n"
    }
   },
   "outputs": [],
   "source": [
    "rs_cos_dnn = RetrievalSystem(\n",
    "    df=df,\n",
    "    sim_metric=cosine_similarity,\n",
    "    sim_feature=\"musicnn\",\n",
    ")"
   ]
  },
  {
   "cell_type": "markdown",
   "metadata": {
    "pycharm": {
     "name": "#%% md\n"
    }
   },
   "source": [
    "## From Task 3 (video-based; new!)\n"
   ]
  },
  {
   "cell_type": "code",
   "execution_count": 19,
   "metadata": {
    "collapsed": false,
    "jupyter": {
     "outputs_hidden": false
    },
    "pycharm": {
     "name": "#%%\n"
    }
   },
   "outputs": [],
   "source": [
    "rs_cos_resnet = RetrievalSystem(\n",
    "    df=df,\n",
    "    sim_metric=cosine_similarity,\n",
    "    sim_feature=\"resnet\",\n",
    ")"
   ]
  },
  {
   "cell_type": "code",
   "execution_count": 24,
   "metadata": {
    "tags": []
   },
   "outputs": [],
   "source": [
    "# create pd dataframe consisting of all retrieval systems, with metric and feature\n",
    "rs = pd.DataFrame(\n",
    "    [\n",
    "        [\"random\", \"random\", rs_random],\n",
    "        [\"cosine\", \"tf-idf\", rs_cos_tdidf],\n",
    "        [\"cosine\", \"bert\", rs_cos_bert],\n",
    "        [\"dot\", \"word2vec\", rs_dot_w2v],\n",
    "        [\"cosine\", \"mfcc_bow\", rs_cos_mfcc],\n",
    "        [\"cosine\", \"blf_spectral\", rs_cos_blf],\n",
    "        [\"cosine\", \"ivec256\", rs_cos_ivec256],\n",
    "        [\"cosine\", \"musicnn\", rs_cos_dnn],\n",
    "        [\"cosine\", \"resnet\", rs_cos_resnet],\n",
    "    ],\n",
    "    columns=[\"metric\", \"feature\", \"rs_object\"],\n",
    ")"
   ]
  },
  {
   "cell_type": "code",
   "execution_count": 25,
   "metadata": {
    "tags": []
   },
   "outputs": [
    {
     "data": {
      "text/html": [
       "<div>\n",
       "<style scoped>\n",
       "    .dataframe tbody tr th:only-of-type {\n",
       "        vertical-align: middle;\n",
       "    }\n",
       "\n",
       "    .dataframe tbody tr th {\n",
       "        vertical-align: top;\n",
       "    }\n",
       "\n",
       "    .dataframe thead th {\n",
       "        text-align: right;\n",
       "    }\n",
       "</style>\n",
       "<table border=\"1\" class=\"dataframe\">\n",
       "  <thead>\n",
       "    <tr style=\"text-align: right;\">\n",
       "      <th></th>\n",
       "      <th>metric</th>\n",
       "      <th>feature</th>\n",
       "      <th>rs_object</th>\n",
       "    </tr>\n",
       "  </thead>\n",
       "  <tbody>\n",
       "    <tr>\n",
       "      <th>0</th>\n",
       "      <td>random</td>\n",
       "      <td>random</td>\n",
       "      <td>&lt;task1.retrieval_system.RetrievalSystem object...</td>\n",
       "    </tr>\n",
       "    <tr>\n",
       "      <th>1</th>\n",
       "      <td>cosine</td>\n",
       "      <td>tf-idf</td>\n",
       "      <td>&lt;task1.retrieval_system.RetrievalSystem object...</td>\n",
       "    </tr>\n",
       "    <tr>\n",
       "      <th>2</th>\n",
       "      <td>cosine</td>\n",
       "      <td>bert</td>\n",
       "      <td>&lt;task1.retrieval_system.RetrievalSystem object...</td>\n",
       "    </tr>\n",
       "    <tr>\n",
       "      <th>3</th>\n",
       "      <td>dot</td>\n",
       "      <td>word2vec</td>\n",
       "      <td>&lt;task1.retrieval_system.RetrievalSystem object...</td>\n",
       "    </tr>\n",
       "    <tr>\n",
       "      <th>4</th>\n",
       "      <td>cosine</td>\n",
       "      <td>mfcc_bow</td>\n",
       "      <td>&lt;task1.retrieval_system.RetrievalSystem object...</td>\n",
       "    </tr>\n",
       "    <tr>\n",
       "      <th>5</th>\n",
       "      <td>cosine</td>\n",
       "      <td>blf_spectral</td>\n",
       "      <td>&lt;task1.retrieval_system.RetrievalSystem object...</td>\n",
       "    </tr>\n",
       "    <tr>\n",
       "      <th>6</th>\n",
       "      <td>cosine</td>\n",
       "      <td>ivec256</td>\n",
       "      <td>&lt;task1.retrieval_system.RetrievalSystem object...</td>\n",
       "    </tr>\n",
       "    <tr>\n",
       "      <th>7</th>\n",
       "      <td>cosine</td>\n",
       "      <td>musicnn</td>\n",
       "      <td>&lt;task1.retrieval_system.RetrievalSystem object...</td>\n",
       "    </tr>\n",
       "    <tr>\n",
       "      <th>8</th>\n",
       "      <td>cosine</td>\n",
       "      <td>resnet</td>\n",
       "      <td>&lt;task1.retrieval_system.RetrievalSystem object...</td>\n",
       "    </tr>\n",
       "  </tbody>\n",
       "</table>\n",
       "</div>"
      ],
      "text/plain": [
       "   metric       feature                                          rs_object\n",
       "0  random        random  <task1.retrieval_system.RetrievalSystem object...\n",
       "1  cosine        tf-idf  <task1.retrieval_system.RetrievalSystem object...\n",
       "2  cosine          bert  <task1.retrieval_system.RetrievalSystem object...\n",
       "3     dot      word2vec  <task1.retrieval_system.RetrievalSystem object...\n",
       "4  cosine      mfcc_bow  <task1.retrieval_system.RetrievalSystem object...\n",
       "5  cosine  blf_spectral  <task1.retrieval_system.RetrievalSystem object...\n",
       "6  cosine       ivec256  <task1.retrieval_system.RetrievalSystem object...\n",
       "7  cosine       musicnn  <task1.retrieval_system.RetrievalSystem object...\n",
       "8  cosine        resnet  <task1.retrieval_system.RetrievalSystem object..."
      ]
     },
     "execution_count": 25,
     "metadata": {},
     "output_type": "execute_result"
    }
   ],
   "source": [
    "rs"
   ]
  },
  {
   "cell_type": "markdown",
   "metadata": {
    "pycharm": {
     "name": "#%% md\n"
    }
   },
   "source": [
    "## Fusion Techniques"
   ]
  },
  {
   "cell_type": "markdown",
   "metadata": {
    "pycharm": {
     "name": "#%% md\n"
    }
   },
   "source": [
    "### Early Fusion"
   ]
  },
  {
   "cell_type": "code",
   "execution_count": 33,
   "metadata": {
    "tags": []
   },
   "outputs": [
    {
     "ename": "AttributeError",
     "evalue": "'Series' object has no attribute 'reshape'",
     "output_type": "error",
     "traceback": [
      "\u001b[1;31m---------------------------------------------------------------------------\u001b[0m",
      "\u001b[1;31mAttributeError\u001b[0m                            Traceback (most recent call last)",
      "Cell \u001b[1;32mIn[33], line 9\u001b[0m\n\u001b[0;32m      7\u001b[0m \u001b[38;5;66;03m# Standardize the features\u001b[39;00m\n\u001b[0;32m      8\u001b[0m scaler \u001b[38;5;241m=\u001b[39m StandardScaler()\n\u001b[1;32m----> 9\u001b[0m textual_feature \u001b[38;5;241m=\u001b[39m scaler\u001b[38;5;241m.\u001b[39mfit_transform(\u001b[43mtextual_feature\u001b[49m\u001b[38;5;241;43m.\u001b[39;49m\u001b[43mreshape\u001b[49m(\u001b[38;5;241m-\u001b[39m\u001b[38;5;241m1\u001b[39m, \u001b[38;5;241m1\u001b[39m))\n\u001b[0;32m     10\u001b[0m audio_feature \u001b[38;5;241m=\u001b[39m scaler\u001b[38;5;241m.\u001b[39mfit_transform(audio_feature\u001b[38;5;241m.\u001b[39mreshape(\u001b[38;5;241m-\u001b[39m\u001b[38;5;241m1\u001b[39m, \u001b[38;5;241m1\u001b[39m))\n\u001b[0;32m     12\u001b[0m \u001b[38;5;66;03m# Perform early fusion using a simple aggregation (e.g., average)\u001b[39;00m\n",
      "File \u001b[1;32m~\\AppData\\Roaming\\jupyterlab-desktop\\jlab_server\\lib\\site-packages\\pandas\\core\\generic.py:5902\u001b[0m, in \u001b[0;36mNDFrame.__getattr__\u001b[1;34m(self, name)\u001b[0m\n\u001b[0;32m   5895\u001b[0m \u001b[38;5;28;01mif\u001b[39;00m (\n\u001b[0;32m   5896\u001b[0m     name \u001b[38;5;129;01mnot\u001b[39;00m \u001b[38;5;129;01min\u001b[39;00m \u001b[38;5;28mself\u001b[39m\u001b[38;5;241m.\u001b[39m_internal_names_set\n\u001b[0;32m   5897\u001b[0m     \u001b[38;5;129;01mand\u001b[39;00m name \u001b[38;5;129;01mnot\u001b[39;00m \u001b[38;5;129;01min\u001b[39;00m \u001b[38;5;28mself\u001b[39m\u001b[38;5;241m.\u001b[39m_metadata\n\u001b[0;32m   5898\u001b[0m     \u001b[38;5;129;01mand\u001b[39;00m name \u001b[38;5;129;01mnot\u001b[39;00m \u001b[38;5;129;01min\u001b[39;00m \u001b[38;5;28mself\u001b[39m\u001b[38;5;241m.\u001b[39m_accessors\n\u001b[0;32m   5899\u001b[0m     \u001b[38;5;129;01mand\u001b[39;00m \u001b[38;5;28mself\u001b[39m\u001b[38;5;241m.\u001b[39m_info_axis\u001b[38;5;241m.\u001b[39m_can_hold_identifiers_and_holds_name(name)\n\u001b[0;32m   5900\u001b[0m ):\n\u001b[0;32m   5901\u001b[0m     \u001b[38;5;28;01mreturn\u001b[39;00m \u001b[38;5;28mself\u001b[39m[name]\n\u001b[1;32m-> 5902\u001b[0m \u001b[38;5;28;01mreturn\u001b[39;00m \u001b[38;5;28;43mobject\u001b[39;49m\u001b[38;5;241;43m.\u001b[39;49m\u001b[38;5;21;43m__getattribute__\u001b[39;49m\u001b[43m(\u001b[49m\u001b[38;5;28;43mself\u001b[39;49m\u001b[43m,\u001b[49m\u001b[43m \u001b[49m\u001b[43mname\u001b[49m\u001b[43m)\u001b[49m\n",
      "\u001b[1;31mAttributeError\u001b[0m: 'Series' object has no attribute 'reshape'"
     ]
    }
   ],
   "source": [
    "from sklearn.preprocessing import StandardScaler\n",
    "\n",
    "# Select two features for early fusion (e.g., lyrics_tf-idf and mfcc_bow)\n",
    "textual_feature = df['tf-idf']\n",
    "audio_feature = df['mfcc_bow']\n",
    "\n",
    "# Standardize the features\n",
    "scaler = StandardScaler()\n",
    "textual_feature = scaler.fit_transform(textual_feature.reshape(-1, 1))\n",
    "audio_feature = scaler.fit_transform(audio_feature.reshape(-1, 1))\n",
    "\n",
    "# Perform early fusion using a simple aggregation (e.g., average)\n",
    "early_fusion_feature = (textual_feature + audio_feature) / 2\n",
    "\n",
    "# Add the early fusion feature to the DataFrame\n",
    "df['early_fusion'] = early_fusion_feature\n",
    "\n",
    "# Now you can use the 'early_fusion' feature in retrieval similar to text-based(<similarity>, <feature>)\n"
   ]
  },
  {
   "cell_type": "code",
   "execution_count": 39,
   "metadata": {
    "tags": []
   },
   "outputs": [
    {
     "ename": "ValueError",
     "evalue": "setting an array element with a sequence.",
     "output_type": "error",
     "traceback": [
      "\u001b[1;31m---------------------------------------------------------------------------\u001b[0m",
      "\u001b[1;31mTypeError\u001b[0m                                 Traceback (most recent call last)",
      "\u001b[1;31mTypeError\u001b[0m: only size-1 arrays can be converted to Python scalars",
      "\nThe above exception was the direct cause of the following exception:\n",
      "\u001b[1;31mValueError\u001b[0m                                Traceback (most recent call last)",
      "Cell \u001b[1;32mIn[39], line 14\u001b[0m\n\u001b[0;32m     11\u001b[0m scaler_textual \u001b[38;5;241m=\u001b[39m StandardScaler()\n\u001b[0;32m     12\u001b[0m scaler_audiovisual \u001b[38;5;241m=\u001b[39m StandardScaler()\n\u001b[1;32m---> 14\u001b[0m textual_feature \u001b[38;5;241m=\u001b[39m \u001b[43mscaler_textual\u001b[49m\u001b[38;5;241;43m.\u001b[39;49m\u001b[43mfit_transform\u001b[49m\u001b[43m(\u001b[49m\u001b[43mtextual_feature\u001b[49m\u001b[38;5;241;43m.\u001b[39;49m\u001b[43mreshape\u001b[49m\u001b[43m(\u001b[49m\u001b[38;5;241;43m-\u001b[39;49m\u001b[38;5;241;43m1\u001b[39;49m\u001b[43m,\u001b[49m\u001b[43m \u001b[49m\u001b[38;5;241;43m1\u001b[39;49m\u001b[43m)\u001b[49m\u001b[43m)\u001b[49m\n\u001b[0;32m     15\u001b[0m audiovisual_feature \u001b[38;5;241m=\u001b[39m scaler_audiovisual\u001b[38;5;241m.\u001b[39mfit_transform(audiovisual_feature\u001b[38;5;241m.\u001b[39mreshape(\u001b[38;5;241m-\u001b[39m\u001b[38;5;241m1\u001b[39m, \u001b[38;5;241m1\u001b[39m))\n\u001b[0;32m     17\u001b[0m \u001b[38;5;66;03m# Fusionstechnik: Einfacher Durchschnitt\u001b[39;00m\n",
      "File \u001b[1;32m~\\AppData\\Roaming\\jupyterlab-desktop\\jlab_server\\lib\\site-packages\\sklearn\\utils\\_set_output.py:140\u001b[0m, in \u001b[0;36m_wrap_method_output.<locals>.wrapped\u001b[1;34m(self, X, *args, **kwargs)\u001b[0m\n\u001b[0;32m    138\u001b[0m \u001b[38;5;129m@wraps\u001b[39m(f)\n\u001b[0;32m    139\u001b[0m \u001b[38;5;28;01mdef\u001b[39;00m \u001b[38;5;21mwrapped\u001b[39m(\u001b[38;5;28mself\u001b[39m, X, \u001b[38;5;241m*\u001b[39margs, \u001b[38;5;241m*\u001b[39m\u001b[38;5;241m*\u001b[39mkwargs):\n\u001b[1;32m--> 140\u001b[0m     data_to_wrap \u001b[38;5;241m=\u001b[39m \u001b[43mf\u001b[49m\u001b[43m(\u001b[49m\u001b[38;5;28;43mself\u001b[39;49m\u001b[43m,\u001b[49m\u001b[43m \u001b[49m\u001b[43mX\u001b[49m\u001b[43m,\u001b[49m\u001b[43m \u001b[49m\u001b[38;5;241;43m*\u001b[39;49m\u001b[43margs\u001b[49m\u001b[43m,\u001b[49m\u001b[43m \u001b[49m\u001b[38;5;241;43m*\u001b[39;49m\u001b[38;5;241;43m*\u001b[39;49m\u001b[43mkwargs\u001b[49m\u001b[43m)\u001b[49m\n\u001b[0;32m    141\u001b[0m     \u001b[38;5;28;01mif\u001b[39;00m \u001b[38;5;28misinstance\u001b[39m(data_to_wrap, \u001b[38;5;28mtuple\u001b[39m):\n\u001b[0;32m    142\u001b[0m         \u001b[38;5;66;03m# only wrap the first output for cross decomposition\u001b[39;00m\n\u001b[0;32m    143\u001b[0m         \u001b[38;5;28;01mreturn\u001b[39;00m (\n\u001b[0;32m    144\u001b[0m             _wrap_data_with_container(method, data_to_wrap[\u001b[38;5;241m0\u001b[39m], X, \u001b[38;5;28mself\u001b[39m),\n\u001b[0;32m    145\u001b[0m             \u001b[38;5;241m*\u001b[39mdata_to_wrap[\u001b[38;5;241m1\u001b[39m:],\n\u001b[0;32m    146\u001b[0m         )\n",
      "File \u001b[1;32m~\\AppData\\Roaming\\jupyterlab-desktop\\jlab_server\\lib\\site-packages\\sklearn\\base.py:878\u001b[0m, in \u001b[0;36mTransformerMixin.fit_transform\u001b[1;34m(self, X, y, **fit_params)\u001b[0m\n\u001b[0;32m    874\u001b[0m \u001b[38;5;66;03m# non-optimized default implementation; override when a better\u001b[39;00m\n\u001b[0;32m    875\u001b[0m \u001b[38;5;66;03m# method is possible for a given clustering algorithm\u001b[39;00m\n\u001b[0;32m    876\u001b[0m \u001b[38;5;28;01mif\u001b[39;00m y \u001b[38;5;129;01mis\u001b[39;00m \u001b[38;5;28;01mNone\u001b[39;00m:\n\u001b[0;32m    877\u001b[0m     \u001b[38;5;66;03m# fit method of arity 1 (unsupervised transformation)\u001b[39;00m\n\u001b[1;32m--> 878\u001b[0m     \u001b[38;5;28;01mreturn\u001b[39;00m \u001b[38;5;28;43mself\u001b[39;49m\u001b[38;5;241;43m.\u001b[39;49m\u001b[43mfit\u001b[49m\u001b[43m(\u001b[49m\u001b[43mX\u001b[49m\u001b[43m,\u001b[49m\u001b[43m \u001b[49m\u001b[38;5;241;43m*\u001b[39;49m\u001b[38;5;241;43m*\u001b[39;49m\u001b[43mfit_params\u001b[49m\u001b[43m)\u001b[49m\u001b[38;5;241m.\u001b[39mtransform(X)\n\u001b[0;32m    879\u001b[0m \u001b[38;5;28;01melse\u001b[39;00m:\n\u001b[0;32m    880\u001b[0m     \u001b[38;5;66;03m# fit method of arity 2 (supervised transformation)\u001b[39;00m\n\u001b[0;32m    881\u001b[0m     \u001b[38;5;28;01mreturn\u001b[39;00m \u001b[38;5;28mself\u001b[39m\u001b[38;5;241m.\u001b[39mfit(X, y, \u001b[38;5;241m*\u001b[39m\u001b[38;5;241m*\u001b[39mfit_params)\u001b[38;5;241m.\u001b[39mtransform(X)\n",
      "File \u001b[1;32m~\\AppData\\Roaming\\jupyterlab-desktop\\jlab_server\\lib\\site-packages\\sklearn\\preprocessing\\_data.py:824\u001b[0m, in \u001b[0;36mStandardScaler.fit\u001b[1;34m(self, X, y, sample_weight)\u001b[0m\n\u001b[0;32m    822\u001b[0m \u001b[38;5;66;03m# Reset internal state before fitting\u001b[39;00m\n\u001b[0;32m    823\u001b[0m \u001b[38;5;28mself\u001b[39m\u001b[38;5;241m.\u001b[39m_reset()\n\u001b[1;32m--> 824\u001b[0m \u001b[38;5;28;01mreturn\u001b[39;00m \u001b[38;5;28;43mself\u001b[39;49m\u001b[38;5;241;43m.\u001b[39;49m\u001b[43mpartial_fit\u001b[49m\u001b[43m(\u001b[49m\u001b[43mX\u001b[49m\u001b[43m,\u001b[49m\u001b[43m \u001b[49m\u001b[43my\u001b[49m\u001b[43m,\u001b[49m\u001b[43m \u001b[49m\u001b[43msample_weight\u001b[49m\u001b[43m)\u001b[49m\n",
      "File \u001b[1;32m~\\AppData\\Roaming\\jupyterlab-desktop\\jlab_server\\lib\\site-packages\\sklearn\\preprocessing\\_data.py:861\u001b[0m, in \u001b[0;36mStandardScaler.partial_fit\u001b[1;34m(self, X, y, sample_weight)\u001b[0m\n\u001b[0;32m    858\u001b[0m \u001b[38;5;28mself\u001b[39m\u001b[38;5;241m.\u001b[39m_validate_params()\n\u001b[0;32m    860\u001b[0m first_call \u001b[38;5;241m=\u001b[39m \u001b[38;5;129;01mnot\u001b[39;00m \u001b[38;5;28mhasattr\u001b[39m(\u001b[38;5;28mself\u001b[39m, \u001b[38;5;124m\"\u001b[39m\u001b[38;5;124mn_samples_seen_\u001b[39m\u001b[38;5;124m\"\u001b[39m)\n\u001b[1;32m--> 861\u001b[0m X \u001b[38;5;241m=\u001b[39m \u001b[38;5;28;43mself\u001b[39;49m\u001b[38;5;241;43m.\u001b[39;49m\u001b[43m_validate_data\u001b[49m\u001b[43m(\u001b[49m\n\u001b[0;32m    862\u001b[0m \u001b[43m    \u001b[49m\u001b[43mX\u001b[49m\u001b[43m,\u001b[49m\n\u001b[0;32m    863\u001b[0m \u001b[43m    \u001b[49m\u001b[43maccept_sparse\u001b[49m\u001b[38;5;241;43m=\u001b[39;49m\u001b[43m(\u001b[49m\u001b[38;5;124;43m\"\u001b[39;49m\u001b[38;5;124;43mcsr\u001b[39;49m\u001b[38;5;124;43m\"\u001b[39;49m\u001b[43m,\u001b[49m\u001b[43m \u001b[49m\u001b[38;5;124;43m\"\u001b[39;49m\u001b[38;5;124;43mcsc\u001b[39;49m\u001b[38;5;124;43m\"\u001b[39;49m\u001b[43m)\u001b[49m\u001b[43m,\u001b[49m\n\u001b[0;32m    864\u001b[0m \u001b[43m    \u001b[49m\u001b[43mdtype\u001b[49m\u001b[38;5;241;43m=\u001b[39;49m\u001b[43mFLOAT_DTYPES\u001b[49m\u001b[43m,\u001b[49m\n\u001b[0;32m    865\u001b[0m \u001b[43m    \u001b[49m\u001b[43mforce_all_finite\u001b[49m\u001b[38;5;241;43m=\u001b[39;49m\u001b[38;5;124;43m\"\u001b[39;49m\u001b[38;5;124;43mallow-nan\u001b[39;49m\u001b[38;5;124;43m\"\u001b[39;49m\u001b[43m,\u001b[49m\n\u001b[0;32m    866\u001b[0m \u001b[43m    \u001b[49m\u001b[43mreset\u001b[49m\u001b[38;5;241;43m=\u001b[39;49m\u001b[43mfirst_call\u001b[49m\u001b[43m,\u001b[49m\n\u001b[0;32m    867\u001b[0m \u001b[43m\u001b[49m\u001b[43m)\u001b[49m\n\u001b[0;32m    868\u001b[0m n_features \u001b[38;5;241m=\u001b[39m X\u001b[38;5;241m.\u001b[39mshape[\u001b[38;5;241m1\u001b[39m]\n\u001b[0;32m    870\u001b[0m \u001b[38;5;28;01mif\u001b[39;00m sample_weight \u001b[38;5;129;01mis\u001b[39;00m \u001b[38;5;129;01mnot\u001b[39;00m \u001b[38;5;28;01mNone\u001b[39;00m:\n",
      "File \u001b[1;32m~\\AppData\\Roaming\\jupyterlab-desktop\\jlab_server\\lib\\site-packages\\sklearn\\base.py:565\u001b[0m, in \u001b[0;36mBaseEstimator._validate_data\u001b[1;34m(self, X, y, reset, validate_separately, **check_params)\u001b[0m\n\u001b[0;32m    563\u001b[0m     \u001b[38;5;28;01mraise\u001b[39;00m \u001b[38;5;167;01mValueError\u001b[39;00m(\u001b[38;5;124m\"\u001b[39m\u001b[38;5;124mValidation should be done on X, y or both.\u001b[39m\u001b[38;5;124m\"\u001b[39m)\n\u001b[0;32m    564\u001b[0m \u001b[38;5;28;01melif\u001b[39;00m \u001b[38;5;129;01mnot\u001b[39;00m no_val_X \u001b[38;5;129;01mand\u001b[39;00m no_val_y:\n\u001b[1;32m--> 565\u001b[0m     X \u001b[38;5;241m=\u001b[39m \u001b[43mcheck_array\u001b[49m\u001b[43m(\u001b[49m\u001b[43mX\u001b[49m\u001b[43m,\u001b[49m\u001b[43m \u001b[49m\u001b[43minput_name\u001b[49m\u001b[38;5;241;43m=\u001b[39;49m\u001b[38;5;124;43m\"\u001b[39;49m\u001b[38;5;124;43mX\u001b[39;49m\u001b[38;5;124;43m\"\u001b[39;49m\u001b[43m,\u001b[49m\u001b[43m \u001b[49m\u001b[38;5;241;43m*\u001b[39;49m\u001b[38;5;241;43m*\u001b[39;49m\u001b[43mcheck_params\u001b[49m\u001b[43m)\u001b[49m\n\u001b[0;32m    566\u001b[0m     out \u001b[38;5;241m=\u001b[39m X\n\u001b[0;32m    567\u001b[0m \u001b[38;5;28;01melif\u001b[39;00m no_val_X \u001b[38;5;129;01mand\u001b[39;00m \u001b[38;5;129;01mnot\u001b[39;00m no_val_y:\n",
      "File \u001b[1;32m~\\AppData\\Roaming\\jupyterlab-desktop\\jlab_server\\lib\\site-packages\\sklearn\\utils\\validation.py:879\u001b[0m, in \u001b[0;36mcheck_array\u001b[1;34m(array, accept_sparse, accept_large_sparse, dtype, order, copy, force_all_finite, ensure_2d, allow_nd, ensure_min_samples, ensure_min_features, estimator, input_name)\u001b[0m\n\u001b[0;32m    877\u001b[0m         array \u001b[38;5;241m=\u001b[39m xp\u001b[38;5;241m.\u001b[39mastype(array, dtype, copy\u001b[38;5;241m=\u001b[39m\u001b[38;5;28;01mFalse\u001b[39;00m)\n\u001b[0;32m    878\u001b[0m     \u001b[38;5;28;01melse\u001b[39;00m:\n\u001b[1;32m--> 879\u001b[0m         array \u001b[38;5;241m=\u001b[39m \u001b[43m_asarray_with_order\u001b[49m\u001b[43m(\u001b[49m\u001b[43marray\u001b[49m\u001b[43m,\u001b[49m\u001b[43m \u001b[49m\u001b[43morder\u001b[49m\u001b[38;5;241;43m=\u001b[39;49m\u001b[43morder\u001b[49m\u001b[43m,\u001b[49m\u001b[43m \u001b[49m\u001b[43mdtype\u001b[49m\u001b[38;5;241;43m=\u001b[39;49m\u001b[43mdtype\u001b[49m\u001b[43m,\u001b[49m\u001b[43m \u001b[49m\u001b[43mxp\u001b[49m\u001b[38;5;241;43m=\u001b[39;49m\u001b[43mxp\u001b[49m\u001b[43m)\u001b[49m\n\u001b[0;32m    880\u001b[0m \u001b[38;5;28;01mexcept\u001b[39;00m ComplexWarning \u001b[38;5;28;01mas\u001b[39;00m complex_warning:\n\u001b[0;32m    881\u001b[0m     \u001b[38;5;28;01mraise\u001b[39;00m \u001b[38;5;167;01mValueError\u001b[39;00m(\n\u001b[0;32m    882\u001b[0m         \u001b[38;5;124m\"\u001b[39m\u001b[38;5;124mComplex data not supported\u001b[39m\u001b[38;5;130;01m\\n\u001b[39;00m\u001b[38;5;132;01m{}\u001b[39;00m\u001b[38;5;130;01m\\n\u001b[39;00m\u001b[38;5;124m\"\u001b[39m\u001b[38;5;241m.\u001b[39mformat(array)\n\u001b[0;32m    883\u001b[0m     ) \u001b[38;5;28;01mfrom\u001b[39;00m \u001b[38;5;21;01mcomplex_warning\u001b[39;00m\n",
      "File \u001b[1;32m~\\AppData\\Roaming\\jupyterlab-desktop\\jlab_server\\lib\\site-packages\\sklearn\\utils\\_array_api.py:185\u001b[0m, in \u001b[0;36m_asarray_with_order\u001b[1;34m(array, dtype, order, copy, xp)\u001b[0m\n\u001b[0;32m    182\u001b[0m     xp, _ \u001b[38;5;241m=\u001b[39m get_namespace(array)\n\u001b[0;32m    183\u001b[0m \u001b[38;5;28;01mif\u001b[39;00m xp\u001b[38;5;241m.\u001b[39m\u001b[38;5;18m__name__\u001b[39m \u001b[38;5;129;01min\u001b[39;00m {\u001b[38;5;124m\"\u001b[39m\u001b[38;5;124mnumpy\u001b[39m\u001b[38;5;124m\"\u001b[39m, \u001b[38;5;124m\"\u001b[39m\u001b[38;5;124mnumpy.array_api\u001b[39m\u001b[38;5;124m\"\u001b[39m}:\n\u001b[0;32m    184\u001b[0m     \u001b[38;5;66;03m# Use NumPy API to support order\u001b[39;00m\n\u001b[1;32m--> 185\u001b[0m     array \u001b[38;5;241m=\u001b[39m \u001b[43mnumpy\u001b[49m\u001b[38;5;241;43m.\u001b[39;49m\u001b[43masarray\u001b[49m\u001b[43m(\u001b[49m\u001b[43marray\u001b[49m\u001b[43m,\u001b[49m\u001b[43m \u001b[49m\u001b[43morder\u001b[49m\u001b[38;5;241;43m=\u001b[39;49m\u001b[43morder\u001b[49m\u001b[43m,\u001b[49m\u001b[43m \u001b[49m\u001b[43mdtype\u001b[49m\u001b[38;5;241;43m=\u001b[39;49m\u001b[43mdtype\u001b[49m\u001b[43m)\u001b[49m\n\u001b[0;32m    186\u001b[0m     \u001b[38;5;28;01mreturn\u001b[39;00m xp\u001b[38;5;241m.\u001b[39masarray(array, copy\u001b[38;5;241m=\u001b[39mcopy)\n\u001b[0;32m    187\u001b[0m \u001b[38;5;28;01melse\u001b[39;00m:\n",
      "\u001b[1;31mValueError\u001b[0m: setting an array element with a sequence."
     ]
    }
   ],
   "source": [
    "from sklearn.preprocessing import StandardScaler\n",
    "\n",
    "# Auswahl der Merkmale\n",
    "textual_feature = df['bert'].to_numpy()\n",
    "audiovisual_feature = df['mfcc_bow'].to_numpy()  # oder df['resnet'].to_numpy() je nach Auswahl\n",
    "\n",
    "# Vorbereitung der Daten und Merkmale\n",
    "# ...\n",
    "\n",
    "# Standardisierung der Merkmale\n",
    "scaler_textual = StandardScaler()\n",
    "scaler_audiovisual = StandardScaler()\n",
    "\n",
    "textual_feature = scaler_textual.fit_transform(textual_feature.reshape(-1, 1))\n",
    "audiovisual_feature = scaler_audiovisual.fit_transform(audiovisual_feature.reshape(-1, 1))\n",
    "\n",
    "# Fusionstechnik: Einfacher Durchschnitt\n",
    "early_fusion_feature = (textual_feature + audiovisual_feature) / 2\n",
    "\n",
    "# Füge das fusionierte Merkmal zum DataFrame hinzu\n",
    "df['early_fusion'] = early_fusion_feature\n",
    "\n",
    "# Retrieval auf der Grundlage des fusionierten Merkmals\n",
    "rs_cos_early_fusion = RetrievalSystem(\n",
    "    df=df,\n",
    "    sim_metric=cosine_similarity,\n",
    "    sim_feature=\"early_fusion\",\n",
    ")\n"
   ]
  },
  {
   "cell_type": "code",
   "execution_count": 41,
   "metadata": {
    "tags": []
   },
   "outputs": [
    {
     "ename": "ValueError",
     "evalue": "setting an array element with a sequence.",
     "output_type": "error",
     "traceback": [
      "\u001b[1;31m---------------------------------------------------------------------------\u001b[0m",
      "\u001b[1;31mTypeError\u001b[0m                                 Traceback (most recent call last)",
      "\u001b[1;31mTypeError\u001b[0m: only size-1 arrays can be converted to Python scalars",
      "\nThe above exception was the direct cause of the following exception:\n",
      "\u001b[1;31mValueError\u001b[0m                                Traceback (most recent call last)",
      "Cell \u001b[1;32mIn[41], line 17\u001b[0m\n\u001b[0;32m     15\u001b[0m \u001b[38;5;66;03m# Apply PCA to reduce dimensionality\u001b[39;00m\n\u001b[0;32m     16\u001b[0m pca \u001b[38;5;241m=\u001b[39m PCA(n_components\u001b[38;5;241m=\u001b[39m\u001b[38;5;241m1\u001b[39m)\n\u001b[1;32m---> 17\u001b[0m combined_features_pca \u001b[38;5;241m=\u001b[39m \u001b[43mpca\u001b[49m\u001b[38;5;241;43m.\u001b[39;49m\u001b[43mfit_transform\u001b[49m\u001b[43m(\u001b[49m\u001b[43mcombined_features\u001b[49m\u001b[43m)\u001b[49m\n\u001b[0;32m     19\u001b[0m \u001b[38;5;66;03m# Initialize StandardScaler\u001b[39;00m\n\u001b[0;32m     20\u001b[0m scaler \u001b[38;5;241m=\u001b[39m StandardScaler()\n",
      "File \u001b[1;32m~\\AppData\\Roaming\\jupyterlab-desktop\\jlab_server\\lib\\site-packages\\sklearn\\utils\\_set_output.py:140\u001b[0m, in \u001b[0;36m_wrap_method_output.<locals>.wrapped\u001b[1;34m(self, X, *args, **kwargs)\u001b[0m\n\u001b[0;32m    138\u001b[0m \u001b[38;5;129m@wraps\u001b[39m(f)\n\u001b[0;32m    139\u001b[0m \u001b[38;5;28;01mdef\u001b[39;00m \u001b[38;5;21mwrapped\u001b[39m(\u001b[38;5;28mself\u001b[39m, X, \u001b[38;5;241m*\u001b[39margs, \u001b[38;5;241m*\u001b[39m\u001b[38;5;241m*\u001b[39mkwargs):\n\u001b[1;32m--> 140\u001b[0m     data_to_wrap \u001b[38;5;241m=\u001b[39m \u001b[43mf\u001b[49m\u001b[43m(\u001b[49m\u001b[38;5;28;43mself\u001b[39;49m\u001b[43m,\u001b[49m\u001b[43m \u001b[49m\u001b[43mX\u001b[49m\u001b[43m,\u001b[49m\u001b[43m \u001b[49m\u001b[38;5;241;43m*\u001b[39;49m\u001b[43margs\u001b[49m\u001b[43m,\u001b[49m\u001b[43m \u001b[49m\u001b[38;5;241;43m*\u001b[39;49m\u001b[38;5;241;43m*\u001b[39;49m\u001b[43mkwargs\u001b[49m\u001b[43m)\u001b[49m\n\u001b[0;32m    141\u001b[0m     \u001b[38;5;28;01mif\u001b[39;00m \u001b[38;5;28misinstance\u001b[39m(data_to_wrap, \u001b[38;5;28mtuple\u001b[39m):\n\u001b[0;32m    142\u001b[0m         \u001b[38;5;66;03m# only wrap the first output for cross decomposition\u001b[39;00m\n\u001b[0;32m    143\u001b[0m         \u001b[38;5;28;01mreturn\u001b[39;00m (\n\u001b[0;32m    144\u001b[0m             _wrap_data_with_container(method, data_to_wrap[\u001b[38;5;241m0\u001b[39m], X, \u001b[38;5;28mself\u001b[39m),\n\u001b[0;32m    145\u001b[0m             \u001b[38;5;241m*\u001b[39mdata_to_wrap[\u001b[38;5;241m1\u001b[39m:],\n\u001b[0;32m    146\u001b[0m         )\n",
      "File \u001b[1;32m~\\AppData\\Roaming\\jupyterlab-desktop\\jlab_server\\lib\\site-packages\\sklearn\\decomposition\\_pca.py:462\u001b[0m, in \u001b[0;36mPCA.fit_transform\u001b[1;34m(self, X, y)\u001b[0m\n\u001b[0;32m    439\u001b[0m \u001b[38;5;250m\u001b[39m\u001b[38;5;124;03m\"\"\"Fit the model with X and apply the dimensionality reduction on X.\u001b[39;00m\n\u001b[0;32m    440\u001b[0m \n\u001b[0;32m    441\u001b[0m \u001b[38;5;124;03mParameters\u001b[39;00m\n\u001b[1;32m   (...)\u001b[0m\n\u001b[0;32m    458\u001b[0m \u001b[38;5;124;03mC-ordered array, use 'np.ascontiguousarray'.\u001b[39;00m\n\u001b[0;32m    459\u001b[0m \u001b[38;5;124;03m\"\"\"\u001b[39;00m\n\u001b[0;32m    460\u001b[0m \u001b[38;5;28mself\u001b[39m\u001b[38;5;241m.\u001b[39m_validate_params()\n\u001b[1;32m--> 462\u001b[0m U, S, Vt \u001b[38;5;241m=\u001b[39m \u001b[38;5;28;43mself\u001b[39;49m\u001b[38;5;241;43m.\u001b[39;49m\u001b[43m_fit\u001b[49m\u001b[43m(\u001b[49m\u001b[43mX\u001b[49m\u001b[43m)\u001b[49m\n\u001b[0;32m    463\u001b[0m U \u001b[38;5;241m=\u001b[39m U[:, : \u001b[38;5;28mself\u001b[39m\u001b[38;5;241m.\u001b[39mn_components_]\n\u001b[0;32m    465\u001b[0m \u001b[38;5;28;01mif\u001b[39;00m \u001b[38;5;28mself\u001b[39m\u001b[38;5;241m.\u001b[39mwhiten:\n\u001b[0;32m    466\u001b[0m     \u001b[38;5;66;03m# X_new = X * V / S * sqrt(n_samples) = U * sqrt(n_samples)\u001b[39;00m\n",
      "File \u001b[1;32m~\\AppData\\Roaming\\jupyterlab-desktop\\jlab_server\\lib\\site-packages\\sklearn\\decomposition\\_pca.py:485\u001b[0m, in \u001b[0;36mPCA._fit\u001b[1;34m(self, X)\u001b[0m\n\u001b[0;32m    479\u001b[0m \u001b[38;5;28;01mif\u001b[39;00m issparse(X):\n\u001b[0;32m    480\u001b[0m     \u001b[38;5;28;01mraise\u001b[39;00m \u001b[38;5;167;01mTypeError\u001b[39;00m(\n\u001b[0;32m    481\u001b[0m         \u001b[38;5;124m\"\u001b[39m\u001b[38;5;124mPCA does not support sparse input. See \u001b[39m\u001b[38;5;124m\"\u001b[39m\n\u001b[0;32m    482\u001b[0m         \u001b[38;5;124m\"\u001b[39m\u001b[38;5;124mTruncatedSVD for a possible alternative.\u001b[39m\u001b[38;5;124m\"\u001b[39m\n\u001b[0;32m    483\u001b[0m     )\n\u001b[1;32m--> 485\u001b[0m X \u001b[38;5;241m=\u001b[39m \u001b[38;5;28;43mself\u001b[39;49m\u001b[38;5;241;43m.\u001b[39;49m\u001b[43m_validate_data\u001b[49m\u001b[43m(\u001b[49m\n\u001b[0;32m    486\u001b[0m \u001b[43m    \u001b[49m\u001b[43mX\u001b[49m\u001b[43m,\u001b[49m\u001b[43m \u001b[49m\u001b[43mdtype\u001b[49m\u001b[38;5;241;43m=\u001b[39;49m\u001b[43m[\u001b[49m\u001b[43mnp\u001b[49m\u001b[38;5;241;43m.\u001b[39;49m\u001b[43mfloat64\u001b[49m\u001b[43m,\u001b[49m\u001b[43m \u001b[49m\u001b[43mnp\u001b[49m\u001b[38;5;241;43m.\u001b[39;49m\u001b[43mfloat32\u001b[49m\u001b[43m]\u001b[49m\u001b[43m,\u001b[49m\u001b[43m \u001b[49m\u001b[43mensure_2d\u001b[49m\u001b[38;5;241;43m=\u001b[39;49m\u001b[38;5;28;43;01mTrue\u001b[39;49;00m\u001b[43m,\u001b[49m\u001b[43m \u001b[49m\u001b[43mcopy\u001b[49m\u001b[38;5;241;43m=\u001b[39;49m\u001b[38;5;28;43mself\u001b[39;49m\u001b[38;5;241;43m.\u001b[39;49m\u001b[43mcopy\u001b[49m\n\u001b[0;32m    487\u001b[0m \u001b[43m\u001b[49m\u001b[43m)\u001b[49m\n\u001b[0;32m    489\u001b[0m \u001b[38;5;66;03m# Handle n_components==None\u001b[39;00m\n\u001b[0;32m    490\u001b[0m \u001b[38;5;28;01mif\u001b[39;00m \u001b[38;5;28mself\u001b[39m\u001b[38;5;241m.\u001b[39mn_components \u001b[38;5;129;01mis\u001b[39;00m \u001b[38;5;28;01mNone\u001b[39;00m:\n",
      "File \u001b[1;32m~\\AppData\\Roaming\\jupyterlab-desktop\\jlab_server\\lib\\site-packages\\sklearn\\base.py:565\u001b[0m, in \u001b[0;36mBaseEstimator._validate_data\u001b[1;34m(self, X, y, reset, validate_separately, **check_params)\u001b[0m\n\u001b[0;32m    563\u001b[0m     \u001b[38;5;28;01mraise\u001b[39;00m \u001b[38;5;167;01mValueError\u001b[39;00m(\u001b[38;5;124m\"\u001b[39m\u001b[38;5;124mValidation should be done on X, y or both.\u001b[39m\u001b[38;5;124m\"\u001b[39m)\n\u001b[0;32m    564\u001b[0m \u001b[38;5;28;01melif\u001b[39;00m \u001b[38;5;129;01mnot\u001b[39;00m no_val_X \u001b[38;5;129;01mand\u001b[39;00m no_val_y:\n\u001b[1;32m--> 565\u001b[0m     X \u001b[38;5;241m=\u001b[39m \u001b[43mcheck_array\u001b[49m\u001b[43m(\u001b[49m\u001b[43mX\u001b[49m\u001b[43m,\u001b[49m\u001b[43m \u001b[49m\u001b[43minput_name\u001b[49m\u001b[38;5;241;43m=\u001b[39;49m\u001b[38;5;124;43m\"\u001b[39;49m\u001b[38;5;124;43mX\u001b[39;49m\u001b[38;5;124;43m\"\u001b[39;49m\u001b[43m,\u001b[49m\u001b[43m \u001b[49m\u001b[38;5;241;43m*\u001b[39;49m\u001b[38;5;241;43m*\u001b[39;49m\u001b[43mcheck_params\u001b[49m\u001b[43m)\u001b[49m\n\u001b[0;32m    566\u001b[0m     out \u001b[38;5;241m=\u001b[39m X\n\u001b[0;32m    567\u001b[0m \u001b[38;5;28;01melif\u001b[39;00m no_val_X \u001b[38;5;129;01mand\u001b[39;00m \u001b[38;5;129;01mnot\u001b[39;00m no_val_y:\n",
      "File \u001b[1;32m~\\AppData\\Roaming\\jupyterlab-desktop\\jlab_server\\lib\\site-packages\\sklearn\\utils\\validation.py:879\u001b[0m, in \u001b[0;36mcheck_array\u001b[1;34m(array, accept_sparse, accept_large_sparse, dtype, order, copy, force_all_finite, ensure_2d, allow_nd, ensure_min_samples, ensure_min_features, estimator, input_name)\u001b[0m\n\u001b[0;32m    877\u001b[0m         array \u001b[38;5;241m=\u001b[39m xp\u001b[38;5;241m.\u001b[39mastype(array, dtype, copy\u001b[38;5;241m=\u001b[39m\u001b[38;5;28;01mFalse\u001b[39;00m)\n\u001b[0;32m    878\u001b[0m     \u001b[38;5;28;01melse\u001b[39;00m:\n\u001b[1;32m--> 879\u001b[0m         array \u001b[38;5;241m=\u001b[39m \u001b[43m_asarray_with_order\u001b[49m\u001b[43m(\u001b[49m\u001b[43marray\u001b[49m\u001b[43m,\u001b[49m\u001b[43m \u001b[49m\u001b[43morder\u001b[49m\u001b[38;5;241;43m=\u001b[39;49m\u001b[43morder\u001b[49m\u001b[43m,\u001b[49m\u001b[43m \u001b[49m\u001b[43mdtype\u001b[49m\u001b[38;5;241;43m=\u001b[39;49m\u001b[43mdtype\u001b[49m\u001b[43m,\u001b[49m\u001b[43m \u001b[49m\u001b[43mxp\u001b[49m\u001b[38;5;241;43m=\u001b[39;49m\u001b[43mxp\u001b[49m\u001b[43m)\u001b[49m\n\u001b[0;32m    880\u001b[0m \u001b[38;5;28;01mexcept\u001b[39;00m ComplexWarning \u001b[38;5;28;01mas\u001b[39;00m complex_warning:\n\u001b[0;32m    881\u001b[0m     \u001b[38;5;28;01mraise\u001b[39;00m \u001b[38;5;167;01mValueError\u001b[39;00m(\n\u001b[0;32m    882\u001b[0m         \u001b[38;5;124m\"\u001b[39m\u001b[38;5;124mComplex data not supported\u001b[39m\u001b[38;5;130;01m\\n\u001b[39;00m\u001b[38;5;132;01m{}\u001b[39;00m\u001b[38;5;130;01m\\n\u001b[39;00m\u001b[38;5;124m\"\u001b[39m\u001b[38;5;241m.\u001b[39mformat(array)\n\u001b[0;32m    883\u001b[0m     ) \u001b[38;5;28;01mfrom\u001b[39;00m \u001b[38;5;21;01mcomplex_warning\u001b[39;00m\n",
      "File \u001b[1;32m~\\AppData\\Roaming\\jupyterlab-desktop\\jlab_server\\lib\\site-packages\\sklearn\\utils\\_array_api.py:185\u001b[0m, in \u001b[0;36m_asarray_with_order\u001b[1;34m(array, dtype, order, copy, xp)\u001b[0m\n\u001b[0;32m    182\u001b[0m     xp, _ \u001b[38;5;241m=\u001b[39m get_namespace(array)\n\u001b[0;32m    183\u001b[0m \u001b[38;5;28;01mif\u001b[39;00m xp\u001b[38;5;241m.\u001b[39m\u001b[38;5;18m__name__\u001b[39m \u001b[38;5;129;01min\u001b[39;00m {\u001b[38;5;124m\"\u001b[39m\u001b[38;5;124mnumpy\u001b[39m\u001b[38;5;124m\"\u001b[39m, \u001b[38;5;124m\"\u001b[39m\u001b[38;5;124mnumpy.array_api\u001b[39m\u001b[38;5;124m\"\u001b[39m}:\n\u001b[0;32m    184\u001b[0m     \u001b[38;5;66;03m# Use NumPy API to support order\u001b[39;00m\n\u001b[1;32m--> 185\u001b[0m     array \u001b[38;5;241m=\u001b[39m \u001b[43mnumpy\u001b[49m\u001b[38;5;241;43m.\u001b[39;49m\u001b[43masarray\u001b[49m\u001b[43m(\u001b[49m\u001b[43marray\u001b[49m\u001b[43m,\u001b[49m\u001b[43m \u001b[49m\u001b[43morder\u001b[49m\u001b[38;5;241;43m=\u001b[39;49m\u001b[43morder\u001b[49m\u001b[43m,\u001b[49m\u001b[43m \u001b[49m\u001b[43mdtype\u001b[49m\u001b[38;5;241;43m=\u001b[39;49m\u001b[43mdtype\u001b[49m\u001b[43m)\u001b[49m\n\u001b[0;32m    186\u001b[0m     \u001b[38;5;28;01mreturn\u001b[39;00m xp\u001b[38;5;241m.\u001b[39masarray(array, copy\u001b[38;5;241m=\u001b[39mcopy)\n\u001b[0;32m    187\u001b[0m \u001b[38;5;28;01melse\u001b[39;00m:\n",
      "\u001b[1;31mValueError\u001b[0m: setting an array element with a sequence."
     ]
    }
   ],
   "source": [
    "from sklearn.decomposition import PCA\n",
    "from sklearn.preprocessing import StandardScaler\n",
    "\n",
    "# Example data\n",
    "textual_feature = df['bert'].to_numpy()\n",
    "audiovisual_feature = df['mfcc_bow'].to_numpy()\n",
    "\n",
    "# Reshape the features to 2D arrays\n",
    "textual_feature = textual_feature.reshape(-1, 1)\n",
    "audiovisual_feature = audiovisual_feature.reshape(-1, 1)\n",
    "\n",
    "# Concatenate the features along the columns\n",
    "combined_features = np.concatenate((textual_feature, audiovisual_feature), axis=1)\n",
    "\n",
    "# Apply PCA to reduce dimensionality\n",
    "pca = PCA(n_components=1)\n",
    "combined_features_pca = pca.fit_transform(combined_features)\n",
    "\n",
    "# Initialize StandardScaler\n",
    "scaler = StandardScaler()\n",
    "\n",
    "# Fit and transform the PCA-transformed features\n",
    "scaled_features = scaler.fit_transform(combined_features_pca)\n",
    "\n",
    "# Now scaled_features contains the combined and scaled features\n"
   ]
  },
  {
   "cell_type": "code",
   "execution_count": 34,
   "metadata": {
    "tags": []
   },
   "outputs": [],
   "source": [
    "sample_song = SongInfo(title=\"Zombie\", artist=\"The Cranberries\")\n",
    "# query most be a pd.Series --> convert here\n",
    "sample_query = df[\n",
    "    (df[\"song\"] == sample_song.title) & (df[\"artist\"] == sample_song.artist)\n",
    "].iloc[0]"
   ]
  },
  {
   "cell_type": "code",
   "execution_count": 35,
   "metadata": {
    "tags": []
   },
   "outputs": [
    {
     "data": {
      "text/plain": [
       "{'alternative rock',\n",
       " 'celtic',\n",
       " 'celtic rock',\n",
       " 'classic rock',\n",
       " 'grunge',\n",
       " 'hard rock',\n",
       " 'indie rock',\n",
       " 'irish rock',\n",
       " 'metal',\n",
       " 'pop',\n",
       " 'pop rock',\n",
       " 'post grunge',\n",
       " 'rock',\n",
       " 'soft rock'}"
      ]
     },
     "execution_count": 35,
     "metadata": {},
     "output_type": "execute_result"
    }
   ],
   "source": [
    "sample_query.genre"
   ]
  },
  {
   "cell_type": "code",
   "execution_count": 36,
   "metadata": {
    "tags": []
   },
   "outputs": [],
   "source": [
    "results = rs_cos_resnet.retrieve(sample_song, 10)"
   ]
  },
  {
   "cell_type": "code",
   "execution_count": 37,
   "metadata": {
    "tags": []
   },
   "outputs": [
    {
     "data": {
      "text/html": [
       "<div>\n",
       "<style scoped>\n",
       "    .dataframe tbody tr th:only-of-type {\n",
       "        vertical-align: middle;\n",
       "    }\n",
       "\n",
       "    .dataframe tbody tr th {\n",
       "        vertical-align: top;\n",
       "    }\n",
       "\n",
       "    .dataframe thead th {\n",
       "        text-align: right;\n",
       "    }\n",
       "</style>\n",
       "<table border=\"1\" class=\"dataframe\">\n",
       "  <thead>\n",
       "    <tr style=\"text-align: right;\">\n",
       "      <th></th>\n",
       "      <th>index</th>\n",
       "      <th>id</th>\n",
       "      <th>artist</th>\n",
       "      <th>song</th>\n",
       "      <th>album_name</th>\n",
       "      <th>genre</th>\n",
       "      <th>resnet</th>\n",
       "      <th>mfcc_bow</th>\n",
       "      <th>blf_spectral</th>\n",
       "      <th>ivec256</th>\n",
       "      <th>musicnn</th>\n",
       "      <th>bert</th>\n",
       "      <th>word2vec</th>\n",
       "      <th>similarity</th>\n",
       "    </tr>\n",
       "  </thead>\n",
       "  <tbody>\n",
       "    <tr>\n",
       "      <th>0</th>\n",
       "      <td>1350</td>\n",
       "      <td>87dM2jCka3uQ9jCe</td>\n",
       "      <td>Cannibal Corpse</td>\n",
       "      <td>Kill or Become</td>\n",
       "      <td>A Skeletal Domain</td>\n",
       "      <td>{technical death metal, metal, brutal death me...</td>\n",
       "      <td>[3.362233, 2.601369, 1.600803, 0.060141, 0.095...</td>\n",
       "      <td>[0.0, 0.0, 2.3344537999999995, 0.0, 0.0, 0.0, ...</td>\n",
       "      <td>[-0.0240165, -0.0199949, -0.0172412, -0.014370...</td>\n",
       "      <td>[-0.4084688127040863, -1.7257150411605835, 0.2...</td>\n",
       "      <td>[0.10409315, 0.0003639398, 0.0018088311, 0.172...</td>\n",
       "      <td>[0.0218665041029453, 0.0542871952056884, 0.021...</td>\n",
       "      <td>[0.0381368775672069, 0.0218782743709233, 0.008...</td>\n",
       "      <td>0.916257</td>\n",
       "    </tr>\n",
       "    <tr>\n",
       "      <th>1</th>\n",
       "      <td>2383</td>\n",
       "      <td>EPq10w8WXMzn6SiM</td>\n",
       "      <td>Lamb of God</td>\n",
       "      <td>Overlord</td>\n",
       "      <td>VII: Sturm Und Drang (Deluxe)</td>\n",
       "      <td>{hard rock, alternative rock, deathcore, grind...</td>\n",
       "      <td>[1.898288, 2.382536, 1.860425, 0.11504, 0.1967...</td>\n",
       "      <td>[0.0, 0.0, 2.3926969, 0.0, 0.0, 0.0, 2.9159272...</td>\n",
       "      <td>[-0.0285346, -0.0240487, -0.0222086, -0.018877...</td>\n",
       "      <td>[-0.6786251068115234, -0.8794464468955994, 0.1...</td>\n",
       "      <td>[0.22721322, 0.0007293002, 0.01049833, 0.04474...</td>\n",
       "      <td>[0.0362034477293491, 0.0077602691017091, 0.001...</td>\n",
       "      <td>[0.0377602214862373, 0.0091797875074641, -0.00...</td>\n",
       "      <td>0.911563</td>\n",
       "    </tr>\n",
       "    <tr>\n",
       "      <th>2</th>\n",
       "      <td>3422</td>\n",
       "      <td>L3Kp1jbgQ610Ug6z</td>\n",
       "      <td>Madonna</td>\n",
       "      <td>Spanish Eyes</td>\n",
       "      <td>Like a Prayer</td>\n",
       "      <td>{pop, latin, singer songwriter}</td>\n",
       "      <td>[2.155628, 2.735073, 1.582092, 0.15057, 0.0772...</td>\n",
       "      <td>[1.3222193000000002, 0.0, 1.770852, 0.0, 1.857...</td>\n",
       "      <td>[-0.031409, -0.0261219, -0.0239373, -0.0207116...</td>\n",
       "      <td>[0.9031068086624146, 0.3960944414138794, -0.27...</td>\n",
       "      <td>[0.31000128, 0.0033261061, 0.077820435, 0.0101...</td>\n",
       "      <td>[-0.0262783914804458, 0.0460927821695804, -0.0...</td>\n",
       "      <td>[0.023038339332325, 0.0050681515854808, 0.0258...</td>\n",
       "      <td>0.909842</td>\n",
       "    </tr>\n",
       "    <tr>\n",
       "      <th>3</th>\n",
       "      <td>4953</td>\n",
       "      <td>UOuWHCEIps7Mjz3E</td>\n",
       "      <td>Oasis</td>\n",
       "      <td>Shakermaker</td>\n",
       "      <td>Definitely Maybe (Remastered) [Deluxe Edition]</td>\n",
       "      <td>{soft rock, alternative rock, grunge, rock and...</td>\n",
       "      <td>[1.827026, 2.029464, 2.199537, 0.053277, 0.056...</td>\n",
       "      <td>[0.0, 0.0, 1.462398, 0.0, 0.0, 0.0, 2.1931245,...</td>\n",
       "      <td>[-0.0331521, -0.0284585, -0.0256427, -0.022688...</td>\n",
       "      <td>[-1.3665876388549805, -0.6717993021011353, -1....</td>\n",
       "      <td>[0.38178083, 0.0028633927, 0.046525437, 0.0209...</td>\n",
       "      <td>[0.0184765495359897, 0.0482282564043998, -0.02...</td>\n",
       "      <td>[0.0095084663467866, 0.0075772250553279, 0.013...</td>\n",
       "      <td>0.907669</td>\n",
       "    </tr>\n",
       "    <tr>\n",
       "      <th>4</th>\n",
       "      <td>7505</td>\n",
       "      <td>kGqt1SWYRG5M2X32</td>\n",
       "      <td>Paramore</td>\n",
       "      <td>Careful</td>\n",
       "      <td>brand new eyes</td>\n",
       "      <td>{indie punk, alternative rock, pop rock, pop p...</td>\n",
       "      <td>[1.278383, 2.580097, 2.079799, 0.014902, 0.116...</td>\n",
       "      <td>[1.4771212, 0.0, 1.7160033, 0.0, 0.84509799999...</td>\n",
       "      <td>[-0.029709, -0.0261018, -0.0212901, -0.0193414...</td>\n",
       "      <td>[-0.5033568739891052, 0.167227953672409, -0.67...</td>\n",
       "      <td>[0.29173714, 0.0030574615, 0.01691651, 0.04722...</td>\n",
       "      <td>[0.0268798135221004, 0.0295519027858972, -0.01...</td>\n",
       "      <td>[0.0314850911620612, 0.0170346358741976, 0.016...</td>\n",
       "      <td>0.906508</td>\n",
       "    </tr>\n",
       "    <tr>\n",
       "      <th>5</th>\n",
       "      <td>7534</td>\n",
       "      <td>kSDPUwWDCOkb8wOX</td>\n",
       "      <td>Cutting Crew</td>\n",
       "      <td>(I Just) Died in Your Arms</td>\n",
       "      <td>The Best Of Cutting Crew</td>\n",
       "      <td>{soft rock, pop rock, pop, classic rock, new w...</td>\n",
       "      <td>[0.856041, 1.370697, 1.149933, 0.017608, 0.055...</td>\n",
       "      <td>[1.7993406000000003, 0.0, 2.9836264, 0.0, 1.04...</td>\n",
       "      <td>[-0.0297599, -0.0242387, -0.0212726, -0.018415...</td>\n",
       "      <td>[-0.5980198383331299, 1.3942530155181885, -1.3...</td>\n",
       "      <td>[0.21125002, 0.017314926, 0.1454034, 0.0510449...</td>\n",
       "      <td>[0.0297185182571411, -0.0331318564713001, -0.0...</td>\n",
       "      <td>[0.0222849311511963, 0.0161594967748969, 0.025...</td>\n",
       "      <td>0.904957</td>\n",
       "    </tr>\n",
       "    <tr>\n",
       "      <th>6</th>\n",
       "      <td>2565</td>\n",
       "      <td>FakoHKQAGT6gFXP0</td>\n",
       "      <td>16 Horsepower</td>\n",
       "      <td>Haw</td>\n",
       "      <td>16 Horsepower</td>\n",
       "      <td>{alternative rock, folk, gothic americana, alt...</td>\n",
       "      <td>[1.119987, 2.550595, 0.915632, 0.099561, 0.100...</td>\n",
       "      <td>[0.9542425, 0.0, 2.423246, 0.0, 0.69897, 0.0, ...</td>\n",
       "      <td>[-0.0291433, -0.0235362, -0.0200929, -0.018264...</td>\n",
       "      <td>[-0.7194744348526001, 1.293039083480835, -0.80...</td>\n",
       "      <td>[0.16388904, 0.011580788, 0.07119308, 0.013694...</td>\n",
       "      <td>[-0.0031567083206027, 0.013839672319591, -0.01...</td>\n",
       "      <td>[0.0319615606463179, 0.0277835686986721, 0.007...</td>\n",
       "      <td>0.904899</td>\n",
       "    </tr>\n",
       "    <tr>\n",
       "      <th>7</th>\n",
       "      <td>7806</td>\n",
       "      <td>m3SLg1agLGfpMdSz</td>\n",
       "      <td>Social Distortion</td>\n",
       "      <td>Ball and Chain</td>\n",
       "      <td>Social Distortion</td>\n",
       "      <td>{classic rock, psychobilly, rock, hard rock, a...</td>\n",
       "      <td>[1.174189, 4.374656, 1.446732, 0.04104, 0.1384...</td>\n",
       "      <td>[0.0, 0.0, 1.8129133, 0.0, 0.0, 0.0, 2.6404815...</td>\n",
       "      <td>[-0.0322196, -0.0281729, -0.0251473, -0.022514...</td>\n",
       "      <td>[-1.1478033065795898, -0.4399683177471161, -0....</td>\n",
       "      <td>[0.26841068, 0.015795391, 0.039577536, 0.03961...</td>\n",
       "      <td>[0.0115926610305905, 0.066615305840969, -0.013...</td>\n",
       "      <td>[0.0075676868163785, 0.0045994627842806, -0.01...</td>\n",
       "      <td>0.904252</td>\n",
       "    </tr>\n",
       "    <tr>\n",
       "      <th>8</th>\n",
       "      <td>4352</td>\n",
       "      <td>Qh5XjFCInkeOAYzu</td>\n",
       "      <td>Supergrass</td>\n",
       "      <td>Time</td>\n",
       "      <td>I Should Coco</td>\n",
       "      <td>{alternative rock, britpop, rock}</td>\n",
       "      <td>[2.607488, 1.905045, 1.598125, 0.043524, 0.140...</td>\n",
       "      <td>[1.30103, 0.0, 2.7986507, 0.0, 1.146128, 0.0, ...</td>\n",
       "      <td>[-0.0281839, -0.0231233, -0.0205871, -0.018480...</td>\n",
       "      <td>[-0.9925559759140016, 0.9616437554359436, -0.4...</td>\n",
       "      <td>[0.23766568, 0.012333871, 0.11792787, 0.092258...</td>\n",
       "      <td>[-0.0017348146066069, 0.0078667551279068, -0.0...</td>\n",
       "      <td>[0.0187828158411909, -0.0109101621269741, -0.0...</td>\n",
       "      <td>0.903758</td>\n",
       "    </tr>\n",
       "    <tr>\n",
       "      <th>9</th>\n",
       "      <td>6452</td>\n",
       "      <td>dvoBuh4D2rKLvp0R</td>\n",
       "      <td>Sugar Ray</td>\n",
       "      <td>Someday</td>\n",
       "      <td>The Best Of Sugar Ray</td>\n",
       "      <td>{alternative rock, folk, ska punk, pop rock, e...</td>\n",
       "      <td>[1.010116, 1.366027, 1.968246, 0.036914, 0.054...</td>\n",
       "      <td>[1.1760913, 0.0, 2.580925, 0.0, 0.0, 0.0, 2.58...</td>\n",
       "      <td>[-0.0296943, -0.0242419, -0.0210632, -0.019315...</td>\n",
       "      <td>[-0.0566662810742855, -0.4970455169677734, -0....</td>\n",
       "      <td>[0.31089455, 0.00064689707, 0.0211348, 0.06528...</td>\n",
       "      <td>[0.0215068515390157, 0.0099828084930777, -0.00...</td>\n",
       "      <td>[0.0275652803166099, 0.0159801505894089, 0.013...</td>\n",
       "      <td>0.903228</td>\n",
       "    </tr>\n",
       "  </tbody>\n",
       "</table>\n",
       "</div>"
      ],
      "text/plain": [
       "   index                id             artist                        song  \\\n",
       "0   1350  87dM2jCka3uQ9jCe    Cannibal Corpse              Kill or Become   \n",
       "1   2383  EPq10w8WXMzn6SiM        Lamb of God                    Overlord   \n",
       "2   3422  L3Kp1jbgQ610Ug6z            Madonna                Spanish Eyes   \n",
       "3   4953  UOuWHCEIps7Mjz3E              Oasis                 Shakermaker   \n",
       "4   7505  kGqt1SWYRG5M2X32           Paramore                     Careful   \n",
       "5   7534  kSDPUwWDCOkb8wOX       Cutting Crew  (I Just) Died in Your Arms   \n",
       "6   2565  FakoHKQAGT6gFXP0      16 Horsepower                         Haw   \n",
       "7   7806  m3SLg1agLGfpMdSz  Social Distortion              Ball and Chain   \n",
       "8   4352  Qh5XjFCInkeOAYzu         Supergrass                        Time   \n",
       "9   6452  dvoBuh4D2rKLvp0R          Sugar Ray                     Someday   \n",
       "\n",
       "                                       album_name  \\\n",
       "0                               A Skeletal Domain   \n",
       "1                   VII: Sturm Und Drang (Deluxe)   \n",
       "2                                   Like a Prayer   \n",
       "3  Definitely Maybe (Remastered) [Deluxe Edition]   \n",
       "4                                  brand new eyes   \n",
       "5                        The Best Of Cutting Crew   \n",
       "6                                   16 Horsepower   \n",
       "7                               Social Distortion   \n",
       "8                                   I Should Coco   \n",
       "9                           The Best Of Sugar Ray   \n",
       "\n",
       "                                               genre  \\\n",
       "0  {technical death metal, metal, brutal death me...   \n",
       "1  {hard rock, alternative rock, deathcore, grind...   \n",
       "2                    {pop, latin, singer songwriter}   \n",
       "3  {soft rock, alternative rock, grunge, rock and...   \n",
       "4  {indie punk, alternative rock, pop rock, pop p...   \n",
       "5  {soft rock, pop rock, pop, classic rock, new w...   \n",
       "6  {alternative rock, folk, gothic americana, alt...   \n",
       "7  {classic rock, psychobilly, rock, hard rock, a...   \n",
       "8                  {alternative rock, britpop, rock}   \n",
       "9  {alternative rock, folk, ska punk, pop rock, e...   \n",
       "\n",
       "                                              resnet  \\\n",
       "0  [3.362233, 2.601369, 1.600803, 0.060141, 0.095...   \n",
       "1  [1.898288, 2.382536, 1.860425, 0.11504, 0.1967...   \n",
       "2  [2.155628, 2.735073, 1.582092, 0.15057, 0.0772...   \n",
       "3  [1.827026, 2.029464, 2.199537, 0.053277, 0.056...   \n",
       "4  [1.278383, 2.580097, 2.079799, 0.014902, 0.116...   \n",
       "5  [0.856041, 1.370697, 1.149933, 0.017608, 0.055...   \n",
       "6  [1.119987, 2.550595, 0.915632, 0.099561, 0.100...   \n",
       "7  [1.174189, 4.374656, 1.446732, 0.04104, 0.1384...   \n",
       "8  [2.607488, 1.905045, 1.598125, 0.043524, 0.140...   \n",
       "9  [1.010116, 1.366027, 1.968246, 0.036914, 0.054...   \n",
       "\n",
       "                                            mfcc_bow  \\\n",
       "0  [0.0, 0.0, 2.3344537999999995, 0.0, 0.0, 0.0, ...   \n",
       "1  [0.0, 0.0, 2.3926969, 0.0, 0.0, 0.0, 2.9159272...   \n",
       "2  [1.3222193000000002, 0.0, 1.770852, 0.0, 1.857...   \n",
       "3  [0.0, 0.0, 1.462398, 0.0, 0.0, 0.0, 2.1931245,...   \n",
       "4  [1.4771212, 0.0, 1.7160033, 0.0, 0.84509799999...   \n",
       "5  [1.7993406000000003, 0.0, 2.9836264, 0.0, 1.04...   \n",
       "6  [0.9542425, 0.0, 2.423246, 0.0, 0.69897, 0.0, ...   \n",
       "7  [0.0, 0.0, 1.8129133, 0.0, 0.0, 0.0, 2.6404815...   \n",
       "8  [1.30103, 0.0, 2.7986507, 0.0, 1.146128, 0.0, ...   \n",
       "9  [1.1760913, 0.0, 2.580925, 0.0, 0.0, 0.0, 2.58...   \n",
       "\n",
       "                                        blf_spectral  \\\n",
       "0  [-0.0240165, -0.0199949, -0.0172412, -0.014370...   \n",
       "1  [-0.0285346, -0.0240487, -0.0222086, -0.018877...   \n",
       "2  [-0.031409, -0.0261219, -0.0239373, -0.0207116...   \n",
       "3  [-0.0331521, -0.0284585, -0.0256427, -0.022688...   \n",
       "4  [-0.029709, -0.0261018, -0.0212901, -0.0193414...   \n",
       "5  [-0.0297599, -0.0242387, -0.0212726, -0.018415...   \n",
       "6  [-0.0291433, -0.0235362, -0.0200929, -0.018264...   \n",
       "7  [-0.0322196, -0.0281729, -0.0251473, -0.022514...   \n",
       "8  [-0.0281839, -0.0231233, -0.0205871, -0.018480...   \n",
       "9  [-0.0296943, -0.0242419, -0.0210632, -0.019315...   \n",
       "\n",
       "                                             ivec256  \\\n",
       "0  [-0.4084688127040863, -1.7257150411605835, 0.2...   \n",
       "1  [-0.6786251068115234, -0.8794464468955994, 0.1...   \n",
       "2  [0.9031068086624146, 0.3960944414138794, -0.27...   \n",
       "3  [-1.3665876388549805, -0.6717993021011353, -1....   \n",
       "4  [-0.5033568739891052, 0.167227953672409, -0.67...   \n",
       "5  [-0.5980198383331299, 1.3942530155181885, -1.3...   \n",
       "6  [-0.7194744348526001, 1.293039083480835, -0.80...   \n",
       "7  [-1.1478033065795898, -0.4399683177471161, -0....   \n",
       "8  [-0.9925559759140016, 0.9616437554359436, -0.4...   \n",
       "9  [-0.0566662810742855, -0.4970455169677734, -0....   \n",
       "\n",
       "                                             musicnn  \\\n",
       "0  [0.10409315, 0.0003639398, 0.0018088311, 0.172...   \n",
       "1  [0.22721322, 0.0007293002, 0.01049833, 0.04474...   \n",
       "2  [0.31000128, 0.0033261061, 0.077820435, 0.0101...   \n",
       "3  [0.38178083, 0.0028633927, 0.046525437, 0.0209...   \n",
       "4  [0.29173714, 0.0030574615, 0.01691651, 0.04722...   \n",
       "5  [0.21125002, 0.017314926, 0.1454034, 0.0510449...   \n",
       "6  [0.16388904, 0.011580788, 0.07119308, 0.013694...   \n",
       "7  [0.26841068, 0.015795391, 0.039577536, 0.03961...   \n",
       "8  [0.23766568, 0.012333871, 0.11792787, 0.092258...   \n",
       "9  [0.31089455, 0.00064689707, 0.0211348, 0.06528...   \n",
       "\n",
       "                                                bert  \\\n",
       "0  [0.0218665041029453, 0.0542871952056884, 0.021...   \n",
       "1  [0.0362034477293491, 0.0077602691017091, 0.001...   \n",
       "2  [-0.0262783914804458, 0.0460927821695804, -0.0...   \n",
       "3  [0.0184765495359897, 0.0482282564043998, -0.02...   \n",
       "4  [0.0268798135221004, 0.0295519027858972, -0.01...   \n",
       "5  [0.0297185182571411, -0.0331318564713001, -0.0...   \n",
       "6  [-0.0031567083206027, 0.013839672319591, -0.01...   \n",
       "7  [0.0115926610305905, 0.066615305840969, -0.013...   \n",
       "8  [-0.0017348146066069, 0.0078667551279068, -0.0...   \n",
       "9  [0.0215068515390157, 0.0099828084930777, -0.00...   \n",
       "\n",
       "                                            word2vec  similarity  \n",
       "0  [0.0381368775672069, 0.0218782743709233, 0.008...    0.916257  \n",
       "1  [0.0377602214862373, 0.0091797875074641, -0.00...    0.911563  \n",
       "2  [0.023038339332325, 0.0050681515854808, 0.0258...    0.909842  \n",
       "3  [0.0095084663467866, 0.0075772250553279, 0.013...    0.907669  \n",
       "4  [0.0314850911620612, 0.0170346358741976, 0.016...    0.906508  \n",
       "5  [0.0222849311511963, 0.0161594967748969, 0.025...    0.904957  \n",
       "6  [0.0319615606463179, 0.0277835686986721, 0.007...    0.904899  \n",
       "7  [0.0075676868163785, 0.0045994627842806, -0.01...    0.904252  \n",
       "8  [0.0187828158411909, -0.0109101621269741, -0.0...    0.903758  \n",
       "9  [0.0275652803166099, 0.0159801505894089, 0.013...    0.903228  "
      ]
     },
     "execution_count": 37,
     "metadata": {},
     "output_type": "execute_result"
    }
   ],
   "source": [
    "results"
   ]
  },
  {
   "cell_type": "markdown",
   "metadata": {
    "pycharm": {
     "name": "#%% md\n"
    }
   },
   "source": [
    "### Late Fusion\n",
    "In this section we will perform late fusion of 2 retrieval systems using score aggregation by:\n",
    "- precomputing all retrievals and their similarities for chosen retrieval systems.\n",
    "- checking statistical compatability of scores\n",
    "- fusing systems via score average"
   ]
  },
  {
   "cell_type": "code",
   "execution_count": 29,
   "metadata": {
    "collapsed": false,
    "jupyter": {
     "outputs_hidden": false
    },
    "pycharm": {
     "name": "#%%\n"
    }
   },
   "outputs": [],
   "source": []
  },
  {
   "cell_type": "markdown",
   "metadata": {
    "pycharm": {
     "name": "#%% md\n"
    }
   },
   "source": [
    "# Evaluation"
   ]
  },
  {
   "cell_type": "code",
   "execution_count": 29,
   "metadata": {
    "collapsed": false,
    "jupyter": {
     "outputs_hidden": false
    },
    "pycharm": {
     "name": "#%%\n"
    }
   },
   "outputs": [],
   "source": []
  }
 ],
 "metadata": {
  "kernelspec": {
   "display_name": "Python 3 (ipykernel)",
   "language": "python",
   "name": "python3"
  },
  "language_info": {
   "codemirror_mode": {
    "name": "ipython",
    "version": 3
   },
   "file_extension": ".py",
   "mimetype": "text/x-python",
   "name": "python",
   "nbconvert_exporter": "python",
   "pygments_lexer": "ipython3",
   "version": "3.8.16"
  }
 },
 "nbformat": 4,
 "nbformat_minor": 4
}
