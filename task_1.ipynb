{
 "cells": [
  {
   "cell_type": "markdown",
   "metadata": {
    "collapsed": false
   },
   "source": [
    "# Read and Explore Data"
   ]
  },
  {
   "cell_type": "code",
   "execution_count": 157,
   "metadata": {
    "collapsed": false,
    "ExecuteTime": {
     "end_time": "2023-11-01T20:43:29.935741200Z",
     "start_time": "2023-11-01T20:43:29.813739800Z"
    }
   },
   "outputs": [],
   "source": [
    "from typing import List, Union, Callable\n",
    "from dataclasses import dataclass\n",
    "\n",
    "import pandas as pd\n",
    "import numpy as np\n",
    "import random"
   ]
  },
  {
   "cell_type": "code",
   "execution_count": 158,
   "metadata": {
    "collapsed": false,
    "ExecuteTime": {
     "end_time": "2023-11-01T20:43:30.033740800Z",
     "start_time": "2023-11-01T20:43:29.831743900Z"
    }
   },
   "outputs": [],
   "source": [
    "def read(feature, h=None):\n",
    "    return pd.read_csv(f\"data/id_{feature}_mmsr.tsv\", delimiter=\"\\t\", header=h)\n",
    "\n",
    "\n",
    "def embed_and_merge(df1, df2, col_name):\n",
    "    embedding = df2.columns.difference([\"id\"], sort=False)\n",
    "    df2[col_name] = df2[embedding].apply(lambda x: np.array(x, dtype=float), axis=1)\n",
    "    df2.drop(embedding, inplace=True, axis=1)\n",
    "    return pd.merge(df1, df2, left_on=\"id\", right_on=\"id\", how=\"left\")"
   ]
  },
  {
   "cell_type": "code",
   "execution_count": 159,
   "metadata": {
    "collapsed": false,
    "ExecuteTime": {
     "end_time": "2023-11-01T20:43:30.035740300Z",
     "start_time": "2023-11-01T20:43:29.846740600Z"
    }
   },
   "outputs": [],
   "source": [
    "df = read(\"information\", 0)"
   ]
  },
  {
   "cell_type": "code",
   "execution_count": 160,
   "metadata": {
    "collapsed": false,
    "ExecuteTime": {
     "end_time": "2023-11-01T20:43:31.223837600Z",
     "start_time": "2023-11-01T20:43:29.878739800Z"
    }
   },
   "outputs": [],
   "source": [
    "# read bert embedding\n",
    "bert = read(\"lyrics_bert\", 0)\n",
    "df = embed_and_merge(df, bert, \"bert_embedding\")"
   ]
  },
  {
   "cell_type": "code",
   "execution_count": 161,
   "metadata": {
    "collapsed": false,
    "ExecuteTime": {
     "end_time": "2023-11-01T20:43:31.739758100Z",
     "start_time": "2023-11-01T20:43:31.225835300Z"
    }
   },
   "outputs": [],
   "source": [
    "# read word2vec embedding\n",
    "word2vec = read(\"lyrics_word2vec\", 0)\n",
    "df = embed_and_merge(df, word2vec, \"word2vec_embedding\")"
   ]
  },
  {
   "cell_type": "code",
   "execution_count": 162,
   "metadata": {
    "collapsed": false,
    "ExecuteTime": {
     "end_time": "2023-11-01T20:43:32.309108900Z",
     "start_time": "2023-11-01T20:43:31.740762400Z"
    }
   },
   "outputs": [],
   "source": [
    "# read tf-idf term weighting\n",
    "tfidf_weighting = read(\"lyrics_tf-idf\", 0)\n",
    "df = embed_and_merge(df, tfidf_weighting, \"tf-idf\")"
   ]
  },
  {
   "cell_type": "code",
   "execution_count": 163,
   "metadata": {
    "ExecuteTime": {
     "end_time": "2023-11-01T20:43:32.332985700Z",
     "start_time": "2023-11-01T20:43:32.317360Z"
    }
   },
   "outputs": [
    {
     "data": {
      "text/plain": "                     id                       artist  \\\n0      01Yfj2T3YTwJ1Yfy                  We As Human   \n1      01gyRHLquwXDlhkO         The Notorious B.I.G.   \n2      01rMxQv6vhyE1oQX          Against the Current   \n3      02RGE9FNH65RtMS7                     Barthezz   \n4      02ZnlCGZEbkfCDxo                Laura Pausini   \n...                 ...                          ...   \n10090  zyzILCQvVeUFIINi                Crowded House   \n10091  zzgS4ZqyswamEWNj               Britney Spears   \n10092  zzoFYDMlqU1X2zz1                   Thundercat   \n10093  zzpkRCGA5ud8q4mv                 Otis Redding   \n10094  zzx8CWdM7qkxKQpC  Ted Leo and the Pharmacists   \n\n                                            song  \\\n0      Take The Bullets Away (feat. Lacey Sturm)   \n1                           Somebody's Gotta Die   \n2                                 Chasing Ghosts   \n3                                       Infected   \n4                               Tra Te E Il Mare   \n...                                          ...   \n10090                              When You Come   \n10091                   My Only Wish (This Year)   \n10092                                        DUI   \n10093                               Rock Me Baby   \n10094                    Counting Down the Hours   \n\n                                        album_name  \\\n0                                      We As Human   \n1            Life After Death (Remastered Edition)   \n2                                     In Our Bones   \n3             Trance - The Early Years (1997-2002)   \n4      The Best of Laura Pausini - E Ritorno Da Te   \n...                                            ...   \n10090                            Temple Of Low Men   \n10091                           Platinum Christmas   \n10092                                        Drunk   \n10093                                    Otis Blue   \n10094                             Shake the Sheets   \n\n                                          bert_embedding  \\\n0      [0.0302475523203611, 0.0352500043809413, 0.010...   \n1      [0.0084422621876001, 0.0302564185112714, 0.009...   \n2      [0.0490818135440349, 0.0148476688191294, 0.001...   \n3      [0.0445394963026046, 0.0214906893670558, 0.013...   \n4      [0.0514551289379596, 0.0297695714980363, -0.01...   \n...                                                  ...   \n10090  [0.006713552866131, 0.0480893477797508, -0.001...   \n10091  [0.0098905526101589, 0.0401467233896255, -0.02...   \n10092  [0.0101165119558572, 0.0388841480016708, -0.01...   \n10093  [-0.0166116580367088, 0.0266939438879489, -0.0...   \n10094  [0.0070628975518047, 0.0539373308420181, 0.000...   \n\n                                      word2vec_embedding  \\\n0      [0.0193592727054678, 0.0232394714425702, 0.028...   \n1      [0.018537292381979, 0.0113115924403394, 0.0107...   \n2      [0.0227837218553759, 0.0231641749730655, 0.012...   \n3      [0.0381116103401342, 0.0278804157207017, 0.016...   \n4      [0.0182936789026777, -0.0064870788035669, 0.00...   \n...                                                  ...   \n10090  [0.0195101330379449, 0.0236336907562543, 0.011...   \n10091  [0.0268563718791583, 0.0082648759004199, 0.011...   \n10092  [0.0051499218912795, 0.0028818239457905, 0.017...   \n10093  [0.0370260450523346, 0.0159991827379498, -0.00...   \n10094  [0.0294775550027151, 0.0302836241438903, 0.012...   \n\n                                                  tf-idf  \n0      [0.0, 0.0, 0.0, 0.0, 0.0, 0.0818293914712727, ...  \n1      [0.0, 0.0, 0.0, 0.0, 0.0, 0.0, 0.0, 0.0, 0.0, ...  \n2      [0.0, 0.0, 0.0, 0.0, 0.0, 0.0, 0.0, 0.0, 0.0, ...  \n3      [0.0, 0.0, 0.0, 0.0, 0.0, 0.0, 0.0, 0.0, 0.0, ...  \n4      [0.0, 0.0, 0.0, 0.0, 0.0, 0.2413163920156013, ...  \n...                                                  ...  \n10090  [0.0, 0.0, 0.079623055470056, 0.0, 0.0, 0.0, 0...  \n10091  [0.0, 0.0, 0.0, 0.0, 0.0, 0.0, 0.0, 0.0, 0.0, ...  \n10092  [0.0, 0.0, 0.0, 0.0, 0.0, 0.0, 0.0, 0.0, 0.0, ...  \n10093  [0.0, 0.0, 0.0, 0.0, 0.0, 0.0, 0.0, 0.0, 0.0, ...  \n10094  [0.0, 0.0, 0.0, 0.0748577176019516, 0.0, 0.0, ...  \n\n[10095 rows x 7 columns]",
      "text/html": "<div>\n<style scoped>\n    .dataframe tbody tr th:only-of-type {\n        vertical-align: middle;\n    }\n\n    .dataframe tbody tr th {\n        vertical-align: top;\n    }\n\n    .dataframe thead th {\n        text-align: right;\n    }\n</style>\n<table border=\"1\" class=\"dataframe\">\n  <thead>\n    <tr style=\"text-align: right;\">\n      <th></th>\n      <th>id</th>\n      <th>artist</th>\n      <th>song</th>\n      <th>album_name</th>\n      <th>bert_embedding</th>\n      <th>word2vec_embedding</th>\n      <th>tf-idf</th>\n    </tr>\n  </thead>\n  <tbody>\n    <tr>\n      <th>0</th>\n      <td>01Yfj2T3YTwJ1Yfy</td>\n      <td>We As Human</td>\n      <td>Take The Bullets Away (feat. Lacey Sturm)</td>\n      <td>We As Human</td>\n      <td>[0.0302475523203611, 0.0352500043809413, 0.010...</td>\n      <td>[0.0193592727054678, 0.0232394714425702, 0.028...</td>\n      <td>[0.0, 0.0, 0.0, 0.0, 0.0, 0.0818293914712727, ...</td>\n    </tr>\n    <tr>\n      <th>1</th>\n      <td>01gyRHLquwXDlhkO</td>\n      <td>The Notorious B.I.G.</td>\n      <td>Somebody's Gotta Die</td>\n      <td>Life After Death (Remastered Edition)</td>\n      <td>[0.0084422621876001, 0.0302564185112714, 0.009...</td>\n      <td>[0.018537292381979, 0.0113115924403394, 0.0107...</td>\n      <td>[0.0, 0.0, 0.0, 0.0, 0.0, 0.0, 0.0, 0.0, 0.0, ...</td>\n    </tr>\n    <tr>\n      <th>2</th>\n      <td>01rMxQv6vhyE1oQX</td>\n      <td>Against the Current</td>\n      <td>Chasing Ghosts</td>\n      <td>In Our Bones</td>\n      <td>[0.0490818135440349, 0.0148476688191294, 0.001...</td>\n      <td>[0.0227837218553759, 0.0231641749730655, 0.012...</td>\n      <td>[0.0, 0.0, 0.0, 0.0, 0.0, 0.0, 0.0, 0.0, 0.0, ...</td>\n    </tr>\n    <tr>\n      <th>3</th>\n      <td>02RGE9FNH65RtMS7</td>\n      <td>Barthezz</td>\n      <td>Infected</td>\n      <td>Trance - The Early Years (1997-2002)</td>\n      <td>[0.0445394963026046, 0.0214906893670558, 0.013...</td>\n      <td>[0.0381116103401342, 0.0278804157207017, 0.016...</td>\n      <td>[0.0, 0.0, 0.0, 0.0, 0.0, 0.0, 0.0, 0.0, 0.0, ...</td>\n    </tr>\n    <tr>\n      <th>4</th>\n      <td>02ZnlCGZEbkfCDxo</td>\n      <td>Laura Pausini</td>\n      <td>Tra Te E Il Mare</td>\n      <td>The Best of Laura Pausini - E Ritorno Da Te</td>\n      <td>[0.0514551289379596, 0.0297695714980363, -0.01...</td>\n      <td>[0.0182936789026777, -0.0064870788035669, 0.00...</td>\n      <td>[0.0, 0.0, 0.0, 0.0, 0.0, 0.2413163920156013, ...</td>\n    </tr>\n    <tr>\n      <th>...</th>\n      <td>...</td>\n      <td>...</td>\n      <td>...</td>\n      <td>...</td>\n      <td>...</td>\n      <td>...</td>\n      <td>...</td>\n    </tr>\n    <tr>\n      <th>10090</th>\n      <td>zyzILCQvVeUFIINi</td>\n      <td>Crowded House</td>\n      <td>When You Come</td>\n      <td>Temple Of Low Men</td>\n      <td>[0.006713552866131, 0.0480893477797508, -0.001...</td>\n      <td>[0.0195101330379449, 0.0236336907562543, 0.011...</td>\n      <td>[0.0, 0.0, 0.079623055470056, 0.0, 0.0, 0.0, 0...</td>\n    </tr>\n    <tr>\n      <th>10091</th>\n      <td>zzgS4ZqyswamEWNj</td>\n      <td>Britney Spears</td>\n      <td>My Only Wish (This Year)</td>\n      <td>Platinum Christmas</td>\n      <td>[0.0098905526101589, 0.0401467233896255, -0.02...</td>\n      <td>[0.0268563718791583, 0.0082648759004199, 0.011...</td>\n      <td>[0.0, 0.0, 0.0, 0.0, 0.0, 0.0, 0.0, 0.0, 0.0, ...</td>\n    </tr>\n    <tr>\n      <th>10092</th>\n      <td>zzoFYDMlqU1X2zz1</td>\n      <td>Thundercat</td>\n      <td>DUI</td>\n      <td>Drunk</td>\n      <td>[0.0101165119558572, 0.0388841480016708, -0.01...</td>\n      <td>[0.0051499218912795, 0.0028818239457905, 0.017...</td>\n      <td>[0.0, 0.0, 0.0, 0.0, 0.0, 0.0, 0.0, 0.0, 0.0, ...</td>\n    </tr>\n    <tr>\n      <th>10093</th>\n      <td>zzpkRCGA5ud8q4mv</td>\n      <td>Otis Redding</td>\n      <td>Rock Me Baby</td>\n      <td>Otis Blue</td>\n      <td>[-0.0166116580367088, 0.0266939438879489, -0.0...</td>\n      <td>[0.0370260450523346, 0.0159991827379498, -0.00...</td>\n      <td>[0.0, 0.0, 0.0, 0.0, 0.0, 0.0, 0.0, 0.0, 0.0, ...</td>\n    </tr>\n    <tr>\n      <th>10094</th>\n      <td>zzx8CWdM7qkxKQpC</td>\n      <td>Ted Leo and the Pharmacists</td>\n      <td>Counting Down the Hours</td>\n      <td>Shake the Sheets</td>\n      <td>[0.0070628975518047, 0.0539373308420181, 0.000...</td>\n      <td>[0.0294775550027151, 0.0302836241438903, 0.012...</td>\n      <td>[0.0, 0.0, 0.0, 0.0748577176019516, 0.0, 0.0, ...</td>\n    </tr>\n  </tbody>\n</table>\n<p>10095 rows × 7 columns</p>\n</div>"
     },
     "execution_count": 163,
     "metadata": {},
     "output_type": "execute_result"
    }
   ],
   "source": [
    "df"
   ]
  },
  {
   "cell_type": "code",
   "execution_count": 164,
   "metadata": {
    "ExecuteTime": {
     "end_time": "2023-11-01T20:43:32.353884800Z",
     "start_time": "2023-11-01T20:43:32.332985700Z"
    }
   },
   "outputs": [
    {
     "name": "stdout",
     "output_type": "stream",
     "text": [
      "<class 'pandas.core.frame.DataFrame'>\n",
      "RangeIndex: 10095 entries, 0 to 10094\n",
      "Data columns (total 7 columns):\n",
      " #   Column              Non-Null Count  Dtype \n",
      "---  ------              --------------  ----- \n",
      " 0   id                  10095 non-null  object\n",
      " 1   artist              10095 non-null  object\n",
      " 2   song                10095 non-null  object\n",
      " 3   album_name          10095 non-null  object\n",
      " 4   bert_embedding      10095 non-null  object\n",
      " 5   word2vec_embedding  10095 non-null  object\n",
      " 6   tf-idf              10095 non-null  object\n",
      "dtypes: object(7)\n",
      "memory usage: 552.2+ KB\n"
     ]
    }
   ],
   "source": [
    "df.info()"
   ]
  },
  {
   "cell_type": "code",
   "execution_count": 165,
   "metadata": {
    "ExecuteTime": {
     "end_time": "2023-11-01T20:43:32.421435600Z",
     "start_time": "2023-11-01T20:43:32.350884700Z"
    }
   },
   "outputs": [
    {
     "data": {
      "text/plain": "                     id                       artist  \\\n0      01Yfj2T3YTwJ1Yfy                  We As Human   \n1      01gyRHLquwXDlhkO         The Notorious B.I.G.   \n2      01rMxQv6vhyE1oQX          Against the Current   \n3      02RGE9FNH65RtMS7                     Barthezz   \n4      02ZnlCGZEbkfCDxo                Laura Pausini   \n...                 ...                          ...   \n10090  zyzILCQvVeUFIINi                Crowded House   \n10091  zzgS4ZqyswamEWNj               Britney Spears   \n10092  zzoFYDMlqU1X2zz1                   Thundercat   \n10093  zzpkRCGA5ud8q4mv                 Otis Redding   \n10094  zzx8CWdM7qkxKQpC  Ted Leo and the Pharmacists   \n\n                                            song  \\\n0      Take The Bullets Away (feat. Lacey Sturm)   \n1                           Somebody's Gotta Die   \n2                                 Chasing Ghosts   \n3                                       Infected   \n4                               Tra Te E Il Mare   \n...                                          ...   \n10090                              When You Come   \n10091                   My Only Wish (This Year)   \n10092                                        DUI   \n10093                               Rock Me Baby   \n10094                    Counting Down the Hours   \n\n                                        album_name  \\\n0                                      We As Human   \n1            Life After Death (Remastered Edition)   \n2                                     In Our Bones   \n3             Trance - The Early Years (1997-2002)   \n4      The Best of Laura Pausini - E Ritorno Da Te   \n...                                            ...   \n10090                            Temple Of Low Men   \n10091                           Platinum Christmas   \n10092                                        Drunk   \n10093                                    Otis Blue   \n10094                             Shake the Sheets   \n\n                                          bert_embedding  \\\n0      [0.0302475523203611, 0.0352500043809413, 0.010...   \n1      [0.0084422621876001, 0.0302564185112714, 0.009...   \n2      [0.0490818135440349, 0.0148476688191294, 0.001...   \n3      [0.0445394963026046, 0.0214906893670558, 0.013...   \n4      [0.0514551289379596, 0.0297695714980363, -0.01...   \n...                                                  ...   \n10090  [0.006713552866131, 0.0480893477797508, -0.001...   \n10091  [0.0098905526101589, 0.0401467233896255, -0.02...   \n10092  [0.0101165119558572, 0.0388841480016708, -0.01...   \n10093  [-0.0166116580367088, 0.0266939438879489, -0.0...   \n10094  [0.0070628975518047, 0.0539373308420181, 0.000...   \n\n                                      word2vec_embedding  \\\n0      [0.0193592727054678, 0.0232394714425702, 0.028...   \n1      [0.018537292381979, 0.0113115924403394, 0.0107...   \n2      [0.0227837218553759, 0.0231641749730655, 0.012...   \n3      [0.0381116103401342, 0.0278804157207017, 0.016...   \n4      [0.0182936789026777, -0.0064870788035669, 0.00...   \n...                                                  ...   \n10090  [0.0195101330379449, 0.0236336907562543, 0.011...   \n10091  [0.0268563718791583, 0.0082648759004199, 0.011...   \n10092  [0.0051499218912795, 0.0028818239457905, 0.017...   \n10093  [0.0370260450523346, 0.0159991827379498, -0.00...   \n10094  [0.0294775550027151, 0.0302836241438903, 0.012...   \n\n                                                  tf-idf  \n0      [0.0, 0.0, 0.0, 0.0, 0.0, 0.0818293914712727, ...  \n1      [0.0, 0.0, 0.0, 0.0, 0.0, 0.0, 0.0, 0.0, 0.0, ...  \n2      [0.0, 0.0, 0.0, 0.0, 0.0, 0.0, 0.0, 0.0, 0.0, ...  \n3      [0.0, 0.0, 0.0, 0.0, 0.0, 0.0, 0.0, 0.0, 0.0, ...  \n4      [0.0, 0.0, 0.0, 0.0, 0.0, 0.2413163920156013, ...  \n...                                                  ...  \n10090  [0.0, 0.0, 0.079623055470056, 0.0, 0.0, 0.0, 0...  \n10091  [0.0, 0.0, 0.0, 0.0, 0.0, 0.0, 0.0, 0.0, 0.0, ...  \n10092  [0.0, 0.0, 0.0, 0.0, 0.0, 0.0, 0.0, 0.0, 0.0, ...  \n10093  [0.0, 0.0, 0.0, 0.0, 0.0, 0.0, 0.0, 0.0, 0.0, ...  \n10094  [0.0, 0.0, 0.0, 0.0748577176019516, 0.0, 0.0, ...  \n\n[10095 rows x 7 columns]",
      "text/html": "<div>\n<style scoped>\n    .dataframe tbody tr th:only-of-type {\n        vertical-align: middle;\n    }\n\n    .dataframe tbody tr th {\n        vertical-align: top;\n    }\n\n    .dataframe thead th {\n        text-align: right;\n    }\n</style>\n<table border=\"1\" class=\"dataframe\">\n  <thead>\n    <tr style=\"text-align: right;\">\n      <th></th>\n      <th>id</th>\n      <th>artist</th>\n      <th>song</th>\n      <th>album_name</th>\n      <th>bert_embedding</th>\n      <th>word2vec_embedding</th>\n      <th>tf-idf</th>\n    </tr>\n  </thead>\n  <tbody>\n    <tr>\n      <th>0</th>\n      <td>01Yfj2T3YTwJ1Yfy</td>\n      <td>We As Human</td>\n      <td>Take The Bullets Away (feat. Lacey Sturm)</td>\n      <td>We As Human</td>\n      <td>[0.0302475523203611, 0.0352500043809413, 0.010...</td>\n      <td>[0.0193592727054678, 0.0232394714425702, 0.028...</td>\n      <td>[0.0, 0.0, 0.0, 0.0, 0.0, 0.0818293914712727, ...</td>\n    </tr>\n    <tr>\n      <th>1</th>\n      <td>01gyRHLquwXDlhkO</td>\n      <td>The Notorious B.I.G.</td>\n      <td>Somebody's Gotta Die</td>\n      <td>Life After Death (Remastered Edition)</td>\n      <td>[0.0084422621876001, 0.0302564185112714, 0.009...</td>\n      <td>[0.018537292381979, 0.0113115924403394, 0.0107...</td>\n      <td>[0.0, 0.0, 0.0, 0.0, 0.0, 0.0, 0.0, 0.0, 0.0, ...</td>\n    </tr>\n    <tr>\n      <th>2</th>\n      <td>01rMxQv6vhyE1oQX</td>\n      <td>Against the Current</td>\n      <td>Chasing Ghosts</td>\n      <td>In Our Bones</td>\n      <td>[0.0490818135440349, 0.0148476688191294, 0.001...</td>\n      <td>[0.0227837218553759, 0.0231641749730655, 0.012...</td>\n      <td>[0.0, 0.0, 0.0, 0.0, 0.0, 0.0, 0.0, 0.0, 0.0, ...</td>\n    </tr>\n    <tr>\n      <th>3</th>\n      <td>02RGE9FNH65RtMS7</td>\n      <td>Barthezz</td>\n      <td>Infected</td>\n      <td>Trance - The Early Years (1997-2002)</td>\n      <td>[0.0445394963026046, 0.0214906893670558, 0.013...</td>\n      <td>[0.0381116103401342, 0.0278804157207017, 0.016...</td>\n      <td>[0.0, 0.0, 0.0, 0.0, 0.0, 0.0, 0.0, 0.0, 0.0, ...</td>\n    </tr>\n    <tr>\n      <th>4</th>\n      <td>02ZnlCGZEbkfCDxo</td>\n      <td>Laura Pausini</td>\n      <td>Tra Te E Il Mare</td>\n      <td>The Best of Laura Pausini - E Ritorno Da Te</td>\n      <td>[0.0514551289379596, 0.0297695714980363, -0.01...</td>\n      <td>[0.0182936789026777, -0.0064870788035669, 0.00...</td>\n      <td>[0.0, 0.0, 0.0, 0.0, 0.0, 0.2413163920156013, ...</td>\n    </tr>\n    <tr>\n      <th>...</th>\n      <td>...</td>\n      <td>...</td>\n      <td>...</td>\n      <td>...</td>\n      <td>...</td>\n      <td>...</td>\n      <td>...</td>\n    </tr>\n    <tr>\n      <th>10090</th>\n      <td>zyzILCQvVeUFIINi</td>\n      <td>Crowded House</td>\n      <td>When You Come</td>\n      <td>Temple Of Low Men</td>\n      <td>[0.006713552866131, 0.0480893477797508, -0.001...</td>\n      <td>[0.0195101330379449, 0.0236336907562543, 0.011...</td>\n      <td>[0.0, 0.0, 0.079623055470056, 0.0, 0.0, 0.0, 0...</td>\n    </tr>\n    <tr>\n      <th>10091</th>\n      <td>zzgS4ZqyswamEWNj</td>\n      <td>Britney Spears</td>\n      <td>My Only Wish (This Year)</td>\n      <td>Platinum Christmas</td>\n      <td>[0.0098905526101589, 0.0401467233896255, -0.02...</td>\n      <td>[0.0268563718791583, 0.0082648759004199, 0.011...</td>\n      <td>[0.0, 0.0, 0.0, 0.0, 0.0, 0.0, 0.0, 0.0, 0.0, ...</td>\n    </tr>\n    <tr>\n      <th>10092</th>\n      <td>zzoFYDMlqU1X2zz1</td>\n      <td>Thundercat</td>\n      <td>DUI</td>\n      <td>Drunk</td>\n      <td>[0.0101165119558572, 0.0388841480016708, -0.01...</td>\n      <td>[0.0051499218912795, 0.0028818239457905, 0.017...</td>\n      <td>[0.0, 0.0, 0.0, 0.0, 0.0, 0.0, 0.0, 0.0, 0.0, ...</td>\n    </tr>\n    <tr>\n      <th>10093</th>\n      <td>zzpkRCGA5ud8q4mv</td>\n      <td>Otis Redding</td>\n      <td>Rock Me Baby</td>\n      <td>Otis Blue</td>\n      <td>[-0.0166116580367088, 0.0266939438879489, -0.0...</td>\n      <td>[0.0370260450523346, 0.0159991827379498, -0.00...</td>\n      <td>[0.0, 0.0, 0.0, 0.0, 0.0, 0.0, 0.0, 0.0, 0.0, ...</td>\n    </tr>\n    <tr>\n      <th>10094</th>\n      <td>zzx8CWdM7qkxKQpC</td>\n      <td>Ted Leo and the Pharmacists</td>\n      <td>Counting Down the Hours</td>\n      <td>Shake the Sheets</td>\n      <td>[0.0070628975518047, 0.0539373308420181, 0.000...</td>\n      <td>[0.0294775550027151, 0.0302836241438903, 0.012...</td>\n      <td>[0.0, 0.0, 0.0, 0.0748577176019516, 0.0, 0.0, ...</td>\n    </tr>\n  </tbody>\n</table>\n<p>10095 rows × 7 columns</p>\n</div>"
     },
     "execution_count": 165,
     "metadata": {},
     "output_type": "execute_result"
    }
   ],
   "source": [
    "df"
   ]
  },
  {
   "cell_type": "markdown",
   "metadata": {},
   "source": [
    "# Define RS and functions"
   ]
  },
  {
   "cell_type": "code",
   "execution_count": 166,
   "metadata": {
    "ExecuteTime": {
     "end_time": "2023-11-01T20:43:32.435434700Z",
     "start_time": "2023-11-01T20:43:32.381882300Z"
    }
   },
   "outputs": [],
   "source": [
    "def cosine_similarity(a: np.ndarray, b: np.ndarray) -> float:\n",
    "    return np.dot(a, b) / (np.linalg.norm(a) * np.linalg.norm(b))"
   ]
  },
  {
   "cell_type": "code",
   "execution_count": 167,
   "metadata": {
    "ExecuteTime": {
     "end_time": "2023-11-01T20:43:32.436435100Z",
     "start_time": "2023-11-01T20:43:32.410434900Z"
    }
   },
   "outputs": [],
   "source": [
    "def dot_product(a: np.ndarray, b: np.ndarray) -> float:\n",
    "    return np.dot(a, b)"
   ]
  },
  {
   "cell_type": "code",
   "execution_count": 168,
   "metadata": {
    "ExecuteTime": {
     "end_time": "2023-11-01T20:43:32.436435100Z",
     "start_time": "2023-11-01T20:43:32.412435Z"
    }
   },
   "outputs": [],
   "source": [
    "def manhattan_distance(a: np.ndarray, b: np.ndarray) -> float:\n",
    "    return np.sum(np.abs(a - b))"
   ]
  },
  {
   "cell_type": "code",
   "execution_count": 169,
   "metadata": {
    "ExecuteTime": {
     "end_time": "2023-11-01T20:43:32.461436100Z",
     "start_time": "2023-11-01T20:43:32.429436800Z"
    }
   },
   "outputs": [],
   "source": [
    "def euclidean_distance(a: np.ndarray, b: np.ndarray) -> float:\n",
    "    return np.linalg.norm(a - b)"
   ]
  },
  {
   "cell_type": "code",
   "execution_count": 170,
   "outputs": [],
   "source": [
    "def random_similarity(a: np.ndarray, b: np.ndarray) -> float:\n",
    "    return random.uniform(0, 1)"
   ],
   "metadata": {
    "collapsed": false,
    "ExecuteTime": {
     "end_time": "2023-11-01T20:43:32.490435200Z",
     "start_time": "2023-11-01T20:43:32.446437Z"
    }
   }
  },
  {
   "cell_type": "code",
   "execution_count": 171,
   "metadata": {
    "ExecuteTime": {
     "end_time": "2023-11-01T20:43:32.511434600Z",
     "start_time": "2023-11-01T20:43:32.460436800Z"
    }
   },
   "outputs": [],
   "source": [
    "@dataclass\n",
    "class SongInfo:\n",
    "    title: str\n",
    "    artist: str\n",
    "\n",
    "\n",
    "class RetrievalSystem:\n",
    "    def __init__(\n",
    "            self,\n",
    "            df: pd.DataFrame,\n",
    "            sim_metric: Callable = cosine_similarity,\n",
    "            sim_feature: str = \"bert_embedding\",\n",
    "            enable_cache: bool = True\n",
    "    ):\n",
    "        self.df = df\n",
    "        self.sim_metric = sim_metric\n",
    "        self.sim_feature = sim_feature\n",
    "\n",
    "        if self.sim_feature not in self.df.columns:\n",
    "            raise ValueError(\n",
    "                f\"'{self.sim_feature}' not found in the dataframe columns.\"\n",
    "            )\n",
    "\n",
    "        # Precompute the stacked version of the feature\n",
    "        # array(list(array)) -> 2d array\n",
    "        self.all_songs_stacked = np.vstack(self.df[self.sim_feature].values)\n",
    "\n",
    "        self.cache_enabled = enable_cache\n",
    "        self.cache = {}\n",
    "\n",
    "    def _calc_similarity(self, song: pd.DataFrame, n: int = 5) -> pd.DataFrame:\n",
    "        \"\"\"\n",
    "        Calculate the similarity of the given song with all songs in the dataset.\n",
    "\n",
    "        Parameters:\n",
    "        - song: DataFrame row representing the song.\n",
    "        - n: Number of top similar songs to retrieve.\n",
    "\n",
    "        Returns:\n",
    "        - DataFrame of top n similar songs.\n",
    "        \"\"\"\n",
    "        song_vector = song[self.sim_feature]\n",
    "\n",
    "        # Compute similarity for each song in the dataset, ensuring each song_vec is reshaped to 2D\n",
    "        similarity = np.array(\n",
    "            [\n",
    "                self.sim_metric(song_vector, song_vec) if not np.array_equal(song_vector, song_vec) else -1 # set similarity with self as -1\n",
    "                for song_vec in self.all_songs_stacked\n",
    "            ]\n",
    "        )\n",
    "\n",
    "        top_n_indices = np.argsort(similarity)[::-1][:n]\n",
    "        top_n = self.df.iloc[top_n_indices]\n",
    "        # make pandas happy: no in-place modification\n",
    "        top_n = self.df.iloc[top_n_indices].copy()\n",
    "        top_n[\"similarity\"] = similarity[top_n_indices]\n",
    "        return top_n\n",
    "\n",
    "    def random_baseline(self, query: Union[int, str], n: int = 5) -> pd.DataFrame:\n",
    "        \"\"\"\n",
    "        Retrieve random songs from the dataset.\n",
    "\n",
    "        Parameters:\n",
    "        - query: If int, row of df. If str, song_id. If SongInfo, title and artist.- song_id: ID of the song.\n",
    "            Not used in this method.\n",
    "        - n: Number of songs to retrieve.\n",
    "\n",
    "        Returns:\n",
    "        - DataFrame of n random songs.\n",
    "        \"\"\"\n",
    "        rand_n = self.df.sample(n=n)\n",
    "        return self._remove_embeddings(rand_n)\n",
    "\n",
    "    @staticmethod\n",
    "    def _remove_embeddings(df: pd.DataFrame) -> pd.DataFrame:\n",
    "        \"\"\"\n",
    "        Do not return columns with \"embedding\" or \"tf-idf\" in the name\n",
    "\n",
    "\n",
    "        Args:\n",
    "            df (pd.DataFrame): Dataframe to remove columns from\n",
    "\n",
    "        Returns:\n",
    "            pd.DataFrame: Dataframe without embedding and tf-idf columns\n",
    "        \"\"\"\n",
    "        return df.loc[:, ~df.columns.str.contains(\"embedding|tf-idf\")].reset_index(\n",
    "            drop=True\n",
    "        )\n",
    "\n",
    "    def retrieve(self, query: Union[int, str, SongInfo], n: int = 5) -> pd.DataFrame:\n",
    "        \"\"\"\n",
    "        Retrieve the top n songs similar to the given song_id.\n",
    "\n",
    "        Parameters:\n",
    "        - query: If int, row of df. If str, song_id. If SongInfo, title and artist.\n",
    "        - n: Number of songs to retrieve.\n",
    "\n",
    "        Returns:\n",
    "        - DataFrame of top n similar songs.\n",
    "        \"\"\"\n",
    "        if isinstance(query, (int, str)):\n",
    "            song_id = query\n",
    "            if song_id not in self.df[\"id\"].values and song_id not in self.df.index:\n",
    "                raise ValueError(f\"Song id {song_id} not in the dataset.\")\n",
    "            song = (\n",
    "                self.df.loc[song_id]\n",
    "                if isinstance(song_id, int)\n",
    "                else self.df[self.df[\"id\"] == song_id].iloc[0]\n",
    "            )\n",
    "        elif isinstance(query, SongInfo):\n",
    "            title, artist = query.title, query.artist\n",
    "            song = self.df[(self.df[\"song\"] == title) & (self.df[\"artist\"] == artist)]\n",
    "            if song.empty:\n",
    "                raise ValueError(\n",
    "                    f\"Song with title '{title}' and artist '{artist}' not found in the dataset.\"\n",
    "                )\n",
    "            song = song.iloc[0]\n",
    "        else:\n",
    "            raise ValueError(\n",
    "                \"Invalid query type. Provide either song_id (int/str) or an instance of SongInfo.\"\n",
    "            )\n",
    "\n",
    "        if self.cache_enabled and song['id'] in self.cache:\n",
    "            cached_result = self.cache[song['id']]\n",
    "            if len(cached_result) >= n:\n",
    "                return cached_result.head(n)\n",
    "\n",
    "        top_n = self._calc_similarity(song, n=n)\n",
    "        # from the assignment, it is not 100% clear what to return --> return all except embeddings\n",
    "        result = self._remove_embeddings(top_n)\n",
    "\n",
    "        self.cache[song['id']] = result\n",
    "        return result"
   ]
  },
  {
   "cell_type": "markdown",
   "metadata": {},
   "source": [
    "## Random Baseline"
   ]
  },
  {
   "cell_type": "code",
   "execution_count": 172,
   "metadata": {
    "ExecuteTime": {
     "end_time": "2023-11-01T20:43:32.528436100Z",
     "start_time": "2023-11-01T20:43:32.490435200Z"
    }
   },
   "outputs": [],
   "source": [
    "rs = RetrievalSystem(df)"
   ]
  },
  {
   "cell_type": "code",
   "execution_count": 173,
   "metadata": {
    "ExecuteTime": {
     "end_time": "2023-11-01T20:43:32.528436100Z",
     "start_time": "2023-11-01T20:43:32.513435300Z"
    }
   },
   "outputs": [
    {
     "data": {
      "text/plain": "                 id            artist               song  \\\n0  xLSp3vQqnzEcam1c   Aretha Franklin       Day Dreaming   \n1  4beTp8zu4JX3evO2             Tarja             We Are   \n2  KTWm6hNq8r4vRKkw            Fleece        Gabe's Song   \n3  xkfvkCK02ZBP6Nkx  Adoniran Barbosa  Apaga o Fogo Mané   \n4  XyYafP2tSdGYeFRl       Roy Orbison       Pretty Woman   \n\n                album_name  \n0  Young, Gifted and Black  \n1        What Lies Beneath  \n2                Scavenger  \n3         Adoniran Barbosa  \n4         Oh, Pretty Woman  ",
      "text/html": "<div>\n<style scoped>\n    .dataframe tbody tr th:only-of-type {\n        vertical-align: middle;\n    }\n\n    .dataframe tbody tr th {\n        vertical-align: top;\n    }\n\n    .dataframe thead th {\n        text-align: right;\n    }\n</style>\n<table border=\"1\" class=\"dataframe\">\n  <thead>\n    <tr style=\"text-align: right;\">\n      <th></th>\n      <th>id</th>\n      <th>artist</th>\n      <th>song</th>\n      <th>album_name</th>\n    </tr>\n  </thead>\n  <tbody>\n    <tr>\n      <th>0</th>\n      <td>xLSp3vQqnzEcam1c</td>\n      <td>Aretha Franklin</td>\n      <td>Day Dreaming</td>\n      <td>Young, Gifted and Black</td>\n    </tr>\n    <tr>\n      <th>1</th>\n      <td>4beTp8zu4JX3evO2</td>\n      <td>Tarja</td>\n      <td>We Are</td>\n      <td>What Lies Beneath</td>\n    </tr>\n    <tr>\n      <th>2</th>\n      <td>KTWm6hNq8r4vRKkw</td>\n      <td>Fleece</td>\n      <td>Gabe's Song</td>\n      <td>Scavenger</td>\n    </tr>\n    <tr>\n      <th>3</th>\n      <td>xkfvkCK02ZBP6Nkx</td>\n      <td>Adoniran Barbosa</td>\n      <td>Apaga o Fogo Mané</td>\n      <td>Adoniran Barbosa</td>\n    </tr>\n    <tr>\n      <th>4</th>\n      <td>XyYafP2tSdGYeFRl</td>\n      <td>Roy Orbison</td>\n      <td>Pretty Woman</td>\n      <td>Oh, Pretty Woman</td>\n    </tr>\n  </tbody>\n</table>\n</div>"
     },
     "execution_count": 173,
     "metadata": {},
     "output_type": "execute_result"
    }
   ],
   "source": [
    "rs.random_baseline(1)"
   ]
  },
  {
   "cell_type": "code",
   "execution_count": 174,
   "metadata": {
    "ExecuteTime": {
     "end_time": "2023-11-01T20:43:32.553213700Z",
     "start_time": "2023-11-01T20:43:32.524436800Z"
    }
   },
   "outputs": [
    {
     "data": {
      "text/plain": "                 id                      artist             song  \\\n0  gGXAWKuJ0ZTHpcqC                      Bonobo         Know You   \n1  AVpJkUAko5OybSog           Animal Collective            Taste   \n2  ECBJZjPpSoCBgi0l                     Madonna        True Blue   \n3  qDjfSuzVdFMmxuTw                       Björk  The Anchor Song   \n4  yIqeZjGk238Rbg2b  Selvagens À Procura de Lei        Despedida   \n\n                   album_name  \n0           The North Borders  \n1  Merriweather Post Pavilion  \n2         True Blue (Reissue)  \n3                       Debut  \n4  Selvagens à Procura de Lei  ",
      "text/html": "<div>\n<style scoped>\n    .dataframe tbody tr th:only-of-type {\n        vertical-align: middle;\n    }\n\n    .dataframe tbody tr th {\n        vertical-align: top;\n    }\n\n    .dataframe thead th {\n        text-align: right;\n    }\n</style>\n<table border=\"1\" class=\"dataframe\">\n  <thead>\n    <tr style=\"text-align: right;\">\n      <th></th>\n      <th>id</th>\n      <th>artist</th>\n      <th>song</th>\n      <th>album_name</th>\n    </tr>\n  </thead>\n  <tbody>\n    <tr>\n      <th>0</th>\n      <td>gGXAWKuJ0ZTHpcqC</td>\n      <td>Bonobo</td>\n      <td>Know You</td>\n      <td>The North Borders</td>\n    </tr>\n    <tr>\n      <th>1</th>\n      <td>AVpJkUAko5OybSog</td>\n      <td>Animal Collective</td>\n      <td>Taste</td>\n      <td>Merriweather Post Pavilion</td>\n    </tr>\n    <tr>\n      <th>2</th>\n      <td>ECBJZjPpSoCBgi0l</td>\n      <td>Madonna</td>\n      <td>True Blue</td>\n      <td>True Blue (Reissue)</td>\n    </tr>\n    <tr>\n      <th>3</th>\n      <td>qDjfSuzVdFMmxuTw</td>\n      <td>Björk</td>\n      <td>The Anchor Song</td>\n      <td>Debut</td>\n    </tr>\n    <tr>\n      <th>4</th>\n      <td>yIqeZjGk238Rbg2b</td>\n      <td>Selvagens À Procura de Lei</td>\n      <td>Despedida</td>\n      <td>Selvagens à Procura de Lei</td>\n    </tr>\n  </tbody>\n</table>\n</div>"
     },
     "execution_count": 174,
     "metadata": {},
     "output_type": "execute_result"
    }
   ],
   "source": [
    "rs.random_baseline(1)"
   ]
  },
  {
   "cell_type": "markdown",
   "metadata": {},
   "source": [
    "Indeed, the system produces new results for each query/run."
   ]
  },
  {
   "cell_type": "code",
   "execution_count": 175,
   "metadata": {
    "ExecuteTime": {
     "end_time": "2023-11-01T20:43:32.563213900Z",
     "start_time": "2023-11-01T20:43:32.553213700Z"
    }
   },
   "outputs": [
    {
     "data": {
      "text/plain": "                 id           artist                      song  \\\n0  7ilwLwL0mhl95THe        Lady Gaga              Disco Heaven   \n1  vaVl8NO7guwLPxnz  Pescado Rabioso          La Sed Verdadera   \n2  DZgccieoZx4s7hOE           Marduk                    Wolves   \n3  YzfpVoUPlOhBoRGx     Heather Nova                All I Need   \n4  N73SWTe8wMSYSr3F      The Beatles         Good Day Sunshine   \n5  RoYGnxWhAQrYMigJ     Annie Lennox  Keep Young and Beautiful   \n6  xMRjvbB6d4dKjjZj      Mandy Moore     Lock Me In Your Heart   \n7  8R7mj16KUPRk2bUp        The Knack                My Sharona   \n8  hBxPtqcS86sdXygs       Thin Lizzy           It's Only Money   \n9  KKmk2QJLVj2Aqsjg    Ariana Grande                      NASA   \n\n              album_name  \n0       The Fame Monster  \n1                 Artaud  \n2   Those of the Unlight  \n3                  Storm  \n4  Revolver (Remastered)  \n5                   Diva  \n6                So Real  \n7          Get The Knack  \n8              Nightlife  \n9          thank u, next  ",
      "text/html": "<div>\n<style scoped>\n    .dataframe tbody tr th:only-of-type {\n        vertical-align: middle;\n    }\n\n    .dataframe tbody tr th {\n        vertical-align: top;\n    }\n\n    .dataframe thead th {\n        text-align: right;\n    }\n</style>\n<table border=\"1\" class=\"dataframe\">\n  <thead>\n    <tr style=\"text-align: right;\">\n      <th></th>\n      <th>id</th>\n      <th>artist</th>\n      <th>song</th>\n      <th>album_name</th>\n    </tr>\n  </thead>\n  <tbody>\n    <tr>\n      <th>0</th>\n      <td>7ilwLwL0mhl95THe</td>\n      <td>Lady Gaga</td>\n      <td>Disco Heaven</td>\n      <td>The Fame Monster</td>\n    </tr>\n    <tr>\n      <th>1</th>\n      <td>vaVl8NO7guwLPxnz</td>\n      <td>Pescado Rabioso</td>\n      <td>La Sed Verdadera</td>\n      <td>Artaud</td>\n    </tr>\n    <tr>\n      <th>2</th>\n      <td>DZgccieoZx4s7hOE</td>\n      <td>Marduk</td>\n      <td>Wolves</td>\n      <td>Those of the Unlight</td>\n    </tr>\n    <tr>\n      <th>3</th>\n      <td>YzfpVoUPlOhBoRGx</td>\n      <td>Heather Nova</td>\n      <td>All I Need</td>\n      <td>Storm</td>\n    </tr>\n    <tr>\n      <th>4</th>\n      <td>N73SWTe8wMSYSr3F</td>\n      <td>The Beatles</td>\n      <td>Good Day Sunshine</td>\n      <td>Revolver (Remastered)</td>\n    </tr>\n    <tr>\n      <th>5</th>\n      <td>RoYGnxWhAQrYMigJ</td>\n      <td>Annie Lennox</td>\n      <td>Keep Young and Beautiful</td>\n      <td>Diva</td>\n    </tr>\n    <tr>\n      <th>6</th>\n      <td>xMRjvbB6d4dKjjZj</td>\n      <td>Mandy Moore</td>\n      <td>Lock Me In Your Heart</td>\n      <td>So Real</td>\n    </tr>\n    <tr>\n      <th>7</th>\n      <td>8R7mj16KUPRk2bUp</td>\n      <td>The Knack</td>\n      <td>My Sharona</td>\n      <td>Get The Knack</td>\n    </tr>\n    <tr>\n      <th>8</th>\n      <td>hBxPtqcS86sdXygs</td>\n      <td>Thin Lizzy</td>\n      <td>It's Only Money</td>\n      <td>Nightlife</td>\n    </tr>\n    <tr>\n      <th>9</th>\n      <td>KKmk2QJLVj2Aqsjg</td>\n      <td>Ariana Grande</td>\n      <td>NASA</td>\n      <td>thank u, next</td>\n    </tr>\n  </tbody>\n</table>\n</div>"
     },
     "execution_count": 175,
     "metadata": {},
     "output_type": "execute_result"
    }
   ],
   "source": [
    "rs.random_baseline(\"01gyRHLquwXDlhkO\", n=10)"
   ]
  },
  {
   "cell_type": "code",
   "execution_count": 176,
   "metadata": {
    "ExecuteTime": {
     "end_time": "2023-11-01T20:43:32.629213800Z",
     "start_time": "2023-11-01T20:43:32.558215300Z"
    }
   },
   "outputs": [
    {
     "data": {
      "text/plain": "                 id                     artist                           song  \\\n0  Ahk7a8nCNnpXLlRL                  Stan Getz                       Doralice   \n1  wXV8j1tejAN9RnRx               Natalie Cole                        L-O-V-E   \n2  c6iJvTugRHQsxXCm                    Chromeo                          Juice   \n3  2PGRMLWedIL3POUd                     Boston            A Man I'll Never Be   \n4  YQKM2yrv97BjeGAM                 Miike Snow     Animal (Mark Ronson Remix)   \n5  P0akl7avLWycsbUp            The Temper Trap                 Need Your Love   \n6  MIlLY1EQIiEU9QCt                    Florrie                   Free Falling   \n7  8yKfPMz80fHBnj7z            Jennifer Hudson                    Remember Me   \n8  EoNWEa0509U0hczf                 Elton John  Empty Garden (Hey Hey Johnny)   \n9  hsWH10Pe5HQs6YP3  The Dillinger Escape Plan   When Good Dogs Do Bad Things   \n\n                                          album_name  \n0                   Stan Getz: The Bossa Nova Albums  \n1  Unforgettable: A Musical Tribute to Nat King C...  \n2                                    Head Over Heels  \n3                                    Don't Look Back  \n4                                     Animal Remixes  \n5                                    The Temper Trap  \n6                                             Sirens  \n7                                      I Remember Me  \n8                                           Jump Up!  \n9                              Irony Is A Dead Scene  ",
      "text/html": "<div>\n<style scoped>\n    .dataframe tbody tr th:only-of-type {\n        vertical-align: middle;\n    }\n\n    .dataframe tbody tr th {\n        vertical-align: top;\n    }\n\n    .dataframe thead th {\n        text-align: right;\n    }\n</style>\n<table border=\"1\" class=\"dataframe\">\n  <thead>\n    <tr style=\"text-align: right;\">\n      <th></th>\n      <th>id</th>\n      <th>artist</th>\n      <th>song</th>\n      <th>album_name</th>\n    </tr>\n  </thead>\n  <tbody>\n    <tr>\n      <th>0</th>\n      <td>Ahk7a8nCNnpXLlRL</td>\n      <td>Stan Getz</td>\n      <td>Doralice</td>\n      <td>Stan Getz: The Bossa Nova Albums</td>\n    </tr>\n    <tr>\n      <th>1</th>\n      <td>wXV8j1tejAN9RnRx</td>\n      <td>Natalie Cole</td>\n      <td>L-O-V-E</td>\n      <td>Unforgettable: A Musical Tribute to Nat King C...</td>\n    </tr>\n    <tr>\n      <th>2</th>\n      <td>c6iJvTugRHQsxXCm</td>\n      <td>Chromeo</td>\n      <td>Juice</td>\n      <td>Head Over Heels</td>\n    </tr>\n    <tr>\n      <th>3</th>\n      <td>2PGRMLWedIL3POUd</td>\n      <td>Boston</td>\n      <td>A Man I'll Never Be</td>\n      <td>Don't Look Back</td>\n    </tr>\n    <tr>\n      <th>4</th>\n      <td>YQKM2yrv97BjeGAM</td>\n      <td>Miike Snow</td>\n      <td>Animal (Mark Ronson Remix)</td>\n      <td>Animal Remixes</td>\n    </tr>\n    <tr>\n      <th>5</th>\n      <td>P0akl7avLWycsbUp</td>\n      <td>The Temper Trap</td>\n      <td>Need Your Love</td>\n      <td>The Temper Trap</td>\n    </tr>\n    <tr>\n      <th>6</th>\n      <td>MIlLY1EQIiEU9QCt</td>\n      <td>Florrie</td>\n      <td>Free Falling</td>\n      <td>Sirens</td>\n    </tr>\n    <tr>\n      <th>7</th>\n      <td>8yKfPMz80fHBnj7z</td>\n      <td>Jennifer Hudson</td>\n      <td>Remember Me</td>\n      <td>I Remember Me</td>\n    </tr>\n    <tr>\n      <th>8</th>\n      <td>EoNWEa0509U0hczf</td>\n      <td>Elton John</td>\n      <td>Empty Garden (Hey Hey Johnny)</td>\n      <td>Jump Up!</td>\n    </tr>\n    <tr>\n      <th>9</th>\n      <td>hsWH10Pe5HQs6YP3</td>\n      <td>The Dillinger Escape Plan</td>\n      <td>When Good Dogs Do Bad Things</td>\n      <td>Irony Is A Dead Scene</td>\n    </tr>\n  </tbody>\n</table>\n</div>"
     },
     "execution_count": 176,
     "metadata": {},
     "output_type": "execute_result"
    }
   ],
   "source": [
    "rs.random_baseline(\"01gyRHLquwXDlhkO\", n=10)"
   ]
  },
  {
   "cell_type": "markdown",
   "metadata": {},
   "source": [
    "## Text-based (cos-sim, tf-idf)"
   ]
  },
  {
   "cell_type": "code",
   "execution_count": 177,
   "metadata": {
    "ExecuteTime": {
     "end_time": "2023-11-01T20:43:32.650214100Z",
     "start_time": "2023-11-01T20:43:32.571214800Z"
    }
   },
   "outputs": [],
   "source": [
    "rs_cosine = RetrievalSystem(df, cosine_similarity, \"tf-idf\")"
   ]
  },
  {
   "cell_type": "code",
   "execution_count": 178,
   "metadata": {
    "ExecuteTime": {
     "end_time": "2023-11-01T20:43:32.720558100Z",
     "start_time": "2023-11-01T20:43:32.604215200Z"
    }
   },
   "outputs": [
    {
     "data": {
      "text/plain": "                 id                artist               song  \\\n0  74k8qdan0o4DFa7L            Lil' Wayne            Megaman   \n1  wiw2rM2xb4CJ5sVP            Kanye West  Never Let Me Down   \n2  2rQiu54zZBs5Dmmi                  2Pac      Heartz Of Men   \n3  8ptSfMLrxpbfRaxl                   Nas        The Genesis   \n4  h2b5Pi6kMqyAK83G  Bone Thugs-N-Harmony  Look Into My Eyes   \n\n               album_name  similarity  \n0  Tha Carter IV (Deluxe)    0.508260  \n1     The College Dropout    0.504759  \n2          All Eyez On Me    0.485196  \n3                Illmatic    0.445888  \n4              Art of War    0.444548  ",
      "text/html": "<div>\n<style scoped>\n    .dataframe tbody tr th:only-of-type {\n        vertical-align: middle;\n    }\n\n    .dataframe tbody tr th {\n        vertical-align: top;\n    }\n\n    .dataframe thead th {\n        text-align: right;\n    }\n</style>\n<table border=\"1\" class=\"dataframe\">\n  <thead>\n    <tr style=\"text-align: right;\">\n      <th></th>\n      <th>id</th>\n      <th>artist</th>\n      <th>song</th>\n      <th>album_name</th>\n      <th>similarity</th>\n    </tr>\n  </thead>\n  <tbody>\n    <tr>\n      <th>0</th>\n      <td>74k8qdan0o4DFa7L</td>\n      <td>Lil' Wayne</td>\n      <td>Megaman</td>\n      <td>Tha Carter IV (Deluxe)</td>\n      <td>0.508260</td>\n    </tr>\n    <tr>\n      <th>1</th>\n      <td>wiw2rM2xb4CJ5sVP</td>\n      <td>Kanye West</td>\n      <td>Never Let Me Down</td>\n      <td>The College Dropout</td>\n      <td>0.504759</td>\n    </tr>\n    <tr>\n      <th>2</th>\n      <td>2rQiu54zZBs5Dmmi</td>\n      <td>2Pac</td>\n      <td>Heartz Of Men</td>\n      <td>All Eyez On Me</td>\n      <td>0.485196</td>\n    </tr>\n    <tr>\n      <th>3</th>\n      <td>8ptSfMLrxpbfRaxl</td>\n      <td>Nas</td>\n      <td>The Genesis</td>\n      <td>Illmatic</td>\n      <td>0.445888</td>\n    </tr>\n    <tr>\n      <th>4</th>\n      <td>h2b5Pi6kMqyAK83G</td>\n      <td>Bone Thugs-N-Harmony</td>\n      <td>Look Into My Eyes</td>\n      <td>Art of War</td>\n      <td>0.444548</td>\n    </tr>\n  </tbody>\n</table>\n</div>"
     },
     "execution_count": 178,
     "metadata": {},
     "output_type": "execute_result"
    }
   ],
   "source": [
    "rs_cosine.retrieve(1)"
   ]
  },
  {
   "cell_type": "code",
   "execution_count": 179,
   "metadata": {
    "ExecuteTime": {
     "end_time": "2023-11-01T20:43:32.720558100Z",
     "start_time": "2023-11-01T20:43:32.697560200Z"
    }
   },
   "outputs": [
    {
     "data": {
      "text/plain": "                 id                artist               song  \\\n0  74k8qdan0o4DFa7L            Lil' Wayne            Megaman   \n1  wiw2rM2xb4CJ5sVP            Kanye West  Never Let Me Down   \n2  2rQiu54zZBs5Dmmi                  2Pac      Heartz Of Men   \n3  8ptSfMLrxpbfRaxl                   Nas        The Genesis   \n4  h2b5Pi6kMqyAK83G  Bone Thugs-N-Harmony  Look Into My Eyes   \n\n               album_name  similarity  \n0  Tha Carter IV (Deluxe)    0.508260  \n1     The College Dropout    0.504759  \n2          All Eyez On Me    0.485196  \n3                Illmatic    0.445888  \n4              Art of War    0.444548  ",
      "text/html": "<div>\n<style scoped>\n    .dataframe tbody tr th:only-of-type {\n        vertical-align: middle;\n    }\n\n    .dataframe tbody tr th {\n        vertical-align: top;\n    }\n\n    .dataframe thead th {\n        text-align: right;\n    }\n</style>\n<table border=\"1\" class=\"dataframe\">\n  <thead>\n    <tr style=\"text-align: right;\">\n      <th></th>\n      <th>id</th>\n      <th>artist</th>\n      <th>song</th>\n      <th>album_name</th>\n      <th>similarity</th>\n    </tr>\n  </thead>\n  <tbody>\n    <tr>\n      <th>0</th>\n      <td>74k8qdan0o4DFa7L</td>\n      <td>Lil' Wayne</td>\n      <td>Megaman</td>\n      <td>Tha Carter IV (Deluxe)</td>\n      <td>0.508260</td>\n    </tr>\n    <tr>\n      <th>1</th>\n      <td>wiw2rM2xb4CJ5sVP</td>\n      <td>Kanye West</td>\n      <td>Never Let Me Down</td>\n      <td>The College Dropout</td>\n      <td>0.504759</td>\n    </tr>\n    <tr>\n      <th>2</th>\n      <td>2rQiu54zZBs5Dmmi</td>\n      <td>2Pac</td>\n      <td>Heartz Of Men</td>\n      <td>All Eyez On Me</td>\n      <td>0.485196</td>\n    </tr>\n    <tr>\n      <th>3</th>\n      <td>8ptSfMLrxpbfRaxl</td>\n      <td>Nas</td>\n      <td>The Genesis</td>\n      <td>Illmatic</td>\n      <td>0.445888</td>\n    </tr>\n    <tr>\n      <th>4</th>\n      <td>h2b5Pi6kMqyAK83G</td>\n      <td>Bone Thugs-N-Harmony</td>\n      <td>Look Into My Eyes</td>\n      <td>Art of War</td>\n      <td>0.444548</td>\n    </tr>\n  </tbody>\n</table>\n</div>"
     },
     "execution_count": 179,
     "metadata": {},
     "output_type": "execute_result"
    }
   ],
   "source": [
    "# check reproducibility\n",
    "rs_cosine.retrieve(1)"
   ]
  },
  {
   "cell_type": "code",
   "execution_count": 180,
   "metadata": {
    "ExecuteTime": {
     "end_time": "2023-11-01T20:43:32.809557600Z",
     "start_time": "2023-11-01T20:43:32.714558100Z"
    }
   },
   "outputs": [
    {
     "data": {
      "text/plain": "                 id               artist  \\\n0  TEYr2jFKqLiibyI7  Sophie Ellis-Bextor   \n1  FoenRGxt8ED5UDj8               Danger   \n2  r9jKmYrPBtJRgg2k           The Weeknd   \n3  ISH3Weh5lSybSTNb                Wings   \n4  4fNOkOQVsp2lkBen          Alicia Keys   \n5  ptSQMoK9d8CydnHP              Phoenix   \n6  U0fgnyiJBI9Ypbsj                 Mika   \n7  t8M8yJHyRlalRn4E            Hombres G   \n8  zI9DjkxOs5x1EhJQ           Anna Calvi   \n9  xDmgjHEzePoJsvkJ        Kylie Minogue   \n\n                                       song  \\\n0                           Love It Is Love   \n1                                     11h30   \n2  Can't Feel My Face - Martin Garrix Remix   \n3                          Silly Love Songs   \n4                                   Fallin'   \n5                                Chloroform   \n6                                  Lollipop   \n7                                 Te Quiero   \n8                             No More Words   \n9               Under the Influence of Love   \n\n                                 album_name  similarity  \n0                        Shoot from the Hip    0.636165  \n1                            French Attack!    0.604088  \n2  Can't Feel My Face (Martin Garrix Remix)    0.603747  \n3               Wings At The Speed Of Sound    0.591854  \n4       Songs In A Minor (Expanded Edition)    0.590371  \n5                                 Bankrupt!    0.585183  \n6                    Life in Cartoon Motion    0.573458  \n7          Las baladas (Los singles vol II)    0.565957  \n8                                Anna Calvi    0.562936  \n9                               Light Years    0.546204  ",
      "text/html": "<div>\n<style scoped>\n    .dataframe tbody tr th:only-of-type {\n        vertical-align: middle;\n    }\n\n    .dataframe tbody tr th {\n        vertical-align: top;\n    }\n\n    .dataframe thead th {\n        text-align: right;\n    }\n</style>\n<table border=\"1\" class=\"dataframe\">\n  <thead>\n    <tr style=\"text-align: right;\">\n      <th></th>\n      <th>id</th>\n      <th>artist</th>\n      <th>song</th>\n      <th>album_name</th>\n      <th>similarity</th>\n    </tr>\n  </thead>\n  <tbody>\n    <tr>\n      <th>0</th>\n      <td>TEYr2jFKqLiibyI7</td>\n      <td>Sophie Ellis-Bextor</td>\n      <td>Love It Is Love</td>\n      <td>Shoot from the Hip</td>\n      <td>0.636165</td>\n    </tr>\n    <tr>\n      <th>1</th>\n      <td>FoenRGxt8ED5UDj8</td>\n      <td>Danger</td>\n      <td>11h30</td>\n      <td>French Attack!</td>\n      <td>0.604088</td>\n    </tr>\n    <tr>\n      <th>2</th>\n      <td>r9jKmYrPBtJRgg2k</td>\n      <td>The Weeknd</td>\n      <td>Can't Feel My Face - Martin Garrix Remix</td>\n      <td>Can't Feel My Face (Martin Garrix Remix)</td>\n      <td>0.603747</td>\n    </tr>\n    <tr>\n      <th>3</th>\n      <td>ISH3Weh5lSybSTNb</td>\n      <td>Wings</td>\n      <td>Silly Love Songs</td>\n      <td>Wings At The Speed Of Sound</td>\n      <td>0.591854</td>\n    </tr>\n    <tr>\n      <th>4</th>\n      <td>4fNOkOQVsp2lkBen</td>\n      <td>Alicia Keys</td>\n      <td>Fallin'</td>\n      <td>Songs In A Minor (Expanded Edition)</td>\n      <td>0.590371</td>\n    </tr>\n    <tr>\n      <th>5</th>\n      <td>ptSQMoK9d8CydnHP</td>\n      <td>Phoenix</td>\n      <td>Chloroform</td>\n      <td>Bankrupt!</td>\n      <td>0.585183</td>\n    </tr>\n    <tr>\n      <th>6</th>\n      <td>U0fgnyiJBI9Ypbsj</td>\n      <td>Mika</td>\n      <td>Lollipop</td>\n      <td>Life in Cartoon Motion</td>\n      <td>0.573458</td>\n    </tr>\n    <tr>\n      <th>7</th>\n      <td>t8M8yJHyRlalRn4E</td>\n      <td>Hombres G</td>\n      <td>Te Quiero</td>\n      <td>Las baladas (Los singles vol II)</td>\n      <td>0.565957</td>\n    </tr>\n    <tr>\n      <th>8</th>\n      <td>zI9DjkxOs5x1EhJQ</td>\n      <td>Anna Calvi</td>\n      <td>No More Words</td>\n      <td>Anna Calvi</td>\n      <td>0.562936</td>\n    </tr>\n    <tr>\n      <th>9</th>\n      <td>xDmgjHEzePoJsvkJ</td>\n      <td>Kylie Minogue</td>\n      <td>Under the Influence of Love</td>\n      <td>Light Years</td>\n      <td>0.546204</td>\n    </tr>\n  </tbody>\n</table>\n</div>"
     },
     "execution_count": 180,
     "metadata": {},
     "output_type": "execute_result"
    }
   ],
   "source": [
    "rs_cosine.retrieve(\"xUjqXrsiCLb8tPkC\", n=10)"
   ]
  },
  {
   "cell_type": "code",
   "execution_count": 181,
   "metadata": {
    "ExecuteTime": {
     "end_time": "2023-11-01T20:43:32.824562600Z",
     "start_time": "2023-11-01T20:43:32.809557600Z"
    }
   },
   "outputs": [
    {
     "data": {
      "text/plain": "                 id               artist  \\\n0  TEYr2jFKqLiibyI7  Sophie Ellis-Bextor   \n1  FoenRGxt8ED5UDj8               Danger   \n2  r9jKmYrPBtJRgg2k           The Weeknd   \n\n                                       song  \\\n0                           Love It Is Love   \n1                                     11h30   \n2  Can't Feel My Face - Martin Garrix Remix   \n\n                                 album_name  similarity  \n0                        Shoot from the Hip    0.636165  \n1                            French Attack!    0.604088  \n2  Can't Feel My Face (Martin Garrix Remix)    0.603747  ",
      "text/html": "<div>\n<style scoped>\n    .dataframe tbody tr th:only-of-type {\n        vertical-align: middle;\n    }\n\n    .dataframe tbody tr th {\n        vertical-align: top;\n    }\n\n    .dataframe thead th {\n        text-align: right;\n    }\n</style>\n<table border=\"1\" class=\"dataframe\">\n  <thead>\n    <tr style=\"text-align: right;\">\n      <th></th>\n      <th>id</th>\n      <th>artist</th>\n      <th>song</th>\n      <th>album_name</th>\n      <th>similarity</th>\n    </tr>\n  </thead>\n  <tbody>\n    <tr>\n      <th>0</th>\n      <td>TEYr2jFKqLiibyI7</td>\n      <td>Sophie Ellis-Bextor</td>\n      <td>Love It Is Love</td>\n      <td>Shoot from the Hip</td>\n      <td>0.636165</td>\n    </tr>\n    <tr>\n      <th>1</th>\n      <td>FoenRGxt8ED5UDj8</td>\n      <td>Danger</td>\n      <td>11h30</td>\n      <td>French Attack!</td>\n      <td>0.604088</td>\n    </tr>\n    <tr>\n      <th>2</th>\n      <td>r9jKmYrPBtJRgg2k</td>\n      <td>The Weeknd</td>\n      <td>Can't Feel My Face - Martin Garrix Remix</td>\n      <td>Can't Feel My Face (Martin Garrix Remix)</td>\n      <td>0.603747</td>\n    </tr>\n  </tbody>\n</table>\n</div>"
     },
     "execution_count": 181,
     "metadata": {},
     "output_type": "execute_result"
    }
   ],
   "source": [
    "rs_cosine.retrieve(\"xUjqXrsiCLb8tPkC\", n=3)"
   ]
  },
  {
   "cell_type": "code",
   "execution_count": 182,
   "metadata": {
    "ExecuteTime": {
     "end_time": "2023-11-01T20:43:32.919830500Z",
     "start_time": "2023-11-01T20:43:32.825561900Z"
    }
   },
   "outputs": [
    {
     "data": {
      "text/plain": "                 id           artist                      song  \\\n0  GuH9cRalvkhXvmaZ       Switchfoot                    Always   \n1  yP56QH0tXHXsDNF8  Whitney Houston    I Will Always Love You   \n2  h47nxyjyRPFroIaQ        k.d. lang          Constant Craving   \n3  muLitfTmi9qTxcFV       HammerFall            Always Will Be   \n4  7av2576enFL1qIFt             Sade        You're Not The Man   \n5  d0ANC4yI7hpiCzPe     Taylor Dayne      I'll Always Love You   \n6  4TzvRc17Z1Rn6LWj   Sophie Zelmani                Always You   \n7  aIJRXTjxYPzwX2Y7      Ace of Base  Always Have, Always Will   \n8  BRT3Xamcitwly4w6           Forfun                Pra Sempre   \n9  OH7BeCnl70Kq6bA3    Damian Marley             There For You   \n\n                                          album_name  similarity  \n0                                    Hello Hurricane    0.483889  \n1          The Bodyguard - Original Soundtrack Album    0.483217  \n2                                       Recollection    0.472977  \n3                                  Gates Of Dalhalla    0.458007  \n4                                            Promise    0.455112  \n5             Tell It to My Heart (Expanded Edition)    0.424737  \n6  My Best Friend's Wedding: Music From The Motio...    0.423746  \n7                               Flowers (Remastered)    0.421836  \n8                              Alegria Compartilhada    0.418782  \n9                                 Welcome to Jamrock    0.408642  ",
      "text/html": "<div>\n<style scoped>\n    .dataframe tbody tr th:only-of-type {\n        vertical-align: middle;\n    }\n\n    .dataframe tbody tr th {\n        vertical-align: top;\n    }\n\n    .dataframe thead th {\n        text-align: right;\n    }\n</style>\n<table border=\"1\" class=\"dataframe\">\n  <thead>\n    <tr style=\"text-align: right;\">\n      <th></th>\n      <th>id</th>\n      <th>artist</th>\n      <th>song</th>\n      <th>album_name</th>\n      <th>similarity</th>\n    </tr>\n  </thead>\n  <tbody>\n    <tr>\n      <th>0</th>\n      <td>GuH9cRalvkhXvmaZ</td>\n      <td>Switchfoot</td>\n      <td>Always</td>\n      <td>Hello Hurricane</td>\n      <td>0.483889</td>\n    </tr>\n    <tr>\n      <th>1</th>\n      <td>yP56QH0tXHXsDNF8</td>\n      <td>Whitney Houston</td>\n      <td>I Will Always Love You</td>\n      <td>The Bodyguard - Original Soundtrack Album</td>\n      <td>0.483217</td>\n    </tr>\n    <tr>\n      <th>2</th>\n      <td>h47nxyjyRPFroIaQ</td>\n      <td>k.d. lang</td>\n      <td>Constant Craving</td>\n      <td>Recollection</td>\n      <td>0.472977</td>\n    </tr>\n    <tr>\n      <th>3</th>\n      <td>muLitfTmi9qTxcFV</td>\n      <td>HammerFall</td>\n      <td>Always Will Be</td>\n      <td>Gates Of Dalhalla</td>\n      <td>0.458007</td>\n    </tr>\n    <tr>\n      <th>4</th>\n      <td>7av2576enFL1qIFt</td>\n      <td>Sade</td>\n      <td>You're Not The Man</td>\n      <td>Promise</td>\n      <td>0.455112</td>\n    </tr>\n    <tr>\n      <th>5</th>\n      <td>d0ANC4yI7hpiCzPe</td>\n      <td>Taylor Dayne</td>\n      <td>I'll Always Love You</td>\n      <td>Tell It to My Heart (Expanded Edition)</td>\n      <td>0.424737</td>\n    </tr>\n    <tr>\n      <th>6</th>\n      <td>4TzvRc17Z1Rn6LWj</td>\n      <td>Sophie Zelmani</td>\n      <td>Always You</td>\n      <td>My Best Friend's Wedding: Music From The Motio...</td>\n      <td>0.423746</td>\n    </tr>\n    <tr>\n      <th>7</th>\n      <td>aIJRXTjxYPzwX2Y7</td>\n      <td>Ace of Base</td>\n      <td>Always Have, Always Will</td>\n      <td>Flowers (Remastered)</td>\n      <td>0.421836</td>\n    </tr>\n    <tr>\n      <th>8</th>\n      <td>BRT3Xamcitwly4w6</td>\n      <td>Forfun</td>\n      <td>Pra Sempre</td>\n      <td>Alegria Compartilhada</td>\n      <td>0.418782</td>\n    </tr>\n    <tr>\n      <th>9</th>\n      <td>OH7BeCnl70Kq6bA3</td>\n      <td>Damian Marley</td>\n      <td>There For You</td>\n      <td>Welcome to Jamrock</td>\n      <td>0.408642</td>\n    </tr>\n  </tbody>\n</table>\n</div>"
     },
     "execution_count": 182,
     "metadata": {},
     "output_type": "execute_result"
    }
   ],
   "source": [
    "sample_song = SongInfo(title=\"Always\", artist=\"Bon Jovi\")\n",
    "\n",
    "rs_cosine.retrieve(sample_song, n=10)"
   ]
  },
  {
   "cell_type": "markdown",
   "metadata": {},
   "source": [
    "## Text-based (cos-sim, \"feature\")"
   ]
  },
  {
   "cell_type": "markdown",
   "metadata": {},
   "source": [
    "We use BERT embeddings."
   ]
  },
  {
   "cell_type": "code",
   "execution_count": 183,
   "metadata": {
    "ExecuteTime": {
     "end_time": "2023-11-01T20:43:32.952843400Z",
     "start_time": "2023-11-01T20:43:32.918830Z"
    }
   },
   "outputs": [],
   "source": [
    "rs_bert = RetrievalSystem(df, cosine_similarity, \"bert_embedding\")"
   ]
  },
  {
   "cell_type": "code",
   "execution_count": 184,
   "metadata": {
    "ExecuteTime": {
     "end_time": "2023-11-01T20:43:33.029841900Z",
     "start_time": "2023-11-01T20:43:32.949841700Z"
    }
   },
   "outputs": [
    {
     "data": {
      "text/plain": "                 id          artist               song  \\\n0  jj55fEqkySIv4qy1       YNW Melly  Murder On My Mind   \n1  OokmnsloeW1Sh3NF         Freeway         What We Do   \n2  jJEgEAF2iuW4yk9g     Danny Brown       When It Rain   \n3  M65mU1UIozrDxcvu  Bad Meets Evil          Fast Lane   \n4  4r1IjzqHAOYQlgfS          Eminem               Fall   \n\n                  album_name  similarity  \n0                   I AM YOU    0.750990  \n1       Philadelphia Freeway    0.731522  \n2        Atrocity Exhibition    0.729569  \n3  Hell: The Sequel (Deluxe)    0.720946  \n4                   Kamikaze    0.718222  ",
      "text/html": "<div>\n<style scoped>\n    .dataframe tbody tr th:only-of-type {\n        vertical-align: middle;\n    }\n\n    .dataframe tbody tr th {\n        vertical-align: top;\n    }\n\n    .dataframe thead th {\n        text-align: right;\n    }\n</style>\n<table border=\"1\" class=\"dataframe\">\n  <thead>\n    <tr style=\"text-align: right;\">\n      <th></th>\n      <th>id</th>\n      <th>artist</th>\n      <th>song</th>\n      <th>album_name</th>\n      <th>similarity</th>\n    </tr>\n  </thead>\n  <tbody>\n    <tr>\n      <th>0</th>\n      <td>jj55fEqkySIv4qy1</td>\n      <td>YNW Melly</td>\n      <td>Murder On My Mind</td>\n      <td>I AM YOU</td>\n      <td>0.750990</td>\n    </tr>\n    <tr>\n      <th>1</th>\n      <td>OokmnsloeW1Sh3NF</td>\n      <td>Freeway</td>\n      <td>What We Do</td>\n      <td>Philadelphia Freeway</td>\n      <td>0.731522</td>\n    </tr>\n    <tr>\n      <th>2</th>\n      <td>jJEgEAF2iuW4yk9g</td>\n      <td>Danny Brown</td>\n      <td>When It Rain</td>\n      <td>Atrocity Exhibition</td>\n      <td>0.729569</td>\n    </tr>\n    <tr>\n      <th>3</th>\n      <td>M65mU1UIozrDxcvu</td>\n      <td>Bad Meets Evil</td>\n      <td>Fast Lane</td>\n      <td>Hell: The Sequel (Deluxe)</td>\n      <td>0.720946</td>\n    </tr>\n    <tr>\n      <th>4</th>\n      <td>4r1IjzqHAOYQlgfS</td>\n      <td>Eminem</td>\n      <td>Fall</td>\n      <td>Kamikaze</td>\n      <td>0.718222</td>\n    </tr>\n  </tbody>\n</table>\n</div>"
     },
     "execution_count": 184,
     "metadata": {},
     "output_type": "execute_result"
    }
   ],
   "source": [
    "rs_bert.retrieve(1)"
   ]
  },
  {
   "cell_type": "code",
   "execution_count": 185,
   "metadata": {
    "ExecuteTime": {
     "end_time": "2023-11-01T20:43:33.045841500Z",
     "start_time": "2023-11-01T20:43:33.033840800Z"
    }
   },
   "outputs": [
    {
     "data": {
      "text/plain": "                 id          artist               song  \\\n0  jj55fEqkySIv4qy1       YNW Melly  Murder On My Mind   \n1  OokmnsloeW1Sh3NF         Freeway         What We Do   \n2  jJEgEAF2iuW4yk9g     Danny Brown       When It Rain   \n3  M65mU1UIozrDxcvu  Bad Meets Evil          Fast Lane   \n4  4r1IjzqHAOYQlgfS          Eminem               Fall   \n\n                  album_name  similarity  \n0                   I AM YOU    0.750990  \n1       Philadelphia Freeway    0.731522  \n2        Atrocity Exhibition    0.729569  \n3  Hell: The Sequel (Deluxe)    0.720946  \n4                   Kamikaze    0.718222  ",
      "text/html": "<div>\n<style scoped>\n    .dataframe tbody tr th:only-of-type {\n        vertical-align: middle;\n    }\n\n    .dataframe tbody tr th {\n        vertical-align: top;\n    }\n\n    .dataframe thead th {\n        text-align: right;\n    }\n</style>\n<table border=\"1\" class=\"dataframe\">\n  <thead>\n    <tr style=\"text-align: right;\">\n      <th></th>\n      <th>id</th>\n      <th>artist</th>\n      <th>song</th>\n      <th>album_name</th>\n      <th>similarity</th>\n    </tr>\n  </thead>\n  <tbody>\n    <tr>\n      <th>0</th>\n      <td>jj55fEqkySIv4qy1</td>\n      <td>YNW Melly</td>\n      <td>Murder On My Mind</td>\n      <td>I AM YOU</td>\n      <td>0.750990</td>\n    </tr>\n    <tr>\n      <th>1</th>\n      <td>OokmnsloeW1Sh3NF</td>\n      <td>Freeway</td>\n      <td>What We Do</td>\n      <td>Philadelphia Freeway</td>\n      <td>0.731522</td>\n    </tr>\n    <tr>\n      <th>2</th>\n      <td>jJEgEAF2iuW4yk9g</td>\n      <td>Danny Brown</td>\n      <td>When It Rain</td>\n      <td>Atrocity Exhibition</td>\n      <td>0.729569</td>\n    </tr>\n    <tr>\n      <th>3</th>\n      <td>M65mU1UIozrDxcvu</td>\n      <td>Bad Meets Evil</td>\n      <td>Fast Lane</td>\n      <td>Hell: The Sequel (Deluxe)</td>\n      <td>0.720946</td>\n    </tr>\n    <tr>\n      <th>4</th>\n      <td>4r1IjzqHAOYQlgfS</td>\n      <td>Eminem</td>\n      <td>Fall</td>\n      <td>Kamikaze</td>\n      <td>0.718222</td>\n    </tr>\n  </tbody>\n</table>\n</div>"
     },
     "execution_count": 185,
     "metadata": {},
     "output_type": "execute_result"
    }
   ],
   "source": [
    "# check reproducibility\n",
    "rs_bert.retrieve(1)"
   ]
  },
  {
   "cell_type": "code",
   "execution_count": 186,
   "metadata": {
    "ExecuteTime": {
     "end_time": "2023-11-01T20:43:33.140842800Z",
     "start_time": "2023-11-01T20:43:33.046846200Z"
    }
   },
   "outputs": [
    {
     "data": {
      "text/plain": "                 id                    artist                        song  \\\n0  KJyVTXfwdjUGtj5m                   Boyzone         Love Is A Hurricane   \n1  vMluKVsjLFKZEmdg                Rose Royce                   Best Love   \n2  uRNge3sN74NdIaYi                Pixie Lott                     My Love   \n3  8nyPt8gB1K8g5FNv                  Bon Jovi                      Always   \n4  w64KwSB7npnE8hb2                     Feist              Inside and Out   \n5  gkaNGhUTCZzICBcE             Frankie Valli  Can't Take My Eyes Off You   \n6  DOlk8ct9zA9uIFX0  Selena Gomez & The Scene         A Year Without Rain   \n7  8xFD1UO8nr1qwOg6                Ed Sheeran           Thinking Out Loud   \n8  gX0rgtPnKPOD9qhT              Mariah Carey            To Be Around You   \n9  xQfqDtAQbxEn7PVM            Jackie Mendoza                    De Lejos   \n\n                                          album_name  similarity  \n0                                            Brother    0.838821  \n1                              Essential - Soul Love    0.816716  \n2                                         Turn It Up    0.809644  \n3                                         Cross Road    0.809535  \n4                                         Let It Die    0.809321  \n5  Relaxing Classical Playlist: Chilled Music for...    0.808088  \n6                                A Year Without Rain    0.807728  \n7                                 x (Deluxe Edition)    0.804023  \n8                                           Emotions    0.802836  \n9                                           De Lejos    0.801660  ",
      "text/html": "<div>\n<style scoped>\n    .dataframe tbody tr th:only-of-type {\n        vertical-align: middle;\n    }\n\n    .dataframe tbody tr th {\n        vertical-align: top;\n    }\n\n    .dataframe thead th {\n        text-align: right;\n    }\n</style>\n<table border=\"1\" class=\"dataframe\">\n  <thead>\n    <tr style=\"text-align: right;\">\n      <th></th>\n      <th>id</th>\n      <th>artist</th>\n      <th>song</th>\n      <th>album_name</th>\n      <th>similarity</th>\n    </tr>\n  </thead>\n  <tbody>\n    <tr>\n      <th>0</th>\n      <td>KJyVTXfwdjUGtj5m</td>\n      <td>Boyzone</td>\n      <td>Love Is A Hurricane</td>\n      <td>Brother</td>\n      <td>0.838821</td>\n    </tr>\n    <tr>\n      <th>1</th>\n      <td>vMluKVsjLFKZEmdg</td>\n      <td>Rose Royce</td>\n      <td>Best Love</td>\n      <td>Essential - Soul Love</td>\n      <td>0.816716</td>\n    </tr>\n    <tr>\n      <th>2</th>\n      <td>uRNge3sN74NdIaYi</td>\n      <td>Pixie Lott</td>\n      <td>My Love</td>\n      <td>Turn It Up</td>\n      <td>0.809644</td>\n    </tr>\n    <tr>\n      <th>3</th>\n      <td>8nyPt8gB1K8g5FNv</td>\n      <td>Bon Jovi</td>\n      <td>Always</td>\n      <td>Cross Road</td>\n      <td>0.809535</td>\n    </tr>\n    <tr>\n      <th>4</th>\n      <td>w64KwSB7npnE8hb2</td>\n      <td>Feist</td>\n      <td>Inside and Out</td>\n      <td>Let It Die</td>\n      <td>0.809321</td>\n    </tr>\n    <tr>\n      <th>5</th>\n      <td>gkaNGhUTCZzICBcE</td>\n      <td>Frankie Valli</td>\n      <td>Can't Take My Eyes Off You</td>\n      <td>Relaxing Classical Playlist: Chilled Music for...</td>\n      <td>0.808088</td>\n    </tr>\n    <tr>\n      <th>6</th>\n      <td>DOlk8ct9zA9uIFX0</td>\n      <td>Selena Gomez &amp; The Scene</td>\n      <td>A Year Without Rain</td>\n      <td>A Year Without Rain</td>\n      <td>0.807728</td>\n    </tr>\n    <tr>\n      <th>7</th>\n      <td>8xFD1UO8nr1qwOg6</td>\n      <td>Ed Sheeran</td>\n      <td>Thinking Out Loud</td>\n      <td>x (Deluxe Edition)</td>\n      <td>0.804023</td>\n    </tr>\n    <tr>\n      <th>8</th>\n      <td>gX0rgtPnKPOD9qhT</td>\n      <td>Mariah Carey</td>\n      <td>To Be Around You</td>\n      <td>Emotions</td>\n      <td>0.802836</td>\n    </tr>\n    <tr>\n      <th>9</th>\n      <td>xQfqDtAQbxEn7PVM</td>\n      <td>Jackie Mendoza</td>\n      <td>De Lejos</td>\n      <td>De Lejos</td>\n      <td>0.801660</td>\n    </tr>\n  </tbody>\n</table>\n</div>"
     },
     "execution_count": 186,
     "metadata": {},
     "output_type": "execute_result"
    }
   ],
   "source": [
    "rs_bert.retrieve(\"xUjqXrsiCLb8tPkC\", n=10)"
   ]
  },
  {
   "cell_type": "code",
   "execution_count": 187,
   "metadata": {
    "ExecuteTime": {
     "end_time": "2023-11-01T20:43:33.180842400Z",
     "start_time": "2023-11-01T20:43:33.140842800Z"
    }
   },
   "outputs": [
    {
     "data": {
      "text/plain": "                 id      artist                 song             album_name  \\\n0  KJyVTXfwdjUGtj5m     Boyzone  Love Is A Hurricane                Brother   \n1  vMluKVsjLFKZEmdg  Rose Royce            Best Love  Essential - Soul Love   \n2  uRNge3sN74NdIaYi  Pixie Lott              My Love             Turn It Up   \n\n   similarity  \n0    0.838821  \n1    0.816716  \n2    0.809644  ",
      "text/html": "<div>\n<style scoped>\n    .dataframe tbody tr th:only-of-type {\n        vertical-align: middle;\n    }\n\n    .dataframe tbody tr th {\n        vertical-align: top;\n    }\n\n    .dataframe thead th {\n        text-align: right;\n    }\n</style>\n<table border=\"1\" class=\"dataframe\">\n  <thead>\n    <tr style=\"text-align: right;\">\n      <th></th>\n      <th>id</th>\n      <th>artist</th>\n      <th>song</th>\n      <th>album_name</th>\n      <th>similarity</th>\n    </tr>\n  </thead>\n  <tbody>\n    <tr>\n      <th>0</th>\n      <td>KJyVTXfwdjUGtj5m</td>\n      <td>Boyzone</td>\n      <td>Love Is A Hurricane</td>\n      <td>Brother</td>\n      <td>0.838821</td>\n    </tr>\n    <tr>\n      <th>1</th>\n      <td>vMluKVsjLFKZEmdg</td>\n      <td>Rose Royce</td>\n      <td>Best Love</td>\n      <td>Essential - Soul Love</td>\n      <td>0.816716</td>\n    </tr>\n    <tr>\n      <th>2</th>\n      <td>uRNge3sN74NdIaYi</td>\n      <td>Pixie Lott</td>\n      <td>My Love</td>\n      <td>Turn It Up</td>\n      <td>0.809644</td>\n    </tr>\n  </tbody>\n</table>\n</div>"
     },
     "execution_count": 187,
     "metadata": {},
     "output_type": "execute_result"
    }
   ],
   "source": [
    "rs_bert.retrieve(\"xUjqXrsiCLb8tPkC\", n=3)"
   ]
  },
  {
   "cell_type": "code",
   "execution_count": 188,
   "metadata": {
    "ExecuteTime": {
     "end_time": "2023-11-01T20:43:33.254841400Z",
     "start_time": "2023-11-01T20:43:33.155843200Z"
    }
   },
   "outputs": [
    {
     "data": {
      "text/plain": "                 id         artist                              song  \\\n0  g5Y3fz7C9EnMXdMA   Lana Del Rey  Blue Jeans (Gesaffelstein Remix)   \n1  G2otV6WAmea6VB1f          Steps                         Heartbeat   \n2  DzOzu2jdYJQY7xH9   Mariah Carey                 Whenever You Call   \n3  ire6sDD2ryFx62Vx     Supertramp                   My Kind Of Lady   \n4  RvExtv1mIVglWrLc  Amber Pacific                     Gone So Young   \n5  8xFD1UO8nr1qwOg6     Ed Sheeran                 Thinking Out Loud   \n6  qbNvLKSCnMbHHD26  Atomic Kitten                 If You Come to Me   \n7  C9TfpaaJWG6ZbRmg        Oh Land                   Love You Better   \n8  WYDhkPUgu71CQnF2   Shania Twain            Forever and for Always   \n9  3vbtwqhpTpQXYKs5     Ed Sheeran                      Give Me Love   \n\n                        album_name  similarity  \n0               Blue Jeans Remixes    0.861671  \n1                         Step One    0.855285  \n2                        Butterfly    0.850007  \n3   Famous Last Words (Remastered)    0.846296  \n4  The Possibility and the Promise    0.845325  \n5               x (Deluxe Edition)    0.844703  \n6                     Ladies Night    0.839742  \n7                         Wishbone    0.832535  \n8                              Up!    0.832055  \n9                                +    0.831858  ",
      "text/html": "<div>\n<style scoped>\n    .dataframe tbody tr th:only-of-type {\n        vertical-align: middle;\n    }\n\n    .dataframe tbody tr th {\n        vertical-align: top;\n    }\n\n    .dataframe thead th {\n        text-align: right;\n    }\n</style>\n<table border=\"1\" class=\"dataframe\">\n  <thead>\n    <tr style=\"text-align: right;\">\n      <th></th>\n      <th>id</th>\n      <th>artist</th>\n      <th>song</th>\n      <th>album_name</th>\n      <th>similarity</th>\n    </tr>\n  </thead>\n  <tbody>\n    <tr>\n      <th>0</th>\n      <td>g5Y3fz7C9EnMXdMA</td>\n      <td>Lana Del Rey</td>\n      <td>Blue Jeans (Gesaffelstein Remix)</td>\n      <td>Blue Jeans Remixes</td>\n      <td>0.861671</td>\n    </tr>\n    <tr>\n      <th>1</th>\n      <td>G2otV6WAmea6VB1f</td>\n      <td>Steps</td>\n      <td>Heartbeat</td>\n      <td>Step One</td>\n      <td>0.855285</td>\n    </tr>\n    <tr>\n      <th>2</th>\n      <td>DzOzu2jdYJQY7xH9</td>\n      <td>Mariah Carey</td>\n      <td>Whenever You Call</td>\n      <td>Butterfly</td>\n      <td>0.850007</td>\n    </tr>\n    <tr>\n      <th>3</th>\n      <td>ire6sDD2ryFx62Vx</td>\n      <td>Supertramp</td>\n      <td>My Kind Of Lady</td>\n      <td>Famous Last Words (Remastered)</td>\n      <td>0.846296</td>\n    </tr>\n    <tr>\n      <th>4</th>\n      <td>RvExtv1mIVglWrLc</td>\n      <td>Amber Pacific</td>\n      <td>Gone So Young</td>\n      <td>The Possibility and the Promise</td>\n      <td>0.845325</td>\n    </tr>\n    <tr>\n      <th>5</th>\n      <td>8xFD1UO8nr1qwOg6</td>\n      <td>Ed Sheeran</td>\n      <td>Thinking Out Loud</td>\n      <td>x (Deluxe Edition)</td>\n      <td>0.844703</td>\n    </tr>\n    <tr>\n      <th>6</th>\n      <td>qbNvLKSCnMbHHD26</td>\n      <td>Atomic Kitten</td>\n      <td>If You Come to Me</td>\n      <td>Ladies Night</td>\n      <td>0.839742</td>\n    </tr>\n    <tr>\n      <th>7</th>\n      <td>C9TfpaaJWG6ZbRmg</td>\n      <td>Oh Land</td>\n      <td>Love You Better</td>\n      <td>Wishbone</td>\n      <td>0.832535</td>\n    </tr>\n    <tr>\n      <th>8</th>\n      <td>WYDhkPUgu71CQnF2</td>\n      <td>Shania Twain</td>\n      <td>Forever and for Always</td>\n      <td>Up!</td>\n      <td>0.832055</td>\n    </tr>\n    <tr>\n      <th>9</th>\n      <td>3vbtwqhpTpQXYKs5</td>\n      <td>Ed Sheeran</td>\n      <td>Give Me Love</td>\n      <td>+</td>\n      <td>0.831858</td>\n    </tr>\n  </tbody>\n</table>\n</div>"
     },
     "execution_count": 188,
     "metadata": {},
     "output_type": "execute_result"
    }
   ],
   "source": [
    "sample_song = SongInfo(title=\"Always\", artist=\"Bon Jovi\")\n",
    "\n",
    "rs_bert.retrieve(sample_song, n=10)"
   ]
  },
  {
   "cell_type": "markdown",
   "metadata": {},
   "source": [
    "## Text-based(\"\"similarity\", \"feature\")\n",
    "Finally, we use word2vec embeddings as features and the simple Dot Product as similarity metric."
   ]
  },
  {
   "cell_type": "code",
   "execution_count": 189,
   "metadata": {
    "ExecuteTime": {
     "end_time": "2023-11-01T20:43:33.272841100Z",
     "start_time": "2023-11-01T20:43:33.235842400Z"
    }
   },
   "outputs": [],
   "source": [
    "rs_w2v = RetrievalSystem(df, dot_product, \"word2vec_embedding\")"
   ]
  },
  {
   "cell_type": "code",
   "execution_count": 190,
   "metadata": {
    "ExecuteTime": {
     "end_time": "2023-11-01T20:43:33.316841800Z",
     "start_time": "2023-11-01T20:43:33.254841400Z"
    }
   },
   "outputs": [
    {
     "data": {
      "text/plain": "                 id       artist            song                  album_name  \\\n0  kqVWk6G25ortikfF  Tame Impala  Beverly Laurel  Lonerism B-Sides & Remixes   \n1  VJXAAxF84r7eg4bf         Blur          I Know   Leisure (Special Edition)   \n2  9ziWMjkmNbJKtU8Y  Tame Impala           Nangs                    Currents   \n3  PqjX8Jm9lA7ogAe4      Solange       Time (Is)             When I Get Home   \n4  Qh5XjFCInkeOAYzu   Supergrass            Time               I Should Coco   \n\n   similarity  \n0    0.206980  \n1    0.200881  \n2    0.200703  \n3    0.200372  \n4    0.200032  ",
      "text/html": "<div>\n<style scoped>\n    .dataframe tbody tr th:only-of-type {\n        vertical-align: middle;\n    }\n\n    .dataframe tbody tr th {\n        vertical-align: top;\n    }\n\n    .dataframe thead th {\n        text-align: right;\n    }\n</style>\n<table border=\"1\" class=\"dataframe\">\n  <thead>\n    <tr style=\"text-align: right;\">\n      <th></th>\n      <th>id</th>\n      <th>artist</th>\n      <th>song</th>\n      <th>album_name</th>\n      <th>similarity</th>\n    </tr>\n  </thead>\n  <tbody>\n    <tr>\n      <th>0</th>\n      <td>kqVWk6G25ortikfF</td>\n      <td>Tame Impala</td>\n      <td>Beverly Laurel</td>\n      <td>Lonerism B-Sides &amp; Remixes</td>\n      <td>0.206980</td>\n    </tr>\n    <tr>\n      <th>1</th>\n      <td>VJXAAxF84r7eg4bf</td>\n      <td>Blur</td>\n      <td>I Know</td>\n      <td>Leisure (Special Edition)</td>\n      <td>0.200881</td>\n    </tr>\n    <tr>\n      <th>2</th>\n      <td>9ziWMjkmNbJKtU8Y</td>\n      <td>Tame Impala</td>\n      <td>Nangs</td>\n      <td>Currents</td>\n      <td>0.200703</td>\n    </tr>\n    <tr>\n      <th>3</th>\n      <td>PqjX8Jm9lA7ogAe4</td>\n      <td>Solange</td>\n      <td>Time (Is)</td>\n      <td>When I Get Home</td>\n      <td>0.200372</td>\n    </tr>\n    <tr>\n      <th>4</th>\n      <td>Qh5XjFCInkeOAYzu</td>\n      <td>Supergrass</td>\n      <td>Time</td>\n      <td>I Should Coco</td>\n      <td>0.200032</td>\n    </tr>\n  </tbody>\n</table>\n</div>"
     },
     "execution_count": 190,
     "metadata": {},
     "output_type": "execute_result"
    }
   ],
   "source": [
    "rs_w2v.retrieve(1)"
   ]
  },
  {
   "cell_type": "code",
   "execution_count": 191,
   "metadata": {
    "ExecuteTime": {
     "end_time": "2023-11-01T20:43:33.333841400Z",
     "start_time": "2023-11-01T20:43:33.299843300Z"
    }
   },
   "outputs": [
    {
     "data": {
      "text/plain": "                 id       artist            song                  album_name  \\\n0  kqVWk6G25ortikfF  Tame Impala  Beverly Laurel  Lonerism B-Sides & Remixes   \n1  VJXAAxF84r7eg4bf         Blur          I Know   Leisure (Special Edition)   \n2  9ziWMjkmNbJKtU8Y  Tame Impala           Nangs                    Currents   \n3  PqjX8Jm9lA7ogAe4      Solange       Time (Is)             When I Get Home   \n4  Qh5XjFCInkeOAYzu   Supergrass            Time               I Should Coco   \n\n   similarity  \n0    0.206980  \n1    0.200881  \n2    0.200703  \n3    0.200372  \n4    0.200032  ",
      "text/html": "<div>\n<style scoped>\n    .dataframe tbody tr th:only-of-type {\n        vertical-align: middle;\n    }\n\n    .dataframe tbody tr th {\n        vertical-align: top;\n    }\n\n    .dataframe thead th {\n        text-align: right;\n    }\n</style>\n<table border=\"1\" class=\"dataframe\">\n  <thead>\n    <tr style=\"text-align: right;\">\n      <th></th>\n      <th>id</th>\n      <th>artist</th>\n      <th>song</th>\n      <th>album_name</th>\n      <th>similarity</th>\n    </tr>\n  </thead>\n  <tbody>\n    <tr>\n      <th>0</th>\n      <td>kqVWk6G25ortikfF</td>\n      <td>Tame Impala</td>\n      <td>Beverly Laurel</td>\n      <td>Lonerism B-Sides &amp; Remixes</td>\n      <td>0.206980</td>\n    </tr>\n    <tr>\n      <th>1</th>\n      <td>VJXAAxF84r7eg4bf</td>\n      <td>Blur</td>\n      <td>I Know</td>\n      <td>Leisure (Special Edition)</td>\n      <td>0.200881</td>\n    </tr>\n    <tr>\n      <th>2</th>\n      <td>9ziWMjkmNbJKtU8Y</td>\n      <td>Tame Impala</td>\n      <td>Nangs</td>\n      <td>Currents</td>\n      <td>0.200703</td>\n    </tr>\n    <tr>\n      <th>3</th>\n      <td>PqjX8Jm9lA7ogAe4</td>\n      <td>Solange</td>\n      <td>Time (Is)</td>\n      <td>When I Get Home</td>\n      <td>0.200372</td>\n    </tr>\n    <tr>\n      <th>4</th>\n      <td>Qh5XjFCInkeOAYzu</td>\n      <td>Supergrass</td>\n      <td>Time</td>\n      <td>I Should Coco</td>\n      <td>0.200032</td>\n    </tr>\n  </tbody>\n</table>\n</div>"
     },
     "execution_count": 191,
     "metadata": {},
     "output_type": "execute_result"
    }
   ],
   "source": [
    "# check reproducibility\n",
    "rs_w2v.retrieve(1)"
   ]
  },
  {
   "cell_type": "code",
   "execution_count": 192,
   "metadata": {
    "ExecuteTime": {
     "end_time": "2023-11-01T20:43:33.402841400Z",
     "start_time": "2023-11-01T20:43:33.316841800Z"
    }
   },
   "outputs": [
    {
     "data": {
      "text/plain": "                 id                             artist  \\\n0  alViVmyWPgD1TNjV                      Amy Winehouse   \n1  Qh5XjFCInkeOAYzu                         Supergrass   \n2  FoenRGxt8ED5UDj8                             Danger   \n3  bIDVY7FbsuHTgV50                               Bent   \n4  9ziWMjkmNbJKtU8Y                        Tame Impala   \n5  VJXAAxF84r7eg4bf                               Blur   \n6  kqVWk6G25ortikfF                        Tame Impala   \n7  wthZJWSU9CZmQ8XX                          September   \n8  4XJZFt2CYHjejWh7                             Avicii   \n9  oaSlacL5oON2ueP8  Orchestral Manoeuvres in the Dark   \n\n                         song                  album_name  similarity  \n0  To Know Him Is to Love Him      Back To Black: B-Sides    0.258230  \n1                        Time               I Should Coco    0.257726  \n2                       11h30              French Attack!    0.256744  \n3                 To Be Loved   Intercept! Deluxe Edition    0.256257  \n4                       Nangs                    Currents    0.251869  \n5                      I Know   Leisure (Special Edition)    0.249743  \n6              Beverly Laurel  Lonerism B-Sides & Remixes    0.248669  \n7          Because I Love You                   September    0.245535  \n8         Levels - Radio Edit                 Sommer 2019    0.243641  \n9      (Forever) Live and Die             The Pacific Age    0.241794  ",
      "text/html": "<div>\n<style scoped>\n    .dataframe tbody tr th:only-of-type {\n        vertical-align: middle;\n    }\n\n    .dataframe tbody tr th {\n        vertical-align: top;\n    }\n\n    .dataframe thead th {\n        text-align: right;\n    }\n</style>\n<table border=\"1\" class=\"dataframe\">\n  <thead>\n    <tr style=\"text-align: right;\">\n      <th></th>\n      <th>id</th>\n      <th>artist</th>\n      <th>song</th>\n      <th>album_name</th>\n      <th>similarity</th>\n    </tr>\n  </thead>\n  <tbody>\n    <tr>\n      <th>0</th>\n      <td>alViVmyWPgD1TNjV</td>\n      <td>Amy Winehouse</td>\n      <td>To Know Him Is to Love Him</td>\n      <td>Back To Black: B-Sides</td>\n      <td>0.258230</td>\n    </tr>\n    <tr>\n      <th>1</th>\n      <td>Qh5XjFCInkeOAYzu</td>\n      <td>Supergrass</td>\n      <td>Time</td>\n      <td>I Should Coco</td>\n      <td>0.257726</td>\n    </tr>\n    <tr>\n      <th>2</th>\n      <td>FoenRGxt8ED5UDj8</td>\n      <td>Danger</td>\n      <td>11h30</td>\n      <td>French Attack!</td>\n      <td>0.256744</td>\n    </tr>\n    <tr>\n      <th>3</th>\n      <td>bIDVY7FbsuHTgV50</td>\n      <td>Bent</td>\n      <td>To Be Loved</td>\n      <td>Intercept! Deluxe Edition</td>\n      <td>0.256257</td>\n    </tr>\n    <tr>\n      <th>4</th>\n      <td>9ziWMjkmNbJKtU8Y</td>\n      <td>Tame Impala</td>\n      <td>Nangs</td>\n      <td>Currents</td>\n      <td>0.251869</td>\n    </tr>\n    <tr>\n      <th>5</th>\n      <td>VJXAAxF84r7eg4bf</td>\n      <td>Blur</td>\n      <td>I Know</td>\n      <td>Leisure (Special Edition)</td>\n      <td>0.249743</td>\n    </tr>\n    <tr>\n      <th>6</th>\n      <td>kqVWk6G25ortikfF</td>\n      <td>Tame Impala</td>\n      <td>Beverly Laurel</td>\n      <td>Lonerism B-Sides &amp; Remixes</td>\n      <td>0.248669</td>\n    </tr>\n    <tr>\n      <th>7</th>\n      <td>wthZJWSU9CZmQ8XX</td>\n      <td>September</td>\n      <td>Because I Love You</td>\n      <td>September</td>\n      <td>0.245535</td>\n    </tr>\n    <tr>\n      <th>8</th>\n      <td>4XJZFt2CYHjejWh7</td>\n      <td>Avicii</td>\n      <td>Levels - Radio Edit</td>\n      <td>Sommer 2019</td>\n      <td>0.243641</td>\n    </tr>\n    <tr>\n      <th>9</th>\n      <td>oaSlacL5oON2ueP8</td>\n      <td>Orchestral Manoeuvres in the Dark</td>\n      <td>(Forever) Live and Die</td>\n      <td>The Pacific Age</td>\n      <td>0.241794</td>\n    </tr>\n  </tbody>\n</table>\n</div>"
     },
     "execution_count": 192,
     "metadata": {},
     "output_type": "execute_result"
    }
   ],
   "source": [
    "rs_w2v.retrieve(\"xUjqXrsiCLb8tPkC\", n=10)"
   ]
  },
  {
   "cell_type": "code",
   "execution_count": 193,
   "metadata": {
    "ExecuteTime": {
     "end_time": "2023-11-01T20:43:33.407840800Z",
     "start_time": "2023-11-01T20:43:33.362842300Z"
    }
   },
   "outputs": [
    {
     "data": {
      "text/plain": "                 id         artist                        song  \\\n0  alViVmyWPgD1TNjV  Amy Winehouse  To Know Him Is to Love Him   \n1  Qh5XjFCInkeOAYzu     Supergrass                        Time   \n2  FoenRGxt8ED5UDj8         Danger                       11h30   \n\n               album_name  similarity  \n0  Back To Black: B-Sides    0.258230  \n1           I Should Coco    0.257726  \n2          French Attack!    0.256744  ",
      "text/html": "<div>\n<style scoped>\n    .dataframe tbody tr th:only-of-type {\n        vertical-align: middle;\n    }\n\n    .dataframe tbody tr th {\n        vertical-align: top;\n    }\n\n    .dataframe thead th {\n        text-align: right;\n    }\n</style>\n<table border=\"1\" class=\"dataframe\">\n  <thead>\n    <tr style=\"text-align: right;\">\n      <th></th>\n      <th>id</th>\n      <th>artist</th>\n      <th>song</th>\n      <th>album_name</th>\n      <th>similarity</th>\n    </tr>\n  </thead>\n  <tbody>\n    <tr>\n      <th>0</th>\n      <td>alViVmyWPgD1TNjV</td>\n      <td>Amy Winehouse</td>\n      <td>To Know Him Is to Love Him</td>\n      <td>Back To Black: B-Sides</td>\n      <td>0.258230</td>\n    </tr>\n    <tr>\n      <th>1</th>\n      <td>Qh5XjFCInkeOAYzu</td>\n      <td>Supergrass</td>\n      <td>Time</td>\n      <td>I Should Coco</td>\n      <td>0.257726</td>\n    </tr>\n    <tr>\n      <th>2</th>\n      <td>FoenRGxt8ED5UDj8</td>\n      <td>Danger</td>\n      <td>11h30</td>\n      <td>French Attack!</td>\n      <td>0.256744</td>\n    </tr>\n  </tbody>\n</table>\n</div>"
     },
     "execution_count": 193,
     "metadata": {},
     "output_type": "execute_result"
    }
   ],
   "source": [
    "rs_w2v.retrieve(\"xUjqXrsiCLb8tPkC\", n=3)"
   ]
  },
  {
   "cell_type": "code",
   "execution_count": 194,
   "metadata": {
    "ExecuteTime": {
     "end_time": "2023-11-01T20:43:33.479842100Z",
     "start_time": "2023-11-01T20:43:33.377842600Z"
    }
   },
   "outputs": [
    {
     "data": {
      "text/plain": "                 id                             artist  \\\n0  9ziWMjkmNbJKtU8Y                        Tame Impala   \n1  VJXAAxF84r7eg4bf                               Blur   \n2  oaSlacL5oON2ueP8  Orchestral Manoeuvres in the Dark   \n3  kqVWk6G25ortikfF                        Tame Impala   \n4  Qh5XjFCInkeOAYzu                         Supergrass   \n5  Y6S6YPEyfK5F8TMP                               Blur   \n6  alViVmyWPgD1TNjV                      Amy Winehouse   \n7  TvyK48kBK3S8XOXD                        Fatboy Slim   \n8  qq3el8xwdckarmlh       The Brian Jonestown Massacre   \n9  Nblp573S43B1TMzx                        Gipsy Kings   \n\n                         song                         album_name  similarity  \n0                       Nangs                           Currents    0.242612  \n1                      I Know          Leisure (Special Edition)    0.230920  \n2      (Forever) Live and Die                    The Pacific Age    0.229072  \n3              Beverly Laurel         Lonerism B-Sides & Remixes    0.228911  \n4                        Time                      I Should Coco    0.224972  \n5                   High Cool                            Leisure    0.222764  \n6  To Know Him Is to Love Him             Back To Black: B-Sides    0.222070  \n7        Going Out of My Head  The Greatest Hits: Why Try Harder    0.219967  \n8                      Wasted                         Methodrone    0.217051  \n9           Tu Quieres Volver        Cantos de Amor / Love Songs    0.216332  ",
      "text/html": "<div>\n<style scoped>\n    .dataframe tbody tr th:only-of-type {\n        vertical-align: middle;\n    }\n\n    .dataframe tbody tr th {\n        vertical-align: top;\n    }\n\n    .dataframe thead th {\n        text-align: right;\n    }\n</style>\n<table border=\"1\" class=\"dataframe\">\n  <thead>\n    <tr style=\"text-align: right;\">\n      <th></th>\n      <th>id</th>\n      <th>artist</th>\n      <th>song</th>\n      <th>album_name</th>\n      <th>similarity</th>\n    </tr>\n  </thead>\n  <tbody>\n    <tr>\n      <th>0</th>\n      <td>9ziWMjkmNbJKtU8Y</td>\n      <td>Tame Impala</td>\n      <td>Nangs</td>\n      <td>Currents</td>\n      <td>0.242612</td>\n    </tr>\n    <tr>\n      <th>1</th>\n      <td>VJXAAxF84r7eg4bf</td>\n      <td>Blur</td>\n      <td>I Know</td>\n      <td>Leisure (Special Edition)</td>\n      <td>0.230920</td>\n    </tr>\n    <tr>\n      <th>2</th>\n      <td>oaSlacL5oON2ueP8</td>\n      <td>Orchestral Manoeuvres in the Dark</td>\n      <td>(Forever) Live and Die</td>\n      <td>The Pacific Age</td>\n      <td>0.229072</td>\n    </tr>\n    <tr>\n      <th>3</th>\n      <td>kqVWk6G25ortikfF</td>\n      <td>Tame Impala</td>\n      <td>Beverly Laurel</td>\n      <td>Lonerism B-Sides &amp; Remixes</td>\n      <td>0.228911</td>\n    </tr>\n    <tr>\n      <th>4</th>\n      <td>Qh5XjFCInkeOAYzu</td>\n      <td>Supergrass</td>\n      <td>Time</td>\n      <td>I Should Coco</td>\n      <td>0.224972</td>\n    </tr>\n    <tr>\n      <th>5</th>\n      <td>Y6S6YPEyfK5F8TMP</td>\n      <td>Blur</td>\n      <td>High Cool</td>\n      <td>Leisure</td>\n      <td>0.222764</td>\n    </tr>\n    <tr>\n      <th>6</th>\n      <td>alViVmyWPgD1TNjV</td>\n      <td>Amy Winehouse</td>\n      <td>To Know Him Is to Love Him</td>\n      <td>Back To Black: B-Sides</td>\n      <td>0.222070</td>\n    </tr>\n    <tr>\n      <th>7</th>\n      <td>TvyK48kBK3S8XOXD</td>\n      <td>Fatboy Slim</td>\n      <td>Going Out of My Head</td>\n      <td>The Greatest Hits: Why Try Harder</td>\n      <td>0.219967</td>\n    </tr>\n    <tr>\n      <th>8</th>\n      <td>qq3el8xwdckarmlh</td>\n      <td>The Brian Jonestown Massacre</td>\n      <td>Wasted</td>\n      <td>Methodrone</td>\n      <td>0.217051</td>\n    </tr>\n    <tr>\n      <th>9</th>\n      <td>Nblp573S43B1TMzx</td>\n      <td>Gipsy Kings</td>\n      <td>Tu Quieres Volver</td>\n      <td>Cantos de Amor / Love Songs</td>\n      <td>0.216332</td>\n    </tr>\n  </tbody>\n</table>\n</div>"
     },
     "execution_count": 194,
     "metadata": {},
     "output_type": "execute_result"
    }
   ],
   "source": [
    "sample_song = SongInfo(title=\"Always\", artist=\"Bon Jovi\")\n",
    "\n",
    "rs_w2v.retrieve(sample_song, n=10)"
   ]
  },
  {
   "cell_type": "markdown",
   "metadata": {},
   "source": [
    "The results already seem a lot less reasonable. However, for a full comparison, we should only change 1 variable at a time. Still, the results are interesting to look at."
   ]
  },
  {
   "cell_type": "markdown",
   "source": [
    "## Qualitative Analysis\n",
    "\n",
    "Select as queries three tracks you are familiar with and retrieve 10 tracks with\n",
    "each system, including the random baseline. This will result in the following number of lists:\n",
    "N = 3(query songs) * 4(rs) = 12\n",
    "For each query track, qualitatively compare the retrieved tracks (with the query and other tracks in\n",
    "the result list), analyzing for instance whether the list includes tracks by the same artist or of the\n",
    "same genre. Also, investigate the relevance of the retrieved tracks for the query, i.e., given the\n",
    "query can you speculate why the tracks in the result list have been retrieved?\n"
   ],
   "metadata": {
    "collapsed": false
   }
  },
  {
   "cell_type": "code",
   "execution_count": 195,
   "outputs": [],
   "source": [
    "k = 10\n",
    "# query songs\n",
    "songs = [\n",
    "    SongInfo(title=\"Business\", artist=\"Eminem\"),\n",
    "    SongInfo(title=\"Night Witches\", artist=\"Sabaton\"),\n",
    "    SongInfo(title=\"Encoder\", artist=\"Pendulum\")]\n",
    "# retrieval systems\n",
    "rss = [\n",
    "    RetrievalSystem(df, random_similarity, enable_cache=False),\n",
    "    RetrievalSystem(df, cosine_similarity, \"word2vec_embedding\"),\n",
    "    RetrievalSystem(df, cosine_similarity, \"tf-idf\"),\n",
    "    RetrievalSystem(df, cosine_similarity, \"bert_embedding\")]"
   ],
   "metadata": {
    "collapsed": false,
    "ExecuteTime": {
     "end_time": "2023-11-01T20:43:33.530841700Z",
     "start_time": "2023-11-01T20:43:33.426842300Z"
    }
   }
  },
  {
   "cell_type": "code",
   "execution_count": 196,
   "outputs": [],
   "source": [
    "dfs = []\n",
    "\n",
    "for (i, s) in enumerate(songs):\n",
    "    acc = pd.DataFrame()\n",
    "    for (rs, feat) in zip(rss, ['rand', 'word2vec', 'tf-idf', 'bert']):\n",
    "        res = rs.retrieve(s, k)\n",
    "        res.columns = [f'id_{feat}', f'artist_{feat}', f'song_{feat}', f'album_{feat}', f'score_{feat}']\n",
    "        res.reset_index(drop=True, inplace=True)\n",
    "        acc.reset_index(drop=True, inplace=True)\n",
    "        acc = pd.concat([acc, res], axis=1)\n",
    "    dfs.append(acc)"
   ],
   "metadata": {
    "collapsed": false,
    "ExecuteTime": {
     "end_time": "2023-11-01T20:43:34.255881600Z",
     "start_time": "2023-11-01T20:43:33.511844900Z"
    }
   }
  },
  {
   "cell_type": "markdown",
   "source": [
    "### Results for (title=\"Business\", artist=\"Eminem\")"
   ],
   "metadata": {
    "collapsed": false
   }
  },
  {
   "cell_type": "code",
   "execution_count": 197,
   "outputs": [
    {
     "data": {
      "text/plain": "            id_rand              artist_rand                    song_rand  \\\n0  CfCJl3HWjZCvaTv3                      Eve          Let Me Blow Ya Mind   \n1  nBqWCoVSghL26lul                  Martika      Love...Thy Will Be Done   \n2  h4mPd3NgM10QLXm7            Delta Goodrem  Sitting On Top Of The World   \n3  GVq9iPSKr4l5IY8O                The Corrs                        Angel   \n4  hk8cDn49nRGqyAFI       Christina Aguilera   Ven Conmigo (Solamente Tú)   \n5  fpslRVnT2Rsqk6FX  Macklemore & Ryan Lewis                        Wing$   \n6  vBkm3OVLBco8mTYB               Luca Bocci                        Ahora   \n7  xXBtHbom8MlN8bXZ              Purity Ring                Cartographist   \n8  iAnD8KAG4aeZ0jjg                Chris Rea     Tell Me There's a Heaven   \n9  ScDk0Mnbsuq0v59L             Jack Johnson               When I Look Up   \n\n                             album_rand  score_rand       id_word2vec  \\\n0                              Scorpion    0.999704  Q8HUKzo5muVvgIvP   \n1  Martika's Kitchen (Expanded Edition)    0.999485  PoTQ9felmQHjpYDi   \n2                 Child Of The Universe    0.999418  SgBvRaxOi7XaDEmU   \n3        Borrowed Heaven (U.S. Version)    0.999325  CfCJl3HWjZCvaTv3   \n4                            Mi Reflejo    0.999275  TYoYVKiQpzhvcatl   \n5                             The Heist    0.999238  e9Q9R0EmvWwSjAxy   \n6                                 Ahora    0.999030  nVVj7Ksowk6ILZge   \n7                               Shrines    0.998970  gE39Ms4AoMKpJNGi   \n8                      The Road to Hell    0.998609  wiw2rM2xb4CJ5sVP   \n9                            To The Sea    0.998599  mgjDCaqqLfxz1070   \n\n      artist_word2vec        song_word2vec                     album_word2vec  \\\n0              Eminem     Marshall Mathers            The Marshall Mathers LP   \n1      Bad Meets Evil             Lighters          Hell: The Sequel (Deluxe)   \n2              Eminem          The Monster           The Marshall Mathers LP2   \n3                 Eve  Let Me Blow Ya Mind                           Scorpion   \n4              Eminem           Without Me                    The Eminem Show   \n5              Eminem        Groundhog Day  The Marshall Mathers LP2 (Deluxe)   \n6  Tyler, the Creator                 Pigs                               Wolf   \n7         Lloyd Banks                Karma                The Hunger For More   \n8          Kanye West    Never Let Me Down                The College Dropout   \n9              Eminem          Drug Ballad            The Marshall Mathers LP   \n\n   score_word2vec         id_tf-idf            artist_tf-idf  \\\n0        0.962139  CaNBba5E9KttJyB3    Red Hot Chili Peppers   \n1        0.960641  lTJVFhGsiLggKCEq           Beat Happening   \n2        0.960415  9CuEQRYVaaGpgOGn                   G-Eazy   \n3        0.958956  WPJqHS1ZUdqC6LWs      Sophie Ellis-Bextor   \n4        0.958579  ZgUzwR5NDfRuhDgx  Prince & The Revolution   \n5        0.957774  kZV6wep0ogka756U            Mayday Parade   \n6        0.956910  wiw2rM2xb4CJ5sVP               Kanye West   \n7        0.956683  Mj0A7uXuK1Dx28dz                    Smino   \n8        0.956396  88bG363HAfPRE2vi              Deep Purple   \n9        0.955484  gqyDfchba6vWzULe            The Fratellis   \n\n           song_tf-idf                       album_tf-idf  score_tf-idf  \\\n0           C'mon Girl                   Stadium Arcadium      0.400296   \n1  I Let Him Get to Me                     Beat Happening      0.395667   \n2              Been On                These Things Happen      0.387929   \n3        You Get Yours                 Shoot From The Hip      0.382842   \n4       Let's Go Crazy                        Purple Rain      0.371370   \n5               Get Up         Anywhere But Here (Deluxe)      0.365913   \n6    Never Let Me Down                The College Dropout      0.363931   \n7  WE GOT THE BISCUITS                               NOIR      0.362756   \n8             No No No       Burn (Expanded & Remastered)      0.348220   \n9      Halloween Blues  We Need Medicine (Deluxe Edition)      0.347137   \n\n            id_bert           artist_bert            song_bert  \\\n0  pK2EZxyujhM6yp7Z                Eminem               W.T.P.   \n1  6Ku7bJlCxqrwTQNi             The Roots       Double Trouble   \n2  07AjGMk31TkPW3O9    The Sugarhill Gang     Rapper's Delight   \n3  MoUTYdSeg2uc70Pa     Naughty By Nature       Hip Hop Hooray   \n4  ER6vgmZp5VMwLzfq  A Tribe Called Quest    God Lives Through   \n5  VwApT9MehZ2gx1a8          BROCKHAMPTON                VIVID   \n6  jsyIbokybtgb3pmJ  A Tribe Called Quest     Jazz (We've Got)   \n7  C5p9Jr8WABOMgdCl          Beastie Boys  Hold It Now, Hit It   \n8  Q8HUKzo5muVvgIvP                Eminem     Marshall Mathers   \n9  4r1IjzqHAOYQlgfS                Eminem                 Fall   \n\n                          album_bert  score_bert  \n0                           Recovery    0.735179  \n1                  Things Fall Apart    0.718591  \n2  Rhino Hi-Five: The Sugarhill Gang    0.716156  \n3                     19 Naughty III    0.710492  \n4                 Midnight Marauders    0.708904  \n5                        iridescence    0.705232  \n6                 The Low End Theory    0.703841  \n7                    Licensed To Ill    0.699053  \n8            The Marshall Mathers LP    0.689330  \n9                           Kamikaze    0.684791  ",
      "text/html": "<div>\n<style scoped>\n    .dataframe tbody tr th:only-of-type {\n        vertical-align: middle;\n    }\n\n    .dataframe tbody tr th {\n        vertical-align: top;\n    }\n\n    .dataframe thead th {\n        text-align: right;\n    }\n</style>\n<table border=\"1\" class=\"dataframe\">\n  <thead>\n    <tr style=\"text-align: right;\">\n      <th></th>\n      <th>id_rand</th>\n      <th>artist_rand</th>\n      <th>song_rand</th>\n      <th>album_rand</th>\n      <th>score_rand</th>\n      <th>id_word2vec</th>\n      <th>artist_word2vec</th>\n      <th>song_word2vec</th>\n      <th>album_word2vec</th>\n      <th>score_word2vec</th>\n      <th>id_tf-idf</th>\n      <th>artist_tf-idf</th>\n      <th>song_tf-idf</th>\n      <th>album_tf-idf</th>\n      <th>score_tf-idf</th>\n      <th>id_bert</th>\n      <th>artist_bert</th>\n      <th>song_bert</th>\n      <th>album_bert</th>\n      <th>score_bert</th>\n    </tr>\n  </thead>\n  <tbody>\n    <tr>\n      <th>0</th>\n      <td>CfCJl3HWjZCvaTv3</td>\n      <td>Eve</td>\n      <td>Let Me Blow Ya Mind</td>\n      <td>Scorpion</td>\n      <td>0.999704</td>\n      <td>Q8HUKzo5muVvgIvP</td>\n      <td>Eminem</td>\n      <td>Marshall Mathers</td>\n      <td>The Marshall Mathers LP</td>\n      <td>0.962139</td>\n      <td>CaNBba5E9KttJyB3</td>\n      <td>Red Hot Chili Peppers</td>\n      <td>C'mon Girl</td>\n      <td>Stadium Arcadium</td>\n      <td>0.400296</td>\n      <td>pK2EZxyujhM6yp7Z</td>\n      <td>Eminem</td>\n      <td>W.T.P.</td>\n      <td>Recovery</td>\n      <td>0.735179</td>\n    </tr>\n    <tr>\n      <th>1</th>\n      <td>nBqWCoVSghL26lul</td>\n      <td>Martika</td>\n      <td>Love...Thy Will Be Done</td>\n      <td>Martika's Kitchen (Expanded Edition)</td>\n      <td>0.999485</td>\n      <td>PoTQ9felmQHjpYDi</td>\n      <td>Bad Meets Evil</td>\n      <td>Lighters</td>\n      <td>Hell: The Sequel (Deluxe)</td>\n      <td>0.960641</td>\n      <td>lTJVFhGsiLggKCEq</td>\n      <td>Beat Happening</td>\n      <td>I Let Him Get to Me</td>\n      <td>Beat Happening</td>\n      <td>0.395667</td>\n      <td>6Ku7bJlCxqrwTQNi</td>\n      <td>The Roots</td>\n      <td>Double Trouble</td>\n      <td>Things Fall Apart</td>\n      <td>0.718591</td>\n    </tr>\n    <tr>\n      <th>2</th>\n      <td>h4mPd3NgM10QLXm7</td>\n      <td>Delta Goodrem</td>\n      <td>Sitting On Top Of The World</td>\n      <td>Child Of The Universe</td>\n      <td>0.999418</td>\n      <td>SgBvRaxOi7XaDEmU</td>\n      <td>Eminem</td>\n      <td>The Monster</td>\n      <td>The Marshall Mathers LP2</td>\n      <td>0.960415</td>\n      <td>9CuEQRYVaaGpgOGn</td>\n      <td>G-Eazy</td>\n      <td>Been On</td>\n      <td>These Things Happen</td>\n      <td>0.387929</td>\n      <td>07AjGMk31TkPW3O9</td>\n      <td>The Sugarhill Gang</td>\n      <td>Rapper's Delight</td>\n      <td>Rhino Hi-Five: The Sugarhill Gang</td>\n      <td>0.716156</td>\n    </tr>\n    <tr>\n      <th>3</th>\n      <td>GVq9iPSKr4l5IY8O</td>\n      <td>The Corrs</td>\n      <td>Angel</td>\n      <td>Borrowed Heaven (U.S. Version)</td>\n      <td>0.999325</td>\n      <td>CfCJl3HWjZCvaTv3</td>\n      <td>Eve</td>\n      <td>Let Me Blow Ya Mind</td>\n      <td>Scorpion</td>\n      <td>0.958956</td>\n      <td>WPJqHS1ZUdqC6LWs</td>\n      <td>Sophie Ellis-Bextor</td>\n      <td>You Get Yours</td>\n      <td>Shoot From The Hip</td>\n      <td>0.382842</td>\n      <td>MoUTYdSeg2uc70Pa</td>\n      <td>Naughty By Nature</td>\n      <td>Hip Hop Hooray</td>\n      <td>19 Naughty III</td>\n      <td>0.710492</td>\n    </tr>\n    <tr>\n      <th>4</th>\n      <td>hk8cDn49nRGqyAFI</td>\n      <td>Christina Aguilera</td>\n      <td>Ven Conmigo (Solamente Tú)</td>\n      <td>Mi Reflejo</td>\n      <td>0.999275</td>\n      <td>TYoYVKiQpzhvcatl</td>\n      <td>Eminem</td>\n      <td>Without Me</td>\n      <td>The Eminem Show</td>\n      <td>0.958579</td>\n      <td>ZgUzwR5NDfRuhDgx</td>\n      <td>Prince &amp; The Revolution</td>\n      <td>Let's Go Crazy</td>\n      <td>Purple Rain</td>\n      <td>0.371370</td>\n      <td>ER6vgmZp5VMwLzfq</td>\n      <td>A Tribe Called Quest</td>\n      <td>God Lives Through</td>\n      <td>Midnight Marauders</td>\n      <td>0.708904</td>\n    </tr>\n    <tr>\n      <th>5</th>\n      <td>fpslRVnT2Rsqk6FX</td>\n      <td>Macklemore &amp; Ryan Lewis</td>\n      <td>Wing$</td>\n      <td>The Heist</td>\n      <td>0.999238</td>\n      <td>e9Q9R0EmvWwSjAxy</td>\n      <td>Eminem</td>\n      <td>Groundhog Day</td>\n      <td>The Marshall Mathers LP2 (Deluxe)</td>\n      <td>0.957774</td>\n      <td>kZV6wep0ogka756U</td>\n      <td>Mayday Parade</td>\n      <td>Get Up</td>\n      <td>Anywhere But Here (Deluxe)</td>\n      <td>0.365913</td>\n      <td>VwApT9MehZ2gx1a8</td>\n      <td>BROCKHAMPTON</td>\n      <td>VIVID</td>\n      <td>iridescence</td>\n      <td>0.705232</td>\n    </tr>\n    <tr>\n      <th>6</th>\n      <td>vBkm3OVLBco8mTYB</td>\n      <td>Luca Bocci</td>\n      <td>Ahora</td>\n      <td>Ahora</td>\n      <td>0.999030</td>\n      <td>nVVj7Ksowk6ILZge</td>\n      <td>Tyler, the Creator</td>\n      <td>Pigs</td>\n      <td>Wolf</td>\n      <td>0.956910</td>\n      <td>wiw2rM2xb4CJ5sVP</td>\n      <td>Kanye West</td>\n      <td>Never Let Me Down</td>\n      <td>The College Dropout</td>\n      <td>0.363931</td>\n      <td>jsyIbokybtgb3pmJ</td>\n      <td>A Tribe Called Quest</td>\n      <td>Jazz (We've Got)</td>\n      <td>The Low End Theory</td>\n      <td>0.703841</td>\n    </tr>\n    <tr>\n      <th>7</th>\n      <td>xXBtHbom8MlN8bXZ</td>\n      <td>Purity Ring</td>\n      <td>Cartographist</td>\n      <td>Shrines</td>\n      <td>0.998970</td>\n      <td>gE39Ms4AoMKpJNGi</td>\n      <td>Lloyd Banks</td>\n      <td>Karma</td>\n      <td>The Hunger For More</td>\n      <td>0.956683</td>\n      <td>Mj0A7uXuK1Dx28dz</td>\n      <td>Smino</td>\n      <td>WE GOT THE BISCUITS</td>\n      <td>NOIR</td>\n      <td>0.362756</td>\n      <td>C5p9Jr8WABOMgdCl</td>\n      <td>Beastie Boys</td>\n      <td>Hold It Now, Hit It</td>\n      <td>Licensed To Ill</td>\n      <td>0.699053</td>\n    </tr>\n    <tr>\n      <th>8</th>\n      <td>iAnD8KAG4aeZ0jjg</td>\n      <td>Chris Rea</td>\n      <td>Tell Me There's a Heaven</td>\n      <td>The Road to Hell</td>\n      <td>0.998609</td>\n      <td>wiw2rM2xb4CJ5sVP</td>\n      <td>Kanye West</td>\n      <td>Never Let Me Down</td>\n      <td>The College Dropout</td>\n      <td>0.956396</td>\n      <td>88bG363HAfPRE2vi</td>\n      <td>Deep Purple</td>\n      <td>No No No</td>\n      <td>Burn (Expanded &amp; Remastered)</td>\n      <td>0.348220</td>\n      <td>Q8HUKzo5muVvgIvP</td>\n      <td>Eminem</td>\n      <td>Marshall Mathers</td>\n      <td>The Marshall Mathers LP</td>\n      <td>0.689330</td>\n    </tr>\n    <tr>\n      <th>9</th>\n      <td>ScDk0Mnbsuq0v59L</td>\n      <td>Jack Johnson</td>\n      <td>When I Look Up</td>\n      <td>To The Sea</td>\n      <td>0.998599</td>\n      <td>mgjDCaqqLfxz1070</td>\n      <td>Eminem</td>\n      <td>Drug Ballad</td>\n      <td>The Marshall Mathers LP</td>\n      <td>0.955484</td>\n      <td>gqyDfchba6vWzULe</td>\n      <td>The Fratellis</td>\n      <td>Halloween Blues</td>\n      <td>We Need Medicine (Deluxe Edition)</td>\n      <td>0.347137</td>\n      <td>4r1IjzqHAOYQlgfS</td>\n      <td>Eminem</td>\n      <td>Fall</td>\n      <td>Kamikaze</td>\n      <td>0.684791</td>\n    </tr>\n  </tbody>\n</table>\n</div>"
     },
     "execution_count": 197,
     "metadata": {},
     "output_type": "execute_result"
    }
   ],
   "source": [
    "dfs[0]"
   ],
   "metadata": {
    "collapsed": false,
    "ExecuteTime": {
     "end_time": "2023-11-01T20:43:34.271883400Z",
     "start_time": "2023-11-01T20:43:34.266882300Z"
    }
   }
  },
  {
   "cell_type": "markdown",
   "source": [
    "`(title=\"Business\", artist=\"Eminem\")`\n",
    "- The top similarities will often be almost 1, since we are using a uniform distribution of random values: [0, 1]. Of course, they don't actually mean that the similarity is high. Just as a short note and reason for why we'll be ignoring the random results for qualitative analysis of the next queries.\n",
    "\n",
    "- For word2vec the results look promising, a lot of songs with very high similarity. A total of 5 other songs by Eminem were found by the system, one of them (Without Me) is also from the same album. The other 5 retrieved songs are all HipHop/Rap songs and one of them (Bad Meets Evil) is even featuring Eminem.\n",
    "\n",
    "- For tf-idf the results don't score as high similarity and the system could not retrieve any other songs by eminem. It also retrieved mostly non HipHop/Rap songs. Only 3 songs are of the same genre.\n",
    "\n",
    "- With bert we, again, retrieve some songs by the same artist and mostly HipHop/Rap songs.\n",
    "\n",
    "- Without extensively comparing the lyrics of all the retrieved songs, we suspect that the reason for finding that many other songs by eminem with word2vec and bert is that Eminem uses a few words in a lot of his songs, which are not really used by other artists. E.g. `Marshall`, `Dre` (which both appear in Business)."
   ],
   "metadata": {
    "collapsed": false
   }
  },
  {
   "cell_type": "markdown",
   "source": [
    "### Results for (title=\"Night Witches\", artist=\"Sabaton\")"
   ],
   "metadata": {
    "collapsed": false
   }
  },
  {
   "cell_type": "code",
   "execution_count": 198,
   "outputs": [
    {
     "data": {
      "text/plain": "            id_rand                              artist_rand  \\\n0  YNwtiMvsVkqOMZut                            Chico Buarque   \n1  EyJzC9tKuoZgj6bb                     Lady of the Sunshine   \n2  L5hzUwJxVruePOF5  Empire! Empire! (I Was a Lonely Estate)   \n3  PzjMLoz4uryikjBF                          Julian Perretta   \n4  tV4ita8M4V0BVUp0                           Brandi Carlile   \n5  tmhlnjRrHcUtPqTA                            Mylène Farmer   \n6  pKelJlGY1Vf89K17                                   Issues   \n7  Qa4ZGcWpcpdZ9d1n                              Alicia Keys   \n8  RzdQajerTpHMlzAN                                  The Who   \n9  nqkmCo5dH1rLqHpJ                                      Red   \n\n                                           song_rand  \\\n0                                         Vai Passar   \n1                                    Home Sweet Home   \n2  With Your Greatest Fears Realized, You Will No...   \n3                                            Miracle   \n4                                         Turpentine   \n5                                            Regrets   \n6                          Disappear [Remember When]   \n7                                          So Simple   \n8                                                905   \n9                                   Take It All Away   \n\n                      album_rand  score_rand       id_word2vec  \\\n0      Pure Brazil II - Feijoada    0.999885  OUK5bBTgTGQgAVy7   \n1                    Smoking Gun    0.999802  qBN7BnrB9uSXZDDg   \n2  What It Takes To Move Forward    0.999694  xnPyxQcSGAC5dMzr   \n3                        Miracle    0.999632  pqRrADoga2QzRddh   \n4                      The Story    0.999516  o6f1vBg76XF1vxJR   \n5                        L'Autre    0.999435  uyiAoox9wCrrVoQW   \n6                         Issues    0.999281  ZuujS0YWGIbArbP0   \n7       The Diary Of Alicia Keys    0.999241  Qbus1NSW0A9vhkuM   \n8                    Who Are You    0.999200  R3H7yPXQab6G0qwo   \n9           Innocence & Instinct    0.999144  Lyw8lI9YQZEfsZXX   \n\n                            artist_word2vec                     song_word2vec  \\\n0                                 Avantasia                 Ghost In The Moon   \n1                                   Bathory   The Revenge of the Blood on Ice   \n2                 Between the Buried and Me          Silent Flight Parliament   \n3                                  Megadeth                 Death From Within   \n4                          Rhapsody of Fire                     Unholy Warcry   \n5  Sopor Aeternus & The Ensemble of Shadows  On Satur(n)days We Used To Sleep   \n6                               Dying Fetus              Weaken The Structure   \n7                                   Ashbury                         Vengeance   \n8                                  Arcturus                The Arcturian Sign   \n9                                     Vader                          Dark Age   \n\n                                     album_word2vec  score_word2vec  \\\n0                                          Moonglow        0.859165   \n1                                      Blood on Ice        0.854057   \n2                  The Parallax II: Future Sequence        0.851628   \n3                                          Dystopia        0.847954   \n4  Symphony of Enchanted Lands II (The Dark Secret)        0.845201   \n5                             Dead Lovers Sarabande        0.844565   \n6                            Wrong One to Fuck With        0.844550   \n7                                     Endless Skies        0.844376   \n8                                         Arcturian        0.840746   \n9                                          Dark Age        0.840610   \n\n          id_tf-idf                        artist_tf-idf  \\\n0  Zmb8idzkHjVyKSzG                          Tim Buckley   \n1  lK1wd2EwujDcpRFG                         Rise Against   \n2  2HceDzG53j9404OD                               Slayer   \n3  C9ohq14tDIAJeodr                                 Juli   \n4  VSuR5YqH9v7NgN3n  I Love You But I've Chosen Darkness   \n5  2vroC72fBSgFKI6p                      The Moody Blues   \n6  2KlTtldY45koDK06                                 Moby   \n7  RSbNTd0jMg7I9R82                      Cradle of Filth   \n8  F7ebJa7eUiPkChuj                          Cheap Trick   \n9  LalGH4emAyu0T5I0                              Emperor   \n\n                    song_tf-idf  \\\n0                   Gypsy Woman   \n1              Far From Perfect   \n2                 Captor Of Sin   \n3                Perfekte Welle   \n4             According to Plan   \n5  Are You Sitting Comfortably?   \n6              The Perfect Life   \n7      The Cult of Venus Aversa   \n8                  Mighty Wings   \n9            Lord of the Storms   \n\n                                        album_tf-idf  score_tf-idf  \\\n0                                          Happy Sad      0.351593   \n1                   The Ghost Note Symphonies, Vol.1      0.315371   \n2                  Live Undead / Haunting the Chapel      0.311556   \n3                                 Ein neuer Tag Live      0.307305   \n4                                Fear is on Our Side      0.304200   \n5                        On The Threshold Of A Dream      0.295894   \n6                                          Innocents      0.283617   \n7      Darkly, Darkly, Venus Aversa (Deluxe Edition)      0.275112   \n8  Top Gun - Motion Picture Soundtrack (Special E...      0.258850   \n9  In The Nightside Eclipse (20th Anniversary Edi...      0.250374   \n\n            id_bert     artist_bert                            song_bert  \\\n0  VSd47SUSc5Dja4Od     Iron Maiden                    Where Eagles Dare   \n1  dpdFc5WvD3qG1PzV   Dream Theater               The Dark Eternal Night   \n2  8xIeRqsIdyJPSZ2p            Rome                  The Joys Of Stealth   \n3  IW78SR7pLUMxhLwo       Einherjer                         Spre Vingene   \n4  Pss60SSj8dqGts7y  Ólafur Arnalds                              Reclaim   \n5  HmAiZIhgpTQh2HtY        Raubtier                         Panzarmarsch   \n6  l7C6Cplr8g1yZFKg   Deströyer 666                        Clenched Fist   \n7  vPNIItkt1ru5ivn2       Sunn O)))  Cursed Realms (Of the Winterdemons)   \n8  pqRrADoga2QzRddh        Megadeth                    Death From Within   \n9  BRTTbs2WbkBKHynj    Dimmu Borgir               Alt Lys Er Svunnet Hen   \n\n                        album_bert  score_bert  \n0  Piece of Mind (2015 - Remaster)    0.644770  \n1                 Systematic Chaos    0.620575  \n2   Confessions d'un voleur d'âmes    0.613757  \n3                     Spre Vingene    0.608947  \n4              For Now I Am Winter    0.607159  \n5                  Bestia Borealis    0.603905  \n6    Cold Steel... For An Iron Age    0.603762  \n7                        Black One    0.602785  \n8                         Dystopia    0.602411  \n9                       Stormblåst    0.600827  ",
      "text/html": "<div>\n<style scoped>\n    .dataframe tbody tr th:only-of-type {\n        vertical-align: middle;\n    }\n\n    .dataframe tbody tr th {\n        vertical-align: top;\n    }\n\n    .dataframe thead th {\n        text-align: right;\n    }\n</style>\n<table border=\"1\" class=\"dataframe\">\n  <thead>\n    <tr style=\"text-align: right;\">\n      <th></th>\n      <th>id_rand</th>\n      <th>artist_rand</th>\n      <th>song_rand</th>\n      <th>album_rand</th>\n      <th>score_rand</th>\n      <th>id_word2vec</th>\n      <th>artist_word2vec</th>\n      <th>song_word2vec</th>\n      <th>album_word2vec</th>\n      <th>score_word2vec</th>\n      <th>id_tf-idf</th>\n      <th>artist_tf-idf</th>\n      <th>song_tf-idf</th>\n      <th>album_tf-idf</th>\n      <th>score_tf-idf</th>\n      <th>id_bert</th>\n      <th>artist_bert</th>\n      <th>song_bert</th>\n      <th>album_bert</th>\n      <th>score_bert</th>\n    </tr>\n  </thead>\n  <tbody>\n    <tr>\n      <th>0</th>\n      <td>YNwtiMvsVkqOMZut</td>\n      <td>Chico Buarque</td>\n      <td>Vai Passar</td>\n      <td>Pure Brazil II - Feijoada</td>\n      <td>0.999885</td>\n      <td>OUK5bBTgTGQgAVy7</td>\n      <td>Avantasia</td>\n      <td>Ghost In The Moon</td>\n      <td>Moonglow</td>\n      <td>0.859165</td>\n      <td>Zmb8idzkHjVyKSzG</td>\n      <td>Tim Buckley</td>\n      <td>Gypsy Woman</td>\n      <td>Happy Sad</td>\n      <td>0.351593</td>\n      <td>VSd47SUSc5Dja4Od</td>\n      <td>Iron Maiden</td>\n      <td>Where Eagles Dare</td>\n      <td>Piece of Mind (2015 - Remaster)</td>\n      <td>0.644770</td>\n    </tr>\n    <tr>\n      <th>1</th>\n      <td>EyJzC9tKuoZgj6bb</td>\n      <td>Lady of the Sunshine</td>\n      <td>Home Sweet Home</td>\n      <td>Smoking Gun</td>\n      <td>0.999802</td>\n      <td>qBN7BnrB9uSXZDDg</td>\n      <td>Bathory</td>\n      <td>The Revenge of the Blood on Ice</td>\n      <td>Blood on Ice</td>\n      <td>0.854057</td>\n      <td>lK1wd2EwujDcpRFG</td>\n      <td>Rise Against</td>\n      <td>Far From Perfect</td>\n      <td>The Ghost Note Symphonies, Vol.1</td>\n      <td>0.315371</td>\n      <td>dpdFc5WvD3qG1PzV</td>\n      <td>Dream Theater</td>\n      <td>The Dark Eternal Night</td>\n      <td>Systematic Chaos</td>\n      <td>0.620575</td>\n    </tr>\n    <tr>\n      <th>2</th>\n      <td>L5hzUwJxVruePOF5</td>\n      <td>Empire! Empire! (I Was a Lonely Estate)</td>\n      <td>With Your Greatest Fears Realized, You Will No...</td>\n      <td>What It Takes To Move Forward</td>\n      <td>0.999694</td>\n      <td>xnPyxQcSGAC5dMzr</td>\n      <td>Between the Buried and Me</td>\n      <td>Silent Flight Parliament</td>\n      <td>The Parallax II: Future Sequence</td>\n      <td>0.851628</td>\n      <td>2HceDzG53j9404OD</td>\n      <td>Slayer</td>\n      <td>Captor Of Sin</td>\n      <td>Live Undead / Haunting the Chapel</td>\n      <td>0.311556</td>\n      <td>8xIeRqsIdyJPSZ2p</td>\n      <td>Rome</td>\n      <td>The Joys Of Stealth</td>\n      <td>Confessions d'un voleur d'âmes</td>\n      <td>0.613757</td>\n    </tr>\n    <tr>\n      <th>3</th>\n      <td>PzjMLoz4uryikjBF</td>\n      <td>Julian Perretta</td>\n      <td>Miracle</td>\n      <td>Miracle</td>\n      <td>0.999632</td>\n      <td>pqRrADoga2QzRddh</td>\n      <td>Megadeth</td>\n      <td>Death From Within</td>\n      <td>Dystopia</td>\n      <td>0.847954</td>\n      <td>C9ohq14tDIAJeodr</td>\n      <td>Juli</td>\n      <td>Perfekte Welle</td>\n      <td>Ein neuer Tag Live</td>\n      <td>0.307305</td>\n      <td>IW78SR7pLUMxhLwo</td>\n      <td>Einherjer</td>\n      <td>Spre Vingene</td>\n      <td>Spre Vingene</td>\n      <td>0.608947</td>\n    </tr>\n    <tr>\n      <th>4</th>\n      <td>tV4ita8M4V0BVUp0</td>\n      <td>Brandi Carlile</td>\n      <td>Turpentine</td>\n      <td>The Story</td>\n      <td>0.999516</td>\n      <td>o6f1vBg76XF1vxJR</td>\n      <td>Rhapsody of Fire</td>\n      <td>Unholy Warcry</td>\n      <td>Symphony of Enchanted Lands II (The Dark Secret)</td>\n      <td>0.845201</td>\n      <td>VSuR5YqH9v7NgN3n</td>\n      <td>I Love You But I've Chosen Darkness</td>\n      <td>According to Plan</td>\n      <td>Fear is on Our Side</td>\n      <td>0.304200</td>\n      <td>Pss60SSj8dqGts7y</td>\n      <td>Ólafur Arnalds</td>\n      <td>Reclaim</td>\n      <td>For Now I Am Winter</td>\n      <td>0.607159</td>\n    </tr>\n    <tr>\n      <th>5</th>\n      <td>tmhlnjRrHcUtPqTA</td>\n      <td>Mylène Farmer</td>\n      <td>Regrets</td>\n      <td>L'Autre</td>\n      <td>0.999435</td>\n      <td>uyiAoox9wCrrVoQW</td>\n      <td>Sopor Aeternus &amp; The Ensemble of Shadows</td>\n      <td>On Satur(n)days We Used To Sleep</td>\n      <td>Dead Lovers Sarabande</td>\n      <td>0.844565</td>\n      <td>2vroC72fBSgFKI6p</td>\n      <td>The Moody Blues</td>\n      <td>Are You Sitting Comfortably?</td>\n      <td>On The Threshold Of A Dream</td>\n      <td>0.295894</td>\n      <td>HmAiZIhgpTQh2HtY</td>\n      <td>Raubtier</td>\n      <td>Panzarmarsch</td>\n      <td>Bestia Borealis</td>\n      <td>0.603905</td>\n    </tr>\n    <tr>\n      <th>6</th>\n      <td>pKelJlGY1Vf89K17</td>\n      <td>Issues</td>\n      <td>Disappear [Remember When]</td>\n      <td>Issues</td>\n      <td>0.999281</td>\n      <td>ZuujS0YWGIbArbP0</td>\n      <td>Dying Fetus</td>\n      <td>Weaken The Structure</td>\n      <td>Wrong One to Fuck With</td>\n      <td>0.844550</td>\n      <td>2KlTtldY45koDK06</td>\n      <td>Moby</td>\n      <td>The Perfect Life</td>\n      <td>Innocents</td>\n      <td>0.283617</td>\n      <td>l7C6Cplr8g1yZFKg</td>\n      <td>Deströyer 666</td>\n      <td>Clenched Fist</td>\n      <td>Cold Steel... For An Iron Age</td>\n      <td>0.603762</td>\n    </tr>\n    <tr>\n      <th>7</th>\n      <td>Qa4ZGcWpcpdZ9d1n</td>\n      <td>Alicia Keys</td>\n      <td>So Simple</td>\n      <td>The Diary Of Alicia Keys</td>\n      <td>0.999241</td>\n      <td>Qbus1NSW0A9vhkuM</td>\n      <td>Ashbury</td>\n      <td>Vengeance</td>\n      <td>Endless Skies</td>\n      <td>0.844376</td>\n      <td>RSbNTd0jMg7I9R82</td>\n      <td>Cradle of Filth</td>\n      <td>The Cult of Venus Aversa</td>\n      <td>Darkly, Darkly, Venus Aversa (Deluxe Edition)</td>\n      <td>0.275112</td>\n      <td>vPNIItkt1ru5ivn2</td>\n      <td>Sunn O)))</td>\n      <td>Cursed Realms (Of the Winterdemons)</td>\n      <td>Black One</td>\n      <td>0.602785</td>\n    </tr>\n    <tr>\n      <th>8</th>\n      <td>RzdQajerTpHMlzAN</td>\n      <td>The Who</td>\n      <td>905</td>\n      <td>Who Are You</td>\n      <td>0.999200</td>\n      <td>R3H7yPXQab6G0qwo</td>\n      <td>Arcturus</td>\n      <td>The Arcturian Sign</td>\n      <td>Arcturian</td>\n      <td>0.840746</td>\n      <td>F7ebJa7eUiPkChuj</td>\n      <td>Cheap Trick</td>\n      <td>Mighty Wings</td>\n      <td>Top Gun - Motion Picture Soundtrack (Special E...</td>\n      <td>0.258850</td>\n      <td>pqRrADoga2QzRddh</td>\n      <td>Megadeth</td>\n      <td>Death From Within</td>\n      <td>Dystopia</td>\n      <td>0.602411</td>\n    </tr>\n    <tr>\n      <th>9</th>\n      <td>nqkmCo5dH1rLqHpJ</td>\n      <td>Red</td>\n      <td>Take It All Away</td>\n      <td>Innocence &amp; Instinct</td>\n      <td>0.999144</td>\n      <td>Lyw8lI9YQZEfsZXX</td>\n      <td>Vader</td>\n      <td>Dark Age</td>\n      <td>Dark Age</td>\n      <td>0.840610</td>\n      <td>LalGH4emAyu0T5I0</td>\n      <td>Emperor</td>\n      <td>Lord of the Storms</td>\n      <td>In The Nightside Eclipse (20th Anniversary Edi...</td>\n      <td>0.250374</td>\n      <td>BRTTbs2WbkBKHynj</td>\n      <td>Dimmu Borgir</td>\n      <td>Alt Lys Er Svunnet Hen</td>\n      <td>Stormblåst</td>\n      <td>0.600827</td>\n    </tr>\n  </tbody>\n</table>\n</div>"
     },
     "execution_count": 198,
     "metadata": {},
     "output_type": "execute_result"
    }
   ],
   "source": [
    "dfs[1]"
   ],
   "metadata": {
    "collapsed": false,
    "ExecuteTime": {
     "end_time": "2023-11-01T20:43:34.304899600Z",
     "start_time": "2023-11-01T20:43:34.272884300Z"
    }
   }
  },
  {
   "cell_type": "markdown",
   "source": [
    "`(title=\"Night Witches\", artist=\"Sabaton\")`\n",
    "\n",
    "- word2vec receives songs with similar genre, but no songs from the same artist.\n",
    "- the tfidf results are partially of the same genre and none of the same artist. The song `Die Perfekte Welle` seems out of place, but its lyrics contain the word `perfekt` a lot, where the query song's lyrics contain `perfect` a lot. This might be a reason for the similarity.\n",
    "- bert receives songs with mostly the same genre, but no songs from the same artist."
   ],
   "metadata": {
    "collapsed": false
   }
  },
  {
   "cell_type": "markdown",
   "source": [
    "### Results for (title=\"Encoder\", artist=\"Pendulum\")"
   ],
   "metadata": {
    "collapsed": false
   }
  },
  {
   "cell_type": "code",
   "execution_count": 199,
   "outputs": [
    {
     "data": {
      "text/plain": "            id_rand             artist_rand                 song_rand  \\\n0  09mWmQm7ixF4cCjx          The Word Alive               Life Cycles   \n1  XOFm1ByFjWrqmDjZ            Gang of Four             Not Great Men   \n2  vDA5C0hXzF96nStu    Automatic Loveletter                      Hush   \n3  ZjyPtH7FzoN6GC1N                The Sons  Too Much Of A Good Thing   \n4  qpzEfMcAgRw2249D                    El-P         Drones Over BKLYN   \n5  dhstywSKoK79R4xo                  EME-15              Solamente Tú   \n6  zouQdm6DhqT3aD6x                Hot Chip             I Feel Better   \n7  sN69P1rPgykLK42A             Patti Smith          This Is the Girl   \n8  Sr7I3A9W3ZHJm5hp  The Velvet Underground                    Heroin   \n9  cHTSbjh3LW3dGT0m        Carrie Underwood          Spinning Bottles   \n\n                                       album_rand  score_rand  \\\n0                                     Life Cycles    0.999971   \n1                                  Entertainment!    0.999939   \n2                                      Recover EP    0.999889   \n3                                   Dumb & Dumber    0.999866   \n4                                   Cancer 4 Cure    0.999842   \n5                                          EME-15    0.999752   \n6                                  One Life Stand    0.999721   \n7                                           Banga    0.999589   \n8  The Velvet Underground & Nico 45th Anniversary    0.999565   \n9                                      Cry Pretty    0.999353   \n\n        id_word2vec artist_word2vec                             song_word2vec  \\\n0  xuvOIIAf7xHY4tvm    Joy Division                                  24 Hours   \n1  qysJrLPfxSCkdg9o           Emery                      The Ponytail Parades   \n2  f7nMTiV0NHDaPOIK    Phil Collins                          Against All Odds   \n3  fraglE0va6B3zUwB    Phil Collins  Against All Odds (Take a Look at Me Now)   \n4  0IHQDwO3FnNYE7VY    Mariah Carey  Against All Odds (Take a Look at Me Now)   \n5  hSXdyzqVnjWnEZbQ             BTS                                First Love   \n6  HgImdPHY2r03vbTh    Dinosaur Jr.                            Keep The Glove   \n7  n2jEWkacDcvJ6eJ8      Stray Kids                                  I am YOU   \n8  Q0FuvjirjmMi2Xy4   Dream Theater                        The Bigger Picture   \n9  pAd7kQdenSBvW8Ml         Mineral                               Parking Lot   \n\n               album_word2vec  score_word2vec         id_tf-idf  \\\n0  Last Order (Hd Remastered)        0.926218  GjIaZcckFpTQqF8N   \n1              The Weak's End        0.925573  HshAaiNsDdV1W4nq   \n2      The Singles (Expanded)        0.924615  Sr6cMgnJq7UmdnyL   \n3      The Singles (Expanded)        0.924312  mreAbgfRVLT1349Q   \n4               Greatest Hits        0.922265  EV3VRzYbYoFjmj1w   \n5                       Wings        0.920089  tXJHzoQa51DdyOX7   \n6                         Bug        0.918289  hPjLYCrpOH1xIdoi   \n7                    I am YOU        0.918077  nDiuhKCc9z5DOBcD   \n8               Dream Theater        0.917097  lLr42PhCGChOItPt   \n9        The Power of Failing        0.916767  S7TjeaBqPK9kCnZG   \n\n                          artist_tf-idf                    song_tf-idf  \\\n0                                 Wilco                 Passenger Side   \n1                             Rivermaya                            214   \n2                         Drowning Pool                      Blindfold   \n3                          Toni Braxton  Let Me Show You the Way (Out)   \n4                          3 Doors Down                    Still Alive   \n5                          Judas Priest                    All the Way   \n6                         The Alchemist                  Hold You Down   \n7                               The Cab                           Moon   \n8                            Zola Blood                       Play Out   \n9  Daron Malakian and Scars on Broadway                   Never Forget   \n\n                   album_tf-idf  score_tf-idf           id_bert  \\\n0                          A.M.      0.419339  sUthByiziG0pdfZW   \n1                 Greatest Hits      0.395458  KNWTsGsMKrMUOZGP   \n2           Resilience (Deluxe)      0.330584  PdcTvt7fWomuG5NV   \n3             More Than A Woman      0.326977  h2ap0A9dSDkFmO8D   \n4              Us And The Night      0.317766  VHEVsKLSHv9FLNrx   \n5                Point Of Entry      0.311683  4lncHvBfKlBM4yzL   \n6                  1st Infantry      0.311585  FP3QItPNaS9TqPKm   \n7                    Lock Me Up      0.310115  JOXJtqBv7ptLmaK3   \n8  Play Out / Pieces of the Day      0.304793  gKHosWLDavB700UY   \n9                      Dictator      0.302866  bUyESS0Y1RhTzjsM   \n\n          artist_bert          song_bert  \\\n0         James Blunt        So Far Gone   \n1   Black Veil Brides    Knives and Pens   \n2     The Dear Hunter            Whisper   \n3     Alice in Chains      Your Decision   \n4    Emilíana Torrini      Gollum's Song   \n5           Kate Bush      Hammer Horror   \n6               Trapt         Headstrong   \n7   Breaking Benjamin  What Lies Beneath   \n8  The Appleseed Cast         Fight Song   \n9       Reba McEntire   Consider Me Gone   \n\n                                          album_bert  score_bert  \n0                               Some Kind Of Trouble    0.679692  \n1                             We Stitch These Wounds    0.662400  \n2                                   Migrant (Deluxe)    0.650715  \n3                            Black Gives Way To Blue    0.648354  \n4  The Lord Of The Rings: The Two Towers (Origina...    0.647456  \n5                                          Lionheart    0.646831  \n6                                              Trapt    0.642641  \n7                                         Dear Agony    0.638531  \n8                                  Two Conversations    0.634198  \n9                                 Keep On Loving You    0.629430  ",
      "text/html": "<div>\n<style scoped>\n    .dataframe tbody tr th:only-of-type {\n        vertical-align: middle;\n    }\n\n    .dataframe tbody tr th {\n        vertical-align: top;\n    }\n\n    .dataframe thead th {\n        text-align: right;\n    }\n</style>\n<table border=\"1\" class=\"dataframe\">\n  <thead>\n    <tr style=\"text-align: right;\">\n      <th></th>\n      <th>id_rand</th>\n      <th>artist_rand</th>\n      <th>song_rand</th>\n      <th>album_rand</th>\n      <th>score_rand</th>\n      <th>id_word2vec</th>\n      <th>artist_word2vec</th>\n      <th>song_word2vec</th>\n      <th>album_word2vec</th>\n      <th>score_word2vec</th>\n      <th>id_tf-idf</th>\n      <th>artist_tf-idf</th>\n      <th>song_tf-idf</th>\n      <th>album_tf-idf</th>\n      <th>score_tf-idf</th>\n      <th>id_bert</th>\n      <th>artist_bert</th>\n      <th>song_bert</th>\n      <th>album_bert</th>\n      <th>score_bert</th>\n    </tr>\n  </thead>\n  <tbody>\n    <tr>\n      <th>0</th>\n      <td>09mWmQm7ixF4cCjx</td>\n      <td>The Word Alive</td>\n      <td>Life Cycles</td>\n      <td>Life Cycles</td>\n      <td>0.999971</td>\n      <td>xuvOIIAf7xHY4tvm</td>\n      <td>Joy Division</td>\n      <td>24 Hours</td>\n      <td>Last Order (Hd Remastered)</td>\n      <td>0.926218</td>\n      <td>GjIaZcckFpTQqF8N</td>\n      <td>Wilco</td>\n      <td>Passenger Side</td>\n      <td>A.M.</td>\n      <td>0.419339</td>\n      <td>sUthByiziG0pdfZW</td>\n      <td>James Blunt</td>\n      <td>So Far Gone</td>\n      <td>Some Kind Of Trouble</td>\n      <td>0.679692</td>\n    </tr>\n    <tr>\n      <th>1</th>\n      <td>XOFm1ByFjWrqmDjZ</td>\n      <td>Gang of Four</td>\n      <td>Not Great Men</td>\n      <td>Entertainment!</td>\n      <td>0.999939</td>\n      <td>qysJrLPfxSCkdg9o</td>\n      <td>Emery</td>\n      <td>The Ponytail Parades</td>\n      <td>The Weak's End</td>\n      <td>0.925573</td>\n      <td>HshAaiNsDdV1W4nq</td>\n      <td>Rivermaya</td>\n      <td>214</td>\n      <td>Greatest Hits</td>\n      <td>0.395458</td>\n      <td>KNWTsGsMKrMUOZGP</td>\n      <td>Black Veil Brides</td>\n      <td>Knives and Pens</td>\n      <td>We Stitch These Wounds</td>\n      <td>0.662400</td>\n    </tr>\n    <tr>\n      <th>2</th>\n      <td>vDA5C0hXzF96nStu</td>\n      <td>Automatic Loveletter</td>\n      <td>Hush</td>\n      <td>Recover EP</td>\n      <td>0.999889</td>\n      <td>f7nMTiV0NHDaPOIK</td>\n      <td>Phil Collins</td>\n      <td>Against All Odds</td>\n      <td>The Singles (Expanded)</td>\n      <td>0.924615</td>\n      <td>Sr6cMgnJq7UmdnyL</td>\n      <td>Drowning Pool</td>\n      <td>Blindfold</td>\n      <td>Resilience (Deluxe)</td>\n      <td>0.330584</td>\n      <td>PdcTvt7fWomuG5NV</td>\n      <td>The Dear Hunter</td>\n      <td>Whisper</td>\n      <td>Migrant (Deluxe)</td>\n      <td>0.650715</td>\n    </tr>\n    <tr>\n      <th>3</th>\n      <td>ZjyPtH7FzoN6GC1N</td>\n      <td>The Sons</td>\n      <td>Too Much Of A Good Thing</td>\n      <td>Dumb &amp; Dumber</td>\n      <td>0.999866</td>\n      <td>fraglE0va6B3zUwB</td>\n      <td>Phil Collins</td>\n      <td>Against All Odds (Take a Look at Me Now)</td>\n      <td>The Singles (Expanded)</td>\n      <td>0.924312</td>\n      <td>mreAbgfRVLT1349Q</td>\n      <td>Toni Braxton</td>\n      <td>Let Me Show You the Way (Out)</td>\n      <td>More Than A Woman</td>\n      <td>0.326977</td>\n      <td>h2ap0A9dSDkFmO8D</td>\n      <td>Alice in Chains</td>\n      <td>Your Decision</td>\n      <td>Black Gives Way To Blue</td>\n      <td>0.648354</td>\n    </tr>\n    <tr>\n      <th>4</th>\n      <td>qpzEfMcAgRw2249D</td>\n      <td>El-P</td>\n      <td>Drones Over BKLYN</td>\n      <td>Cancer 4 Cure</td>\n      <td>0.999842</td>\n      <td>0IHQDwO3FnNYE7VY</td>\n      <td>Mariah Carey</td>\n      <td>Against All Odds (Take a Look at Me Now)</td>\n      <td>Greatest Hits</td>\n      <td>0.922265</td>\n      <td>EV3VRzYbYoFjmj1w</td>\n      <td>3 Doors Down</td>\n      <td>Still Alive</td>\n      <td>Us And The Night</td>\n      <td>0.317766</td>\n      <td>VHEVsKLSHv9FLNrx</td>\n      <td>Emilíana Torrini</td>\n      <td>Gollum's Song</td>\n      <td>The Lord Of The Rings: The Two Towers (Origina...</td>\n      <td>0.647456</td>\n    </tr>\n    <tr>\n      <th>5</th>\n      <td>dhstywSKoK79R4xo</td>\n      <td>EME-15</td>\n      <td>Solamente Tú</td>\n      <td>EME-15</td>\n      <td>0.999752</td>\n      <td>hSXdyzqVnjWnEZbQ</td>\n      <td>BTS</td>\n      <td>First Love</td>\n      <td>Wings</td>\n      <td>0.920089</td>\n      <td>tXJHzoQa51DdyOX7</td>\n      <td>Judas Priest</td>\n      <td>All the Way</td>\n      <td>Point Of Entry</td>\n      <td>0.311683</td>\n      <td>4lncHvBfKlBM4yzL</td>\n      <td>Kate Bush</td>\n      <td>Hammer Horror</td>\n      <td>Lionheart</td>\n      <td>0.646831</td>\n    </tr>\n    <tr>\n      <th>6</th>\n      <td>zouQdm6DhqT3aD6x</td>\n      <td>Hot Chip</td>\n      <td>I Feel Better</td>\n      <td>One Life Stand</td>\n      <td>0.999721</td>\n      <td>HgImdPHY2r03vbTh</td>\n      <td>Dinosaur Jr.</td>\n      <td>Keep The Glove</td>\n      <td>Bug</td>\n      <td>0.918289</td>\n      <td>hPjLYCrpOH1xIdoi</td>\n      <td>The Alchemist</td>\n      <td>Hold You Down</td>\n      <td>1st Infantry</td>\n      <td>0.311585</td>\n      <td>FP3QItPNaS9TqPKm</td>\n      <td>Trapt</td>\n      <td>Headstrong</td>\n      <td>Trapt</td>\n      <td>0.642641</td>\n    </tr>\n    <tr>\n      <th>7</th>\n      <td>sN69P1rPgykLK42A</td>\n      <td>Patti Smith</td>\n      <td>This Is the Girl</td>\n      <td>Banga</td>\n      <td>0.999589</td>\n      <td>n2jEWkacDcvJ6eJ8</td>\n      <td>Stray Kids</td>\n      <td>I am YOU</td>\n      <td>I am YOU</td>\n      <td>0.918077</td>\n      <td>nDiuhKCc9z5DOBcD</td>\n      <td>The Cab</td>\n      <td>Moon</td>\n      <td>Lock Me Up</td>\n      <td>0.310115</td>\n      <td>JOXJtqBv7ptLmaK3</td>\n      <td>Breaking Benjamin</td>\n      <td>What Lies Beneath</td>\n      <td>Dear Agony</td>\n      <td>0.638531</td>\n    </tr>\n    <tr>\n      <th>8</th>\n      <td>Sr7I3A9W3ZHJm5hp</td>\n      <td>The Velvet Underground</td>\n      <td>Heroin</td>\n      <td>The Velvet Underground &amp; Nico 45th Anniversary</td>\n      <td>0.999565</td>\n      <td>Q0FuvjirjmMi2Xy4</td>\n      <td>Dream Theater</td>\n      <td>The Bigger Picture</td>\n      <td>Dream Theater</td>\n      <td>0.917097</td>\n      <td>lLr42PhCGChOItPt</td>\n      <td>Zola Blood</td>\n      <td>Play Out</td>\n      <td>Play Out / Pieces of the Day</td>\n      <td>0.304793</td>\n      <td>gKHosWLDavB700UY</td>\n      <td>The Appleseed Cast</td>\n      <td>Fight Song</td>\n      <td>Two Conversations</td>\n      <td>0.634198</td>\n    </tr>\n    <tr>\n      <th>9</th>\n      <td>cHTSbjh3LW3dGT0m</td>\n      <td>Carrie Underwood</td>\n      <td>Spinning Bottles</td>\n      <td>Cry Pretty</td>\n      <td>0.999353</td>\n      <td>pAd7kQdenSBvW8Ml</td>\n      <td>Mineral</td>\n      <td>Parking Lot</td>\n      <td>The Power of Failing</td>\n      <td>0.916767</td>\n      <td>S7TjeaBqPK9kCnZG</td>\n      <td>Daron Malakian and Scars on Broadway</td>\n      <td>Never Forget</td>\n      <td>Dictator</td>\n      <td>0.302866</td>\n      <td>bUyESS0Y1RhTzjsM</td>\n      <td>Reba McEntire</td>\n      <td>Consider Me Gone</td>\n      <td>Keep On Loving You</td>\n      <td>0.629430</td>\n    </tr>\n  </tbody>\n</table>\n</div>"
     },
     "execution_count": 199,
     "metadata": {},
     "output_type": "execute_result"
    }
   ],
   "source": [
    "dfs[2]"
   ],
   "metadata": {
    "collapsed": false,
    "ExecuteTime": {
     "end_time": "2023-11-01T20:43:34.343981Z",
     "start_time": "2023-11-01T20:43:34.287900800Z"
    }
   }
  },
  {
   "cell_type": "markdown",
   "source": [
    "`(title=\"Encoder\", artist=\"Pendulum\")`\n",
    "\n",
    "- we particularly chose this song, because we wanted to see how the system would perform with electronic music. Electronic music often has very little lyrics, so we suspected the system to have a very hard time finding similar songs for this query.\n",
    "- word2vec received three times the same song (with the same lyrics). `Against All Odds` probably has a lot of similar words or phrases in its lyrics. But other than that it is not very similar (different genre, artist). It also received two K-Pop songs, which seems like a very different genre.\n",
    "- With tfidf, the results were also of different genre and artist\n",
    "- With bert, we received  songs with a lot of different genres. But no electronic music\n",
    "- These results show that the system has a hard time with electronic music. This gives us some evidence to strengthen our initial claim, that it is because of the lyrics, or the lack thereof. However, the reason could also be a bias of the data. Because we only have lyrics as features, electronic songs might be underrepresented."
   ],
   "metadata": {
    "collapsed": false
   }
  }
 ],
 "metadata": {
  "kernelspec": {
   "display_name": "Python 3",
   "language": "python",
   "name": "python3"
  },
  "language_info": {
   "codemirror_mode": {
    "name": "ipython",
    "version": 3
   },
   "file_extension": ".py",
   "mimetype": "text/x-python",
   "name": "python",
   "nbconvert_exporter": "python",
   "pygments_lexer": "ipython3",
   "version": "3.8.8"
  }
 },
 "nbformat": 4,
 "nbformat_minor": 0
}
