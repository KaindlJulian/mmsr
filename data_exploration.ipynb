{
 "cells": [
  {
   "cell_type": "markdown",
   "source": [
    "# Data Exploration"
   ],
   "metadata": {
    "collapsed": false
   }
  },
  {
   "cell_type": "code",
   "execution_count": 1,
   "outputs": [],
   "source": [
    "import pandas as pd\n",
    "import numpy as np"
   ],
   "metadata": {
    "collapsed": false,
    "ExecuteTime": {
     "end_time": "2023-10-19T00:45:58.286581800Z",
     "start_time": "2023-10-19T00:45:57.990523Z"
    }
   }
  },
  {
   "cell_type": "code",
   "execution_count": 2,
   "outputs": [],
   "source": [
    "def read(feature, h=None):\n",
    "    return pd.read_csv(f'data/id_{feature}_mmsr.tsv', delimiter='\\t',  header=h)\n",
    "\n",
    "def embed_and_merge(df1, df2, col_name):\n",
    "    embedding = df2.columns.difference(['id'], sort=False)\n",
    "    df2[col_name] = df2[embedding].apply(lambda x: np.array(x, dtype=float), axis=1)\n",
    "    df2.drop(embedding, inplace=True, axis=1)\n",
    "    return pd.merge(df1, df2, left_on='id', right_on='id', how='left')"
   ],
   "metadata": {
    "collapsed": false,
    "ExecuteTime": {
     "end_time": "2023-10-19T00:45:58.300811100Z",
     "start_time": "2023-10-19T00:45:58.288581600Z"
    }
   }
  },
  {
   "cell_type": "code",
   "execution_count": 3,
   "outputs": [],
   "source": [
    "df = read('information', 0)"
   ],
   "metadata": {
    "collapsed": false,
    "ExecuteTime": {
     "end_time": "2023-10-19T00:45:58.331807300Z",
     "start_time": "2023-10-19T00:45:58.302808700Z"
    }
   }
  },
  {
   "cell_type": "code",
   "execution_count": 4,
   "outputs": [],
   "source": [
    "# read bert embedding\n",
    "bert = read('lyrics_bert', 0)\n",
    "df = embed_and_merge(df, bert, 'bert_embedding')"
   ],
   "metadata": {
    "collapsed": false,
    "ExecuteTime": {
     "end_time": "2023-10-19T00:45:59.458808400Z",
     "start_time": "2023-10-19T00:45:58.332808Z"
    }
   }
  },
  {
   "cell_type": "code",
   "execution_count": 5,
   "outputs": [],
   "source": [
    "# read word2vec embedding\n",
    "word2vec = read('lyrics_word2vec', 0)\n",
    "df = embed_and_merge(df, word2vec, 'word2vec_embedding')"
   ],
   "metadata": {
    "collapsed": false,
    "ExecuteTime": {
     "end_time": "2023-10-19T00:45:59.932808500Z",
     "start_time": "2023-10-19T00:45:59.459808500Z"
    }
   }
  },
  {
   "cell_type": "code",
   "execution_count": 6,
   "outputs": [],
   "source": [
    "# read tf-idf term weighting\n",
    "tfidf_weighting = read('lyrics_tf-idf', 0)\n",
    "df = embed_and_merge(df, tfidf_weighting, 'tf-idf')"
   ],
   "metadata": {
    "collapsed": false,
    "ExecuteTime": {
     "end_time": "2023-10-19T00:46:00.391807400Z",
     "start_time": "2023-10-19T00:45:59.933807800Z"
    }
   }
  },
  {
   "cell_type": "code",
   "execution_count": 9,
   "outputs": [
    {
     "name": "stdout",
     "output_type": "stream",
     "text": [
      "<class 'pandas.core.frame.DataFrame'>\n",
      "RangeIndex: 10095 entries, 0 to 10094\n",
      "Data columns (total 7 columns):\n",
      " #   Column              Non-Null Count  Dtype \n",
      "---  ------              --------------  ----- \n",
      " 0   id                  10095 non-null  object\n",
      " 1   artist              10095 non-null  object\n",
      " 2   song                10095 non-null  object\n",
      " 3   album_name          10095 non-null  object\n",
      " 4   bert_embedding      10095 non-null  object\n",
      " 5   word2vec_embedding  10095 non-null  object\n",
      " 6   tf-idf              10095 non-null  object\n",
      "dtypes: object(7)\n",
      "memory usage: 552.2+ KB\n"
     ]
    },
    {
     "data": {
      "text/plain": "                     id                       artist  \\\n0      01Yfj2T3YTwJ1Yfy                  We As Human   \n1      01gyRHLquwXDlhkO         The Notorious B.I.G.   \n2      01rMxQv6vhyE1oQX          Against the Current   \n3      02RGE9FNH65RtMS7                     Barthezz   \n4      02ZnlCGZEbkfCDxo                Laura Pausini   \n...                 ...                          ...   \n10090  zyzILCQvVeUFIINi                Crowded House   \n10091  zzgS4ZqyswamEWNj               Britney Spears   \n10092  zzoFYDMlqU1X2zz1                   Thundercat   \n10093  zzpkRCGA5ud8q4mv                 Otis Redding   \n10094  zzx8CWdM7qkxKQpC  Ted Leo and the Pharmacists   \n\n                                            song  \\\n0      Take The Bullets Away (feat. Lacey Sturm)   \n1                           Somebody's Gotta Die   \n2                                 Chasing Ghosts   \n3                                       Infected   \n4                               Tra Te E Il Mare   \n...                                          ...   \n10090                              When You Come   \n10091                   My Only Wish (This Year)   \n10092                                        DUI   \n10093                               Rock Me Baby   \n10094                    Counting Down the Hours   \n\n                                        album_name  \\\n0                                      We As Human   \n1            Life After Death (Remastered Edition)   \n2                                     In Our Bones   \n3             Trance - The Early Years (1997-2002)   \n4      The Best of Laura Pausini - E Ritorno Da Te   \n...                                            ...   \n10090                            Temple Of Low Men   \n10091                           Platinum Christmas   \n10092                                        Drunk   \n10093                                    Otis Blue   \n10094                             Shake the Sheets   \n\n                                          bert_embedding  \\\n0      [0.0302475523203611, 0.0352500043809413, 0.010...   \n1      [0.0084422621876001, 0.0302564185112714, 0.009...   \n2      [0.0490818135440349, 0.0148476688191294, 0.001...   \n3      [0.0445394963026046, 0.0214906893670558, 0.013...   \n4      [0.0514551289379596, 0.0297695714980363, -0.01...   \n...                                                  ...   \n10090  [0.006713552866131, 0.0480893477797508, -0.001...   \n10091  [0.0098905526101589, 0.0401467233896255, -0.02...   \n10092  [0.0101165119558572, 0.0388841480016708, -0.01...   \n10093  [-0.0166116580367088, 0.0266939438879489, -0.0...   \n10094  [0.0070628975518047, 0.0539373308420181, 0.000...   \n\n                                      word2vec_embedding  \\\n0      [0.0193592727054678, 0.0232394714425702, 0.028...   \n1      [0.018537292381979, 0.0113115924403394, 0.0107...   \n2      [0.0227837218553759, 0.0231641749730655, 0.012...   \n3      [0.0381116103401342, 0.0278804157207017, 0.016...   \n4      [0.0182936789026777, -0.0064870788035669, 0.00...   \n...                                                  ...   \n10090  [0.0195101330379449, 0.0236336907562543, 0.011...   \n10091  [0.0268563718791583, 0.0082648759004199, 0.011...   \n10092  [0.0051499218912795, 0.0028818239457905, 0.017...   \n10093  [0.0370260450523346, 0.0159991827379498, -0.00...   \n10094  [0.0294775550027151, 0.0302836241438903, 0.012...   \n\n                                                  tf-idf  \n0      [0.0, 0.0, 0.0, 0.0, 0.0, 0.0818293914712727, ...  \n1      [0.0, 0.0, 0.0, 0.0, 0.0, 0.0, 0.0, 0.0, 0.0, ...  \n2      [0.0, 0.0, 0.0, 0.0, 0.0, 0.0, 0.0, 0.0, 0.0, ...  \n3      [0.0, 0.0, 0.0, 0.0, 0.0, 0.0, 0.0, 0.0, 0.0, ...  \n4      [0.0, 0.0, 0.0, 0.0, 0.0, 0.2413163920156013, ...  \n...                                                  ...  \n10090  [0.0, 0.0, 0.079623055470056, 0.0, 0.0, 0.0, 0...  \n10091  [0.0, 0.0, 0.0, 0.0, 0.0, 0.0, 0.0, 0.0, 0.0, ...  \n10092  [0.0, 0.0, 0.0, 0.0, 0.0, 0.0, 0.0, 0.0, 0.0, ...  \n10093  [0.0, 0.0, 0.0, 0.0, 0.0, 0.0, 0.0, 0.0, 0.0, ...  \n10094  [0.0, 0.0, 0.0, 0.0748577176019516, 0.0, 0.0, ...  \n\n[10095 rows x 7 columns]",
      "text/html": "<div>\n<style scoped>\n    .dataframe tbody tr th:only-of-type {\n        vertical-align: middle;\n    }\n\n    .dataframe tbody tr th {\n        vertical-align: top;\n    }\n\n    .dataframe thead th {\n        text-align: right;\n    }\n</style>\n<table border=\"1\" class=\"dataframe\">\n  <thead>\n    <tr style=\"text-align: right;\">\n      <th></th>\n      <th>id</th>\n      <th>artist</th>\n      <th>song</th>\n      <th>album_name</th>\n      <th>bert_embedding</th>\n      <th>word2vec_embedding</th>\n      <th>tf-idf</th>\n    </tr>\n  </thead>\n  <tbody>\n    <tr>\n      <th>0</th>\n      <td>01Yfj2T3YTwJ1Yfy</td>\n      <td>We As Human</td>\n      <td>Take The Bullets Away (feat. Lacey Sturm)</td>\n      <td>We As Human</td>\n      <td>[0.0302475523203611, 0.0352500043809413, 0.010...</td>\n      <td>[0.0193592727054678, 0.0232394714425702, 0.028...</td>\n      <td>[0.0, 0.0, 0.0, 0.0, 0.0, 0.0818293914712727, ...</td>\n    </tr>\n    <tr>\n      <th>1</th>\n      <td>01gyRHLquwXDlhkO</td>\n      <td>The Notorious B.I.G.</td>\n      <td>Somebody's Gotta Die</td>\n      <td>Life After Death (Remastered Edition)</td>\n      <td>[0.0084422621876001, 0.0302564185112714, 0.009...</td>\n      <td>[0.018537292381979, 0.0113115924403394, 0.0107...</td>\n      <td>[0.0, 0.0, 0.0, 0.0, 0.0, 0.0, 0.0, 0.0, 0.0, ...</td>\n    </tr>\n    <tr>\n      <th>2</th>\n      <td>01rMxQv6vhyE1oQX</td>\n      <td>Against the Current</td>\n      <td>Chasing Ghosts</td>\n      <td>In Our Bones</td>\n      <td>[0.0490818135440349, 0.0148476688191294, 0.001...</td>\n      <td>[0.0227837218553759, 0.0231641749730655, 0.012...</td>\n      <td>[0.0, 0.0, 0.0, 0.0, 0.0, 0.0, 0.0, 0.0, 0.0, ...</td>\n    </tr>\n    <tr>\n      <th>3</th>\n      <td>02RGE9FNH65RtMS7</td>\n      <td>Barthezz</td>\n      <td>Infected</td>\n      <td>Trance - The Early Years (1997-2002)</td>\n      <td>[0.0445394963026046, 0.0214906893670558, 0.013...</td>\n      <td>[0.0381116103401342, 0.0278804157207017, 0.016...</td>\n      <td>[0.0, 0.0, 0.0, 0.0, 0.0, 0.0, 0.0, 0.0, 0.0, ...</td>\n    </tr>\n    <tr>\n      <th>4</th>\n      <td>02ZnlCGZEbkfCDxo</td>\n      <td>Laura Pausini</td>\n      <td>Tra Te E Il Mare</td>\n      <td>The Best of Laura Pausini - E Ritorno Da Te</td>\n      <td>[0.0514551289379596, 0.0297695714980363, -0.01...</td>\n      <td>[0.0182936789026777, -0.0064870788035669, 0.00...</td>\n      <td>[0.0, 0.0, 0.0, 0.0, 0.0, 0.2413163920156013, ...</td>\n    </tr>\n    <tr>\n      <th>...</th>\n      <td>...</td>\n      <td>...</td>\n      <td>...</td>\n      <td>...</td>\n      <td>...</td>\n      <td>...</td>\n      <td>...</td>\n    </tr>\n    <tr>\n      <th>10090</th>\n      <td>zyzILCQvVeUFIINi</td>\n      <td>Crowded House</td>\n      <td>When You Come</td>\n      <td>Temple Of Low Men</td>\n      <td>[0.006713552866131, 0.0480893477797508, -0.001...</td>\n      <td>[0.0195101330379449, 0.0236336907562543, 0.011...</td>\n      <td>[0.0, 0.0, 0.079623055470056, 0.0, 0.0, 0.0, 0...</td>\n    </tr>\n    <tr>\n      <th>10091</th>\n      <td>zzgS4ZqyswamEWNj</td>\n      <td>Britney Spears</td>\n      <td>My Only Wish (This Year)</td>\n      <td>Platinum Christmas</td>\n      <td>[0.0098905526101589, 0.0401467233896255, -0.02...</td>\n      <td>[0.0268563718791583, 0.0082648759004199, 0.011...</td>\n      <td>[0.0, 0.0, 0.0, 0.0, 0.0, 0.0, 0.0, 0.0, 0.0, ...</td>\n    </tr>\n    <tr>\n      <th>10092</th>\n      <td>zzoFYDMlqU1X2zz1</td>\n      <td>Thundercat</td>\n      <td>DUI</td>\n      <td>Drunk</td>\n      <td>[0.0101165119558572, 0.0388841480016708, -0.01...</td>\n      <td>[0.0051499218912795, 0.0028818239457905, 0.017...</td>\n      <td>[0.0, 0.0, 0.0, 0.0, 0.0, 0.0, 0.0, 0.0, 0.0, ...</td>\n    </tr>\n    <tr>\n      <th>10093</th>\n      <td>zzpkRCGA5ud8q4mv</td>\n      <td>Otis Redding</td>\n      <td>Rock Me Baby</td>\n      <td>Otis Blue</td>\n      <td>[-0.0166116580367088, 0.0266939438879489, -0.0...</td>\n      <td>[0.0370260450523346, 0.0159991827379498, -0.00...</td>\n      <td>[0.0, 0.0, 0.0, 0.0, 0.0, 0.0, 0.0, 0.0, 0.0, ...</td>\n    </tr>\n    <tr>\n      <th>10094</th>\n      <td>zzx8CWdM7qkxKQpC</td>\n      <td>Ted Leo and the Pharmacists</td>\n      <td>Counting Down the Hours</td>\n      <td>Shake the Sheets</td>\n      <td>[0.0070628975518047, 0.0539373308420181, 0.000...</td>\n      <td>[0.0294775550027151, 0.0302836241438903, 0.012...</td>\n      <td>[0.0, 0.0, 0.0, 0.0748577176019516, 0.0, 0.0, ...</td>\n    </tr>\n  </tbody>\n</table>\n<p>10095 rows × 7 columns</p>\n</div>"
     },
     "execution_count": 9,
     "metadata": {},
     "output_type": "execute_result"
    }
   ],
   "source": [
    "df.info()\n",
    "df"
   ],
   "metadata": {
    "collapsed": false,
    "ExecuteTime": {
     "end_time": "2023-10-19T00:47:18.293031400Z",
     "start_time": "2023-10-19T00:47:18.230465300Z"
    }
   }
  }
 ],
 "metadata": {
  "kernelspec": {
   "display_name": "Python 3",
   "language": "python",
   "name": "python3"
  },
  "language_info": {
   "codemirror_mode": {
    "name": "ipython",
    "version": 2
   },
   "file_extension": ".py",
   "mimetype": "text/x-python",
   "name": "python",
   "nbconvert_exporter": "python",
   "pygments_lexer": "ipython2",
   "version": "2.7.6"
  }
 },
 "nbformat": 4,
 "nbformat_minor": 0
}
